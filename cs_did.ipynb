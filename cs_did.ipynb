{
 "cells": [
  {
   "cell_type": "markdown",
   "metadata": {},
   "source": [
    "Setup Environment"
   ]
  },
  {
   "cell_type": "code",
   "execution_count": 12,
   "metadata": {
    "vscode": {
     "languageId": "r"
    }
   },
   "outputs": [
    {
     "data": {
      "text/html": [
       "'/Users/jan/Dropbox/UP_EPQM/2222/MA/powerlinemonsters'"
      ],
      "text/latex": [
       "'/Users/jan/Dropbox/UP\\_EPQM/2222/MA/powerlinemonsters'"
      ],
      "text/markdown": [
       "'/Users/jan/Dropbox/UP_EPQM/2222/MA/powerlinemonsters'"
      ],
      "text/plain": [
       "[1] \"/Users/jan/Dropbox/UP_EPQM/2222/MA/powerlinemonsters\""
      ]
     },
     "metadata": {},
     "output_type": "display_data"
    }
   ],
   "source": [
    "# Clear the R environment and set working directory\n",
    "rm(list = ls())\n",
    "setwd(\"/Users/jan/Dropbox/UP_EPQM/2222/MA/powerlinemonsters\")\n",
    "path <- getwd()\n",
    "path \n",
    "options(warn=-1)"
   ]
  },
  {
   "cell_type": "markdown",
   "metadata": {},
   "source": [
    "Load packages"
   ]
  },
  {
   "cell_type": "code",
   "execution_count": 13,
   "metadata": {
    "vscode": {
     "languageId": "r"
    }
   },
   "outputs": [
    {
     "data": {
      "text/html": [
       "'/Library/Frameworks/R.framework/Versions/4.2-arm64/Resources/library'"
      ],
      "text/latex": [
       "'/Library/Frameworks/R.framework/Versions/4.2-arm64/Resources/library'"
      ],
      "text/markdown": [
       "'/Library/Frameworks/R.framework/Versions/4.2-arm64/Resources/library'"
      ],
      "text/plain": [
       "[1] \"/Library/Frameworks/R.framework/Versions/4.2-arm64/Resources/library\""
      ]
     },
     "metadata": {},
     "output_type": "display_data"
    }
   ],
   "source": [
    "# Install and load additional packages needed\n",
    "#install.packages(\"did\")\n",
    "library(did)\n",
    "library(rio)\n",
    "library(ggplot2)\n",
    "library(ggpubr)\n",
    "library(hash)\n",
    ".libPaths()"
   ]
  },
  {
   "cell_type": "markdown",
   "metadata": {},
   "source": [
    "DiD for BTW no controls"
   ]
  },
  {
   "cell_type": "code",
   "execution_count": 14,
   "metadata": {
    "vscode": {
     "languageId": "r"
    }
   },
   "outputs": [],
   "source": [
    "# read in the data set\n",
    "btw <- import(sprintf(\"%s/data/btw_treat.csv\", path))"
   ]
  },
  {
   "cell_type": "code",
   "execution_count": 15,
   "metadata": {
    "vscode": {
     "languageId": "r"
    }
   },
   "outputs": [
    {
     "name": "stdout",
     "output_type": "stream",
     "text": [
      "[1] \"Union\"\n",
      "[1] \"SPD\"\n",
      "[1] \"FDP\"\n",
      "[1] \"Linke\"\n",
      "[1] \"Grüne\"\n",
      "[1] \"Andere\"\n"
     ]
    }
   ],
   "source": [
    "parties <- c('Union', 'SPD', 'FDP', 'Linke', 'Grüne', 'Andere')\n",
    "treatments_dict <- hash('treatment_0'='Direct Line', 'treatment_15'='Within 0-15 km', 'treatment_30'='Within 15-30 km', 'treatment_50'='Within 30-50 km')\n",
    "treatments <- keys(treatments_dict)\n",
    "results  <- list()\n",
    "# set up Fig Number\n",
    "n <- 1\n",
    "for(party in parties){\n",
    "  figures  <- list()\n",
    "  for(treatment in treatments){\n",
    "    result <- att_gt(yname = party,\n",
    "                  gname = treatment,\n",
    "                  idname = 'AGS',\n",
    "                  panel = TRUE,\n",
    "                  tname = 'year',\n",
    "                  xformla = ~ 1,\n",
    "                  data = btw,\n",
    "                  est_method = 'reg',\n",
    "                  anticipation = 0,\n",
    "                  control_group = 'nevertreated',\n",
    "                  clustervars = c('AGS'),\n",
    "                  bstrap = TRUE,\n",
    "                  cband = TRUE,\n",
    "                  allow_unbalanced_panel = TRUE,\n",
    "                  \n",
    "    )\n",
    "    results[[length(results)+1]] <- result\n",
    "    # calculate ATT\n",
    "    att <- aggte(result, type = \"group\", bstrap = TRUE, clustervars = c('AGS'))\n",
    "    # plot results\n",
    "    result_fig <- ggdid(result, \n",
    "              ylim = c(floor(min(result$att - result$se * 2.345 - 1)), ceiling(max(result$att + result$se * 2.345 + 1))),\n",
    "              ncol = 3, ax_text_size = 8, grtitle='', title_size = 10, legend=F) +\n",
    "              labs(caption = sprintf('Overall ATT (SE): %.3f (%.3f) \\n Wald-p: %.3f; Municipalities: %s \\n' ,\n",
    "              att$overall.att, att$overall.se, result$Wpval, format(format(result$n, big.mark=\",\"), big.mark=\",\"))) +\n",
    "              theme(plot.caption = element_text(hjust=0.5, size=8),\n",
    "              panel.background = element_rect(fill='transparent'),\n",
    "              plot.background = element_rect(fill='transparent', color=NA),\n",
    "              legend.background = element_rect(fill='transparent'),\n",
    "              legend.box.background = element_rect(fill='transparent'),\n",
    "              plot.margin=unit(c(0,0,0,0),\"cm\"))\n",
    "    # Get caption for ATT plot\n",
    "    cap = ''\n",
    "      for(i in 1:length(att$DIDparams$glist)) {\n",
    "        cap <- sprintf('%s ATT (SE): %.3f (%.3f)\\n%s', att$DIDparams$glist[[i]], att$att.egt[[i]], att$se.egt[[i]], cap)\n",
    "      }\n",
    "    # Plot ATT\n",
    "    att_fig <- ggdid(att, legend=F, x_lab='', ax_text_size = 8, ylab='', title='ATT by group', title_size = 10) + \n",
    "    labs(caption = cap) + \n",
    "              theme(plot.caption = element_text(hjust=0.5, size=8), \n",
    "              axis.title.x = element_blank(),\n",
    "              axis.text.y = element_text(angle=90, size=6, hjust=0.5),\n",
    "              panel.background = element_rect(fill='transparent'),\n",
    "              plot.background = element_rect(fill='transparent', color=NA),\n",
    "              legend.background = element_rect(fill='transparent'),\n",
    "              legend.box.background = element_rect(fill='transparent'),\n",
    "              plot.margin=unit(c(0,0,0,0),\"cm\"))\n",
    "    # Combine and annotate Group and ATT plot\n",
    "    # Get number of results plots\n",
    "    nr <- length(unique(result_fig$data$grtitle))\n",
    "    combined_fig <- ggarrange(result_fig, att_fig, widths = c(nr, 1)) + \n",
    "                    theme(plot.margin=unit(c(0,0,0,0),\"cm\"))\n",
    "    combined_fig_anno <- annotate_figure(combined_fig,\n",
    "                  top = text_grob(sprintf('Treatment: %s', treatments_dict[[treatment]])))\n",
    "    figures[[length(figures)+1]] <- combined_fig_anno\n",
    "  }\n",
    "  # Combine Figures for all treatments\n",
    "  arranged_fig <- ggarrange(plotlist=figures, nrow = 4, ncol = 1, common.legend = TRUE)\n",
    "  # get legend\n",
    "  result_fig <- ggdid(result) +\n",
    "              theme(\n",
    "              legend.background = element_rect(fill='transparent', color='transparent'),\n",
    "              legend.box.background = element_rect(fill='transparent', color='transparent'),\n",
    "              plot.margin=unit(c(0,0,0,0),\"cm\"))\n",
    "  leg <- get_legend(result_fig)\n",
    "  # add legend\n",
    "  arranged_fig_leg <- ggarrange(arranged_fig, leg, nrow = 2, ncol = 1, heights = c(10, 1))\n",
    "  # Annotate final figure\n",
    "  final_fig <- annotate_figure(arranged_fig_leg,\n",
    "                  top = text_grob(sprintf(\"BTW - Effect on %s's vote share\", party), face = \"bold\", size = 14),\n",
    "                  bottom = text_grob('Control Group: Never Treated. Estimation Method: Regression \\n Standard Errors clustered on the municipality level.', size = 10))\n",
    "  # Add Figure number\n",
    "  final_fig <- annotate_figure(final_fig, top = text_grob(sprintf(\"Fig.: R%s\", n), face = \"bold\", size = 10))\n",
    "  # Save\n",
    "  ggsave(sprintf('%s_%s.png', n, party), plot = final_fig, path = sprintf('%s/figures/R/BTW/pooled', path), units = 'cm', width = 21, height = 21, dpi=\"print\")\n",
    "  print(party)\n",
    "  n <- n + 1\n",
    "}"
   ]
  },
  {
   "cell_type": "markdown",
   "metadata": {},
   "source": [
    "DiD for BTW with controls"
   ]
  },
  {
   "cell_type": "code",
   "execution_count": 16,
   "metadata": {
    "vscode": {
     "languageId": "r"
    }
   },
   "outputs": [],
   "source": [
    "btw_c <- import(sprintf(\"%s/data/btw_control.csv\", path))"
   ]
  },
  {
   "cell_type": "code",
   "execution_count": 17,
   "metadata": {
    "vscode": {
     "languageId": "r"
    }
   },
   "outputs": [
    {
     "name": "stdout",
     "output_type": "stream",
     "text": [
      "[1] \"Union\"\n",
      "[1] \"SPD\"\n",
      "[1] \"FDP\"\n",
      "[1] \"Linke\"\n",
      "[1] \"Grüne\"\n",
      "[1] \"Andere\"\n"
     ]
    }
   ],
   "source": [
    "parties <- c('Union', 'SPD', 'FDP', 'Linke', 'Grüne', 'Andere')\n",
    "treatments_dict <- hash('treatment_0'='Direct Line', 'treatment_15'='Within 0-15 km', 'treatment_30'='Within 15-30 km', 'treatment_50'='Within 30-50 km')\n",
    "treatments <- keys(treatments_dict)\n",
    "results  <- list()\n",
    "n <- 7\n",
    "for(party in parties){\n",
    "  figures  <- list()\n",
    "  for(treatment in treatments){\n",
    "    result <- att_gt(yname = party,\n",
    "                  gname = treatment,\n",
    "                  idname = 'AGS',\n",
    "                  panel = TRUE,\n",
    "                  tname = 'year',\n",
    "                  xformla = ~ east + south + pop_density + unemployed + female + avg_age,\n",
    "                  data = btw_c,\n",
    "                  est_method = 'reg',\n",
    "                  anticipation = 0,\n",
    "                  control_group = 'nevertreated',\n",
    "                  clustervars = c('AGS'),\n",
    "                  bstrap = TRUE,\n",
    "                  cband = TRUE,\n",
    "                  allow_unbalanced_panel = TRUE,\n",
    "                  \n",
    "    )\n",
    "    results[[length(results)+1]] <- result\n",
    "    # calculate ATT\n",
    "    att <- aggte(result, type = \"group\", bstrap = TRUE, clustervars = c('AGS'))\n",
    "    # plot results\n",
    "    result_fig <- ggdid(result, \n",
    "              ylim = c(floor(min(result$att - result$se * 2.345 - 1)), ceiling(max(result$att + result$se * 2.345 + 1))),\n",
    "              ncol = 3, ax_text_size = 8, grtitle='', title_size = 10, legend=F) +\n",
    "              labs(caption = sprintf('Overall ATT (SE): %.3f (%.3f) \\n Wald-p: %.3f; Municipalities: %s \\n' ,\n",
    "              att$overall.att, att$overall.se, result$Wpval, format(result$n, big.mark=\",\"))) +\n",
    "              theme(plot.caption = element_text(hjust=0.5, size=8),\n",
    "              panel.background = element_rect(fill='transparent'),\n",
    "              plot.background = element_rect(fill='transparent', color=NA),\n",
    "              legend.background = element_rect(fill='transparent'),\n",
    "              legend.box.background = element_rect(fill='transparent'),\n",
    "              plot.margin=unit(c(0,0,0,0),\"cm\"))\n",
    "    # Get caption for ATT plot\n",
    "    cap = ''\n",
    "      for(i in 1:length(att$DIDparams$glist)) {\n",
    "        cap <- sprintf('%s ATT (SE): %.3f (%.3f)\\n%s', att$DIDparams$glist[[i]], att$att.egt[[i]], att$se.egt[[i]], cap)\n",
    "      }\n",
    "    # Plot ATT\n",
    "    att_fig <- ggdid(att, legend=F, x_lab='', ax_text_size = 8, ylab='', title='ATT by group', title_size = 10) + \n",
    "    labs(caption = cap) + \n",
    "              theme(plot.caption = element_text(hjust=0.5, size=8), \n",
    "              axis.title.x = element_blank(),\n",
    "              axis.text.y = element_text(angle=90, size=6, hjust=0.5),\n",
    "              panel.background = element_rect(fill='transparent'),\n",
    "              plot.background = element_rect(fill='transparent', color=NA),\n",
    "              legend.background = element_rect(fill='transparent'),\n",
    "              legend.box.background = element_rect(fill='transparent'),\n",
    "              plot.margin=unit(c(0,0,0,0),\"cm\"))\n",
    "    # Combine and annotate Group and ATT plot\n",
    "    # Get number of results plots\n",
    "    nr <- length(unique(result_fig$data$grtitle))\n",
    "    combined_fig <- ggarrange(result_fig, att_fig, widths = c(nr, 1)) + \n",
    "                    theme(plot.margin=unit(c(0,0,0,0),\"cm\"))\n",
    "    combined_fig_anno <- annotate_figure(combined_fig,\n",
    "                  top = text_grob(sprintf('Treatment: %s', treatments_dict[[treatment]])))\n",
    "    figures[[length(figures)+1]] <- combined_fig_anno\n",
    "  }\n",
    "  # Combine Figures for all treatments\n",
    "  arranged_fig <- ggarrange(plotlist=figures, nrow = 4, ncol = 1, common.legend = TRUE)\n",
    "  # get legend\n",
    "  result_fig <- ggdid(result) +\n",
    "              theme(\n",
    "              legend.background = element_rect(fill='transparent', color='transparent'),\n",
    "              legend.box.background = element_rect(fill='transparent', color='transparent'),\n",
    "              plot.margin=unit(c(0,0,0,0),\"cm\"))\n",
    "  leg <- get_legend(result_fig)\n",
    "  # add legend\n",
    "  arranged_fig_leg <- ggarrange(arranged_fig, leg, nrow = 2, ncol = 1, heights = c(10, 1))\n",
    "  # Annotate final figure\n",
    "  final_fig <- annotate_figure(arranged_fig_leg,\n",
    "                  top = text_grob(sprintf(\"BTW - Effect on %s's vote share\", party), face = \"bold\", size = 14),\n",
    "                  bottom = text_grob('Control Group: Never Treated. Estimation Method: Regression. \\n Standard Errors clustered on the municipality level. \\n Included Controls: Population Density, Share of Unemployed, Share of Females, Average Age, \\n Dummies for East and South Germany.', size = 10))\n",
    "  # Add Figure number\n",
    "  final_fig <- annotate_figure(final_fig, top = text_grob(sprintf(\"Fig.: R%s\", n), face = \"bold\", size = 10))\n",
    "  # Save\n",
    "  ggsave(sprintf('%s_%s.png', n, party), plot = final_fig, path = sprintf('%s/figures/R/BTW/control', path), units = 'cm', width = 21, height = 21, dpi=\"print\")\n",
    "  print(party)\n",
    "  n <- n + 1\n",
    "}"
   ]
  },
  {
   "cell_type": "markdown",
   "metadata": {},
   "source": [
    "DiD for LTW no controls by state"
   ]
  },
  {
   "cell_type": "code",
   "execution_count": 18,
   "metadata": {
    "vscode": {
     "languageId": "r"
    }
   },
   "outputs": [],
   "source": [
    "# read in the data set\n",
    "ltw <- import(sprintf(\"%s/data/ltw_treat.csv\", path))"
   ]
  },
  {
   "cell_type": "code",
   "execution_count": 19,
   "metadata": {
    "vscode": {
     "languageId": "r"
    }
   },
   "outputs": [
    {
     "ename": "ERROR",
     "evalue": "Error in parse(text = x, srcfile = src): <text>:90:0: unexpected end of input\n88:   }\n89: }\n   ^\n",
     "output_type": "error",
     "traceback": [
      "Error in parse(text = x, srcfile = src): <text>:90:0: unexpected end of input\n88:   }\n89: }\n   ^\nTraceback:\n"
     ]
    }
   ],
   "source": [
    "parties <- c('Union', 'SPD', 'FDP', 'Linke', 'Grüne', 'Andere')\n",
    "treatments_dict <- hash('treatment_0'='Direct Line', 'treatment_15'='Within 0-15 km', 'treatment_30'='Within 15-30 km', 'treatment_50'='Within 30-50 km')\n",
    "states_dict <- hash('NI'='Lower Saxony', 'NW'='North-Rhine Westphalia', 'HE'='Hesse', 'BY'='Bavaria')\n",
    "treatments <- keys(treatments_dict)\n",
    "states <- keys(states_dict)\n",
    "results  <- list()\n",
    "n <- 14\n",
    "for (state in states){\n",
    "  for(party in parties){\n",
    "    figures  <- list()\n",
    "    reg_data <- subset(ltw, Land == state)\n",
    "    for(treatment in treatments){\n",
    "      result <- att_gt(yname = party,\n",
    "                    gname = treatment,\n",
    "                    idname = 'AGS',\n",
    "                    panel = TRUE,\n",
    "                    tname = 'year',\n",
    "                    xformla = ~ 1,\n",
    "                    data = reg_data,\n",
    "                    est_method = 'reg',\n",
    "                    anticipation = 0,\n",
    "                    control_group = 'notyettreated',\n",
    "                    clustervars = c('AGS'),\n",
    "                    bstrap = TRUE,\n",
    "                    cband = TRUE,\n",
    "                    allow_unbalanced_panel = TRUE,\n",
    "                    \n",
    "      )\n",
    "    results[[length(results)+1]] <- result\n",
    "    # calculate ATT\n",
    "    att <- aggte(result, type = \"group\", bstrap = TRUE, clustervars = c('AGS'))\n",
    "    # plot results\n",
    "    result_fig <- ggdid(result, \n",
    "              ylim = c(floor(min(result$att - result$se * 2.345 - 1)), ceiling(max(result$att + result$se * 2.345 + 1))),\n",
    "              ncol = 3, ax_text_size = 8, grtitle='', title_size = 10, legend=F) +\n",
    "              labs(caption = sprintf('Overall ATT (SE): %.3f (%.3f) \\n Wald-p: %.3f; Municipalities: %s \\n' ,\n",
    "              att$overall.att, att$overall.se, result$Wpval, format(result$n, big.mark=\",\"))) +\n",
    "              theme(plot.caption = element_text(hjust=0.5, size=8),\n",
    "              panel.background = element_rect(fill='transparent'),\n",
    "              plot.background = element_rect(fill='transparent', color=NA),\n",
    "              legend.background = element_rect(fill='transparent'),\n",
    "              legend.box.background = element_rect(fill='transparent'),\n",
    "              plot.margin=unit(c(0,0,0,0),\"cm\"))\n",
    "    # Get caption for ATT plot\n",
    "    cap = ''\n",
    "      for(i in 1:length(att$DIDparams$glist)) {\n",
    "        cap <- sprintf('%s ATT (SE): %.3f (%.3f)\\n%s', att$DIDparams$glist[[i]], att$att.egt[[i]], att$se.egt[[i]], cap)\n",
    "    # Plot ATT\n",
    "    att_fig <- ggdid(att, legend=F, x_lab='', ax_text_size = 8, ylab='', title='ATT by group', title_size = 10) + \n",
    "    labs(caption = cap) + \n",
    "              theme(plot.caption = element_text(hjust=0.5, size=8), \n",
    "              axis.title.x = element_blank(),\n",
    "              axis.text.y = element_text(angle=90, size=6, hjust=0.5),\n",
    "              panel.background = element_rect(fill='transparent'),\n",
    "              plot.background = element_rect(fill='transparent', color=NA),\n",
    "              legend.background = element_rect(fill='transparent'),\n",
    "              legend.box.background = element_rect(fill='transparent'),\n",
    "              plot.margin=unit(c(0,0,0,0),\"cm\"))\n",
    "    # Combine and annotate Group and ATT plot\n",
    "    # Get number of results plots\n",
    "    nr <- length(unique(result_fig$data$grtitle))\n",
    "    combined_fig <- ggarrange(result_fig, att_fig, widths = c(nr, 1)) + \n",
    "                    theme(plot.margin=unit(c(0,0,0,0),\"cm\"))\n",
    "    combined_fig_anno <- annotate_figure(combined_fig,\n",
    "                  top = text_grob(sprintf('Treatment: %s', treatments_dict[[treatment]])))\n",
    "    figures[[length(figures)+1]] <- combined_fig_anno\n",
    "    }\n",
    "    # Combine Figures for all treatments\n",
    "    arranged_fig <- ggarrange(plotlist=figures, nrow = 4, ncol = 1, common.legend = TRUE)\n",
    "    # get legend\n",
    "    result_fig <- ggdid(result) +\n",
    "                theme(\n",
    "                legend.background = element_rect(fill='transparent', color='transparent'),\n",
    "                legend.box.background = element_rect(fill='transparent', color='transparent'),\n",
    "                plot.margin=unit(c(0,0,0,0),\"cm\"))\n",
    "    leg <- get_legend(result_fig)\n",
    "    # add legend\n",
    "    arranged_fig_leg <- ggarrange(arranged_fig, leg, nrow = 2, ncol = 1, heights = c(10, 1))\n",
    "    final_fig <- annotate_figure(arranged_fig_leg,\n",
    "                    top = text_grob(sprintf(\"LTW %s - Effect on %s's vote share\", states_dict[[state]], party), face = \"bold\", size = 14),\n",
    "                    bottom = text_grob('Control Group: Not-yet Treated. Estimation Method: Regression \\n Standard Errors clustered on the municipality level.', size = 10),)\n",
    "    # Add Figure number\n",
    "    final_fig <- annotate_figure(final_fig, top = text_grob(sprintf(\"Fig.: R%s\", n), face = \"bold\", size = 10))\n",
    "    # Save\n",
    "    ggsave(sprintf('%s_%s_%s.png', n, state, party), plot = final_fig, path = sprintf('%s/figures/R/LTW/by_state', path), units = 'cm', width = 21, height = 29.7, dpi=\"print\")\n",
    "    print(sprintf('%s: %s', state, party))\n",
    "    n <- n + 2\n",
    "  }\n",
    "}"
   ]
  },
  {
   "cell_type": "markdown",
   "metadata": {},
   "source": [
    "DiD for LTW controls by state"
   ]
  },
  {
   "cell_type": "code",
   "execution_count": null,
   "metadata": {
    "vscode": {
     "languageId": "r"
    }
   },
   "outputs": [],
   "source": [
    "ltw_c <- import(sprintf(\"%s/data/ltw_control.csv\", path))"
   ]
  },
  {
   "cell_type": "code",
   "execution_count": null,
   "metadata": {
    "vscode": {
     "languageId": "r"
    }
   },
   "outputs": [],
   "source": [
    "parties <- c('Union', 'SPD', 'FDP', 'Linke', 'Grüne', 'Andere')\n",
    "treatments_dict <- hash('treatment_0'='Direct Line', 'treatment_15'='Within 0-15 km', 'treatment_30'='Within 15-30 km', 'treatment_50'='Within 30-50 km')\n",
    "states_dict <- hash('NI'='Lower Saxony', 'NW'='North-Rhine Westphalia', 'HE'='Hesse', 'BY'='Bavaria')\n",
    "treatments <- keys(treatments_dict)\n",
    "states <- keys(states_dict)\n",
    "results  <- list()\n",
    "n <- 15\n",
    "for (state in states){\n",
    "  for(party in parties){\n",
    "    figures  <- list()\n",
    "    reg_data <- subset(ltw_c, Land == state)\n",
    "    for(treatment in treatments){\n",
    "      result <- att_gt(yname = party,\n",
    "                    gname = treatment,\n",
    "                    idname = 'AGS',\n",
    "                    panel = TRUE,\n",
    "                    tname = 'year',\n",
    "                    xformla = ~ pop_density + unemployed + avg_age + female,\n",
    "                    data = reg_data,\n",
    "                    est_method = 'reg',\n",
    "                    anticipation = 0,\n",
    "                    control_group = 'notyettreated',\n",
    "                    clustervars = c('AGS'),\n",
    "                    bstrap = TRUE,\n",
    "                    cband = TRUE,\n",
    "                    allow_unbalanced_panel = TRUE,\n",
    "                    \n",
    "      )\n",
    "    results[[length(results)+1]] <- result\n",
    "    # calculate ATT\n",
    "    att <- aggte(result, type = \"group\", bstrap = TRUE, clustervars = c('AGS'))\n",
    "    # plot results\n",
    "    result_fig <- ggdid(result, \n",
    "              ylim = c(floor(min(result$att - result$se * 2.345 - 1)), ceiling(max(result$att + result$se * 2.345 + 1))),\n",
    "              ncol = 3, ax_text_size = 8, grtitle='', title_size = 10, legend=F) +\n",
    "              labs(caption = sprintf('Overall ATT (SE): %.3f (%.3f) \\n Wald-p: %.3f; Municipalities: %s \\n' ,\n",
    "              att$overall.att, att$overall.se, result$Wpval, format(result$n, big.mark=\",\"))) +\n",
    "              theme(plot.caption = element_text(hjust=0.5, size=8),\n",
    "              panel.background = element_rect(fill='transparent'),\n",
    "              plot.background = element_rect(fill='transparent', color=NA),\n",
    "              legend.background = element_rect(fill='transparent'),\n",
    "              legend.box.background = element_rect(fill='transparent'),\n",
    "              plot.margin=unit(c(0,0,0,0),\"cm\"))\n",
    "    # Get caption for ATT plot\n",
    "    cap = ''\n",
    "      for(i in 1:length(att$DIDparams$glist)) {\n",
    "        cap <- sprintf('%s ATT (SE): %.3f (%.3f)\\n%s', att$DIDparams$glist[[i]], att$att.egt[[i]], att$se.egt[[i]], cap)\n",
    "      }\n",
    "    # Plot ATT\n",
    "    att_fig <- ggdid(att, legend=F, x_lab='', ax_text_size = 8, ylab='', title='ATT by group', title_size = 10) + \n",
    "    labs(caption = cap) + \n",
    "              theme(plot.caption = element_text(hjust=0.5, size=8), \n",
    "              axis.title.x = element_blank(),\n",
    "              axis.text.y = element_text(angle=90, size=6, hjust=0.5),\n",
    "              panel.background = element_rect(fill='transparent'),\n",
    "              plot.background = element_rect(fill='transparent', color=NA),\n",
    "              legend.background = element_rect(fill='transparent'),\n",
    "              legend.box.background = element_rect(fill='transparent'),\n",
    "              plot.margin=unit(c(0,0,0,0),\"cm\"))\n",
    "    # Combine and annotate Group and ATT plot\n",
    "    # Get number of results plots\n",
    "    nr <- length(unique(result_fig$data$grtitle))\n",
    "    combined_fig <- ggarrange(result_fig, att_fig, widths = c(nr, 1)) + \n",
    "                    theme(plot.margin=unit(c(0,0,0,0),\"cm\"))\n",
    "    combined_fig_anno <- annotate_figure(combined_fig,\n",
    "                  top = text_grob(sprintf('Treatment: %s', treatments_dict[[treatment]])))\n",
    "    figures[[length(figures)+1]] <- combined_fig_anno\n",
    "    }\n",
    "    # Combine Figures for all treatments\n",
    "    arranged_fig <- ggarrange(plotlist=figures, nrow = 4, ncol = 1, common.legend = TRUE)\n",
    "    # get legend\n",
    "    result_fig <- ggdid(result) +\n",
    "                theme(\n",
    "                legend.background = element_rect(fill='transparent', color='transparent'),\n",
    "                legend.box.background = element_rect(fill='transparent', color='transparent'),\n",
    "                plot.margin=unit(c(0,0,0,0),\"cm\"))\n",
    "    leg <- get_legend(result_fig)\n",
    "    # add legend\n",
    "    arranged_fig_leg <- ggarrange(arranged_fig, leg, nrow = 2, ncol = 1, heights = c(10, 1))\n",
    "    final_fig <- annotate_figure(arranged_fig_leg,\n",
    "                    top = text_grob(sprintf(\"LTW %s - Effect on %s's vote share\", states_dict[[state]], party), face = \"bold\", size = 14),\n",
    "                    bottom = text_grob('Control Group: Not-yet Treated. Estimation Method: Regression. \\n Standard Errors clustered on the municipality level. \\n Included Controls: Population Density, Share of Unemployed, Share of Females, Average Age.', size = 10))\n",
    "    # Add Figure number\n",
    "    final_fig <- annotate_figure(final_fig, top = text_grob(sprintf(\"Fig.: R%s\", n), face = \"bold\", size = 10))\n",
    "    # Save\n",
    "    ggsave(sprintf('%s_%s_%s.png', n, state, party), plot = final_fig, path = sprintf('%s/figures/R/LTW/by_state_controls', path), units = 'cm', width = 21, height = 29.7, dpi=\"print\")\n",
    "    print(sprintf('%s: %s', state, party))\n",
    "    n <- n + 2\n",
    "  }\n",
    "}"
   ]
  },
  {
   "cell_type": "markdown",
   "metadata": {},
   "source": [
    "DiD for BTW with controls by state"
   ]
  },
  {
   "cell_type": "code",
   "execution_count": null,
   "metadata": {
    "vscode": {
     "languageId": "r"
    }
   },
   "outputs": [],
   "source": [
    "btw_c <- import(sprintf(\"%s/data/btw_control.csv\", path))"
   ]
  },
  {
   "cell_type": "code",
   "execution_count": null,
   "metadata": {
    "vscode": {
     "languageId": "r"
    }
   },
   "outputs": [],
   "source": [
    "parties <- c('Union', 'SPD', 'FDP', 'Linke', 'Grüne', 'Andere')\n",
    "treatments_dict <- hash('treatment_0'='Direct Line', 'treatment_15'='Within 0-15 km', 'treatment_30'='Within 15-30 km', 'treatment_50'='Within 30-50 km')\n",
    "states_dict <- hash('SH'='Schleswig-Holstein', 'NI'='Lower Saxony', 'NW'='North-Rhine Westphalia', 'BW'='Baden-Württemberg', \n",
    "'BY'='Bavaria', 'BB'='Brandenburg', 'MV'='Mecklenburg-Vorpommern', 'ST'='Saxony-Anhalt') # all states - those never treated\n",
    "treatments <- keys(treatments_dict)\n",
    "states <- keys(states_dict)\n",
    "results  <- list()\n",
    "n <- 13\n",
    "for (state in states){\n",
    "  for(party in parties){\n",
    "    reg_data <- subset(btw_c, Land == state)\n",
    "    figures  <- list()\n",
    "    for(treatment in treatments){\n",
    "      result <- att_gt(yname = party,\n",
    "                    gname = treatment,\n",
    "                    idname = 'AGS',\n",
    "                    panel = TRUE,\n",
    "                    tname = 'year',\n",
    "                    xformla = ~ pop_density + unemployed + female + avg_age,\n",
    "                    data = reg_data,\n",
    "                    est_method = 'reg',\n",
    "                    anticipation = 0,\n",
    "                    control_group = 'notyettreated',\n",
    "                    clustervars = c('AGS'),\n",
    "                    bstrap = TRUE,\n",
    "                    cband = TRUE,\n",
    "                    allow_unbalanced_panel = TRUE,\n",
    "                    \n",
    "      )\n",
    "    results[[length(results)+1]] <- result\n",
    "    # calculate ATT\n",
    "    att <- aggte(result, type = \"group\", bstrap = TRUE, clustervars = c('AGS'))\n",
    "    # plot results\n",
    "    result_fig <- ggdid(result, \n",
    "              ylim = c(floor(min(result$att - result$se * 2.345 - 1)), ceiling(max(result$att + result$se * 2.345 + 1))),\n",
    "              ncol = 3, ax_text_size = 8, grtitle='', title_size = 10, legend=F) +\n",
    "              labs(caption = sprintf('Overall ATT (SE): %.3f (%.3f) \\n Wald-p: %.3f; Municipalities: %s \\n' ,\n",
    "              att$overall.att, att$overall.se, result$Wpval, format(result$n, big.mark=\",\"))) +\n",
    "              theme(plot.caption = element_text(hjust=0.5, size=8),\n",
    "              panel.background = element_rect(fill='transparent'),\n",
    "              plot.background = element_rect(fill='transparent', color=NA),\n",
    "              legend.background = element_rect(fill='transparent'),\n",
    "              legend.box.background = element_rect(fill='transparent'),\n",
    "              plot.margin=unit(c(0,0,0,0),\"cm\"))\n",
    "    # Get caption for ATT plot\n",
    "    cap = ''\n",
    "      for(i in 1:length(att$DIDparams$glist)) {\n",
    "        cap <- sprintf('%s ATT (SE): %.3f (%.3f)\\n%s', att$DIDparams$glist[[i]], att$att.egt[[i]], att$se.egt[[i]], cap)\n",
    "      }\n",
    "    # Plot ATT\n",
    "    att_fig <- ggdid(att, legend=F, x_lab='', ax_text_size = 8, ylab='', title='ATT by group', title_size = 10) + \n",
    "              labs(caption = cap) +\n",
    "              theme(plot.caption = element_text(hjust=0.5, size=8), \n",
    "              axis.title.x = element_blank(),\n",
    "              axis.text.y = element_text(angle=90, size=6, hjust=0.5),\n",
    "              panel.background = element_rect(fill='transparent'),\n",
    "              plot.background = element_rect(fill='transparent', color=NA),\n",
    "              legend.background = element_rect(fill='transparent'),\n",
    "              legend.box.background = element_rect(fill='transparent'),\n",
    "              plot.margin=unit(c(0,0,0,0),\"cm\"))\n",
    "    # Combine and annotate Group and ATT plot\n",
    "    # Get number of results plots\n",
    "    nr <- length(unique(result_fig$data$grtitle))\n",
    "    combined_fig <- ggarrange(result_fig, att_fig, widths = c(nr, 1)) + \n",
    "                    theme(plot.margin=unit(c(0,0,0,0),\"cm\"))\n",
    "    combined_fig_anno <- annotate_figure(combined_fig,\n",
    "                  top = text_grob(sprintf('Treatment: %s', treatments_dict[[treatment]])))\n",
    "    figures[[length(figures)+1]] <- combined_fig_anno\n",
    "    }\n",
    "    # Combine Figures for all treatments\n",
    "    arranged_fig <- ggarrange(plotlist=figures, nrow = 4, ncol = 1, common.legend = TRUE)\n",
    "    # get legend\n",
    "    result_fig <- ggdid(result) +\n",
    "                theme(\n",
    "                legend.background = element_rect(fill='transparent', color='transparent'),\n",
    "                legend.box.background = element_rect(fill='transparent', color='transparent'),\n",
    "                plot.margin=unit(c(0,0,0,0),\"cm\"))\n",
    "    leg <- get_legend(result_fig)\n",
    "    # add legend\n",
    "    arranged_fig_leg <- ggarrange(arranged_fig, leg, nrow = 2, ncol = 1, heights = c(10, 1))\n",
    "    # Annotate final figure\n",
    "    final_fig <- annotate_figure(arranged_fig_leg,\n",
    "                    top = text_grob(sprintf(\"BTW in %s - Effect on %s's vote share\", states_dict[[state]], party), face = \"bold\", size = 14),\n",
    "                    bottom = text_grob('Control Group: Not-yet Treated. Estimation Method: Regression. \\n Standard Errors clustered on the municipality level. \\n Included Controls: Population Density, Share of Unemployed, Share of Females, Average Age.', size = 10))\n",
    "    # Add Figure number\n",
    "    final_fig <- annotate_figure(final_fig, top = text_grob(sprintf(\"Fig.: R%s\", n), face = \"bold\", size = 10))\n",
    "    # Save\n",
    "    ggsave(sprintf('%s_%s_%s.png', n, state, party), plot = final_fig, path = sprintf('%s/figures/R/BTW/by_state', path), units = 'cm', width = 21, height = 29.7, dpi=\"print\")\n",
    "    print(sprintf('%s: %s', state, party))\n",
    "    n <- n + 1\n",
    "  }\n",
    "}"
   ]
  }
 ],
 "metadata": {
  "kernelspec": {
   "display_name": "R",
   "language": "R",
   "name": "ir"
  },
  "language_info": {
   "codemirror_mode": "r",
   "file_extension": ".r",
   "mimetype": "text/x-r-source",
   "name": "R",
   "pygments_lexer": "r",
   "version": "4.2.1"
  },
  "orig_nbformat": 4,
  "vscode": {
   "interpreter": {
    "hash": "656f4cd1472b14b513faaa63bd5e4a7577d125de6a277113d4e82c4085557d3e"
   }
  }
 },
 "nbformat": 4,
 "nbformat_minor": 2
}
