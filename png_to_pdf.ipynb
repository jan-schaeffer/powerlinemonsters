{
 "cells": [
  {
   "cell_type": "code",
   "execution_count": 2,
   "metadata": {},
   "outputs": [
    {
     "name": "stdout",
     "output_type": "stream",
     "text": [
      "/Users/jan/Dropbox/UP_EPQM/2222/MA/powerlinemonsters\n"
     ]
    }
   ],
   "source": [
    "import os\n",
    "from PIL import Image\n",
    "\n",
    "path = os.getcwd()\n",
    "print(path)"
   ]
  },
  {
   "cell_type": "code",
   "execution_count": 15,
   "metadata": {},
   "outputs": [],
   "source": [
    "def get_files():\n",
    "    directory = f'{path}/figures/py' # change input path here\n",
    "    # scan directory for files\n",
    "    for filename in os.scandir(directory):\n",
    "        if filename.is_file():\n",
    "            # get individual file's path\n",
    "            fp = filename.path\n",
    "            print(fp)\n",
    "            name = os.path.basename(fp).rstrip('.png')\n",
    "            if name == '.DS_Store':\n",
    "                continue\n",
    "            im = Image.open(fp)\n",
    "            im = im.convert('RGB')\n",
    "            im.save(f'{path}/figures/py/pdf/{name}.pdf')"
   ]
  },
  {
   "cell_type": "code",
   "execution_count": 17,
   "metadata": {},
   "outputs": [
    {
     "name": "stdout",
     "output_type": "stream",
     "text": [
      "/Users/jan/Dropbox/UP_EPQM/2222/MA/powerlinemonsters/figures/py/E22_ever_treated_controls.png\n",
      "/Users/jan/Dropbox/UP_EPQM/2222/MA/powerlinemonsters/figures/py/E26_map_pop_density.png\n",
      "/Users/jan/Dropbox/UP_EPQM/2222/MA/powerlinemonsters/figures/py/E10_ltw_BY_2014_vote_shares.png\n",
      "/Users/jan/Dropbox/UP_EPQM/2222/MA/powerlinemonsters/figures/py/E17_ltw_NI_2010_vote_shares.png\n",
      "/Users/jan/Dropbox/UP_EPQM/2222/MA/powerlinemonsters/figures/py/E15_ltw_HE_2010_vote_shares.png\n",
      "/Users/jan/Dropbox/UP_EPQM/2222/MA/powerlinemonsters/figures/py/E23_2005_controls.png\n",
      "/Users/jan/Dropbox/UP_EPQM/2222/MA/powerlinemonsters/figures/py/.DS_Store\n",
      "/Users/jan/Dropbox/UP_EPQM/2222/MA/powerlinemonsters/figures/py/E28_map_avg_age.png\n",
      "/Users/jan/Dropbox/UP_EPQM/2222/MA/powerlinemonsters/figures/py/E20_NW_win_and_treat.png\n",
      "/Users/jan/Dropbox/UP_EPQM/2222/MA/powerlinemonsters/figures/py/E27_map_unemployed.png\n",
      "/Users/jan/Dropbox/UP_EPQM/2222/MA/powerlinemonsters/figures/py/E7_btw_2010_vote_shares.png\n",
      "/Users/jan/Dropbox/UP_EPQM/2222/MA/powerlinemonsters/figures/py/E8_btw_2014_vote_shares.png\n",
      "/Users/jan/Dropbox/UP_EPQM/2222/MA/powerlinemonsters/figures/py/E21_NI_win_and_treat.png\n",
      "/Users/jan/Dropbox/UP_EPQM/2222/MA/powerlinemonsters/figures/py/E29_map_female.png\n",
      "/Users/jan/Dropbox/UP_EPQM/2222/MA/powerlinemonsters/figures/py/E2_all_treatments_sum.png\n",
      "/Users/jan/Dropbox/UP_EPQM/2222/MA/powerlinemonsters/figures/py/E18_BY_win_and_treat.png\n",
      "/Users/jan/Dropbox/UP_EPQM/2222/MA/powerlinemonsters/figures/py/E16_ltw_NW_2010_vote_shares.png\n",
      "/Users/jan/Dropbox/UP_EPQM/2222/MA/powerlinemonsters/figures/py/1_all_treatments.png\n",
      "/Users/jan/Dropbox/UP_EPQM/2222/MA/powerlinemonsters/figures/py/E24_2010_controls.png\n",
      "/Users/jan/Dropbox/UP_EPQM/2222/MA/powerlinemonsters/figures/py/E9_btw_winners.png\n",
      "/Users/jan/Dropbox/UP_EPQM/2222/MA/powerlinemonsters/figures/py/E6_btw_2005_vote_shares.png\n",
      "/Users/jan/Dropbox/UP_EPQM/2222/MA/powerlinemonsters/figures/py/E25_2014_controls.png\n",
      "/Users/jan/Dropbox/UP_EPQM/2222/MA/powerlinemonsters/figures/py/E12_ltw_NW_2014_vote_shares.png\n",
      "/Users/jan/Dropbox/UP_EPQM/2222/MA/powerlinemonsters/figures/py/E1_all_treatments.png\n",
      "/Users/jan/Dropbox/UP_EPQM/2222/MA/powerlinemonsters/figures/py/E13_ltw_NI_2014_vote_shares.png\n",
      "/Users/jan/Dropbox/UP_EPQM/2222/MA/powerlinemonsters/figures/py/E3_btw_avg_vote_shares.png\n",
      "/Users/jan/Dropbox/UP_EPQM/2222/MA/powerlinemonsters/figures/py/E14_ltw_BY_2010_vote_shares.png\n",
      "/Users/jan/Dropbox/UP_EPQM/2222/MA/powerlinemonsters/figures/py/E5_btw_ever_treated_vote_shares.png\n",
      "/Users/jan/Dropbox/UP_EPQM/2222/MA/powerlinemonsters/figures/py/E19_HE_win_and_treat.png\n",
      "/Users/jan/Dropbox/UP_EPQM/2222/MA/powerlinemonsters/figures/py/E4_gtrends.png\n",
      "/Users/jan/Dropbox/UP_EPQM/2222/MA/powerlinemonsters/figures/py/E11_ltw_HE_2014_vote_shares.png\n"
     ]
    }
   ],
   "source": [
    "get_files()"
   ]
  }
 ],
 "metadata": {
  "kernelspec": {
   "display_name": "Python 3.10.4 ('vscode')",
   "language": "python",
   "name": "python3"
  },
  "language_info": {
   "codemirror_mode": {
    "name": "ipython",
    "version": 3
   },
   "file_extension": ".py",
   "mimetype": "text/x-python",
   "name": "python",
   "nbconvert_exporter": "python",
   "pygments_lexer": "ipython3",
   "version": "3.10.4"
  },
  "orig_nbformat": 4,
  "vscode": {
   "interpreter": {
    "hash": "656f4cd1472b14b513faaa63bd5e4a7577d125de6a277113d4e82c4085557d3e"
   }
  }
 },
 "nbformat": 4,
 "nbformat_minor": 2
}
