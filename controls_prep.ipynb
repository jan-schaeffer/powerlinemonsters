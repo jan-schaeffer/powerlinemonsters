{
 "cells": [
  {
   "cell_type": "markdown",
   "metadata": {},
   "source": [
    "First, import needed modules"
   ]
  },
  {
   "cell_type": "code",
   "execution_count": 2,
   "metadata": {},
   "outputs": [],
   "source": [
    "import numpy as np\n",
    "import pandas as pd\n",
    "import os\n",
    "from functools import reduce"
   ]
  },
  {
   "cell_type": "markdown",
   "metadata": {},
   "source": [
    "Initalize variables"
   ]
  },
  {
   "cell_type": "code",
   "execution_count": 3,
   "metadata": {},
   "outputs": [
    {
     "name": "stdout",
     "output_type": "stream",
     "text": [
      "/Users/jan/Dropbox/UP_EPQM/2222/MA/powerlinemonsters\n"
     ]
    }
   ],
   "source": [
    "path = os.getcwd()\n",
    "print(path)"
   ]
  },
  {
   "cell_type": "markdown",
   "metadata": {},
   "source": [
    "Import inkar dataset"
   ]
  },
  {
   "cell_type": "code",
   "execution_count": 6,
   "metadata": {},
   "outputs": [],
   "source": [
    "inkar_raw = pd.read_csv(f'{path}/data/controls/inkar_2021.csv', encoding='UTF-8-SIG')"
   ]
  },
  {
   "cell_type": "markdown",
   "metadata": {},
   "source": [
    "Rename columns"
   ]
  },
  {
   "cell_type": "code",
   "execution_count": 7,
   "metadata": {},
   "outputs": [
    {
     "data": {
      "text/plain": [
       "Index(['bereich', 'indikator', 'AVS', 'year', 'wert'], dtype='object')"
      ]
     },
     "execution_count": 7,
     "metadata": {},
     "output_type": "execute_result"
    }
   ],
   "source": [
    "col_names = ['bereich', 'indikator', 'AVS', 'year', 'wert']\n",
    "inkar_raw.columns = col_names\n",
    "inkar_raw.columns"
   ]
  },
  {
   "cell_type": "markdown",
   "metadata": {},
   "source": [
    "Fix the AGS"
   ]
  },
  {
   "cell_type": "code",
   "execution_count": 8,
   "metadata": {},
   "outputs": [],
   "source": [
    "inkar_raw['AVS'] = inkar_raw['AVS'].astype(str)\n",
    "inkar_raw['AVS'] = np.where(inkar_raw['AVS'].str.len() < 8, '0' + inkar_raw['AVS'], inkar_raw['AVS'])"
   ]
  },
  {
   "cell_type": "markdown",
   "metadata": {},
   "source": [
    "Convert Wert to numeric"
   ]
  },
  {
   "cell_type": "code",
   "execution_count": 9,
   "metadata": {},
   "outputs": [],
   "source": [
    "inkar_raw['value'] = inkar_raw['wert'].str.replace(',','.').astype(float)"
   ]
  },
  {
   "cell_type": "markdown",
   "metadata": {},
   "source": [
    "Filter df"
   ]
  },
  {
   "cell_type": "code",
   "execution_count": 10,
   "metadata": {},
   "outputs": [],
   "source": [
    "vars_to_keep = ['Bevölkerung gesamt', 'Frauenanteil', 'Einwohnerdichte',  'Arbeitslose', 'Durchschnittsalter der Bevölkerung']\n",
    "inkar_selected = inkar_raw[inkar_raw['indikator'].isin(vars_to_keep)]"
   ]
  },
  {
   "cell_type": "markdown",
   "metadata": {},
   "source": [
    "Pivot df"
   ]
  },
  {
   "cell_type": "code",
   "execution_count": 11,
   "metadata": {},
   "outputs": [
    {
     "data": {
      "text/plain": [
       "(106214, 7)"
      ]
     },
     "execution_count": 11,
     "metadata": {},
     "output_type": "execute_result"
    }
   ],
   "source": [
    "inkar_pivot = pd.pivot(inkar_selected, index=['AVS', 'year'], columns='indikator', values='value')\n",
    "inkar_pivot = inkar_pivot.reset_index()\n",
    "inkar_pivot.shape"
   ]
  },
  {
   "cell_type": "markdown",
   "metadata": {},
   "source": [
    "Rename columns"
   ]
  },
  {
   "cell_type": "code",
   "execution_count": 12,
   "metadata": {},
   "outputs": [],
   "source": [
    "col_names = ['AVS', 'year', 'unemployed_inkar', 'pop_inkar', 'avg_age_inkar', 'pop_density_inkar', 'female_inkar']\n",
    "inkar_pivot.columns = col_names"
   ]
  },
  {
   "cell_type": "markdown",
   "metadata": {},
   "source": [
    "Change Verbandsschlüssel to AGS (2013)"
   ]
  },
  {
   "cell_type": "code",
   "execution_count": 13,
   "metadata": {},
   "outputs": [],
   "source": [
    "avs_trans = pd.read_csv(f'{path}/data/avs_transition.csv', converters={'AGS': str, 'AVS': str})\n",
    "inkar_controls = inkar_pivot.merge(avs_trans, on='AVS')\n",
    "del inkar_controls['AVS']"
   ]
  },
  {
   "cell_type": "markdown",
   "metadata": {},
   "source": [
    "Import Regionalstatistik datasets"
   ]
  },
  {
   "cell_type": "code",
   "execution_count": 73,
   "metadata": {},
   "outputs": [],
   "source": [
    "# initialize dictionaries (we need to here, because the year does not uniquely identify the dfs)\n",
    "income = {2007: 'Einkommen_2007.csv', 2010: 'Einkommen_2010.csv', 2013: 'Einkommen_2013.csv'}\n",
    "# read in dfs\n",
    "for year, file in income.items():\n",
    "    income[year] = pd.read_csv(f'{path}/data/controls/{file}', encoding = 'ISO-8859-1', sep=';', converters={'AGS': str}, na_values=['-', 'x', '.'])\n",
    "religion = pd.read_csv(f'{path}/data/controls/religion_2011.csv', encoding = 'ISO-8859-1', sep=';', converters={'AGS': str}, na_values=['-', 'x', '.'])\n",
    "foreign = pd.read_csv(f'{path}/data/controls/nationalitaet_2011.csv', encoding = 'ISO-8859-1', sep=';', converters={'AGS': str}, na_values=['-', 'x', '.'])"
   ]
  },
  {
   "cell_type": "markdown",
   "metadata": {},
   "source": [
    "Income: Fix and change AGS to 2013, rename columns and compute income per capita"
   ]
  },
  {
   "cell_type": "code",
   "execution_count": 54,
   "metadata": {},
   "outputs": [
    {
     "name": "stdout",
     "output_type": "stream",
     "text": [
      "both          14846\n",
      "left_only      2121\n",
      "right_only        0\n",
      "Name: _merge, dtype: int64\n",
      "both          16464\n",
      "left_only      2412\n",
      "right_only        0\n",
      "Name: _merge, dtype: int64\n",
      "both          16465\n",
      "left_only      2691\n",
      "right_only        0\n",
      "Name: _merge, dtype: int64\n"
     ]
    }
   ],
   "source": [
    "for year, df in income.items():\n",
    "    # fix AGS\n",
    "    income[year]['AGS'] = income[year]['AGS'].astype(str)\n",
    "    income[year]['AGS'] = np.where(income[year]['AGS'].str.len() < 6, income[year]['AGS'] + '0'*3, income[year]['AGS']) # add trailing 000 for kreisfreie Städte (AGS has 4-5 digits before, 7-8 after)\n",
    "    income[year]['AGS'] = np.where(income[year]['AGS'].str.len() < 8, '0' + income[year]['AGS'], income[year]['AGS']) # add leading 0 for state ids < 10 (AGS has 7 digits)\n",
    "    # read in AGS transition dataset\n",
    "    ags_trans = pd.read_csv(f'{path}/data/ags_transition.csv', usecols=[f'AGS_{year}', 'AGS_2013'], converters={f'AGS_{year}': str, 'AGS_2013': str})\n",
    "    # merge income[year] with ags trans\n",
    "    income[year] = income[year].merge(ags_trans, left_on='AGS', right_on=f'AGS_{year}', how='left', indicator=True)\n",
    "    print(income[year]._merge.value_counts())\n",
    "    # delete old AGS and rename\n",
    "    income[year]['AGS'] = np.where(income[year]['AGS_2013'].notna(), income[year]['AGS_2013'], income[year]['AGS'])\n",
    "    income[year] = income[year].drop(['AGS_2013', f'AGS_{year}'], axis=1)\n",
    "    # move AGS to front\n",
    "    AGS = income[year].pop('AGS')\n",
    "    income[year].insert(0, 'AGS', AGS)\n",
    "    # rename columns\n",
    "    col_names = ['AGS', 'year', 'GEN', 'taxable_persons', 'total_income', 'taxes', 'merge']\n",
    "    income[year].columns = col_names\n",
    "    # compute income per capita\n",
    "    income[year]['income_pc'] = np.log(income[year]['total_income'] / income[year]['taxable_persons'] * 1000)\n",
    "    # subset df\n",
    "    income[year] = income[year][['AGS', 'year', 'income_pc']]"
   ]
  },
  {
   "cell_type": "markdown",
   "metadata": {},
   "source": [
    "Concatenate income dfs"
   ]
  },
  {
   "cell_type": "code",
   "execution_count": 55,
   "metadata": {},
   "outputs": [
    {
     "data": {
      "text/html": [
       "<div>\n",
       "<style scoped>\n",
       "    .dataframe tbody tr th:only-of-type {\n",
       "        vertical-align: middle;\n",
       "    }\n",
       "\n",
       "    .dataframe tbody tr th {\n",
       "        vertical-align: top;\n",
       "    }\n",
       "\n",
       "    .dataframe thead th {\n",
       "        text-align: right;\n",
       "    }\n",
       "</style>\n",
       "<table border=\"1\" class=\"dataframe\">\n",
       "  <thead>\n",
       "    <tr style=\"text-align: right;\">\n",
       "      <th></th>\n",
       "      <th>AGS</th>\n",
       "      <th>year</th>\n",
       "      <th>income_pc</th>\n",
       "    </tr>\n",
       "  </thead>\n",
       "  <tbody>\n",
       "    <tr>\n",
       "      <th>0</th>\n",
       "      <td>00000</td>\n",
       "      <td>2007</td>\n",
       "      <td>10.362778</td>\n",
       "    </tr>\n",
       "    <tr>\n",
       "      <th>1</th>\n",
       "      <td>01000</td>\n",
       "      <td>2007</td>\n",
       "      <td>10.362917</td>\n",
       "    </tr>\n",
       "    <tr>\n",
       "      <th>2</th>\n",
       "      <td>01001000</td>\n",
       "      <td>2007</td>\n",
       "      <td>10.219578</td>\n",
       "    </tr>\n",
       "    <tr>\n",
       "      <th>3</th>\n",
       "      <td>01002000</td>\n",
       "      <td>2007</td>\n",
       "      <td>10.198012</td>\n",
       "    </tr>\n",
       "    <tr>\n",
       "      <th>4</th>\n",
       "      <td>01003000</td>\n",
       "      <td>2007</td>\n",
       "      <td>10.231703</td>\n",
       "    </tr>\n",
       "  </tbody>\n",
       "</table>\n",
       "</div>"
      ],
      "text/plain": [
       "        AGS  year  income_pc\n",
       "0     00000  2007  10.362778\n",
       "1     01000  2007  10.362917\n",
       "2  01001000  2007  10.219578\n",
       "3  01002000  2007  10.198012\n",
       "4  01003000  2007  10.231703"
      ]
     },
     "execution_count": 55,
     "metadata": {},
     "output_type": "execute_result"
    }
   ],
   "source": [
    "income = pd.concat(income.values())\n",
    "income.head()"
   ]
  },
  {
   "cell_type": "markdown",
   "metadata": {},
   "source": [
    "Pivot religion df"
   ]
  },
  {
   "cell_type": "code",
   "execution_count": 74,
   "metadata": {},
   "outputs": [
    {
     "data": {
      "text/html": [
       "<div>\n",
       "<style scoped>\n",
       "    .dataframe tbody tr th:only-of-type {\n",
       "        vertical-align: middle;\n",
       "    }\n",
       "\n",
       "    .dataframe tbody tr th {\n",
       "        vertical-align: top;\n",
       "    }\n",
       "\n",
       "    .dataframe thead th {\n",
       "        text-align: right;\n",
       "    }\n",
       "</style>\n",
       "<table border=\"1\" class=\"dataframe\">\n",
       "  <thead>\n",
       "    <tr style=\"text-align: right;\">\n",
       "      <th>Religion</th>\n",
       "      <th>AGS</th>\n",
       "      <th>Catholic</th>\n",
       "    </tr>\n",
       "  </thead>\n",
       "  <tbody>\n",
       "    <tr>\n",
       "      <th>0</th>\n",
       "      <td>1</td>\n",
       "      <td>167565</td>\n",
       "    </tr>\n",
       "    <tr>\n",
       "      <th>1</th>\n",
       "      <td>10</td>\n",
       "      <td>619696</td>\n",
       "    </tr>\n",
       "    <tr>\n",
       "      <th>2</th>\n",
       "      <td>1001</td>\n",
       "      <td>5220</td>\n",
       "    </tr>\n",
       "    <tr>\n",
       "      <th>3</th>\n",
       "      <td>1002</td>\n",
       "      <td>17368</td>\n",
       "    </tr>\n",
       "    <tr>\n",
       "      <th>4</th>\n",
       "      <td>1003</td>\n",
       "      <td>17793</td>\n",
       "    </tr>\n",
       "  </tbody>\n",
       "</table>\n",
       "</div>"
      ],
      "text/plain": [
       "Religion   AGS  Catholic\n",
       "0            1    167565\n",
       "1           10    619696\n",
       "2         1001      5220\n",
       "3         1002     17368\n",
       "4         1003     17793"
      ]
     },
     "execution_count": 74,
     "metadata": {},
     "output_type": "execute_result"
    }
   ],
   "source": [
    "religion = pd.pivot_table(religion, index=['AGS'], columns=['Religion'], values='Bevölkerung', aggfunc=np.sum, fill_value=0)\n",
    "religion.rename(columns = {'Römisch-katholische Kirche': 'Catholic'}, inplace = True)\n",
    "religion = religion.reset_index()\n",
    "religion = religion[['AGS', 'Catholic']]\n",
    "religion.head()"
   ]
  },
  {
   "cell_type": "markdown",
   "metadata": {},
   "source": [
    "Since religion and foreign data is only available in 2011"
   ]
  },
  {
   "cell_type": "code",
   "execution_count": 75,
   "metadata": {},
   "outputs": [],
   "source": [
    "df_year = {2008: '', 2009: '', 2010: '', 2012:'', 2013:'', 2014:''}\n",
    "for year in df_year.keys(): \n",
    "    df_year[year] = religion\n",
    "    df_year[year]['year'] = year\n",
    "    #print(df_year[year]['year'].value_counts())\n",
    "religion = pd.concat(df_year.values())\n"
   ]
  },
  {
   "cell_type": "code",
   "execution_count": 71,
   "metadata": {},
   "outputs": [
    {
     "name": "stdout",
     "output_type": "stream",
     "text": [
      "Index(['AGS', 'Catholic', 'year'], dtype='object', name='Religion')\n",
      "Index(['AGS', 'Catholic', 'year'], dtype='object', name='Religion')\n",
      "Index(['AGS', 'Catholic', 'year'], dtype='object', name='Religion')\n",
      "Index(['AGS', 'Catholic', 'year'], dtype='object', name='Religion')\n",
      "Index(['AGS', 'Catholic', 'year'], dtype='object', name='Religion')\n",
      "Index(['AGS', 'Catholic', 'year'], dtype='object', name='Religion')\n",
      "Index(['AGS', 'Bevölkerung', 'weiblich', 'Ausländer/-innen', 'year'], dtype='object')\n",
      "Index(['AGS', 'Bevölkerung', 'weiblich', 'Ausländer/-innen', 'year'], dtype='object')\n",
      "Index(['AGS', 'Bevölkerung', 'weiblich', 'Ausländer/-innen', 'year'], dtype='object')\n",
      "Index(['AGS', 'Bevölkerung', 'weiblich', 'Ausländer/-innen', 'year'], dtype='object')\n",
      "Index(['AGS', 'Bevölkerung', 'weiblich', 'Ausländer/-innen', 'year'], dtype='object')\n",
      "Index(['AGS', 'Bevölkerung', 'weiblich', 'Ausländer/-innen', 'year'], dtype='object')\n"
     ]
    }
   ],
   "source": [
    "dfs = [religion, foreign]\n",
    "for df in dfs:\n",
    "    df_year = {2008: '', 2009: '', 2010: '', 2012:'', 2013:'', 2014:''}\n",
    "    for year in df_year.keys(): \n",
    "        df_year[year] = df\n",
    "        df_year[year]['year'] = year\n",
    "        print(df_year[year].columns)\n",
    "    df = pd.concat(df_year.values())\n",
    "religion, foreign = dfs"
   ]
  },
  {
   "cell_type": "code",
   "execution_count": 56,
   "metadata": {},
   "outputs": [
    {
     "data": {
      "text/plain": [
       "Index(['AGS', 'Bevölkerung', 'weiblich', 'Ausländer/-innen'], dtype='object')"
      ]
     },
     "execution_count": 56,
     "metadata": {},
     "output_type": "execute_result"
    }
   ],
   "source": [
    "foreign.columns"
   ]
  },
  {
   "cell_type": "markdown",
   "metadata": {},
   "source": [
    "Concatenate datasets"
   ]
  },
  {
   "cell_type": "code",
   "execution_count": 161,
   "metadata": {},
   "outputs": [
    {
     "data": {
      "text/html": [
       "<div>\n",
       "<style scoped>\n",
       "    .dataframe tbody tr th:only-of-type {\n",
       "        vertical-align: middle;\n",
       "    }\n",
       "\n",
       "    .dataframe tbody tr th {\n",
       "        vertical-align: top;\n",
       "    }\n",
       "\n",
       "    .dataframe thead th {\n",
       "        text-align: right;\n",
       "    }\n",
       "</style>\n",
       "<table border=\"1\" class=\"dataframe\">\n",
       "  <thead>\n",
       "    <tr style=\"text-align: right;\">\n",
       "      <th></th>\n",
       "      <th>AGS</th>\n",
       "      <th>Arbeitslose</th>\n",
       "      <th>year</th>\n",
       "      <th>Einkünfte je Steuerpflichtigen in Tsd.</th>\n",
       "      <th>Bevölkerung</th>\n",
       "      <th>weiblich</th>\n",
       "      <th>Ausländer/-innen</th>\n",
       "      <th>Catholic</th>\n",
       "      <th>avg. age</th>\n",
       "    </tr>\n",
       "  </thead>\n",
       "  <tbody>\n",
       "    <tr>\n",
       "      <th>1</th>\n",
       "      <td>01001000</td>\n",
       "      <td>4948.0</td>\n",
       "      <td>2008</td>\n",
       "      <td>NaN</td>\n",
       "      <td>NaN</td>\n",
       "      <td>NaN</td>\n",
       "      <td>NaN</td>\n",
       "      <td>NaN</td>\n",
       "      <td>NaN</td>\n",
       "    </tr>\n",
       "    <tr>\n",
       "      <th>1</th>\n",
       "      <td>01001000</td>\n",
       "      <td>NaN</td>\n",
       "      <td>2010</td>\n",
       "      <td>27</td>\n",
       "      <td>NaN</td>\n",
       "      <td>NaN</td>\n",
       "      <td>NaN</td>\n",
       "      <td>NaN</td>\n",
       "      <td>NaN</td>\n",
       "    </tr>\n",
       "    <tr>\n",
       "      <th>1</th>\n",
       "      <td>01001000</td>\n",
       "      <td>NaN</td>\n",
       "      <td>2011</td>\n",
       "      <td>NaN</td>\n",
       "      <td>82258.0</td>\n",
       "      <td>41724.0</td>\n",
       "      <td>5129.0</td>\n",
       "      <td>NaN</td>\n",
       "      <td>NaN</td>\n",
       "    </tr>\n",
       "    <tr>\n",
       "      <th>51</th>\n",
       "      <td>01001000</td>\n",
       "      <td>NaN</td>\n",
       "      <td>2011</td>\n",
       "      <td>NaN</td>\n",
       "      <td>NaN</td>\n",
       "      <td>NaN</td>\n",
       "      <td>NaN</td>\n",
       "      <td>5220.0</td>\n",
       "      <td>NaN</td>\n",
       "    </tr>\n",
       "    <tr>\n",
       "      <th>1</th>\n",
       "      <td>01001000</td>\n",
       "      <td>5127.0</td>\n",
       "      <td>2012</td>\n",
       "      <td>NaN</td>\n",
       "      <td>NaN</td>\n",
       "      <td>NaN</td>\n",
       "      <td>NaN</td>\n",
       "      <td>NaN</td>\n",
       "      <td>NaN</td>\n",
       "    </tr>\n",
       "  </tbody>\n",
       "</table>\n",
       "</div>"
      ],
      "text/plain": [
       "         AGS  Arbeitslose  year Einkünfte je Steuerpflichtigen in Tsd.  \\\n",
       "1   01001000       4948.0  2008                                    NaN   \n",
       "1   01001000          NaN  2010                                     27   \n",
       "1   01001000          NaN  2011                                    NaN   \n",
       "51  01001000          NaN  2011                                    NaN   \n",
       "1   01001000       5127.0  2012                                    NaN   \n",
       "\n",
       "    Bevölkerung  weiblich  Ausländer/-innen  Catholic avg. age  \n",
       "1           NaN       NaN               NaN       NaN      NaN  \n",
       "1           NaN       NaN               NaN       NaN      NaN  \n",
       "1       82258.0   41724.0            5129.0       NaN      NaN  \n",
       "51          NaN       NaN               NaN    5220.0      NaN  \n",
       "1           NaN       NaN               NaN       NaN      NaN  "
      ]
     },
     "execution_count": 161,
     "metadata": {},
     "output_type": "execute_result"
    }
   ],
   "source": [
    "\n",
    "rs_controls = rs_controls.sort_values(['AGS', 'year'])\n",
    "rs_controls.head()"
   ]
  },
  {
   "cell_type": "markdown",
   "metadata": {},
   "source": [
    "Rename columns"
   ]
  },
  {
   "cell_type": "code",
   "execution_count": 182,
   "metadata": {},
   "outputs": [],
   "source": [
    "col_names = ['AGS', 'unemployed_rs', 'year', 'income_rs', 'pop_rs', 'female_rs', 'foreign_rs', 'catholic_rs', 'avg_age_rs']\n",
    "rs_controls.columns = col_names"
   ]
  },
  {
   "cell_type": "markdown",
   "metadata": {},
   "source": [
    "Load BBSR datasets"
   ]
  },
  {
   "cell_type": "code",
   "execution_count": 109,
   "metadata": {},
   "outputs": [],
   "source": [
    "files = ['ref-gemeinden-1990-2000.xlsx', 'ref-gemeinden-2000-2010.xlsx', 'ref-gemeinden-2010-2020.xlsx']\n",
    "bbsr_dfs = {}\n",
    "for year in range(1990, 2000):\n",
    "   bbsr_dfs[year] = pd.read_excel(f'{path}/data/controls/{files[0]}', sheet_name=f'{year}-{year+1}', header=1, decimal = ',')\n",
    "for year in range(2000, 2010):\n",
    "   bbsr_dfs[year] = pd.read_excel(f'{path}/data/controls/{files[1]}', sheet_name=f'{year}-{year+1}', header=1, decimal = ',')\n",
    "for year in range(2010, 2020):\n",
    "    if year < 2016:\n",
    "       bbsr_dfs[year] = pd.read_excel(f'{path}/data/controls/{files[2]}', sheet_name=f'{year}-{year+1}', header=1, decimal = ',')\n",
    "    else: # header changed\n",
    "       bbsr_dfs[year] = pd.read_excel(f'{path}/data/controls/{files[2]}', sheet_name=f'{year}-{year+1}', header=0, decimal = ',')"
   ]
  },
  {
   "cell_type": "markdown",
   "metadata": {},
   "source": [
    "Rename and filter columns, Fix the AGS, insert year column"
   ]
  },
  {
   "cell_type": "code",
   "execution_count": 111,
   "metadata": {},
   "outputs": [
    {
     "name": "stderr",
     "output_type": "stream",
     "text": [
      "/var/folders/wm/mtrphj0s0msgrmyshf3hgk740000gn/T/ipykernel_46242/4007496148.py:14: SettingWithCopyWarning: \n",
      "A value is trying to be set on a copy of a slice from a DataFrame.\n",
      "Try using .loc[row_indexer,col_indexer] = value instead\n",
      "\n",
      "See the caveats in the documentation: https://pandas.pydata.org/pandas-docs/stable/user_guide/indexing.html#returning-a-view-versus-a-copy\n",
      "  filtered_bbsr[year]['year'] = year\n",
      "/var/folders/wm/mtrphj0s0msgrmyshf3hgk740000gn/T/ipykernel_46242/4007496148.py:16: SettingWithCopyWarning: \n",
      "A value is trying to be set on a copy of a slice from a DataFrame.\n",
      "Try using .loc[row_indexer,col_indexer] = value instead\n",
      "\n",
      "See the caveats in the documentation: https://pandas.pydata.org/pandas-docs/stable/user_guide/indexing.html#returning-a-view-versus-a-copy\n",
      "  filtered_bbsr[year]['AGS'] = filtered_bbsr[year]['AGS'].astype(str)\n",
      "/var/folders/wm/mtrphj0s0msgrmyshf3hgk740000gn/T/ipykernel_46242/4007496148.py:17: SettingWithCopyWarning: \n",
      "A value is trying to be set on a copy of a slice from a DataFrame.\n",
      "Try using .loc[row_indexer,col_indexer] = value instead\n",
      "\n",
      "See the caveats in the documentation: https://pandas.pydata.org/pandas-docs/stable/user_guide/indexing.html#returning-a-view-versus-a-copy\n",
      "  filtered_bbsr[year]['AGS'] = np.where(filtered_bbsr[year]['AGS'].str.len() < 8, '0' + filtered_bbsr[year]['AGS'], filtered_bbsr[year]['AGS'])\n",
      "/var/folders/wm/mtrphj0s0msgrmyshf3hgk740000gn/T/ipykernel_46242/4007496148.py:14: SettingWithCopyWarning: \n",
      "A value is trying to be set on a copy of a slice from a DataFrame.\n",
      "Try using .loc[row_indexer,col_indexer] = value instead\n",
      "\n",
      "See the caveats in the documentation: https://pandas.pydata.org/pandas-docs/stable/user_guide/indexing.html#returning-a-view-versus-a-copy\n",
      "  filtered_bbsr[year]['year'] = year\n",
      "/var/folders/wm/mtrphj0s0msgrmyshf3hgk740000gn/T/ipykernel_46242/4007496148.py:16: SettingWithCopyWarning: \n",
      "A value is trying to be set on a copy of a slice from a DataFrame.\n",
      "Try using .loc[row_indexer,col_indexer] = value instead\n",
      "\n",
      "See the caveats in the documentation: https://pandas.pydata.org/pandas-docs/stable/user_guide/indexing.html#returning-a-view-versus-a-copy\n",
      "  filtered_bbsr[year]['AGS'] = filtered_bbsr[year]['AGS'].astype(str)\n",
      "/var/folders/wm/mtrphj0s0msgrmyshf3hgk740000gn/T/ipykernel_46242/4007496148.py:17: SettingWithCopyWarning: \n",
      "A value is trying to be set on a copy of a slice from a DataFrame.\n",
      "Try using .loc[row_indexer,col_indexer] = value instead\n",
      "\n",
      "See the caveats in the documentation: https://pandas.pydata.org/pandas-docs/stable/user_guide/indexing.html#returning-a-view-versus-a-copy\n",
      "  filtered_bbsr[year]['AGS'] = np.where(filtered_bbsr[year]['AGS'].str.len() < 8, '0' + filtered_bbsr[year]['AGS'], filtered_bbsr[year]['AGS'])\n",
      "/var/folders/wm/mtrphj0s0msgrmyshf3hgk740000gn/T/ipykernel_46242/4007496148.py:14: SettingWithCopyWarning: \n",
      "A value is trying to be set on a copy of a slice from a DataFrame.\n",
      "Try using .loc[row_indexer,col_indexer] = value instead\n",
      "\n",
      "See the caveats in the documentation: https://pandas.pydata.org/pandas-docs/stable/user_guide/indexing.html#returning-a-view-versus-a-copy\n",
      "  filtered_bbsr[year]['year'] = year\n",
      "/var/folders/wm/mtrphj0s0msgrmyshf3hgk740000gn/T/ipykernel_46242/4007496148.py:16: SettingWithCopyWarning: \n",
      "A value is trying to be set on a copy of a slice from a DataFrame.\n",
      "Try using .loc[row_indexer,col_indexer] = value instead\n",
      "\n",
      "See the caveats in the documentation: https://pandas.pydata.org/pandas-docs/stable/user_guide/indexing.html#returning-a-view-versus-a-copy\n",
      "  filtered_bbsr[year]['AGS'] = filtered_bbsr[year]['AGS'].astype(str)\n",
      "/var/folders/wm/mtrphj0s0msgrmyshf3hgk740000gn/T/ipykernel_46242/4007496148.py:17: SettingWithCopyWarning: \n",
      "A value is trying to be set on a copy of a slice from a DataFrame.\n",
      "Try using .loc[row_indexer,col_indexer] = value instead\n",
      "\n",
      "See the caveats in the documentation: https://pandas.pydata.org/pandas-docs/stable/user_guide/indexing.html#returning-a-view-versus-a-copy\n",
      "  filtered_bbsr[year]['AGS'] = np.where(filtered_bbsr[year]['AGS'].str.len() < 8, '0' + filtered_bbsr[year]['AGS'], filtered_bbsr[year]['AGS'])\n",
      "/var/folders/wm/mtrphj0s0msgrmyshf3hgk740000gn/T/ipykernel_46242/4007496148.py:14: SettingWithCopyWarning: \n",
      "A value is trying to be set on a copy of a slice from a DataFrame.\n",
      "Try using .loc[row_indexer,col_indexer] = value instead\n",
      "\n",
      "See the caveats in the documentation: https://pandas.pydata.org/pandas-docs/stable/user_guide/indexing.html#returning-a-view-versus-a-copy\n",
      "  filtered_bbsr[year]['year'] = year\n",
      "/var/folders/wm/mtrphj0s0msgrmyshf3hgk740000gn/T/ipykernel_46242/4007496148.py:16: SettingWithCopyWarning: \n",
      "A value is trying to be set on a copy of a slice from a DataFrame.\n",
      "Try using .loc[row_indexer,col_indexer] = value instead\n",
      "\n",
      "See the caveats in the documentation: https://pandas.pydata.org/pandas-docs/stable/user_guide/indexing.html#returning-a-view-versus-a-copy\n",
      "  filtered_bbsr[year]['AGS'] = filtered_bbsr[year]['AGS'].astype(str)\n",
      "/var/folders/wm/mtrphj0s0msgrmyshf3hgk740000gn/T/ipykernel_46242/4007496148.py:17: SettingWithCopyWarning: \n",
      "A value is trying to be set on a copy of a slice from a DataFrame.\n",
      "Try using .loc[row_indexer,col_indexer] = value instead\n",
      "\n",
      "See the caveats in the documentation: https://pandas.pydata.org/pandas-docs/stable/user_guide/indexing.html#returning-a-view-versus-a-copy\n",
      "  filtered_bbsr[year]['AGS'] = np.where(filtered_bbsr[year]['AGS'].str.len() < 8, '0' + filtered_bbsr[year]['AGS'], filtered_bbsr[year]['AGS'])\n",
      "/var/folders/wm/mtrphj0s0msgrmyshf3hgk740000gn/T/ipykernel_46242/4007496148.py:14: SettingWithCopyWarning: \n",
      "A value is trying to be set on a copy of a slice from a DataFrame.\n",
      "Try using .loc[row_indexer,col_indexer] = value instead\n",
      "\n",
      "See the caveats in the documentation: https://pandas.pydata.org/pandas-docs/stable/user_guide/indexing.html#returning-a-view-versus-a-copy\n",
      "  filtered_bbsr[year]['year'] = year\n",
      "/var/folders/wm/mtrphj0s0msgrmyshf3hgk740000gn/T/ipykernel_46242/4007496148.py:16: SettingWithCopyWarning: \n",
      "A value is trying to be set on a copy of a slice from a DataFrame.\n",
      "Try using .loc[row_indexer,col_indexer] = value instead\n",
      "\n",
      "See the caveats in the documentation: https://pandas.pydata.org/pandas-docs/stable/user_guide/indexing.html#returning-a-view-versus-a-copy\n",
      "  filtered_bbsr[year]['AGS'] = filtered_bbsr[year]['AGS'].astype(str)\n",
      "/var/folders/wm/mtrphj0s0msgrmyshf3hgk740000gn/T/ipykernel_46242/4007496148.py:17: SettingWithCopyWarning: \n",
      "A value is trying to be set on a copy of a slice from a DataFrame.\n",
      "Try using .loc[row_indexer,col_indexer] = value instead\n",
      "\n",
      "See the caveats in the documentation: https://pandas.pydata.org/pandas-docs/stable/user_guide/indexing.html#returning-a-view-versus-a-copy\n",
      "  filtered_bbsr[year]['AGS'] = np.where(filtered_bbsr[year]['AGS'].str.len() < 8, '0' + filtered_bbsr[year]['AGS'], filtered_bbsr[year]['AGS'])\n",
      "/var/folders/wm/mtrphj0s0msgrmyshf3hgk740000gn/T/ipykernel_46242/4007496148.py:14: SettingWithCopyWarning: \n",
      "A value is trying to be set on a copy of a slice from a DataFrame.\n",
      "Try using .loc[row_indexer,col_indexer] = value instead\n",
      "\n",
      "See the caveats in the documentation: https://pandas.pydata.org/pandas-docs/stable/user_guide/indexing.html#returning-a-view-versus-a-copy\n",
      "  filtered_bbsr[year]['year'] = year\n",
      "/var/folders/wm/mtrphj0s0msgrmyshf3hgk740000gn/T/ipykernel_46242/4007496148.py:16: SettingWithCopyWarning: \n",
      "A value is trying to be set on a copy of a slice from a DataFrame.\n",
      "Try using .loc[row_indexer,col_indexer] = value instead\n",
      "\n",
      "See the caveats in the documentation: https://pandas.pydata.org/pandas-docs/stable/user_guide/indexing.html#returning-a-view-versus-a-copy\n",
      "  filtered_bbsr[year]['AGS'] = filtered_bbsr[year]['AGS'].astype(str)\n",
      "/var/folders/wm/mtrphj0s0msgrmyshf3hgk740000gn/T/ipykernel_46242/4007496148.py:17: SettingWithCopyWarning: \n",
      "A value is trying to be set on a copy of a slice from a DataFrame.\n",
      "Try using .loc[row_indexer,col_indexer] = value instead\n",
      "\n",
      "See the caveats in the documentation: https://pandas.pydata.org/pandas-docs/stable/user_guide/indexing.html#returning-a-view-versus-a-copy\n",
      "  filtered_bbsr[year]['AGS'] = np.where(filtered_bbsr[year]['AGS'].str.len() < 8, '0' + filtered_bbsr[year]['AGS'], filtered_bbsr[year]['AGS'])\n",
      "/var/folders/wm/mtrphj0s0msgrmyshf3hgk740000gn/T/ipykernel_46242/4007496148.py:14: SettingWithCopyWarning: \n",
      "A value is trying to be set on a copy of a slice from a DataFrame.\n",
      "Try using .loc[row_indexer,col_indexer] = value instead\n",
      "\n",
      "See the caveats in the documentation: https://pandas.pydata.org/pandas-docs/stable/user_guide/indexing.html#returning-a-view-versus-a-copy\n",
      "  filtered_bbsr[year]['year'] = year\n",
      "/var/folders/wm/mtrphj0s0msgrmyshf3hgk740000gn/T/ipykernel_46242/4007496148.py:16: SettingWithCopyWarning: \n",
      "A value is trying to be set on a copy of a slice from a DataFrame.\n",
      "Try using .loc[row_indexer,col_indexer] = value instead\n",
      "\n",
      "See the caveats in the documentation: https://pandas.pydata.org/pandas-docs/stable/user_guide/indexing.html#returning-a-view-versus-a-copy\n",
      "  filtered_bbsr[year]['AGS'] = filtered_bbsr[year]['AGS'].astype(str)\n",
      "/var/folders/wm/mtrphj0s0msgrmyshf3hgk740000gn/T/ipykernel_46242/4007496148.py:17: SettingWithCopyWarning: \n",
      "A value is trying to be set on a copy of a slice from a DataFrame.\n",
      "Try using .loc[row_indexer,col_indexer] = value instead\n",
      "\n",
      "See the caveats in the documentation: https://pandas.pydata.org/pandas-docs/stable/user_guide/indexing.html#returning-a-view-versus-a-copy\n",
      "  filtered_bbsr[year]['AGS'] = np.where(filtered_bbsr[year]['AGS'].str.len() < 8, '0' + filtered_bbsr[year]['AGS'], filtered_bbsr[year]['AGS'])\n",
      "/var/folders/wm/mtrphj0s0msgrmyshf3hgk740000gn/T/ipykernel_46242/4007496148.py:14: SettingWithCopyWarning: \n",
      "A value is trying to be set on a copy of a slice from a DataFrame.\n",
      "Try using .loc[row_indexer,col_indexer] = value instead\n",
      "\n",
      "See the caveats in the documentation: https://pandas.pydata.org/pandas-docs/stable/user_guide/indexing.html#returning-a-view-versus-a-copy\n",
      "  filtered_bbsr[year]['year'] = year\n",
      "/var/folders/wm/mtrphj0s0msgrmyshf3hgk740000gn/T/ipykernel_46242/4007496148.py:16: SettingWithCopyWarning: \n",
      "A value is trying to be set on a copy of a slice from a DataFrame.\n",
      "Try using .loc[row_indexer,col_indexer] = value instead\n",
      "\n",
      "See the caveats in the documentation: https://pandas.pydata.org/pandas-docs/stable/user_guide/indexing.html#returning-a-view-versus-a-copy\n",
      "  filtered_bbsr[year]['AGS'] = filtered_bbsr[year]['AGS'].astype(str)\n",
      "/var/folders/wm/mtrphj0s0msgrmyshf3hgk740000gn/T/ipykernel_46242/4007496148.py:17: SettingWithCopyWarning: \n",
      "A value is trying to be set on a copy of a slice from a DataFrame.\n",
      "Try using .loc[row_indexer,col_indexer] = value instead\n",
      "\n",
      "See the caveats in the documentation: https://pandas.pydata.org/pandas-docs/stable/user_guide/indexing.html#returning-a-view-versus-a-copy\n",
      "  filtered_bbsr[year]['AGS'] = np.where(filtered_bbsr[year]['AGS'].str.len() < 8, '0' + filtered_bbsr[year]['AGS'], filtered_bbsr[year]['AGS'])\n",
      "/var/folders/wm/mtrphj0s0msgrmyshf3hgk740000gn/T/ipykernel_46242/4007496148.py:14: SettingWithCopyWarning: \n",
      "A value is trying to be set on a copy of a slice from a DataFrame.\n",
      "Try using .loc[row_indexer,col_indexer] = value instead\n",
      "\n",
      "See the caveats in the documentation: https://pandas.pydata.org/pandas-docs/stable/user_guide/indexing.html#returning-a-view-versus-a-copy\n",
      "  filtered_bbsr[year]['year'] = year\n",
      "/var/folders/wm/mtrphj0s0msgrmyshf3hgk740000gn/T/ipykernel_46242/4007496148.py:16: SettingWithCopyWarning: \n",
      "A value is trying to be set on a copy of a slice from a DataFrame.\n",
      "Try using .loc[row_indexer,col_indexer] = value instead\n",
      "\n",
      "See the caveats in the documentation: https://pandas.pydata.org/pandas-docs/stable/user_guide/indexing.html#returning-a-view-versus-a-copy\n",
      "  filtered_bbsr[year]['AGS'] = filtered_bbsr[year]['AGS'].astype(str)\n",
      "/var/folders/wm/mtrphj0s0msgrmyshf3hgk740000gn/T/ipykernel_46242/4007496148.py:17: SettingWithCopyWarning: \n",
      "A value is trying to be set on a copy of a slice from a DataFrame.\n",
      "Try using .loc[row_indexer,col_indexer] = value instead\n",
      "\n",
      "See the caveats in the documentation: https://pandas.pydata.org/pandas-docs/stable/user_guide/indexing.html#returning-a-view-versus-a-copy\n",
      "  filtered_bbsr[year]['AGS'] = np.where(filtered_bbsr[year]['AGS'].str.len() < 8, '0' + filtered_bbsr[year]['AGS'], filtered_bbsr[year]['AGS'])\n",
      "/var/folders/wm/mtrphj0s0msgrmyshf3hgk740000gn/T/ipykernel_46242/4007496148.py:14: SettingWithCopyWarning: \n",
      "A value is trying to be set on a copy of a slice from a DataFrame.\n",
      "Try using .loc[row_indexer,col_indexer] = value instead\n",
      "\n",
      "See the caveats in the documentation: https://pandas.pydata.org/pandas-docs/stable/user_guide/indexing.html#returning-a-view-versus-a-copy\n",
      "  filtered_bbsr[year]['year'] = year\n",
      "/var/folders/wm/mtrphj0s0msgrmyshf3hgk740000gn/T/ipykernel_46242/4007496148.py:16: SettingWithCopyWarning: \n",
      "A value is trying to be set on a copy of a slice from a DataFrame.\n",
      "Try using .loc[row_indexer,col_indexer] = value instead\n",
      "\n",
      "See the caveats in the documentation: https://pandas.pydata.org/pandas-docs/stable/user_guide/indexing.html#returning-a-view-versus-a-copy\n",
      "  filtered_bbsr[year]['AGS'] = filtered_bbsr[year]['AGS'].astype(str)\n",
      "/var/folders/wm/mtrphj0s0msgrmyshf3hgk740000gn/T/ipykernel_46242/4007496148.py:17: SettingWithCopyWarning: \n",
      "A value is trying to be set on a copy of a slice from a DataFrame.\n",
      "Try using .loc[row_indexer,col_indexer] = value instead\n",
      "\n",
      "See the caveats in the documentation: https://pandas.pydata.org/pandas-docs/stable/user_guide/indexing.html#returning-a-view-versus-a-copy\n",
      "  filtered_bbsr[year]['AGS'] = np.where(filtered_bbsr[year]['AGS'].str.len() < 8, '0' + filtered_bbsr[year]['AGS'], filtered_bbsr[year]['AGS'])\n",
      "/var/folders/wm/mtrphj0s0msgrmyshf3hgk740000gn/T/ipykernel_46242/4007496148.py:14: SettingWithCopyWarning: \n",
      "A value is trying to be set on a copy of a slice from a DataFrame.\n",
      "Try using .loc[row_indexer,col_indexer] = value instead\n",
      "\n",
      "See the caveats in the documentation: https://pandas.pydata.org/pandas-docs/stable/user_guide/indexing.html#returning-a-view-versus-a-copy\n",
      "  filtered_bbsr[year]['year'] = year\n",
      "/var/folders/wm/mtrphj0s0msgrmyshf3hgk740000gn/T/ipykernel_46242/4007496148.py:16: SettingWithCopyWarning: \n",
      "A value is trying to be set on a copy of a slice from a DataFrame.\n",
      "Try using .loc[row_indexer,col_indexer] = value instead\n",
      "\n",
      "See the caveats in the documentation: https://pandas.pydata.org/pandas-docs/stable/user_guide/indexing.html#returning-a-view-versus-a-copy\n",
      "  filtered_bbsr[year]['AGS'] = filtered_bbsr[year]['AGS'].astype(str)\n",
      "/var/folders/wm/mtrphj0s0msgrmyshf3hgk740000gn/T/ipykernel_46242/4007496148.py:17: SettingWithCopyWarning: \n",
      "A value is trying to be set on a copy of a slice from a DataFrame.\n",
      "Try using .loc[row_indexer,col_indexer] = value instead\n",
      "\n",
      "See the caveats in the documentation: https://pandas.pydata.org/pandas-docs/stable/user_guide/indexing.html#returning-a-view-versus-a-copy\n",
      "  filtered_bbsr[year]['AGS'] = np.where(filtered_bbsr[year]['AGS'].str.len() < 8, '0' + filtered_bbsr[year]['AGS'], filtered_bbsr[year]['AGS'])\n",
      "/var/folders/wm/mtrphj0s0msgrmyshf3hgk740000gn/T/ipykernel_46242/4007496148.py:14: SettingWithCopyWarning: \n",
      "A value is trying to be set on a copy of a slice from a DataFrame.\n",
      "Try using .loc[row_indexer,col_indexer] = value instead\n",
      "\n",
      "See the caveats in the documentation: https://pandas.pydata.org/pandas-docs/stable/user_guide/indexing.html#returning-a-view-versus-a-copy\n",
      "  filtered_bbsr[year]['year'] = year\n",
      "/var/folders/wm/mtrphj0s0msgrmyshf3hgk740000gn/T/ipykernel_46242/4007496148.py:16: SettingWithCopyWarning: \n",
      "A value is trying to be set on a copy of a slice from a DataFrame.\n",
      "Try using .loc[row_indexer,col_indexer] = value instead\n",
      "\n",
      "See the caveats in the documentation: https://pandas.pydata.org/pandas-docs/stable/user_guide/indexing.html#returning-a-view-versus-a-copy\n",
      "  filtered_bbsr[year]['AGS'] = filtered_bbsr[year]['AGS'].astype(str)\n",
      "/var/folders/wm/mtrphj0s0msgrmyshf3hgk740000gn/T/ipykernel_46242/4007496148.py:17: SettingWithCopyWarning: \n",
      "A value is trying to be set on a copy of a slice from a DataFrame.\n",
      "Try using .loc[row_indexer,col_indexer] = value instead\n",
      "\n",
      "See the caveats in the documentation: https://pandas.pydata.org/pandas-docs/stable/user_guide/indexing.html#returning-a-view-versus-a-copy\n",
      "  filtered_bbsr[year]['AGS'] = np.where(filtered_bbsr[year]['AGS'].str.len() < 8, '0' + filtered_bbsr[year]['AGS'], filtered_bbsr[year]['AGS'])\n",
      "/var/folders/wm/mtrphj0s0msgrmyshf3hgk740000gn/T/ipykernel_46242/4007496148.py:14: SettingWithCopyWarning: \n",
      "A value is trying to be set on a copy of a slice from a DataFrame.\n",
      "Try using .loc[row_indexer,col_indexer] = value instead\n",
      "\n",
      "See the caveats in the documentation: https://pandas.pydata.org/pandas-docs/stable/user_guide/indexing.html#returning-a-view-versus-a-copy\n",
      "  filtered_bbsr[year]['year'] = year\n",
      "/var/folders/wm/mtrphj0s0msgrmyshf3hgk740000gn/T/ipykernel_46242/4007496148.py:16: SettingWithCopyWarning: \n",
      "A value is trying to be set on a copy of a slice from a DataFrame.\n",
      "Try using .loc[row_indexer,col_indexer] = value instead\n",
      "\n",
      "See the caveats in the documentation: https://pandas.pydata.org/pandas-docs/stable/user_guide/indexing.html#returning-a-view-versus-a-copy\n",
      "  filtered_bbsr[year]['AGS'] = filtered_bbsr[year]['AGS'].astype(str)\n",
      "/var/folders/wm/mtrphj0s0msgrmyshf3hgk740000gn/T/ipykernel_46242/4007496148.py:17: SettingWithCopyWarning: \n",
      "A value is trying to be set on a copy of a slice from a DataFrame.\n",
      "Try using .loc[row_indexer,col_indexer] = value instead\n",
      "\n",
      "See the caveats in the documentation: https://pandas.pydata.org/pandas-docs/stable/user_guide/indexing.html#returning-a-view-versus-a-copy\n",
      "  filtered_bbsr[year]['AGS'] = np.where(filtered_bbsr[year]['AGS'].str.len() < 8, '0' + filtered_bbsr[year]['AGS'], filtered_bbsr[year]['AGS'])\n",
      "/var/folders/wm/mtrphj0s0msgrmyshf3hgk740000gn/T/ipykernel_46242/4007496148.py:14: SettingWithCopyWarning: \n",
      "A value is trying to be set on a copy of a slice from a DataFrame.\n",
      "Try using .loc[row_indexer,col_indexer] = value instead\n",
      "\n",
      "See the caveats in the documentation: https://pandas.pydata.org/pandas-docs/stable/user_guide/indexing.html#returning-a-view-versus-a-copy\n",
      "  filtered_bbsr[year]['year'] = year\n",
      "/var/folders/wm/mtrphj0s0msgrmyshf3hgk740000gn/T/ipykernel_46242/4007496148.py:16: SettingWithCopyWarning: \n",
      "A value is trying to be set on a copy of a slice from a DataFrame.\n",
      "Try using .loc[row_indexer,col_indexer] = value instead\n",
      "\n",
      "See the caveats in the documentation: https://pandas.pydata.org/pandas-docs/stable/user_guide/indexing.html#returning-a-view-versus-a-copy\n",
      "  filtered_bbsr[year]['AGS'] = filtered_bbsr[year]['AGS'].astype(str)\n",
      "/var/folders/wm/mtrphj0s0msgrmyshf3hgk740000gn/T/ipykernel_46242/4007496148.py:17: SettingWithCopyWarning: \n",
      "A value is trying to be set on a copy of a slice from a DataFrame.\n",
      "Try using .loc[row_indexer,col_indexer] = value instead\n",
      "\n",
      "See the caveats in the documentation: https://pandas.pydata.org/pandas-docs/stable/user_guide/indexing.html#returning-a-view-versus-a-copy\n",
      "  filtered_bbsr[year]['AGS'] = np.where(filtered_bbsr[year]['AGS'].str.len() < 8, '0' + filtered_bbsr[year]['AGS'], filtered_bbsr[year]['AGS'])\n",
      "/var/folders/wm/mtrphj0s0msgrmyshf3hgk740000gn/T/ipykernel_46242/4007496148.py:14: SettingWithCopyWarning: \n",
      "A value is trying to be set on a copy of a slice from a DataFrame.\n",
      "Try using .loc[row_indexer,col_indexer] = value instead\n",
      "\n",
      "See the caveats in the documentation: https://pandas.pydata.org/pandas-docs/stable/user_guide/indexing.html#returning-a-view-versus-a-copy\n",
      "  filtered_bbsr[year]['year'] = year\n",
      "/var/folders/wm/mtrphj0s0msgrmyshf3hgk740000gn/T/ipykernel_46242/4007496148.py:16: SettingWithCopyWarning: \n",
      "A value is trying to be set on a copy of a slice from a DataFrame.\n",
      "Try using .loc[row_indexer,col_indexer] = value instead\n",
      "\n",
      "See the caveats in the documentation: https://pandas.pydata.org/pandas-docs/stable/user_guide/indexing.html#returning-a-view-versus-a-copy\n",
      "  filtered_bbsr[year]['AGS'] = filtered_bbsr[year]['AGS'].astype(str)\n",
      "/var/folders/wm/mtrphj0s0msgrmyshf3hgk740000gn/T/ipykernel_46242/4007496148.py:17: SettingWithCopyWarning: \n",
      "A value is trying to be set on a copy of a slice from a DataFrame.\n",
      "Try using .loc[row_indexer,col_indexer] = value instead\n",
      "\n",
      "See the caveats in the documentation: https://pandas.pydata.org/pandas-docs/stable/user_guide/indexing.html#returning-a-view-versus-a-copy\n",
      "  filtered_bbsr[year]['AGS'] = np.where(filtered_bbsr[year]['AGS'].str.len() < 8, '0' + filtered_bbsr[year]['AGS'], filtered_bbsr[year]['AGS'])\n",
      "/var/folders/wm/mtrphj0s0msgrmyshf3hgk740000gn/T/ipykernel_46242/4007496148.py:14: SettingWithCopyWarning: \n",
      "A value is trying to be set on a copy of a slice from a DataFrame.\n",
      "Try using .loc[row_indexer,col_indexer] = value instead\n",
      "\n",
      "See the caveats in the documentation: https://pandas.pydata.org/pandas-docs/stable/user_guide/indexing.html#returning-a-view-versus-a-copy\n",
      "  filtered_bbsr[year]['year'] = year\n",
      "/var/folders/wm/mtrphj0s0msgrmyshf3hgk740000gn/T/ipykernel_46242/4007496148.py:16: SettingWithCopyWarning: \n",
      "A value is trying to be set on a copy of a slice from a DataFrame.\n",
      "Try using .loc[row_indexer,col_indexer] = value instead\n",
      "\n",
      "See the caveats in the documentation: https://pandas.pydata.org/pandas-docs/stable/user_guide/indexing.html#returning-a-view-versus-a-copy\n",
      "  filtered_bbsr[year]['AGS'] = filtered_bbsr[year]['AGS'].astype(str)\n",
      "/var/folders/wm/mtrphj0s0msgrmyshf3hgk740000gn/T/ipykernel_46242/4007496148.py:17: SettingWithCopyWarning: \n",
      "A value is trying to be set on a copy of a slice from a DataFrame.\n",
      "Try using .loc[row_indexer,col_indexer] = value instead\n",
      "\n",
      "See the caveats in the documentation: https://pandas.pydata.org/pandas-docs/stable/user_guide/indexing.html#returning-a-view-versus-a-copy\n",
      "  filtered_bbsr[year]['AGS'] = np.where(filtered_bbsr[year]['AGS'].str.len() < 8, '0' + filtered_bbsr[year]['AGS'], filtered_bbsr[year]['AGS'])\n",
      "/var/folders/wm/mtrphj0s0msgrmyshf3hgk740000gn/T/ipykernel_46242/4007496148.py:14: SettingWithCopyWarning: \n",
      "A value is trying to be set on a copy of a slice from a DataFrame.\n",
      "Try using .loc[row_indexer,col_indexer] = value instead\n",
      "\n",
      "See the caveats in the documentation: https://pandas.pydata.org/pandas-docs/stable/user_guide/indexing.html#returning-a-view-versus-a-copy\n",
      "  filtered_bbsr[year]['year'] = year\n",
      "/var/folders/wm/mtrphj0s0msgrmyshf3hgk740000gn/T/ipykernel_46242/4007496148.py:16: SettingWithCopyWarning: \n",
      "A value is trying to be set on a copy of a slice from a DataFrame.\n",
      "Try using .loc[row_indexer,col_indexer] = value instead\n",
      "\n",
      "See the caveats in the documentation: https://pandas.pydata.org/pandas-docs/stable/user_guide/indexing.html#returning-a-view-versus-a-copy\n",
      "  filtered_bbsr[year]['AGS'] = filtered_bbsr[year]['AGS'].astype(str)\n",
      "/var/folders/wm/mtrphj0s0msgrmyshf3hgk740000gn/T/ipykernel_46242/4007496148.py:17: SettingWithCopyWarning: \n",
      "A value is trying to be set on a copy of a slice from a DataFrame.\n",
      "Try using .loc[row_indexer,col_indexer] = value instead\n",
      "\n",
      "See the caveats in the documentation: https://pandas.pydata.org/pandas-docs/stable/user_guide/indexing.html#returning-a-view-versus-a-copy\n",
      "  filtered_bbsr[year]['AGS'] = np.where(filtered_bbsr[year]['AGS'].str.len() < 8, '0' + filtered_bbsr[year]['AGS'], filtered_bbsr[year]['AGS'])\n",
      "/var/folders/wm/mtrphj0s0msgrmyshf3hgk740000gn/T/ipykernel_46242/4007496148.py:14: SettingWithCopyWarning: \n",
      "A value is trying to be set on a copy of a slice from a DataFrame.\n",
      "Try using .loc[row_indexer,col_indexer] = value instead\n",
      "\n",
      "See the caveats in the documentation: https://pandas.pydata.org/pandas-docs/stable/user_guide/indexing.html#returning-a-view-versus-a-copy\n",
      "  filtered_bbsr[year]['year'] = year\n",
      "/var/folders/wm/mtrphj0s0msgrmyshf3hgk740000gn/T/ipykernel_46242/4007496148.py:16: SettingWithCopyWarning: \n",
      "A value is trying to be set on a copy of a slice from a DataFrame.\n",
      "Try using .loc[row_indexer,col_indexer] = value instead\n",
      "\n",
      "See the caveats in the documentation: https://pandas.pydata.org/pandas-docs/stable/user_guide/indexing.html#returning-a-view-versus-a-copy\n",
      "  filtered_bbsr[year]['AGS'] = filtered_bbsr[year]['AGS'].astype(str)\n",
      "/var/folders/wm/mtrphj0s0msgrmyshf3hgk740000gn/T/ipykernel_46242/4007496148.py:17: SettingWithCopyWarning: \n",
      "A value is trying to be set on a copy of a slice from a DataFrame.\n",
      "Try using .loc[row_indexer,col_indexer] = value instead\n",
      "\n",
      "See the caveats in the documentation: https://pandas.pydata.org/pandas-docs/stable/user_guide/indexing.html#returning-a-view-versus-a-copy\n",
      "  filtered_bbsr[year]['AGS'] = np.where(filtered_bbsr[year]['AGS'].str.len() < 8, '0' + filtered_bbsr[year]['AGS'], filtered_bbsr[year]['AGS'])\n",
      "/var/folders/wm/mtrphj0s0msgrmyshf3hgk740000gn/T/ipykernel_46242/4007496148.py:14: SettingWithCopyWarning: \n",
      "A value is trying to be set on a copy of a slice from a DataFrame.\n",
      "Try using .loc[row_indexer,col_indexer] = value instead\n",
      "\n",
      "See the caveats in the documentation: https://pandas.pydata.org/pandas-docs/stable/user_guide/indexing.html#returning-a-view-versus-a-copy\n",
      "  filtered_bbsr[year]['year'] = year\n",
      "/var/folders/wm/mtrphj0s0msgrmyshf3hgk740000gn/T/ipykernel_46242/4007496148.py:16: SettingWithCopyWarning: \n",
      "A value is trying to be set on a copy of a slice from a DataFrame.\n",
      "Try using .loc[row_indexer,col_indexer] = value instead\n",
      "\n",
      "See the caveats in the documentation: https://pandas.pydata.org/pandas-docs/stable/user_guide/indexing.html#returning-a-view-versus-a-copy\n",
      "  filtered_bbsr[year]['AGS'] = filtered_bbsr[year]['AGS'].astype(str)\n",
      "/var/folders/wm/mtrphj0s0msgrmyshf3hgk740000gn/T/ipykernel_46242/4007496148.py:17: SettingWithCopyWarning: \n",
      "A value is trying to be set on a copy of a slice from a DataFrame.\n",
      "Try using .loc[row_indexer,col_indexer] = value instead\n",
      "\n",
      "See the caveats in the documentation: https://pandas.pydata.org/pandas-docs/stable/user_guide/indexing.html#returning-a-view-versus-a-copy\n",
      "  filtered_bbsr[year]['AGS'] = np.where(filtered_bbsr[year]['AGS'].str.len() < 8, '0' + filtered_bbsr[year]['AGS'], filtered_bbsr[year]['AGS'])\n",
      "/var/folders/wm/mtrphj0s0msgrmyshf3hgk740000gn/T/ipykernel_46242/4007496148.py:14: SettingWithCopyWarning: \n",
      "A value is trying to be set on a copy of a slice from a DataFrame.\n",
      "Try using .loc[row_indexer,col_indexer] = value instead\n",
      "\n",
      "See the caveats in the documentation: https://pandas.pydata.org/pandas-docs/stable/user_guide/indexing.html#returning-a-view-versus-a-copy\n",
      "  filtered_bbsr[year]['year'] = year\n",
      "/var/folders/wm/mtrphj0s0msgrmyshf3hgk740000gn/T/ipykernel_46242/4007496148.py:16: SettingWithCopyWarning: \n",
      "A value is trying to be set on a copy of a slice from a DataFrame.\n",
      "Try using .loc[row_indexer,col_indexer] = value instead\n",
      "\n",
      "See the caveats in the documentation: https://pandas.pydata.org/pandas-docs/stable/user_guide/indexing.html#returning-a-view-versus-a-copy\n",
      "  filtered_bbsr[year]['AGS'] = filtered_bbsr[year]['AGS'].astype(str)\n",
      "/var/folders/wm/mtrphj0s0msgrmyshf3hgk740000gn/T/ipykernel_46242/4007496148.py:17: SettingWithCopyWarning: \n",
      "A value is trying to be set on a copy of a slice from a DataFrame.\n",
      "Try using .loc[row_indexer,col_indexer] = value instead\n",
      "\n",
      "See the caveats in the documentation: https://pandas.pydata.org/pandas-docs/stable/user_guide/indexing.html#returning-a-view-versus-a-copy\n",
      "  filtered_bbsr[year]['AGS'] = np.where(filtered_bbsr[year]['AGS'].str.len() < 8, '0' + filtered_bbsr[year]['AGS'], filtered_bbsr[year]['AGS'])\n",
      "/var/folders/wm/mtrphj0s0msgrmyshf3hgk740000gn/T/ipykernel_46242/4007496148.py:14: SettingWithCopyWarning: \n",
      "A value is trying to be set on a copy of a slice from a DataFrame.\n",
      "Try using .loc[row_indexer,col_indexer] = value instead\n",
      "\n",
      "See the caveats in the documentation: https://pandas.pydata.org/pandas-docs/stable/user_guide/indexing.html#returning-a-view-versus-a-copy\n",
      "  filtered_bbsr[year]['year'] = year\n",
      "/var/folders/wm/mtrphj0s0msgrmyshf3hgk740000gn/T/ipykernel_46242/4007496148.py:16: SettingWithCopyWarning: \n",
      "A value is trying to be set on a copy of a slice from a DataFrame.\n",
      "Try using .loc[row_indexer,col_indexer] = value instead\n",
      "\n",
      "See the caveats in the documentation: https://pandas.pydata.org/pandas-docs/stable/user_guide/indexing.html#returning-a-view-versus-a-copy\n",
      "  filtered_bbsr[year]['AGS'] = filtered_bbsr[year]['AGS'].astype(str)\n",
      "/var/folders/wm/mtrphj0s0msgrmyshf3hgk740000gn/T/ipykernel_46242/4007496148.py:17: SettingWithCopyWarning: \n",
      "A value is trying to be set on a copy of a slice from a DataFrame.\n",
      "Try using .loc[row_indexer,col_indexer] = value instead\n",
      "\n",
      "See the caveats in the documentation: https://pandas.pydata.org/pandas-docs/stable/user_guide/indexing.html#returning-a-view-versus-a-copy\n",
      "  filtered_bbsr[year]['AGS'] = np.where(filtered_bbsr[year]['AGS'].str.len() < 8, '0' + filtered_bbsr[year]['AGS'], filtered_bbsr[year]['AGS'])\n",
      "/var/folders/wm/mtrphj0s0msgrmyshf3hgk740000gn/T/ipykernel_46242/4007496148.py:14: SettingWithCopyWarning: \n",
      "A value is trying to be set on a copy of a slice from a DataFrame.\n",
      "Try using .loc[row_indexer,col_indexer] = value instead\n",
      "\n",
      "See the caveats in the documentation: https://pandas.pydata.org/pandas-docs/stable/user_guide/indexing.html#returning-a-view-versus-a-copy\n",
      "  filtered_bbsr[year]['year'] = year\n",
      "/var/folders/wm/mtrphj0s0msgrmyshf3hgk740000gn/T/ipykernel_46242/4007496148.py:16: SettingWithCopyWarning: \n",
      "A value is trying to be set on a copy of a slice from a DataFrame.\n",
      "Try using .loc[row_indexer,col_indexer] = value instead\n",
      "\n",
      "See the caveats in the documentation: https://pandas.pydata.org/pandas-docs/stable/user_guide/indexing.html#returning-a-view-versus-a-copy\n",
      "  filtered_bbsr[year]['AGS'] = filtered_bbsr[year]['AGS'].astype(str)\n",
      "/var/folders/wm/mtrphj0s0msgrmyshf3hgk740000gn/T/ipykernel_46242/4007496148.py:17: SettingWithCopyWarning: \n",
      "A value is trying to be set on a copy of a slice from a DataFrame.\n",
      "Try using .loc[row_indexer,col_indexer] = value instead\n",
      "\n",
      "See the caveats in the documentation: https://pandas.pydata.org/pandas-docs/stable/user_guide/indexing.html#returning-a-view-versus-a-copy\n",
      "  filtered_bbsr[year]['AGS'] = np.where(filtered_bbsr[year]['AGS'].str.len() < 8, '0' + filtered_bbsr[year]['AGS'], filtered_bbsr[year]['AGS'])\n",
      "/var/folders/wm/mtrphj0s0msgrmyshf3hgk740000gn/T/ipykernel_46242/4007496148.py:14: SettingWithCopyWarning: \n",
      "A value is trying to be set on a copy of a slice from a DataFrame.\n",
      "Try using .loc[row_indexer,col_indexer] = value instead\n",
      "\n",
      "See the caveats in the documentation: https://pandas.pydata.org/pandas-docs/stable/user_guide/indexing.html#returning-a-view-versus-a-copy\n",
      "  filtered_bbsr[year]['year'] = year\n",
      "/var/folders/wm/mtrphj0s0msgrmyshf3hgk740000gn/T/ipykernel_46242/4007496148.py:16: SettingWithCopyWarning: \n",
      "A value is trying to be set on a copy of a slice from a DataFrame.\n",
      "Try using .loc[row_indexer,col_indexer] = value instead\n",
      "\n",
      "See the caveats in the documentation: https://pandas.pydata.org/pandas-docs/stable/user_guide/indexing.html#returning-a-view-versus-a-copy\n",
      "  filtered_bbsr[year]['AGS'] = filtered_bbsr[year]['AGS'].astype(str)\n",
      "/var/folders/wm/mtrphj0s0msgrmyshf3hgk740000gn/T/ipykernel_46242/4007496148.py:17: SettingWithCopyWarning: \n",
      "A value is trying to be set on a copy of a slice from a DataFrame.\n",
      "Try using .loc[row_indexer,col_indexer] = value instead\n",
      "\n",
      "See the caveats in the documentation: https://pandas.pydata.org/pandas-docs/stable/user_guide/indexing.html#returning-a-view-versus-a-copy\n",
      "  filtered_bbsr[year]['AGS'] = np.where(filtered_bbsr[year]['AGS'].str.len() < 8, '0' + filtered_bbsr[year]['AGS'], filtered_bbsr[year]['AGS'])\n",
      "/var/folders/wm/mtrphj0s0msgrmyshf3hgk740000gn/T/ipykernel_46242/4007496148.py:14: SettingWithCopyWarning: \n",
      "A value is trying to be set on a copy of a slice from a DataFrame.\n",
      "Try using .loc[row_indexer,col_indexer] = value instead\n",
      "\n",
      "See the caveats in the documentation: https://pandas.pydata.org/pandas-docs/stable/user_guide/indexing.html#returning-a-view-versus-a-copy\n",
      "  filtered_bbsr[year]['year'] = year\n",
      "/var/folders/wm/mtrphj0s0msgrmyshf3hgk740000gn/T/ipykernel_46242/4007496148.py:16: SettingWithCopyWarning: \n",
      "A value is trying to be set on a copy of a slice from a DataFrame.\n",
      "Try using .loc[row_indexer,col_indexer] = value instead\n",
      "\n",
      "See the caveats in the documentation: https://pandas.pydata.org/pandas-docs/stable/user_guide/indexing.html#returning-a-view-versus-a-copy\n",
      "  filtered_bbsr[year]['AGS'] = filtered_bbsr[year]['AGS'].astype(str)\n",
      "/var/folders/wm/mtrphj0s0msgrmyshf3hgk740000gn/T/ipykernel_46242/4007496148.py:17: SettingWithCopyWarning: \n",
      "A value is trying to be set on a copy of a slice from a DataFrame.\n",
      "Try using .loc[row_indexer,col_indexer] = value instead\n",
      "\n",
      "See the caveats in the documentation: https://pandas.pydata.org/pandas-docs/stable/user_guide/indexing.html#returning-a-view-versus-a-copy\n",
      "  filtered_bbsr[year]['AGS'] = np.where(filtered_bbsr[year]['AGS'].str.len() < 8, '0' + filtered_bbsr[year]['AGS'], filtered_bbsr[year]['AGS'])\n",
      "/var/folders/wm/mtrphj0s0msgrmyshf3hgk740000gn/T/ipykernel_46242/4007496148.py:14: SettingWithCopyWarning: \n",
      "A value is trying to be set on a copy of a slice from a DataFrame.\n",
      "Try using .loc[row_indexer,col_indexer] = value instead\n",
      "\n",
      "See the caveats in the documentation: https://pandas.pydata.org/pandas-docs/stable/user_guide/indexing.html#returning-a-view-versus-a-copy\n",
      "  filtered_bbsr[year]['year'] = year\n",
      "/var/folders/wm/mtrphj0s0msgrmyshf3hgk740000gn/T/ipykernel_46242/4007496148.py:16: SettingWithCopyWarning: \n",
      "A value is trying to be set on a copy of a slice from a DataFrame.\n",
      "Try using .loc[row_indexer,col_indexer] = value instead\n",
      "\n",
      "See the caveats in the documentation: https://pandas.pydata.org/pandas-docs/stable/user_guide/indexing.html#returning-a-view-versus-a-copy\n",
      "  filtered_bbsr[year]['AGS'] = filtered_bbsr[year]['AGS'].astype(str)\n",
      "/var/folders/wm/mtrphj0s0msgrmyshf3hgk740000gn/T/ipykernel_46242/4007496148.py:17: SettingWithCopyWarning: \n",
      "A value is trying to be set on a copy of a slice from a DataFrame.\n",
      "Try using .loc[row_indexer,col_indexer] = value instead\n",
      "\n",
      "See the caveats in the documentation: https://pandas.pydata.org/pandas-docs/stable/user_guide/indexing.html#returning-a-view-versus-a-copy\n",
      "  filtered_bbsr[year]['AGS'] = np.where(filtered_bbsr[year]['AGS'].str.len() < 8, '0' + filtered_bbsr[year]['AGS'], filtered_bbsr[year]['AGS'])\n",
      "/var/folders/wm/mtrphj0s0msgrmyshf3hgk740000gn/T/ipykernel_46242/4007496148.py:14: SettingWithCopyWarning: \n",
      "A value is trying to be set on a copy of a slice from a DataFrame.\n",
      "Try using .loc[row_indexer,col_indexer] = value instead\n",
      "\n",
      "See the caveats in the documentation: https://pandas.pydata.org/pandas-docs/stable/user_guide/indexing.html#returning-a-view-versus-a-copy\n",
      "  filtered_bbsr[year]['year'] = year\n",
      "/var/folders/wm/mtrphj0s0msgrmyshf3hgk740000gn/T/ipykernel_46242/4007496148.py:16: SettingWithCopyWarning: \n",
      "A value is trying to be set on a copy of a slice from a DataFrame.\n",
      "Try using .loc[row_indexer,col_indexer] = value instead\n",
      "\n",
      "See the caveats in the documentation: https://pandas.pydata.org/pandas-docs/stable/user_guide/indexing.html#returning-a-view-versus-a-copy\n",
      "  filtered_bbsr[year]['AGS'] = filtered_bbsr[year]['AGS'].astype(str)\n",
      "/var/folders/wm/mtrphj0s0msgrmyshf3hgk740000gn/T/ipykernel_46242/4007496148.py:17: SettingWithCopyWarning: \n",
      "A value is trying to be set on a copy of a slice from a DataFrame.\n",
      "Try using .loc[row_indexer,col_indexer] = value instead\n",
      "\n",
      "See the caveats in the documentation: https://pandas.pydata.org/pandas-docs/stable/user_guide/indexing.html#returning-a-view-versus-a-copy\n",
      "  filtered_bbsr[year]['AGS'] = np.where(filtered_bbsr[year]['AGS'].str.len() < 8, '0' + filtered_bbsr[year]['AGS'], filtered_bbsr[year]['AGS'])\n",
      "/var/folders/wm/mtrphj0s0msgrmyshf3hgk740000gn/T/ipykernel_46242/4007496148.py:14: SettingWithCopyWarning: \n",
      "A value is trying to be set on a copy of a slice from a DataFrame.\n",
      "Try using .loc[row_indexer,col_indexer] = value instead\n",
      "\n",
      "See the caveats in the documentation: https://pandas.pydata.org/pandas-docs/stable/user_guide/indexing.html#returning-a-view-versus-a-copy\n",
      "  filtered_bbsr[year]['year'] = year\n",
      "/var/folders/wm/mtrphj0s0msgrmyshf3hgk740000gn/T/ipykernel_46242/4007496148.py:16: SettingWithCopyWarning: \n",
      "A value is trying to be set on a copy of a slice from a DataFrame.\n",
      "Try using .loc[row_indexer,col_indexer] = value instead\n",
      "\n",
      "See the caveats in the documentation: https://pandas.pydata.org/pandas-docs/stable/user_guide/indexing.html#returning-a-view-versus-a-copy\n",
      "  filtered_bbsr[year]['AGS'] = filtered_bbsr[year]['AGS'].astype(str)\n",
      "/var/folders/wm/mtrphj0s0msgrmyshf3hgk740000gn/T/ipykernel_46242/4007496148.py:17: SettingWithCopyWarning: \n",
      "A value is trying to be set on a copy of a slice from a DataFrame.\n",
      "Try using .loc[row_indexer,col_indexer] = value instead\n",
      "\n",
      "See the caveats in the documentation: https://pandas.pydata.org/pandas-docs/stable/user_guide/indexing.html#returning-a-view-versus-a-copy\n",
      "  filtered_bbsr[year]['AGS'] = np.where(filtered_bbsr[year]['AGS'].str.len() < 8, '0' + filtered_bbsr[year]['AGS'], filtered_bbsr[year]['AGS'])\n",
      "/var/folders/wm/mtrphj0s0msgrmyshf3hgk740000gn/T/ipykernel_46242/4007496148.py:14: SettingWithCopyWarning: \n",
      "A value is trying to be set on a copy of a slice from a DataFrame.\n",
      "Try using .loc[row_indexer,col_indexer] = value instead\n",
      "\n",
      "See the caveats in the documentation: https://pandas.pydata.org/pandas-docs/stable/user_guide/indexing.html#returning-a-view-versus-a-copy\n",
      "  filtered_bbsr[year]['year'] = year\n",
      "/var/folders/wm/mtrphj0s0msgrmyshf3hgk740000gn/T/ipykernel_46242/4007496148.py:16: SettingWithCopyWarning: \n",
      "A value is trying to be set on a copy of a slice from a DataFrame.\n",
      "Try using .loc[row_indexer,col_indexer] = value instead\n",
      "\n",
      "See the caveats in the documentation: https://pandas.pydata.org/pandas-docs/stable/user_guide/indexing.html#returning-a-view-versus-a-copy\n",
      "  filtered_bbsr[year]['AGS'] = filtered_bbsr[year]['AGS'].astype(str)\n",
      "/var/folders/wm/mtrphj0s0msgrmyshf3hgk740000gn/T/ipykernel_46242/4007496148.py:17: SettingWithCopyWarning: \n",
      "A value is trying to be set on a copy of a slice from a DataFrame.\n",
      "Try using .loc[row_indexer,col_indexer] = value instead\n",
      "\n",
      "See the caveats in the documentation: https://pandas.pydata.org/pandas-docs/stable/user_guide/indexing.html#returning-a-view-versus-a-copy\n",
      "  filtered_bbsr[year]['AGS'] = np.where(filtered_bbsr[year]['AGS'].str.len() < 8, '0' + filtered_bbsr[year]['AGS'], filtered_bbsr[year]['AGS'])\n",
      "/var/folders/wm/mtrphj0s0msgrmyshf3hgk740000gn/T/ipykernel_46242/4007496148.py:14: SettingWithCopyWarning: \n",
      "A value is trying to be set on a copy of a slice from a DataFrame.\n",
      "Try using .loc[row_indexer,col_indexer] = value instead\n",
      "\n",
      "See the caveats in the documentation: https://pandas.pydata.org/pandas-docs/stable/user_guide/indexing.html#returning-a-view-versus-a-copy\n",
      "  filtered_bbsr[year]['year'] = year\n",
      "/var/folders/wm/mtrphj0s0msgrmyshf3hgk740000gn/T/ipykernel_46242/4007496148.py:16: SettingWithCopyWarning: \n",
      "A value is trying to be set on a copy of a slice from a DataFrame.\n",
      "Try using .loc[row_indexer,col_indexer] = value instead\n",
      "\n",
      "See the caveats in the documentation: https://pandas.pydata.org/pandas-docs/stable/user_guide/indexing.html#returning-a-view-versus-a-copy\n",
      "  filtered_bbsr[year]['AGS'] = filtered_bbsr[year]['AGS'].astype(str)\n",
      "/var/folders/wm/mtrphj0s0msgrmyshf3hgk740000gn/T/ipykernel_46242/4007496148.py:17: SettingWithCopyWarning: \n",
      "A value is trying to be set on a copy of a slice from a DataFrame.\n",
      "Try using .loc[row_indexer,col_indexer] = value instead\n",
      "\n",
      "See the caveats in the documentation: https://pandas.pydata.org/pandas-docs/stable/user_guide/indexing.html#returning-a-view-versus-a-copy\n",
      "  filtered_bbsr[year]['AGS'] = np.where(filtered_bbsr[year]['AGS'].str.len() < 8, '0' + filtered_bbsr[year]['AGS'], filtered_bbsr[year]['AGS'])\n",
      "/var/folders/wm/mtrphj0s0msgrmyshf3hgk740000gn/T/ipykernel_46242/4007496148.py:14: SettingWithCopyWarning: \n",
      "A value is trying to be set on a copy of a slice from a DataFrame.\n",
      "Try using .loc[row_indexer,col_indexer] = value instead\n",
      "\n",
      "See the caveats in the documentation: https://pandas.pydata.org/pandas-docs/stable/user_guide/indexing.html#returning-a-view-versus-a-copy\n",
      "  filtered_bbsr[year]['year'] = year\n",
      "/var/folders/wm/mtrphj0s0msgrmyshf3hgk740000gn/T/ipykernel_46242/4007496148.py:16: SettingWithCopyWarning: \n",
      "A value is trying to be set on a copy of a slice from a DataFrame.\n",
      "Try using .loc[row_indexer,col_indexer] = value instead\n",
      "\n",
      "See the caveats in the documentation: https://pandas.pydata.org/pandas-docs/stable/user_guide/indexing.html#returning-a-view-versus-a-copy\n",
      "  filtered_bbsr[year]['AGS'] = filtered_bbsr[year]['AGS'].astype(str)\n",
      "/var/folders/wm/mtrphj0s0msgrmyshf3hgk740000gn/T/ipykernel_46242/4007496148.py:17: SettingWithCopyWarning: \n",
      "A value is trying to be set on a copy of a slice from a DataFrame.\n",
      "Try using .loc[row_indexer,col_indexer] = value instead\n",
      "\n",
      "See the caveats in the documentation: https://pandas.pydata.org/pandas-docs/stable/user_guide/indexing.html#returning-a-view-versus-a-copy\n",
      "  filtered_bbsr[year]['AGS'] = np.where(filtered_bbsr[year]['AGS'].str.len() < 8, '0' + filtered_bbsr[year]['AGS'], filtered_bbsr[year]['AGS'])\n"
     ]
    }
   ],
   "source": [
    "filtered_bbsr = {}\n",
    "for year, df in bbsr_dfs.items():\n",
    "    # for 1990-1996 there  is only data on the area and population\n",
    "    if year <= 1996:\n",
    "        col_names = ['AGS', 'Name', 'flächenprop.', 'bevölkerungsprop.', 'area', 'pop_bbsr', 'Kennziffer.1', 'Name.1']\n",
    "        bbsr_dfs[year].columns = col_names\n",
    "        filtered_bbsr[year] = bbsr_dfs[year][[f'AGS', 'area', 'pop_bbsr']]\n",
    "    # for 1996-2020 there is also data on the number of employed\n",
    "    elif year <= 2020:\n",
    "        col_names = ['AGS', 'Name', 'flächenprop.', 'bevölkerungsprop.', 'beschäftigtenprop.', 'area', 'pop_bbsr', 'employed_bbsr', 'Kennziffer.1', 'Name.1']\n",
    "        bbsr_dfs[year].columns = col_names\n",
    "        filtered_bbsr[year] = bbsr_dfs[year][[f'AGS', 'area', 'pop_bbsr', 'employed_bbsr']]\n",
    "    # insert year\n",
    "    filtered_bbsr[year]['year'] = year\n",
    "    # fix AGS\n",
    "    filtered_bbsr[year]['AGS'] = filtered_bbsr[year]['AGS'].astype(str)\n",
    "    filtered_bbsr[year]['AGS'] = np.where(filtered_bbsr[year]['AGS'].str.len() < 8, '0' + filtered_bbsr[year]['AGS'], filtered_bbsr[year]['AGS'])"
   ]
  },
  {
   "cell_type": "markdown",
   "metadata": {},
   "source": [
    "Convert AGS to 2013"
   ]
  },
  {
   "cell_type": "code",
   "execution_count": 112,
   "metadata": {},
   "outputs": [],
   "source": [
    "for year, df in filtered_bbsr.items():\n",
    "    # skip 2013\n",
    "    if year == 2013:\n",
    "        continue\n",
    "    # read in AGS transition dataset\n",
    "    ags_trans = pd.read_csv(f'{path}/data/ags_transition.csv', usecols=[f'AGS_{year}', 'AGS_2013'], converters={f'AGS_{year}': str, 'AGS_2013': str})\n",
    "    # merge filtered_bbsr[year] with ags trans\n",
    "    filtered_bbsr[year] = filtered_bbsr[year].merge(ags_trans, left_on='AGS', right_on=f'AGS_{year}', how='left')\n",
    "    # delete old AGS and rename\n",
    "    filtered_bbsr[year] = filtered_bbsr[year].drop(['AGS', f'AGS_{year}'], axis=1)\n",
    "    filtered_bbsr[year].rename(columns = {'AGS_2013':'AGS'}, inplace = True)\n",
    "    # move AGS to front\n",
    "    AGS = filtered_bbsr[year].pop('AGS')\n",
    "    filtered_bbsr[year].insert(1, 'AGS', AGS)"
   ]
  },
  {
   "cell_type": "markdown",
   "metadata": {},
   "source": [
    "Concatenate all BBSR dfs"
   ]
  },
  {
   "cell_type": "code",
   "execution_count": 113,
   "metadata": {},
   "outputs": [],
   "source": [
    "bbsr_controls = pd.concat(filtered_bbsr.values())"
   ]
  },
  {
   "cell_type": "markdown",
   "metadata": {},
   "source": [
    "Concatenate INKAR, RS and BBSR dfs"
   ]
  },
  {
   "cell_type": "code",
   "execution_count": 183,
   "metadata": {},
   "outputs": [
    {
     "data": {
      "text/plain": [
       "(966798, 17)"
      ]
     },
     "execution_count": 183,
     "metadata": {},
     "output_type": "execute_result"
    }
   ],
   "source": [
    "all_controls = pd.concat([inkar_controls, rs_controls, bbsr_controls])\n",
    "#all_controls = all_controls.set_index(['AGS', 'year'])\n",
    "all_controls.shape"
   ]
  },
  {
   "cell_type": "code",
   "execution_count": 184,
   "metadata": {},
   "outputs": [
    {
     "data": {
      "text/plain": [
       "(337050, 17)"
      ]
     },
     "execution_count": 184,
     "metadata": {},
     "output_type": "execute_result"
    }
   ],
   "source": [
    "grouped_controls = all_controls.groupby(['AGS', 'year'], as_index=False).first()\n",
    "grouped_controls.shape"
   ]
  },
  {
   "cell_type": "markdown",
   "metadata": {},
   "source": [
    "Combine variables"
   ]
  },
  {
   "cell_type": "code",
   "execution_count": 194,
   "metadata": {},
   "outputs": [],
   "source": [
    "controls = grouped_controls.copy()\n",
    "# Population: Inkar has exact number from 95-17, BBSR has in thousands -94, in hundreds from 18 (despite header saying it is in thousands)\n",
    "controls['pop'] = controls['pop_inkar']\n",
    "controls['pop'] = np.where(controls['year'] < 1995, controls['pop_bbsr'] * 1000, controls['pop'])\n",
    "controls['pop'] = np.where(controls['year'] > 2017, controls['pop_bbsr'] * 100, controls['pop'])\n",
    "# pop density can now be calculated since we have area and population for all years\n",
    "controls['pop_density'] = controls['pop'] / controls['area']\n",
    "# share of unemployed\n",
    "controls['unemployed'] = controls['unemployed_inkar'] / controls['pop'] * 100\n",
    "# share of foreigners\n",
    "controls['foreign'] = controls['foreign_rs'] / controls['pop'] * 100\n",
    "# catholics\n",
    "controls['catholic'] = controls['catholic_rs'] / controls['pop'] * 100\n",
    "# avg_age: inkar has more data\n",
    "controls['avg_age'] = controls['avg_age_inkar']\n",
    "# same for share of females\n",
    "controls['female'] = controls['female_inkar']\n",
    "# take the log of income * 10000\n",
    "controls['income'] = controls['income_rs'].str.replace(',', '.').astype(float)*1000\n",
    "controls['income'] = np.log(controls['income'])"
   ]
  },
  {
   "cell_type": "code",
   "execution_count": 196,
   "metadata": {},
   "outputs": [
    {
     "data": {
      "text/html": [
       "<div>\n",
       "<style scoped>\n",
       "    .dataframe tbody tr th:only-of-type {\n",
       "        vertical-align: middle;\n",
       "    }\n",
       "\n",
       "    .dataframe tbody tr th {\n",
       "        vertical-align: top;\n",
       "    }\n",
       "\n",
       "    .dataframe thead th {\n",
       "        text-align: right;\n",
       "    }\n",
       "</style>\n",
       "<table border=\"1\" class=\"dataframe\">\n",
       "  <thead>\n",
       "    <tr style=\"text-align: right;\">\n",
       "      <th></th>\n",
       "      <th>AGS</th>\n",
       "      <th>year</th>\n",
       "      <th>pop_density</th>\n",
       "      <th>unemployed</th>\n",
       "      <th>foreign</th>\n",
       "      <th>catholic</th>\n",
       "      <th>avg_age</th>\n",
       "      <th>female</th>\n",
       "      <th>income</th>\n",
       "    </tr>\n",
       "  </thead>\n",
       "  <tbody>\n",
       "    <tr>\n",
       "      <th>0</th>\n",
       "      <td>01001000</td>\n",
       "      <td>1990</td>\n",
       "      <td>1536.550745</td>\n",
       "      <td>NaN</td>\n",
       "      <td>NaN</td>\n",
       "      <td>NaN</td>\n",
       "      <td>NaN</td>\n",
       "      <td>NaN</td>\n",
       "      <td>NaN</td>\n",
       "    </tr>\n",
       "    <tr>\n",
       "      <th>1</th>\n",
       "      <td>01001000</td>\n",
       "      <td>1991</td>\n",
       "      <td>1547.196593</td>\n",
       "      <td>NaN</td>\n",
       "      <td>NaN</td>\n",
       "      <td>NaN</td>\n",
       "      <td>NaN</td>\n",
       "      <td>NaN</td>\n",
       "      <td>NaN</td>\n",
       "    </tr>\n",
       "    <tr>\n",
       "      <th>2</th>\n",
       "      <td>01001000</td>\n",
       "      <td>1992</td>\n",
       "      <td>1550.850461</td>\n",
       "      <td>NaN</td>\n",
       "      <td>NaN</td>\n",
       "      <td>NaN</td>\n",
       "      <td>NaN</td>\n",
       "      <td>NaN</td>\n",
       "      <td>NaN</td>\n",
       "    </tr>\n",
       "    <tr>\n",
       "      <th>3</th>\n",
       "      <td>01001000</td>\n",
       "      <td>1993</td>\n",
       "      <td>1559.000709</td>\n",
       "      <td>NaN</td>\n",
       "      <td>NaN</td>\n",
       "      <td>NaN</td>\n",
       "      <td>NaN</td>\n",
       "      <td>NaN</td>\n",
       "      <td>NaN</td>\n",
       "    </tr>\n",
       "    <tr>\n",
       "      <th>4</th>\n",
       "      <td>01001000</td>\n",
       "      <td>1994</td>\n",
       "      <td>1558.114812</td>\n",
       "      <td>NaN</td>\n",
       "      <td>NaN</td>\n",
       "      <td>NaN</td>\n",
       "      <td>NaN</td>\n",
       "      <td>NaN</td>\n",
       "      <td>NaN</td>\n",
       "    </tr>\n",
       "  </tbody>\n",
       "</table>\n",
       "</div>"
      ],
      "text/plain": [
       "        AGS  year  pop_density  unemployed  foreign  catholic  avg_age  \\\n",
       "0  01001000  1990  1536.550745         NaN      NaN       NaN      NaN   \n",
       "1  01001000  1991  1547.196593         NaN      NaN       NaN      NaN   \n",
       "2  01001000  1992  1550.850461         NaN      NaN       NaN      NaN   \n",
       "3  01001000  1993  1559.000709         NaN      NaN       NaN      NaN   \n",
       "4  01001000  1994  1558.114812         NaN      NaN       NaN      NaN   \n",
       "\n",
       "   female  income  \n",
       "0     NaN     NaN  \n",
       "1     NaN     NaN  \n",
       "2     NaN     NaN  \n",
       "3     NaN     NaN  \n",
       "4     NaN     NaN  "
      ]
     },
     "execution_count": 196,
     "metadata": {},
     "output_type": "execute_result"
    }
   ],
   "source": [
    "controls = controls[['AGS', 'year', 'pop_density', 'unemployed', 'foreign', 'catholic', 'avg_age', 'female', 'income']]\n",
    "controls.head()"
   ]
  },
  {
   "cell_type": "markdown",
   "metadata": {},
   "source": [
    "Export dataset"
   ]
  },
  {
   "cell_type": "code",
   "execution_count": 197,
   "metadata": {},
   "outputs": [],
   "source": [
    "controls = controls.set_index(['AGS', 'year'])\n",
    "controls.to_csv(f'{path}/data/controls.csv', encoding = 'utf-8-sig')"
   ]
  },
  {
   "cell_type": "code",
   "execution_count": 5,
   "metadata": {},
   "outputs": [],
   "source": [
    "controls = pd.read_csv(f'{path}/data/controls.csv', encoding = 'utf-8-sig')"
   ]
  }
 ],
 "metadata": {
  "kernelspec": {
   "display_name": "Python 3.10.4 ('vscode')",
   "language": "python",
   "name": "python3"
  },
  "language_info": {
   "codemirror_mode": {
    "name": "ipython",
    "version": 3
   },
   "file_extension": ".py",
   "mimetype": "text/x-python",
   "name": "python",
   "nbconvert_exporter": "python",
   "pygments_lexer": "ipython3",
   "version": "3.10.4"
  },
  "orig_nbformat": 4,
  "vscode": {
   "interpreter": {
    "hash": "656f4cd1472b14b513faaa63bd5e4a7577d125de6a277113d4e82c4085557d3e"
   }
  }
 },
 "nbformat": 4,
 "nbformat_minor": 2
}
