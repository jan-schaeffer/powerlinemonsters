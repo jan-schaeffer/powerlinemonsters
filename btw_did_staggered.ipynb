{
 "cells": [
  {
   "cell_type": "markdown",
   "metadata": {},
   "source": [
    "Setup Environment"
   ]
  },
  {
   "cell_type": "code",
   "execution_count": 8,
   "metadata": {
    "vscode": {
     "languageId": "r"
    }
   },
   "outputs": [
    {
     "data": {
      "text/html": [
       "'/Users/jan/Dropbox/UP_EPQM/2222/MA/powerlinemonsters'"
      ],
      "text/latex": [
       "'/Users/jan/Dropbox/UP\\_EPQM/2222/MA/powerlinemonsters'"
      ],
      "text/markdown": [
       "'/Users/jan/Dropbox/UP_EPQM/2222/MA/powerlinemonsters'"
      ],
      "text/plain": [
       "[1] \"/Users/jan/Dropbox/UP_EPQM/2222/MA/powerlinemonsters\""
      ]
     },
     "metadata": {},
     "output_type": "display_data"
    }
   ],
   "source": [
    "# Clear the R environment and set working directory\n",
    "rm(list = ls())\n",
    "setwd(\"/Users/jan/Dropbox/UP_EPQM/2222/MA/powerlinemonsters\")\n",
    "path <- getwd()\n",
    "path "
   ]
  },
  {
   "cell_type": "markdown",
   "metadata": {},
   "source": [
    "Load packages"
   ]
  },
  {
   "cell_type": "code",
   "execution_count": 9,
   "metadata": {
    "vscode": {
     "languageId": "r"
    }
   },
   "outputs": [
    {
     "data": {
      "text/html": [
       "'/Library/Frameworks/R.framework/Versions/4.2-arm64/Resources/library'"
      ],
      "text/latex": [
       "'/Library/Frameworks/R.framework/Versions/4.2-arm64/Resources/library'"
      ],
      "text/markdown": [
       "'/Library/Frameworks/R.framework/Versions/4.2-arm64/Resources/library'"
      ],
      "text/plain": [
       "[1] \"/Library/Frameworks/R.framework/Versions/4.2-arm64/Resources/library\""
      ]
     },
     "metadata": {},
     "output_type": "display_data"
    }
   ],
   "source": [
    "# Install and load additional packages needed\n",
    "#install.packages(\"did\")\n",
    "library(did)\n",
    "library(rio)\n",
    "library(ggplot2)\n",
    "library(ggpubr)\n",
    "#library(cowplot)\n",
    "library(hash)\n",
    "library(patchwork)\n",
    ".libPaths()"
   ]
  },
  {
   "cell_type": "markdown",
   "metadata": {},
   "source": [
    "DiD for BTW no controls"
   ]
  },
  {
   "cell_type": "code",
   "execution_count": 10,
   "metadata": {
    "vscode": {
     "languageId": "r"
    }
   },
   "outputs": [],
   "source": [
    "# read in the data set\n",
    "btw <- import(sprintf(\"%s/data/btw_treat.csv\", path))\n",
    "# Filter for first and second vote\n",
    "erst <- subset(btw, first_vote == 1)\n",
    "zweit <- subset(btw, second_vote == 1)"
   ]
  },
  {
   "cell_type": "code",
   "execution_count": 11,
   "metadata": {
    "vscode": {
     "languageId": "r"
    }
   },
   "outputs": [
    {
     "name": "stdout",
     "output_type": "stream",
     "text": [
      "[1] \"Union\"\n",
      "[1] \"SPD\"\n",
      "[1] \"FDP\"\n",
      "[1] \"Linke\"\n",
      "[1] \"Grüne\"\n",
      "[1] \"Andere\"\n"
     ]
    }
   ],
   "source": [
    "parties <- c('Union', 'SPD', 'FDP', 'Linke', 'Grüne', 'Andere')\n",
    "treatments <- hash('treatment_0'='Direct Line', 'treatment_15'='Within 15km', 'treatment_30'='Within 30km', 'treatment_50'='Within 50km')\n",
    "keys <- keys(treatments)\n",
    "results  <- list()\n",
    "for(party in parties){\n",
    "  figures  <- list()\n",
    "  for(treatment in keys){\n",
    "    result <- att_gt(yname = party,\n",
    "                  gname = treatment,\n",
    "                  idname = 'AGS',\n",
    "                  panel = TRUE,\n",
    "                  tname = 'year',\n",
    "                  xformla = ~ 1,\n",
    "                  data = erst,\n",
    "                  est_method = 'reg',\n",
    "                  anticipation = 0,\n",
    "                  control_group = 'nevertreated',\n",
    "                  clustervars = c('AGS'),\n",
    "                  bstrap = TRUE,\n",
    "                  cband = TRUE,\n",
    "                  allow_unbalanced_panel = TRUE,\n",
    "                  \n",
    "    )\n",
    "    results[[length(results)+1]] <- result\n",
    "    # calculate ATT\n",
    "    att <- aggte(result, type = \"group\", bstrap = TRUE, clustervars = c('AGS'))\n",
    "    # plot results\n",
    "    result_fig <- ggdid(result, \n",
    "              ylim = c(floor(min(result$att - result$se * 2.345 - 1)), ceiling(max(result$att + result$se * 2.345 + 1))),\n",
    "              ncol = 3, ax_text_size = 8, grtitle='', title_size = 10, legend=F) +\n",
    "              labs(caption = sprintf('Overall ATT (SE): %.3f (%.3f) \\n Wald-P: %.3f \\n # Obs.: %s' ,\n",
    "              att$overall.att, att$overall.se, result$Wpval, result$n)) +\n",
    "              theme(plot.caption = element_text(hjust=0.5, size=8),\n",
    "              panel.background = element_rect(fill='transparent'),\n",
    "              plot.background = element_rect(fill='transparent', color=NA),\n",
    "              legend.background = element_rect(fill='transparent'),\n",
    "              legend.box.background = element_rect(fill='transparent'),\n",
    "              plot.margin=unit(c(0,0,0,0),\"cm\"))\n",
    "    # Plot ATT\n",
    "    att_fig <- ggdid(att, legend=F, x_lab='', ax_text_size = 8, ylab='', title='ATT by year', title_size = 10) + \n",
    "    labs(caption = sprintf('2005 ATT(SE): %.3f (%.3f)\\n2010 ATT(SE): %.3f (%.3f)\\n2014 ATT(SE): %.3f (%.3f)', \n",
    "              att$att.egt[[1]], att$se.egt[[1]], att$att.egt[[2]], att$se.egt[[2]], att$att.egt[[3]], att$se.egt[[3]])) + \n",
    "              theme(plot.caption = element_text(hjust=0.5, size=8), \n",
    "              axis.title.x = element_blank(),\n",
    "              axis.text.y = element_text(angle=90, size=6, hjust=0.5),\n",
    "              panel.background = element_rect(fill='transparent'),\n",
    "              plot.background = element_rect(fill='transparent', color=NA),\n",
    "              legend.background = element_rect(fill='transparent'),\n",
    "              legend.box.background = element_rect(fill='transparent'),\n",
    "              plot.margin=unit(c(0,0,0,0),\"cm\"))\n",
    "    # Combine and annotate Group and ATT plot\n",
    "    combined_fig <- ggarrange(result_fig, att_fig, widths = c(3, 1)) + \n",
    "                    theme(plot.margin=unit(c(0,0,0,0),\"cm\"))\n",
    "    combined_fig_anno <- annotate_figure(combined_fig,\n",
    "                  top = text_grob(sprintf('%s', treatments[[treatment]])))\n",
    "    figures[[length(figures)+1]] <- combined_fig_anno\n",
    "  }\n",
    "  # Combine Figures for all treatments\n",
    "  arranged_fig <- ggarrange(plotlist=figures, nrow = 4, ncol = 1, common.legend = TRUE)\n",
    "  # get legend\n",
    "  result_fig <- ggdid(result) +\n",
    "              theme(\n",
    "              legend.background = element_rect(fill='transparent', color='transparent'),\n",
    "              legend.box.background = element_rect(fill='transparent', color='transparent'),\n",
    "              plot.margin=unit(c(0,0,0,0),\"cm\"))\n",
    "  leg <- get_legend(result_fig)\n",
    "  # add legend\n",
    "  arranged_fig_leg <- ggarrange(arranged_fig, leg, nrow = 2, ncol = 1, heights = c(10, 1))\n",
    "  # Annotate final figure\n",
    "  final_fig <- annotate_figure(arranged_fig_leg,\n",
    "                  top = text_grob(sprintf(\"BTW: Effect on %s's vote share\", party), face = \"bold\", size = 14),\n",
    "                  bottom = text_grob('Control Group: Never Treated. Estimation Method: Regression \\n SE clustered on the municipality level.', size = 10))\n",
    "  ggsave(sprintf('%s.png', party), plot = final_fig, path = sprintf('%s/figures/R/BTW/pooled', path), units = 'cm', width = 21, height = 21, dpi=\"print\")\n",
    "  print(party)\n",
    "}"
   ]
  },
  {
   "cell_type": "markdown",
   "metadata": {},
   "source": [
    "DiD for BTW with controls"
   ]
  },
  {
   "cell_type": "code",
   "execution_count": 12,
   "metadata": {
    "vscode": {
     "languageId": "r"
    }
   },
   "outputs": [],
   "source": [
    "btw_c <- import(sprintf(\"%s/data/btw_control.csv\", path))\n",
    "erst_c <- subset(btw_c, first_vote == 1)"
   ]
  },
  {
   "cell_type": "code",
   "execution_count": 13,
   "metadata": {
    "vscode": {
     "languageId": "r"
    }
   },
   "outputs": [
    {
     "name": "stderr",
     "output_type": "stream",
     "text": [
      "Warning message in pre_process_did(yname = yname, tname = tname, idname = idname, :\n",
      "“dropped 2 rows from original data due to missing data”\n",
      "Warning message in pre_process_did(yname = yname, tname = tname, idname = idname, :\n",
      "“dropped 2 rows from original data due to missing data”\n",
      "Warning message in pre_process_did(yname = yname, tname = tname, idname = idname, :\n",
      "“dropped 2 rows from original data due to missing data”\n",
      "Warning message in pre_process_did(yname = yname, tname = tname, idname = idname, :\n",
      "“dropped 2 rows from original data due to missing data”\n"
     ]
    },
    {
     "name": "stdout",
     "output_type": "stream",
     "text": [
      "[1] \"Union\"\n"
     ]
    },
    {
     "name": "stderr",
     "output_type": "stream",
     "text": [
      "Warning message in pre_process_did(yname = yname, tname = tname, idname = idname, :\n",
      "“dropped 2 rows from original data due to missing data”\n",
      "Warning message in pre_process_did(yname = yname, tname = tname, idname = idname, :\n",
      "“dropped 2 rows from original data due to missing data”\n",
      "Warning message in pre_process_did(yname = yname, tname = tname, idname = idname, :\n",
      "“dropped 2 rows from original data due to missing data”\n",
      "Warning message in pre_process_did(yname = yname, tname = tname, idname = idname, :\n",
      "“dropped 2 rows from original data due to missing data”\n"
     ]
    },
    {
     "name": "stdout",
     "output_type": "stream",
     "text": [
      "[1] \"SPD\"\n"
     ]
    },
    {
     "name": "stderr",
     "output_type": "stream",
     "text": [
      "Warning message in pre_process_did(yname = yname, tname = tname, idname = idname, :\n",
      "“dropped 2 rows from original data due to missing data”\n",
      "Warning message in pre_process_did(yname = yname, tname = tname, idname = idname, :\n",
      "“dropped 2 rows from original data due to missing data”\n",
      "Warning message in pre_process_did(yname = yname, tname = tname, idname = idname, :\n",
      "“dropped 2 rows from original data due to missing data”\n",
      "Warning message in pre_process_did(yname = yname, tname = tname, idname = idname, :\n",
      "“dropped 2 rows from original data due to missing data”\n"
     ]
    },
    {
     "name": "stdout",
     "output_type": "stream",
     "text": [
      "[1] \"FDP\"\n"
     ]
    },
    {
     "name": "stderr",
     "output_type": "stream",
     "text": [
      "Warning message in pre_process_did(yname = yname, tname = tname, idname = idname, :\n",
      "“dropped 2 rows from original data due to missing data”\n",
      "Warning message in pre_process_did(yname = yname, tname = tname, idname = idname, :\n",
      "“dropped 2 rows from original data due to missing data”\n",
      "Warning message in pre_process_did(yname = yname, tname = tname, idname = idname, :\n",
      "“dropped 2 rows from original data due to missing data”\n",
      "Warning message in pre_process_did(yname = yname, tname = tname, idname = idname, :\n",
      "“dropped 2 rows from original data due to missing data”\n"
     ]
    },
    {
     "name": "stdout",
     "output_type": "stream",
     "text": [
      "[1] \"Linke\"\n"
     ]
    },
    {
     "name": "stderr",
     "output_type": "stream",
     "text": [
      "Warning message in pre_process_did(yname = yname, tname = tname, idname = idname, :\n",
      "“dropped 2 rows from original data due to missing data”\n",
      "Warning message in pre_process_did(yname = yname, tname = tname, idname = idname, :\n",
      "“dropped 2 rows from original data due to missing data”\n",
      "Warning message in pre_process_did(yname = yname, tname = tname, idname = idname, :\n",
      "“dropped 2 rows from original data due to missing data”\n",
      "Warning message in pre_process_did(yname = yname, tname = tname, idname = idname, :\n",
      "“dropped 2 rows from original data due to missing data”\n"
     ]
    },
    {
     "name": "stdout",
     "output_type": "stream",
     "text": [
      "[1] \"Grüne\"\n"
     ]
    },
    {
     "name": "stderr",
     "output_type": "stream",
     "text": [
      "Warning message in pre_process_did(yname = yname, tname = tname, idname = idname, :\n",
      "“dropped 2 rows from original data due to missing data”\n",
      "Warning message in pre_process_did(yname = yname, tname = tname, idname = idname, :\n",
      "“dropped 2 rows from original data due to missing data”\n",
      "Warning message in pre_process_did(yname = yname, tname = tname, idname = idname, :\n",
      "“dropped 2 rows from original data due to missing data”\n",
      "Warning message in pre_process_did(yname = yname, tname = tname, idname = idname, :\n",
      "“dropped 2 rows from original data due to missing data”\n"
     ]
    },
    {
     "name": "stdout",
     "output_type": "stream",
     "text": [
      "[1] \"Andere\"\n"
     ]
    }
   ],
   "source": [
    "parties <- c('Union', 'SPD', 'FDP', 'Linke', 'Grüne', 'Andere')\n",
    "treatments <- hash('treatment_0'='Direct Line', 'treatment_15'='Within 15km', 'treatment_30'='Within 30km', 'treatment_50'='Within 50km')\n",
    "keys <- keys(treatments)\n",
    "results  <- list()\n",
    "for(party in parties){\n",
    "  figures  <- list()\n",
    "  for(treatment in keys){\n",
    "    result <- att_gt(yname = party,\n",
    "                  gname = treatment,\n",
    "                  idname = 'AGS',\n",
    "                  panel = TRUE,\n",
    "                  tname = 'year',\n",
    "                  xformla = ~ east + pop_density + unemployed + female + avg_age,\n",
    "                  data = erst_c,\n",
    "                  est_method = 'reg',\n",
    "                  anticipation = 0,\n",
    "                  control_group = 'nevertreated',\n",
    "                  clustervars = c('AGS'),\n",
    "                  bstrap = TRUE,\n",
    "                  cband = TRUE,\n",
    "                  allow_unbalanced_panel = TRUE,\n",
    "                  \n",
    "    )\n",
    "    results[[length(results)+1]] <- result\n",
    "    # calculate ATT\n",
    "    att <- aggte(result, type = \"group\", bstrap = TRUE, clustervars = c('AGS'))\n",
    "    # plot results\n",
    "    result_fig <- ggdid(result, \n",
    "              ylim = c(floor(min(result$att - result$se * 2.345 - 1)), ceiling(max(result$att + result$se * 2.345 + 1))),\n",
    "              ncol = 3, ax_text_size = 8, grtitle='', title_size = 10, legend=F) +\n",
    "              labs(caption = sprintf('Overall ATT (SE): %.3f (%.3f) \\n Wald-P: %.3f \\n # Obs.: %s' ,\n",
    "              att$overall.att, att$overall.se, result$Wpval, result$n)) +\n",
    "              theme(plot.caption = element_text(hjust=0.5, size=8),\n",
    "              panel.background = element_rect(fill='transparent'),\n",
    "              plot.background = element_rect(fill='transparent', color=NA),\n",
    "              legend.background = element_rect(fill='transparent'),\n",
    "              legend.box.background = element_rect(fill='transparent'),\n",
    "              plot.margin=unit(c(0,0,0,0),\"cm\"))\n",
    "    # Plot ATT\n",
    "    att_fig <- ggdid(att, legend=F, x_lab='', ax_text_size = 8, ylab='', title='ATT by year', title_size = 10) + \n",
    "    labs(caption = sprintf('2005 ATT(SE): %.3f (%.3f)\\n2010 ATT(SE): %.3f (%.3f)\\n2014 ATT(SE): %.3f (%.3f)', \n",
    "              att$att.egt[[1]], att$se.egt[[1]], att$att.egt[[2]], att$se.egt[[2]], att$att.egt[[3]], att$se.egt[[3]])) + \n",
    "              theme(plot.caption = element_text(hjust=0.5, size=8), \n",
    "              axis.title.x = element_blank(),\n",
    "              axis.text.y = element_text(angle=90, size=6, hjust=0.5),\n",
    "              panel.background = element_rect(fill='transparent'),\n",
    "              plot.background = element_rect(fill='transparent', color=NA),\n",
    "              legend.background = element_rect(fill='transparent'),\n",
    "              legend.box.background = element_rect(fill='transparent'),\n",
    "              plot.margin=unit(c(0,0,0,0),\"cm\"))\n",
    "    # Combine and annotate Group and ATT plot\n",
    "    combined_fig <- ggarrange(result_fig, att_fig, widths = c(3, 1)) + \n",
    "                    theme(plot.margin=unit(c(0,0,0,0),\"cm\"))\n",
    "    combined_fig_anno <- annotate_figure(combined_fig,\n",
    "                  top = text_grob(sprintf('%s', treatments[[treatment]])))\n",
    "    figures[[length(figures)+1]] <- combined_fig_anno\n",
    "  }\n",
    "  # Combine Figures for all treatments\n",
    "  arranged_fig <- ggarrange(plotlist=figures, nrow = 4, ncol = 1, common.legend = TRUE)\n",
    "  # get legend\n",
    "  result_fig <- ggdid(result) +\n",
    "              theme(\n",
    "              legend.background = element_rect(fill='transparent', color='transparent'),\n",
    "              legend.box.background = element_rect(fill='transparent', color='transparent'),\n",
    "              plot.margin=unit(c(0,0,0,0),\"cm\"))\n",
    "  leg <- get_legend(result_fig)\n",
    "  # add legend\n",
    "  arranged_fig_leg <- ggarrange(arranged_fig, leg, nrow = 2, ncol = 1, heights = c(10, 1))\n",
    "  # Annotate final figure\n",
    "  final_fig <- annotate_figure(arranged_fig_leg,\n",
    "                  top = text_grob(sprintf(\"BTW: Effect on %s's vote share\", party), face = \"bold\", size = 14),\n",
    "                  bottom = text_grob('Control Group: Never Treated. Estimation Method: Regression \\n SE clustered on the municipality level.', size = 10))\n",
    "  ggsave(sprintf('%s.png', party), plot = final_fig, path = sprintf('%s/figures/R/BTW/control', path), units = 'cm', width = 21, height = 21, dpi=\"print\")\n",
    "  print(party)\n",
    "}"
   ]
  },
  {
   "cell_type": "markdown",
   "metadata": {},
   "source": [
    "DiD for BTW with controls by state"
   ]
  },
  {
   "cell_type": "code",
   "execution_count": 14,
   "metadata": {
    "vscode": {
     "languageId": "r"
    }
   },
   "outputs": [],
   "source": [
    "btw_c <- import(sprintf(\"%s/data/btw_control.csv\", path))\n",
    "erst_c <- subset(btw_c, first_vote == 1)"
   ]
  },
  {
   "cell_type": "code",
   "execution_count": 19,
   "metadata": {
    "vscode": {
     "languageId": "r"
    }
   },
   "outputs": [
    {
     "name": "stderr",
     "output_type": "stream",
     "text": [
      "Warning message in compute.aggte(MP = MP, type = type, balance_e = balance_e, min_e = min_e, :\n",
      "“Simultaneous conf. band is somehow smaller than pointwise one using normal approximation. Since this is unusual, we are reporting pointwise confidence intervals”\n"
     ]
    },
    {
     "name": "stdout",
     "output_type": "stream",
     "text": [
      "Error in att$att.egt[[3]] : subscript out of bounds\n"
     ]
    },
    {
     "ename": "ERROR",
     "evalue": "\u001b[1m\u001b[33mError\u001b[39m in \u001b[1m\u001b[1m`ggplot_add()`:\u001b[22m\n\u001b[33m!\u001b[39m Can't add `try(labs(caption = sprintf(\"2005 ATT(SE): %.3f (%.3f)\\n2010 ATT(SE): %.3f (%.3f)\\n2014 ATT(SE): %.3f (%.3f)\", ` to a ggplot object.\n\u001b[36m•\u001b[39m Can't add `    att$att.egt[[1]], att$se.egt[[1]], att$att.egt[[2]], att$se.egt[[2]], ` to a ggplot object.\n\u001b[36m•\u001b[39m Can't add `    att$att.egt[[3]], att$se.egt[[3]])))` to a ggplot object.\n",
     "output_type": "error",
     "traceback": [
      "\u001b[1m\u001b[33mError\u001b[39m in \u001b[1m\u001b[1m`ggplot_add()`:\u001b[22m\n\u001b[33m!\u001b[39m Can't add `try(labs(caption = sprintf(\"2005 ATT(SE): %.3f (%.3f)\\n2010 ATT(SE): %.3f (%.3f)\\n2014 ATT(SE): %.3f (%.3f)\", ` to a ggplot object.\n\u001b[36m•\u001b[39m Can't add `    att$att.egt[[1]], att$se.egt[[1]], att$att.egt[[2]], att$se.egt[[2]], ` to a ggplot object.\n\u001b[36m•\u001b[39m Can't add `    att$att.egt[[3]], att$se.egt[[3]])))` to a ggplot object.\nTraceback:\n",
      "1. `+.gg`(ggdid(att, legend = F, x_lab = \"\", ax_text_size = 8, ylab = \"\", \n .     title = \"ATT by year\", title_size = 10), try(labs(caption = sprintf(\"2005 ATT(SE): %.3f (%.3f)\\n2010 ATT(SE): %.3f (%.3f)\\n2014 ATT(SE): %.3f (%.3f)\", \n .     att$att.egt[[1]], att$se.egt[[1]], att$att.egt[[2]], att$se.egt[[2]], \n .     att$att.egt[[3]], att$se.egt[[3]]))))",
      "2. add_ggplot(e1, e2, e2name)",
      "3. ggplot_add(object, p, objectname)",
      "4. ggplot_add.default(object, p, objectname)",
      "5. abort(glue(\"Can't add `{object_name}` to a ggplot object.\"))",
      "6. signal_abort(cnd, .file)"
     ]
    }
   ],
   "source": [
    "parties <- c('Union', 'SPD', 'FDP', 'Linke', 'Grüne', 'Andere')\n",
    "treatments_dict <- hash('treatment_0'='Direct Line', 'treatment_15'='Within 15km', 'treatment_30'='Within 30km', 'treatment_50'='Within 50km')\n",
    "states_dict <- hash('SH'='Schleswig-Holstein (SH)', 'NI'='Lower Saxony (NI)', 'NW'='North-Rhine Westphalia (NRW)', 'HE'='Hesse (HE)', \n",
    "'RP'='Rhineland-Palatine (RP)', 'BW'='Baden-Württemberg (BW)', 'BY'='Bavaria (BY)', 'BB'='Brandenburg (BB)', 'MV'='Mecklenburg-Vorpommern (MV)', \n",
    "'ST'='Saxony-Anhalt (ST)', 'TH'='Thuringia (TH)') # all states - those never treated\n",
    "treatments <- keys(treatments_dict)\n",
    "states <- keys(states_dict)\n",
    "results  <- list()\n",
    "for (state in states){\n",
    "  for(party in parties){\n",
    "    reg_data <- subset(erst_c, Land == state)\n",
    "    figures  <- list()\n",
    "    for(treatment in treatments){\n",
    "      result <- att_gt(yname = party,\n",
    "                    gname = treatment,\n",
    "                    idname = 'AGS',\n",
    "                    panel = TRUE,\n",
    "                    tname = 'year',\n",
    "                    xformla = ~ pop_density + unemployed + female,\n",
    "                    data = reg_data,\n",
    "                    est_method = 'reg',\n",
    "                    anticipation = 0,\n",
    "                    control_group = 'nevertreated',\n",
    "                    clustervars = c('AGS'),\n",
    "                    bstrap = TRUE,\n",
    "                    cband = TRUE,\n",
    "                    allow_unbalanced_panel = TRUE,\n",
    "                    \n",
    "      )\n",
    "    results[[length(results)+1]] <- result\n",
    "    # calculate ATT\n",
    "    att <- aggte(result, type = \"group\", bstrap = TRUE, clustervars = c('AGS'))\n",
    "    # plot results\n",
    "    result_fig <- ggdid(result, \n",
    "              ylim = c(floor(min(result$att - result$se * 2.345 - 1)), ceiling(max(result$att + result$se * 2.345 + 1))),\n",
    "              ncol = 3, ax_text_size = 8, grtitle='', title_size = 10, legend=F) +\n",
    "              labs(caption = sprintf('Overall ATT (SE): %.3f (%.3f) \\n Wald-P: %.3f \\n # Obs.: %s' ,\n",
    "              att$overall.att, att$overall.se, result$Wpval, result$n)) +\n",
    "              theme(plot.caption = element_text(hjust=0.5, size=8),\n",
    "              panel.background = element_rect(fill='transparent'),\n",
    "              plot.background = element_rect(fill='transparent', color=NA),\n",
    "              legend.background = element_rect(fill='transparent'),\n",
    "              legend.box.background = element_rect(fill='transparent'),\n",
    "              plot.margin=unit(c(0,0,0,0),\"cm\"))\n",
    "    # Plot ATT\n",
    "    att_fig <- ggdid(att, legend=F, x_lab='', ax_text_size = 8, ylab='', title='ATT by year', title_size = 10) + \n",
    "    try(\n",
    "      labs(caption = sprintf('2005 ATT(SE): %.3f (%.3f)\\n2010 ATT(SE): %.3f (%.3f)\\n2014 ATT(SE): %.3f (%.3f)', \n",
    "              att$att.egt[[1]], att$se.egt[[1]], att$att.egt[[2]], att$se.egt[[2]], att$att.egt[[3]], att$se.egt[[3]]))\n",
    "    ) + \n",
    "    try(\n",
    "      labs(caption = sprintf('2010 ATT(SE): %.3f (%.3f)\\n2014 ATT(SE): %.3f (%.3f)', \n",
    "              att$att.egt[[1]], att$se.egt[[1]], att$att.egt[[2]], att$se.egt[[2]]))\n",
    "    ) +\n",
    "              theme(plot.caption = element_text(hjust=0.5, size=8), \n",
    "              axis.title.x = element_blank(),\n",
    "              axis.text.y = element_text(angle=90, size=6, hjust=0.5),\n",
    "              panel.background = element_rect(fill='transparent'),\n",
    "              plot.background = element_rect(fill='transparent', color=NA),\n",
    "              legend.background = element_rect(fill='transparent'),\n",
    "              legend.box.background = element_rect(fill='transparent'),\n",
    "              plot.margin=unit(c(0,0,0,0),\"cm\"))\n",
    "    # Combine and annotate Group and ATT plot\n",
    "    combined_fig <- ggarrange(result_fig, att_fig, widths = c(3, 1)) + \n",
    "                    theme(plot.margin=unit(c(0,0,0,0),\"cm\"))\n",
    "    combined_fig_anno <- annotate_figure(combined_fig,\n",
    "                  top = text_grob(sprintf('%s', treatments[[treatment]])))\n",
    "    figures[[length(figures)+1]] <- combined_fig_anno\n",
    "    }\n",
    "    # Combine Figures for all treatments\n",
    "    arranged_fig <- ggarrange(plotlist=figures, nrow = 4, ncol = 1, common.legend = TRUE)\n",
    "    # get legend\n",
    "    result_fig <- ggdid(result) +\n",
    "                theme(\n",
    "                legend.background = element_rect(fill='transparent', color='transparent'),\n",
    "                legend.box.background = element_rect(fill='transparent', color='transparent'),\n",
    "                plot.margin=unit(c(0,0,0,0),\"cm\"))\n",
    "    leg <- get_legend(result_fig)\n",
    "    # add legend\n",
    "    arranged_fig_leg <- ggarrange(arranged_fig, leg, nrow = 2, ncol = 1, heights = c(10, 1))\n",
    "    # Annotate final figure\n",
    "    final_fig <- annotate_figure(arranged_fig_leg,\n",
    "                    top = text_grob(sprintf(\"BTW in %s\\nEffect on %s's vote share\", states_dict[[state]], party), face = \"bold\", size = 14),\n",
    "                    bottom = text_grob('Control Group: Never Treated. Estimation Method: Regression \\n SE clustered on the municipality level.', size = 10),)\n",
    "    ggsave(sprintf('%s_%s.png', state, party), plot = final_fig, path = sprintf('%s/figures/R/BTW/by_state', path), units = 'cm', width = 21, height = 29.7, dpi=\"print\")\n",
    "    print(state)\n",
    "    print(party)\n",
    "  }\n",
    "}"
   ]
  },
  {
   "cell_type": "markdown",
   "metadata": {},
   "source": [
    "DiD for LTW no controls"
   ]
  },
  {
   "cell_type": "code",
   "execution_count": 20,
   "metadata": {
    "vscode": {
     "languageId": "r"
    }
   },
   "outputs": [],
   "source": [
    "# read in the data set\n",
    "ltw <- import(sprintf(\"%s/data/ltw_treat.csv\", path))"
   ]
  },
  {
   "cell_type": "code",
   "execution_count": 21,
   "metadata": {
    "vscode": {
     "languageId": "r"
    }
   },
   "outputs": [
    {
     "name": "stderr",
     "output_type": "stream",
     "text": [
      "Warning message in pre_process_did(yname = yname, tname = tname, idname = idname, :\n",
      "“dropped 1010 rows from original data due to missing data”\n",
      "Warning message in pre_process_did(yname = yname, tname = tname, idname = idname, :\n",
      "“Dropped 227 units that were already treated in the first period.”\n"
     ]
    },
    {
     "ename": "ERROR",
     "evalue": "Error in att$att.egt[[3]]: subscript out of bounds\n",
     "output_type": "error",
     "traceback": [
      "Error in att$att.egt[[3]]: subscript out of bounds\nTraceback:\n",
      "1. labs(caption = sprintf(\"2005 ATT(SE): %.3f (%.3f)\\n2010 ATT(SE): %.3f (%.3f)\\n2014 ATT(SE): %.3f (%.3f)\", \n .     att$att.egt[[1]], att$se.egt[[1]], att$att.egt[[2]], att$se.egt[[2]], \n .     att$att.egt[[3]], att$se.egt[[3]]))",
      "2. dots_list(..., title = title, subtitle = subtitle, caption = caption, \n .     tag = tag, alt = alt, alt_insight = alt_insight, .ignore_empty = \"all\")"
     ]
    }
   ],
   "source": [
    "parties <- c('Union', 'SPD', 'FDP', 'Linke', 'Grüne', 'Andere')\n",
    "treatments <- hash('treatment_0'='Direct Line', 'treatment_15'='Within 15km', 'treatment_30'='Within 30km', 'treatment_50'='Within 50km')\n",
    "keys <- keys(treatments)\n",
    "results  <- list()\n",
    "for(party in parties){\n",
    "  figures  <- list()\n",
    "  for(treatment in keys){\n",
    "    result <- att_gt(yname = party,\n",
    "                  gname = treatment,\n",
    "                  idname = 'AGS',\n",
    "                  panel = TRUE,\n",
    "                  tname = 'year',\n",
    "                  xformla = ~ 1,\n",
    "                  data = ltw,\n",
    "                  est_method = 'reg',\n",
    "                  anticipation = 0,\n",
    "                  control_group = 'nevertreated',\n",
    "                  clustervars = c('AGS'),\n",
    "                  bstrap = TRUE,\n",
    "                  cband = TRUE,\n",
    "                  allow_unbalanced_panel = TRUE,\n",
    "                  \n",
    "    )\n",
    "  results[[length(results)+1]] <- result\n",
    "  # calculate ATT\n",
    "  att <- aggte(result, type = \"group\", bstrap = TRUE, clustervars = c('AGS'))\n",
    "  # plot results\n",
    "  result_fig <- ggdid(result, \n",
    "            ylim = c(floor(min(result$att - result$se * 2.345 - 1)), ceiling(max(result$att + result$se * 2.345 + 1))),\n",
    "            ncol = 3, ax_text_size = 8, grtitle='', title_size = 10, legend=F) +\n",
    "            labs(caption = sprintf('Overall ATT (SE): %.3f (%.3f) \\n Wald-P: %.3f \\n # Obs.: %s' ,\n",
    "            att$overall.att, att$overall.se, result$Wpval, result$n)) +\n",
    "            theme(plot.caption = element_text(hjust=0.5, size=8),\n",
    "            panel.background = element_rect(fill='transparent'),\n",
    "            plot.background = element_rect(fill='transparent', color=NA),\n",
    "            legend.background = element_rect(fill='transparent'),\n",
    "            legend.box.background = element_rect(fill='transparent'),\n",
    "            plot.margin=unit(c(0,0,0,0),\"cm\"))\n",
    "  # Plot ATT\n",
    "  att_fig <- ggdid(att, legend=F, x_lab='', ax_text_size = 8, ylab='', title='ATT by year', title_size = 10) + \n",
    "  labs(caption = sprintf('2005 ATT(SE): %.3f (%.3f)\\n2010 ATT(SE): %.3f (%.3f)\\n2014 ATT(SE): %.3f (%.3f)', \n",
    "            att$att.egt[[1]], att$se.egt[[1]], att$att.egt[[2]], att$se.egt[[2]], att$att.egt[[3]], att$se.egt[[3]])) + \n",
    "            theme(plot.caption = element_text(hjust=0.5, size=8), \n",
    "            axis.title.x = element_blank(),\n",
    "            axis.text.y = element_text(angle=90, size=6, hjust=0.5),\n",
    "            panel.background = element_rect(fill='transparent'),\n",
    "            plot.background = element_rect(fill='transparent', color=NA),\n",
    "            legend.background = element_rect(fill='transparent'),\n",
    "            legend.box.background = element_rect(fill='transparent'),\n",
    "            plot.margin=unit(c(0,0,0,0),\"cm\"))\n",
    "  # Combine and annotate Group and ATT plot\n",
    "  combined_fig <- ggarrange(result_fig, att_fig, widths = c(3, 1)) + \n",
    "                  theme(plot.margin=unit(c(0,0,0,0),\"cm\"))\n",
    "  combined_fig_anno <- annotate_figure(combined_fig,\n",
    "                top = text_grob(sprintf('%s', treatments[[treatment]])))\n",
    "  figures[[length(figures)+1]] <- combined_fig_anno\n",
    "  }\n",
    "  # Combine Figures for all treatments\n",
    "  arranged_fig <- ggarrange(plotlist=figures, nrow = 4, ncol = 1, common.legend = TRUE)\n",
    "  # get legend\n",
    "  result_fig <- ggdid(result) +\n",
    "              theme(\n",
    "              legend.background = element_rect(fill='transparent', color='transparent'),\n",
    "              legend.box.background = element_rect(fill='transparent', color='transparent'),\n",
    "              plot.margin=unit(c(0,0,0,0),\"cm\"))\n",
    "  leg <- get_legend(result_fig)\n",
    "  # add legend\n",
    "  arranged_fig_leg <- ggarrange(arranged_fig, leg, nrow = 2, ncol = 1, heights = c(10, 1))\n",
    "  final_fig <- annotate_figure(arranged_fig_leg,\n",
    "                  top = text_grob(sprintf(\"LTW: Effect on %s's vote share\", party), face = \"bold\", size = 14),\n",
    "                  bottom = text_grob('Control Group: Never Treated. Estimation Method: Regression \\n SE clustered on the municipality level.', size = 10),)\n",
    "  ggsave(sprintf('%s_all.png', party), plot = final_fig, path = sprintf('%s/figures/R/LTW/pooled', path), units = 'cm', width = 21, height = 29.7, dpi=\"print\")\n",
    "  print(party)\n",
    "}"
   ]
  },
  {
   "cell_type": "markdown",
   "metadata": {},
   "source": [
    "DiD for LTW no controls by state"
   ]
  },
  {
   "cell_type": "code",
   "execution_count": null,
   "metadata": {
    "vscode": {
     "languageId": "r"
    }
   },
   "outputs": [],
   "source": [
    "parties <- c('Union', 'SPD', 'FDP', 'Linke', 'Grüne', 'Andere')\n",
    "treatments_dict <- hash('treatment_0'='Direct Line', 'treatment_15'='Within 15km', 'treatment_30'='Within 30km', 'treatment_50'='Within 50km')\n",
    "states_dict <- hash('NI'='Lower Saxony (NI)', 'NW'='North-Rhine Westphalia (NRW)', 'HE'='Hesse (HE)', 'BY'='Bavaria (BY)')\n",
    "treatments <- keys(treatments_dict)\n",
    "states <- keys(states_dict)\n",
    "results  <- list()\n",
    "for (state in states){\n",
    "  for(party in parties){\n",
    "    figures  <- list()\n",
    "    reg_data <- subset(ltw, Land == state)\n",
    "    for(treatment in treatments){\n",
    "      result <- att_gt(yname = party,\n",
    "                    gname = treatment,\n",
    "                    idname = 'AGS',\n",
    "                    panel = TRUE,\n",
    "                    tname = 'year',\n",
    "                    xformla = ~ 1,\n",
    "                    data = reg_data,\n",
    "                    est_method = 'reg',\n",
    "                    anticipation = 0,\n",
    "                    control_group = 'nevertreated',\n",
    "                    clustervars = c('AGS'),\n",
    "                    bstrap = TRUE,\n",
    "                    cband = TRUE,\n",
    "                    allow_unbalanced_panel = TRUE,\n",
    "                    \n",
    "      )\n",
    "    results[[length(results)+1]] <- result\n",
    "    # calculate ATT\n",
    "    att <- aggte(result, type = \"group\", bstrap = TRUE, clustervars = c('AGS'))\n",
    "    # plot results\n",
    "    result_fig <- ggdid(result, \n",
    "              ylim = c(floor(min(result$att - result$se * 2.345 - 1)), ceiling(max(result$att + result$se * 2.345 + 1))),\n",
    "              ncol = 3, ax_text_size = 8, grtitle='', title_size = 10, legend=F) +\n",
    "              labs(caption = sprintf('Overall ATT (SE): %.3f (%.3f) \\n Wald-P: %.3f \\n # Obs.: %s' ,\n",
    "              att$overall.att, att$overall.se, result$Wpval, result$n)) +\n",
    "              theme(plot.caption = element_text(hjust=0.5, size=8),\n",
    "              panel.background = element_rect(fill='transparent'),\n",
    "              plot.background = element_rect(fill='transparent', color=NA),\n",
    "              legend.background = element_rect(fill='transparent'),\n",
    "              legend.box.background = element_rect(fill='transparent'),\n",
    "              plot.margin=unit(c(0,0,0,0),\"cm\"))\n",
    "    # Plot ATT\n",
    "    att_fig <- ggdid(att, legend=F, x_lab='', ax_text_size = 8, ylab='', title='ATT by year', title_size = 10) + \n",
    "    labs(caption = sprintf('2005 ATT(SE): %.3f (%.3f)\\n2010 ATT(SE): %.3f (%.3f)\\n2014 ATT(SE): %.3f (%.3f)', \n",
    "              att$att.egt[[1]], att$se.egt[[1]], att$att.egt[[2]], att$se.egt[[2]], att$att.egt[[3]], att$se.egt[[3]])) + \n",
    "              theme(plot.caption = element_text(hjust=0.5, size=8), \n",
    "              axis.title.x = element_blank(),\n",
    "              axis.text.y = element_text(angle=90, size=6, hjust=0.5),\n",
    "              panel.background = element_rect(fill='transparent'),\n",
    "              plot.background = element_rect(fill='transparent', color=NA),\n",
    "              legend.background = element_rect(fill='transparent'),\n",
    "              legend.box.background = element_rect(fill='transparent'),\n",
    "              plot.margin=unit(c(0,0,0,0),\"cm\"))\n",
    "    # Combine and annotate Group and ATT plot\n",
    "    combined_fig <- ggarrange(result_fig, att_fig, widths = c(3, 1)) + \n",
    "                    theme(plot.margin=unit(c(0,0,0,0),\"cm\"))\n",
    "    combined_fig_anno <- annotate_figure(combined_fig,\n",
    "                  top = text_grob(sprintf('%s', treatments[[treatment]])))\n",
    "    figures[[length(figures)+1]] <- combined_fig_anno\n",
    "    }\n",
    "    # Combine Figures for all treatments\n",
    "    arranged_fig <- ggarrange(plotlist=figures, nrow = 4, ncol = 1, common.legend = TRUE)\n",
    "    # get legend\n",
    "    result_fig <- ggdid(result) +\n",
    "                theme(\n",
    "                legend.background = element_rect(fill='transparent', color='transparent'),\n",
    "                legend.box.background = element_rect(fill='transparent', color='transparent'),\n",
    "                plot.margin=unit(c(0,0,0,0),\"cm\"))\n",
    "    leg <- get_legend(result_fig)\n",
    "    # add legend\n",
    "    arranged_fig_leg <- ggarrange(arranged_fig, leg, nrow = 2, ncol = 1, heights = c(10, 1))\n",
    "    final_fig <- annotate_figure(arranged_fig_leg,\n",
    "                    top = text_grob(sprintf(\"LTW %s \\nEffect on %s's vote share\", state, party), face = \"bold\", size = 14),\n",
    "                    bottom = text_grob('Control Group: Never Treated. Estimation Method: Regression \\n SE clustered on the municipality level.', size = 10),)\n",
    "    ggsave(sprintf('%s_%s_nc.png', state, party), plot = final_fig, path = sprintf('%s/figures/R/LTW/by_state', path), units = 'cm', width = 21, height = 29.7, dpi=\"print\")\n",
    "    print(party)\n",
    "  }\n",
    "}"
   ]
  },
  {
   "cell_type": "markdown",
   "metadata": {},
   "source": [
    "DiD for LTW controls by state"
   ]
  },
  {
   "cell_type": "code",
   "execution_count": null,
   "metadata": {
    "vscode": {
     "languageId": "r"
    }
   },
   "outputs": [],
   "source": [
    "ltw_c <- import(sprintf(\"%s/data/ltw_control.csv\", path))"
   ]
  },
  {
   "cell_type": "code",
   "execution_count": null,
   "metadata": {
    "vscode": {
     "languageId": "r"
    }
   },
   "outputs": [],
   "source": [
    "parties <- c('Union', 'SPD', 'FDP', 'Linke', 'Grüne', 'Andere')\n",
    "treatments_dict <- hash('treatment_0'='Direct Line', 'treatment_15'='Within 15km', 'treatment_30'='Within 30km', 'treatment_50'='Within 50km')\n",
    "states_dict <- hash('NI'='Lower Saxony (NI)', 'NW'='North-Rhine Westphalia (NRW)', 'HE'='Hesse (HE)', 'BY'='Bavaria (BY)')\n",
    "treatments <- keys(treatments_dict)\n",
    "states <- keys(states_dict)\n",
    "results  <- list()\n",
    "for (state in states){\n",
    "  for(party in parties){\n",
    "    figures  <- list()\n",
    "    reg_data <- subset(ltw_c, Land == state)\n",
    "    for(treatment in treatments){\n",
    "      result <- att_gt(yname = party,\n",
    "                    gname = treatment,\n",
    "                    idname = 'AGS',\n",
    "                    panel = TRUE,\n",
    "                    tname = 'year',\n",
    "                    xformla = ~ pop_density + unemployed + avg_age + female,\n",
    "                    data = reg_data,\n",
    "                    est_method = 'reg',\n",
    "                    anticipation = 0,\n",
    "                    control_group = 'nevertreated',\n",
    "                    clustervars = c('AGS'),\n",
    "                    bstrap = TRUE,\n",
    "                    cband = TRUE,\n",
    "                    allow_unbalanced_panel = TRUE,\n",
    "                    \n",
    "      )\n",
    "    results[[length(results)+1]] <- result\n",
    "    # calculate ATT\n",
    "    att <- aggte(result, type = \"group\", bstrap = TRUE, clustervars = c('AGS'))\n",
    "    # plot results\n",
    "    result_fig <- ggdid(result, \n",
    "              ylim = c(floor(min(result$att - result$se * 2.345 - 1)), ceiling(max(result$att + result$se * 2.345 + 1))),\n",
    "              ncol = 3, ax_text_size = 8, grtitle='', title_size = 10, legend=F) +\n",
    "              labs(caption = sprintf('Overall ATT (SE): %.3f (%.3f) \\n Wald-P: %.3f \\n # Obs.: %s' ,\n",
    "              att$overall.att, att$overall.se, result$Wpval, result$n)) +\n",
    "              theme(plot.caption = element_text(hjust=0.5, size=8),\n",
    "              panel.background = element_rect(fill='transparent'),\n",
    "              plot.background = element_rect(fill='transparent', color=NA),\n",
    "              legend.background = element_rect(fill='transparent'),\n",
    "              legend.box.background = element_rect(fill='transparent'),\n",
    "              plot.margin=unit(c(0,0,0,0),\"cm\"))\n",
    "    # Plot ATT\n",
    "    att_fig <- ggdid(att, legend=F, x_lab='', ax_text_size = 8, ylab='', title='ATT by year', title_size = 10) + \n",
    "    labs(caption = sprintf('2005 ATT(SE): %.3f (%.3f)\\n2010 ATT(SE): %.3f (%.3f)\\n2014 ATT(SE): %.3f (%.3f)', \n",
    "              att$att.egt[[1]], att$se.egt[[1]], att$att.egt[[2]], att$se.egt[[2]], att$att.egt[[3]], att$se.egt[[3]])) + \n",
    "              theme(plot.caption = element_text(hjust=0.5, size=8), \n",
    "              axis.title.x = element_blank(),\n",
    "              axis.text.y = element_text(angle=90, size=6, hjust=0.5),\n",
    "              panel.background = element_rect(fill='transparent'),\n",
    "              plot.background = element_rect(fill='transparent', color=NA),\n",
    "              legend.background = element_rect(fill='transparent'),\n",
    "              legend.box.background = element_rect(fill='transparent'),\n",
    "              plot.margin=unit(c(0,0,0,0),\"cm\"))\n",
    "    # Combine and annotate Group and ATT plot\n",
    "    combined_fig <- ggarrange(result_fig, att_fig, widths = c(3, 1)) + \n",
    "                    theme(plot.margin=unit(c(0,0,0,0),\"cm\"))\n",
    "    combined_fig_anno <- annotate_figure(combined_fig,\n",
    "                  top = text_grob(sprintf('%s', treatments[[treatment]])))\n",
    "    figures[[length(figures)+1]] <- combined_fig_anno\n",
    "    }\n",
    "    # Combine Figures for all treatments\n",
    "    arranged_fig <- ggarrange(plotlist=figures, nrow = 4, ncol = 1, common.legend = TRUE)\n",
    "    # get legend\n",
    "    result_fig <- ggdid(result) +\n",
    "                theme(\n",
    "                legend.background = element_rect(fill='transparent', color='transparent'),\n",
    "                legend.box.background = element_rect(fill='transparent', color='transparent'),\n",
    "                plot.margin=unit(c(0,0,0,0),\"cm\"))\n",
    "    leg <- get_legend(result_fig)\n",
    "    # add legend\n",
    "    arranged_fig_leg <- ggarrange(arranged_fig, leg, nrow = 2, ncol = 1, heights = c(10, 1))\n",
    "    final_fig <- annotate_figure(arranged_fig_leg,\n",
    "                    top = text_grob(sprintf(\"LTW %s \\nEffect on %s's vote share\", states_dict[[state]], party), face = \"bold\", size = 14),\n",
    "                    bottom = text_grob('Control Group: Never Treated. Estimation Method: Regression \\n SE clustered on the municipality level.', size = 10),)\n",
    "    ggsave(sprintf('%s_%s.png', state, party), plot = final_fig, path = sprintf('%s/figures/R/LTW/by_state_controls', path), units = 'cm', width = 21, height = 29.7, dpi=\"print\")\n",
    "    print(party)\n",
    "  }\n",
    "}"
   ]
  }
 ],
 "metadata": {
  "kernelspec": {
   "display_name": "R",
   "language": "R",
   "name": "ir"
  },
  "language_info": {
   "codemirror_mode": "r",
   "file_extension": ".r",
   "mimetype": "text/x-r-source",
   "name": "R",
   "pygments_lexer": "r",
   "version": "4.2.1"
  },
  "orig_nbformat": 4,
  "vscode": {
   "interpreter": {
    "hash": "656f4cd1472b14b513faaa63bd5e4a7577d125de6a277113d4e82c4085557d3e"
   }
  }
 },
 "nbformat": 4,
 "nbformat_minor": 2
}
