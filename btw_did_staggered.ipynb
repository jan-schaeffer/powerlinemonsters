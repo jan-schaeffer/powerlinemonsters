{
 "cells": [
  {
   "cell_type": "code",
   "execution_count": 26,
   "metadata": {
    "vscode": {
     "languageId": "r"
    }
   },
   "outputs": [],
   "source": [
    "# Clear the R environment and set working directory\n",
    "rm(list = ls())\n",
    "setwd(\"/Users/jan/Dropbox/UP_EPQM/2222/MA/powerlinemonsters\")\n",
    "path <- \"/Users/jan/Dropbox/UP_EPQM/2222/MA/powerlinemonsters\""
   ]
  },
  {
   "cell_type": "code",
   "execution_count": 66,
   "metadata": {
    "vscode": {
     "languageId": "r"
    }
   },
   "outputs": [],
   "source": [
    "# Install and load additional packages needed\n",
    "# install.packages(\"spatstat\")\n",
    "library(did)\n",
    "library(rio)\n",
    "library(ggplot2)\n",
    "library(ggpubr)\n",
    "library(cowplot)"
   ]
  },
  {
   "cell_type": "code",
   "execution_count": 37,
   "metadata": {
    "vscode": {
     "languageId": "r"
    }
   },
   "outputs": [],
   "source": [
    "# read in the data set\n",
    "btw <-import(sprintf(\"%s/data/btw_treat.csv\", path))"
   ]
  },
  {
   "cell_type": "code",
   "execution_count": 22,
   "metadata": {
    "vscode": {
     "languageId": "r"
    }
   },
   "outputs": [
    {
     "data": {
      "text/html": [
       "<style>\n",
       ".list-inline {list-style: none; margin:0; padding: 0}\n",
       ".list-inline>li {display: inline-block}\n",
       ".list-inline>li:not(:last-child)::after {content: \"\\00b7\"; padding: 0 .5ex}\n",
       "</style>\n",
       "<ol class=list-inline><li>'AGS'</li><li>'year'</li><li>'GEN'</li><li>'Land'</li><li>'state_id'</li><li>'Kreis'</li><li>'Wahlkreis'</li><li>'post_1998'</li><li>'post_2002'</li><li>'post_2005'</li><li>'post_2009'</li><li>'post_2013'</li><li>'first_vote'</li><li>'second_vote'</li><li>'Wähler'</li><li>'Gültig'</li><li>'Union'</li><li>'SPD'</li><li>'FDP'</li><li>'Linke'</li><li>'Grüne'</li><li>'Andere'</li><li>'treatment_05'</li><li>'treatment_09'</li><li>'treatment_13'</li><li>'treatment_30'</li><li>'treatment_60'</li><li>'treatment_100'</li><li>'ever_treated'</li><li>'never_treated'</li><li>'treated_2005'</li><li>'treated_2009'</li><li>'treated_2013'</li><li>'treatment_30_05'</li><li>'treatment_60_05'</li><li>'treatment_100_05'</li><li>'treatment_30_09'</li><li>'treatment_60_09'</li><li>'treatment_100_09'</li><li>'treatment_30_13'</li><li>'treatment_60_13'</li><li>'treatment_100_13'</li><li>'pop_density'</li><li>'unemployed'</li><li>'foreign'</li><li>'catholic'</li><li>'avg_age'</li><li>'female'</li><li>'income'</li><li>'east'</li></ol>\n"
      ],
      "text/latex": [
       "\\begin{enumerate*}\n",
       "\\item 'AGS'\n",
       "\\item 'year'\n",
       "\\item 'GEN'\n",
       "\\item 'Land'\n",
       "\\item 'state\\_id'\n",
       "\\item 'Kreis'\n",
       "\\item 'Wahlkreis'\n",
       "\\item 'post\\_1998'\n",
       "\\item 'post\\_2002'\n",
       "\\item 'post\\_2005'\n",
       "\\item 'post\\_2009'\n",
       "\\item 'post\\_2013'\n",
       "\\item 'first\\_vote'\n",
       "\\item 'second\\_vote'\n",
       "\\item 'Wähler'\n",
       "\\item 'Gültig'\n",
       "\\item 'Union'\n",
       "\\item 'SPD'\n",
       "\\item 'FDP'\n",
       "\\item 'Linke'\n",
       "\\item 'Grüne'\n",
       "\\item 'Andere'\n",
       "\\item 'treatment\\_05'\n",
       "\\item 'treatment\\_09'\n",
       "\\item 'treatment\\_13'\n",
       "\\item 'treatment\\_30'\n",
       "\\item 'treatment\\_60'\n",
       "\\item 'treatment\\_100'\n",
       "\\item 'ever\\_treated'\n",
       "\\item 'never\\_treated'\n",
       "\\item 'treated\\_2005'\n",
       "\\item 'treated\\_2009'\n",
       "\\item 'treated\\_2013'\n",
       "\\item 'treatment\\_30\\_05'\n",
       "\\item 'treatment\\_60\\_05'\n",
       "\\item 'treatment\\_100\\_05'\n",
       "\\item 'treatment\\_30\\_09'\n",
       "\\item 'treatment\\_60\\_09'\n",
       "\\item 'treatment\\_100\\_09'\n",
       "\\item 'treatment\\_30\\_13'\n",
       "\\item 'treatment\\_60\\_13'\n",
       "\\item 'treatment\\_100\\_13'\n",
       "\\item 'pop\\_density'\n",
       "\\item 'unemployed'\n",
       "\\item 'foreign'\n",
       "\\item 'catholic'\n",
       "\\item 'avg\\_age'\n",
       "\\item 'female'\n",
       "\\item 'income'\n",
       "\\item 'east'\n",
       "\\end{enumerate*}\n"
      ],
      "text/markdown": [
       "1. 'AGS'\n",
       "2. 'year'\n",
       "3. 'GEN'\n",
       "4. 'Land'\n",
       "5. 'state_id'\n",
       "6. 'Kreis'\n",
       "7. 'Wahlkreis'\n",
       "8. 'post_1998'\n",
       "9. 'post_2002'\n",
       "10. 'post_2005'\n",
       "11. 'post_2009'\n",
       "12. 'post_2013'\n",
       "13. 'first_vote'\n",
       "14. 'second_vote'\n",
       "15. 'Wähler'\n",
       "16. 'Gültig'\n",
       "17. 'Union'\n",
       "18. 'SPD'\n",
       "19. 'FDP'\n",
       "20. 'Linke'\n",
       "21. 'Grüne'\n",
       "22. 'Andere'\n",
       "23. 'treatment_05'\n",
       "24. 'treatment_09'\n",
       "25. 'treatment_13'\n",
       "26. 'treatment_30'\n",
       "27. 'treatment_60'\n",
       "28. 'treatment_100'\n",
       "29. 'ever_treated'\n",
       "30. 'never_treated'\n",
       "31. 'treated_2005'\n",
       "32. 'treated_2009'\n",
       "33. 'treated_2013'\n",
       "34. 'treatment_30_05'\n",
       "35. 'treatment_60_05'\n",
       "36. 'treatment_100_05'\n",
       "37. 'treatment_30_09'\n",
       "38. 'treatment_60_09'\n",
       "39. 'treatment_100_09'\n",
       "40. 'treatment_30_13'\n",
       "41. 'treatment_60_13'\n",
       "42. 'treatment_100_13'\n",
       "43. 'pop_density'\n",
       "44. 'unemployed'\n",
       "45. 'foreign'\n",
       "46. 'catholic'\n",
       "47. 'avg_age'\n",
       "48. 'female'\n",
       "49. 'income'\n",
       "50. 'east'\n",
       "\n",
       "\n"
      ],
      "text/plain": [
       " [1] \"AGS\"              \"year\"             \"GEN\"              \"Land\"            \n",
       " [5] \"state_id\"         \"Kreis\"            \"Wahlkreis\"        \"post_1998\"       \n",
       " [9] \"post_2002\"        \"post_2005\"        \"post_2009\"        \"post_2013\"       \n",
       "[13] \"first_vote\"       \"second_vote\"      \"Wähler\"           \"Gültig\"          \n",
       "[17] \"Union\"            \"SPD\"              \"FDP\"              \"Linke\"           \n",
       "[21] \"Grüne\"            \"Andere\"           \"treatment_05\"     \"treatment_09\"    \n",
       "[25] \"treatment_13\"     \"treatment_30\"     \"treatment_60\"     \"treatment_100\"   \n",
       "[29] \"ever_treated\"     \"never_treated\"    \"treated_2005\"     \"treated_2009\"    \n",
       "[33] \"treated_2013\"     \"treatment_30_05\"  \"treatment_60_05\"  \"treatment_100_05\"\n",
       "[37] \"treatment_30_09\"  \"treatment_60_09\"  \"treatment_100_09\" \"treatment_30_13\" \n",
       "[41] \"treatment_60_13\"  \"treatment_100_13\" \"pop_density\"      \"unemployed\"      \n",
       "[45] \"foreign\"          \"catholic\"         \"avg_age\"          \"female\"          \n",
       "[49] \"income\"           \"east\"            "
      ]
     },
     "metadata": {},
     "output_type": "display_data"
    }
   ],
   "source": [
    "colnames(btw)"
   ]
  },
  {
   "cell_type": "code",
   "execution_count": 38,
   "metadata": {
    "vscode": {
     "languageId": "r"
    }
   },
   "outputs": [],
   "source": [
    "# Filter for first and second vote\n",
    "erst <- subset(btw, first_vote == 1)\n",
    "zweit <- subset(btw, second_vote == 1)"
   ]
  },
  {
   "cell_type": "code",
   "execution_count": 69,
   "metadata": {
    "vscode": {
     "languageId": "r"
    }
   },
   "outputs": [
    {
     "name": "stderr",
     "output_type": "stream",
     "text": [
      "Saving 7 x 7 in image\n",
      "\n",
      "Saving 7 x 7 in image\n",
      "\n",
      "Saving 7 x 7 in image\n",
      "\n",
      "Saving 7 x 7 in image\n",
      "\n",
      "Saving 7 x 7 in image\n",
      "\n",
      "Saving 7 x 7 in image\n",
      "\n"
     ]
    }
   ],
   "source": [
    "parties <- c('Union', 'SPD', 'FDP', 'Linke', 'Grüne', 'Andere')\n",
    "treatments <- c('treatment_30', 'treatment_60', 'treatment_100')\n",
    "\n",
    "for(party in parties){\n",
    "  results  <- list()\n",
    "  figures  <- list()\n",
    "  for(treatment in treatments){\n",
    "    result <- att_gt(yname = party,\n",
    "                  gname = treatment,\n",
    "                  idname = 'AGS',\n",
    "                  panel = TRUE,\n",
    "                  tname = 'year',\n",
    "                  xformla = ~ 1, #east, # + pop_density, #unemployed + avg_age + pop_density + female,\n",
    "                  data = erst,\n",
    "                  est_method = 'dr',\n",
    "                  anticipation = 0,\n",
    "                  control_group = 'nevertreated',\n",
    "                  clustervars = c('AGS'),\n",
    "                  bstrap = TRUE,\n",
    "                  cband = TRUE,\n",
    "                  allow_unbalanced_panel = TRUE,\n",
    "                  \n",
    "    )\n",
    "    p = out$Wpval\n",
    "    # summary(out)\n",
    "\n",
    "    #es <- aggte(out, type = 'dynamic')\n",
    "    # summary(es)\n",
    "    #ggdid(es, ylim = c(floor(min(es$att.egt - es$se.egt * 2.345 - 1)), ceiling(max(es$att.egt + es$se.egt * 2.345 + 1))))\n",
    "    #ggsave(sprintf('%s/figures/R/ES/ES_%s_%s.png', path, party, treatment))\n",
    "  }\n",
    "  figure  <- ggdid(result, \n",
    "                ylim = c(floor(min(out$att - out$se * 2.345 - 1)), ceiling(max(out$att + out$se * 2.345 + 1))),\n",
    "                title = (sprintf('%s: %s', party, treatment))\n",
    "                )\n",
    "  figures[[length(figures)+1]]  <- figure\n",
    "  results[[length(results)+1]]  <- result\n",
    "  plot_grid(plotlist=figures, ncol=3, nrow=1)\n",
    "  ggsave(sprintf('%s/figures/R/Group/%s.png', path, party))\n",
    "}"
   ]
  },
  {
   "cell_type": "code",
   "execution_count": 55,
   "metadata": {
    "vscode": {
     "languageId": "r"
    }
   },
   "outputs": [
    {
     "name": "stdout",
     "output_type": "stream",
     "text": [
      "[[1]]\n",
      "\n",
      "Call:\n",
      "att_gt(yname = party, tname = \"year\", idname = \"AGS\", gname = treatment, \n",
      "    xformla = ~1, data = erst, panel = TRUE, allow_unbalanced_panel = TRUE, \n",
      "    control_group = \"nevertreated\", anticipation = 0, bstrap = TRUE, \n",
      "    cband = TRUE, clustervars = c(\"AGS\"), est_method = \"dr\")\n",
      "\n",
      "Reference: Callaway, Brantly and Pedro H.C. Sant'Anna.  \"Difference-in-Differences with Multiple Time Periods.\" Journal of Econometrics, Vol. 225, No. 2, pp. 200-230, 2021. <https://doi.org/10.1016/j.jeconom.2020.12.001>, <https://arxiv.org/abs/1803.09015> \n",
      "\n",
      "Group-Time Average Treatment Effects:\n",
      " Group Time ATT(g,t) Std. Error [95% Simult.  Conf. Band]  \n",
      "  2005 1998  -0.5722     0.1812       -1.0996     -0.0448 *\n",
      "  2005 2002  -1.6341     0.1635       -2.1101     -1.1581 *\n",
      "  2005 2005   1.0115     0.1463        0.5858      1.4373 *\n",
      "  2005 2009   3.0319     0.1822        2.5017      3.5622 *\n",
      "  2005 2013   2.1662     0.1945        1.6001      2.7323 *\n",
      "  2005 2017   5.2040     0.2403        4.5046      5.9035 *\n",
      "  2010 1998   1.0759     0.1609        0.6076      1.5441 *\n",
      "  2010 2002  -1.9772     0.1419       -2.3902     -1.5643 *\n",
      "  2010 2005   2.7912     0.1206        2.4403      3.1421 *\n",
      "  2010 2009  -0.2213     0.1766       -0.7352      0.2926  \n",
      "  2010 2013  -0.5596     0.1395       -0.9655     -0.1537 *\n",
      "  2010 2017   1.6693     0.1652        1.1885      2.1501 *\n",
      "  2014 1998   2.7154     0.1543        2.2662      3.1646 *\n",
      "  2014 2002  -1.1753     0.1529       -1.6205     -0.7302 *\n",
      "  2014 2005   1.7652     0.1426        1.3501      2.1803 *\n",
      "  2014 2009  -0.1482     0.1825       -0.6795      0.3830  \n",
      "  2014 2013  -1.7777     0.1685       -2.2682     -1.2871 *\n",
      "  2014 2017   2.4119     0.1732        1.9078      2.9160 *\n",
      "---\n",
      "Signif. codes: `*' confidence band does not cover 0\n",
      "\n",
      "P-value for pre-test of parallel trends assumption:  0\n",
      "Control Group:  Never Treated,  Anticipation Periods:  0\n",
      "Estimation Method:  Doubly Robust\n",
      "\n",
      "[[2]]\n",
      "\n",
      "Call:\n",
      "att_gt(yname = party, tname = \"year\", idname = \"AGS\", gname = treatment, \n",
      "    xformla = ~1, data = erst, panel = TRUE, allow_unbalanced_panel = TRUE, \n",
      "    control_group = \"nevertreated\", anticipation = 0, bstrap = TRUE, \n",
      "    cband = TRUE, clustervars = c(\"AGS\"), est_method = \"dr\")\n",
      "\n",
      "Reference: Callaway, Brantly and Pedro H.C. Sant'Anna.  \"Difference-in-Differences with Multiple Time Periods.\" Journal of Econometrics, Vol. 225, No. 2, pp. 200-230, 2021. <https://doi.org/10.1016/j.jeconom.2020.12.001>, <https://arxiv.org/abs/1803.09015> \n",
      "\n",
      "Group-Time Average Treatment Effects:\n",
      " Group Time ATT(g,t) Std. Error [95% Simult.  Conf. Band]  \n",
      "  2005 1998  -0.0158     0.1396       -0.4215      0.3898  \n",
      "  2005 2002  -2.3957     0.1399       -2.8021     -1.9892 *\n",
      "  2005 2005   1.7785     0.1093        1.4611      2.0959 *\n",
      "  2005 2009   3.6867     0.1683        3.1979      4.1755 *\n",
      "  2005 2013   2.6088     0.1854        2.0702      3.1474 *\n",
      "  2005 2017   6.3791     0.2119        5.7636      6.9946 *\n",
      "  2010 1998   1.3409     0.1489        0.9085      1.7733 *\n",
      "  2010 2002  -2.5484     0.1416       -2.9596     -2.1372 *\n",
      "  2010 2005   3.3762     0.1145        3.0437      3.7087 *\n",
      "  2010 2009  -0.1734     0.1546       -0.6226      0.2758  \n",
      "  2010 2013  -0.4469     0.1305       -0.8260     -0.0679 *\n",
      "  2010 2017   1.8351     0.1694        1.3432      2.3270 *\n",
      "  2014 1998   3.1194     0.1394        2.7146      3.5242 *\n",
      "  2014 2002  -1.4230     0.1681       -1.9113     -0.9346 *\n",
      "  2014 2005   2.1754     0.1249        1.8127      2.5381 *\n",
      "  2014 2009   0.1678     0.1777       -0.3484      0.6840  \n",
      "  2014 2013  -2.2497     0.1611       -2.7177     -1.7816 *\n",
      "  2014 2017   1.8606     0.1655        1.3799      2.3413 *\n",
      "---\n",
      "Signif. codes: `*' confidence band does not cover 0\n",
      "\n",
      "P-value for pre-test of parallel trends assumption:  0\n",
      "Control Group:  Never Treated,  Anticipation Periods:  0\n",
      "Estimation Method:  Doubly Robust\n",
      "\n",
      "[[3]]\n",
      "\n",
      "Call:\n",
      "att_gt(yname = party, tname = \"year\", idname = \"AGS\", gname = treatment, \n",
      "    xformla = ~1, data = erst, panel = TRUE, allow_unbalanced_panel = TRUE, \n",
      "    control_group = \"nevertreated\", anticipation = 0, bstrap = TRUE, \n",
      "    cband = TRUE, clustervars = c(\"AGS\"), est_method = \"dr\")\n",
      "\n",
      "Reference: Callaway, Brantly and Pedro H.C. Sant'Anna.  \"Difference-in-Differences with Multiple Time Periods.\" Journal of Econometrics, Vol. 225, No. 2, pp. 200-230, 2021. <https://doi.org/10.1016/j.jeconom.2020.12.001>, <https://arxiv.org/abs/1803.09015> \n",
      "\n",
      "Group-Time Average Treatment Effects:\n",
      " Group Time ATT(g,t) Std. Error [95% Simult.  Conf. Band]  \n",
      "  2005 1998   0.0647     0.1407       -0.3609      0.4903  \n",
      "  2005 2002  -3.0884     0.1256       -3.4683     -2.7086 *\n",
      "  2005 2005   2.5018     0.1060        2.1811      2.8224 *\n",
      "  2005 2009   4.6857     0.1816        4.1364      5.2351 *\n",
      "  2005 2013   3.4788     0.1980        2.8799      4.0776 *\n",
      "  2005 2017   7.6720     0.2367        6.9562      8.3878 *\n",
      "  2010 1998   1.4374     0.1471        0.9925      1.8823 *\n",
      "  2010 2002  -2.8474     0.1466       -3.2908     -2.4039 *\n",
      "  2010 2005   3.8562     0.1296        3.4644      4.2480 *\n",
      "  2010 2009  -0.0775     0.1648       -0.5758      0.4208  \n",
      "  2010 2013  -0.1804     0.1472       -0.6254      0.2647  \n",
      "  2010 2017   2.0303     0.1897        1.4567      2.6039 *\n",
      "  2014 1998   2.4611     0.1664        1.9579      2.9643 *\n",
      "  2014 2002  -1.8825     0.1750       -2.4118     -1.3531 *\n",
      "  2014 2005   2.1409     0.1498        1.6878      2.5940 *\n",
      "  2014 2009   1.0832     0.1928        0.5003      1.6661 *\n",
      "  2014 2013  -2.4348     0.1854       -2.9955     -1.8741 *\n",
      "  2014 2017   2.8434     0.1768        2.3088      3.3781 *\n",
      "---\n",
      "Signif. codes: `*' confidence band does not cover 0\n",
      "\n",
      "P-value for pre-test of parallel trends assumption:  0\n",
      "Control Group:  Never Treated,  Anticipation Periods:  0\n",
      "Estimation Method:  Doubly Robust\n",
      "\n"
     ]
    }
   ],
   "source": [
    "print(results)"
   ]
  }
 ],
 "metadata": {
  "kernelspec": {
   "display_name": "R",
   "language": "R",
   "name": "ir"
  },
  "language_info": {
   "codemirror_mode": "r",
   "file_extension": ".r",
   "mimetype": "text/x-r-source",
   "name": "R",
   "pygments_lexer": "r",
   "version": "4.2.1"
  },
  "orig_nbformat": 4
 },
 "nbformat": 4,
 "nbformat_minor": 2
}
