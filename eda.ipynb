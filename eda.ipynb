{
 "cells": [
  {
   "cell_type": "markdown",
   "metadata": {},
   "source": [
    "First, import needed modules"
   ]
  },
  {
   "cell_type": "code",
   "execution_count": null,
   "metadata": {},
   "outputs": [],
   "source": [
    "import numpy as np\n",
    "import pandas as pd\n",
    "import matplotlib.pyplot as plt\n",
    "import os"
   ]
  },
  {
   "cell_type": "markdown",
   "metadata": {},
   "source": [
    "Initalize variables"
   ]
  },
  {
   "cell_type": "code",
   "execution_count": null,
   "metadata": {},
   "outputs": [],
   "source": [
    "path = os.getcwd()\n",
    "print(path)"
   ]
  },
  {
   "cell_type": "markdown",
   "metadata": {},
   "source": [
    "Import datasets"
   ]
  },
  {
   "cell_type": "code",
   "execution_count": null,
   "metadata": {},
   "outputs": [],
   "source": [
    "data = pd.read_csv(f'{path}/data/btw_treatment.csv', encoding = 'UTF-8-SIG', sep=',')\n",
    "#data = data.set_index(['AGS', 'year'])\n",
    "data.head(10)"
   ]
  },
  {
   "cell_type": "markdown",
   "metadata": {},
   "source": [
    "View summary statistics"
   ]
  },
  {
   "cell_type": "code",
   "execution_count": null,
   "metadata": {},
   "outputs": [],
   "source": [
    "data.describe()"
   ]
  },
  {
   "cell_type": "markdown",
   "metadata": {},
   "source": [
    "Split data in Erst- and Zweitstimme"
   ]
  },
  {
   "cell_type": "code",
   "execution_count": null,
   "metadata": {},
   "outputs": [],
   "source": [
    "erst = data[data['Erststimme'] == 1]\n",
    "zweit = data[data['Zweitstimme'] == 1]\n",
    "erst.head(10)"
   ]
  },
  {
   "cell_type": "markdown",
   "metadata": {},
   "source": [
    "Calculate average vote shares in all years by treated 50"
   ]
  },
  {
   "cell_type": "code",
   "execution_count": null,
   "metadata": {},
   "outputs": [],
   "source": [
    "erst_avg = erst[['Union', 'SPD', 'FDP', 'Linke', 'Grüne', 'Andere', 'treated_50', 'year']].groupby(['treated_50', 'year'], as_index = False).mean()\n",
    "zweit_avg = zweit[['Union', 'SPD', 'FDP', 'Linke', 'Grüne', 'Andere', 'treated_50', 'year']].groupby(['treated_50', 'year'], as_index = False).mean()\n",
    "erst_avg.head(10)"
   ]
  },
  {
   "cell_type": "markdown",
   "metadata": {},
   "source": [
    "Split data into treated and untreated"
   ]
  },
  {
   "cell_type": "code",
   "execution_count": null,
   "metadata": {},
   "outputs": [],
   "source": [
    "erst_avg_treated = erst_avg[erst_avg['treated_50'] == 1]\n",
    "erst_avg_untreated = erst_avg[erst_avg['treated_50'] == 0]\n",
    "zweit_avg_treated = zweit_avg[zweit_avg['treated_50'] == 1]\n",
    "zweit_avg_untreated = zweit_avg[zweit_avg['treated_50'] == 0]\n",
    "erst_avg_treated.head(10)"
   ]
  },
  {
   "cell_type": "markdown",
   "metadata": {},
   "source": [
    "Plot the average vote shares over years for treated and untreated municipalities"
   ]
  },
  {
   "cell_type": "code",
   "execution_count": null,
   "metadata": {},
   "outputs": [],
   "source": [
    "fig, axes = plt.subplots(nrows=3, ncols=2, figsize=(10, 10), dpi=300)\n",
    "#set x labels\n",
    "plt.setp(axes, xticks=[2002,2005,2009,2013,2017])\n",
    "# title for entire figure\n",
    "fig.suptitle('Average Vote Shares', fontsize=20)\n",
    "\n",
    "# edit subplots\n",
    "axes[0, 0].set_title('Union', fontsize=12)\n",
    "axes[0, 0].set_ylabel('% Votes', fontsize=10)\n",
    "axes[0, 0].plot(erst_avg_treated['year'], erst_avg_treated['Union'], color='#000000', marker = 'o', label='Treated')\n",
    "axes[0, 0].plot(erst_avg_untreated['year'], erst_avg_untreated['Union'], color='#7f7f7f', marker = 'o', label='Untreated')\n",
    "axes[0, 0].legend(loc='lower left')\n",
    "axes[0, 0].axvline(x=2013, color='red', linestyle='--')\n",
    "\n",
    "axes[0, 1].set_title('SPD', fontsize=12)\n",
    "axes[0, 1].set_ylabel('% Votes', fontsize=10)\n",
    "axes[0, 1].plot(erst_avg_treated['year'], erst_avg_treated['SPD'], color='#ff1100', marker = 'o', label='Treated')\n",
    "axes[0, 1].plot(erst_avg_untreated['year'], erst_avg_untreated['SPD'], color='#ff7066', marker = 'o', label='Untreated')\n",
    "axes[0, 1].legend(loc='lower left')\n",
    "axes[0, 1].axvline(x=2013, color='red', linestyle='--')\n",
    "\n",
    "axes[1, 0].set_title('FDP', fontsize=12)\n",
    "axes[1, 0].set_ylabel('% Votes', fontsize=10)\n",
    "axes[1, 0].plot(erst_avg_treated['year'], erst_avg_treated['FDP'], color='#ffed00', marker = 'o', label='Treated')\n",
    "axes[1, 0].plot(erst_avg_untreated['year'], erst_avg_untreated['FDP'], color='#fff799', marker = 'o', label='Untreated')\n",
    "axes[1, 0].legend(loc='upper left')\n",
    "axes[1, 0].axvline(x=2013, color='red', linestyle='--')\n",
    "\n",
    "axes[1, 1].set_title('Linke', fontsize=12)\n",
    "axes[1, 1].set_ylabel('% Votes', fontsize=10)\n",
    "axes[1, 1].plot(erst_avg_treated['year'], erst_avg_treated['Linke'], color='#cc0055', marker = 'o', label='Treated')\n",
    "axes[1, 1].plot(erst_avg_untreated['year'], erst_avg_untreated['Linke'], color='#e06699', marker = 'o', label='Untreated')\n",
    "axes[1, 1].legend(loc='upper left')\n",
    "axes[1, 1].axvline(x=2013, color='red', linestyle='--')\n",
    "\n",
    "axes[2, 0].set_title('Grüne', fontsize=12)\n",
    "axes[2, 0].set_ylabel('% Votes', fontsize=10)\n",
    "axes[2, 0].plot(erst_avg_treated['year'], erst_avg_treated['Grüne'], color='#3a6e23', marker = 'o', label='Treated')\n",
    "axes[2, 0].plot(erst_avg_untreated['year'], erst_avg_untreated['Grüne'], color='#62bb3b', marker = 'o', label='Untreated')\n",
    "axes[2, 0].legend(loc='upper left')\n",
    "axes[2, 0].axvline(x=2013, color='red', linestyle='--')\n",
    "\n",
    "axes[2, 1].set_title('Andere', fontsize=12)\n",
    "axes[2, 1].set_ylabel('% Votes', fontsize=10)\n",
    "axes[2, 1].plot(erst_avg_treated['year'], erst_avg_treated['Andere'], color='darkgrey', marker = 'o', label='Treated')\n",
    "axes[2, 1].plot(erst_avg_untreated['year'], erst_avg_untreated['Andere'], color='lightgrey', marker = 'o', label='Untreated')\n",
    "axes[2, 1].legend(loc='upper left')\n",
    "axes[2, 1].axvline(x=2013, color='red', linestyle='--')\n",
    "\n",
    "# Save figure\n",
    "fig.savefig(f'{path}/figures/vote_shares.png')"
   ]
  }
 ],
 "metadata": {
  "interpreter": {
   "hash": "88be3cbefcf0764a65175a6561fd304411aaded24422f3185dd5fe11d8fe4862"
  },
  "kernelspec": {
   "display_name": "Python 3.9.12 ('vscode')",
   "language": "python",
   "name": "python3"
  },
  "language_info": {
   "codemirror_mode": {
    "name": "ipython",
    "version": 3
   },
   "file_extension": ".py",
   "mimetype": "text/x-python",
   "name": "python",
   "nbconvert_exporter": "python",
   "pygments_lexer": "ipython3",
   "version": "3.10.4"
  },
  "orig_nbformat": 4
 },
 "nbformat": 4,
 "nbformat_minor": 2
}
