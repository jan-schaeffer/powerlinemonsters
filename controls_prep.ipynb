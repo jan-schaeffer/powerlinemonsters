{
 "cells": [
  {
   "cell_type": "markdown",
   "metadata": {},
   "source": [
    "First, import needed modules"
   ]
  },
  {
   "cell_type": "code",
   "execution_count": 1,
   "metadata": {},
   "outputs": [],
   "source": [
    "import numpy as np\n",
    "import pandas as pd\n",
    "import os"
   ]
  },
  {
   "cell_type": "markdown",
   "metadata": {},
   "source": [
    "Initalize variables"
   ]
  },
  {
   "cell_type": "code",
   "execution_count": 2,
   "metadata": {},
   "outputs": [
    {
     "name": "stdout",
     "output_type": "stream",
     "text": [
      "/Users/jan/Dropbox/UP_EPQM/2222/MA/powerlinemonsters\n"
     ]
    }
   ],
   "source": [
    "path = os.getcwd()\n",
    "print(path)"
   ]
  },
  {
   "cell_type": "markdown",
   "metadata": {},
   "source": [
    "Import datasets"
   ]
  },
  {
   "cell_type": "code",
   "execution_count": 30,
   "metadata": {},
   "outputs": [],
   "source": [
    "controls_raw = pd.read_csv(f'{path}/data/controls/inkar_2021.csv', encoding='UTF-8-SIG')"
   ]
  },
  {
   "cell_type": "markdown",
   "metadata": {},
   "source": [
    "Rename columns"
   ]
  },
  {
   "cell_type": "code",
   "execution_count": 31,
   "metadata": {},
   "outputs": [
    {
     "data": {
      "text/plain": [
       "Index(['bereich', 'indikator', 'AVS', 'year', 'wert'], dtype='object')"
      ]
     },
     "execution_count": 31,
     "metadata": {},
     "output_type": "execute_result"
    }
   ],
   "source": [
    "col_names = ['bereich', 'indikator', 'AVS', 'year', 'wert']\n",
    "controls_raw.columns = col_names\n",
    "controls_raw.columns"
   ]
  },
  {
   "cell_type": "markdown",
   "metadata": {},
   "source": [
    "Fix the AGS"
   ]
  },
  {
   "cell_type": "code",
   "execution_count": 32,
   "metadata": {},
   "outputs": [],
   "source": [
    "controls_raw['AVS'] = controls_raw['AVS'].astype(str)\n",
    "controls_raw['AVS'] = np.where(controls_raw['AVS'].str.len() < 8, '0' + controls_raw['AVS'], controls_raw['AVS'])"
   ]
  },
  {
   "cell_type": "markdown",
   "metadata": {},
   "source": [
    "Convert Wert to numeric"
   ]
  },
  {
   "cell_type": "code",
   "execution_count": 33,
   "metadata": {},
   "outputs": [
    {
     "data": {
      "text/plain": [
       "bereich       object\n",
       "indikator     object\n",
       "AVS           object\n",
       "year           int64\n",
       "wert          object\n",
       "value        float64\n",
       "dtype: object"
      ]
     },
     "execution_count": 33,
     "metadata": {},
     "output_type": "execute_result"
    }
   ],
   "source": [
    "controls_raw['value'] = controls_raw['wert'].str.replace(',','.').astype(float)\n",
    "controls_raw.dtypes"
   ]
  },
  {
   "cell_type": "code",
   "execution_count": 7,
   "metadata": {},
   "outputs": [
    {
     "data": {
      "text/plain": [
       "['Langzeitarbeitslose',\n",
       " 'Beschäftigtenquote',\n",
       " 'Erholungsfläche je Einwohner',\n",
       " 'Siedlungs- und Verkehrsfläche',\n",
       " 'Bevölkerung (mit Korrektur VZ 1987/Zensus 2011)',\n",
       " 'Bevölkerung gesamt',\n",
       " 'Bevölkerung männlich',\n",
       " 'Bevölkerung weiblich',\n",
       " 'Einkommensteuer',\n",
       " 'Frauenanteil',\n",
       " 'Geborene',\n",
       " 'Gesamtwanderungssaldo',\n",
       " 'Gestorbene',\n",
       " 'Gewerbesteuer',\n",
       " 'Natürlicher Saldo',\n",
       " 'Steuereinnahmen',\n",
       " 'Steuerkraft',\n",
       " 'Umsatzsteuer',\n",
       " 'Bodenfläche gesamt',\n",
       " 'Einwohnerdichte',\n",
       " 'Neubauwohnungen in Ein- und Zweifamilienhäusern je Einwohner',\n",
       " 'Neubauwohnungen in Mehrfamilienhäusern',\n",
       " 'Auspendler',\n",
       " 'Einpendler',\n",
       " 'Pendlersaldo',\n",
       " 'sozialversicherungspflichtig Beschäftigte am Arbeitsort',\n",
       " 'sozialversicherungspflichtig Beschäftigte am Wohnort',\n",
       " 'Anteil jüngere Arbeitslose',\n",
       " 'Anteil männliche jüngere Arbeitslose',\n",
       " 'Anteil männliche ältere Arbeitslose',\n",
       " 'Anteil weibliche jüngere Arbeitslose',\n",
       " 'Anteil weibliche ältere Arbeitslose',\n",
       " 'Anteil ältere Arbeitslose',\n",
       " 'Arbeitslose',\n",
       " 'Arbeitslose Frauen',\n",
       " 'Arbeitslose Männer',\n",
       " 'Männliche Langzeitarbeitslose',\n",
       " 'Weibliche Langzeitarbeitslose',\n",
       " 'ausländische Arbeitslose',\n",
       " 'ausländische männliche Arbeitslose',\n",
       " 'ausländische weibliche Arbeitslose',\n",
       " 'Einwohner-Arbeitsplatz-Dichte',\n",
       " 'Abhängigenquote Alte',\n",
       " 'Abhängigenquote Junge',\n",
       " 'Beschäftigtenquote Frauen',\n",
       " 'Beschäftigtenquote Männer',\n",
       " 'Durchschnittsalter der Bevölkerung',\n",
       " 'Einwohner 65 Jahre und älter',\n",
       " 'Einwohner 75 Jahre und älter',\n",
       " 'Einwohner unter 3 Jahren',\n",
       " 'Einwohner unter 6 Jahre',\n",
       " 'Einwohner von 18 bis unter 25 Jahren',\n",
       " 'Einwohner von 25 bis unter 30 Jahren',\n",
       " 'Einwohner von 3 bis unter 6 Jahren',\n",
       " 'Einwohner von 30 bis unter 50 Jahren',\n",
       " 'Einwohner von 50 bis unter 65 Jahren',\n",
       " 'Einwohner von 6 bis unter 18 Jahren',\n",
       " 'Einwohner von 65 bis unter 75 Jahren',\n",
       " 'Erwerbsfähige Bevölkerung (15 bis unter 65 Jahre)',\n",
       " 'Frauenanteil 20 bis unter 40 Jahre',\n",
       " 'Jüngere Arbeitslose',\n",
       " 'Männliche jüngere Arbeitslose',\n",
       " 'Männliche ältere Arbeitslose',\n",
       " 'Verhältnis der Beschäftigungsquote von Frauen zu Männern',\n",
       " 'Verhältnis junge zu alte Erwerbsfähige',\n",
       " 'Weibliche Einwohner 65 Jahre und älter',\n",
       " 'Weibliche Einwohner 75 Jahre und älter',\n",
       " 'Weibliche Einwohner von 18 bis unter 25 Jahren',\n",
       " 'Weibliche Einwohner von 25 bis unter 30 Jahren',\n",
       " 'Weibliche Einwohner von 65 bis unter 75 Jahren',\n",
       " 'Weibliche jüngere Arbeitslose',\n",
       " 'Weibliche ältere Arbeitslose',\n",
       " 'Ältere Arbeitslose',\n",
       " 'Baugenehmigungen für Wohnungen',\n",
       " 'Baugenehmigungen für Wohnungen in Ein- und Zweifamilienhäusern',\n",
       " 'Baugenehmigungen für Wohnungen in Mehrfamilienhäusern',\n",
       " 'Neubauwohnungen je Einwohner',\n",
       " 'Neue Ein- und Zweifamilienhäuser',\n",
       " 'Verunglückte im Straßenverkehr',\n",
       " '5- und mehr Raum-Wohnungen',\n",
       " 'Ein- und Zweifamilienhäuser',\n",
       " 'Ein- und Zweiraumwohnungen',\n",
       " 'Fertiggestellte Wohnungen im Bestand',\n",
       " 'Mehrfamilienhäuser',\n",
       " 'Pendler mit Arbeitsweg 150 km und mehr',\n",
       " 'Pendler mit Arbeitsweg 300 km und mehr',\n",
       " 'Pendler mit Arbeitsweg 50 km und mehr',\n",
       " 'Neubauwohnungen in Ein- und Zweifamilienhäusern',\n",
       " 'Wohnungsnahe Grundversorgung Hausarzt',\n",
       " 'Erholungsfläche',\n",
       " 'Freifläche',\n",
       " 'Freifläche je Einwohner',\n",
       " 'Landwirtschaftsfläche',\n",
       " 'Naturnähere Fläche je Einwohner',\n",
       " 'Regionales Bevölkerungspotenzial',\n",
       " 'Siedlungs- und Verkehrsfläche je Einwohner',\n",
       " 'Siedlungsdichte in km²',\n",
       " 'Waldfläche',\n",
       " 'Wasserfläche',\n",
       " 'Wohnungen in Ein- und Zweifamilienhäusern',\n",
       " 'Wohnungen in Mehrfamilienhäusern',\n",
       " 'naturnähere Fläche',\n",
       " 'Flächenneuinanspruchnahme',\n",
       " 'Nahversorgung Apotheken Anteil der Bev. 1km Radius',\n",
       " 'Nahversorgung Apotheken Durchschnittsdistanz',\n",
       " 'Nahversorgung Supermärkte Anteil der Bev. 1km Radius',\n",
       " 'Nahversorgung Supermärkte Durchschnittsdistanz',\n",
       " 'Wohnungsnahe Grundversorgung Apotheke',\n",
       " 'Wohnungsnahe Grundversorgung Supermarkt']"
      ]
     },
     "execution_count": 7,
     "metadata": {},
     "output_type": "execute_result"
    }
   ],
   "source": [
    "list(controls_raw['indikator'].unique())"
   ]
  },
  {
   "cell_type": "code",
   "execution_count": 34,
   "metadata": {},
   "outputs": [],
   "source": [
    "vars_to_keep = ['Bevölkerung gesamt', 'Frauenanteil', 'Einwohnerdichte',  'Arbeitslose', 'Durchschnittsalter der Bevölkerung']\n",
    "controls_selected = controls_raw[controls_raw['indikator'].isin(vars_to_keep)]"
   ]
  },
  {
   "cell_type": "markdown",
   "metadata": {},
   "source": [
    "Pivot df"
   ]
  },
  {
   "cell_type": "code",
   "execution_count": 35,
   "metadata": {},
   "outputs": [
    {
     "data": {
      "text/plain": [
       "(106214, 7)"
      ]
     },
     "execution_count": 35,
     "metadata": {},
     "output_type": "execute_result"
    }
   ],
   "source": [
    "controls_pivot = pd.pivot(controls_selected, index=['AVS', 'year'], columns='indikator', values='value')\n",
    "controls_pivot = controls_pivot.reset_index()\n",
    "controls_pivot.shape"
   ]
  },
  {
   "cell_type": "code",
   "execution_count": 36,
   "metadata": {},
   "outputs": [
    {
     "data": {
      "text/plain": [
       "Index(['AVS', 'year', 'Arbeitslose', 'Bevölkerung gesamt',\n",
       "       'Durchschnittsalter der Bevölkerung', 'Einwohnerdichte',\n",
       "       'Frauenanteil'],\n",
       "      dtype='object', name='indikator')"
      ]
     },
     "execution_count": 36,
     "metadata": {},
     "output_type": "execute_result"
    }
   ],
   "source": [
    "controls_pivot.columns"
   ]
  },
  {
   "cell_type": "markdown",
   "metadata": {},
   "source": [
    "Rename columns and compute statistics"
   ]
  },
  {
   "cell_type": "code",
   "execution_count": 37,
   "metadata": {},
   "outputs": [],
   "source": [
    "col_names = ['AVS', 'year', 'unemployed', 'pop', 'avg_age', 'pop_density', 'female']\n",
    "controls_pivot.columns = col_names"
   ]
  },
  {
   "cell_type": "code",
   "execution_count": 41,
   "metadata": {},
   "outputs": [],
   "source": [
    "controls = controls_pivot.copy()\n",
    "controls['unemployed'] = controls['unemployed'] / controls['pop'] * 100\n",
    "del controls['pop']"
   ]
  },
  {
   "cell_type": "markdown",
   "metadata": {},
   "source": [
    "Change Verbandsschlüssel to AGS"
   ]
  },
  {
   "cell_type": "code",
   "execution_count": 42,
   "metadata": {},
   "outputs": [],
   "source": [
    "avs_trans = pd.read_csv(f'{path}/data/avs_transition.csv', converters={'AGS': str, 'AVS': str})"
   ]
  },
  {
   "cell_type": "code",
   "execution_count": 43,
   "metadata": {},
   "outputs": [],
   "source": [
    "controls = controls.merge(avs_trans, on='AVS')\n",
    "del controls['AVS']"
   ]
  },
  {
   "cell_type": "markdown",
   "metadata": {},
   "source": [
    "Export dataset"
   ]
  },
  {
   "cell_type": "code",
   "execution_count": 44,
   "metadata": {},
   "outputs": [
    {
     "data": {
      "text/html": [
       "<div>\n",
       "<style scoped>\n",
       "    .dataframe tbody tr th:only-of-type {\n",
       "        vertical-align: middle;\n",
       "    }\n",
       "\n",
       "    .dataframe tbody tr th {\n",
       "        vertical-align: top;\n",
       "    }\n",
       "\n",
       "    .dataframe thead th {\n",
       "        text-align: right;\n",
       "    }\n",
       "</style>\n",
       "<table border=\"1\" class=\"dataframe\">\n",
       "  <thead>\n",
       "    <tr style=\"text-align: right;\">\n",
       "      <th></th>\n",
       "      <th></th>\n",
       "      <th>unemployed</th>\n",
       "      <th>avg_age</th>\n",
       "      <th>pop_density</th>\n",
       "      <th>female</th>\n",
       "    </tr>\n",
       "    <tr>\n",
       "      <th>AGS</th>\n",
       "      <th>year</th>\n",
       "      <th></th>\n",
       "      <th></th>\n",
       "      <th></th>\n",
       "      <th></th>\n",
       "    </tr>\n",
       "  </thead>\n",
       "  <tbody>\n",
       "    <tr>\n",
       "      <th rowspan=\"5\" valign=\"top\">01001000</th>\n",
       "      <th>1995</th>\n",
       "      <td>NaN</td>\n",
       "      <td>NaN</td>\n",
       "      <td>NaN</td>\n",
       "      <td>51.88</td>\n",
       "    </tr>\n",
       "    <tr>\n",
       "      <th>1996</th>\n",
       "      <td>NaN</td>\n",
       "      <td>NaN</td>\n",
       "      <td>1534.9</td>\n",
       "      <td>51.86</td>\n",
       "    </tr>\n",
       "    <tr>\n",
       "      <th>1997</th>\n",
       "      <td>NaN</td>\n",
       "      <td>NaN</td>\n",
       "      <td>NaN</td>\n",
       "      <td>51.69</td>\n",
       "    </tr>\n",
       "    <tr>\n",
       "      <th>1998</th>\n",
       "      <td>6.825423</td>\n",
       "      <td>NaN</td>\n",
       "      <td>NaN</td>\n",
       "      <td>51.73</td>\n",
       "    </tr>\n",
       "    <tr>\n",
       "      <th>1999</th>\n",
       "      <td>6.104276</td>\n",
       "      <td>NaN</td>\n",
       "      <td>NaN</td>\n",
       "      <td>51.72</td>\n",
       "    </tr>\n",
       "  </tbody>\n",
       "</table>\n",
       "</div>"
      ],
      "text/plain": [
       "               unemployed  avg_age  pop_density  female\n",
       "AGS      year                                          \n",
       "01001000 1995         NaN      NaN          NaN   51.88\n",
       "         1996         NaN      NaN       1534.9   51.86\n",
       "         1997         NaN      NaN          NaN   51.69\n",
       "         1998    6.825423      NaN          NaN   51.73\n",
       "         1999    6.104276      NaN          NaN   51.72"
      ]
     },
     "execution_count": 44,
     "metadata": {},
     "output_type": "execute_result"
    }
   ],
   "source": [
    "controls = controls.set_index(['AGS', 'year'])\n",
    "controls.to_csv(f'{path}/data/controls.csv', encoding = 'utf-8-sig')\n",
    "controls.head()"
   ]
  },
  {
   "cell_type": "code",
   "execution_count": null,
   "metadata": {},
   "outputs": [
    {
     "data": {
      "text/html": [
       "<div>\n",
       "<style scoped>\n",
       "    .dataframe tbody tr th:only-of-type {\n",
       "        vertical-align: middle;\n",
       "    }\n",
       "\n",
       "    .dataframe tbody tr th {\n",
       "        vertical-align: top;\n",
       "    }\n",
       "\n",
       "    .dataframe thead th {\n",
       "        text-align: right;\n",
       "    }\n",
       "</style>\n",
       "<table border=\"1\" class=\"dataframe\">\n",
       "  <thead>\n",
       "    <tr style=\"text-align: right;\">\n",
       "      <th></th>\n",
       "      <th>AGS</th>\n",
       "      <th>pop_density</th>\n",
       "      <th>female</th>\n",
       "      <th>foreign</th>\n",
       "      <th>unemployed</th>\n",
       "      <th>avg_income</th>\n",
       "      <th>avg_age</th>\n",
       "      <th>catholic</th>\n",
       "    </tr>\n",
       "  </thead>\n",
       "  <tbody>\n",
       "    <tr>\n",
       "      <th>0</th>\n",
       "      <td>01000000</td>\n",
       "      <td>177.227657</td>\n",
       "      <td>0.514134</td>\n",
       "      <td>0.041805</td>\n",
       "      <td>0.035730</td>\n",
       "      <td>32200.0</td>\n",
       "      <td>44.5</td>\n",
       "      <td>0.059842</td>\n",
       "    </tr>\n",
       "    <tr>\n",
       "      <th>1</th>\n",
       "      <td>01001000</td>\n",
       "      <td>1449.735636</td>\n",
       "      <td>0.507233</td>\n",
       "      <td>0.062353</td>\n",
       "      <td>0.062328</td>\n",
       "      <td>27000.0</td>\n",
       "      <td>43.0</td>\n",
       "      <td>0.063459</td>\n",
       "    </tr>\n",
       "    <tr>\n",
       "      <th>2</th>\n",
       "      <td>01002000</td>\n",
       "      <td>1987.206068</td>\n",
       "      <td>0.518602</td>\n",
       "      <td>0.070281</td>\n",
       "      <td>0.053999</td>\n",
       "      <td>27500.0</td>\n",
       "      <td>41.8</td>\n",
       "      <td>0.073661</td>\n",
       "    </tr>\n",
       "    <tr>\n",
       "      <th>3</th>\n",
       "      <td>01003000</td>\n",
       "      <td>981.770225</td>\n",
       "      <td>0.525299</td>\n",
       "      <td>0.062562</td>\n",
       "      <td>0.052348</td>\n",
       "      <td>27600.0</td>\n",
       "      <td>44.9</td>\n",
       "      <td>0.084606</td>\n",
       "    </tr>\n",
       "    <tr>\n",
       "      <th>4</th>\n",
       "      <td>01004000</td>\n",
       "      <td>1078.444786</td>\n",
       "      <td>0.511838</td>\n",
       "      <td>0.060337</td>\n",
       "      <td>0.056648</td>\n",
       "      <td>26200.0</td>\n",
       "      <td>44.4</td>\n",
       "      <td>0.064972</td>\n",
       "    </tr>\n",
       "  </tbody>\n",
       "</table>\n",
       "</div>"
      ],
      "text/plain": [
       "        AGS  pop_density    female   foreign  unemployed  avg_income  avg_age  \\\n",
       "0  01000000   177.227657  0.514134  0.041805    0.035730     32200.0     44.5   \n",
       "1  01001000  1449.735636  0.507233  0.062353    0.062328     27000.0     43.0   \n",
       "2  01002000  1987.206068  0.518602  0.070281    0.053999     27500.0     41.8   \n",
       "3  01003000   981.770225  0.525299  0.062562    0.052348     27600.0     44.9   \n",
       "4  01004000  1078.444786  0.511838  0.060337    0.056648     26200.0     44.4   \n",
       "\n",
       "   catholic  \n",
       "0  0.059842  \n",
       "1  0.063459  \n",
       "2  0.073661  \n",
       "3  0.084606  \n",
       "4  0.064972  "
      ]
     },
     "execution_count": 48,
     "metadata": {},
     "output_type": "execute_result"
    }
   ],
   "source": [
    "controls['pop_density'] = controls['Bevölkerung'] / controls['Area']\n",
    "controls['male'] = controls['männlich'] / controls['Bevölkerung']\n",
    "controls['female'] = controls['weiblich'] / controls['Bevölkerung']\n",
    "controls['foreign'] = controls['Ausländer/-innen'] / controls['Bevölkerung']\n",
    "controls['employed'] = controls['Beschäftigte'] / controls['Bevölkerung']\n",
    "controls['unemployed'] = controls['Arbeitslose'] / controls['Bevölkerung']\n",
    "controls['protestant'] = controls['Evangelisch'] / controls['Bevölkerung']\n",
    "controls['catholic'] = controls['Katholisch'] / controls['Bevölkerung']\n",
    "controls['religion_other'] = controls['Religion Sonstige/Keine'] / controls['Bevölkerung']\n",
    "controls = controls[['AGS', 'pop_density', 'female', 'foreign', 'unemployed', 'avg_income', 'avg_age', 'catholic']]\n",
    "controls.head()"
   ]
  }
 ],
 "metadata": {
  "kernelspec": {
   "display_name": "Python 3.10.4 ('vscode')",
   "language": "python",
   "name": "python3"
  },
  "language_info": {
   "codemirror_mode": {
    "name": "ipython",
    "version": 3
   },
   "file_extension": ".py",
   "mimetype": "text/x-python",
   "name": "python",
   "nbconvert_exporter": "python",
   "pygments_lexer": "ipython3",
   "version": "3.10.4"
  },
  "orig_nbformat": 4,
  "vscode": {
   "interpreter": {
    "hash": "656f4cd1472b14b513faaa63bd5e4a7577d125de6a277113d4e82c4085557d3e"
   }
  }
 },
 "nbformat": 4,
 "nbformat_minor": 2
}
