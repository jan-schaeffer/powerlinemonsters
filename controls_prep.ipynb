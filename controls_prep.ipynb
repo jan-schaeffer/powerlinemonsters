{
 "cells": [
  {
   "cell_type": "markdown",
   "metadata": {},
   "source": [
    "First, import needed modules"
   ]
  },
  {
   "cell_type": "code",
   "execution_count": 50,
   "metadata": {},
   "outputs": [],
   "source": [
    "import numpy as np\n",
    "import pandas as pd\n",
    "import os\n",
    "from functools import reduce"
   ]
  },
  {
   "cell_type": "markdown",
   "metadata": {},
   "source": [
    "Initalize variables"
   ]
  },
  {
   "cell_type": "code",
   "execution_count": 51,
   "metadata": {},
   "outputs": [
    {
     "name": "stdout",
     "output_type": "stream",
     "text": [
      "/Users/jan/Dropbox/UP_EPQM/2222/MA/powerlinemonsters\n"
     ]
    }
   ],
   "source": [
    "path = os.getcwd()\n",
    "print(path)"
   ]
  },
  {
   "cell_type": "markdown",
   "metadata": {},
   "source": [
    "Import inkar dataset"
   ]
  },
  {
   "cell_type": "code",
   "execution_count": 52,
   "metadata": {},
   "outputs": [],
   "source": [
    "inkar_raw = pd.read_csv(f'{path}/data/controls/inkar_2021.csv', encoding='UTF-8-SIG')"
   ]
  },
  {
   "cell_type": "markdown",
   "metadata": {},
   "source": [
    "Rename columns"
   ]
  },
  {
   "cell_type": "code",
   "execution_count": 53,
   "metadata": {},
   "outputs": [
    {
     "data": {
      "text/plain": [
       "Index(['bereich', 'indikator', 'AVS', 'year', 'wert'], dtype='object')"
      ]
     },
     "execution_count": 53,
     "metadata": {},
     "output_type": "execute_result"
    }
   ],
   "source": [
    "col_names = ['bereich', 'indikator', 'AVS', 'year', 'wert']\n",
    "inkar_raw.columns = col_names\n",
    "inkar_raw.columns"
   ]
  },
  {
   "cell_type": "markdown",
   "metadata": {},
   "source": [
    "Fix the AGS"
   ]
  },
  {
   "cell_type": "code",
   "execution_count": 54,
   "metadata": {},
   "outputs": [],
   "source": [
    "inkar_raw['AVS'] = inkar_raw['AVS'].astype(str)\n",
    "inkar_raw['AVS'] = np.where(inkar_raw['AVS'].str.len() < 8, '0' + inkar_raw['AVS'], inkar_raw['AVS'])"
   ]
  },
  {
   "cell_type": "markdown",
   "metadata": {},
   "source": [
    "Convert Wert to numeric"
   ]
  },
  {
   "cell_type": "code",
   "execution_count": 55,
   "metadata": {},
   "outputs": [],
   "source": [
    "inkar_raw['value'] = inkar_raw['wert'].str.replace(',','.').astype(float)"
   ]
  },
  {
   "cell_type": "markdown",
   "metadata": {},
   "source": [
    "Filter df"
   ]
  },
  {
   "cell_type": "code",
   "execution_count": 56,
   "metadata": {},
   "outputs": [],
   "source": [
    "vars_to_keep = ['Bevölkerung gesamt', 'Frauenanteil', 'Einwohnerdichte',  'Arbeitslose', 'Durchschnittsalter der Bevölkerung']\n",
    "inkar_selected = inkar_raw[inkar_raw['indikator'].isin(vars_to_keep)]"
   ]
  },
  {
   "cell_type": "markdown",
   "metadata": {},
   "source": [
    "Pivot df"
   ]
  },
  {
   "cell_type": "code",
   "execution_count": 57,
   "metadata": {},
   "outputs": [
    {
     "data": {
      "text/plain": [
       "(106214, 7)"
      ]
     },
     "execution_count": 57,
     "metadata": {},
     "output_type": "execute_result"
    }
   ],
   "source": [
    "inkar_pivot = pd.pivot(inkar_selected, index=['AVS', 'year'], columns='indikator', values='value')\n",
    "inkar_pivot = inkar_pivot.reset_index()\n",
    "inkar_pivot.shape"
   ]
  },
  {
   "cell_type": "markdown",
   "metadata": {},
   "source": [
    "Rename columns"
   ]
  },
  {
   "cell_type": "code",
   "execution_count": 58,
   "metadata": {},
   "outputs": [],
   "source": [
    "col_names = ['AVS', 'year', 'unemployed_inkar', 'pop_inkar', 'avg_age_inkar', 'pop_density_inkar', 'female_inkar']\n",
    "inkar_pivot.columns = col_names"
   ]
  },
  {
   "cell_type": "markdown",
   "metadata": {},
   "source": [
    "Change Verbandsschlüssel to AGS (2013)"
   ]
  },
  {
   "cell_type": "code",
   "execution_count": 59,
   "metadata": {},
   "outputs": [
    {
     "data": {
      "text/plain": [
       "1    210910\n",
       "0    151892\n",
       "Name: GV, dtype: int64"
      ]
     },
     "execution_count": 59,
     "metadata": {},
     "output_type": "execute_result"
    }
   ],
   "source": [
    "avs_trans = pd.read_csv(f'{path}/data/avs_transition.csv', converters={'AGS': str, 'AVS': str})\n",
    "inkar_controls = inkar_pivot.merge(avs_trans, on='AVS')\n",
    "inkar_controls['GV'] = np.where(inkar_controls['AGS'] == inkar_controls['AVS'], 0, 1)\n",
    "del inkar_controls['AVS']\n",
    "inkar_controls['GV'].value_counts()"
   ]
  },
  {
   "cell_type": "markdown",
   "metadata": {},
   "source": [
    "Inspect which obs are on Gemeindelevel"
   ]
  },
  {
   "cell_type": "code",
   "execution_count": 60,
   "metadata": {},
   "outputs": [
    {
     "data": {
      "text/plain": [
       "1    7651\n",
       "0    3177\n",
       "Name: GV, dtype: int64"
      ]
     },
     "execution_count": 60,
     "metadata": {},
     "output_type": "execute_result"
    }
   ],
   "source": [
    "inkar_gv = inkar_controls[['AGS', 'GV']].groupby('AGS').first()\n",
    "inkar_gv['GV'].value_counts()\n",
    "#inkar_controls = inkar_controls[inkar_controls['GV'] == 0] # uncomment to keep only obs on Gemeindelevel\n",
    "#inkar_controls.shape"
   ]
  },
  {
   "cell_type": "markdown",
   "metadata": {},
   "source": [
    "Import Regionalstatistik income datasets"
   ]
  },
  {
   "cell_type": "code",
   "execution_count": 61,
   "metadata": {},
   "outputs": [],
   "source": [
    "# initialize income dictionary\n",
    "income = {2007: 'Einkommen_2007.csv', 2010: 'Einkommen_2010.csv', 2013: 'Einkommen_2013.csv'}\n",
    "# read in dfs\n",
    "for year, file in income.items():\n",
    "    income[year] = pd.read_csv(f'{path}/data/controls/{file}', encoding = 'ISO-8859-1', sep=';', converters={'AGS': str}, na_values=['-', 'x', '.'])"
   ]
  },
  {
   "cell_type": "markdown",
   "metadata": {},
   "source": [
    "Income: Fix and change AGS to 2013, rename columns and compute income per capita"
   ]
  },
  {
   "cell_type": "code",
   "execution_count": 62,
   "metadata": {},
   "outputs": [
    {
     "name": "stderr",
     "output_type": "stream",
     "text": [
      "/var/folders/wm/mtrphj0s0msgrmyshf3hgk740000gn/T/ipykernel_70167/2750753790.py:5: SettingWithCopyWarning: \n",
      "A value is trying to be set on a copy of a slice from a DataFrame.\n",
      "Try using .loc[row_indexer,col_indexer] = value instead\n",
      "\n",
      "See the caveats in the documentation: https://pandas.pydata.org/pandas-docs/stable/user_guide/indexing.html#returning-a-view-versus-a-copy\n",
      "  income[year]['AGS'] = income[year]['AGS'].astype(str)\n",
      "/var/folders/wm/mtrphj0s0msgrmyshf3hgk740000gn/T/ipykernel_70167/2750753790.py:6: SettingWithCopyWarning: \n",
      "A value is trying to be set on a copy of a slice from a DataFrame.\n",
      "Try using .loc[row_indexer,col_indexer] = value instead\n",
      "\n",
      "See the caveats in the documentation: https://pandas.pydata.org/pandas-docs/stable/user_guide/indexing.html#returning-a-view-versus-a-copy\n",
      "  income[year]['AGS'] = np.where(income[year]['AGS'].str.len() < 6, income[year]['AGS'] + '0'*3, income[year]['AGS']) # add trailing 000 for kreisfreie Städte (AGS has 4-5 digits before, 7-8 after)\n",
      "/var/folders/wm/mtrphj0s0msgrmyshf3hgk740000gn/T/ipykernel_70167/2750753790.py:7: SettingWithCopyWarning: \n",
      "A value is trying to be set on a copy of a slice from a DataFrame.\n",
      "Try using .loc[row_indexer,col_indexer] = value instead\n",
      "\n",
      "See the caveats in the documentation: https://pandas.pydata.org/pandas-docs/stable/user_guide/indexing.html#returning-a-view-versus-a-copy\n",
      "  income[year]['AGS'] = np.where(income[year]['AGS'].str.len() < 8, '0' + income[year]['AGS'], income[year]['AGS']) # add leading 0 for state ids < 10 (AGS has 7 digits)\n",
      "/var/folders/wm/mtrphj0s0msgrmyshf3hgk740000gn/T/ipykernel_70167/2750753790.py:5: SettingWithCopyWarning: \n",
      "A value is trying to be set on a copy of a slice from a DataFrame.\n",
      "Try using .loc[row_indexer,col_indexer] = value instead\n",
      "\n",
      "See the caveats in the documentation: https://pandas.pydata.org/pandas-docs/stable/user_guide/indexing.html#returning-a-view-versus-a-copy\n",
      "  income[year]['AGS'] = income[year]['AGS'].astype(str)\n",
      "/var/folders/wm/mtrphj0s0msgrmyshf3hgk740000gn/T/ipykernel_70167/2750753790.py:6: SettingWithCopyWarning: \n",
      "A value is trying to be set on a copy of a slice from a DataFrame.\n",
      "Try using .loc[row_indexer,col_indexer] = value instead\n",
      "\n",
      "See the caveats in the documentation: https://pandas.pydata.org/pandas-docs/stable/user_guide/indexing.html#returning-a-view-versus-a-copy\n",
      "  income[year]['AGS'] = np.where(income[year]['AGS'].str.len() < 6, income[year]['AGS'] + '0'*3, income[year]['AGS']) # add trailing 000 for kreisfreie Städte (AGS has 4-5 digits before, 7-8 after)\n",
      "/var/folders/wm/mtrphj0s0msgrmyshf3hgk740000gn/T/ipykernel_70167/2750753790.py:7: SettingWithCopyWarning: \n",
      "A value is trying to be set on a copy of a slice from a DataFrame.\n",
      "Try using .loc[row_indexer,col_indexer] = value instead\n",
      "\n",
      "See the caveats in the documentation: https://pandas.pydata.org/pandas-docs/stable/user_guide/indexing.html#returning-a-view-versus-a-copy\n",
      "  income[year]['AGS'] = np.where(income[year]['AGS'].str.len() < 8, '0' + income[year]['AGS'], income[year]['AGS']) # add leading 0 for state ids < 10 (AGS has 7 digits)\n",
      "/var/folders/wm/mtrphj0s0msgrmyshf3hgk740000gn/T/ipykernel_70167/2750753790.py:5: SettingWithCopyWarning: \n",
      "A value is trying to be set on a copy of a slice from a DataFrame.\n",
      "Try using .loc[row_indexer,col_indexer] = value instead\n",
      "\n",
      "See the caveats in the documentation: https://pandas.pydata.org/pandas-docs/stable/user_guide/indexing.html#returning-a-view-versus-a-copy\n",
      "  income[year]['AGS'] = income[year]['AGS'].astype(str)\n",
      "/var/folders/wm/mtrphj0s0msgrmyshf3hgk740000gn/T/ipykernel_70167/2750753790.py:6: SettingWithCopyWarning: \n",
      "A value is trying to be set on a copy of a slice from a DataFrame.\n",
      "Try using .loc[row_indexer,col_indexer] = value instead\n",
      "\n",
      "See the caveats in the documentation: https://pandas.pydata.org/pandas-docs/stable/user_guide/indexing.html#returning-a-view-versus-a-copy\n",
      "  income[year]['AGS'] = np.where(income[year]['AGS'].str.len() < 6, income[year]['AGS'] + '0'*3, income[year]['AGS']) # add trailing 000 for kreisfreie Städte (AGS has 4-5 digits before, 7-8 after)\n",
      "/var/folders/wm/mtrphj0s0msgrmyshf3hgk740000gn/T/ipykernel_70167/2750753790.py:7: SettingWithCopyWarning: \n",
      "A value is trying to be set on a copy of a slice from a DataFrame.\n",
      "Try using .loc[row_indexer,col_indexer] = value instead\n",
      "\n",
      "See the caveats in the documentation: https://pandas.pydata.org/pandas-docs/stable/user_guide/indexing.html#returning-a-view-versus-a-copy\n",
      "  income[year]['AGS'] = np.where(income[year]['AGS'].str.len() < 8, '0' + income[year]['AGS'], income[year]['AGS']) # add leading 0 for state ids < 10 (AGS has 7 digits)\n"
     ]
    },
    {
     "name": "stdout",
     "output_type": "stream",
     "text": [
      "both          28249\n",
      "left_only      2065\n",
      "right_only        0\n",
      "Name: _merge, dtype: int64\n",
      "both          32928\n",
      "left_only      1777\n",
      "right_only        0\n",
      "Name: _merge, dtype: int64\n",
      "both          32930\n",
      "left_only      2565\n",
      "right_only        0\n",
      "Name: _merge, dtype: int64\n"
     ]
    }
   ],
   "source": [
    "for year, df in income.items():\n",
    "    # drop states\n",
    "    income[year] = income[year][income[year]['AGS'].str.len() > 3]\n",
    "    # fix AGS\n",
    "    income[year]['AGS'] = income[year]['AGS'].astype(str)\n",
    "    income[year]['AGS'] = np.where(income[year]['AGS'].str.len() < 6, income[year]['AGS'] + '0'*3, income[year]['AGS']) # add trailing 000 for kreisfreie Städte (AGS has 4-5 digits before, 7-8 after)\n",
    "    income[year]['AGS'] = np.where(income[year]['AGS'].str.len() < 8, '0' + income[year]['AGS'], income[year]['AGS']) # add leading 0 for state ids < 10 (AGS has 7 digits)\n",
    "    # read in AGS transition datasets for same year and previous year\n",
    "    ags_trans_same = pd.read_csv(f'{path}/data/ags_transition.csv', usecols=[f'AGS_{year}', 'AGS_2013'], converters={f'AGS_{year}': str, 'AGS_2013': str})\n",
    "    ags_trans_same.rename(columns = {f'AGS_{year}':'AGS_new'}, inplace = True)\n",
    "    ags_trans_prev = pd.read_csv(f'{path}/data/ags_transition.csv', usecols=[f'AGS_{year-1}', 'AGS_2013'], converters={f'AGS_{year-1}': str, 'AGS_2013': str})\n",
    "    ags_trans_prev.rename(columns = {f'AGS_{year-1}':'AGS_new'}, inplace = True)\n",
    "    ags_trans = pd.concat([ags_trans_same, ags_trans_prev])\n",
    "    # merge income[year] with ags trans\n",
    "    income[year] = income[year].merge(ags_trans, left_on='AGS', right_on='AGS_new', how='left', indicator=True)\n",
    "    print(income[year]._merge.value_counts())\n",
    "    # if merged successfully, replace AGS\n",
    "    income[year]['AGS'] = np.where(income[year]['AGS_2013'].notna(), income[year]['AGS_2013'], income[year]['AGS'])\n",
    "    income[year] = income[year].drop(['AGS_2013', 'AGS_new', '_merge'], axis=1)\n",
    "    # move AGS to front\n",
    "    AGS = income[year].pop('AGS')\n",
    "    income[year].insert(0, 'AGS', AGS)\n",
    "    # rename columns\n",
    "    col_names = ['AGS', 'year', 'GEN', 'taxable_persons', 'total_income', 'taxes']\n",
    "    income[year].columns = col_names\n",
    "    # compute income per capita\n",
    "    income[year]['income_pc'] = np.log(income[year]['total_income'] / income[year]['taxable_persons'] * 1000)\n",
    "    # drop duplicates\n",
    "    income[year] = income[year].drop_duplicates(keep='first')\n",
    "    # subset df\n",
    "    income[year] = income[year][['AGS', 'year', 'income_pc']]"
   ]
  },
  {
   "cell_type": "markdown",
   "metadata": {},
   "source": [
    "Since CSDID uses the last (pre-treatment) value of controls, set income values for 2008 and 2009 to the nearest observed value"
   ]
  },
  {
   "cell_type": "code",
   "execution_count": 63,
   "metadata": {},
   "outputs": [],
   "source": [
    "income[2008] = income[2007].copy()\n",
    "income[2008]['year'] = 2008\n",
    "income[2009] = income[2010].copy()\n",
    "income[2009]['year'] = 2009"
   ]
  },
  {
   "cell_type": "markdown",
   "metadata": {},
   "source": [
    "Concatenate income dfs"
   ]
  },
  {
   "cell_type": "code",
   "execution_count": 64,
   "metadata": {},
   "outputs": [
    {
     "data": {
      "text/html": [
       "<div>\n",
       "<style scoped>\n",
       "    .dataframe tbody tr th:only-of-type {\n",
       "        vertical-align: middle;\n",
       "    }\n",
       "\n",
       "    .dataframe tbody tr th {\n",
       "        vertical-align: top;\n",
       "    }\n",
       "\n",
       "    .dataframe thead th {\n",
       "        text-align: right;\n",
       "    }\n",
       "</style>\n",
       "<table border=\"1\" class=\"dataframe\">\n",
       "  <thead>\n",
       "    <tr style=\"text-align: right;\">\n",
       "      <th></th>\n",
       "      <th>AGS</th>\n",
       "      <th>year</th>\n",
       "      <th>income_pc</th>\n",
       "    </tr>\n",
       "  </thead>\n",
       "  <tbody>\n",
       "    <tr>\n",
       "      <th>0</th>\n",
       "      <td>01001000</td>\n",
       "      <td>2007</td>\n",
       "      <td>10.219578</td>\n",
       "    </tr>\n",
       "    <tr>\n",
       "      <th>2</th>\n",
       "      <td>01002000</td>\n",
       "      <td>2007</td>\n",
       "      <td>10.198012</td>\n",
       "    </tr>\n",
       "    <tr>\n",
       "      <th>4</th>\n",
       "      <td>01003000</td>\n",
       "      <td>2007</td>\n",
       "      <td>10.231703</td>\n",
       "    </tr>\n",
       "    <tr>\n",
       "      <th>6</th>\n",
       "      <td>01004000</td>\n",
       "      <td>2007</td>\n",
       "      <td>10.178519</td>\n",
       "    </tr>\n",
       "    <tr>\n",
       "      <th>8</th>\n",
       "      <td>01051000</td>\n",
       "      <td>2007</td>\n",
       "      <td>10.267484</td>\n",
       "    </tr>\n",
       "  </tbody>\n",
       "</table>\n",
       "</div>"
      ],
      "text/plain": [
       "        AGS  year  income_pc\n",
       "0  01001000  2007  10.219578\n",
       "2  01002000  2007  10.198012\n",
       "4  01003000  2007  10.231703\n",
       "6  01004000  2007  10.178519\n",
       "8  01051000  2007  10.267484"
      ]
     },
     "execution_count": 64,
     "metadata": {},
     "output_type": "execute_result"
    }
   ],
   "source": [
    "income = pd.concat(income.values())\n",
    "income.head()"
   ]
  },
  {
   "cell_type": "markdown",
   "metadata": {},
   "source": [
    "Import Religion and Foreign datasets"
   ]
  },
  {
   "cell_type": "code",
   "execution_count": 65,
   "metadata": {},
   "outputs": [],
   "source": [
    "religion = pd.read_csv(f'{path}/data/controls/religion_2011.csv', encoding = 'ISO-8859-1', sep=';', converters={'AGS': str}, na_values=['-', 'x', '.'])\n",
    "foreign = pd.read_csv(f'{path}/data/controls/nationalitaet_2011.csv', encoding = 'ISO-8859-1', sep=';', converters={'AGS': str}, na_values=['-', 'x', '.'])"
   ]
  },
  {
   "cell_type": "markdown",
   "metadata": {},
   "source": [
    "Pivot religion df"
   ]
  },
  {
   "cell_type": "code",
   "execution_count": 66,
   "metadata": {},
   "outputs": [
    {
     "data": {
      "text/html": [
       "<div>\n",
       "<style scoped>\n",
       "    .dataframe tbody tr th:only-of-type {\n",
       "        vertical-align: middle;\n",
       "    }\n",
       "\n",
       "    .dataframe tbody tr th {\n",
       "        vertical-align: top;\n",
       "    }\n",
       "\n",
       "    .dataframe thead th {\n",
       "        text-align: right;\n",
       "    }\n",
       "</style>\n",
       "<table border=\"1\" class=\"dataframe\">\n",
       "  <thead>\n",
       "    <tr style=\"text-align: right;\">\n",
       "      <th>Religion</th>\n",
       "      <th>AGS</th>\n",
       "      <th>catholic</th>\n",
       "    </tr>\n",
       "  </thead>\n",
       "  <tbody>\n",
       "    <tr>\n",
       "      <th>0</th>\n",
       "      <td>1</td>\n",
       "      <td>167565</td>\n",
       "    </tr>\n",
       "    <tr>\n",
       "      <th>1</th>\n",
       "      <td>10</td>\n",
       "      <td>619696</td>\n",
       "    </tr>\n",
       "    <tr>\n",
       "      <th>2</th>\n",
       "      <td>1001</td>\n",
       "      <td>5220</td>\n",
       "    </tr>\n",
       "    <tr>\n",
       "      <th>3</th>\n",
       "      <td>1002</td>\n",
       "      <td>17368</td>\n",
       "    </tr>\n",
       "    <tr>\n",
       "      <th>4</th>\n",
       "      <td>1003</td>\n",
       "      <td>17793</td>\n",
       "    </tr>\n",
       "  </tbody>\n",
       "</table>\n",
       "</div>"
      ],
      "text/plain": [
       "Religion   AGS  catholic\n",
       "0            1    167565\n",
       "1           10    619696\n",
       "2         1001      5220\n",
       "3         1002     17368\n",
       "4         1003     17793"
      ]
     },
     "execution_count": 66,
     "metadata": {},
     "output_type": "execute_result"
    }
   ],
   "source": [
    "religion = pd.pivot_table(religion, index=['AGS'], columns=['Religion'], values='Bevölkerung', aggfunc=np.sum, fill_value=0)\n",
    "religion.rename(columns = {'Römisch-katholische Kirche': 'catholic'}, inplace = True)\n",
    "religion = religion.reset_index()\n",
    "religion = religion[['AGS', 'catholic']]\n",
    "religion.head()"
   ]
  },
  {
   "cell_type": "markdown",
   "metadata": {},
   "source": [
    "Convert AGS for religion and foreign to AGS in 2013"
   ]
  },
  {
   "cell_type": "code",
   "execution_count": 67,
   "metadata": {},
   "outputs": [
    {
     "name": "stdout",
     "output_type": "stream",
     "text": [
      "both          32928\n",
      "left_only      1539\n",
      "right_only        0\n",
      "Name: _merge, dtype: int64\n",
      "both          32928\n",
      "left_only      1539\n",
      "right_only        0\n",
      "Name: _merge, dtype: int64\n"
     ]
    },
    {
     "name": "stderr",
     "output_type": "stream",
     "text": [
      "/var/folders/wm/mtrphj0s0msgrmyshf3hgk740000gn/T/ipykernel_70167/2866598616.py:6: SettingWithCopyWarning: \n",
      "A value is trying to be set on a copy of a slice from a DataFrame.\n",
      "Try using .loc[row_indexer,col_indexer] = value instead\n",
      "\n",
      "See the caveats in the documentation: https://pandas.pydata.org/pandas-docs/stable/user_guide/indexing.html#returning-a-view-versus-a-copy\n",
      "  dfs[i]['AGS'] = dfs[i]['AGS'].astype(str)\n",
      "/var/folders/wm/mtrphj0s0msgrmyshf3hgk740000gn/T/ipykernel_70167/2866598616.py:7: SettingWithCopyWarning: \n",
      "A value is trying to be set on a copy of a slice from a DataFrame.\n",
      "Try using .loc[row_indexer,col_indexer] = value instead\n",
      "\n",
      "See the caveats in the documentation: https://pandas.pydata.org/pandas-docs/stable/user_guide/indexing.html#returning-a-view-versus-a-copy\n",
      "  dfs[i]['AGS'] = np.where(dfs[i]['AGS'].str.len() < 6, dfs[i]['AGS'] + '0'*3, dfs[i]['AGS']) # add trailing 000 for kreisfreie Städte (AGS has 4-5 digits before, 7-8 after)\n",
      "/var/folders/wm/mtrphj0s0msgrmyshf3hgk740000gn/T/ipykernel_70167/2866598616.py:8: SettingWithCopyWarning: \n",
      "A value is trying to be set on a copy of a slice from a DataFrame.\n",
      "Try using .loc[row_indexer,col_indexer] = value instead\n",
      "\n",
      "See the caveats in the documentation: https://pandas.pydata.org/pandas-docs/stable/user_guide/indexing.html#returning-a-view-versus-a-copy\n",
      "  dfs[i]['AGS'] = np.where(dfs[i]['AGS'].str.len() < 8, '0' + dfs[i]['AGS'], dfs[i]['AGS']) # add leading 0 for state ids < 10 (AGS has 7 digits)\n",
      "/var/folders/wm/mtrphj0s0msgrmyshf3hgk740000gn/T/ipykernel_70167/2866598616.py:6: SettingWithCopyWarning: \n",
      "A value is trying to be set on a copy of a slice from a DataFrame.\n",
      "Try using .loc[row_indexer,col_indexer] = value instead\n",
      "\n",
      "See the caveats in the documentation: https://pandas.pydata.org/pandas-docs/stable/user_guide/indexing.html#returning-a-view-versus-a-copy\n",
      "  dfs[i]['AGS'] = dfs[i]['AGS'].astype(str)\n",
      "/var/folders/wm/mtrphj0s0msgrmyshf3hgk740000gn/T/ipykernel_70167/2866598616.py:7: SettingWithCopyWarning: \n",
      "A value is trying to be set on a copy of a slice from a DataFrame.\n",
      "Try using .loc[row_indexer,col_indexer] = value instead\n",
      "\n",
      "See the caveats in the documentation: https://pandas.pydata.org/pandas-docs/stable/user_guide/indexing.html#returning-a-view-versus-a-copy\n",
      "  dfs[i]['AGS'] = np.where(dfs[i]['AGS'].str.len() < 6, dfs[i]['AGS'] + '0'*3, dfs[i]['AGS']) # add trailing 000 for kreisfreie Städte (AGS has 4-5 digits before, 7-8 after)\n",
      "/var/folders/wm/mtrphj0s0msgrmyshf3hgk740000gn/T/ipykernel_70167/2866598616.py:8: SettingWithCopyWarning: \n",
      "A value is trying to be set on a copy of a slice from a DataFrame.\n",
      "Try using .loc[row_indexer,col_indexer] = value instead\n",
      "\n",
      "See the caveats in the documentation: https://pandas.pydata.org/pandas-docs/stable/user_guide/indexing.html#returning-a-view-versus-a-copy\n",
      "  dfs[i]['AGS'] = np.where(dfs[i]['AGS'].str.len() < 8, '0' + dfs[i]['AGS'], dfs[i]['AGS']) # add leading 0 for state ids < 10 (AGS has 7 digits)\n"
     ]
    }
   ],
   "source": [
    "dfs = [foreign, religion]\n",
    "# fix AGS\n",
    "for i, df in enumerate(dfs):\n",
    "    # drop states\n",
    "    dfs[i] = dfs[i][dfs[i]['AGS'].str.len() > 3]\n",
    "    dfs[i]['AGS'] = dfs[i]['AGS'].astype(str)\n",
    "    dfs[i]['AGS'] = np.where(dfs[i]['AGS'].str.len() < 6, dfs[i]['AGS'] + '0'*3, dfs[i]['AGS']) # add trailing 000 for kreisfreie Städte (AGS has 4-5 digits before, 7-8 after)\n",
    "    dfs[i]['AGS'] = np.where(dfs[i]['AGS'].str.len() < 8, '0' + dfs[i]['AGS'], dfs[i]['AGS']) # add leading 0 for state ids < 10 (AGS has 7 digits)\n",
    "    # read in AGS transition datasets for same year and previous year\n",
    "    ags_trans_same = pd.read_csv(f'{path}/data/ags_transition.csv', usecols=['AGS_2011', 'AGS_2013'], converters={'AGS_2011': str, 'AGS_2013': str})\n",
    "    ags_trans_same.rename(columns = {'AGS_2011':'AGS_new'}, inplace = True)\n",
    "    ags_trans_prev = pd.read_csv(f'{path}/data/ags_transition.csv', usecols=['AGS_2010', 'AGS_2013'], converters={'AGS_2010': str, 'AGS_2013': str})\n",
    "    ags_trans_prev.rename(columns = {'AGS_2010':'AGS_new'}, inplace = True)\n",
    "    ags_trans = pd.concat([ags_trans_same, ags_trans_prev])\n",
    "    # merge dfs[i] with ags trans\n",
    "    dfs[i] = dfs[i].merge(ags_trans, left_on='AGS', right_on='AGS_new', how='left', indicator=True)\n",
    "    print(dfs[i]._merge.value_counts())\n",
    "    # drop not merged\n",
    "    dfs[i] = dfs[i][dfs[i]['_merge'] == 'both']\n",
    "    # if merged successfully, replace AGS\n",
    "    dfs[i]['AGS'] = np.where(dfs[i]['AGS_2013'].notna(), dfs[i]['AGS_2013'], dfs[i]['AGS'])\n",
    "    dfs[i] = dfs[i].drop(['AGS_2013', 'AGS_new', '_merge'], axis=1)\n",
    "    # move AGS to front\n",
    "    AGS = dfs[i].pop('AGS')\n",
    "    dfs[i].insert(0, 'AGS', AGS)\n",
    "    # drop duplicates\n",
    "    dfs[i] = dfs[i].drop_duplicates(keep='first')\n",
    "religion, foreign = dfs"
   ]
  },
  {
   "cell_type": "markdown",
   "metadata": {},
   "source": [
    "Since religion and foreign data is only available in 2011 but for CSDiD I need data for 2008, 09, 10, 12, and 13 (which are reasonably close) set year to these values"
   ]
  },
  {
   "cell_type": "code",
   "execution_count": 68,
   "metadata": {},
   "outputs": [],
   "source": [
    "dfs = [religion, foreign]\n",
    "for i, df in enumerate(dfs):\n",
    "    df_year = {2008: '', 2009: '', 2010: '', 2012:'', 2013:'', 2014:''}\n",
    "    for year in df_year.keys(): \n",
    "        df_year[year] = dfs[i].copy()\n",
    "        df_year[year]['year'] = year\n",
    "        #print(df_year[year].columns)\n",
    "    dfs[i] = pd.concat(df_year.values())\n",
    "religion, foreign = dfs"
   ]
  },
  {
   "cell_type": "markdown",
   "metadata": {},
   "source": [
    "Concatenate datasets and group"
   ]
  },
  {
   "cell_type": "code",
   "execution_count": 69,
   "metadata": {},
   "outputs": [
    {
     "data": {
      "text/plain": [
       "(84591, 7)"
      ]
     },
     "execution_count": 69,
     "metadata": {},
     "output_type": "execute_result"
    }
   ],
   "source": [
    "rs_dfs = [income, religion, foreign]\n",
    "rs_controls = pd.concat(rs_dfs)\n",
    "rs_controls = rs_controls.groupby(['AGS', 'year'], as_index=False).first()\n",
    "rs_controls = rs_controls.sort_values(['AGS', 'year'])\n",
    "rs_controls.shape"
   ]
  },
  {
   "cell_type": "markdown",
   "metadata": {},
   "source": [
    "Compute share of foreigners and catholics, subset df"
   ]
  },
  {
   "cell_type": "code",
   "execution_count": 70,
   "metadata": {},
   "outputs": [
    {
     "data": {
      "text/plain": [
       "(84591, 5)"
      ]
     },
     "execution_count": 70,
     "metadata": {},
     "output_type": "execute_result"
    }
   ],
   "source": [
    "rs_controls['foreign'] = rs_controls['Ausländer/-innen'] / rs_controls['Bevölkerung'] * 100\n",
    "rs_controls['catholic'] = rs_controls['catholic'] / rs_controls['Bevölkerung'] * 100\n",
    "rs_controls = rs_controls[['AGS', 'year', 'income_pc', 'catholic', 'foreign']]\n",
    "rs_controls = rs_controls[rs_controls['AGS'].str.len() == 8]\n",
    "rs_controls.shape"
   ]
  },
  {
   "cell_type": "markdown",
   "metadata": {},
   "source": [
    "Load BBSR datasets"
   ]
  },
  {
   "cell_type": "code",
   "execution_count": 71,
   "metadata": {},
   "outputs": [],
   "source": [
    "files = ['ref-gemeinden-1990-2000.xlsx', 'ref-gemeinden-2000-2010.xlsx', 'ref-gemeinden-2010-2020.xlsx']\n",
    "bbsr_dfs = {}\n",
    "for year in range(1990, 2000):\n",
    "   bbsr_dfs[year] = pd.read_excel(f'{path}/data/controls/{files[0]}', sheet_name=f'{year}-{year+1}', header=1, decimal = ',')\n",
    "for year in range(2000, 2010):\n",
    "   bbsr_dfs[year] = pd.read_excel(f'{path}/data/controls/{files[1]}', sheet_name=f'{year}-{year+1}', header=1, decimal = ',')\n",
    "for year in range(2010, 2020):\n",
    "    if year < 2016:\n",
    "       bbsr_dfs[year] = pd.read_excel(f'{path}/data/controls/{files[2]}', sheet_name=f'{year}-{year+1}', header=1, decimal = ',')\n",
    "    else: # header changed\n",
    "       bbsr_dfs[year] = pd.read_excel(f'{path}/data/controls/{files[2]}', sheet_name=f'{year}-{year+1}', header=0, decimal = ',')"
   ]
  },
  {
   "cell_type": "markdown",
   "metadata": {},
   "source": [
    "Rename and filter columns, Fix the AGS, insert year column"
   ]
  },
  {
   "cell_type": "code",
   "execution_count": 72,
   "metadata": {},
   "outputs": [
    {
     "name": "stderr",
     "output_type": "stream",
     "text": [
      "/var/folders/wm/mtrphj0s0msgrmyshf3hgk740000gn/T/ipykernel_70167/3401382168.py:14: SettingWithCopyWarning: \n",
      "A value is trying to be set on a copy of a slice from a DataFrame.\n",
      "Try using .loc[row_indexer,col_indexer] = value instead\n",
      "\n",
      "See the caveats in the documentation: https://pandas.pydata.org/pandas-docs/stable/user_guide/indexing.html#returning-a-view-versus-a-copy\n",
      "  filtered_bbsr[year]['year'] = year\n",
      "/var/folders/wm/mtrphj0s0msgrmyshf3hgk740000gn/T/ipykernel_70167/3401382168.py:16: SettingWithCopyWarning: \n",
      "A value is trying to be set on a copy of a slice from a DataFrame.\n",
      "Try using .loc[row_indexer,col_indexer] = value instead\n",
      "\n",
      "See the caveats in the documentation: https://pandas.pydata.org/pandas-docs/stable/user_guide/indexing.html#returning-a-view-versus-a-copy\n",
      "  filtered_bbsr[year]['AGS'] = filtered_bbsr[year]['AGS'].astype(str)\n",
      "/var/folders/wm/mtrphj0s0msgrmyshf3hgk740000gn/T/ipykernel_70167/3401382168.py:17: SettingWithCopyWarning: \n",
      "A value is trying to be set on a copy of a slice from a DataFrame.\n",
      "Try using .loc[row_indexer,col_indexer] = value instead\n",
      "\n",
      "See the caveats in the documentation: https://pandas.pydata.org/pandas-docs/stable/user_guide/indexing.html#returning-a-view-versus-a-copy\n",
      "  filtered_bbsr[year]['AGS'] = np.where(filtered_bbsr[year]['AGS'].str.len() < 8, '0' + filtered_bbsr[year]['AGS'], filtered_bbsr[year]['AGS'])\n",
      "/var/folders/wm/mtrphj0s0msgrmyshf3hgk740000gn/T/ipykernel_70167/3401382168.py:14: SettingWithCopyWarning: \n",
      "A value is trying to be set on a copy of a slice from a DataFrame.\n",
      "Try using .loc[row_indexer,col_indexer] = value instead\n",
      "\n",
      "See the caveats in the documentation: https://pandas.pydata.org/pandas-docs/stable/user_guide/indexing.html#returning-a-view-versus-a-copy\n",
      "  filtered_bbsr[year]['year'] = year\n",
      "/var/folders/wm/mtrphj0s0msgrmyshf3hgk740000gn/T/ipykernel_70167/3401382168.py:16: SettingWithCopyWarning: \n",
      "A value is trying to be set on a copy of a slice from a DataFrame.\n",
      "Try using .loc[row_indexer,col_indexer] = value instead\n",
      "\n",
      "See the caveats in the documentation: https://pandas.pydata.org/pandas-docs/stable/user_guide/indexing.html#returning-a-view-versus-a-copy\n",
      "  filtered_bbsr[year]['AGS'] = filtered_bbsr[year]['AGS'].astype(str)\n",
      "/var/folders/wm/mtrphj0s0msgrmyshf3hgk740000gn/T/ipykernel_70167/3401382168.py:17: SettingWithCopyWarning: \n",
      "A value is trying to be set on a copy of a slice from a DataFrame.\n",
      "Try using .loc[row_indexer,col_indexer] = value instead\n",
      "\n",
      "See the caveats in the documentation: https://pandas.pydata.org/pandas-docs/stable/user_guide/indexing.html#returning-a-view-versus-a-copy\n",
      "  filtered_bbsr[year]['AGS'] = np.where(filtered_bbsr[year]['AGS'].str.len() < 8, '0' + filtered_bbsr[year]['AGS'], filtered_bbsr[year]['AGS'])\n",
      "/var/folders/wm/mtrphj0s0msgrmyshf3hgk740000gn/T/ipykernel_70167/3401382168.py:14: SettingWithCopyWarning: \n",
      "A value is trying to be set on a copy of a slice from a DataFrame.\n",
      "Try using .loc[row_indexer,col_indexer] = value instead\n",
      "\n",
      "See the caveats in the documentation: https://pandas.pydata.org/pandas-docs/stable/user_guide/indexing.html#returning-a-view-versus-a-copy\n",
      "  filtered_bbsr[year]['year'] = year\n",
      "/var/folders/wm/mtrphj0s0msgrmyshf3hgk740000gn/T/ipykernel_70167/3401382168.py:16: SettingWithCopyWarning: \n",
      "A value is trying to be set on a copy of a slice from a DataFrame.\n",
      "Try using .loc[row_indexer,col_indexer] = value instead\n",
      "\n",
      "See the caveats in the documentation: https://pandas.pydata.org/pandas-docs/stable/user_guide/indexing.html#returning-a-view-versus-a-copy\n",
      "  filtered_bbsr[year]['AGS'] = filtered_bbsr[year]['AGS'].astype(str)\n",
      "/var/folders/wm/mtrphj0s0msgrmyshf3hgk740000gn/T/ipykernel_70167/3401382168.py:17: SettingWithCopyWarning: \n",
      "A value is trying to be set on a copy of a slice from a DataFrame.\n",
      "Try using .loc[row_indexer,col_indexer] = value instead\n",
      "\n",
      "See the caveats in the documentation: https://pandas.pydata.org/pandas-docs/stable/user_guide/indexing.html#returning-a-view-versus-a-copy\n",
      "  filtered_bbsr[year]['AGS'] = np.where(filtered_bbsr[year]['AGS'].str.len() < 8, '0' + filtered_bbsr[year]['AGS'], filtered_bbsr[year]['AGS'])\n",
      "/var/folders/wm/mtrphj0s0msgrmyshf3hgk740000gn/T/ipykernel_70167/3401382168.py:14: SettingWithCopyWarning: \n",
      "A value is trying to be set on a copy of a slice from a DataFrame.\n",
      "Try using .loc[row_indexer,col_indexer] = value instead\n",
      "\n",
      "See the caveats in the documentation: https://pandas.pydata.org/pandas-docs/stable/user_guide/indexing.html#returning-a-view-versus-a-copy\n",
      "  filtered_bbsr[year]['year'] = year\n",
      "/var/folders/wm/mtrphj0s0msgrmyshf3hgk740000gn/T/ipykernel_70167/3401382168.py:16: SettingWithCopyWarning: \n",
      "A value is trying to be set on a copy of a slice from a DataFrame.\n",
      "Try using .loc[row_indexer,col_indexer] = value instead\n",
      "\n",
      "See the caveats in the documentation: https://pandas.pydata.org/pandas-docs/stable/user_guide/indexing.html#returning-a-view-versus-a-copy\n",
      "  filtered_bbsr[year]['AGS'] = filtered_bbsr[year]['AGS'].astype(str)\n",
      "/var/folders/wm/mtrphj0s0msgrmyshf3hgk740000gn/T/ipykernel_70167/3401382168.py:17: SettingWithCopyWarning: \n",
      "A value is trying to be set on a copy of a slice from a DataFrame.\n",
      "Try using .loc[row_indexer,col_indexer] = value instead\n",
      "\n",
      "See the caveats in the documentation: https://pandas.pydata.org/pandas-docs/stable/user_guide/indexing.html#returning-a-view-versus-a-copy\n",
      "  filtered_bbsr[year]['AGS'] = np.where(filtered_bbsr[year]['AGS'].str.len() < 8, '0' + filtered_bbsr[year]['AGS'], filtered_bbsr[year]['AGS'])\n",
      "/var/folders/wm/mtrphj0s0msgrmyshf3hgk740000gn/T/ipykernel_70167/3401382168.py:14: SettingWithCopyWarning: \n",
      "A value is trying to be set on a copy of a slice from a DataFrame.\n",
      "Try using .loc[row_indexer,col_indexer] = value instead\n",
      "\n",
      "See the caveats in the documentation: https://pandas.pydata.org/pandas-docs/stable/user_guide/indexing.html#returning-a-view-versus-a-copy\n",
      "  filtered_bbsr[year]['year'] = year\n",
      "/var/folders/wm/mtrphj0s0msgrmyshf3hgk740000gn/T/ipykernel_70167/3401382168.py:16: SettingWithCopyWarning: \n",
      "A value is trying to be set on a copy of a slice from a DataFrame.\n",
      "Try using .loc[row_indexer,col_indexer] = value instead\n",
      "\n",
      "See the caveats in the documentation: https://pandas.pydata.org/pandas-docs/stable/user_guide/indexing.html#returning-a-view-versus-a-copy\n",
      "  filtered_bbsr[year]['AGS'] = filtered_bbsr[year]['AGS'].astype(str)\n",
      "/var/folders/wm/mtrphj0s0msgrmyshf3hgk740000gn/T/ipykernel_70167/3401382168.py:17: SettingWithCopyWarning: \n",
      "A value is trying to be set on a copy of a slice from a DataFrame.\n",
      "Try using .loc[row_indexer,col_indexer] = value instead\n",
      "\n",
      "See the caveats in the documentation: https://pandas.pydata.org/pandas-docs/stable/user_guide/indexing.html#returning-a-view-versus-a-copy\n",
      "  filtered_bbsr[year]['AGS'] = np.where(filtered_bbsr[year]['AGS'].str.len() < 8, '0' + filtered_bbsr[year]['AGS'], filtered_bbsr[year]['AGS'])\n",
      "/var/folders/wm/mtrphj0s0msgrmyshf3hgk740000gn/T/ipykernel_70167/3401382168.py:14: SettingWithCopyWarning: \n",
      "A value is trying to be set on a copy of a slice from a DataFrame.\n",
      "Try using .loc[row_indexer,col_indexer] = value instead\n",
      "\n",
      "See the caveats in the documentation: https://pandas.pydata.org/pandas-docs/stable/user_guide/indexing.html#returning-a-view-versus-a-copy\n",
      "  filtered_bbsr[year]['year'] = year\n",
      "/var/folders/wm/mtrphj0s0msgrmyshf3hgk740000gn/T/ipykernel_70167/3401382168.py:16: SettingWithCopyWarning: \n",
      "A value is trying to be set on a copy of a slice from a DataFrame.\n",
      "Try using .loc[row_indexer,col_indexer] = value instead\n",
      "\n",
      "See the caveats in the documentation: https://pandas.pydata.org/pandas-docs/stable/user_guide/indexing.html#returning-a-view-versus-a-copy\n",
      "  filtered_bbsr[year]['AGS'] = filtered_bbsr[year]['AGS'].astype(str)\n",
      "/var/folders/wm/mtrphj0s0msgrmyshf3hgk740000gn/T/ipykernel_70167/3401382168.py:17: SettingWithCopyWarning: \n",
      "A value is trying to be set on a copy of a slice from a DataFrame.\n",
      "Try using .loc[row_indexer,col_indexer] = value instead\n",
      "\n",
      "See the caveats in the documentation: https://pandas.pydata.org/pandas-docs/stable/user_guide/indexing.html#returning-a-view-versus-a-copy\n",
      "  filtered_bbsr[year]['AGS'] = np.where(filtered_bbsr[year]['AGS'].str.len() < 8, '0' + filtered_bbsr[year]['AGS'], filtered_bbsr[year]['AGS'])\n",
      "/var/folders/wm/mtrphj0s0msgrmyshf3hgk740000gn/T/ipykernel_70167/3401382168.py:14: SettingWithCopyWarning: \n",
      "A value is trying to be set on a copy of a slice from a DataFrame.\n",
      "Try using .loc[row_indexer,col_indexer] = value instead\n",
      "\n",
      "See the caveats in the documentation: https://pandas.pydata.org/pandas-docs/stable/user_guide/indexing.html#returning-a-view-versus-a-copy\n",
      "  filtered_bbsr[year]['year'] = year\n",
      "/var/folders/wm/mtrphj0s0msgrmyshf3hgk740000gn/T/ipykernel_70167/3401382168.py:16: SettingWithCopyWarning: \n",
      "A value is trying to be set on a copy of a slice from a DataFrame.\n",
      "Try using .loc[row_indexer,col_indexer] = value instead\n",
      "\n",
      "See the caveats in the documentation: https://pandas.pydata.org/pandas-docs/stable/user_guide/indexing.html#returning-a-view-versus-a-copy\n",
      "  filtered_bbsr[year]['AGS'] = filtered_bbsr[year]['AGS'].astype(str)\n",
      "/var/folders/wm/mtrphj0s0msgrmyshf3hgk740000gn/T/ipykernel_70167/3401382168.py:17: SettingWithCopyWarning: \n",
      "A value is trying to be set on a copy of a slice from a DataFrame.\n",
      "Try using .loc[row_indexer,col_indexer] = value instead\n",
      "\n",
      "See the caveats in the documentation: https://pandas.pydata.org/pandas-docs/stable/user_guide/indexing.html#returning-a-view-versus-a-copy\n",
      "  filtered_bbsr[year]['AGS'] = np.where(filtered_bbsr[year]['AGS'].str.len() < 8, '0' + filtered_bbsr[year]['AGS'], filtered_bbsr[year]['AGS'])\n",
      "/var/folders/wm/mtrphj0s0msgrmyshf3hgk740000gn/T/ipykernel_70167/3401382168.py:14: SettingWithCopyWarning: \n",
      "A value is trying to be set on a copy of a slice from a DataFrame.\n",
      "Try using .loc[row_indexer,col_indexer] = value instead\n",
      "\n",
      "See the caveats in the documentation: https://pandas.pydata.org/pandas-docs/stable/user_guide/indexing.html#returning-a-view-versus-a-copy\n",
      "  filtered_bbsr[year]['year'] = year\n",
      "/var/folders/wm/mtrphj0s0msgrmyshf3hgk740000gn/T/ipykernel_70167/3401382168.py:16: SettingWithCopyWarning: \n",
      "A value is trying to be set on a copy of a slice from a DataFrame.\n",
      "Try using .loc[row_indexer,col_indexer] = value instead\n",
      "\n",
      "See the caveats in the documentation: https://pandas.pydata.org/pandas-docs/stable/user_guide/indexing.html#returning-a-view-versus-a-copy\n",
      "  filtered_bbsr[year]['AGS'] = filtered_bbsr[year]['AGS'].astype(str)\n",
      "/var/folders/wm/mtrphj0s0msgrmyshf3hgk740000gn/T/ipykernel_70167/3401382168.py:17: SettingWithCopyWarning: \n",
      "A value is trying to be set on a copy of a slice from a DataFrame.\n",
      "Try using .loc[row_indexer,col_indexer] = value instead\n",
      "\n",
      "See the caveats in the documentation: https://pandas.pydata.org/pandas-docs/stable/user_guide/indexing.html#returning-a-view-versus-a-copy\n",
      "  filtered_bbsr[year]['AGS'] = np.where(filtered_bbsr[year]['AGS'].str.len() < 8, '0' + filtered_bbsr[year]['AGS'], filtered_bbsr[year]['AGS'])\n",
      "/var/folders/wm/mtrphj0s0msgrmyshf3hgk740000gn/T/ipykernel_70167/3401382168.py:14: SettingWithCopyWarning: \n",
      "A value is trying to be set on a copy of a slice from a DataFrame.\n",
      "Try using .loc[row_indexer,col_indexer] = value instead\n",
      "\n",
      "See the caveats in the documentation: https://pandas.pydata.org/pandas-docs/stable/user_guide/indexing.html#returning-a-view-versus-a-copy\n",
      "  filtered_bbsr[year]['year'] = year\n",
      "/var/folders/wm/mtrphj0s0msgrmyshf3hgk740000gn/T/ipykernel_70167/3401382168.py:16: SettingWithCopyWarning: \n",
      "A value is trying to be set on a copy of a slice from a DataFrame.\n",
      "Try using .loc[row_indexer,col_indexer] = value instead\n",
      "\n",
      "See the caveats in the documentation: https://pandas.pydata.org/pandas-docs/stable/user_guide/indexing.html#returning-a-view-versus-a-copy\n",
      "  filtered_bbsr[year]['AGS'] = filtered_bbsr[year]['AGS'].astype(str)\n",
      "/var/folders/wm/mtrphj0s0msgrmyshf3hgk740000gn/T/ipykernel_70167/3401382168.py:17: SettingWithCopyWarning: \n",
      "A value is trying to be set on a copy of a slice from a DataFrame.\n",
      "Try using .loc[row_indexer,col_indexer] = value instead\n",
      "\n",
      "See the caveats in the documentation: https://pandas.pydata.org/pandas-docs/stable/user_guide/indexing.html#returning-a-view-versus-a-copy\n",
      "  filtered_bbsr[year]['AGS'] = np.where(filtered_bbsr[year]['AGS'].str.len() < 8, '0' + filtered_bbsr[year]['AGS'], filtered_bbsr[year]['AGS'])\n",
      "/var/folders/wm/mtrphj0s0msgrmyshf3hgk740000gn/T/ipykernel_70167/3401382168.py:14: SettingWithCopyWarning: \n",
      "A value is trying to be set on a copy of a slice from a DataFrame.\n",
      "Try using .loc[row_indexer,col_indexer] = value instead\n",
      "\n",
      "See the caveats in the documentation: https://pandas.pydata.org/pandas-docs/stable/user_guide/indexing.html#returning-a-view-versus-a-copy\n",
      "  filtered_bbsr[year]['year'] = year\n",
      "/var/folders/wm/mtrphj0s0msgrmyshf3hgk740000gn/T/ipykernel_70167/3401382168.py:16: SettingWithCopyWarning: \n",
      "A value is trying to be set on a copy of a slice from a DataFrame.\n",
      "Try using .loc[row_indexer,col_indexer] = value instead\n",
      "\n",
      "See the caveats in the documentation: https://pandas.pydata.org/pandas-docs/stable/user_guide/indexing.html#returning-a-view-versus-a-copy\n",
      "  filtered_bbsr[year]['AGS'] = filtered_bbsr[year]['AGS'].astype(str)\n",
      "/var/folders/wm/mtrphj0s0msgrmyshf3hgk740000gn/T/ipykernel_70167/3401382168.py:17: SettingWithCopyWarning: \n",
      "A value is trying to be set on a copy of a slice from a DataFrame.\n",
      "Try using .loc[row_indexer,col_indexer] = value instead\n",
      "\n",
      "See the caveats in the documentation: https://pandas.pydata.org/pandas-docs/stable/user_guide/indexing.html#returning-a-view-versus-a-copy\n",
      "  filtered_bbsr[year]['AGS'] = np.where(filtered_bbsr[year]['AGS'].str.len() < 8, '0' + filtered_bbsr[year]['AGS'], filtered_bbsr[year]['AGS'])\n",
      "/var/folders/wm/mtrphj0s0msgrmyshf3hgk740000gn/T/ipykernel_70167/3401382168.py:14: SettingWithCopyWarning: \n",
      "A value is trying to be set on a copy of a slice from a DataFrame.\n",
      "Try using .loc[row_indexer,col_indexer] = value instead\n",
      "\n",
      "See the caveats in the documentation: https://pandas.pydata.org/pandas-docs/stable/user_guide/indexing.html#returning-a-view-versus-a-copy\n",
      "  filtered_bbsr[year]['year'] = year\n",
      "/var/folders/wm/mtrphj0s0msgrmyshf3hgk740000gn/T/ipykernel_70167/3401382168.py:16: SettingWithCopyWarning: \n",
      "A value is trying to be set on a copy of a slice from a DataFrame.\n",
      "Try using .loc[row_indexer,col_indexer] = value instead\n",
      "\n",
      "See the caveats in the documentation: https://pandas.pydata.org/pandas-docs/stable/user_guide/indexing.html#returning-a-view-versus-a-copy\n",
      "  filtered_bbsr[year]['AGS'] = filtered_bbsr[year]['AGS'].astype(str)\n",
      "/var/folders/wm/mtrphj0s0msgrmyshf3hgk740000gn/T/ipykernel_70167/3401382168.py:17: SettingWithCopyWarning: \n",
      "A value is trying to be set on a copy of a slice from a DataFrame.\n",
      "Try using .loc[row_indexer,col_indexer] = value instead\n",
      "\n",
      "See the caveats in the documentation: https://pandas.pydata.org/pandas-docs/stable/user_guide/indexing.html#returning-a-view-versus-a-copy\n",
      "  filtered_bbsr[year]['AGS'] = np.where(filtered_bbsr[year]['AGS'].str.len() < 8, '0' + filtered_bbsr[year]['AGS'], filtered_bbsr[year]['AGS'])\n",
      "/var/folders/wm/mtrphj0s0msgrmyshf3hgk740000gn/T/ipykernel_70167/3401382168.py:14: SettingWithCopyWarning: \n",
      "A value is trying to be set on a copy of a slice from a DataFrame.\n",
      "Try using .loc[row_indexer,col_indexer] = value instead\n",
      "\n",
      "See the caveats in the documentation: https://pandas.pydata.org/pandas-docs/stable/user_guide/indexing.html#returning-a-view-versus-a-copy\n",
      "  filtered_bbsr[year]['year'] = year\n",
      "/var/folders/wm/mtrphj0s0msgrmyshf3hgk740000gn/T/ipykernel_70167/3401382168.py:16: SettingWithCopyWarning: \n",
      "A value is trying to be set on a copy of a slice from a DataFrame.\n",
      "Try using .loc[row_indexer,col_indexer] = value instead\n",
      "\n",
      "See the caveats in the documentation: https://pandas.pydata.org/pandas-docs/stable/user_guide/indexing.html#returning-a-view-versus-a-copy\n",
      "  filtered_bbsr[year]['AGS'] = filtered_bbsr[year]['AGS'].astype(str)\n",
      "/var/folders/wm/mtrphj0s0msgrmyshf3hgk740000gn/T/ipykernel_70167/3401382168.py:17: SettingWithCopyWarning: \n",
      "A value is trying to be set on a copy of a slice from a DataFrame.\n",
      "Try using .loc[row_indexer,col_indexer] = value instead\n",
      "\n",
      "See the caveats in the documentation: https://pandas.pydata.org/pandas-docs/stable/user_guide/indexing.html#returning-a-view-versus-a-copy\n",
      "  filtered_bbsr[year]['AGS'] = np.where(filtered_bbsr[year]['AGS'].str.len() < 8, '0' + filtered_bbsr[year]['AGS'], filtered_bbsr[year]['AGS'])\n",
      "/var/folders/wm/mtrphj0s0msgrmyshf3hgk740000gn/T/ipykernel_70167/3401382168.py:14: SettingWithCopyWarning: \n",
      "A value is trying to be set on a copy of a slice from a DataFrame.\n",
      "Try using .loc[row_indexer,col_indexer] = value instead\n",
      "\n",
      "See the caveats in the documentation: https://pandas.pydata.org/pandas-docs/stable/user_guide/indexing.html#returning-a-view-versus-a-copy\n",
      "  filtered_bbsr[year]['year'] = year\n",
      "/var/folders/wm/mtrphj0s0msgrmyshf3hgk740000gn/T/ipykernel_70167/3401382168.py:16: SettingWithCopyWarning: \n",
      "A value is trying to be set on a copy of a slice from a DataFrame.\n",
      "Try using .loc[row_indexer,col_indexer] = value instead\n",
      "\n",
      "See the caveats in the documentation: https://pandas.pydata.org/pandas-docs/stable/user_guide/indexing.html#returning-a-view-versus-a-copy\n",
      "  filtered_bbsr[year]['AGS'] = filtered_bbsr[year]['AGS'].astype(str)\n",
      "/var/folders/wm/mtrphj0s0msgrmyshf3hgk740000gn/T/ipykernel_70167/3401382168.py:17: SettingWithCopyWarning: \n",
      "A value is trying to be set on a copy of a slice from a DataFrame.\n",
      "Try using .loc[row_indexer,col_indexer] = value instead\n",
      "\n",
      "See the caveats in the documentation: https://pandas.pydata.org/pandas-docs/stable/user_guide/indexing.html#returning-a-view-versus-a-copy\n",
      "  filtered_bbsr[year]['AGS'] = np.where(filtered_bbsr[year]['AGS'].str.len() < 8, '0' + filtered_bbsr[year]['AGS'], filtered_bbsr[year]['AGS'])\n",
      "/var/folders/wm/mtrphj0s0msgrmyshf3hgk740000gn/T/ipykernel_70167/3401382168.py:14: SettingWithCopyWarning: \n",
      "A value is trying to be set on a copy of a slice from a DataFrame.\n",
      "Try using .loc[row_indexer,col_indexer] = value instead\n",
      "\n",
      "See the caveats in the documentation: https://pandas.pydata.org/pandas-docs/stable/user_guide/indexing.html#returning-a-view-versus-a-copy\n",
      "  filtered_bbsr[year]['year'] = year\n",
      "/var/folders/wm/mtrphj0s0msgrmyshf3hgk740000gn/T/ipykernel_70167/3401382168.py:16: SettingWithCopyWarning: \n",
      "A value is trying to be set on a copy of a slice from a DataFrame.\n",
      "Try using .loc[row_indexer,col_indexer] = value instead\n",
      "\n",
      "See the caveats in the documentation: https://pandas.pydata.org/pandas-docs/stable/user_guide/indexing.html#returning-a-view-versus-a-copy\n",
      "  filtered_bbsr[year]['AGS'] = filtered_bbsr[year]['AGS'].astype(str)\n",
      "/var/folders/wm/mtrphj0s0msgrmyshf3hgk740000gn/T/ipykernel_70167/3401382168.py:17: SettingWithCopyWarning: \n",
      "A value is trying to be set on a copy of a slice from a DataFrame.\n",
      "Try using .loc[row_indexer,col_indexer] = value instead\n",
      "\n",
      "See the caveats in the documentation: https://pandas.pydata.org/pandas-docs/stable/user_guide/indexing.html#returning-a-view-versus-a-copy\n",
      "  filtered_bbsr[year]['AGS'] = np.where(filtered_bbsr[year]['AGS'].str.len() < 8, '0' + filtered_bbsr[year]['AGS'], filtered_bbsr[year]['AGS'])\n",
      "/var/folders/wm/mtrphj0s0msgrmyshf3hgk740000gn/T/ipykernel_70167/3401382168.py:14: SettingWithCopyWarning: \n",
      "A value is trying to be set on a copy of a slice from a DataFrame.\n",
      "Try using .loc[row_indexer,col_indexer] = value instead\n",
      "\n",
      "See the caveats in the documentation: https://pandas.pydata.org/pandas-docs/stable/user_guide/indexing.html#returning-a-view-versus-a-copy\n",
      "  filtered_bbsr[year]['year'] = year\n",
      "/var/folders/wm/mtrphj0s0msgrmyshf3hgk740000gn/T/ipykernel_70167/3401382168.py:16: SettingWithCopyWarning: \n",
      "A value is trying to be set on a copy of a slice from a DataFrame.\n",
      "Try using .loc[row_indexer,col_indexer] = value instead\n",
      "\n",
      "See the caveats in the documentation: https://pandas.pydata.org/pandas-docs/stable/user_guide/indexing.html#returning-a-view-versus-a-copy\n",
      "  filtered_bbsr[year]['AGS'] = filtered_bbsr[year]['AGS'].astype(str)\n",
      "/var/folders/wm/mtrphj0s0msgrmyshf3hgk740000gn/T/ipykernel_70167/3401382168.py:17: SettingWithCopyWarning: \n",
      "A value is trying to be set on a copy of a slice from a DataFrame.\n",
      "Try using .loc[row_indexer,col_indexer] = value instead\n",
      "\n",
      "See the caveats in the documentation: https://pandas.pydata.org/pandas-docs/stable/user_guide/indexing.html#returning-a-view-versus-a-copy\n",
      "  filtered_bbsr[year]['AGS'] = np.where(filtered_bbsr[year]['AGS'].str.len() < 8, '0' + filtered_bbsr[year]['AGS'], filtered_bbsr[year]['AGS'])\n",
      "/var/folders/wm/mtrphj0s0msgrmyshf3hgk740000gn/T/ipykernel_70167/3401382168.py:14: SettingWithCopyWarning: \n",
      "A value is trying to be set on a copy of a slice from a DataFrame.\n",
      "Try using .loc[row_indexer,col_indexer] = value instead\n",
      "\n",
      "See the caveats in the documentation: https://pandas.pydata.org/pandas-docs/stable/user_guide/indexing.html#returning-a-view-versus-a-copy\n",
      "  filtered_bbsr[year]['year'] = year\n",
      "/var/folders/wm/mtrphj0s0msgrmyshf3hgk740000gn/T/ipykernel_70167/3401382168.py:16: SettingWithCopyWarning: \n",
      "A value is trying to be set on a copy of a slice from a DataFrame.\n",
      "Try using .loc[row_indexer,col_indexer] = value instead\n",
      "\n",
      "See the caveats in the documentation: https://pandas.pydata.org/pandas-docs/stable/user_guide/indexing.html#returning-a-view-versus-a-copy\n",
      "  filtered_bbsr[year]['AGS'] = filtered_bbsr[year]['AGS'].astype(str)\n",
      "/var/folders/wm/mtrphj0s0msgrmyshf3hgk740000gn/T/ipykernel_70167/3401382168.py:17: SettingWithCopyWarning: \n",
      "A value is trying to be set on a copy of a slice from a DataFrame.\n",
      "Try using .loc[row_indexer,col_indexer] = value instead\n",
      "\n",
      "See the caveats in the documentation: https://pandas.pydata.org/pandas-docs/stable/user_guide/indexing.html#returning-a-view-versus-a-copy\n",
      "  filtered_bbsr[year]['AGS'] = np.where(filtered_bbsr[year]['AGS'].str.len() < 8, '0' + filtered_bbsr[year]['AGS'], filtered_bbsr[year]['AGS'])\n",
      "/var/folders/wm/mtrphj0s0msgrmyshf3hgk740000gn/T/ipykernel_70167/3401382168.py:14: SettingWithCopyWarning: \n",
      "A value is trying to be set on a copy of a slice from a DataFrame.\n",
      "Try using .loc[row_indexer,col_indexer] = value instead\n",
      "\n",
      "See the caveats in the documentation: https://pandas.pydata.org/pandas-docs/stable/user_guide/indexing.html#returning-a-view-versus-a-copy\n",
      "  filtered_bbsr[year]['year'] = year\n",
      "/var/folders/wm/mtrphj0s0msgrmyshf3hgk740000gn/T/ipykernel_70167/3401382168.py:16: SettingWithCopyWarning: \n",
      "A value is trying to be set on a copy of a slice from a DataFrame.\n",
      "Try using .loc[row_indexer,col_indexer] = value instead\n",
      "\n",
      "See the caveats in the documentation: https://pandas.pydata.org/pandas-docs/stable/user_guide/indexing.html#returning-a-view-versus-a-copy\n",
      "  filtered_bbsr[year]['AGS'] = filtered_bbsr[year]['AGS'].astype(str)\n",
      "/var/folders/wm/mtrphj0s0msgrmyshf3hgk740000gn/T/ipykernel_70167/3401382168.py:17: SettingWithCopyWarning: \n",
      "A value is trying to be set on a copy of a slice from a DataFrame.\n",
      "Try using .loc[row_indexer,col_indexer] = value instead\n",
      "\n",
      "See the caveats in the documentation: https://pandas.pydata.org/pandas-docs/stable/user_guide/indexing.html#returning-a-view-versus-a-copy\n",
      "  filtered_bbsr[year]['AGS'] = np.where(filtered_bbsr[year]['AGS'].str.len() < 8, '0' + filtered_bbsr[year]['AGS'], filtered_bbsr[year]['AGS'])\n",
      "/var/folders/wm/mtrphj0s0msgrmyshf3hgk740000gn/T/ipykernel_70167/3401382168.py:14: SettingWithCopyWarning: \n",
      "A value is trying to be set on a copy of a slice from a DataFrame.\n",
      "Try using .loc[row_indexer,col_indexer] = value instead\n",
      "\n",
      "See the caveats in the documentation: https://pandas.pydata.org/pandas-docs/stable/user_guide/indexing.html#returning-a-view-versus-a-copy\n",
      "  filtered_bbsr[year]['year'] = year\n",
      "/var/folders/wm/mtrphj0s0msgrmyshf3hgk740000gn/T/ipykernel_70167/3401382168.py:16: SettingWithCopyWarning: \n",
      "A value is trying to be set on a copy of a slice from a DataFrame.\n",
      "Try using .loc[row_indexer,col_indexer] = value instead\n",
      "\n",
      "See the caveats in the documentation: https://pandas.pydata.org/pandas-docs/stable/user_guide/indexing.html#returning-a-view-versus-a-copy\n",
      "  filtered_bbsr[year]['AGS'] = filtered_bbsr[year]['AGS'].astype(str)\n",
      "/var/folders/wm/mtrphj0s0msgrmyshf3hgk740000gn/T/ipykernel_70167/3401382168.py:17: SettingWithCopyWarning: \n",
      "A value is trying to be set on a copy of a slice from a DataFrame.\n",
      "Try using .loc[row_indexer,col_indexer] = value instead\n",
      "\n",
      "See the caveats in the documentation: https://pandas.pydata.org/pandas-docs/stable/user_guide/indexing.html#returning-a-view-versus-a-copy\n",
      "  filtered_bbsr[year]['AGS'] = np.where(filtered_bbsr[year]['AGS'].str.len() < 8, '0' + filtered_bbsr[year]['AGS'], filtered_bbsr[year]['AGS'])\n",
      "/var/folders/wm/mtrphj0s0msgrmyshf3hgk740000gn/T/ipykernel_70167/3401382168.py:14: SettingWithCopyWarning: \n",
      "A value is trying to be set on a copy of a slice from a DataFrame.\n",
      "Try using .loc[row_indexer,col_indexer] = value instead\n",
      "\n",
      "See the caveats in the documentation: https://pandas.pydata.org/pandas-docs/stable/user_guide/indexing.html#returning-a-view-versus-a-copy\n",
      "  filtered_bbsr[year]['year'] = year\n",
      "/var/folders/wm/mtrphj0s0msgrmyshf3hgk740000gn/T/ipykernel_70167/3401382168.py:16: SettingWithCopyWarning: \n",
      "A value is trying to be set on a copy of a slice from a DataFrame.\n",
      "Try using .loc[row_indexer,col_indexer] = value instead\n",
      "\n",
      "See the caveats in the documentation: https://pandas.pydata.org/pandas-docs/stable/user_guide/indexing.html#returning-a-view-versus-a-copy\n",
      "  filtered_bbsr[year]['AGS'] = filtered_bbsr[year]['AGS'].astype(str)\n",
      "/var/folders/wm/mtrphj0s0msgrmyshf3hgk740000gn/T/ipykernel_70167/3401382168.py:17: SettingWithCopyWarning: \n",
      "A value is trying to be set on a copy of a slice from a DataFrame.\n",
      "Try using .loc[row_indexer,col_indexer] = value instead\n",
      "\n",
      "See the caveats in the documentation: https://pandas.pydata.org/pandas-docs/stable/user_guide/indexing.html#returning-a-view-versus-a-copy\n",
      "  filtered_bbsr[year]['AGS'] = np.where(filtered_bbsr[year]['AGS'].str.len() < 8, '0' + filtered_bbsr[year]['AGS'], filtered_bbsr[year]['AGS'])\n",
      "/var/folders/wm/mtrphj0s0msgrmyshf3hgk740000gn/T/ipykernel_70167/3401382168.py:14: SettingWithCopyWarning: \n",
      "A value is trying to be set on a copy of a slice from a DataFrame.\n",
      "Try using .loc[row_indexer,col_indexer] = value instead\n",
      "\n",
      "See the caveats in the documentation: https://pandas.pydata.org/pandas-docs/stable/user_guide/indexing.html#returning-a-view-versus-a-copy\n",
      "  filtered_bbsr[year]['year'] = year\n",
      "/var/folders/wm/mtrphj0s0msgrmyshf3hgk740000gn/T/ipykernel_70167/3401382168.py:16: SettingWithCopyWarning: \n",
      "A value is trying to be set on a copy of a slice from a DataFrame.\n",
      "Try using .loc[row_indexer,col_indexer] = value instead\n",
      "\n",
      "See the caveats in the documentation: https://pandas.pydata.org/pandas-docs/stable/user_guide/indexing.html#returning-a-view-versus-a-copy\n",
      "  filtered_bbsr[year]['AGS'] = filtered_bbsr[year]['AGS'].astype(str)\n",
      "/var/folders/wm/mtrphj0s0msgrmyshf3hgk740000gn/T/ipykernel_70167/3401382168.py:17: SettingWithCopyWarning: \n",
      "A value is trying to be set on a copy of a slice from a DataFrame.\n",
      "Try using .loc[row_indexer,col_indexer] = value instead\n",
      "\n",
      "See the caveats in the documentation: https://pandas.pydata.org/pandas-docs/stable/user_guide/indexing.html#returning-a-view-versus-a-copy\n",
      "  filtered_bbsr[year]['AGS'] = np.where(filtered_bbsr[year]['AGS'].str.len() < 8, '0' + filtered_bbsr[year]['AGS'], filtered_bbsr[year]['AGS'])\n",
      "/var/folders/wm/mtrphj0s0msgrmyshf3hgk740000gn/T/ipykernel_70167/3401382168.py:14: SettingWithCopyWarning: \n",
      "A value is trying to be set on a copy of a slice from a DataFrame.\n",
      "Try using .loc[row_indexer,col_indexer] = value instead\n",
      "\n",
      "See the caveats in the documentation: https://pandas.pydata.org/pandas-docs/stable/user_guide/indexing.html#returning-a-view-versus-a-copy\n",
      "  filtered_bbsr[year]['year'] = year\n",
      "/var/folders/wm/mtrphj0s0msgrmyshf3hgk740000gn/T/ipykernel_70167/3401382168.py:16: SettingWithCopyWarning: \n",
      "A value is trying to be set on a copy of a slice from a DataFrame.\n",
      "Try using .loc[row_indexer,col_indexer] = value instead\n",
      "\n",
      "See the caveats in the documentation: https://pandas.pydata.org/pandas-docs/stable/user_guide/indexing.html#returning-a-view-versus-a-copy\n",
      "  filtered_bbsr[year]['AGS'] = filtered_bbsr[year]['AGS'].astype(str)\n",
      "/var/folders/wm/mtrphj0s0msgrmyshf3hgk740000gn/T/ipykernel_70167/3401382168.py:17: SettingWithCopyWarning: \n",
      "A value is trying to be set on a copy of a slice from a DataFrame.\n",
      "Try using .loc[row_indexer,col_indexer] = value instead\n",
      "\n",
      "See the caveats in the documentation: https://pandas.pydata.org/pandas-docs/stable/user_guide/indexing.html#returning-a-view-versus-a-copy\n",
      "  filtered_bbsr[year]['AGS'] = np.where(filtered_bbsr[year]['AGS'].str.len() < 8, '0' + filtered_bbsr[year]['AGS'], filtered_bbsr[year]['AGS'])\n",
      "/var/folders/wm/mtrphj0s0msgrmyshf3hgk740000gn/T/ipykernel_70167/3401382168.py:14: SettingWithCopyWarning: \n",
      "A value is trying to be set on a copy of a slice from a DataFrame.\n",
      "Try using .loc[row_indexer,col_indexer] = value instead\n",
      "\n",
      "See the caveats in the documentation: https://pandas.pydata.org/pandas-docs/stable/user_guide/indexing.html#returning-a-view-versus-a-copy\n",
      "  filtered_bbsr[year]['year'] = year\n",
      "/var/folders/wm/mtrphj0s0msgrmyshf3hgk740000gn/T/ipykernel_70167/3401382168.py:16: SettingWithCopyWarning: \n",
      "A value is trying to be set on a copy of a slice from a DataFrame.\n",
      "Try using .loc[row_indexer,col_indexer] = value instead\n",
      "\n",
      "See the caveats in the documentation: https://pandas.pydata.org/pandas-docs/stable/user_guide/indexing.html#returning-a-view-versus-a-copy\n",
      "  filtered_bbsr[year]['AGS'] = filtered_bbsr[year]['AGS'].astype(str)\n",
      "/var/folders/wm/mtrphj0s0msgrmyshf3hgk740000gn/T/ipykernel_70167/3401382168.py:17: SettingWithCopyWarning: \n",
      "A value is trying to be set on a copy of a slice from a DataFrame.\n",
      "Try using .loc[row_indexer,col_indexer] = value instead\n",
      "\n",
      "See the caveats in the documentation: https://pandas.pydata.org/pandas-docs/stable/user_guide/indexing.html#returning-a-view-versus-a-copy\n",
      "  filtered_bbsr[year]['AGS'] = np.where(filtered_bbsr[year]['AGS'].str.len() < 8, '0' + filtered_bbsr[year]['AGS'], filtered_bbsr[year]['AGS'])\n",
      "/var/folders/wm/mtrphj0s0msgrmyshf3hgk740000gn/T/ipykernel_70167/3401382168.py:14: SettingWithCopyWarning: \n",
      "A value is trying to be set on a copy of a slice from a DataFrame.\n",
      "Try using .loc[row_indexer,col_indexer] = value instead\n",
      "\n",
      "See the caveats in the documentation: https://pandas.pydata.org/pandas-docs/stable/user_guide/indexing.html#returning-a-view-versus-a-copy\n",
      "  filtered_bbsr[year]['year'] = year\n",
      "/var/folders/wm/mtrphj0s0msgrmyshf3hgk740000gn/T/ipykernel_70167/3401382168.py:16: SettingWithCopyWarning: \n",
      "A value is trying to be set on a copy of a slice from a DataFrame.\n",
      "Try using .loc[row_indexer,col_indexer] = value instead\n",
      "\n",
      "See the caveats in the documentation: https://pandas.pydata.org/pandas-docs/stable/user_guide/indexing.html#returning-a-view-versus-a-copy\n",
      "  filtered_bbsr[year]['AGS'] = filtered_bbsr[year]['AGS'].astype(str)\n",
      "/var/folders/wm/mtrphj0s0msgrmyshf3hgk740000gn/T/ipykernel_70167/3401382168.py:17: SettingWithCopyWarning: \n",
      "A value is trying to be set on a copy of a slice from a DataFrame.\n",
      "Try using .loc[row_indexer,col_indexer] = value instead\n",
      "\n",
      "See the caveats in the documentation: https://pandas.pydata.org/pandas-docs/stable/user_guide/indexing.html#returning-a-view-versus-a-copy\n",
      "  filtered_bbsr[year]['AGS'] = np.where(filtered_bbsr[year]['AGS'].str.len() < 8, '0' + filtered_bbsr[year]['AGS'], filtered_bbsr[year]['AGS'])\n",
      "/var/folders/wm/mtrphj0s0msgrmyshf3hgk740000gn/T/ipykernel_70167/3401382168.py:14: SettingWithCopyWarning: \n",
      "A value is trying to be set on a copy of a slice from a DataFrame.\n",
      "Try using .loc[row_indexer,col_indexer] = value instead\n",
      "\n",
      "See the caveats in the documentation: https://pandas.pydata.org/pandas-docs/stable/user_guide/indexing.html#returning-a-view-versus-a-copy\n",
      "  filtered_bbsr[year]['year'] = year\n",
      "/var/folders/wm/mtrphj0s0msgrmyshf3hgk740000gn/T/ipykernel_70167/3401382168.py:16: SettingWithCopyWarning: \n",
      "A value is trying to be set on a copy of a slice from a DataFrame.\n",
      "Try using .loc[row_indexer,col_indexer] = value instead\n",
      "\n",
      "See the caveats in the documentation: https://pandas.pydata.org/pandas-docs/stable/user_guide/indexing.html#returning-a-view-versus-a-copy\n",
      "  filtered_bbsr[year]['AGS'] = filtered_bbsr[year]['AGS'].astype(str)\n",
      "/var/folders/wm/mtrphj0s0msgrmyshf3hgk740000gn/T/ipykernel_70167/3401382168.py:17: SettingWithCopyWarning: \n",
      "A value is trying to be set on a copy of a slice from a DataFrame.\n",
      "Try using .loc[row_indexer,col_indexer] = value instead\n",
      "\n",
      "See the caveats in the documentation: https://pandas.pydata.org/pandas-docs/stable/user_guide/indexing.html#returning-a-view-versus-a-copy\n",
      "  filtered_bbsr[year]['AGS'] = np.where(filtered_bbsr[year]['AGS'].str.len() < 8, '0' + filtered_bbsr[year]['AGS'], filtered_bbsr[year]['AGS'])\n",
      "/var/folders/wm/mtrphj0s0msgrmyshf3hgk740000gn/T/ipykernel_70167/3401382168.py:14: SettingWithCopyWarning: \n",
      "A value is trying to be set on a copy of a slice from a DataFrame.\n",
      "Try using .loc[row_indexer,col_indexer] = value instead\n",
      "\n",
      "See the caveats in the documentation: https://pandas.pydata.org/pandas-docs/stable/user_guide/indexing.html#returning-a-view-versus-a-copy\n",
      "  filtered_bbsr[year]['year'] = year\n",
      "/var/folders/wm/mtrphj0s0msgrmyshf3hgk740000gn/T/ipykernel_70167/3401382168.py:16: SettingWithCopyWarning: \n",
      "A value is trying to be set on a copy of a slice from a DataFrame.\n",
      "Try using .loc[row_indexer,col_indexer] = value instead\n",
      "\n",
      "See the caveats in the documentation: https://pandas.pydata.org/pandas-docs/stable/user_guide/indexing.html#returning-a-view-versus-a-copy\n",
      "  filtered_bbsr[year]['AGS'] = filtered_bbsr[year]['AGS'].astype(str)\n",
      "/var/folders/wm/mtrphj0s0msgrmyshf3hgk740000gn/T/ipykernel_70167/3401382168.py:17: SettingWithCopyWarning: \n",
      "A value is trying to be set on a copy of a slice from a DataFrame.\n",
      "Try using .loc[row_indexer,col_indexer] = value instead\n",
      "\n",
      "See the caveats in the documentation: https://pandas.pydata.org/pandas-docs/stable/user_guide/indexing.html#returning-a-view-versus-a-copy\n",
      "  filtered_bbsr[year]['AGS'] = np.where(filtered_bbsr[year]['AGS'].str.len() < 8, '0' + filtered_bbsr[year]['AGS'], filtered_bbsr[year]['AGS'])\n",
      "/var/folders/wm/mtrphj0s0msgrmyshf3hgk740000gn/T/ipykernel_70167/3401382168.py:14: SettingWithCopyWarning: \n",
      "A value is trying to be set on a copy of a slice from a DataFrame.\n",
      "Try using .loc[row_indexer,col_indexer] = value instead\n",
      "\n",
      "See the caveats in the documentation: https://pandas.pydata.org/pandas-docs/stable/user_guide/indexing.html#returning-a-view-versus-a-copy\n",
      "  filtered_bbsr[year]['year'] = year\n",
      "/var/folders/wm/mtrphj0s0msgrmyshf3hgk740000gn/T/ipykernel_70167/3401382168.py:16: SettingWithCopyWarning: \n",
      "A value is trying to be set on a copy of a slice from a DataFrame.\n",
      "Try using .loc[row_indexer,col_indexer] = value instead\n",
      "\n",
      "See the caveats in the documentation: https://pandas.pydata.org/pandas-docs/stable/user_guide/indexing.html#returning-a-view-versus-a-copy\n",
      "  filtered_bbsr[year]['AGS'] = filtered_bbsr[year]['AGS'].astype(str)\n",
      "/var/folders/wm/mtrphj0s0msgrmyshf3hgk740000gn/T/ipykernel_70167/3401382168.py:17: SettingWithCopyWarning: \n",
      "A value is trying to be set on a copy of a slice from a DataFrame.\n",
      "Try using .loc[row_indexer,col_indexer] = value instead\n",
      "\n",
      "See the caveats in the documentation: https://pandas.pydata.org/pandas-docs/stable/user_guide/indexing.html#returning-a-view-versus-a-copy\n",
      "  filtered_bbsr[year]['AGS'] = np.where(filtered_bbsr[year]['AGS'].str.len() < 8, '0' + filtered_bbsr[year]['AGS'], filtered_bbsr[year]['AGS'])\n",
      "/var/folders/wm/mtrphj0s0msgrmyshf3hgk740000gn/T/ipykernel_70167/3401382168.py:14: SettingWithCopyWarning: \n",
      "A value is trying to be set on a copy of a slice from a DataFrame.\n",
      "Try using .loc[row_indexer,col_indexer] = value instead\n",
      "\n",
      "See the caveats in the documentation: https://pandas.pydata.org/pandas-docs/stable/user_guide/indexing.html#returning-a-view-versus-a-copy\n",
      "  filtered_bbsr[year]['year'] = year\n",
      "/var/folders/wm/mtrphj0s0msgrmyshf3hgk740000gn/T/ipykernel_70167/3401382168.py:16: SettingWithCopyWarning: \n",
      "A value is trying to be set on a copy of a slice from a DataFrame.\n",
      "Try using .loc[row_indexer,col_indexer] = value instead\n",
      "\n",
      "See the caveats in the documentation: https://pandas.pydata.org/pandas-docs/stable/user_guide/indexing.html#returning-a-view-versus-a-copy\n",
      "  filtered_bbsr[year]['AGS'] = filtered_bbsr[year]['AGS'].astype(str)\n",
      "/var/folders/wm/mtrphj0s0msgrmyshf3hgk740000gn/T/ipykernel_70167/3401382168.py:17: SettingWithCopyWarning: \n",
      "A value is trying to be set on a copy of a slice from a DataFrame.\n",
      "Try using .loc[row_indexer,col_indexer] = value instead\n",
      "\n",
      "See the caveats in the documentation: https://pandas.pydata.org/pandas-docs/stable/user_guide/indexing.html#returning-a-view-versus-a-copy\n",
      "  filtered_bbsr[year]['AGS'] = np.where(filtered_bbsr[year]['AGS'].str.len() < 8, '0' + filtered_bbsr[year]['AGS'], filtered_bbsr[year]['AGS'])\n",
      "/var/folders/wm/mtrphj0s0msgrmyshf3hgk740000gn/T/ipykernel_70167/3401382168.py:14: SettingWithCopyWarning: \n",
      "A value is trying to be set on a copy of a slice from a DataFrame.\n",
      "Try using .loc[row_indexer,col_indexer] = value instead\n",
      "\n",
      "See the caveats in the documentation: https://pandas.pydata.org/pandas-docs/stable/user_guide/indexing.html#returning-a-view-versus-a-copy\n",
      "  filtered_bbsr[year]['year'] = year\n",
      "/var/folders/wm/mtrphj0s0msgrmyshf3hgk740000gn/T/ipykernel_70167/3401382168.py:16: SettingWithCopyWarning: \n",
      "A value is trying to be set on a copy of a slice from a DataFrame.\n",
      "Try using .loc[row_indexer,col_indexer] = value instead\n",
      "\n",
      "See the caveats in the documentation: https://pandas.pydata.org/pandas-docs/stable/user_guide/indexing.html#returning-a-view-versus-a-copy\n",
      "  filtered_bbsr[year]['AGS'] = filtered_bbsr[year]['AGS'].astype(str)\n",
      "/var/folders/wm/mtrphj0s0msgrmyshf3hgk740000gn/T/ipykernel_70167/3401382168.py:17: SettingWithCopyWarning: \n",
      "A value is trying to be set on a copy of a slice from a DataFrame.\n",
      "Try using .loc[row_indexer,col_indexer] = value instead\n",
      "\n",
      "See the caveats in the documentation: https://pandas.pydata.org/pandas-docs/stable/user_guide/indexing.html#returning-a-view-versus-a-copy\n",
      "  filtered_bbsr[year]['AGS'] = np.where(filtered_bbsr[year]['AGS'].str.len() < 8, '0' + filtered_bbsr[year]['AGS'], filtered_bbsr[year]['AGS'])\n",
      "/var/folders/wm/mtrphj0s0msgrmyshf3hgk740000gn/T/ipykernel_70167/3401382168.py:14: SettingWithCopyWarning: \n",
      "A value is trying to be set on a copy of a slice from a DataFrame.\n",
      "Try using .loc[row_indexer,col_indexer] = value instead\n",
      "\n",
      "See the caveats in the documentation: https://pandas.pydata.org/pandas-docs/stable/user_guide/indexing.html#returning-a-view-versus-a-copy\n",
      "  filtered_bbsr[year]['year'] = year\n",
      "/var/folders/wm/mtrphj0s0msgrmyshf3hgk740000gn/T/ipykernel_70167/3401382168.py:16: SettingWithCopyWarning: \n",
      "A value is trying to be set on a copy of a slice from a DataFrame.\n",
      "Try using .loc[row_indexer,col_indexer] = value instead\n",
      "\n",
      "See the caveats in the documentation: https://pandas.pydata.org/pandas-docs/stable/user_guide/indexing.html#returning-a-view-versus-a-copy\n",
      "  filtered_bbsr[year]['AGS'] = filtered_bbsr[year]['AGS'].astype(str)\n",
      "/var/folders/wm/mtrphj0s0msgrmyshf3hgk740000gn/T/ipykernel_70167/3401382168.py:17: SettingWithCopyWarning: \n",
      "A value is trying to be set on a copy of a slice from a DataFrame.\n",
      "Try using .loc[row_indexer,col_indexer] = value instead\n",
      "\n",
      "See the caveats in the documentation: https://pandas.pydata.org/pandas-docs/stable/user_guide/indexing.html#returning-a-view-versus-a-copy\n",
      "  filtered_bbsr[year]['AGS'] = np.where(filtered_bbsr[year]['AGS'].str.len() < 8, '0' + filtered_bbsr[year]['AGS'], filtered_bbsr[year]['AGS'])\n",
      "/var/folders/wm/mtrphj0s0msgrmyshf3hgk740000gn/T/ipykernel_70167/3401382168.py:14: SettingWithCopyWarning: \n",
      "A value is trying to be set on a copy of a slice from a DataFrame.\n",
      "Try using .loc[row_indexer,col_indexer] = value instead\n",
      "\n",
      "See the caveats in the documentation: https://pandas.pydata.org/pandas-docs/stable/user_guide/indexing.html#returning-a-view-versus-a-copy\n",
      "  filtered_bbsr[year]['year'] = year\n",
      "/var/folders/wm/mtrphj0s0msgrmyshf3hgk740000gn/T/ipykernel_70167/3401382168.py:16: SettingWithCopyWarning: \n",
      "A value is trying to be set on a copy of a slice from a DataFrame.\n",
      "Try using .loc[row_indexer,col_indexer] = value instead\n",
      "\n",
      "See the caveats in the documentation: https://pandas.pydata.org/pandas-docs/stable/user_guide/indexing.html#returning-a-view-versus-a-copy\n",
      "  filtered_bbsr[year]['AGS'] = filtered_bbsr[year]['AGS'].astype(str)\n",
      "/var/folders/wm/mtrphj0s0msgrmyshf3hgk740000gn/T/ipykernel_70167/3401382168.py:17: SettingWithCopyWarning: \n",
      "A value is trying to be set on a copy of a slice from a DataFrame.\n",
      "Try using .loc[row_indexer,col_indexer] = value instead\n",
      "\n",
      "See the caveats in the documentation: https://pandas.pydata.org/pandas-docs/stable/user_guide/indexing.html#returning-a-view-versus-a-copy\n",
      "  filtered_bbsr[year]['AGS'] = np.where(filtered_bbsr[year]['AGS'].str.len() < 8, '0' + filtered_bbsr[year]['AGS'], filtered_bbsr[year]['AGS'])\n"
     ]
    }
   ],
   "source": [
    "filtered_bbsr = {}\n",
    "for year, df in bbsr_dfs.items():\n",
    "    # for 1990-1996 there  is only data on the area and population\n",
    "    if year <= 1996:\n",
    "        col_names = ['AGS', 'Name', 'flächenprop.', 'bevölkerungsprop.', 'area_bbsr', 'pop_bbsr', 'Kennziffer.1', 'Name.1']\n",
    "        bbsr_dfs[year].columns = col_names\n",
    "        filtered_bbsr[year] = bbsr_dfs[year][[f'AGS', 'area_bbsr', 'pop_bbsr']]\n",
    "    # for 1996-2020 there is also data on the number of employed\n",
    "    elif year <= 2020:\n",
    "        col_names = ['AGS', 'Name', 'flächenprop.', 'bevölkerungsprop.', 'beschäftigtenprop.', 'area_bbsr', 'pop_bbsr', 'employed_bbsr', 'Kennziffer.1', 'Name.1']\n",
    "        bbsr_dfs[year].columns = col_names\n",
    "        filtered_bbsr[year] = bbsr_dfs[year][[f'AGS', 'area_bbsr', 'pop_bbsr', 'employed_bbsr']]\n",
    "    # insert year\n",
    "    filtered_bbsr[year]['year'] = year\n",
    "    # fix AGS\n",
    "    filtered_bbsr[year]['AGS'] = filtered_bbsr[year]['AGS'].astype(str)\n",
    "    filtered_bbsr[year]['AGS'] = np.where(filtered_bbsr[year]['AGS'].str.len() < 8, '0' + filtered_bbsr[year]['AGS'], filtered_bbsr[year]['AGS'])"
   ]
  },
  {
   "cell_type": "markdown",
   "metadata": {},
   "source": [
    "Convert AGS to 2013"
   ]
  },
  {
   "cell_type": "code",
   "execution_count": 73,
   "metadata": {},
   "outputs": [
    {
     "name": "stdout",
     "output_type": "stream",
     "text": [
      "both          16620\n",
      "left_only         0\n",
      "right_only        0\n",
      "Name: _merge, dtype: int64\n",
      "None\n",
      "both          16480\n",
      "left_only         0\n",
      "right_only        0\n",
      "Name: _merge, dtype: int64\n",
      "None\n",
      "both          16479\n",
      "left_only         0\n",
      "right_only        0\n",
      "Name: _merge, dtype: int64\n",
      "None\n",
      "both          16497\n",
      "left_only         0\n",
      "right_only        0\n",
      "Name: _merge, dtype: int64\n",
      "None\n",
      "both          16473\n",
      "left_only         0\n",
      "right_only        0\n",
      "Name: _merge, dtype: int64\n",
      "None\n",
      "both          16479\n",
      "left_only         0\n",
      "right_only        0\n",
      "Name: _merge, dtype: int64\n",
      "None\n",
      "both          16475\n",
      "left_only         0\n",
      "right_only        0\n",
      "Name: _merge, dtype: int64\n",
      "None\n",
      "both          16479\n",
      "left_only         0\n",
      "right_only        0\n",
      "Name: _merge, dtype: int64\n",
      "None\n",
      "both          16475\n",
      "left_only         0\n",
      "right_only        0\n",
      "Name: _merge, dtype: int64\n",
      "None\n",
      "both          16501\n",
      "left_only         0\n",
      "right_only        0\n",
      "Name: _merge, dtype: int64\n",
      "None\n",
      "both          16473\n",
      "left_only         0\n",
      "right_only        0\n",
      "Name: _merge, dtype: int64\n",
      "None\n",
      "both          16479\n",
      "left_only         0\n",
      "right_only        0\n",
      "Name: _merge, dtype: int64\n",
      "None\n",
      "both          16473\n",
      "left_only         0\n",
      "right_only        0\n",
      "Name: _merge, dtype: int64\n",
      "None\n",
      "both          16475\n",
      "left_only         0\n",
      "right_only        0\n",
      "Name: _merge, dtype: int64\n",
      "None\n",
      "both          16479\n",
      "left_only         0\n",
      "right_only        0\n",
      "Name: _merge, dtype: int64\n",
      "None\n",
      "both          16473\n",
      "left_only         0\n",
      "right_only        0\n",
      "Name: _merge, dtype: int64\n",
      "None\n",
      "both          16473\n",
      "left_only         0\n",
      "right_only        0\n",
      "Name: _merge, dtype: int64\n",
      "None\n",
      "both          16473\n",
      "left_only         0\n",
      "right_only        0\n",
      "Name: _merge, dtype: int64\n",
      "None\n",
      "both          16473\n",
      "left_only         0\n",
      "right_only        0\n",
      "Name: _merge, dtype: int64\n",
      "None\n",
      "both          16473\n",
      "left_only         0\n",
      "right_only        0\n",
      "Name: _merge, dtype: int64\n",
      "None\n",
      "both          16539\n",
      "left_only         0\n",
      "right_only        0\n",
      "Name: _merge, dtype: int64\n",
      "None\n",
      "both          16499\n",
      "left_only         0\n",
      "right_only        0\n",
      "Name: _merge, dtype: int64\n",
      "None\n",
      "both          16551\n",
      "left_only         0\n",
      "right_only        0\n",
      "Name: _merge, dtype: int64\n",
      "None\n",
      "both          16473\n",
      "left_only         0\n",
      "right_only        0\n",
      "Name: _merge, dtype: int64\n",
      "None\n",
      "both          16473\n",
      "left_only         0\n",
      "right_only        0\n",
      "Name: _merge, dtype: int64\n",
      "None\n",
      "both          16479\n",
      "left_only         0\n",
      "right_only        0\n",
      "Name: _merge, dtype: int64\n",
      "None\n",
      "both          16473\n",
      "left_only         0\n",
      "right_only        0\n",
      "Name: _merge, dtype: int64\n",
      "None\n",
      "both          17872\n",
      "left_only         0\n",
      "right_only        0\n",
      "Name: _merge, dtype: int64\n",
      "None\n",
      "both          16491\n",
      "left_only         0\n",
      "right_only        0\n",
      "Name: _merge, dtype: int64\n",
      "None\n"
     ]
    }
   ],
   "source": [
    "for year, df in filtered_bbsr.items():\n",
    "    # skip 2013\n",
    "    if year == 2013:\n",
    "        continue\n",
    "    # read in AGS transition dataset\n",
    "    ags_trans = pd.read_csv(f'{path}/data/ags_transition.csv', usecols=[f'AGS_{year}', 'AGS_2013'], converters={f'AGS_{year}': str, 'AGS_2013': str})\n",
    "    # merge filtered_bbsr[year] with ags trans\n",
    "    filtered_bbsr[year] = filtered_bbsr[year].merge(ags_trans, left_on='AGS', right_on=f'AGS_{year}', how='left', indicator=True)\n",
    "    print(print(filtered_bbsr[year]._merge.value_counts()))\n",
    "    # delete old AGS and rename\n",
    "    filtered_bbsr[year]['AGS'] = np.where(filtered_bbsr[year]['AGS_2013'].notna(), filtered_bbsr[year]['AGS_2013'], filtered_bbsr[year]['AGS'])\n",
    "    filtered_bbsr[year] = filtered_bbsr[year].drop(['AGS_2013', f'AGS_{year}', '_merge'], axis=1)\n",
    "    # move AGS to front\n",
    "    AGS = filtered_bbsr[year].pop('AGS')\n",
    "    filtered_bbsr[year].insert(1, 'AGS', AGS)"
   ]
  },
  {
   "cell_type": "markdown",
   "metadata": {},
   "source": [
    "Concatenate all BBSR dfs"
   ]
  },
  {
   "cell_type": "code",
   "execution_count": 74,
   "metadata": {},
   "outputs": [],
   "source": [
    "bbsr_controls = pd.concat(filtered_bbsr.values())\n",
    "bbsr_controls = bbsr_controls.sort_values(['AGS', 'year'])"
   ]
  },
  {
   "cell_type": "markdown",
   "metadata": {},
   "source": [
    "Concatenate INKAR, RS and BBSR dfs"
   ]
  },
  {
   "cell_type": "code",
   "execution_count": 84,
   "metadata": {},
   "outputs": [
    {
     "data": {
      "text/plain": [
       "(938180, 14)"
      ]
     },
     "execution_count": 84,
     "metadata": {},
     "output_type": "execute_result"
    }
   ],
   "source": [
    "all_controls = pd.concat([inkar_controls, rs_controls, bbsr_controls])\n",
    "all_controls.shape"
   ]
  },
  {
   "cell_type": "code",
   "execution_count": 85,
   "metadata": {},
   "outputs": [
    {
     "data": {
      "text/plain": [
       "(343047, 14)"
      ]
     },
     "execution_count": 85,
     "metadata": {},
     "output_type": "execute_result"
    }
   ],
   "source": [
    "grouped_controls = all_controls.groupby(['AGS', 'year'], as_index=False).first()\n",
    "grouped_controls.shape"
   ]
  },
  {
   "cell_type": "markdown",
   "metadata": {},
   "source": [
    "Combine variables"
   ]
  },
  {
   "cell_type": "code",
   "execution_count": 86,
   "metadata": {},
   "outputs": [],
   "source": [
    "controls = grouped_controls.copy()\n",
    "# Population: Inkar has exact number from 95-17 (but some on Gemeindeverbandslevel), \n",
    "# BBSR has in thousands -96, in hundreds from 96 (despite header saying it is in thousands)\n",
    "controls['pop'] = np.where(controls['year'] <= 1996, controls['pop_bbsr'] * 1000, 0)\n",
    "controls['pop'] = np.where(controls['year'] > 1996, controls['pop_bbsr'] * 100, controls['pop'])\n",
    "# pop density can now be calculated since we have area and population for all years\n",
    "controls['pop_density'] = controls['pop'] / controls['area_bbsr']\n",
    "# share of employed\n",
    "controls['employed'] = controls['employed_bbsr'] / controls['pop_bbsr'] * 100\n",
    "# share of unemployed\n",
    "controls['unemployed'] = controls['unemployed_inkar'] / controls['pop_inkar'] * 100\n",
    "# avg_age: inkar has more data\n",
    "controls['avg_age'] = controls['avg_age_inkar']\n",
    "# same for share of females\n",
    "controls['female'] = controls['female_inkar']"
   ]
  },
  {
   "cell_type": "markdown",
   "metadata": {},
   "source": [
    "Inspect means to see if values makes sense"
   ]
  },
  {
   "cell_type": "code",
   "execution_count": 87,
   "metadata": {},
   "outputs": [],
   "source": [
    "all_means = controls[['AGS', 'year', 'pop_density', 'employed', 'unemployed', 'foreign', 'catholic', 'avg_age', 'female', 'income_pc']].groupby('year').mean()\n",
    "# Everything but employed looks fine, unemployed here is the share over total population therefore lower than official figures"
   ]
  },
  {
   "cell_type": "code",
   "execution_count": 88,
   "metadata": {},
   "outputs": [
    {
     "data": {
      "text/html": [
       "<div>\n",
       "<style scoped>\n",
       "    .dataframe tbody tr th:only-of-type {\n",
       "        vertical-align: middle;\n",
       "    }\n",
       "\n",
       "    .dataframe tbody tr th {\n",
       "        vertical-align: top;\n",
       "    }\n",
       "\n",
       "    .dataframe thead th {\n",
       "        text-align: right;\n",
       "    }\n",
       "</style>\n",
       "<table border=\"1\" class=\"dataframe\">\n",
       "  <thead>\n",
       "    <tr style=\"text-align: right;\">\n",
       "      <th></th>\n",
       "      <th>AGS</th>\n",
       "      <th>year</th>\n",
       "      <th>pop_density</th>\n",
       "      <th>unemployed</th>\n",
       "      <th>avg_age</th>\n",
       "      <th>female</th>\n",
       "    </tr>\n",
       "  </thead>\n",
       "  <tbody>\n",
       "    <tr>\n",
       "      <th>0</th>\n",
       "      <td>01001000</td>\n",
       "      <td>1990</td>\n",
       "      <td>1536.550745</td>\n",
       "      <td>NaN</td>\n",
       "      <td>NaN</td>\n",
       "      <td>NaN</td>\n",
       "    </tr>\n",
       "    <tr>\n",
       "      <th>1</th>\n",
       "      <td>01001000</td>\n",
       "      <td>1991</td>\n",
       "      <td>1547.196593</td>\n",
       "      <td>NaN</td>\n",
       "      <td>NaN</td>\n",
       "      <td>NaN</td>\n",
       "    </tr>\n",
       "    <tr>\n",
       "      <th>2</th>\n",
       "      <td>01001000</td>\n",
       "      <td>1992</td>\n",
       "      <td>1550.850461</td>\n",
       "      <td>NaN</td>\n",
       "      <td>NaN</td>\n",
       "      <td>NaN</td>\n",
       "    </tr>\n",
       "    <tr>\n",
       "      <th>3</th>\n",
       "      <td>01001000</td>\n",
       "      <td>1993</td>\n",
       "      <td>1559.000709</td>\n",
       "      <td>NaN</td>\n",
       "      <td>NaN</td>\n",
       "      <td>NaN</td>\n",
       "    </tr>\n",
       "    <tr>\n",
       "      <th>4</th>\n",
       "      <td>01001000</td>\n",
       "      <td>1994</td>\n",
       "      <td>1558.114812</td>\n",
       "      <td>NaN</td>\n",
       "      <td>NaN</td>\n",
       "      <td>NaN</td>\n",
       "    </tr>\n",
       "  </tbody>\n",
       "</table>\n",
       "</div>"
      ],
      "text/plain": [
       "        AGS  year  pop_density  unemployed  avg_age  female\n",
       "0  01001000  1990  1536.550745         NaN      NaN     NaN\n",
       "1  01001000  1991  1547.196593         NaN      NaN     NaN\n",
       "2  01001000  1992  1550.850461         NaN      NaN     NaN\n",
       "3  01001000  1993  1559.000709         NaN      NaN     NaN\n",
       "4  01001000  1994  1558.114812         NaN      NaN     NaN"
      ]
     },
     "execution_count": 88,
     "metadata": {},
     "output_type": "execute_result"
    }
   ],
   "source": [
    "# CSDiD needs controls for all years --> drop 'foreign', 'catholic', 'income_pc'\n",
    "controls = controls[['AGS', 'year', 'pop_density', 'unemployed', 'avg_age', 'female']]\n",
    "controls.head()"
   ]
  },
  {
   "cell_type": "markdown",
   "metadata": {},
   "source": [
    "Export df"
   ]
  },
  {
   "cell_type": "code",
   "execution_count": 89,
   "metadata": {},
   "outputs": [],
   "source": [
    "controls = controls.set_index(['AGS', 'year'])\n",
    "controls.to_csv(f'{path}/data/controls.csv', encoding = 'utf-8-sig')"
   ]
  },
  {
   "cell_type": "markdown",
   "metadata": {},
   "source": [
    "Since I cannot estimate LTW models for BY and HE in 2018 due to missing data for unemployed, female and avg_age forward fill values from 2017"
   ]
  },
  {
   "cell_type": "code",
   "execution_count": 90,
   "metadata": {},
   "outputs": [],
   "source": [
    "controls['unemployed'] = controls['avg_age'].fillna(method='ffill', axis='index', limit=1)\n",
    "controls['avg_age'] = controls['avg_age'].fillna(method='ffill', axis='index', limit=1)\n",
    "controls['female'] = controls['female'].fillna(method='ffill', axis='index', limit=1)"
   ]
  },
  {
   "cell_type": "code",
   "execution_count": 91,
   "metadata": {},
   "outputs": [],
   "source": [
    "controls.to_csv(f'{path}/data/controls_ltw.csv', encoding = 'utf-8-sig')"
   ]
  }
 ],
 "metadata": {
  "kernelspec": {
   "display_name": "Python 3.10.4 ('vscode')",
   "language": "python",
   "name": "python3"
  },
  "language_info": {
   "codemirror_mode": {
    "name": "ipython",
    "version": 3
   },
   "file_extension": ".py",
   "mimetype": "text/x-python",
   "name": "python",
   "nbconvert_exporter": "python",
   "pygments_lexer": "ipython3",
   "version": "3.10.4"
  },
  "orig_nbformat": 4,
  "vscode": {
   "interpreter": {
    "hash": "656f4cd1472b14b513faaa63bd5e4a7577d125de6a277113d4e82c4085557d3e"
   }
  }
 },
 "nbformat": 4,
 "nbformat_minor": 2
}
