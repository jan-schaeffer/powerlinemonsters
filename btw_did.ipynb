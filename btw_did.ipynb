{
 "cells": [
  {
   "cell_type": "markdown",
   "metadata": {},
   "source": [
    "First, import needed modules"
   ]
  },
  {
   "cell_type": "code",
   "execution_count": 20,
   "metadata": {},
   "outputs": [],
   "source": [
    "import numpy as np\n",
    "import pandas as pd\n",
    "import matplotlib.pyplot as plt\n",
    "from sklearn.linear_model import LinearRegression\n",
    "import statsmodels.api as sm\n",
    "import statsmodels.formula.api as smf\n",
    "from stargazer.stargazer import Stargazer\n",
    "from IPython.core.display import HTML\n",
    "import os"
   ]
  },
  {
   "cell_type": "markdown",
   "metadata": {},
   "source": [
    "Initalize variables"
   ]
  },
  {
   "cell_type": "code",
   "execution_count": 21,
   "metadata": {},
   "outputs": [
    {
     "name": "stdout",
     "output_type": "stream",
     "text": [
      "/Users/jan/Dropbox/UP_EPQM/2222/MA/powerlinemonsters\n"
     ]
    }
   ],
   "source": [
    "path = os.getcwd()\n",
    "print(path)"
   ]
  },
  {
   "cell_type": "markdown",
   "metadata": {},
   "source": [
    "Import datasets"
   ]
  },
  {
   "cell_type": "code",
   "execution_count": 22,
   "metadata": {},
   "outputs": [],
   "source": [
    "btw = pd.read_csv(f'{path}/data/btw_treat.csv', encoding = 'UTF-8-SIG', sep=',')\n",
    "#data = data.set_index(['AGS', 'year'])\n",
    "btw = btw[btw[\"Vote type\"] == 'office']\n",
    "btw = btw[btw[\"year\"] >= 2013]"
   ]
  },
  {
   "cell_type": "markdown",
   "metadata": {},
   "source": [
    "Split data in Erst- and Zweitstimme"
   ]
  },
  {
   "cell_type": "code",
   "execution_count": 23,
   "metadata": {},
   "outputs": [],
   "source": [
    "erst = btw[btw['first_vote'] == 1]\n",
    "zweit = btw[btw['second_vote'] == 1]"
   ]
  },
  {
   "cell_type": "code",
   "execution_count": 24,
   "metadata": {},
   "outputs": [
    {
     "data": {
      "text/plain": [
       "Index(['AGS', 'GEN', 'year', 'Land', 'post_2005', 'post_2009', 'post_2013',\n",
       "       'post_2017', 'first_vote', 'second_vote', 'Vote type', 'Wähler',\n",
       "       'Gültig', 'Union', 'SPD', 'FDP', 'Linke', 'Grüne', 'Andere',\n",
       "       'treatment', 'treated_0', 'treated_10', 'treated_20', 'treated_30',\n",
       "       'treated_50', 'treated_100'],\n",
       "      dtype='object')"
      ]
     },
     "execution_count": 24,
     "metadata": {},
     "output_type": "execute_result"
    }
   ],
   "source": [
    "erst.columns"
   ]
  },
  {
   "cell_type": "markdown",
   "metadata": {},
   "source": [
    "Statsmodels"
   ]
  },
  {
   "cell_type": "code",
   "execution_count": 25,
   "metadata": {},
   "outputs": [],
   "source": [
    "covar_names = {'treated_0:post_2017': 'treated_0*post_2017', 'treated_10:post_2017': 'treated_10*post_2017', 'treated_20:post_2017': 'treated_20*post_2017', 'treated_30:post_2017': 'treated_30*post_2017', 'treated_50:post_2017': 'treated_50*post_2017', 'treated_100:post_2017': 'treated_100*post_2017', }\n",
    "covar_order =['post_2017', 'treated_0', 'treated_10', 'treated_20','treated_30', 'treated_50', 'treated_100', 'treated_0:post_2017', 'treated_10:post_2017', 'treated_20:post_2017', 'treated_30:post_2017', 'treated_50:post_2017', 'treated_100:post_2017']\n",
    "treatment_dummies = '(treated_0 + treated_10 + treated_20 + treated_30 + treated_50 + treated_100)'"
   ]
  },
  {
   "cell_type": "markdown",
   "metadata": {},
   "source": [
    "DiD for primary vote, treatment 50 in 2017"
   ]
  },
  {
   "cell_type": "code",
   "execution_count": 26,
   "metadata": {},
   "outputs": [
    {
     "data": {
      "text/html": [
       "Effect on Primary Vote, Municipalities within 50 km of a powerline project, treatment year 2017<br><table style=\"text-align:center\"><tr><td colspan=\"7\" style=\"border-bottom: 1px solid black\"></td></tr><tr><td style=\"text-align:left\"></td><tr><td></td><td colspan=\"1\">Union</td><td colspan=\"1\">SPD</td><td colspan=\"1\">FDP</td><td colspan=\"1\">Linke</td><td colspan=\"1\">Grüne</td><td colspan=\"1\">Andere</td></tr><tr><td colspan=\"7\" style=\"border-bottom: 1px solid black\"></td></tr><tr><td style=\"text-align:left\">post_2017</td><td>-10.605<sup>***</sup></td><td>-2.874<sup>***</sup></td><td>4.122<sup>***</sup></td><td>-1.193<sup>***</sup></td><td>0.674<sup>***</sup></td><td>9.876<sup>***</sup></td></tr><tr><td style=\"text-align:left\"></td><td>(nan)</td><td>(nan)</td><td>(nan)</td><td>(nan)</td><td>(nan)</td><td>(nan)</td></tr><tr><td style=\"text-align:left\">treated_0</td><td>-0.119<sup>***</sup></td><td>1.241<sup>***</sup></td><td>-0.236<sup>***</sup></td><td>-0.695<sup>***</sup></td><td>0.055<sup>***</sup></td><td>-0.246<sup>***</sup></td></tr><tr><td style=\"text-align:left\"></td><td>(0.004)</td><td>(0.004)</td><td>(0.001)</td><td>(0.003)</td><td>(0.001)</td><td>(0.001)</td></tr><tr><td style=\"text-align:left\">treated_10</td><td>-0.314<sup>***</sup></td><td>0.779<sup>***</sup></td><td>0.027<sup>***</sup></td><td>-0.143<sup>***</sup></td><td>-0.112<sup>***</sup></td><td>-0.237<sup>***</sup></td></tr><tr><td style=\"text-align:left\"></td><td>(0.004)</td><td>(0.004)</td><td>(0.001)</td><td>(0.003)</td><td>(0.001)</td><td>(0.001)</td></tr><tr><td style=\"text-align:left\">treated_20</td><td>0.005<sup></sup></td><td>-0.318<sup>***</sup></td><td>0.045<sup>***</sup></td><td>0.358<sup>***</sup></td><td>-0.194<sup>***</sup></td><td>0.103<sup>***</sup></td></tr><tr><td style=\"text-align:left\"></td><td>(0.004)</td><td>(0.004)</td><td>(0.001)</td><td>(0.003)</td><td>(0.001)</td><td>(0.001)</td></tr><tr><td style=\"text-align:left\">treated_30</td><td>-0.136<sup>***</sup></td><td>0.362<sup>***</sup></td><td>-0.177<sup>***</sup></td><td>-0.094<sup>***</sup></td><td>0.141<sup>***</sup></td><td>-0.097<sup>***</sup></td></tr><tr><td style=\"text-align:left\"></td><td>(0.004)</td><td>(0.003)</td><td>(0.001)</td><td>(0.002)</td><td>(0.001)</td><td>(0.001)</td></tr><tr><td style=\"text-align:left\">treated_50</td><td>1.056<sup>***</sup></td><td>0.731<sup>***</sup></td><td>0.215<sup>***</sup></td><td>-1.660<sup>***</sup></td><td>0.412<sup>***</sup></td><td>-0.754<sup>***</sup></td></tr><tr><td style=\"text-align:left\"></td><td>(0.003)</td><td>(0.002)</td><td>(0.000)</td><td>(0.002)</td><td>(0.001)</td><td>(0.001)</td></tr><tr><td style=\"text-align:left\">treated_100</td><td>-2.271<sup>***</sup></td><td>4.307<sup>***</sup></td><td>0.030<sup>***</sup></td><td>-0.748<sup>***</sup></td><td>-0.471<sup>***</sup></td><td>-0.846<sup>***</sup></td></tr><tr><td style=\"text-align:left\"></td><td>(0.002)</td><td>(0.002)</td><td>(0.000)</td><td>(0.001)</td><td>(0.000)</td><td>(0.001)</td></tr><tr><td style=\"text-align:left\">treated_0*post_2017</td><td>0.655<sup>***</sup></td><td>-0.022<sup>***</sup></td><td>-0.011<sup>***</sup></td><td>0.313<sup>***</sup></td><td>0.038<sup>***</sup></td><td>-0.972<sup>***</sup></td></tr><tr><td style=\"text-align:left\"></td><td>(nan)</td><td>(nan)</td><td>(nan)</td><td>(nan)</td><td>(nan)</td><td>(nan)</td></tr><tr><td style=\"text-align:left\">treated_10*post_2017</td><td>-0.279<sup>***</sup></td><td>-0.008<sup>***</sup></td><td>-0.262<sup>***</sup></td><td>0.205<sup>***</sup></td><td>-0.013<sup>***</sup></td><td>0.359<sup>***</sup></td></tr><tr><td style=\"text-align:left\"></td><td>(nan)</td><td>(nan)</td><td>(nan)</td><td>(nan)</td><td>(nan)</td><td>(nan)</td></tr><tr><td style=\"text-align:left\">treated_20*post_2017</td><td>0.004<sup>***</sup></td><td>-0.563<sup>***</sup></td><td>0.171<sup>***</sup></td><td>-0.287<sup>***</sup></td><td>-0.010<sup>***</sup></td><td>0.686<sup>***</sup></td></tr><tr><td style=\"text-align:left\"></td><td>(nan)</td><td>(nan)</td><td>(nan)</td><td>(nan)</td><td>(nan)</td><td>(nan)</td></tr><tr><td style=\"text-align:left\">treated_30*post_2017</td><td>0.889<sup>***</sup></td><td>-0.372<sup>***</sup></td><td>-0.091<sup>***</sup></td><td>-0.138<sup>***</sup></td><td>-0.059<sup>***</sup></td><td>-0.229<sup>***</sup></td></tr><tr><td style=\"text-align:left\"></td><td>(nan)</td><td>(nan)</td><td>(nan)</td><td>(nan)</td><td>(nan)</td><td>(nan)</td></tr><tr><td style=\"text-align:left\">treated_50*post_2017</td><td>0.528<sup>***</sup></td><td>0.203<sup>***</sup></td><td>-0.225<sup>***</sup></td><td>0.625<sup>***</sup></td><td>0.112<sup>***</sup></td><td>-1.244<sup>***</sup></td></tr><tr><td style=\"text-align:left\"></td><td>(nan)</td><td>(nan)</td><td>(nan)</td><td>(nan)</td><td>(nan)</td><td>(nan)</td></tr><tr><td style=\"text-align:left\">treated_100*post_2017</td><td>1.680<sup>***</sup></td><td>-1.055<sup>***</sup></td><td>0.329<sup>***</sup></td><td>0.258<sup>***</sup></td><td>-0.052<sup>***</sup></td><td>-1.160<sup>***</sup></td></tr><tr><td style=\"text-align:left\"></td><td>(nan)</td><td>(nan)</td><td>(nan)</td><td>(nan)</td><td>(nan)</td><td>(nan)</td></tr><tr><td style=\"text-align: left\">State dummies</td><td>Yes</td><td>Yes</td><td>Yes</td><td>Yes</td><td>Yes</td><td>Yes</td></tr><td colspan=\"7\" style=\"border-bottom: 1px solid black\"></td></tr><tr><td style=\"text-align: left\">Observations</td><td>22,130</td><td>22,130</td><td>22,130</td><td>22,130</td><td>22,130</td><td>22,130</td></tr><tr><td style=\"text-align: left\">R<sup>2</sup></td><td>0.169</td><td>0.079</td><td>0.446</td><td>0.021</td><td>0.013</td><td>0.326</td></tr><tr><td style=\"text-align: left\">Adjusted R<sup>2</sup></td><td>0.168</td><td>0.078</td><td>0.446</td><td>0.021</td><td>0.013</td><td>0.326</td></tr><tr><td style=\"text-align: left\">Residual Std. Error</td><td>10.448 (df=22116)</td><td>9.884 (df=22116)</td><td>2.354 (df=22116)</td><td>6.915 (df=22116)</td><td>3.405 (df=22116)</td><td>6.637 (df=22116)</td></tr><tr><td style=\"text-align: left\">F Statistic</td><td>-410.105<sup></sup> (df=13; 22116)</td><td>34.979<sup>***</sup> (df=13; 22116)</td><td>-4100.562<sup></sup> (df=13; 22116)</td><td>31.844<sup>***</sup> (df=13; 22116)</td><td>-15.483<sup></sup> (df=13; 22116)</td><td>-1956.693<sup></sup> (df=13; 22116)</td></tr><tr><td colspan=\"7\" style=\"border-bottom: 1px solid black\"></td></tr><tr><td style=\"text-align: left\">Note:</td>\n",
       " <td colspan=\"6\" style=\"text-align: right\">\n",
       "  <sup>*</sup>p&lt;0.1;\n",
       "  <sup>**</sup>p&lt;0.05;\n",
       "  <sup>***</sup>p&lt;0.01\n",
       " </td></tr><tr><td></td><td colspan=\"6\" style=\"text-align: right\">First note</td></tr><tr><td></td><td colspan=\"6\" style=\"text-align: right\">Second note</td></tr></table>"
      ],
      "text/plain": [
       "<IPython.core.display.HTML object>"
      ]
     },
     "execution_count": 26,
     "metadata": {},
     "output_type": "execute_result"
    }
   ],
   "source": [
    "parties = ['Union',\t'SPD', 'FDP', 'Linke', 'Grüne', 'Andere']\n",
    "for party in parties:\n",
    "    locals()[party] = smf.ols(formula=f'{party} ~ {treatment_dummies}*post_2017', data=erst).fit(cov_type='cluster', cov_kwds={'groups': np.array(erst[['AGS', 'year']])}, missing='drop')\n",
    "stargazer = Stargazer([Union, SPD, FDP, Linke, Grüne, Andere])\n",
    "stargazer.title('Effect on Primary Vote, Municipalities within 50 km of a powerline project, treatment year 2017')\n",
    "stargazer.custom_columns(['Union',\t'SPD', 'FDP', 'Linke', 'Grüne', 'Andere'], [1, 1, 1, 1, 1, 1])\n",
    "stargazer.significant_digits(3)\n",
    "stargazer.covariate_order(covar_order)\n",
    "stargazer.rename_covariates(covar_names)\n",
    "stargazer.show_model_numbers(False)\n",
    "stargazer.add_custom_notes(['First note', 'Second note'])\n",
    "stargazer.add_line('State dummies', ['Yes', 'Yes', 'Yes', 'Yes', 'Yes', 'Yes', ])\n",
    "with open(f'{path}/tables/btw/erst_2017.tex', 'w') as f:\n",
    "    f.write(stargazer.render_latex())\n",
    "HTML(stargazer.render_html())"
   ]
  },
  {
   "cell_type": "code",
   "execution_count": 27,
   "metadata": {},
   "outputs": [
    {
     "name": "stdout",
     "output_type": "stream",
     "text": [
      "                            OLS Regression Results                            \n",
      "==============================================================================\n",
      "Dep. Variable:                    SPD   R-squared:                       0.079\n",
      "Model:                            OLS   Adj. R-squared:                  0.078\n",
      "Method:                 Least Squares   F-statistic:                     34.98\n",
      "Date:                Fri, 12 Aug 2022   Prob (F-statistic):           5.31e-88\n",
      "Time:                        14:35:16   Log-Likelihood:                -82092.\n",
      "No. Observations:               22130   AIC:                         1.642e+05\n",
      "Df Residuals:                   22116   BIC:                         1.643e+05\n",
      "Df Model:                          13                                         \n",
      "Covariance Type:              cluster                                         \n",
      "=========================================================================================\n",
      "                            coef    std err          z      P>|z|      [0.025      0.975]\n",
      "-----------------------------------------------------------------------------------------\n",
      "Intercept                22.7420      0.001   2.42e+04      0.000      22.740      22.744\n",
      "treated_0                 1.2405      0.004    286.982      0.000       1.232       1.249\n",
      "treated_10                0.7788      0.004    209.766      0.000       0.772       0.786\n",
      "treated_20               -0.3183      0.004    -82.699      0.000      -0.326      -0.311\n",
      "treated_30                0.3623      0.003    105.383      0.000       0.356       0.369\n",
      "treated_50                0.7313      0.002    296.670      0.000       0.726       0.736\n",
      "treated_100               4.3066      0.002   2561.156      0.000       4.303       4.310\n",
      "post_2017                -2.8737        nan        nan        nan         nan         nan\n",
      "treated_0:post_2017      -0.0224        nan        nan        nan         nan         nan\n",
      "treated_10:post_2017     -0.0085        nan        nan        nan         nan         nan\n",
      "treated_20:post_2017     -0.5627        nan        nan        nan         nan         nan\n",
      "treated_30:post_2017     -0.3720        nan        nan        nan         nan         nan\n",
      "treated_50:post_2017      0.2032        nan        nan        nan         nan         nan\n",
      "treated_100:post_2017    -1.0548        nan        nan        nan         nan         nan\n",
      "==============================================================================\n",
      "Omnibus:                      854.791   Durbin-Watson:                   0.461\n",
      "Prob(Omnibus):                  0.000   Jarque-Bera (JB):              955.567\n",
      "Skew:                           0.507   Prob(JB):                    3.17e-208\n",
      "Kurtosis:                       2.916   Cond. No.                         27.0\n",
      "==============================================================================\n",
      "\n",
      "Notes:\n",
      "[1] Standard Errors are robust to cluster correlation (cluster)\n"
     ]
    }
   ],
   "source": [
    "print(SPD.summary())"
   ]
  },
  {
   "cell_type": "markdown",
   "metadata": {},
   "source": [
    "DiD for secondary vote, treatment 50 in 2017"
   ]
  },
  {
   "cell_type": "code",
   "execution_count": 28,
   "metadata": {},
   "outputs": [
    {
     "data": {
      "text/html": [
       "Effect on Secondary Vote, Municipalities within 50 km of a powerline project, treatment year 2017<br><table style=\"text-align:center\"><tr><td colspan=\"7\" style=\"border-bottom: 1px solid black\"></td></tr><tr><td style=\"text-align:left\"></td><tr><td></td><td colspan=\"1\">Union</td><td colspan=\"1\">SPD</td><td colspan=\"1\">FDP</td><td colspan=\"1\">Linke</td><td colspan=\"1\">Grüne</td><td colspan=\"1\">Andere</td></tr><tr><td colspan=\"7\" style=\"border-bottom: 1px solid black\"></td></tr><tr><td style=\"text-align:left\">post_2017</td><td>-11.385<sup>***</sup></td><td>-3.143<sup>***</sup></td><td>5.086<sup>***</sup></td><td>-0.764<sup>***</sup></td><td>0.980<sup>***</sup></td><td>9.225<sup>***</sup></td></tr><tr><td style=\"text-align:left\"></td><td>(nan)</td><td>(nan)</td><td>(nan)</td><td>(nan)</td><td>(nan)</td><td>(0.031)</td></tr><tr><td style=\"text-align:left\">treated_0</td><td>-0.440<sup>***</sup></td><td>0.455<sup>***</sup></td><td>-0.221<sup>***</sup></td><td>0.109<sup></sup></td><td>0.158<sup>***</sup></td><td>-0.062<sup></sup></td></tr><tr><td style=\"text-align:left\"></td><td>(0.037)</td><td>(0.087)</td><td>(0.028)</td><td>(0.248)</td><td>(0.022)</td><td>(0.089)</td></tr><tr><td style=\"text-align:left\">treated_10</td><td>-0.141<sup></sup></td><td>0.312<sup>***</sup></td><td>0.059<sup>**</sup></td><td>-0.059<sup>**</sup></td><td>-0.074<sup>***</sup></td><td>-0.097<sup>***</sup></td></tr><tr><td style=\"text-align:left\"></td><td>(0.096)</td><td>(0.047)</td><td>(0.027)</td><td>(0.030)</td><td>(0.019)</td><td>(0.033)</td></tr><tr><td style=\"text-align:left\">treated_20</td><td>0.668<sup>***</sup></td><td>-0.386<sup>***</sup></td><td>0.054<sup></sup></td><td>-0.165<sup></sup></td><td>-0.133<sup>***</sup></td><td>-0.038<sup></sup></td></tr><tr><td style=\"text-align:left\"></td><td>(0.130)</td><td>(0.065)</td><td>(0.044)</td><td>(0.147)</td><td>(0.017)</td><td>(0.053)</td></tr><tr><td style=\"text-align:left\">treated_30</td><td>-0.764<sup>***</sup></td><td>0.608<sup>***</sup></td><td>-0.215<sup>***</sup></td><td>0.224<sup>***</sup></td><td>0.112<sup>***</sup></td><td>0.034<sup>*</sup></td></tr><tr><td style=\"text-align:left\"></td><td>(0.053)</td><td>(0.017)</td><td>(0.002)</td><td>(0.068)</td><td>(0.020)</td><td>(0.018)</td></tr><tr><td style=\"text-align:left\">treated_50</td><td>0.269<sup></sup></td><td>-0.178<sup>**</sup></td><td>0.208<sup>***</sup></td><td>-0.767<sup>***</sup></td><td>0.108<sup>**</sup></td><td>0.360<sup></sup></td></tr><tr><td style=\"text-align:left\"></td><td>(0.219)</td><td>(0.088)</td><td>(0.047)</td><td>(0.269)</td><td>(0.052)</td><td>(0.499)</td></tr><tr><td style=\"text-align:left\">treated_100</td><td>-2.287<sup>***</sup></td><td>1.634<sup>***</sup></td><td>-0.073<sup></sup></td><td>0.351<sup>***</sup></td><td>-0.097<sup></sup></td><td>0.473<sup></sup></td></tr><tr><td style=\"text-align:left\"></td><td>(0.591)</td><td>(0.224)</td><td>(0.055)</td><td>(0.115)</td><td>(0.203)</td><td>(0.776)</td></tr><tr><td style=\"text-align:left\">treated_0*post_2017</td><td>0.874<sup>***</sup></td><td>-0.219<sup>***</sup></td><td>-0.043<sup>***</sup></td><td>0.423<sup>***</sup></td><td>-0.270<sup>***</sup></td><td>-0.764<sup>***</sup></td></tr><tr><td style=\"text-align:left\"></td><td>(nan)</td><td>(nan)</td><td>(nan)</td><td>(nan)</td><td>(nan)</td><td>(nan)</td></tr><tr><td style=\"text-align:left\">treated_10*post_2017</td><td>-0.273<sup>***</sup></td><td>-0.025<sup>***</sup></td><td>-0.071<sup>***</sup></td><td>0.152<sup>***</sup></td><td>-0.104<sup>***</sup></td><td>0.320<sup>***</sup></td></tr><tr><td style=\"text-align:left\"></td><td>(nan)</td><td>(nan)</td><td>(nan)</td><td>(nan)</td><td>(nan)</td><td>(nan)</td></tr><tr><td style=\"text-align:left\">treated_20*post_2017</td><td>0.020<sup>***</sup></td><td>-0.382<sup>***</sup></td><td>0.076<sup>***</sup></td><td>-0.151<sup>***</sup></td><td>0.103<sup>***</sup></td><td>0.335<sup>***</sup></td></tr><tr><td style=\"text-align:left\"></td><td>(nan)</td><td>(nan)</td><td>(nan)</td><td>(nan)</td><td>(nan)</td><td>(nan)</td></tr><tr><td style=\"text-align:left\">treated_30*post_2017</td><td>0.567<sup>***</sup></td><td>-0.168<sup>***</sup></td><td>0.135<sup>***</sup></td><td>-0.156<sup>***</sup></td><td>-0.044<sup>***</sup></td><td>-0.333<sup>***</sup></td></tr><tr><td style=\"text-align:left\"></td><td>(nan)</td><td>(nan)</td><td>(nan)</td><td>(nan)</td><td>(nan)</td><td>(nan)</td></tr><tr><td style=\"text-align:left\">treated_50*post_2017</td><td>0.567<sup>***</sup></td><td>0.010<sup>***</sup></td><td>-0.032<sup>***</sup></td><td>0.785<sup>***</sup></td><td>0.176<sup>***</sup></td><td>-1.505<sup>***</sup></td></tr><tr><td style=\"text-align:left\"></td><td>(nan)</td><td>(nan)</td><td>(nan)</td><td>(nan)</td><td>(nan)</td><td>(nan)</td></tr><tr><td style=\"text-align:left\">treated_100*post_2017</td><td>1.789<sup>***</sup></td><td>-0.286<sup>***</sup></td><td>0.214<sup>***</sup></td><td>-0.055<sup>***</sup></td><td>-0.494<sup>***</sup></td><td>-1.168<sup>***</sup></td></tr><tr><td style=\"text-align:left\"></td><td>(nan)</td><td>(nan)</td><td>(nan)</td><td>(nan)</td><td>(nan)</td><td>(0.024)</td></tr><td colspan=\"7\" style=\"border-bottom: 1px solid black\"></td></tr><tr><td style=\"text-align: left\">Observations</td><td>22,130</td><td>22,130</td><td>22,130</td><td>22,130</td><td>22,130</td><td>22,130</td></tr><tr><td style=\"text-align: left\">R<sup>2</sup></td><td>0.403</td><td>0.528</td><td>0.615</td><td>0.758</td><td>0.431</td><td>0.627</td></tr><tr><td style=\"text-align: left\">Adjusted R<sup>2</sup></td><td>0.402</td><td>0.528</td><td>0.615</td><td>0.758</td><td>0.430</td><td>0.627</td></tr><tr><td style=\"text-align: left\">Residual Std. Error</td><td>8.052 (df=22101)</td><td>5.800 (df=22101)</td><td>2.424 (df=22101)</td><td>3.125 (df=22101)</td><td>2.724 (df=22101)</td><td>4.765 (df=22101)</td></tr><tr><td style=\"text-align: left\">F Statistic</td><td>180.377<sup>***</sup> (df=28; 22101)</td><td>1160.297<sup>***</sup> (df=28; 22101)</td><td>-2053.697<sup></sup> (df=28; 22101)</td><td>580.198<sup>***</sup> (df=28; 22101)</td><td>208.846<sup>***</sup> (df=28; 22101)</td><td>8732.240<sup>***</sup> (df=28; 22101)</td></tr><tr><td colspan=\"7\" style=\"border-bottom: 1px solid black\"></td></tr><tr><td style=\"text-align: left\">Note:</td>\n",
       " <td colspan=\"6\" style=\"text-align: right\">\n",
       "  <sup>*</sup>p&lt;0.1;\n",
       "  <sup>**</sup>p&lt;0.05;\n",
       "  <sup>***</sup>p&lt;0.01\n",
       " </td></tr></table>"
      ],
      "text/plain": [
       "<IPython.core.display.HTML object>"
      ]
     },
     "execution_count": 28,
     "metadata": {},
     "output_type": "execute_result"
    }
   ],
   "source": [
    "parties = ['Union',\t'SPD', 'FDP', 'Linke', 'Grüne', 'Andere']\n",
    "for party in parties:\n",
    "    locals()[party] = smf.ols(formula=f'{party} ~ ({treatment_dummies})*post_2017 + Land', data=zweit).fit(cov_type='cluster', cov_kwds={'groups': np.array(zweit[['AGS', 'year']])}) #np.array(zweit[['AGS', 'year']])\n",
    "stargazer = Stargazer([Union, SPD, FDP, Linke, Grüne, Andere])\n",
    "stargazer.title('Effect on Secondary Vote, Municipalities within 50 km of a powerline project, treatment year 2017')\n",
    "stargazer.custom_columns(['Union',\t'SPD', 'FDP', 'Linke', 'Grüne', 'Andere'], [1, 1, 1, 1, 1, 1])\n",
    "stargazer.significant_digits(3)\n",
    "stargazer.covariate_order(covar_order)\n",
    "stargazer.rename_covariates(covar_names)\n",
    "stargazer.show_model_numbers(False)\n",
    "stargazer.show_model_numbers(False)\n",
    "with open(f'{path}/tables/btw/zweit_2017.tex', 'w') as f:\n",
    "    f.write(stargazer.render_latex())\n",
    "HTML(stargazer.render_html())"
   ]
  },
  {
   "cell_type": "markdown",
   "metadata": {},
   "source": [
    "Placebo DiD for treatments in 2005, 2009, 2013"
   ]
  },
  {
   "cell_type": "markdown",
   "metadata": {},
   "source": [
    "Drop all observations after the treatment"
   ]
  },
  {
   "cell_type": "code",
   "execution_count": 29,
   "metadata": {},
   "outputs": [],
   "source": [
    "erst_pl = erst[erst['year'] <= 2013]\n",
    "zweit_pl = zweit[zweit['year'] <= 2013]"
   ]
  },
  {
   "cell_type": "markdown",
   "metadata": {},
   "source": [
    "Primary vote, post 2005"
   ]
  },
  {
   "cell_type": "code",
   "execution_count": 30,
   "metadata": {},
   "outputs": [],
   "source": [
    "time_dummies = '(post_2005 + post_2009 + post_2013)'"
   ]
  },
  {
   "cell_type": "code",
   "execution_count": 31,
   "metadata": {},
   "outputs": [
    {
     "name": "stderr",
     "output_type": "stream",
     "text": [
      "/opt/homebrew/Caskroom/miniconda/base/envs/vscode/lib/python3.10/site-packages/statsmodels/base/model.py:1871: ValueWarning: covariance of constraints does not have full rank. The number of constraints is 27, but rank is 22\n",
      "  warnings.warn('covariance of constraints does not have full '\n",
      "/opt/homebrew/Caskroom/miniconda/base/envs/vscode/lib/python3.10/site-packages/statsmodels/base/model.py:1871: ValueWarning: covariance of constraints does not have full rank. The number of constraints is 27, but rank is 22\n",
      "  warnings.warn('covariance of constraints does not have full '\n",
      "/opt/homebrew/Caskroom/miniconda/base/envs/vscode/lib/python3.10/site-packages/statsmodels/base/model.py:1871: ValueWarning: covariance of constraints does not have full rank. The number of constraints is 27, but rank is 22\n",
      "  warnings.warn('covariance of constraints does not have full '\n",
      "/opt/homebrew/Caskroom/miniconda/base/envs/vscode/lib/python3.10/site-packages/statsmodels/base/model.py:1871: ValueWarning: covariance of constraints does not have full rank. The number of constraints is 27, but rank is 22\n",
      "  warnings.warn('covariance of constraints does not have full '\n",
      "/opt/homebrew/Caskroom/miniconda/base/envs/vscode/lib/python3.10/site-packages/statsmodels/base/model.py:1871: ValueWarning: covariance of constraints does not have full rank. The number of constraints is 27, but rank is 22\n",
      "  warnings.warn('covariance of constraints does not have full '\n",
      "/opt/homebrew/Caskroom/miniconda/base/envs/vscode/lib/python3.10/site-packages/statsmodels/base/model.py:1871: ValueWarning: covariance of constraints does not have full rank. The number of constraints is 27, but rank is 22\n",
      "  warnings.warn('covariance of constraints does not have full '\n"
     ]
    },
    {
     "data": {
      "text/html": [
       "Effect on Secondary Vote, Municipalities within 50 km of a powerline project, treatment year 2005<br><table style=\"text-align:center\"><tr><td colspan=\"7\" style=\"border-bottom: 1px solid black\"></td></tr><tr><td style=\"text-align:left\"></td><tr><td></td><td colspan=\"1\">Union</td><td colspan=\"1\">SPD</td><td colspan=\"1\">FDP</td><td colspan=\"1\">Linke</td><td colspan=\"1\">Grüne</td><td colspan=\"1\">Andere</td></tr><tr><td colspan=\"7\" style=\"border-bottom: 1px solid black\"></td></tr><tr><td style=\"text-align:left\">Intercept</td><td>-40123901882239.781<sup>***</sup></td><td>36397844231307.562<sup>***</sup></td><td>-1045058257515.329<sup>***</sup></td><td>-3145896366669.916<sup>***</sup></td><td>9641196234277.016<sup>***</sup></td><td>-1724183958989.910<sup>***</sup></td></tr><tr><td style=\"text-align:left\"></td><td>(171156562850.975)</td><td>(266909834058.046)</td><td>(nan)</td><td>(558639621451.082)</td><td>(100243509752.640)</td><td>(483019331347.949)</td></tr><tr><td style=\"text-align:left\">post_2005</td><td>13374633979537.797<sup>*</sup></td><td>-12132614768458.596<sup>*</sup></td><td>348352754229.186<sup></sup></td><td>1048632128307.284<sup></sup></td><td>-3213732078590.192<sup></sup></td><td>574727984951.449<sup></sup></td></tr><tr><td style=\"text-align:left\"></td><td>(7785855729124.560)</td><td>(6986349694982.393)</td><td>(1285085617567.977)</td><td>(5860588572318.867)</td><td>(2102314630294.099)</td><td>(2555656651331.164)</td></tr><tr><td style=\"text-align:left\">post_2009</td><td>13374633951377.303<sup>*</sup></td><td>-12132614731413.281<sup>*</sup></td><td>348352751644.135<sup></sup></td><td>1048632119186.054<sup></sup></td><td>-3213732077840.823<sup>*</sup></td><td>574727987023.467<sup></sup></td></tr><tr><td style=\"text-align:left\"></td><td>(7218888758291.337)</td><td>(6888315182957.961)</td><td>(1163350503769.565)</td><td>(5742830032037.193)</td><td>(1881199999114.731)</td><td>(2380696102546.981)</td></tr><tr><td style=\"text-align:left\">post_2013</td><td>13374633951377.195<sup>*</sup></td><td>-12132614731413.119<sup>*</sup></td><td>348352751644.125<sup></sup></td><td>1048632119186.012<sup></sup></td><td>-3213732077840.823<sup></sup></td><td>574727987023.469<sup></sup></td></tr><tr><td style=\"text-align:left\"></td><td>(7912516712628.835)</td><td>(7130859333160.496)</td><td>(1198043624012.134)</td><td>(5788749756849.953)</td><td>(2115401118993.239)</td><td>(2563223453220.237)</td></tr><tr><td style=\"text-align:left\">treated_0</td><td>4884247248854.511<sup>*</sup></td><td>-5045212386983.306<sup>*</sup></td><td>53324496037.764<sup></sup></td><td>791858823087.857<sup></sup></td><td>-1048078712246.253<sup>**</sup></td><td>363860531248.795<sup></sup></td></tr><tr><td style=\"text-align:left\"></td><td>(2521175011267.409)</td><td>(2593052341017.298)</td><td>(271781514764.334)</td><td>(1576279634214.958)</td><td>(528505257784.004)</td><td>(688598688983.449)</td></tr><tr><td style=\"text-align:left\">treated_0:post_2005</td><td>-1628082416282.458<sup>**</sup></td><td>1681737462324.930<sup>**</sup></td><td>-17774832012.429<sup></sup></td><td>-263952941028.691<sup></sup></td><td>349359570748.768<sup>**</sup></td><td>-121286843749.899<sup></sup></td></tr><tr><td style=\"text-align:left\"></td><td>(819495949134.557)</td><td>(843880788031.174)</td><td>(87916293377.883)</td><td>(511175631176.167)</td><td>(171415368770.875)</td><td>(223159471260.141)</td></tr><tr><td style=\"text-align:left\">treated_0:post_2009</td><td>-1628082416286.280<sup>**</sup></td><td>1681737462330.013<sup>**</sup></td><td>-17774832012.792<sup></sup></td><td>-263952941029.956<sup></sup></td><td>349359570748.841<sup>**</sup></td><td>-121286843749.592<sup></sup></td></tr><tr><td style=\"text-align:left\"></td><td>(818755405637.700)</td><td>(842665362360.493)</td><td>(88075125531.244)</td><td>(511677442867.244)</td><td>(171605397932.483)</td><td>(223397423219.694)</td></tr><tr><td style=\"text-align:left\">treated_0:post_2013</td><td>-1628082416286.281<sup>**</sup></td><td>1681737462330.013<sup>**</sup></td><td>-17774832012.793<sup></sup></td><td>-263952941029.956<sup></sup></td><td>349359570748.841<sup>**</sup></td><td>-121286843749.592<sup></sup></td></tr><tr><td style=\"text-align:left\"></td><td>(818816840865.019)</td><td>(843966471819.908)</td><td>(88122466187.495)</td><td>(511649340918.922)</td><td>(171701665815.092)</td><td>(223444666964.994)</td></tr><tr><td style=\"text-align:left\">treated_10</td><td>-2322146998222.904<sup>*</sup></td><td>2596518473770.533<sup>*</sup></td><td>592590914.281<sup></sup></td><td>-444139272183.018<sup></sup></td><td>297630183470.304<sup></sup></td><td>-128454977749.922<sup></sup></td></tr><tr><td style=\"text-align:left\"></td><td>(1408225017273.634)</td><td>(1433134633292.710)</td><td>(208938131053.068)</td><td>(1036392582839.224)</td><td>(335969065773.733)</td><td>(443852516187.723)</td></tr><tr><td style=\"text-align:left\">treated_100</td><td>721727351703.430<sup></sup></td><td>-1530834112348.594<sup></sup></td><td>-330335836524.235<sup></sup></td><td>1218285373309.177<sup></sup></td><td>650045271639.669<sup></sup></td><td>-728888047778.648<sup></sup></td></tr><tr><td style=\"text-align:left\"></td><td>(3055601200755.088)</td><td>(2980312548323.163)</td><td>(495796411304.144)</td><td>(2447837121403.025)</td><td>(831782591420.811)</td><td>(1040102014635.325)</td></tr><tr><td style=\"text-align:left\">treated_100:post_2005</td><td>-240575783896.280<sup></sup></td><td>510278037443.687<sup></sup></td><td>110111945508.636<sup></sup></td><td>-406095124434.919<sup></sup></td><td>-216681757213.585<sup></sup></td><td>242962682592.255<sup></sup></td></tr><tr><td style=\"text-align:left\"></td><td>(1001834608594.594)</td><td>(971997485792.294)</td><td>(162752859947.899)</td><td>(803813865712.275)</td><td>(273223550143.693)</td><td>(343156969556.558)</td></tr><tr><td style=\"text-align:left\">treated_100:post_2009</td><td>-240575783904.681<sup></sup></td><td>510278037454.690<sup></sup></td><td>110111945507.831<sup></sup></td><td>-406095124437.554<sup></sup></td><td>-216681757213.303<sup></sup></td><td>242962682592.814<sup></sup></td></tr><tr><td style=\"text-align:left\"></td><td>(998842684536.198)</td><td>(974795251782.870)</td><td>(161735728963.145)</td><td>(803079926353.937)</td><td>(272356520616.278)</td><td>(343577829142.538)</td></tr><tr><td style=\"text-align:left\">treated_100:post_2013</td><td>-240575783904.681<sup></sup></td><td>510278037454.690<sup></sup></td><td>110111945507.831<sup></sup></td><td>-406095124437.554<sup></sup></td><td>-216681757213.303<sup></sup></td><td>242962682592.814<sup></sup></td></tr><tr><td style=\"text-align:left\"></td><td>(998842684536.198)</td><td>(974795251782.870)</td><td>(161735728963.145)</td><td>(803079926353.937)</td><td>(272356520616.278)</td><td>(343577829142.538)</td></tr><tr><td style=\"text-align:left\">treated_10:post_2005</td><td>774048999419.375<sup></sup></td><td>-865506157938.905<sup>*</sup></td><td>-197530303.635<sup></sup></td><td>148046424064.844<sup></sup></td><td>-99210061157.083<sup></sup></td><td>42818325915.645<sup></sup></td></tr><tr><td style=\"text-align:left\"></td><td>(470878096830.871)</td><td>(478383485840.712)</td><td>(69715426026.798)</td><td>(346680261582.844)</td><td>(112165536890.984)</td><td>(148307648507.179)</td></tr><tr><td style=\"text-align:left\">treated_10:post_2009</td><td>774048999401.501<sup>*</sup></td><td>-865506157915.344<sup>*</sup></td><td>-197530305.296<sup></sup></td><td>148046424059.026<sup></sup></td><td>-99210061156.629<sup></sup></td><td>42818325916.989<sup></sup></td></tr><tr><td style=\"text-align:left\"></td><td>(470448015211.495)</td><td>(478811343931.161)</td><td>(69641582548.117)</td><td>(345977891181.983)</td><td>(112110287270.808)</td><td>(148309025834.019)</td></tr><tr><td style=\"text-align:left\">treated_10:post_2013</td><td>774048999401.501<sup>*</sup></td><td>-865506157915.344<sup>*</sup></td><td>-197530305.296<sup></sup></td><td>148046424059.026<sup></sup></td><td>-99210061156.629<sup></sup></td><td>42818325916.989<sup></sup></td></tr><tr><td style=\"text-align:left\"></td><td>(470448015211.495)</td><td>(478811343931.161)</td><td>(69641582548.117)</td><td>(345977891181.983)</td><td>(112110287270.808)</td><td>(148309025834.019)</td></tr><tr><td style=\"text-align:left\">treated_20</td><td>13190621789966.355<sup></sup></td><td>-17316111717233.674<sup></sup></td><td>918777674065.970<sup></sup></td><td>4463710726430.008<sup></sup></td><td>-245852047301.702<sup></sup></td><td>-1011146425933.660<sup></sup></td></tr><tr><td style=\"text-align:left\"></td><td>(13965241142451.699)</td><td>(14612171052109.365)</td><td>(1938661471663.967)</td><td>(10474007017102.848)</td><td>(3466732811982.348)</td><td>(4471551932846.821)</td></tr><tr><td style=\"text-align:left\">treated_20:post_2005</td><td>-4396873929988.470<sup></sup></td><td>5772037239077.276<sup></sup></td><td>-306259224688.632<sup></sup></td><td>-1487903575476.457<sup></sup></td><td>81950682433.834<sup></sup></td><td>337048808644.495<sup></sup></td></tr><tr><td style=\"text-align:left\"></td><td>(3536521330059.138)</td><td>(3662142404112.093)</td><td>(505550567633.700)</td><td>(2680307720528.041)</td><td>(909525928964.615)</td><td>(1158778158532.228)</td></tr><tr><td style=\"text-align:left\">treated_20:post_2009</td><td>-4396873929989.089<sup></sup></td><td>5772037239078.067<sup></sup></td><td>-306259224688.713<sup></sup></td><td>-1487903575476.641<sup></sup></td><td>81950682433.858<sup></sup></td><td>337048808644.542<sup></sup></td></tr><tr><td style=\"text-align:left\"></td><td>(3480329540836.152)</td><td>(3640752200682.680)</td><td>(513633165995.847)</td><td>(2625254675535.583)</td><td>(896992594785.401)</td><td>(1154308790291.509)</td></tr><tr><td style=\"text-align:left\">treated_20:post_2013</td><td>-4396873929989.089<sup></sup></td><td>5772037239078.067<sup></sup></td><td>-306259224688.713<sup></sup></td><td>-1487903575476.641<sup></sup></td><td>81950682433.858<sup></sup></td><td>337048808644.542<sup></sup></td></tr><tr><td style=\"text-align:left\"></td><td>(3480329540836.152)</td><td>(3640752200682.680)</td><td>(513633165995.847)</td><td>(2625254675535.583)</td><td>(896992594785.401)</td><td>(1154308790291.509)</td></tr><tr><td style=\"text-align:left\">treated_30</td><td>-535827928902.189<sup></sup></td><td>96970917187.843<sup></sup></td><td>-1507787847022.059<sup>*</sup></td><td>1495230574828.325<sup></sup></td><td>508324823883.086<sup></sup></td><td>-56910539974.472<sup></sup></td></tr><tr><td style=\"text-align:left\"></td><td>(5400624134103.074)</td><td>(5272321650726.729)</td><td>(802218819000.958)</td><td>(3809497636536.287)</td><td>(1458792805216.626)</td><td>(1602915650519.690)</td></tr><tr><td style=\"text-align:left\">treated_30:post_2005</td><td>178609309630.228<sup></sup></td><td>-32323639057.582<sup></sup></td><td>502595949006.869<sup>*</sup></td><td>-498410191610.569<sup></sup></td><td>-169441607960.861<sup></sup></td><td>18970179991.744<sup></sup></td></tr><tr><td style=\"text-align:left\"></td><td>(1818454632927.350)</td><td>(1786132388345.820)</td><td>(271338457530.596)</td><td>(1276467905487.701)</td><td>(496006632092.961)</td><td>(546283192083.392)</td></tr><tr><td style=\"text-align:left\">treated_30:post_2009</td><td>178609309635.764<sup></sup></td><td>-32323639064.793<sup></sup></td><td>502595949007.526<sup>*</sup></td><td>-498410191608.949<sup></sup></td><td>-169441607961.061<sup></sup></td><td>18970179991.344<sup></sup></td></tr><tr><td style=\"text-align:left\"></td><td>(1807338204165.502)</td><td>(1746638558650.784)</td><td>(272633451178.733)</td><td>(1262547432671.245)</td><td>(493084244231.252)</td><td>(542131685793.478)</td></tr><tr><td style=\"text-align:left\">treated_30:post_2013</td><td>178609309635.764<sup></sup></td><td>-32323639064.793<sup></sup></td><td>502595949007.526<sup>*</sup></td><td>-498410191608.949<sup></sup></td><td>-169441607961.061<sup></sup></td><td>18970179991.344<sup></sup></td></tr><tr><td style=\"text-align:left\"></td><td>(1807338204165.502)</td><td>(1746638558650.784)</td><td>(272633451178.733)</td><td>(1262547432671.245)</td><td>(493084244231.252)</td><td>(542131685793.478)</td></tr><tr><td style=\"text-align:left\">treated_50</td><td>-4935395657180.253<sup></sup></td><td>3916654661218.025<sup></sup></td><td>-938411272358.423<sup></sup></td><td>1141346275861.666<sup></sup></td><td>395083245055.819<sup></sup></td><td>420722747402.291<sup></sup></td></tr><tr><td style=\"text-align:left\"></td><td>(4193018258519.267)</td><td>(4025443368067.740)</td><td>(704744614306.755)</td><td>(2758425232470.083)</td><td>(967826862612.661)</td><td>(1237892560289.619)</td></tr><tr><td style=\"text-align:left\">treated_50:post_2005</td><td>1645131885728.697<sup></sup></td><td>-1305551553741.227<sup></sup></td><td>312803757453.050<sup></sup></td><td>-380448758620.678<sup></sup></td><td>-131694415018.518<sup></sup></td><td>-140240915801.141<sup></sup></td></tr><tr><td style=\"text-align:left\"></td><td>(1317748723117.396)</td><td>(1267052443212.279)</td><td>(223822695295.853)</td><td>(867304600665.787)</td><td>(305872006919.510)</td><td>(391655268284.012)</td></tr><tr><td style=\"text-align:left\">treated_50:post_2009</td><td>1645131885726.420<sup></sup></td><td>-1305551553738.272<sup></sup></td><td>312803757452.827<sup></sup></td><td>-380448758621.344<sup></sup></td><td>-131694415018.451<sup></sup></td><td>-140240915800.970<sup></sup></td></tr><tr><td style=\"text-align:left\"></td><td>(1322441593342.557)</td><td>(1263616319510.625)</td><td>(223362017114.352)</td><td>(874446688525.443)</td><td>(307389538762.768)</td><td>(394425611514.118)</td></tr><tr><td style=\"text-align:left\">treated_50:post_2013</td><td>1645131885726.420<sup></sup></td><td>-1305551553738.272<sup></sup></td><td>312803757452.827<sup></sup></td><td>-380448758621.344<sup></sup></td><td>-131694415018.451<sup></sup></td><td>-140240915800.970<sup></sup></td></tr><tr><td style=\"text-align:left\"></td><td>(1322441593342.557)</td><td>(1263616319510.625)</td><td>(223362017114.352)</td><td>(874446688525.443)</td><td>(307389538762.768)</td><td>(394425611514.118)</td></tr><td colspan=\"7\" style=\"border-bottom: 1px solid black\"></td></tr><tr><td style=\"text-align: left\">Observations</td><td>11,151</td><td>11,151</td><td>11,151</td><td>11,151</td><td>11,151</td><td>11,151</td></tr><tr><td style=\"text-align: left\">R<sup>2</sup></td><td>0.006</td><td>0.057</td><td>0.002</td><td>0.016</td><td>0.003</td><td>0.041</td></tr><tr><td style=\"text-align: left\">Adjusted R<sup>2</sup></td><td>0.005</td><td>0.056</td><td>0.001</td><td>0.015</td><td>0.002</td><td>0.040</td></tr><tr><td style=\"text-align: left\">Residual Std. Error</td><td>10.798 (df=11140)</td><td>10.321 (df=11140)</td><td>1.746 (df=11140)</td><td>8.315 (df=11140)</td><td>2.950 (df=11140)</td><td>3.605 (df=11140)</td></tr><tr><td style=\"text-align: left\">F Statistic</td><td>3.066<sup>***</sup> (df=10; 11140)</td><td>1.382<sup></sup> (df=10; 11140)</td><td>0.618<sup></sup> (df=10; 11140)</td><td>0.524<sup></sup> (df=10; 11140)</td><td>-17.667<sup></sup> (df=10; 11140)</td><td>0.053<sup></sup> (df=10; 11140)</td></tr><tr><td colspan=\"7\" style=\"border-bottom: 1px solid black\"></td></tr><tr><td style=\"text-align: left\">Note:</td>\n",
       " <td colspan=\"6\" style=\"text-align: right\">\n",
       "  <sup>*</sup>p&lt;0.1;\n",
       "  <sup>**</sup>p&lt;0.05;\n",
       "  <sup>***</sup>p&lt;0.01\n",
       " </td></tr></table>"
      ],
      "text/plain": [
       "<IPython.core.display.HTML object>"
      ]
     },
     "execution_count": 31,
     "metadata": {},
     "output_type": "execute_result"
    }
   ],
   "source": [
    "parties = ['Union',\t'SPD', 'FDP', 'Linke', 'Grüne', 'Andere']\n",
    "for party in parties:\n",
    "    locals()[party] = smf.ols(formula=f'{party} ~ {treatment_dummies}*{time_dummies}', data=erst_pl).fit(cov_type='cluster', cov_kwds={'groups': np.array(erst_pl[['AGS']])})\n",
    "stargazer = Stargazer([Union, SPD, FDP, Linke, Grüne, Andere])\n",
    "stargazer.title('Effect on Secondary Vote, Municipalities within 50 km of a powerline project, treatment year 2005')\n",
    "stargazer.custom_columns(['Union',\t'SPD', 'FDP', 'Linke', 'Grüne', 'Andere'], [1, 1, 1, 1, 1, 1])\n",
    "stargazer.show_model_numbers(False)\n",
    "with open(f'{path}/tables/btw/erst_2005.tex', 'w') as f:\n",
    "    f.write(stargazer.render_latex())\n",
    "HTML(stargazer.render_html())"
   ]
  },
  {
   "cell_type": "markdown",
   "metadata": {},
   "source": [
    "Secondary vote, post 2005"
   ]
  },
  {
   "cell_type": "code",
   "execution_count": 32,
   "metadata": {},
   "outputs": [
    {
     "ename": "ZeroDivisionError",
     "evalue": "float division by zero",
     "output_type": "error",
     "traceback": [
      "\u001b[0;31m---------------------------------------------------------------------------\u001b[0m",
      "\u001b[0;31mZeroDivisionError\u001b[0m                         Traceback (most recent call last)",
      "\u001b[1;32m/Users/jan/Dropbox/UP_EPQM/2222/MA/powerlinemonsters/btw_did.ipynb Cell 24\u001b[0m in \u001b[0;36m<cell line: 2>\u001b[0;34m()\u001b[0m\n\u001b[1;32m      <a href='vscode-notebook-cell:/Users/jan/Dropbox/UP_EPQM/2222/MA/powerlinemonsters/btw_did.ipynb#X32sZmlsZQ%3D%3D?line=0'>1</a>\u001b[0m parties \u001b[39m=\u001b[39m [\u001b[39m'\u001b[39m\u001b[39mUnion\u001b[39m\u001b[39m'\u001b[39m,\t\u001b[39m'\u001b[39m\u001b[39mSPD\u001b[39m\u001b[39m'\u001b[39m, \u001b[39m'\u001b[39m\u001b[39mFDP\u001b[39m\u001b[39m'\u001b[39m, \u001b[39m'\u001b[39m\u001b[39mLinke\u001b[39m\u001b[39m'\u001b[39m, \u001b[39m'\u001b[39m\u001b[39mGrüne\u001b[39m\u001b[39m'\u001b[39m, \u001b[39m'\u001b[39m\u001b[39mAndere\u001b[39m\u001b[39m'\u001b[39m]\n\u001b[1;32m      <a href='vscode-notebook-cell:/Users/jan/Dropbox/UP_EPQM/2222/MA/powerlinemonsters/btw_did.ipynb#X32sZmlsZQ%3D%3D?line=1'>2</a>\u001b[0m \u001b[39mfor\u001b[39;00m party \u001b[39min\u001b[39;00m parties:\n\u001b[0;32m----> <a href='vscode-notebook-cell:/Users/jan/Dropbox/UP_EPQM/2222/MA/powerlinemonsters/btw_did.ipynb#X32sZmlsZQ%3D%3D?line=2'>3</a>\u001b[0m     \u001b[39mlocals\u001b[39m()[party] \u001b[39m=\u001b[39m smf\u001b[39m.\u001b[39;49mols(formula\u001b[39m=\u001b[39;49m\u001b[39mf\u001b[39;49m\u001b[39m'\u001b[39;49m\u001b[39m{\u001b[39;49;00mparty\u001b[39m}\u001b[39;49;00m\u001b[39m ~ treated_50*post_2005 + Land\u001b[39;49m\u001b[39m'\u001b[39;49m, data\u001b[39m=\u001b[39;49mzweit_pl)\u001b[39m.\u001b[39;49mfit(cov_type\u001b[39m=\u001b[39;49m\u001b[39m'\u001b[39;49m\u001b[39mcluster\u001b[39;49m\u001b[39m'\u001b[39;49m, cov_kwds\u001b[39m=\u001b[39;49m{\u001b[39m'\u001b[39;49m\u001b[39mgroups\u001b[39;49m\u001b[39m'\u001b[39;49m: np\u001b[39m.\u001b[39;49marray(zweit_pl[[\u001b[39m'\u001b[39;49m\u001b[39mAGS\u001b[39;49m\u001b[39m'\u001b[39;49m, \u001b[39m'\u001b[39;49m\u001b[39myear\u001b[39;49m\u001b[39m'\u001b[39;49m]])}) \u001b[39m# zweit['AGS']\u001b[39;00m\n\u001b[1;32m      <a href='vscode-notebook-cell:/Users/jan/Dropbox/UP_EPQM/2222/MA/powerlinemonsters/btw_did.ipynb#X32sZmlsZQ%3D%3D?line=3'>4</a>\u001b[0m stargazer \u001b[39m=\u001b[39m Stargazer([Union, SPD, FDP, Linke, Grüne, Andere])\n\u001b[1;32m      <a href='vscode-notebook-cell:/Users/jan/Dropbox/UP_EPQM/2222/MA/powerlinemonsters/btw_did.ipynb#X32sZmlsZQ%3D%3D?line=4'>5</a>\u001b[0m stargazer\u001b[39m.\u001b[39mtitle(\u001b[39m'\u001b[39m\u001b[39mEffect on Secondary Vote, Municipalities within 50 km of a powerline project, treatment year 2005\u001b[39m\u001b[39m'\u001b[39m)\n",
      "File \u001b[0;32m/opt/homebrew/Caskroom/miniconda/base/envs/vscode/lib/python3.10/site-packages/statsmodels/regression/linear_model.py:343\u001b[0m, in \u001b[0;36mRegressionModel.fit\u001b[0;34m(self, method, cov_type, cov_kwds, use_t, **kwargs)\u001b[0m\n\u001b[1;32m    340\u001b[0m     \u001b[39mself\u001b[39m\u001b[39m.\u001b[39mdf_resid \u001b[39m=\u001b[39m \u001b[39mself\u001b[39m\u001b[39m.\u001b[39mnobs \u001b[39m-\u001b[39m \u001b[39mself\u001b[39m\u001b[39m.\u001b[39mrank\n\u001b[1;32m    342\u001b[0m \u001b[39mif\u001b[39;00m \u001b[39misinstance\u001b[39m(\u001b[39mself\u001b[39m, OLS):\n\u001b[0;32m--> 343\u001b[0m     lfit \u001b[39m=\u001b[39m OLSResults(\n\u001b[1;32m    344\u001b[0m         \u001b[39mself\u001b[39;49m, beta,\n\u001b[1;32m    345\u001b[0m         normalized_cov_params\u001b[39m=\u001b[39;49m\u001b[39mself\u001b[39;49m\u001b[39m.\u001b[39;49mnormalized_cov_params,\n\u001b[1;32m    346\u001b[0m         cov_type\u001b[39m=\u001b[39;49mcov_type, cov_kwds\u001b[39m=\u001b[39;49mcov_kwds, use_t\u001b[39m=\u001b[39;49muse_t)\n\u001b[1;32m    347\u001b[0m \u001b[39melse\u001b[39;00m:\n\u001b[1;32m    348\u001b[0m     lfit \u001b[39m=\u001b[39m RegressionResults(\n\u001b[1;32m    349\u001b[0m         \u001b[39mself\u001b[39m, beta,\n\u001b[1;32m    350\u001b[0m         normalized_cov_params\u001b[39m=\u001b[39m\u001b[39mself\u001b[39m\u001b[39m.\u001b[39mnormalized_cov_params,\n\u001b[1;32m    351\u001b[0m         cov_type\u001b[39m=\u001b[39mcov_type, cov_kwds\u001b[39m=\u001b[39mcov_kwds, use_t\u001b[39m=\u001b[39muse_t,\n\u001b[1;32m    352\u001b[0m         \u001b[39m*\u001b[39m\u001b[39m*\u001b[39mkwargs)\n",
      "File \u001b[0;32m/opt/homebrew/Caskroom/miniconda/base/envs/vscode/lib/python3.10/site-packages/statsmodels/regression/linear_model.py:1607\u001b[0m, in \u001b[0;36mRegressionResults.__init__\u001b[0;34m(self, model, params, normalized_cov_params, scale, cov_type, cov_kwds, use_t, **kwargs)\u001b[0m\n\u001b[1;32m   1605\u001b[0m             use_t \u001b[39m=\u001b[39m use_t_2\n\u001b[1;32m   1606\u001b[0m         \u001b[39m# TODO: warn or not?\u001b[39;00m\n\u001b[0;32m-> 1607\u001b[0m     \u001b[39mself\u001b[39;49m\u001b[39m.\u001b[39;49mget_robustcov_results(cov_type\u001b[39m=\u001b[39;49mcov_type, use_self\u001b[39m=\u001b[39;49m\u001b[39mTrue\u001b[39;49;00m,\n\u001b[1;32m   1608\u001b[0m                                use_t\u001b[39m=\u001b[39;49muse_t, \u001b[39m*\u001b[39;49m\u001b[39m*\u001b[39;49mcov_kwds)\n\u001b[1;32m   1609\u001b[0m \u001b[39mfor\u001b[39;00m key \u001b[39min\u001b[39;00m kwargs:\n\u001b[1;32m   1610\u001b[0m     \u001b[39msetattr\u001b[39m(\u001b[39mself\u001b[39m, key, kwargs[key])\n",
      "File \u001b[0;32m/opt/homebrew/Caskroom/miniconda/base/envs/vscode/lib/python3.10/site-packages/statsmodels/regression/linear_model.py:2568\u001b[0m, in \u001b[0;36mRegressionResults.get_robustcov_results\u001b[0;34m(self, cov_type, use_t, **kwargs)\u001b[0m\n\u001b[1;32m   2565\u001b[0m         n_groups \u001b[39m=\u001b[39m \u001b[39mmin\u001b[39m(n_groups0, n_groups1)  \u001b[39m# use for adjust_df\u001b[39;00m\n\u001b[1;32m   2567\u001b[0m     \u001b[39m# Note: sw.cov_cluster_2groups has 3 returns\u001b[39;00m\n\u001b[0;32m-> 2568\u001b[0m     res\u001b[39m.\u001b[39mcov_params_default \u001b[39m=\u001b[39m sw\u001b[39m.\u001b[39;49mcov_cluster_2groups(\n\u001b[1;32m   2569\u001b[0m         \u001b[39mself\u001b[39;49m, groups, use_correction\u001b[39m=\u001b[39;49muse_correction)[\u001b[39m0\u001b[39m]\n\u001b[1;32m   2570\u001b[0m \u001b[39melse\u001b[39;00m:\n\u001b[1;32m   2571\u001b[0m     \u001b[39mraise\u001b[39;00m \u001b[39mValueError\u001b[39;00m(\u001b[39m'\u001b[39m\u001b[39monly two groups are supported\u001b[39m\u001b[39m'\u001b[39m)\n",
      "File \u001b[0;32m/opt/homebrew/Caskroom/miniconda/base/envs/vscode/lib/python3.10/site-packages/statsmodels/stats/sandwich_covariance.py:587\u001b[0m, in \u001b[0;36mcov_cluster_2groups\u001b[0;34m(results, group, group2, use_correction)\u001b[0m\n\u001b[1;32m    585\u001b[0m cov0 \u001b[39m=\u001b[39m cov_cluster(results, group0, use_correction\u001b[39m=\u001b[39muse_correction)\n\u001b[1;32m    586\u001b[0m \u001b[39m#[0] because we get still also returns bse\u001b[39;00m\n\u001b[0;32m--> 587\u001b[0m cov1 \u001b[39m=\u001b[39m cov_cluster(results, group1, use_correction\u001b[39m=\u001b[39;49muse_correction)\n\u001b[1;32m    589\u001b[0m \u001b[39m# cov of cluster formed by intersection of two groups\u001b[39;00m\n\u001b[1;32m    590\u001b[0m cov01 \u001b[39m=\u001b[39m cov_cluster(results,\n\u001b[1;32m    591\u001b[0m                     combine_indices(group)[\u001b[39m0\u001b[39m],\n\u001b[1;32m    592\u001b[0m                     use_correction\u001b[39m=\u001b[39muse_correction)\n",
      "File \u001b[0;32m/opt/homebrew/Caskroom/miniconda/base/envs/vscode/lib/python3.10/site-packages/statsmodels/stats/sandwich_covariance.py:539\u001b[0m, in \u001b[0;36mcov_cluster\u001b[0;34m(results, group, use_correction)\u001b[0m\n\u001b[1;32m    536\u001b[0m cov_c \u001b[39m=\u001b[39m _HCCM2(hessian_inv, scale)\n\u001b[1;32m    538\u001b[0m \u001b[39mif\u001b[39;00m use_correction:\n\u001b[0;32m--> 539\u001b[0m     cov_c \u001b[39m*\u001b[39m\u001b[39m=\u001b[39m (n_groups \u001b[39m/\u001b[39;49m (n_groups \u001b[39m-\u001b[39;49m \u001b[39m1.\u001b[39;49m) \u001b[39m*\u001b[39m\n\u001b[1;32m    540\u001b[0m               ((nobs\u001b[39m-\u001b[39m\u001b[39m1.\u001b[39m) \u001b[39m/\u001b[39m \u001b[39mfloat\u001b[39m(nobs \u001b[39m-\u001b[39m k_params)))\n\u001b[1;32m    542\u001b[0m \u001b[39mreturn\u001b[39;00m cov_c\n",
      "\u001b[0;31mZeroDivisionError\u001b[0m: float division by zero"
     ]
    }
   ],
   "source": [
    "parties = ['Union',\t'SPD', 'FDP', 'Linke', 'Grüne', 'Andere']\n",
    "for party in parties:\n",
    "    locals()[party] = smf.ols(formula=f'{party} ~ treated_50*post_2005 + Land', data=zweit_pl).fit(cov_type='cluster', cov_kwds={'groups': np.array(zweit_pl[['AGS', 'year']])}) # zweit['AGS']\n",
    "stargazer = Stargazer([Union, SPD, FDP, Linke, Grüne, Andere])\n",
    "stargazer.title('Effect on Secondary Vote, Municipalities within 50 km of a powerline project, treatment year 2005')\n",
    "stargazer.custom_columns(['Union',\t'SPD', 'FDP', 'Linke', 'Grüne', 'Andere'], [1, 1, 1, 1, 1, 1])\n",
    "stargazer.show_model_numbers(False)\n",
    "with open(f'{path}/tables/btw/zweit_2005.tex', 'w') as f:\n",
    "    f.write(stargazer.render_latex())\n",
    "HTML(stargazer.render_html())"
   ]
  }
 ],
 "metadata": {
  "kernelspec": {
   "display_name": "Python 3.10.4 ('vscode')",
   "language": "python",
   "name": "python3"
  },
  "language_info": {
   "codemirror_mode": {
    "name": "ipython",
    "version": 3
   },
   "file_extension": ".py",
   "mimetype": "text/x-python",
   "name": "python",
   "nbconvert_exporter": "python",
   "pygments_lexer": "ipython3",
   "version": "3.10.4"
  },
  "orig_nbformat": 4,
  "vscode": {
   "interpreter": {
    "hash": "656f4cd1472b14b513faaa63bd5e4a7577d125de6a277113d4e82c4085557d3e"
   }
  }
 },
 "nbformat": 4,
 "nbformat_minor": 2
}
