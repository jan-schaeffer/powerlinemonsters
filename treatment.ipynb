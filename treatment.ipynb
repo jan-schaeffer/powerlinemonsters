{
 "cells": [
  {
   "cell_type": "markdown",
   "metadata": {},
   "source": [
    "First, import needed modules"
   ]
  },
  {
   "cell_type": "code",
   "execution_count": null,
   "metadata": {},
   "outputs": [],
   "source": [
    "import numpy as np\n",
    "import pandas as pd\n",
    "import os\n",
    "import geopandas as gpd\n",
    "import matplotlib.pyplot as plt\n",
    "import shapely.speedups\n",
    "from shapely import wkt\n",
    "from shapely.ops import unary_union"
   ]
  },
  {
   "cell_type": "markdown",
   "metadata": {},
   "source": [
    "Initalize variables"
   ]
  },
  {
   "cell_type": "code",
   "execution_count": null,
   "metadata": {},
   "outputs": [],
   "source": [
    "shapely.speedups.enable()\n",
    "path = os.getcwd()\n",
    "print(path)"
   ]
  },
  {
   "cell_type": "markdown",
   "metadata": {},
   "source": [
    "Load shapefile with municipality and state boundaries and plot it for inspection"
   ]
  },
  {
   "cell_type": "code",
   "execution_count": null,
   "metadata": {},
   "outputs": [],
   "source": [
    "municipalities = gpd.read_file(f'{path}/data/geodata/VG250_GEM.shp')\n",
    "states = gpd.read_file(f'{path}/data/geodata/VG250_LAN.shp')\n",
    "municipalities.plot()"
   ]
  },
  {
   "cell_type": "markdown",
   "metadata": {},
   "source": [
    "Inspect the dataframe: GEN has the municipalities' names, geometry are the polygons.\n"
   ]
  },
  {
   "cell_type": "code",
   "execution_count": null,
   "metadata": {},
   "outputs": [],
   "source": [
    "municipalities.head()"
   ]
  },
  {
   "cell_type": "markdown",
   "metadata": {},
   "source": [
    "Drop polygons which represent waterbodies, EWZ == 0"
   ]
  },
  {
   "cell_type": "code",
   "execution_count": null,
   "metadata": {},
   "outputs": [],
   "source": [
    "municipalities = municipalities[municipalities['GF'] == 4]\n",
    "municipalities.plot()"
   ]
  },
  {
   "cell_type": "markdown",
   "metadata": {},
   "source": [
    "The data use the European Terrestrial Reference System 1989 as coordinate reference system (CRS), units are metres"
   ]
  },
  {
   "cell_type": "code",
   "execution_count": null,
   "metadata": {},
   "outputs": [],
   "source": [
    "municipalities.crs"
   ]
  },
  {
   "cell_type": "markdown",
   "metadata": {},
   "source": [
    "Load shapefiles with power lines, start and endpoints"
   ]
  },
  {
   "cell_type": "code",
   "execution_count": null,
   "metadata": {},
   "outputs": [],
   "source": [
    "powerlines = gpd.read_file(f'{path}/data/geodata/powerlines.shp')\n",
    "startpoints = gpd.read_file(f'{path}/data/geodata/startpoints.shp')\n",
    "endpoints = gpd.read_file(f'{path}/data/geodata/endpoints.shp')\n",
    "powerlines.crs"
   ]
  },
  {
   "cell_type": "markdown",
   "metadata": {},
   "source": [
    "Plot for inspection"
   ]
  },
  {
   "cell_type": "code",
   "execution_count": null,
   "metadata": {},
   "outputs": [],
   "source": [
    "powerlines.plot()"
   ]
  },
  {
   "cell_type": "markdown",
   "metadata": {},
   "source": [
    "Combine municipalities and powerlines in a plot"
   ]
  },
  {
   "cell_type": "code",
   "execution_count": null,
   "metadata": {},
   "outputs": [],
   "source": [
    "powerlines.set_geometry('geometry')\n",
    "fig, ax = plt.subplots(figsize=(10, 8), dpi=300)\n",
    "ax.set_aspect('equal')\n",
    "ax.set_axis_off()\n",
    "municipalities.plot(ax=ax, color='lightblue', edgecolor='blue', lw=0.01, zorder=1)\n",
    "states.boundary.plot(ax=ax, color='black', lw = 0.1, zorder=2)\n",
    "powerlines.plot(ax=ax, color='red', lw=2, zorder=3)\n",
    "plt.suptitle('BBPlG 2013 projects', fontsize=20)\n",
    "plt.title('All projects (new and retrofit)', fontsize=10)\n",
    "plt.savefig(f'{path}/figures/BBPLG2013_all_projects.png')\n",
    "plt.close()"
   ]
  },
  {
   "cell_type": "markdown",
   "metadata": {},
   "source": [
    "Filter out Retrofitting projects"
   ]
  },
  {
   "cell_type": "code",
   "execution_count": null,
   "metadata": {},
   "outputs": [],
   "source": [
    "powerlines = powerlines[powerlines['New'] == 1]\n",
    "startpoints = startpoints[startpoints['New'] == 1]\n",
    "endpoints = endpoints[endpoints['New'] == 1]\n",
    "powerlines.plot()"
   ]
  },
  {
   "cell_type": "markdown",
   "metadata": {},
   "source": [
    "Combine municipalities and NEW powerlines in a plot"
   ]
  },
  {
   "cell_type": "code",
   "execution_count": null,
   "metadata": {},
   "outputs": [],
   "source": [
    "powerlines.set_geometry('geometry')\n",
    "fig, ax = plt.subplots(figsize=(10, 8), dpi=300)\n",
    "ax.set_aspect('equal')\n",
    "ax.set_axis_off()\n",
    "municipalities.plot(ax=ax, color='lightblue', edgecolor='blue', lw=0.01, zorder=1)\n",
    "states.boundary.plot(ax=ax, color='black', lw = 0.1, zorder=2)\n",
    "powerlines.plot(ax=ax, color='red', lw=2, zorder=3)\n",
    "'''\n",
    "startpoints.plot(ax=ax, color='red', lw=1, zorder=4)\n",
    "endpoints.plot(ax=ax, color='red', lw=0.5, zorder=5)\n",
    "\n",
    "for x, y, label in zip(startpoints.geometry.x, startpoints.geometry.y, startpoints.Start):\n",
    "    ax.annotate(label, xy=(x, y), xytext=(3, 3), textcoords=\"offset points\", fontsize=5)\n",
    "for x, y, label in zip(endpoints.geometry.x, endpoints.geometry.y, endpoints.End):\n",
    "    ax.annotate(label, xy=(x, y), xytext=(-3, 3), textcoords=\"offset points\", fontsize=5)\n",
    "'''\n",
    "plt.suptitle('BBPlG 2013 projects', fontsize=20)\n",
    "plt.title('New projects', fontsize=10)\n",
    "plt.savefig(f'{path}/figures/BBPLG2013_new_projects.png')\n",
    "plt.close()"
   ]
  },
  {
   "cell_type": "markdown",
   "metadata": {},
   "source": [
    "Create buffers around the straight lines to create treatment indicator for different corridor widths"
   ]
  },
  {
   "cell_type": "code",
   "execution_count": null,
   "metadata": {},
   "outputs": [],
   "source": [
    "for buffer in (5, 10, 15, 25, 50):\n",
    "    try:\n",
    "        powerlines.insert(loc=len(powerlines.columns), column=f'geometry_{buffer*2}', value=0) #buffer is added on both sides -> x2 to simplify\n",
    "    except Exception:\n",
    "        pass\n",
    "    powerlines[f'geometry_{buffer*2}'] = powerlines['geometry'].buffer(buffer*1000)\n",
    "powerlines.rename(columns = {'geometry':'geometry_0'}, inplace = True)\n",
    "powerlines.head()"
   ]
  },
  {
   "cell_type": "markdown",
   "metadata": {},
   "source": [
    "Now generate treatment indicators for all buffer sizes"
   ]
  },
  {
   "cell_type": "code",
   "execution_count": null,
   "metadata": {},
   "outputs": [],
   "source": [
    "for buffer in (0, 5, 10, 15, 25, 50):\n",
    "    try:\n",
    "        municipalities.insert(loc=len(municipalities.columns), column=f'treated_{buffer*2}', value=0)\n",
    "    except Exception:\n",
    "        pass\n",
    "    for i in range(len(municipalities)):\n",
    "        # this sets treated_x = True, if powerline intersects a municipality\n",
    "        municipalities.loc[municipalities.index[i], f'treated_{buffer*2}'] = any(powerlines[f'geometry_{buffer*2}'].intersects(municipalities['geometry'].values[i]))\n",
    "municipalities.head()"
   ]
  },
  {
   "cell_type": "code",
   "execution_count": null,
   "metadata": {},
   "outputs": [],
   "source": [
    "print(municipalities['treated_0'].describe())"
   ]
  },
  {
   "cell_type": "markdown",
   "metadata": {},
   "source": [
    "Set treatment = False if municipality is a start- or endpoint"
   ]
  },
  {
   "cell_type": "code",
   "execution_count": null,
   "metadata": {},
   "outputs": [],
   "source": [
    "for buffer in (0, 5, 10, 15, 25, 50):\n",
    "    for i in range(len(municipalities)):\n",
    "        # this sets treated_x = False if municipality contains a start- or endpoint\n",
    "        if any(startpoints['geometry'].within(municipalities['geometry'].values[i])):\n",
    "            municipalities.loc[municipalities.index[i], f'treated_{buffer*2}'] = False\n",
    "        elif any(endpoints['geometry'].within(municipalities['geometry'].values[i])):\n",
    "            municipalities.loc[municipalities.index[i], f'treated_{buffer*2}'] = False"
   ]
  },
  {
   "cell_type": "code",
   "execution_count": null,
   "metadata": {},
   "outputs": [],
   "source": [
    "print(municipalities['treated_0'].describe())"
   ]
  },
  {
   "cell_type": "markdown",
   "metadata": {},
   "source": [
    "Export treatment dataset from municipalities dataframe"
   ]
  },
  {
   "cell_type": "code",
   "execution_count": null,
   "metadata": {},
   "outputs": [],
   "source": [
    "treatment = pd.DataFrame(municipalities)\n",
    "treatment = treatment.reindex(columns=['AGS', 'GEN', 'treated_0', 'treated_10', 'treated_20', 'treated_30', 'treated_50', 'treated_100'])\n",
    "treatment = treatment.set_index('AGS')\n",
    "treatment = treatment.replace({True:1, False:0})\n",
    "treatment.to_csv(f'{path}/data/treatment.csv', encoding = 'utf-8-sig')\n",
    "treatment.head()"
   ]
  },
  {
   "cell_type": "markdown",
   "metadata": {},
   "source": [
    "Plot the municipalities that directly intersect with a powerline"
   ]
  },
  {
   "cell_type": "code",
   "execution_count": null,
   "metadata": {},
   "outputs": [],
   "source": [
    "powerlines = powerlines.set_geometry('geometry_0')\n",
    "municipalities_intersected = municipalities[municipalities['treated_0'] == True] #drops all untreated munipalities\n",
    "fig, ax = plt.subplots(figsize=(10, 8), dpi=300)\n",
    "ax.set_aspect('equal')\n",
    "ax.set_axis_off()\n",
    "municipalities.plot(ax=ax, color='lightblue', edgecolor='blue', lw=0.01, zorder=1)\n",
    "states.boundary.plot(ax=ax, color='darkblue', lw = 0.1, zorder=2)\n",
    "municipalities_intersected.plot(ax=ax, color='orange', edgecolor='darkorange', lw=0.01, zorder=3)\n",
    "powerlines.plot(ax=ax, color='red', lw=2, zorder=4)\n",
    "plt.suptitle('Municipalities affected by BBPlG 2013 projects', fontsize=20)\n",
    "plt.title('direct line', fontsize=14)\n",
    "plt.savefig(f'{path}/figures/BBPLG2013_treated_0.png')\n",
    "plt.close()"
   ]
  },
  {
   "cell_type": "markdown",
   "metadata": {},
   "source": [
    "Plot the municipalities that intersect with a powerline 50 km buffer"
   ]
  },
  {
   "cell_type": "code",
   "execution_count": null,
   "metadata": {},
   "outputs": [],
   "source": [
    "powerlines.set_geometry('geometry_50')\n",
    "municipalities_intersected50 = municipalities[municipalities['treated_50'] == True] #drops all untreated munipalities\n",
    "fig, ax = plt.subplots(figsize=(10, 8), dpi=300)\n",
    "ax.set_aspect('equal')\n",
    "ax.set_axis_off()\n",
    "municipalities.plot(ax=ax, color='lightblue', zorder=1)\n",
    "states.boundary.plot(ax=ax, color='darkblue', lw = 0.1, zorder=2)\n",
    "municipalities_intersected50.plot(ax=ax, color='orange', edgecolor='darkorange', lw=0.01, zorder=3)\n",
    "powerlines.plot(ax=ax, color='red', lw=2, zorder=4)\n",
    "plt.suptitle('Municipalities affected by BBPlG 2013 projects', fontsize=20)\n",
    "plt.title('with a 50km buffer', fontsize=14)\n",
    "plt.savefig(f'{path}/figures/BBPLG2013_treated_50.png')\n",
    "plt.close()"
   ]
  }
 ],
 "metadata": {
  "interpreter": {
   "hash": "88be3cbefcf0764a65175a6561fd304411aaded24422f3185dd5fe11d8fe4862"
  },
  "kernelspec": {
   "display_name": "Python 3.9.12 ('vscode')",
   "language": "python",
   "name": "python3"
  },
  "language_info": {
   "codemirror_mode": {
    "name": "ipython",
    "version": 3
   },
   "file_extension": ".py",
   "mimetype": "text/x-python",
   "name": "python",
   "nbconvert_exporter": "python",
   "pygments_lexer": "ipython3",
   "version": "3.10.4"
  },
  "orig_nbformat": 4
 },
 "nbformat": 4,
 "nbformat_minor": 2
}
