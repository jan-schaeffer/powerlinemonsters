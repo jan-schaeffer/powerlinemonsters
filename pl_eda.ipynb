{
 "cells": [
  {
   "cell_type": "markdown",
   "metadata": {},
   "source": [
    "First, import needed modules"
   ]
  },
  {
   "cell_type": "code",
   "execution_count": 1,
   "metadata": {},
   "outputs": [
    {
     "name": "stderr",
     "output_type": "stream",
     "text": [
      "/opt/homebrew/Caskroom/miniconda/base/envs/vscode/lib/python3.10/site-packages/geopandas/_compat.py:112: UserWarning: The Shapely GEOS version (3.10.2-CAPI-1.16.0) is incompatible with the GEOS version PyGEOS was compiled with (3.10.1-CAPI-1.16.0). Conversions between both will be slow.\n",
      "  warnings.warn(\n"
     ]
    }
   ],
   "source": [
    "import numpy as np\n",
    "import pandas as pd\n",
    "import os\n",
    "import geopandas as gpd\n",
    "import matplotlib.pyplot as plt"
   ]
  },
  {
   "cell_type": "markdown",
   "metadata": {},
   "source": [
    "Initalize variables"
   ]
  },
  {
   "cell_type": "code",
   "execution_count": 2,
   "metadata": {},
   "outputs": [
    {
     "name": "stdout",
     "output_type": "stream",
     "text": [
      "/Users/jan/Dropbox/UP_EPQM/2222/MA/powerlinemonsters\n"
     ]
    }
   ],
   "source": [
    "path = os.getcwd()\n",
    "print(path)"
   ]
  },
  {
   "cell_type": "markdown",
   "metadata": {},
   "source": [
    "Fig E1: Municipalities affected by each treatment"
   ]
  },
  {
   "cell_type": "code",
   "execution_count": 3,
   "metadata": {},
   "outputs": [],
   "source": [
    "pl_05 = gpd.read_file(f'{path}/data/geodata/powerlines_05.shp')\n",
    "pl_09 = gpd.read_file(f'{path}/data/geodata/new_powerlines_09.shp')\n",
    "pl_13 = gpd.read_file(f'{path}/data/geodata/new_powerlines_13.shp')\n",
    "all_powerlines = gpd.read_file(f'{path}/data/geodata/all_powerlines.shp')\n",
    "municipalities = gpd.read_file(f'{path}/data/geodata/municipalities.shp')\n",
    "mun_unincorporated = gpd.read_file(f'{path}/data/geodata/unincorporated.shp')\n",
    "states = gpd.read_file(f'{path}/data/geodata/VG250_LAN.shp')"
   ]
  },
  {
   "cell_type": "code",
   "execution_count": 4,
   "metadata": {},
   "outputs": [],
   "source": [
    "legend_dict = {2005: 'DENA 2005', 2009: 'EnLAG 2009', 2013: 'BBPlG 2013'}\n",
    "tvars = {2005: 't2005', 2009: 't2009', 2013: 't2013'}\n",
    "all_powerlines['year'] = all_powerlines['year'].astype(int)\n",
    "# initialize figure \n",
    "fig, ax = plt.subplots(nrows=1, ncols=3, figsize=(10, 6), dpi=600, constrained_layout=True)\n",
    "# title for entire figure\n",
    "fig.suptitle('Fig. E1: \\n Municipalities affected by Powerline Projects', fontsize=16)\n",
    "for i, (year, desc) in enumerate(legend_dict.items()):\n",
    "    # subset powerlines\n",
    "    plot_pl = all_powerlines[all_powerlines['year'] == year]\n",
    "    # subset treated muns\n",
    "    treated_muns = municipalities[municipalities[tvars[year]] != 'None']\n",
    "    # draw subfig\n",
    "    ax[i].set_aspect('equal')\n",
    "    ax[i].set_adjustable('datalim', share=True)\n",
    "    ax[i].set_axis_off()\n",
    "    ax[i].set_title(f'\\n {desc}')\n",
    "    municipalities.plot(ax=ax[i], color='#4f6393', zorder=1)\n",
    "    if year == 2005:\n",
    "        treated_muns.plot(ax=ax[i], column='t2005', cmap='viridis', zorder=2)\n",
    "    if year == 2009:\n",
    "        treated_muns.plot(ax=ax[i], column='t2009', cmap='viridis', legend=True, zorder=2, \n",
    "        legend_kwds={'loc':'lower center', 'ncol':2, 'title':'Treatments'})\n",
    "    if year == 2013:\n",
    "        treated_muns.plot(ax=ax[i], column='t2013', cmap='viridis', zorder=2)\n",
    "    states.boundary.plot(ax=ax[i], color='white', lw = 0.05, zorder=3)\n",
    "    plot_pl.plot(ax=ax[i], color='red', lw=2, zorder=4)\n",
    "plt.savefig(f'{path}/figures/py/1_all_treatments.png', bbox_inches=\"tight\", pad_inches=0)\n",
    "plt.close()"
   ]
  },
  {
   "cell_type": "markdown",
   "metadata": {},
   "source": [
    "Fig E2: Municipalities (already) affected by each year"
   ]
  },
  {
   "cell_type": "code",
   "execution_count": 5,
   "metadata": {},
   "outputs": [],
   "source": [
    "legend_dict = {2005: 'DENA 2005', 2009: 'EnLAG 2009', 2013: 'BBPlG 2013'}\n",
    "all_powerlines['year'] = all_powerlines['year'].astype(int)\n",
    "# initialize figure \n",
    "fig, ax = plt.subplots(nrows=1, ncols=3, figsize=(10, 6), dpi=600, constrained_layout=True)\n",
    "# title for entire figure\n",
    "fig.suptitle('Fig. E2: \\n Treated municipalities by year', fontsize=16)\n",
    "for i, (year, desc) in enumerate(legend_dict.items()):\n",
    "    # subset powerlines\n",
    "    plot_pl = all_powerlines[all_powerlines['year'] <= year]     \n",
    "    # draw subfig\n",
    "    ax[i].set_aspect('equal')\n",
    "    ax[i].set_adjustable('datalim', share=True)\n",
    "    ax[i].set_axis_off()\n",
    "    ax[i].set_title(f'\\n {year}')\n",
    "    municipalities.plot(ax=ax[i], color='#4f6393', zorder=1)\n",
    "    if year == 2005:\n",
    "        # subset treated muns\n",
    "        treated_muns = municipalities[municipalities['t2005'] != 'None']\n",
    "        treated_muns.plot(ax=ax[i], column='t2005', cmap='viridis', zorder=2)\n",
    "    if year == 2009:\n",
    "        treated_muns = municipalities[municipalities['et2010'] != 'None']\n",
    "        treated_muns.plot(ax=ax[i], column='et2010', cmap='viridis', legend=True, zorder=2, \n",
    "            legend_kwds={'loc':'lower center', 'ncol':2, 'title':'Treatments'})\n",
    "    if year == 2013:\n",
    "        treated_muns = municipalities[municipalities['et2014'] != 'None']\n",
    "        treated_muns.plot(ax=ax[i], column='et2014', cmap='viridis', zorder=2)\n",
    "    states.boundary.plot(ax=ax[i], color='white', lw = 0.05, zorder=3)\n",
    "    plot_pl.plot(ax=ax[i], color='red', lw=2, zorder=4)\n",
    "plt.savefig(f'{path}/figures/py/2_all_treatments_sum.png', bbox_inches=\"tight\", pad_inches=0)\n",
    "plt.close()"
   ]
  },
  {
   "cell_type": "markdown",
   "metadata": {},
   "source": [
    "Fig E4: Search Trends"
   ]
  },
  {
   "cell_type": "code",
   "execution_count": 6,
   "metadata": {},
   "outputs": [],
   "source": [
    "gtrends = pd.read_csv(f'{path}/data/gtrends/stromtrasse.csv')\n",
    "gtrends['Date'] = pd.to_datetime(gtrends['Monat'])"
   ]
  },
  {
   "cell_type": "code",
   "execution_count": 7,
   "metadata": {},
   "outputs": [],
   "source": [
    "import matplotlib.dates as mdates\n",
    "fig, ax = plt.subplots(nrows=1, ncols=1, figsize=(6, 3), dpi=600, constrained_layout=True)\n",
    "fig.suptitle('Fig. E4: \\n Google Search interest for the term \"Stromtrasse\"', fontsize=16)\n",
    "ax.plot(gtrends['Date'], gtrends['stromtrasse: (Deutschland)']) \n",
    "ax.xaxis.set_major_locator(mdates.YearLocator(1))\n",
    "ax.xaxis.set_major_formatter(mdates.DateFormatter(\"%Y\"))\n",
    "ax.set_xlim(right=pd.Timestamp(\"2022-08-30 00:00:00\"), left=pd.Timestamp(\"2004-01-01 00:00:00\"))\n",
    "ax.set_ylim(-1, 101)\n",
    "ax.set_ylabel('Search Interest', fontsize=10)\n",
    "plt.setp(ax.get_xticklabels(), rotation=30, ha=\"right\")\n",
    "plt.xticks(fontsize=8)\n",
    "plt.yticks(fontsize=8)\n",
    "plt.savefig(f'{path}/figures/py/4_gtrends.png')\n",
    "plt.close()"
   ]
  }
 ],
 "metadata": {
  "kernelspec": {
   "display_name": "Python 3.10.4 ('vscode')",
   "language": "python",
   "name": "python3"
  },
  "language_info": {
   "codemirror_mode": {
    "name": "ipython",
    "version": 3
   },
   "file_extension": ".py",
   "mimetype": "text/x-python",
   "name": "python",
   "nbconvert_exporter": "python",
   "pygments_lexer": "ipython3",
   "version": "3.10.4"
  },
  "orig_nbformat": 4,
  "vscode": {
   "interpreter": {
    "hash": "656f4cd1472b14b513faaa63bd5e4a7577d125de6a277113d4e82c4085557d3e"
   }
  }
 },
 "nbformat": 4,
 "nbformat_minor": 2
}
