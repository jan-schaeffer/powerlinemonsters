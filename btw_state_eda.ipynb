{
 "cells": [
  {
   "cell_type": "code",
   "execution_count": 2,
   "metadata": {},
   "outputs": [
    {
     "name": "stdout",
     "output_type": "stream",
     "text": [
      "/Users/jan/Dropbox/UP_EPQM/2222/MA/powerlinemonsters\n"
     ]
    }
   ],
   "source": [
    "import numpy as np\n",
    "import pandas as pd\n",
    "import matplotlib.pyplot as plt\n",
    "import os\n",
    "path = os.getcwd()\n",
    "print(path)"
   ]
  },
  {
   "cell_type": "code",
   "execution_count": 3,
   "metadata": {},
   "outputs": [],
   "source": [
    "btw = pd.read_csv(f'{path}/data/btw_treat_state.csv', encoding = 'UTF-8-SIG', sep=',', converters={'AGS': str})"
   ]
  },
  {
   "cell_type": "code",
   "execution_count": 9,
   "metadata": {},
   "outputs": [],
   "source": [
    "btw['treatment'] = np.where(btw['treated_100'] == True, '100', 'None')\n",
    "btw['treatment'] = np.where(btw['treated_50'] == True, '50', btw['treatment'])\n",
    "btw['treatment'] = np.where(btw['treated_30'] == True, '30', btw['treatment'])\n",
    "btw['treatment'] = np.where(btw['treated_20'] == True, '20', btw['treatment'])\n",
    "btw['treatment'] = np.where(btw['treated_10'] == True, '10', btw['treatment'])\n",
    "btw['treatment'] = np.where(btw['treated_0'] == True, '0', btw['treatment'])"
   ]
  },
  {
   "cell_type": "code",
   "execution_count": 10,
   "metadata": {},
   "outputs": [],
   "source": [
    "btw_avg = btw[['Union', 'SPD', 'FDP', 'Linke', 'Grüne', 'Andere', 'treatment', 'year']].groupby(['treatment', 'year'], as_index = False).mean()"
   ]
  },
  {
   "cell_type": "code",
   "execution_count": 12,
   "metadata": {},
   "outputs": [],
   "source": [
    "treatments = ['None', '0', '50', '100']\n",
    "blacks = ['#000000', '#191919', '#323232', '#4c4c4c']\n",
    "reds = ['#cc0000', '#d11919', '#d63232', '#db4c4c']\n",
    "yellows = ['#ffff00', '#ffff19', '#ffff32', '#ffff4c']\n",
    "purples = ['#800080', '#8c198c', '#993299', '#a64ca6']\n",
    "greens = ['#008000', '#198c19', '#329932', '#4ca64c']\n",
    "greys = ['#808080', '#8c8c8c', '#999999', '#a6a6a6']\n",
    "markers = ['o', 's', 'v', 'D']\n",
    "\n",
    "fig, axes = plt.subplots(nrows=3, ncols=2, figsize=(10, 10), dpi=300)\n",
    "#set x labels\n",
    "plt.setp(axes, xticks=[2002,2005,2009,2013,2017])\n",
    "# set legend font size\n",
    "plt.rc('legend',fontsize=6)\n",
    "# title for entire figure\n",
    "fig.suptitle(f'Average First Vote Shares \\n by treatment status', fontsize=20)\n",
    "\n",
    "for i, treatment in enumerate(treatments):\n",
    "    plot_data = btw_avg[btw_avg['treatment'] == treatment]\n",
    "    # edit subplots\n",
    "    axes[0, 0].set_title('Union', fontsize=12)\n",
    "    axes[0, 0].set_ylabel('% Votes', fontsize=10)\n",
    "    axes[0, 0].plot(plot_data['year'], plot_data['Union'], color=blacks[i], marker = markers[i], label=treatment, lw=0.8, markersize=4)\n",
    "    axes[0, 0].legend(loc='lower left')\n",
    "    axes[0, 0].axvline(x=2014, color='red', linestyle='--')\n",
    "\n",
    "    axes[0, 1].set_title('SPD', fontsize=12)\n",
    "    axes[0, 1].set_ylabel('% Votes', fontsize=10)\n",
    "    axes[0, 1].plot(plot_data['year'], plot_data['SPD'], color=reds[i], marker = markers[i], label=treatment, lw=0.8, markersize=4)\n",
    "    axes[0, 1].legend(loc='lower left')\n",
    "    axes[0, 1].axvline(x=2014, color='red', linestyle='--')\n",
    "\n",
    "    axes[1, 0].set_title('FDP', fontsize=12)\n",
    "    axes[1, 0].set_ylabel('% Votes', fontsize=10)\n",
    "    axes[1, 0].plot(plot_data['year'], plot_data['FDP'], color=yellows[i], marker = markers[i], label=treatment, lw=0.8, markersize=4)\n",
    "    axes[1, 0].legend(loc='upper left')\n",
    "    axes[1, 0].axvline(x=2014, color='red', linestyle='--')\n",
    "\n",
    "    axes[1, 1].set_title('Linke', fontsize=12)\n",
    "    axes[1, 1].set_ylabel('% Votes', fontsize=10)\n",
    "    axes[1, 1].plot(plot_data['year'], plot_data['Linke'], color=purples[i], marker = markers[i], label=treatment, lw=0.8, markersize=4)\n",
    "    axes[1, 1].legend(loc='upper left')\n",
    "    axes[1, 1].axvline(x=2014, color='red', linestyle='--')\n",
    "\n",
    "    axes[2, 0].set_title('Grüne', fontsize=12)\n",
    "    axes[2, 0].set_ylabel('% Votes', fontsize=10)\n",
    "    axes[2, 0].plot(plot_data['year'], plot_data['Grüne'], color=greens[i], marker = markers[i], label=treatment, lw=0.8, markersize=4)\n",
    "    axes[2, 0].legend(loc='upper left')\n",
    "    axes[2, 0].axvline(x=2014, color='red', linestyle='--')\n",
    "\n",
    "    axes[2, 1].set_title('Andere', fontsize=12)\n",
    "    axes[2, 1].set_ylabel('% Votes', fontsize=10)\n",
    "    axes[2, 1].plot(plot_data['year'], plot_data['Andere'], color=greys[i], marker = markers[i], label=treatment, lw=0.8, markersize=4)\n",
    "    axes[2, 1].legend(loc='upper left')\n",
    "    axes[2, 1].axvline(x=2014, color='red', linestyle='--')\n",
    "\n",
    "# Save figure\n",
    "fig.savefig(f'{path}/figures/btw/btw_state_vote_shares.png')\n",
    "plt.close()"
   ]
  },
  {
   "cell_type": "code",
   "execution_count": 13,
   "metadata": {},
   "outputs": [],
   "source": [
    "btw = pd.read_csv(f'{path}/data/btw_treat_district.csv', encoding = 'UTF-8-SIG', sep=',', converters={'AGS': str})"
   ]
  },
  {
   "cell_type": "code",
   "execution_count": 14,
   "metadata": {},
   "outputs": [],
   "source": [
    "btw['treatment'] = np.where(btw['treated_100'] == True, '100', 'None')\n",
    "btw['treatment'] = np.where(btw['treated_50'] == True, '50', btw['treatment'])\n",
    "btw['treatment'] = np.where(btw['treated_30'] == True, '30', btw['treatment'])\n",
    "btw['treatment'] = np.where(btw['treated_20'] == True, '20', btw['treatment'])\n",
    "btw['treatment'] = np.where(btw['treated_10'] == True, '10', btw['treatment'])\n",
    "btw['treatment'] = np.where(btw['treated_0'] == True, '0', btw['treatment'])"
   ]
  },
  {
   "cell_type": "code",
   "execution_count": 15,
   "metadata": {},
   "outputs": [],
   "source": [
    "btw_avg = btw[['Union', 'SPD', 'FDP', 'Linke', 'Grüne', 'Andere', 'treatment', 'year']].groupby(['treatment', 'year'], as_index = False).mean()"
   ]
  },
  {
   "cell_type": "code",
   "execution_count": 16,
   "metadata": {},
   "outputs": [],
   "source": [
    "treatments = ['None', '0', '10', '20', '30', '50', '100']\n",
    "blacks = ['#000000', '#191919', '#323232', '#4c4c4c', '#666666', '#7f7f7f', '#999999']\n",
    "reds = ['#cc0000', '#d11919', '#d63232', '#db4c4c', '#e06666', '#e57f7f', '#ea9999']\n",
    "yellows = ['#ffff00', '#ffff19', '#ffff32', '#ffff4c', '#ffff66', '#ffff7f', '#ffff99']\n",
    "purples = ['#800080', '#8c198c', '#993299', '#a64ca6', '#b266b2', '#bf7fbf', '#cc99cc']\n",
    "greens = ['#008000', '#198c19', '#329932', '#4ca64c', '#66b266', '#7fbf7f', '#99cc99']\n",
    "greys = ['#808080', '#8c8c8c', '#999999', '#a6a6a6', '#b2b2b2', '#bfbfbf', '#cccccc']\n",
    "markers = ['o', 's', 'v', 'D', '^', 'x', '.']\n",
    "\n",
    "fig, axes = plt.subplots(nrows=3, ncols=2, figsize=(10, 10), dpi=300)\n",
    "#set x labels\n",
    "plt.setp(axes, xticks=[2002,2005,2009,2013,2017])\n",
    "# set legend font size\n",
    "plt.rc('legend',fontsize=6)\n",
    "# title for entire figure\n",
    "fig.suptitle(f'Average First Vote Shares \\n by treatment status', fontsize=20)\n",
    "\n",
    "for i, treatment in enumerate(treatments):\n",
    "    plot_data = btw_avg[btw_avg['treatment'] == treatment]\n",
    "    # edit subplots\n",
    "    axes[0, 0].set_title('Union', fontsize=12)\n",
    "    axes[0, 0].set_ylabel('% Votes', fontsize=10)\n",
    "    axes[0, 0].plot(plot_data['year'], plot_data['Union'], color=blacks[i], marker = markers[i], label=treatment, lw=0.8, markersize=4)\n",
    "    axes[0, 0].legend(loc='lower left')\n",
    "    axes[0, 0].axvline(x=2014, color='red', linestyle='--')\n",
    "\n",
    "    axes[0, 1].set_title('SPD', fontsize=12)\n",
    "    axes[0, 1].set_ylabel('% Votes', fontsize=10)\n",
    "    axes[0, 1].plot(plot_data['year'], plot_data['SPD'], color=reds[i], marker = markers[i], label=treatment, lw=0.8, markersize=4)\n",
    "    axes[0, 1].legend(loc='lower left')\n",
    "    axes[0, 1].axvline(x=2014, color='red', linestyle='--')\n",
    "\n",
    "    axes[1, 0].set_title('FDP', fontsize=12)\n",
    "    axes[1, 0].set_ylabel('% Votes', fontsize=10)\n",
    "    axes[1, 0].plot(plot_data['year'], plot_data['FDP'], color=yellows[i], marker = markers[i], label=treatment, lw=0.8, markersize=4)\n",
    "    axes[1, 0].legend(loc='upper left')\n",
    "    axes[1, 0].axvline(x=2014, color='red', linestyle='--')\n",
    "\n",
    "    axes[1, 1].set_title('Linke', fontsize=12)\n",
    "    axes[1, 1].set_ylabel('% Votes', fontsize=10)\n",
    "    axes[1, 1].plot(plot_data['year'], plot_data['Linke'], color=purples[i], marker = markers[i], label=treatment, lw=0.8, markersize=4)\n",
    "    axes[1, 1].legend(loc='upper left')\n",
    "    axes[1, 1].axvline(x=2014, color='red', linestyle='--')\n",
    "\n",
    "    axes[2, 0].set_title('Grüne', fontsize=12)\n",
    "    axes[2, 0].set_ylabel('% Votes', fontsize=10)\n",
    "    axes[2, 0].plot(plot_data['year'], plot_data['Grüne'], color=greens[i], marker = markers[i], label=treatment, lw=0.8, markersize=4)\n",
    "    axes[2, 0].legend(loc='upper left')\n",
    "    axes[2, 0].axvline(x=2014, color='red', linestyle='--')\n",
    "\n",
    "    axes[2, 1].set_title('Andere', fontsize=12)\n",
    "    axes[2, 1].set_ylabel('% Votes', fontsize=10)\n",
    "    axes[2, 1].plot(plot_data['year'], plot_data['Andere'], color=greys[i], marker = markers[i], label=treatment, lw=0.8, markersize=4)\n",
    "    axes[2, 1].legend(loc='upper left')\n",
    "    axes[2, 1].axvline(x=2014, color='red', linestyle='--')\n",
    "\n",
    "# Save figure\n",
    "fig.savefig(f'{path}/figures/btw/btw_district_vote_shares.png')\n",
    "plt.close()"
   ]
  }
 ],
 "metadata": {
  "kernelspec": {
   "display_name": "Python 3.10.4 ('vscode')",
   "language": "python",
   "name": "python3"
  },
  "language_info": {
   "codemirror_mode": {
    "name": "ipython",
    "version": 3
   },
   "file_extension": ".py",
   "mimetype": "text/x-python",
   "name": "python",
   "nbconvert_exporter": "python",
   "pygments_lexer": "ipython3",
   "version": "3.10.4"
  },
  "orig_nbformat": 4,
  "vscode": {
   "interpreter": {
    "hash": "656f4cd1472b14b513faaa63bd5e4a7577d125de6a277113d4e82c4085557d3e"
   }
  }
 },
 "nbformat": 4,
 "nbformat_minor": 2
}
