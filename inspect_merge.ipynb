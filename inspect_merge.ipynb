{
 "cells": [
  {
   "cell_type": "code",
   "execution_count": null,
   "metadata": {},
   "outputs": [],
   "source": [
    "import numpy as np\n",
    "import pandas as pd\n",
    "import os\n",
    "import geopandas as gpd\n",
    "import matplotlib.pyplot as plt"
   ]
  },
  {
   "cell_type": "code",
   "execution_count": null,
   "metadata": {},
   "outputs": [],
   "source": [
    "path = os.getcwd()\n",
    "print(path)"
   ]
  },
  {
   "cell_type": "code",
   "execution_count": null,
   "metadata": {},
   "outputs": [],
   "source": [
    "municipalities = gpd.read_file(f'{path}/data/geodata/VG250_GEM.shp')\n",
    "states = gpd.read_file(f'{path}/data/geodata/VG250_LAN.shp')\n",
    "powerlines = gpd.read_file(f'{path}/data/geodata/powerlines.shp')\n",
    "powerlines = powerlines[powerlines['New'] == 1]\n",
    "municipalities.describe()"
   ]
  },
  {
   "cell_type": "code",
   "execution_count": null,
   "metadata": {},
   "outputs": [],
   "source": [
    "merged = pd.read_csv(f'{path}/data/merged.csv', converters = {'AGS': str})\n",
    "merged.head()"
   ]
  },
  {
   "cell_type": "code",
   "execution_count": null,
   "metadata": {},
   "outputs": [],
   "source": [
    "merged_mun = municipalities.merge(merged, on='AGS', how='inner', indicator=True)\n",
    "merged_mun = merged_mun[merged_mun['_merge'] == 'both']\n",
    "merged_mun.describe()"
   ]
  },
  {
   "cell_type": "code",
   "execution_count": null,
   "metadata": {},
   "outputs": [],
   "source": [
    "fig, ax = plt.subplots(figsize=(10, 8), dpi=300)\n",
    "ax.set_aspect('equal')\n",
    "ax.set_axis_off()\n",
    "merged_mun.plot(ax=ax, color='lightblue', zorder=1)\n",
    "states.boundary.plot(ax=ax, color='black', lw = 0.1, zorder=2)\n",
    "powerlines.plot(ax=ax, color='red', lw=2, zorder=3)\n",
    "plt.suptitle('Not merged municipalities', fontsize=20)\n",
    "plt.title('Unbalanced panel', fontsize=10)\n",
    "plt.savefig(f'{path}/figures/not_merged_unbalanced.png')\n",
    "plt.close()"
   ]
  }
 ],
 "metadata": {
  "interpreter": {
   "hash": "88be3cbefcf0764a65175a6561fd304411aaded24422f3185dd5fe11d8fe4862"
  },
  "kernelspec": {
   "display_name": "Python 3.10.4 ('vscode')",
   "language": "python",
   "name": "python3"
  },
  "language_info": {
   "codemirror_mode": {
    "name": "ipython",
    "version": 3
   },
   "file_extension": ".py",
   "mimetype": "text/x-python",
   "name": "python",
   "nbconvert_exporter": "python",
   "pygments_lexer": "ipython3",
   "version": "3.10.4"
  },
  "orig_nbformat": 4
 },
 "nbformat": 4,
 "nbformat_minor": 2
}
