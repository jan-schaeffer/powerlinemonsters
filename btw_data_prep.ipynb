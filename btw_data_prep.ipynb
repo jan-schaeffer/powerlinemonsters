{
 "cells": [
  {
   "cell_type": "markdown",
   "metadata": {},
   "source": [
    "First, import needed modules"
   ]
  },
  {
   "cell_type": "code",
   "execution_count": null,
   "metadata": {},
   "outputs": [],
   "source": [
    "import numpy as np\n",
    "import pandas as pd\n",
    "import os"
   ]
  },
  {
   "cell_type": "markdown",
   "metadata": {},
   "source": [
    "Initalize variables"
   ]
  },
  {
   "cell_type": "code",
   "execution_count": null,
   "metadata": {},
   "outputs": [],
   "source": [
    "path = os.getcwd()\n",
    "print(path)"
   ]
  },
  {
   "cell_type": "markdown",
   "metadata": {},
   "source": [
    "Import datasets"
   ]
  },
  {
   "cell_type": "code",
   "execution_count": null,
   "metadata": {},
   "outputs": [],
   "source": [
    "btw02_es = pd.read_csv(f'{path}/data/elections/btw/es/BTW02_Erststimmen_Wahlbezirke.csv', encoding = 'UTF-8-SIG', sep=';', skiprows=4, converters = {'Land': str, 'Regierungsbezirk': str, 'Kreis': str, 'Gemeinde': str})\n",
    "btw05_es = pd.read_csv(f'{path}/data/elections/btw/es/BTW05_Erststimmen_Wahlbezirke.csv', encoding = 'UTF-8-SIG',sep=';', skiprows=4, converters = {'Land': str, 'Regierungsbezirk': str, 'Kreis': str, 'Gemeinde': str})\n",
    "btw09_es = pd.read_csv(f'{path}/data/elections/btw/es/BTW09_Erststimmen_Wbz.csv', sep=';', encoding = 'UTF-8-SIG',skiprows=4, converters = {'Land': str, 'Regierungsbezirk': str, 'Kreis': str, 'Gemeinde': str})\n",
    "btw13_es = pd.read_csv(f'{path}/data/elections/btw/es/BTW13_Erststimmen_Wahlbezirke.csv', encoding = 'UTF-8-SIG',sep=';', skiprows=4, converters = {'Land': str, 'Regierungsbezirk': str, 'Kreis': str, 'Gemeinde': str})\n",
    "btw17_es = pd.read_csv(f'{path}/data/elections/btw/es/btw17_wbz_erststimmen.csv', sep=';', encoding = 'Windows-1252', skiprows=4, converters = {'Land': str, 'Regierungsbezirk': str, 'Kreis': str, 'Gemeinde': str, 'Kennziffer Briefwahlzugehörigkeit': str})\n",
    "\n",
    "btw02_zs = pd.read_csv(f'{path}/data/elections/btw/zs/BTW02_Zweitstimmen_Wahlbezirke.csv', encoding = 'UTF-8-SIG', sep=';', skiprows=4, converters = {'Land': str, 'Regierungsbezirk': str, 'Kreis': str, 'Gemeinde': str})\n",
    "btw05_zs = pd.read_csv(f'{path}/data/elections/btw/zs/BTW05_Zweitstimmen_Wahlbezirke.csv', encoding = 'UTF-8-SIG',sep=';', skiprows=4, converters = {'Land': str, 'Regierungsbezirk': str, 'Kreis': str, 'Gemeinde': str})\n",
    "btw09_zs = pd.read_csv(f'{path}/data/elections/btw/zs/BTW09_Zweitstimmen_Wbz.csv', sep=';', encoding = 'UTF-8-SIG',skiprows=4, converters = {'Land': str, 'Regierungsbezirk': str, 'Kreis': str, 'Gemeinde': str})\n",
    "btw13_zs = pd.read_csv(f'{path}/data/elections/btw/zs/BTW13_Zweitstimmen_Wahlbezirke.csv', encoding = 'UTF-8-SIG',sep=';', skiprows=4, converters = {'Land': str, 'Regierungsbezirk': str, 'Kreis': str, 'Gemeinde': str})\n",
    "btw17_zs = pd.read_csv(f'{path}/data/elections/btw/zs/btw17_wbz_zweitstimmen.csv', sep=';', encoding = 'Windows-1252', skiprows=4, converters = {'Land': str, 'Regierungsbezirk': str, 'Kreis': str, 'Gemeinde': str, 'Kennziffer Briefwahlzugehörigkeit': str})"
   ]
  },
  {
   "cell_type": "markdown",
   "metadata": {},
   "source": [
    "View the data"
   ]
  },
  {
   "cell_type": "code",
   "execution_count": null,
   "metadata": {},
   "outputs": [],
   "source": [
    "btw17_zs.head()"
   ]
  },
  {
   "cell_type": "markdown",
   "metadata": {},
   "source": [
    "Add year column to dataframes"
   ]
  },
  {
   "cell_type": "code",
   "execution_count": null,
   "metadata": {},
   "outputs": [],
   "source": [
    "dfs = [btw02_es, btw05_es, btw09_es, btw13_es, btw17_es, btw02_zs, btw05_zs, btw09_zs, btw13_zs, btw17_zs]\n",
    "years = [2002, 2005, 2009, 2013, 2017, 2002, 2005, 2009, 2013, 2017]\n",
    "for df, year in zip(dfs, years):\n",
    "    df.insert(loc=0, column='year', value=year)"
   ]
  },
  {
   "cell_type": "code",
   "execution_count": null,
   "metadata": {},
   "outputs": [],
   "source": [
    "btw17_es.head()"
   ]
  },
  {
   "cell_type": "markdown",
   "metadata": {},
   "source": [
    "Since some municipalities share a ballot vote election board, in this case, postal ballots cannot be attributed to a single municipality. \n",
    "In the 2002 to 2017 data, these cases were signified with '999' as Gemeindekennziffer. From 2017 on the Gemeindekennziffer is given by 9 + Kennziffer Briefwahlzugehörigkeit."
   ]
  },
  {
   "cell_type": "markdown",
   "metadata": {},
   "source": [
    "To drop the 999 Gemeinde in for 2002-2013, first append these dataframes"
   ]
  },
  {
   "cell_type": "code",
   "execution_count": null,
   "metadata": {},
   "outputs": [],
   "source": [
    "dfs = [btw02_es, btw05_es, btw09_es, btw13_es, btw17_es]\n",
    "btw0213_es = pd.concat(dfs, sort=False)\n",
    "dfs = [btw02_zs, btw05_zs, btw09_zs, btw13_zs, btw17_zs]\n",
    "btw0213_zs = pd.concat(dfs, sort=False)\n",
    "btw0213_zs.head()"
   ]
  },
  {
   "cell_type": "markdown",
   "metadata": {},
   "source": [
    "Then drop all observations with Gemeinde == 999"
   ]
  },
  {
   "cell_type": "code",
   "execution_count": null,
   "metadata": {},
   "outputs": [],
   "source": [
    "btw0213_es = btw0213_es[btw0213_es['Gemeinde'] != '999']\n",
    "btw0213_zs = btw0213_zs[btw0213_zs['Gemeinde'] != '999']"
   ]
  },
  {
   "cell_type": "markdown",
   "metadata": {},
   "source": [
    "For 2017, drop all observations where Gemeinde == 9 + Kennziffer Briefwahlzugehörigkeit"
   ]
  },
  {
   "cell_type": "code",
   "execution_count": null,
   "metadata": {},
   "outputs": [],
   "source": [
    "btw17_es = btw17_es[btw17_es['Gemeinde'] != '9' + btw17_es['Kennziffer Briefwahlzugehörigkeit']]\n",
    "btw17_zs = btw17_zs[btw17_zs['Gemeinde'] != '9' + btw17_zs['Kennziffer Briefwahlzugehörigkeit']]"
   ]
  },
  {
   "cell_type": "markdown",
   "metadata": {},
   "source": [
    "Now contatenate the dfs for 2002-13 with 2017"
   ]
  },
  {
   "cell_type": "code",
   "execution_count": null,
   "metadata": {},
   "outputs": [],
   "source": [
    "dfs = [btw0213_es, btw17_es]\n",
    "btw_es = pd.concat(dfs, sort=False)\n",
    "dfs = [btw0213_zs, btw17_zs]\n",
    "btw_zs = pd.concat(dfs, sort=False)"
   ]
  },
  {
   "cell_type": "markdown",
   "metadata": {},
   "source": [
    "Create the AGS, it follows the scheme ll r kk ggg (Land, Regierunsbezirk, Kreis, Gemeinde) -> combine these columns"
   ]
  },
  {
   "cell_type": "code",
   "execution_count": null,
   "metadata": {},
   "outputs": [],
   "source": [
    "btw_es.insert(loc=0, column='AGS', value=0)\n",
    "btw_es['AGS'] = btw_es['Land'] + btw_es['Regierungsbezirk'] + btw_es['Kreis'] + btw_es['Gemeinde']\n",
    "btw_zs.insert(loc=0, column='AGS', value=0)\n",
    "btw_zs['AGS'] = btw_zs['Land'] + btw_zs['Regierungsbezirk'] + btw_zs['Kreis'] + btw_zs['Gemeinde']\n",
    "btw_zs.head()"
   ]
  },
  {
   "cell_type": "markdown",
   "metadata": {},
   "source": [
    "Collapse data along AGS column, sums votes over all constituencies in a municipality"
   ]
  },
  {
   "cell_type": "code",
   "execution_count": null,
   "metadata": {},
   "outputs": [],
   "source": [
    "btw_es = btw_es.groupby(['AGS', 'year', 'Land'], as_index=False).sum()\n",
    "btw_zs = btw_zs.groupby(['AGS', 'year', 'Land'], as_index=False).sum()\n",
    "btw_zs.head()"
   ]
  },
  {
   "cell_type": "markdown",
   "metadata": {},
   "source": [
    "Add indicator for Erst- und Zweitstimme"
   ]
  },
  {
   "cell_type": "code",
   "execution_count": null,
   "metadata": {},
   "outputs": [],
   "source": [
    "dfs = [btw_es, btw_zs]\n",
    "eszs = ['Erststimme', 'Zweitstimme']\n",
    "for df, stimme in zip(dfs, eszs):\n",
    "    df.insert(loc=2, column=stimme, value=1)"
   ]
  },
  {
   "cell_type": "code",
   "execution_count": null,
   "metadata": {},
   "outputs": [],
   "source": [
    "btw_zs.head()"
   ]
  },
  {
   "cell_type": "markdown",
   "metadata": {},
   "source": [
    "ES: Sum votes for other, Union and Die Linke parties"
   ]
  },
  {
   "cell_type": "code",
   "execution_count": null,
   "metadata": {},
   "outputs": [],
   "source": [
    "# list(btw_es.columns)"
   ]
  },
  {
   "cell_type": "code",
   "execution_count": null,
   "metadata": {},
   "outputs": [],
   "source": [
    "andere = ['REP',\n",
    "'GRAUE',\n",
    "'TIERSCHUTZ',\n",
    "'NPD',\n",
    "'ÖDP',\n",
    "'PBC',\n",
    "'FRAUEN',\n",
    "'BP',\n",
    "'FAMILIE',\n",
    "'CM',\n",
    "'BÜSO',\n",
    "'HP',\n",
    "'VIOLETTEN',\n",
    "'AUFBRUCH',\n",
    "'ZENTRUM',\n",
    "'KPD',\n",
    "'PRG',\n",
    "'SCHILL',\n",
    "'DEUTSCHLAND',\n",
    "'DKP',\n",
    "'DSU',\n",
    "'FP D',\n",
    "'ÜBRIGE',\n",
    "'Offensive D',\n",
    "'Die Tierschutzpartei',\n",
    "'DIE FRAUEN',\n",
    "'BüSo',\n",
    "'Deutschland',\n",
    "'AGFG',\n",
    "'APPD',\n",
    "'MLPD',\n",
    "'DIE PARTEI',\n",
    "'HUMANWIRTSCHAFTSPARTEI',\n",
    "'STATT Partei',\n",
    "'UNABHÄNGIGE',\n",
    "'Übrige', \n",
    "'Volksabstimmung',\n",
    "'ADM',\n",
    "'DIE VIOLETTEN',\n",
    "'ödp',\n",
    "'PIRATEN',\n",
    "'RRP',\n",
    "'Freie Union',\n",
    "'Tierschutzpartei',\n",
    "'Bündnis 21/RRP',\n",
    "'RENTNER',\n",
    "'AfD',\n",
    "'BIG',\n",
    "'pro Deutschland',\n",
    "'FREIE WÄHLER',\n",
    "'PARTEI DER VERNUNFT',\n",
    "'Die PARTEI',\n",
    "'Bergpartei',\n",
    "'BGD',\n",
    "'NEIN',\n",
    "'WGr/EB',\n",
    "'PDV',\n",
    "'SGP',\n",
    "'DIE RECHTE',\n",
    "'Tierschutzallianz',\n",
    "'B*',\n",
    "'Die Grauen',\n",
    "'du',\n",
    "'MG',\n",
    "'MENSCHLICHE WELT',\n",
    "'Gesundheitsforschung',\n",
    "'V-Partei³',\n",
    "'Bündnis C',\n",
    "'DIE EINHEIT',\n",
    "'MIETERPARTEI',\n",
    "'Neue Liberale']\n",
    "btw_es['Andere'] = btw_es[andere].sum(axis=1) # sum votes for 'Other' Parties\n",
    "union = ['CDU', 'CSU']\n",
    "btw_es['Union'] = btw_es[union].sum(axis=1) # sum votes for 'Union' Parties\n",
    "linke = ['Die Linke', 'DIE LINKE', 'PDS']\n",
    "btw_es['Linke'] = btw_es[linke].sum(axis=1) # sum votes for 'Linke' Parties\n",
    "invalid = ['Ungültige', 'Ungültig']\n",
    "btw_es['Ungültig'] = btw_es[invalid].sum(axis=1) # sum invalid votes"
   ]
  },
  {
   "cell_type": "markdown",
   "metadata": {},
   "source": [
    "ZS: Sum votes for other, Union and DIE LINKE parties"
   ]
  },
  {
   "cell_type": "code",
   "execution_count": null,
   "metadata": {},
   "outputs": [],
   "source": [
    "# list(btw_zs.columns)"
   ]
  },
  {
   "cell_type": "code",
   "execution_count": null,
   "metadata": {},
   "outputs": [],
   "source": [
    "andere = ['REP',\n",
    "'GRAUE',\n",
    "'Tierschutz',\n",
    "'NPD',\n",
    "'ödp',\n",
    "'PBC',\n",
    "'FRAUEN',\n",
    "'BP',\n",
    "'FAMILIE',\n",
    "'CM',\n",
    "'BüSo',\n",
    "'HP',\n",
    "'Violetten',\n",
    "'AUFBRUCH',\n",
    "'ZENTRUM',\n",
    "'KPD',\n",
    "'PRG',\n",
    "'Schill',\n",
    "'Offensive D',\n",
    "'Die Tierschutzpartei',\n",
    "'DIE FRAUEN',\n",
    "'Deutschland',\n",
    "'AGFG',\n",
    "'APPD',\n",
    "'50plus',\n",
    "'MLPD',\n",
    "'Die Partei',\n",
    "'PSG',\n",
    "'Pro DM',\n",
    "'Volksabstimmung',\n",
    "'ADM',\n",
    "'DKP',\n",
    "'DVU',\n",
    "'DIE VIOLETTEN',\n",
    "'FWD',\n",
    "'PIRATEN',\n",
    "'RRP',\n",
    "'RENTNER',\n",
    "'Tierschutzpartei',\n",
    "'ÖDP',\n",
    "'Bündnis 21/RRP',\n",
    "'AfD',\n",
    "'BIG',\n",
    "'pro Deutschland',\n",
    "'DIE RECHTE',\n",
    "'FREIE WÄHLER',\n",
    "'Partei der Nichtwähler',\n",
    "'PARTEI DER VERNUNFT',\n",
    "'Die PARTEI',\n",
    "'PDV',\n",
    "'SGP',\n",
    "'AD-DEMOKRATEN',\n",
    "'Tierschutzallianz',\n",
    "'B*',\n",
    "'BGE',\n",
    "'DiB',\n",
    "'DM',\n",
    "'Die Grauen',\n",
    "'du.',\n",
    "'MG',\n",
    "'MENSCHLICHE WELT',\n",
    "'Die Humanisten',\n",
    "'Gesundheitsforschung',\n",
    "'V-Partei³']\n",
    "btw_zs['Andere'] = btw_zs[andere].sum(axis=1) # sum votes for 'Other' Parties\n",
    "union = ['CDU', 'CSU']\n",
    "btw_zs['Union'] = btw_zs[union].sum(axis=1) # sum votes for 'Union' Parties\n",
    "linke = ['Die Linke', 'DIE LINKE', 'PDS']\n",
    "btw_zs['Linke'] = btw_zs[linke].sum(axis=1) # sum votes for 'Linke' Parties\n",
    "invalid = ['Ungültige', 'Ungültig']\n",
    "btw_zs['Ungültig'] = btw_zs[invalid].sum(axis=1) # sum invalid votes"
   ]
  },
  {
   "cell_type": "markdown",
   "metadata": {},
   "source": [
    "Concatenate Erst- and Zweitstimme datasets"
   ]
  },
  {
   "cell_type": "code",
   "execution_count": null,
   "metadata": {},
   "outputs": [],
   "source": [
    "dfs = [btw_es, btw_zs]\n",
    "btw = pd.concat(dfs, sort=False)\n",
    "btw = btw.sort_values(['AGS', 'year'])\n",
    "btw.head(10)"
   ]
  },
  {
   "cell_type": "markdown",
   "metadata": {},
   "source": [
    "Add post-treatment indicator"
   ]
  },
  {
   "cell_type": "code",
   "execution_count": null,
   "metadata": {},
   "outputs": [],
   "source": [
    "years = [2017, 2013, 2009, 2005]\n",
    "for year in years:\n",
    "    btw.insert(loc=3, column=f'post_{year}', value=0)\n",
    "    btw[f'post_{year}'] = np.where(btw['year'] >= year, 1, 0)\n",
    "btw.head(10)"
   ]
  },
  {
   "cell_type": "markdown",
   "metadata": {},
   "source": [
    "Drop not needed columns and rename"
   ]
  },
  {
   "cell_type": "code",
   "execution_count": null,
   "metadata": {},
   "outputs": [],
   "source": [
    "btw = btw[['AGS', 'year', 'post_2005', 'post_2009', 'post_2013', 'post_2017', 'Land', 'Erststimme', 'Zweitstimme', 'Wahlberechtigte (A)', 'Wähler (B)', 'Ungültig', 'Union', 'SPD', 'FDP', 'Linke', 'GRÜNE', 'Andere']]\n",
    "btw.rename(columns = {'Wahlberechtigte (A)':'Wahlberechtigte', 'Wähler (B)': 'Wähler', 'GRÜNE': 'Grüne'}, inplace = True)\n",
    "btw.head(10)"
   ]
  },
  {
   "cell_type": "markdown",
   "metadata": {},
   "source": [
    "Check summation of votes"
   ]
  },
  {
   "cell_type": "code",
   "execution_count": null,
   "metadata": {},
   "outputs": [],
   "source": [
    "parties = ['Union', 'SPD', 'FDP', 'Linke', 'Grüne', 'Andere', 'Ungültig']\n",
    "btw['votes'] = btw[parties].sum(axis=1)\n",
    "btw['votes'] = btw['votes'].astype(int) #convert to integer\n",
    "btw['ok'] = btw['Wähler'].equals(btw['votes'])  # check if votes == Wähler\n",
    "print(btw['ok'].describe())\n",
    "btw.drop(['votes', 'ok', 'Ungültig'], axis=1, inplace=True)"
   ]
  },
  {
   "cell_type": "markdown",
   "metadata": {},
   "source": [
    "Calculate vote shares in percent"
   ]
  },
  {
   "cell_type": "code",
   "execution_count": null,
   "metadata": {},
   "outputs": [],
   "source": [
    "parties = ['Union',\t'SPD', 'FDP', 'Linke', 'Grüne', 'Andere']\n",
    "for party in parties:\n",
    "    btw.loc[:, party] = (btw[party] / btw['Wähler'])*100\n",
    "btw.loc[:, 'Wähler'] = (btw['Wähler'] / btw['Wahlberechtigte'])*100\n",
    "btw.head(10)"
   ]
  },
  {
   "cell_type": "markdown",
   "metadata": {},
   "source": [
    "Export dataset"
   ]
  },
  {
   "cell_type": "code",
   "execution_count": null,
   "metadata": {},
   "outputs": [],
   "source": [
    "btw = btw.set_index(['AGS', 'year'])\n",
    "btw.to_csv(f'{path}/data/btw.csv', encoding = 'utf-8-sig')\n",
    "btw.head()"
   ]
  }
 ],
 "metadata": {
  "interpreter": {
   "hash": "88be3cbefcf0764a65175a6561fd304411aaded24422f3185dd5fe11d8fe4862"
  },
  "kernelspec": {
   "display_name": "Python 3.9.12 ('vscode')",
   "language": "python",
   "name": "python3"
  },
  "language_info": {
   "codemirror_mode": {
    "name": "ipython",
    "version": 3
   },
   "file_extension": ".py",
   "mimetype": "text/x-python",
   "name": "python",
   "nbconvert_exporter": "python",
   "pygments_lexer": "ipython3",
   "version": "3.10.4"
  },
  "orig_nbformat": 4
 },
 "nbformat": 4,
 "nbformat_minor": 2
}
