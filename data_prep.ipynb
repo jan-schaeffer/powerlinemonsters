{
 "cells": [
  {
   "cell_type": "markdown",
   "metadata": {},
   "source": [
    "First, import needed modules"
   ]
  },
  {
   "cell_type": "code",
   "execution_count": null,
   "metadata": {},
   "outputs": [],
   "source": [
    "import numpy as np\n",
    "import pandas as pd\n",
    "import os"
   ]
  },
  {
   "cell_type": "markdown",
   "metadata": {},
   "source": [
    "Initalize variables"
   ]
  },
  {
   "cell_type": "code",
   "execution_count": null,
   "metadata": {},
   "outputs": [],
   "source": [
    "path = os.getcwd()\n",
    "print(path)"
   ]
  },
  {
   "cell_type": "markdown",
   "metadata": {},
   "source": [
    "Import datasets"
   ]
  },
  {
   "cell_type": "code",
   "execution_count": null,
   "metadata": {},
   "outputs": [],
   "source": [
    "btw02_es = pd.read_csv(f'{path}/data/elections/btw/es/BTW02_Erststimmen_Wahlbezirke.csv', encoding = 'UTF-8-SIG', sep=';', skiprows=4, converters = {'Land': str, 'Regierungsbezirk': str, 'Kreis': str, 'Verbandsgemeinde': str, 'Gemeinde': str})\n",
    "btw05_es = pd.read_csv(f'{path}/data/elections/btw/es/BTW05_Erststimmen_Wahlbezirke.csv', encoding = 'UTF-8-SIG',sep=';', skiprows=4, converters = {'Land': str, 'Regierungsbezirk': str, 'Kreis': str,  'Verbandsgemeinde': str,'Gemeinde': str})\n",
    "btw09_es = pd.read_csv(f'{path}/data/elections/btw/es/BTW09_Erststimmen_Wbz.csv', sep=';', encoding = 'UTF-8-SIG',skiprows=4, converters = {'Land': str, 'Regierungsbezirk': str, 'Kreis': str, 'Verbandsgemeinde': str,'Gemeinde': str})\n",
    "btw13_es = pd.read_csv(f'{path}/data/elections/btw/es/BTW13_Erststimmen_Wahlbezirke.csv', encoding = 'UTF-8-SIG',sep=';', skiprows=4, converters = {'Land': str, 'Regierungsbezirk': str, 'Kreis': str, 'Verbandsgemeinde': str,'Gemeinde': str})\n",
    "btw17_es = pd.read_csv(f'{path}/data/elections/btw/es/btw17_wbz_erststimmen.csv', sep=';', encoding = 'Windows-1252', skiprows=4, converters = {'Land': str, 'Regierungsbezirk': str, 'Kreis': str, 'Verbandsgemeinde': str,'Gemeinde': str})\n",
    "\n",
    "btw02_zs = pd.read_csv(f'{path}/data/elections/btw/zs/BTW02_Zweitstimmen_Wahlbezirke.csv', encoding = 'UTF-8-SIG', sep=';', skiprows=4, converters = {'Land': str, 'Regierungsbezirk': str, 'Kreis': str, 'Verbandsgemeinde': str,'Gemeinde': str})\n",
    "btw05_zs = pd.read_csv(f'{path}/data/elections/btw/zs/BTW05_Zweitstimmen_Wahlbezirke.csv', encoding = 'UTF-8-SIG',sep=';', skiprows=4, converters = {'Land': str, 'Regierungsbezirk': str, 'Kreis': str, 'Verbandsgemeinde': str,'Gemeinde': str})\n",
    "btw09_zs = pd.read_csv(f'{path}/data/elections/btw/zs/BTW09_Zweitstimmen_Wbz.csv', sep=';', encoding = 'UTF-8-SIG',skiprows=4, converters = {'Land': str, 'Regierungsbezirk': str, 'Kreis': str, 'Verbandsgemeinde': str,'Gemeinde': str})\n",
    "btw13_zs = pd.read_csv(f'{path}/data/elections/btw/zs/BTW13_Zweitstimmen_Wahlbezirke.csv', encoding = 'UTF-8-SIG',sep=';', skiprows=4, converters = {'Land': str, 'Regierungsbezirk': str, 'Kreis': str, 'Verbandsgemeinde': str,'Gemeinde': str})\n",
    "btw17_zs = pd.read_csv(f'{path}/data/elections/btw/zs/btw17_wbz_zweitstimmen.csv', sep=';', encoding = 'Windows-1252', skiprows=4, converters = {'Land': str, 'Regierungsbezirk': str, 'Kreis': str, 'Verbandsgemeinde': str,'Gemeinde': str})"
   ]
  },
  {
   "cell_type": "markdown",
   "metadata": {},
   "source": [
    "View the data"
   ]
  },
  {
   "cell_type": "code",
   "execution_count": null,
   "metadata": {},
   "outputs": [],
   "source": [
    "btw09_zs.head()"
   ]
  },
  {
   "cell_type": "markdown",
   "metadata": {},
   "source": [
    "Add year column to dataframes"
   ]
  },
  {
   "cell_type": "code",
   "execution_count": null,
   "metadata": {},
   "outputs": [],
   "source": [
    "dfs = [btw02_es, btw05_es, btw09_es, btw13_es, btw17_es, btw02_zs, btw05_zs, btw09_zs, btw13_zs, btw17_zs]\n",
    "years = [2002, 2005, 2009, 2013, 2017, 2002, 2005, 2009, 2013, 2017]\n",
    "for df, year in zip(dfs, years):\n",
    "    df.insert(loc=len(df.columns), column='year', value=year)"
   ]
  },
  {
   "cell_type": "code",
   "execution_count": null,
   "metadata": {},
   "outputs": [],
   "source": [
    "btw17_es.head()"
   ]
  },
  {
   "cell_type": "markdown",
   "metadata": {},
   "source": [
    "Append dataframes"
   ]
  },
  {
   "cell_type": "code",
   "execution_count": null,
   "metadata": {},
   "outputs": [],
   "source": [
    "dfs = [btw02_es, btw05_es, btw09_es, btw13_es, btw17_es]\n",
    "btw_es = pd.concat(dfs, sort=False)\n",
    "dfs = [btw02_zs, btw05_zs, btw09_zs, btw13_zs, btw17_zs]\n",
    "btw_zs = pd.concat(dfs, sort=False)\n",
    "btw_zs.head()"
   ]
  },
  {
   "cell_type": "markdown",
   "metadata": {},
   "source": [
    "Create the AGS, it follows the scheme ll r kk ggg (Land, Regierunsbezirk, Kreis, Gemeinde) -> combine these columns"
   ]
  },
  {
   "cell_type": "code",
   "execution_count": null,
   "metadata": {},
   "outputs": [],
   "source": [
    "btw_es['RS'] = btw_es['Land'] + btw_es['Regierungsbezirk'] + btw_es['Kreis'] + btw_es['Verbandsgemeinde'] + btw_es['Gemeinde']\n",
    "btw_zs['RS'] = btw_zs['Land'] + btw_zs['Regierungsbezirk'] + btw_zs['Kreis'] + btw_es['Verbandsgemeinde'] + btw_zs['Gemeinde']\n",
    "btw_zs.head()"
   ]
  },
  {
   "cell_type": "markdown",
   "metadata": {},
   "source": [
    "Clean dataset"
   ]
  },
  {
   "cell_type": "code",
   "execution_count": null,
   "metadata": {},
   "outputs": [],
   "source": [
    "# collapse data along AGS column, sums votes over all constituencies in a municipality\n",
    "btw_es = btw_es.groupby(['RS', 'year','Land'], as_index=False).sum()\n",
    "btw_zs = btw_zs.groupby(['RS', 'year','Land'], as_index=False).sum()\n",
    "btw_zs.head()"
   ]
  },
  {
   "cell_type": "markdown",
   "metadata": {},
   "source": [
    "Add indicator for Erst- und Zweitstimme"
   ]
  },
  {
   "cell_type": "code",
   "execution_count": null,
   "metadata": {},
   "outputs": [],
   "source": [
    "dfs = [btw_es, btw_zs]\n",
    "eszs = ['Erststimme', 'Zweitstimme']\n",
    "for df, stimme in zip(dfs, eszs):\n",
    "    df.insert(loc=len(df.columns), column=stimme, value=1)"
   ]
  },
  {
   "cell_type": "code",
   "execution_count": null,
   "metadata": {},
   "outputs": [],
   "source": [
    "btw_zs.head()"
   ]
  },
  {
   "cell_type": "markdown",
   "metadata": {},
   "source": [
    "ES: Sum votes for other, Union and Die Linke parties"
   ]
  },
  {
   "cell_type": "code",
   "execution_count": null,
   "metadata": {},
   "outputs": [],
   "source": [
    "#list(btw_es.columns)"
   ]
  },
  {
   "cell_type": "code",
   "execution_count": null,
   "metadata": {},
   "outputs": [],
   "source": [
    "andere = ['AfD', \n",
    " 'REP',\n",
    " 'GRAUE',\n",
    " 'TIERSCHUTZ',\n",
    " 'NPD',\n",
    " 'ÖDP',\n",
    " 'PBC',\n",
    " 'FRAUEN',\n",
    " 'BP',\n",
    " 'FAMILIE',\n",
    " 'CM',\n",
    " 'BÜSO',\n",
    " 'HP',\n",
    " 'VIOLETTEN',\n",
    " 'AUFBRUCH',\n",
    " 'ZENTRUM',\n",
    " 'KPD',\n",
    " 'PRG',\n",
    " 'SCHILL',\n",
    " 'DEUTSCHLAND',\n",
    " 'DKP',\n",
    " 'DSU',\n",
    " 'FP D',\n",
    " 'ÜBRIGE',\n",
    " 'Die Linke',\n",
    " 'Offensive D',\n",
    " 'Die Tierschutzpartei',\n",
    " 'DIE FRAUEN',\n",
    " 'BüSo',\n",
    " 'Deutschland',\n",
    " 'AGFG',\n",
    " 'APPD',\n",
    " 'MLPD',\n",
    " 'DIE PARTEI',\n",
    " 'HUMANWIRTSCHAFTSPARTEI',\n",
    " 'STATT Partei',\n",
    " 'UNABHÄNGIGE',\n",
    " 'Übrige',\n",
    " 'DIE LINKE',\n",
    " 'Volksabstimmung',\n",
    " 'ADM',\n",
    " 'DIE VIOLETTEN',\n",
    " 'ödp',\n",
    " 'PIRATEN',\n",
    " 'RRP',\n",
    " 'Freie Union',\n",
    " 'Tierschutzpartei',\n",
    " 'Bündnis 21/RRP',\n",
    " 'RENTNER',\n",
    " 'BIG',\n",
    " 'pro Deutschland',\n",
    " 'FREIE WÄHLER',\n",
    " 'PARTEI DER VERNUNFT',\n",
    " 'Die PARTEI',\n",
    " 'Bergpartei',\n",
    " 'BGD',\n",
    " 'NEIN',\n",
    " 'WGr/EB',\n",
    " 'PDV',\n",
    " 'SGP',\n",
    " 'DIE RECHTE',\n",
    " 'Tierschutzallianz',\n",
    " 'B*',\n",
    " 'Die Grauen',\n",
    " 'du',\n",
    " 'MG',\n",
    " 'MENSCHLICHE WELT',\n",
    " 'Gesundheitsforschung',\n",
    " 'V-Partei³',\n",
    " 'Bündnis C',\n",
    " 'DIE EINHEIT',\n",
    " 'MIETERPARTEI',\n",
    " 'Neue Liberale']\n",
    "btw_es['Andere'] = btw_es[andere].sum(axis=1) # sum votes for 'Other' Parties\n",
    "union = ['CDU', 'CSU']\n",
    "btw_es['Union'] = btw_es[union].sum(axis=1) # sum votes for 'Union' Parties\n",
    "linke = ['Die Linke', 'DIE LINKE', 'PDS']\n",
    "btw_es['Linke'] = btw_es[linke].sum(axis=1) # sum votes for 'Linke' Parties"
   ]
  },
  {
   "cell_type": "markdown",
   "metadata": {},
   "source": [
    "ZS: Sum votes for other, Union and DIE LINKE parties"
   ]
  },
  {
   "cell_type": "code",
   "execution_count": null,
   "metadata": {},
   "outputs": [],
   "source": [
    "#list(btw_zs.columns)"
   ]
  },
  {
   "cell_type": "code",
   "execution_count": null,
   "metadata": {},
   "outputs": [],
   "source": [
    "andere = ['AfD',\n",
    " 'REP',\n",
    " 'GRAUE',\n",
    " 'Tierschutz',\n",
    " 'NPD',\n",
    " 'ödp',\n",
    " 'PBC',\n",
    " 'FRAUEN',\n",
    " 'BP',\n",
    " 'FAMILIE',\n",
    " 'CM',\n",
    " 'BüSo',\n",
    " 'HP',\n",
    " 'Violetten',\n",
    " 'AUFBRUCH',\n",
    " 'ZENTRUM',\n",
    " 'KPD',\n",
    " 'PRG',\n",
    " 'Schill',\n",
    " 'Offensive D',\n",
    " 'Die Tierschutzpartei',\n",
    " 'DIE FRAUEN',\n",
    " 'Deutschland',\n",
    " 'AGFG',\n",
    " 'APPD',\n",
    " '50plus',\n",
    " 'MLPD',\n",
    " 'Die Partei',\n",
    " 'PSG',\n",
    " 'Pro DM',\n",
    " 'Volksabstimmung',\n",
    " 'ADM',\n",
    " 'DKP',\n",
    " 'DVU',\n",
    " 'DIE VIOLETTEN',\n",
    " 'FWD',\n",
    " 'PIRATEN',\n",
    " 'RRP',\n",
    " 'RENTNER',\n",
    " 'Tierschutzpartei',\n",
    " 'ÖDP',\n",
    " 'Bündnis 21/RRP',\n",
    " 'BIG',\n",
    " 'pro Deutschland',\n",
    " 'DIE RECHTE',\n",
    " 'FREIE WÄHLER',\n",
    " 'Partei der Nichtwähler',\n",
    " 'PARTEI DER VERNUNFT',\n",
    " 'Die PARTEI',\n",
    " 'PDV',\n",
    " 'SGP',\n",
    " 'AD-DEMOKRATEN',\n",
    " 'Tierschutzallianz',\n",
    " 'B*',\n",
    " 'BGE',\n",
    " 'DiB',\n",
    " 'DM',\n",
    " 'Die Grauen',\n",
    " 'du.',\n",
    " 'MG',\n",
    " 'MENSCHLICHE WELT',\n",
    " 'Die Humanisten',\n",
    " 'Gesundheitsforschung',\n",
    " 'V-Partei³']\n",
    "btw_zs['Andere'] = btw_zs[andere].sum(axis=1) # sum votes for 'Other' Parties\n",
    "union = ['CDU', 'CSU']\n",
    "btw_zs['Union'] = btw_zs[union].sum(axis=1) # sum votes for 'Union' Parties\n",
    "linke = ['Die Linke', 'DIE LINKE', 'PDS']\n",
    "btw_zs['Linke'] = btw_zs[linke].sum(axis=1) # sum votes for 'Linke' Parties"
   ]
  },
  {
   "cell_type": "markdown",
   "metadata": {},
   "source": [
    "Concatenate Erst- and Zweitstimme datasets"
   ]
  },
  {
   "cell_type": "code",
   "execution_count": null,
   "metadata": {},
   "outputs": [],
   "source": [
    "dfs = [btw_es, btw_zs]\n",
    "btw = pd.concat(dfs, sort=False)\n",
    "btw = btw.sort_values(['RS', 'year'])\n",
    "btw.head(10)"
   ]
  },
  {
   "cell_type": "markdown",
   "metadata": {},
   "source": [
    "Add post-treatment indicator"
   ]
  },
  {
   "cell_type": "code",
   "execution_count": null,
   "metadata": {},
   "outputs": [],
   "source": [
    "years = [2013, 2017]\n",
    "for year in years:\n",
    "    btw[f'post_{year}'] = np.where(btw['year'] >= year, 1, 0)\n",
    "btw.head(10)"
   ]
  },
  {
   "cell_type": "markdown",
   "metadata": {},
   "source": [
    "Set index"
   ]
  },
  {
   "cell_type": "code",
   "execution_count": null,
   "metadata": {},
   "outputs": [],
   "source": [
    "#btw = btw.set_index(['AGS', 'year'])\n",
    "btw.head(10)"
   ]
  },
  {
   "cell_type": "markdown",
   "metadata": {},
   "source": [
    "Drop not needed columns and rename"
   ]
  },
  {
   "cell_type": "code",
   "execution_count": null,
   "metadata": {},
   "outputs": [],
   "source": [
    "btw = btw[['RS', 'year', 'post_2013', 'post_2017', 'Land', 'Erststimme', 'Zweitstimme', 'Wahlberechtigte (A)', 'Wähler (B)', 'Union', 'SPD', 'FDP', 'Linke', 'GRÜNE', 'Andere']]\n",
    "btw.rename(columns = {'Wahlberechtigte (A)':'Wahlberechtigte', 'Wähler (B)': 'Wähler', 'GRÜNE': 'Grüne'}, inplace = True)\n",
    "btw.head(10)"
   ]
  },
  {
   "cell_type": "markdown",
   "metadata": {},
   "source": [
    "Calculate vote shares in percent"
   ]
  },
  {
   "cell_type": "code",
   "execution_count": null,
   "metadata": {},
   "outputs": [],
   "source": [
    "parties = ['Union',\t'SPD', 'FDP', 'Linke', 'Grüne', 'Andere']\n",
    "for party in parties:\n",
    "    btw.loc[:, party] = (btw[party] / btw['Wähler'])*100\n",
    "btw.loc[:, 'Wähler'] = (btw['Wähler'] / btw['Wahlberechtigte'])*100\n",
    "btw.head(10)"
   ]
  },
  {
   "cell_type": "markdown",
   "metadata": {},
   "source": [
    "Merge with treatment dataset"
   ]
  },
  {
   "cell_type": "code",
   "execution_count": null,
   "metadata": {},
   "outputs": [],
   "source": [
    "treatment = pd.read_csv(f'{path}/data/treatment.csv', converters = {'RS': str})\n",
    "#data = btw.join(treatment.set_index(['AGS']))\n",
    "data = pd.merge(btw, treatment, on='RS', how='left', indicator=True)\n",
    "data.head(10)"
   ]
  },
  {
   "cell_type": "markdown",
   "metadata": {},
   "source": [
    "Inspect merge results"
   ]
  },
  {
   "cell_type": "code",
   "execution_count": null,
   "metadata": {},
   "outputs": [],
   "source": [
    "print(data['_merge'].describe())"
   ]
  },
  {
   "cell_type": "code",
   "execution_count": null,
   "metadata": {},
   "outputs": [],
   "source": [
    "#not_merged = data[data['_merge'] == 'both']\n",
    "not_merged = data[data['_merge'] != 'both']\n",
    "\n",
    "not_merged = not_merged.reindex(columns = ['RS'])\n",
    "\n",
    "not_merged['Land'] = not_merged['RS'].str.slice(start=0, stop=2)\n",
    "not_merged['Regierungsbezirk'] = not_merged['RS'].str.slice(start=2, stop=3)\n",
    "not_merged['Kreis'] = not_merged['RS'].str.slice(start=3, stop=5)\n",
    "not_merged['VG'] = not_merged['RS'].str.slice(start=5, stop=9)\n",
    "not_merged['Gemeinde'] = not_merged['RS'].str.slice(start=9, stop=12)\n",
    "\n",
    "not_merged = not_merged.groupby(['RS'], as_index=True).first()\n",
    "#not_merged['merge'] = True\n",
    "not_merged['merge'] = False\n",
    "not_merged.to_csv(f'{path}/data/not_merged.csv')\n",
    "not_merged.head()"
   ]
  },
  {
   "cell_type": "markdown",
   "metadata": {},
   "source": [
    "Clean data"
   ]
  },
  {
   "cell_type": "code",
   "execution_count": null,
   "metadata": {},
   "outputs": [],
   "source": [
    "data = data.set_index(['AGS', 'year'])\n",
    "data = data.drop(columns=['_merge'])\n",
    "data = data.reindex(columns=['post_2013', 'post_2017', 'GEN', 'Land', 'Wahlberechtigte', 'Wähler', 'Union', 'SPD', 'FDP', 'Linke', 'Grüne', 'Andere', 'Erststimme', 'Zweitstimme', 'treated_0', 'treated_10', 'treated_20', 'treated_30', 'treated_50', 'treated_100'])\n",
    "#data = data.sort_values(by=['AGS', 'year'])\n",
    "data.head(10)"
   ]
  },
  {
   "cell_type": "markdown",
   "metadata": {},
   "source": [
    "Interact treatment dummies with post-treatment indicators"
   ]
  },
  {
   "cell_type": "code",
   "execution_count": null,
   "metadata": {},
   "outputs": [],
   "source": [
    "dummies = ['treated_0', 'treated_10', 'treated_20', 'treated_30', 'treated_50', 'treated_100']\n",
    "for dummy in dummies:\n",
    "    data.insert(loc=len(data.columns), column=f'{dummy}*post_2013', value=(data[dummy]*data['post_2013']))\n",
    "    data.insert(loc=len(data.columns), column=f'{dummy}*post_2017', value=(data[dummy]*data['post_2017']))\n",
    "data.head(10)"
   ]
  },
  {
   "cell_type": "markdown",
   "metadata": {},
   "source": [
    "Drop missing values"
   ]
  },
  {
   "cell_type": "code",
   "execution_count": null,
   "metadata": {},
   "outputs": [],
   "source": [
    "data = data.dropna(axis='rows', how='any', subset=['GEN', 'Union',\t'SPD', 'FDP', 'Linke', 'Grüne', 'Andere'])"
   ]
  },
  {
   "cell_type": "markdown",
   "metadata": {},
   "source": [
    "Export dataset"
   ]
  },
  {
   "cell_type": "code",
   "execution_count": null,
   "metadata": {},
   "outputs": [],
   "source": [
    "data.to_csv(f'{path}/data/btw_treatment.csv', encoding = 'utf-8-sig')"
   ]
  }
 ],
 "metadata": {
  "interpreter": {
   "hash": "88be3cbefcf0764a65175a6561fd304411aaded24422f3185dd5fe11d8fe4862"
  },
  "kernelspec": {
   "display_name": "Python 3.9.12 ('vscode')",
   "language": "python",
   "name": "python3"
  },
  "language_info": {
   "codemirror_mode": {
    "name": "ipython",
    "version": 3
   },
   "file_extension": ".py",
   "mimetype": "text/x-python",
   "name": "python",
   "nbconvert_exporter": "python",
   "pygments_lexer": "ipython3",
   "version": "3.10.4"
  },
  "orig_nbformat": 4
 },
 "nbformat": 4,
 "nbformat_minor": 2
}
