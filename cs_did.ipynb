{
 "cells": [
  {
   "cell_type": "markdown",
   "metadata": {},
   "source": [
    "Setup Environment"
   ]
  },
  {
   "cell_type": "code",
   "execution_count": null,
   "metadata": {
    "vscode": {
     "languageId": "r"
    }
   },
   "outputs": [],
   "source": [
    "# Clear the R environment and set working directory\n",
    "rm(list = ls())\n",
    "setwd(\"/Users/jan/Dropbox/UP_EPQM/2222/MA/powerlinemonsters\")\n",
    "path <- getwd()\n",
    "path \n",
    "options(warn=-1)"
   ]
  },
  {
   "cell_type": "markdown",
   "metadata": {},
   "source": [
    "Load packages"
   ]
  },
  {
   "cell_type": "code",
   "execution_count": null,
   "metadata": {
    "vscode": {
     "languageId": "r"
    }
   },
   "outputs": [],
   "source": [
    "# Install and load additional packages needed\n",
    "#install.packages(\"stringr\")\n",
    "#install.packages(\"gridtext\")\n",
    "library(did)\n",
    "library(rio)\n",
    "library(ggplot2)\n",
    "library(ggpubr)\n",
    "library(hash)\n",
    "library(gridtext)\n",
    "library(grid)\n",
    ".libPaths()"
   ]
  },
  {
   "cell_type": "markdown",
   "metadata": {},
   "source": [
    "Setup folders"
   ]
  },
  {
   "cell_type": "code",
   "execution_count": null,
   "metadata": {
    "vscode": {
     "languageId": "r"
    }
   },
   "outputs": [],
   "source": [
    "folders <- list('all', 'BTW/1_no_control', 'BTW/2_control', 'BTW/3_no_postal', 'BTW/4_not_yet', 'BTW/5_anticipation', 'BTW/6_by_state', 'LTW/1_no_control', 'LTW/2_control')\n",
    "for (folder in folders){\n",
    "    print(folder)\n",
    "    dir.create(sprintf('%s/figures/R/%s', path, folder))\n",
    "}"
   ]
  },
  {
   "cell_type": "markdown",
   "metadata": {},
   "source": [
    "Define combine and save function"
   ]
  },
  {
   "cell_type": "code",
   "execution_count": null,
   "metadata": {
    "vscode": {
     "languageId": "r"
    }
   },
   "outputs": [],
   "source": [
    "# Setup TeX Code to integrate figures\n",
    "fig_tex <- r\"(\\renewcommand{\\thefigure}{%s} \\begin{figure} \\centering \\includegraphics[width=1\\textwidth]{Figures/%s} \\captionlistentry{%s} \\label{fig:%s} \\end{figure} \\clearpage)\"\n",
    "figs_tex <- list()\n",
    "\n",
    "combine_and_save <- function(figures, result, party, title, caption, n, file_name, subpath, figs_tex) {\n",
    "  # Combine Figures for all treatments\n",
    "  arranged_fig <- ggarrange(plotlist=figures, nrow = 4, ncol = 1, common.legend = TRUE)\n",
    "  # get legend\n",
    "  result_fig <- ggdid(result) +\n",
    "              theme(\n",
    "              legend.background = element_rect(fill='transparent', color='transparent'),\n",
    "              legend.box.background = element_rect(fill='transparent', color='transparent'),\n",
    "              plot.margin=unit(c(0,0,0,0),\"cm\"))\n",
    "  leg <- get_legend(result_fig)\n",
    "  # add legend\n",
    "  arranged_fig_leg <- ggarrange(arranged_fig, leg, nrow = 2, ncol = 1, heights = c(10, 1))\n",
    "  # Annotate final figure\n",
    "  final_fig <- annotate_figure(arranged_fig_leg,\n",
    "                  top = text_grob(title, face = \"bold\", size = 14),\n",
    "                  bottom = textbox_grob(caption, width = unit(20, \"cm\"), height = unit(3, \"cm\"), gp = gpar(fontsize = 7))\n",
    "                  )\n",
    "  # Add Figure number\n",
    "  number <- sprintf(\"R%s\", n)\n",
    "  final_fig <- annotate_figure(final_fig, top = text_grob(sprintf(\"Fig.: %s\", number), face = \"bold\", size = 10))\n",
    "  # Save\n",
    "  filename <- gsub('ü', 'ue', filename) #replace ü in Grüne\n",
    "  ggsave(sprintf('%s.pdf', filename), plot = final_fig, path = sprintf('%s/figures/R/', path), units = 'cm', width = 21, height = 27, dpi=\"print\")\n",
    "  # Add Reference to figs_tex list\n",
    "  title <- gsub(\"'s\", '', title)\n",
    "  figs_tex[[length(figs_tex)+1]] <- sprintf(fig_tex, number, filename, title, number)\n",
    "  names(figs_tex)[length(figs_tex)] <- n\n",
    "  return(figs_tex)\n",
    "}"
   ]
  },
  {
   "cell_type": "markdown",
   "metadata": {},
   "source": [
    "Setup iterators"
   ]
  },
  {
   "cell_type": "code",
   "execution_count": null,
   "metadata": {
    "vscode": {
     "languageId": "r"
    }
   },
   "outputs": [],
   "source": [
    "parties <- c('Union', 'SPD', 'FDP', 'Linke', 'Grüne', 'Andere')\n",
    "treatments_dict <- hash('treatment_0'='Direct Line', 'treatment_15'='Within 0-15 km', 'treatment_30'='Within 15-30 km', 'treatment_50'='Within 30-50 km')\n",
    "treatments <- keys(treatments_dict)"
   ]
  },
  {
   "cell_type": "markdown",
   "metadata": {},
   "source": [
    "DiD for BTW no controls"
   ]
  },
  {
   "cell_type": "code",
   "execution_count": null,
   "metadata": {
    "vscode": {
     "languageId": "r"
    }
   },
   "outputs": [],
   "source": [
    "# read in the data set\n",
    "btw <- import(sprintf(\"%s/data/btw_treat.csv\", path))"
   ]
  },
  {
   "cell_type": "code",
   "execution_count": null,
   "metadata": {
    "vscode": {
     "languageId": "r"
    }
   },
   "outputs": [],
   "source": [
    "results  <- list()\n",
    "# set up Fig Number\n",
    "n <- 1\n",
    "for(party in parties){\n",
    "  figures  <- list()\n",
    "  for(treatment in treatments){\n",
    "    result <- att_gt(yname = party,\n",
    "                  gname = treatment,\n",
    "                  idname = 'AGS',\n",
    "                  panel = TRUE,\n",
    "                  tname = 'year',\n",
    "                  xformla = ~ 1,\n",
    "                  data = btw,\n",
    "                  est_method = 'reg',\n",
    "                  anticipation = 0,\n",
    "                  control_group = 'nevertreated',\n",
    "                  clustervars = c('AGS'),\n",
    "                  bstrap = TRUE,\n",
    "                  cband = TRUE,\n",
    "                  allow_unbalanced_panel = TRUE,\n",
    "                  \n",
    "    )\n",
    "    results[[length(results)+1]] <- result\n",
    "    # calculate ATT\n",
    "    att <- aggte(result, type = \"group\", bstrap = TRUE, clustervars = c('AGS'))\n",
    "    # plot results\n",
    "    result_fig <- ggdid(result, \n",
    "      ylim = c(floor(min(result$att - result$se * 2.345 - 1)), ceiling(max(result$att + result$se * 2.345 + 1))),\n",
    "      ncol = 3, ax_text_size = 8, grtitle='', title_size = 10, legend=F) +\n",
    "      labs(caption = sprintf('Overall ATT (SE): %.3f (%.3f) \\n Wald-p: %.3f; Municipalities: %s \\n' ,\n",
    "      att$overall.att, att$overall.se, result$Wpval, format(format(result$n, big.mark=\",\"), big.mark=\",\"))) +\n",
    "      theme(plot.caption = element_text(hjust=0.5, size=8),\n",
    "      panel.background = element_rect(fill='transparent'),\n",
    "      plot.background = element_rect(fill='transparent', color=NA),\n",
    "      legend.background = element_rect(fill='transparent'),\n",
    "      legend.box.background = element_rect(fill='transparent'),\n",
    "      plot.margin=unit(c(0,0,0,0),\"cm\"))\n",
    "    # Get caption for ATT plot\n",
    "    cap = ''\n",
    "      for(i in 1:length(att$DIDparams$glist)) {\n",
    "        cap <- sprintf('%s ATT (SE): %.3f (%.3f)\\n%s', att$DIDparams$glist[[i]], att$att.egt[[i]], att$se.egt[[i]], cap)\n",
    "      }\n",
    "    # Plot ATT\n",
    "    att_fig <- ggdid(att, legend=F, x_lab='', ax_text_size = 8, ylab='', title='Group ATT', title_size = 10) + \n",
    "    labs(caption = cap) + \n",
    "              theme(plot.caption = element_text(hjust=0.5, size=8), \n",
    "              axis.title.x = element_blank(),\n",
    "              axis.text.y = element_text(angle=90, size=6, hjust=0.5),\n",
    "              panel.background = element_rect(fill='transparent'),\n",
    "              plot.background = element_rect(fill='transparent', color=NA),\n",
    "              legend.background = element_rect(fill='transparent'),\n",
    "              legend.box.background = element_rect(fill='transparent'),\n",
    "              plot.margin=unit(c(0,0,0,0),\"cm\"))\n",
    "    # Combine and annotate Group and ATT plot\n",
    "    # Get number of results plots\n",
    "    nr <- length(unique(result_fig$data$grtitle))\n",
    "    combined_fig <- ggarrange(result_fig, att_fig, widths = c(nr, 1)) + \n",
    "                    theme(plot.margin=unit(c(0,0,0,0),\"cm\"))\n",
    "    combined_fig_anno <- annotate_figure(combined_fig,\n",
    "                  top = text_grob(sprintf('Treatment: %s', treatments_dict[[treatment]])))\n",
    "    figures[[length(figures)+1]] <- combined_fig_anno\n",
    "  }\n",
    "  # Set-up and call combine and save\n",
    "  title <- sprintf(\"Federal elections: Effects on the %s's vote share - unconditional model\", party)\n",
    "  caption <- '**Notes:** The effect of municipalities being affected by powerline projects in 2005, 2010 and 2014 estimated under the unconditional parallel trends assumption. \n",
    "  All models are estimated using a regression estimator that includes a constant. Never treated municipalities are used as control group.\n",
    "  Red lines give point estimates and simultaneous 95% confidence bands for pre-treatment periods allowing for clustering at the municipality level. \n",
    "  Under the null hypothesis of the parallel trends assumption holding in all periods, these should be equal to 0. \n",
    "  Blue lines provide point estimates and simultaneous 95% confidence bands for the treatment effect of municipalities being affected by a powerline project \n",
    "  allowing for clustering at the municipality level. The first row includes municipalities directly affected by a powerline project, \n",
    "  the second row municipalities within 0-15km, the third row municipalities within 15-30 km, and the last row municipalities within 30-50 km distance of a powerline project.\n",
    "  Groups are not nested, i.e., do not contain municipalities already assigned to other groups. \n",
    "  The group-time average treatment effects (ATT) are shown in the left columns. The group-average treatment effects, \n",
    "  which are given as the average effect of the treatment for a given group across all post-treatment periods, are shown in the right column. \n",
    "  The overall ATT is given as the average of all group ATTs.\n",
    "  Wald-p is the test statistic for the Wald pre-test of the parallel trends assumption.'\n",
    "  filename <- sprintf('%s_%s', n, party)\n",
    "  subpath <- 'BTW/1_no_control' \n",
    "  figs_tex <- combine_and_save(figures, result, party, title, caption, n, file_name, subpath, figs_tex)\n",
    "  n <- n + 1\n",
    "  print(party)\n",
    "}"
   ]
  },
  {
   "cell_type": "markdown",
   "metadata": {},
   "source": [
    "DiD for BTW with controls"
   ]
  },
  {
   "cell_type": "code",
   "execution_count": null,
   "metadata": {
    "vscode": {
     "languageId": "r"
    }
   },
   "outputs": [],
   "source": [
    "btw_c <- import(sprintf(\"%s/data/btw_control.csv\", path))"
   ]
  },
  {
   "cell_type": "code",
   "execution_count": null,
   "metadata": {
    "vscode": {
     "languageId": "r"
    }
   },
   "outputs": [],
   "source": [
    "n <- 7\n",
    "for(party in parties){\n",
    "  figures  <- list()\n",
    "  for(treatment in treatments){\n",
    "    result <- att_gt(yname = party,\n",
    "                  gname = treatment,\n",
    "                  idname = 'AGS',\n",
    "                  panel = TRUE,\n",
    "                  tname = 'year',\n",
    "                  xformla = ~ east + south + pop_density + unemployed + female + avg_age,\n",
    "                  data = btw_c,\n",
    "                  est_method = 'reg',\n",
    "                  anticipation = 0,\n",
    "                  control_group = 'nevertreated',\n",
    "                  clustervars = c('AGS'),\n",
    "                  bstrap = TRUE,\n",
    "                  cband = TRUE,\n",
    "                  allow_unbalanced_panel = TRUE,\n",
    "                  \n",
    "    )\n",
    "    results[[length(results)+1]] <- result\n",
    "    # calculate ATT\n",
    "    att <- aggte(result, type = \"group\", bstrap = TRUE, clustervars = c('AGS'))\n",
    "    # plot results\n",
    "    result_fig <- ggdid(result, \n",
    "              ylim = c(floor(min(result$att - result$se * 2.345 - 0.3)), ceiling(max(result$att + result$se * 2.345 + 0.3))),\n",
    "              ncol = 3, ax_text_size = 8, grtitle='', title_size = 10, legend=F) +\n",
    "              labs(caption = sprintf('Overall ATT (SE): %.3f (%.3f) \\n Wald-p: %.3f; Municipalities: %s \\n' ,\n",
    "              att$overall.att, att$overall.se, result$Wpval, format(result$n, big.mark=\",\"))) +\n",
    "              theme(plot.caption = element_text(hjust=0.5, size=8),\n",
    "              panel.background = element_rect(fill='transparent'),\n",
    "              plot.background = element_rect(fill='transparent', color=NA),\n",
    "              legend.background = element_rect(fill='transparent'),\n",
    "              legend.box.background = element_rect(fill='transparent'),\n",
    "              plot.margin=unit(c(0,0,0,0),\"cm\"))\n",
    "    # Get caption for ATT plot\n",
    "    cap = ''\n",
    "      for(i in 1:length(att$DIDparams$glist)) {\n",
    "        cap <- sprintf('%s ATT (SE): %.3f (%.3f)\\n%s', att$DIDparams$glist[[i]], att$att.egt[[i]], att$se.egt[[i]], cap)\n",
    "      }\n",
    "    # Plot ATT\n",
    "    att_fig <- ggdid(att, legend=F, x_lab='', ax_text_size = 8, ylab='', title='Group ATT', title_size = 10) + \n",
    "    labs(caption = cap) + \n",
    "              theme(plot.caption = element_text(hjust=0.5, size=8), \n",
    "              axis.title.x = element_blank(),\n",
    "              axis.text.y = element_text(angle=90, size=6, hjust=0.5),\n",
    "              panel.background = element_rect(fill='transparent'),\n",
    "              plot.background = element_rect(fill='transparent', color=NA),\n",
    "              legend.background = element_rect(fill='transparent'),\n",
    "              legend.box.background = element_rect(fill='transparent'),\n",
    "              plot.margin=unit(c(0,0,0,0),\"cm\"))\n",
    "    # Combine and annotate Group and ATT plot\n",
    "    # Get number of results plots\n",
    "    nr <- length(unique(result_fig$data$grtitle))\n",
    "    combined_fig <- ggarrange(result_fig, att_fig, widths = c(nr, 1)) + \n",
    "                    theme(plot.margin=unit(c(0,0,0,0),\"cm\"))\n",
    "    combined_fig_anno <- annotate_figure(combined_fig,\n",
    "                  top = text_grob(sprintf('Treatment: %s', treatments_dict[[treatment]])))\n",
    "    figures[[length(figures)+1]] <- combined_fig_anno\n",
    "  }\n",
    "  # Set-up and call combine and save\n",
    "  title <- sprintf(\"Federal elections: Effects on the %s's vote share - conditional model\", party)\n",
    "  caption <- '**Notes:** The effect of municipalities being affected by powerline projects in 2005, 2010 and 2014 estimated under the conditional parallel trends assumption. \n",
    "  All models are estimated using a regression estimator that includes the population density, share of unemployed, share of females, average age, as well as dummies for east and south Germany as control variables. \n",
    "  Never treated municipalities are used as control group.\n",
    "  Red lines give point estimates and simultaneous 95% confidence bands for pre-treatment periods allowing for clustering at the municipality level. \n",
    "  Under the null hypothesis of the parallel trends assumption holding in all periods, these should be equal to 0. \n",
    "  Blue lines provide point estimates and simultaneous 95% confidence bands for the treatment effect of municipalities being affected by a powerline project \n",
    "  allowing for clustering at the municipality level. The first row includes municipalities directly affected by a powerline project, \n",
    "  the second row municipalities within 0-15km, the third row municipalities within 15-30 km, and the last row municipalities within 30-50 km distance of a powerline project.\n",
    "  Groups are not nested, i.e., do not contain municipalities already assigned to other groups. \n",
    "  The group-time average treatment effects (ATT) are shown in the left columns. The group-average treatment effects, \n",
    "  which are given as the average effect of the treatment for a given group across all post-treatment periods, are shown in the right column. \n",
    "  The overall ATT is given as the average of all group ATTs.\n",
    "  Wald-p is the test statistic for the Wald pre-test of the parallel trends assumption.'\n",
    "  filename <- sprintf('%s_%s', n, party)\n",
    "  subpath <- 'BTW/2_control' \n",
    "  figs_tex <- combine_and_save(figures, result, party, title, caption, n, filename, subpath, figs_tex)\n",
    "  n <- n + 1\n",
    "  print(party)\n",
    "}"
   ]
  },
  {
   "cell_type": "markdown",
   "metadata": {},
   "source": [
    "DiD for LTW no controls by state"
   ]
  },
  {
   "cell_type": "code",
   "execution_count": null,
   "metadata": {
    "vscode": {
     "languageId": "r"
    }
   },
   "outputs": [],
   "source": [
    "# read in the data set\n",
    "ltw <- import(sprintf(\"%s/data/ltw_treat.csv\", path))"
   ]
  },
  {
   "cell_type": "code",
   "execution_count": null,
   "metadata": {
    "vscode": {
     "languageId": "r"
    }
   },
   "outputs": [],
   "source": [
    "states_dict <- hash('NI'='Lower Saxony', 'NW'='North-Rhine Westphalia', 'HE'='Hesse', 'BY'='Bavaria')\n",
    "states <- keys(states_dict)\n",
    "results  <- list()\n",
    "n <- 13\n",
    "for (state in states){\n",
    "  for(party in parties){\n",
    "    figures  <- list()\n",
    "    reg_data <- subset(ltw, Land == state)\n",
    "    for(treatment in treatments){\n",
    "      result <- att_gt(yname = party,\n",
    "                    gname = treatment,\n",
    "                    idname = 'AGS',\n",
    "                    panel = TRUE,\n",
    "                    tname = 'year',\n",
    "                    xformla = ~ 1,\n",
    "                    data = reg_data,\n",
    "                    est_method = 'reg',\n",
    "                    anticipation = 0,\n",
    "                    control_group = 'notyettreated',\n",
    "                    clustervars = c('AGS'),\n",
    "                    bstrap = TRUE,\n",
    "                    cband = TRUE,\n",
    "                    allow_unbalanced_panel = TRUE,\n",
    "                    \n",
    "      )\n",
    "    results[[length(results)+1]] <- result\n",
    "    # calculate ATT\n",
    "    att <- aggte(result, type = \"group\", bstrap = TRUE, clustervars = c('AGS'))\n",
    "    # plot results\n",
    "    result_fig <- ggdid(result, \n",
    "              ylim = c(floor(min(result$att - result$se * 2.345 - 0.3)), ceiling(max(result$att + result$se * 2.345 + 0.3))),\n",
    "              ncol = 3, ax_text_size = 8, grtitle='', title_size = 10, legend=F) +\n",
    "              labs(caption = sprintf('Overall ATT (SE): %.3f (%.3f) \\n Wald-p: %.3f; Municipalities: %s \\n' ,\n",
    "              att$overall.att, att$overall.se, result$Wpval, format(result$n, big.mark=\",\"))) +\n",
    "              theme(plot.caption = element_text(hjust=0.5, size=8),\n",
    "              panel.background = element_rect(fill='transparent'),\n",
    "              plot.background = element_rect(fill='transparent', color=NA),\n",
    "              legend.background = element_rect(fill='transparent'),\n",
    "              legend.box.background = element_rect(fill='transparent'),\n",
    "              plot.margin=unit(c(0,0,0,0),\"cm\"))\n",
    "    # Get caption for ATT plot\n",
    "    cap = ''\n",
    "      for(i in 1:length(att$DIDparams$glist)) {\n",
    "        cap <- sprintf('%s ATT (SE): %.3f (%.3f)\\n%s', att$DIDparams$glist[[i]], att$att.egt[[i]], att$se.egt[[i]], cap)\n",
    "      }\n",
    "    # Plot ATT\n",
    "    att_fig <- ggdid(att, legend=F, x_lab='', ax_text_size = 8, ylab='', title='Group ATT', title_size = 10) + \n",
    "    labs(caption = cap) + \n",
    "              theme(plot.caption = element_text(hjust=0.5, size=8), \n",
    "              axis.title.x = element_blank(),\n",
    "              axis.text.y = element_text(angle=90, size=6, hjust=0.5),\n",
    "              panel.background = element_rect(fill='transparent'),\n",
    "              plot.background = element_rect(fill='transparent', color=NA),\n",
    "              legend.background = element_rect(fill='transparent'),\n",
    "              legend.box.background = element_rect(fill='transparent'),\n",
    "              plot.margin=unit(c(0,0,0,0),\"cm\"))\n",
    "    # Combine and annotate Group and ATT plot\n",
    "    # Get number of results plots\n",
    "    nr <- length(unique(result_fig$data$grtitle))\n",
    "    combined_fig <- ggarrange(result_fig, att_fig, widths = c(nr, 1)) + \n",
    "                    theme(plot.margin=unit(c(0,0,0,0),\"cm\"))\n",
    "    combined_fig_anno <- annotate_figure(combined_fig,\n",
    "                  top = text_grob(sprintf('Treatment: %s', treatments_dict[[treatment]])))\n",
    "    figures[[length(figures)+1]] <- combined_fig_anno\n",
    "    }\n",
    "    # Set-up and call combine and save\n",
    "    title <- sprintf(\"State election %s: Effect on the %s's vote share - unconditional model\", state, party)\n",
    "    caption <- '**Notes:** The effect of municipalities being affected by powerline projects in 2005, 2010 and 2014 estimated under the unconditional parallel trends assumption. \n",
    "    Not-yet treated municipalities are used as control group.\n",
    "    Red lines give point estimates and simultaneous 95% confidence bands for pre-treatment periods allowing for clustering at the municipality level. \n",
    "    Under the null hypothesis of the parallel trends assumption holding in all periods, these should be equal to 0. \n",
    "    Blue lines provide point estimates and simultaneous 95% confidence bands for the treatment effect of municipalities being affected by a powerline project \n",
    "    allowing for clustering at the municipality level. The first row includes municipalities directly affected by a powerline project, \n",
    "    the second row municipalities within 0-15km, the third row municipalities within 15-30 km, and the last row municipalities within 30-50 km distance of a powerline project.\n",
    "    Groups are not nested, i.e., do not contain municipalities already assigned to other groups. \n",
    "    The group-time average treatment effects (ATT) are shown in the left columns. The group-average treatment effects, \n",
    "    which are given as the average effect of the treatment for a given group across all post-treatment periods, are shown in the right column. \n",
    "    The overall ATT is given as the average of all group ATTs.\n",
    "    Wald-p is the test statistic for the Wald pre-test of the parallel trends assumption.'\n",
    "    filename <- sprintf('%s_%s_%s', n, state, party)\n",
    "    subpath <- 'LTW/1_no_control' \n",
    "    figs_tex <- combine_and_save(figures, result, party, title, caption, n, filename, subpath, figs_tex)\n",
    "    n <- n + 2\n",
    "    print(sprintf('%s: %s', state, party))\n",
    "  }\n",
    "}"
   ]
  },
  {
   "cell_type": "markdown",
   "metadata": {},
   "source": [
    "DiD for LTW controls by state"
   ]
  },
  {
   "cell_type": "code",
   "execution_count": null,
   "metadata": {
    "vscode": {
     "languageId": "r"
    }
   },
   "outputs": [],
   "source": [
    "ltw_c <- import(sprintf(\"%s/data/ltw_control.csv\", path))"
   ]
  },
  {
   "cell_type": "code",
   "execution_count": null,
   "metadata": {
    "vscode": {
     "languageId": "r"
    }
   },
   "outputs": [],
   "source": [
    "states_dict <- hash('NI'='Lower Saxony', 'NW'='North-Rhine Westphalia', 'HE'='Hesse', 'BY'='Bavaria')\n",
    "states <- keys(states_dict)\n",
    "results  <- list()\n",
    "n <- 14\n",
    "for (state in states){\n",
    "  for(party in parties){\n",
    "    figures  <- list()\n",
    "    reg_data <- subset(ltw_c, Land == state)\n",
    "    for(treatment in treatments){\n",
    "      result <- att_gt(yname = party,\n",
    "                    gname = treatment,\n",
    "                    idname = 'AGS',\n",
    "                    panel = TRUE,\n",
    "                    tname = 'year',\n",
    "                    xformla = ~ pop_density + unemployed + avg_age + female,\n",
    "                    data = reg_data,\n",
    "                    est_method = 'reg',\n",
    "                    anticipation = 0,\n",
    "                    control_group = 'notyettreated',\n",
    "                    clustervars = c('AGS'),\n",
    "                    bstrap = TRUE,\n",
    "                    cband = TRUE,\n",
    "                    allow_unbalanced_panel = TRUE,\n",
    "                    \n",
    "      )\n",
    "    results[[length(results)+1]] <- result\n",
    "    # calculate ATT\n",
    "    att <- aggte(result, type = \"group\", bstrap = TRUE, clustervars = c('AGS'))\n",
    "    # plot results\n",
    "    result_fig <- ggdid(result, \n",
    "              ylim = c(floor(min(result$att - result$se * 2.345 - 0.3)), ceiling(max(result$att + result$se * 2.345 + 0.3))),\n",
    "              ncol = 3, ax_text_size = 8, grtitle='', title_size = 10, legend=F) +\n",
    "              labs(caption = sprintf('Overall ATT (SE): %.3f (%.3f) \\n Wald-p: %.3f; Municipalities: %s \\n' ,\n",
    "              att$overall.att, att$overall.se, result$Wpval, format(result$n, big.mark=\",\"))) +\n",
    "              theme(plot.caption = element_text(hjust=0.5, size=8),\n",
    "              panel.background = element_rect(fill='transparent'),\n",
    "              plot.background = element_rect(fill='transparent', color=NA),\n",
    "              legend.background = element_rect(fill='transparent'),\n",
    "              legend.box.background = element_rect(fill='transparent'),\n",
    "              plot.margin=unit(c(0,0,0,0),\"cm\"))\n",
    "    # Get caption for ATT plot\n",
    "    cap = ''\n",
    "      for(i in 1:length(att$DIDparams$glist)) {\n",
    "        cap <- sprintf('%s ATT (SE): %.3f (%.3f)\\n%s', att$DIDparams$glist[[i]], att$att.egt[[i]], att$se.egt[[i]], cap)\n",
    "      }\n",
    "    # Plot ATT\n",
    "    att_fig <- ggdid(att, legend=F, x_lab='', ax_text_size = 8, ylab='', title='Group ATT', title_size = 10) + \n",
    "    labs(caption = cap) + \n",
    "              theme(plot.caption = element_text(hjust=0.5, size=8), \n",
    "              axis.title.x = element_blank(),\n",
    "              axis.text.y = element_text(angle=90, size=6, hjust=0.5),\n",
    "              panel.background = element_rect(fill='transparent'),\n",
    "              plot.background = element_rect(fill='transparent', color=NA),\n",
    "              legend.background = element_rect(fill='transparent'),\n",
    "              legend.box.background = element_rect(fill='transparent'),\n",
    "              plot.margin=unit(c(0,0,0,0),\"cm\"))\n",
    "    # Combine and annotate Group and ATT plot\n",
    "    # Get number of results plots\n",
    "    nr <- length(unique(result_fig$data$grtitle))\n",
    "    combined_fig <- ggarrange(result_fig, att_fig, widths = c(nr, 1)) + \n",
    "                    theme(plot.margin=unit(c(0,0,0,0),\"cm\"))\n",
    "    combined_fig_anno <- annotate_figure(combined_fig,\n",
    "                  top = text_grob(sprintf('Treatment: %s', treatments_dict[[treatment]])))\n",
    "    figures[[length(figures)+1]] <- combined_fig_anno\n",
    "    }\n",
    "    # Set-up and call combine and save\n",
    "    title <- sprintf(\"State election %s: Effect on the %s's vote share - conditional model\", state, party)\n",
    "    caption <- '**Notes:** The effect of municipalities being affected by powerline projects in 2005, 2010 and 2014 estimated under the conditional parallel trends assumption. \n",
    "    All models are estimated using a regression estimator that includes the population density, share of unemployed, share of females, and average age as  control variables. \n",
    "    Not-yet treated municipalities are used as control group.\n",
    "    Red lines give point estimates and simultaneous 95% confidence bands for pre-treatment periods allowing for clustering at the municipality level. \n",
    "    Under the null hypothesis of the parallel trends assumption holding in all periods, these should be equal to 0. \n",
    "    Blue lines provide point estimates and simultaneous 95% confidence bands for the treatment effect of municipalities being affected by a powerline project \n",
    "    allowing for clustering at the municipality level. The first row includes municipalities directly affected by a powerline project, \n",
    "    the second row municipalities within 0-15km, the third row municipalities within 15-30 km, and the last row municipalities within 30-50 km distance of a powerline project.\n",
    "    Groups are not nested, i.e., do not contain municipalities already assigned to other groups. \n",
    "    The group-time average treatment effects (ATT) are shown in the left columns. The group-average treatment effects, \n",
    "    which are given as the average effect of the treatment for a given group across all post-treatment periods, are shown in the right column. \n",
    "    The overall ATT is given as the average of all group ATTs.\n",
    "    Wald-p is the test statistic for the Wald pre-test of the parallel trends assumption.'\n",
    "    filename <- sprintf('%s_%s_%s', n, state, party)\n",
    "    subpath <- 'LTW/2_control' \n",
    "    figs_tex <- combine_and_save(figures, result, party, title, caption, n, filename, subpath, figs_tex)\n",
    "    n <- n + 2\n",
    "    print(sprintf('%s: %s', state, party))\n",
    "  }\n",
    "}"
   ]
  },
  {
   "cell_type": "markdown",
   "metadata": {},
   "source": [
    "Robustness 1: BTW control without postal votes"
   ]
  },
  {
   "cell_type": "code",
   "execution_count": null,
   "metadata": {
    "vscode": {
     "languageId": "r"
    }
   },
   "outputs": [],
   "source": [
    "btw_np <- import(sprintf(\"%s/data/btw_control_nopostal.csv\", path))"
   ]
  },
  {
   "cell_type": "code",
   "execution_count": null,
   "metadata": {
    "vscode": {
     "languageId": "r"
    }
   },
   "outputs": [],
   "source": [
    "results  <- list()\n",
    "n <- 61\n",
    "for(party in parties){\n",
    "  figures  <- list()\n",
    "  for(treatment in treatments){\n",
    "    result <- att_gt(yname = party,\n",
    "                  gname = treatment,\n",
    "                  idname = 'AGS',\n",
    "                  panel = TRUE,\n",
    "                  tname = 'year',\n",
    "                  xformla = ~ east + south + pop_density + unemployed + female + avg_age,\n",
    "                  data = btw_np,\n",
    "                  est_method = 'reg',\n",
    "                  anticipation = 0,\n",
    "                  control_group = 'nevertreated',\n",
    "                  clustervars = c('AGS'),\n",
    "                  bstrap = TRUE,\n",
    "                  cband = TRUE,\n",
    "                  allow_unbalanced_panel = TRUE,\n",
    "                  \n",
    "    )\n",
    "    results[[length(results)+1]] <- result\n",
    "    # calculate ATT\n",
    "    att <- aggte(result, type = \"group\", bstrap = TRUE, clustervars = c('AGS'))\n",
    "    # plot results\n",
    "    result_fig <- ggdid(result, \n",
    "              ylim = c(floor(min(result$att - result$se * 2.345 - 0.3)), ceiling(max(result$att + result$se * 2.345 + 0.3))),\n",
    "              ncol = 3, ax_text_size = 8, grtitle='', title_size = 10, legend=F) +\n",
    "              labs(caption = sprintf('Overall ATT (SE): %.3f (%.3f) \\n Wald-p: %.3f; Municipalities: %s \\n' ,\n",
    "              att$overall.att, att$overall.se, result$Wpval, format(result$n, big.mark=\",\"))) +\n",
    "              theme(plot.caption = element_text(hjust=0.5, size=8),\n",
    "              panel.background = element_rect(fill='transparent'),\n",
    "              plot.background = element_rect(fill='transparent', color=NA),\n",
    "              legend.background = element_rect(fill='transparent'),\n",
    "              legend.box.background = element_rect(fill='transparent'),\n",
    "              plot.margin=unit(c(0,0,0,0),\"cm\"))\n",
    "    # Get caption for ATT plot\n",
    "    cap = ''\n",
    "      for(i in 1:length(att$DIDparams$glist)) {\n",
    "        cap <- sprintf('%s ATT (SE): %.3f (%.3f)\\n%s', att$DIDparams$glist[[i]], att$att.egt[[i]], att$se.egt[[i]], cap)\n",
    "      }\n",
    "    # Plot ATT\n",
    "    att_fig <- ggdid(att, legend=F, x_lab='', ax_text_size = 8, ylab='', title='Group ATT', title_size = 10) + \n",
    "    labs(caption = cap) + \n",
    "              theme(plot.caption = element_text(hjust=0.5, size=8), \n",
    "              axis.title.x = element_blank(),\n",
    "              axis.text.y = element_text(angle=90, size=6, hjust=0.5),\n",
    "              panel.background = element_rect(fill='transparent'),\n",
    "              plot.background = element_rect(fill='transparent', color=NA),\n",
    "              legend.background = element_rect(fill='transparent'),\n",
    "              legend.box.background = element_rect(fill='transparent'),\n",
    "              plot.margin=unit(c(0,0,0,0),\"cm\"))\n",
    "    # Combine and annotate Group and ATT plot\n",
    "    # Get number of results plots\n",
    "    nr <- length(unique(result_fig$data$grtitle))\n",
    "    combined_fig <- ggarrange(result_fig, att_fig, widths = c(nr, 1)) + \n",
    "                    theme(plot.margin=unit(c(0,0,0,0),\"cm\"))\n",
    "    combined_fig_anno <- annotate_figure(combined_fig,\n",
    "                  top = text_grob(sprintf('Treatment: %s', treatments_dict[[treatment]])))\n",
    "    figures[[length(figures)+1]] <- combined_fig_anno\n",
    "  }\n",
    "  # Set-up and call combine and save\n",
    "  title <- sprintf(\"Federal elections: Effects on the %s's vote share - no postal votes\", party)\n",
    "  caption <- '**Notes:** The effect of municipalities being affected by powerline projects in 2005, 2010 and 2014 estimated under the conditional parallel trends assumption. \n",
    "  All models are estimated using a regression estimator that includes the population density, share of unemployed, share of females, average age, as well as dummies for east and south Germany as control variables. \n",
    "  Never treated municipalities are used as control group.\n",
    "  Red lines give point estimates and simultaneous 95% confidence bands for pre-treatment periods allowing for clustering at the municipality level. \n",
    "  Under the null hypothesis of the parallel trends assumption holding in all periods, these should be equal to 0. \n",
    "  Blue lines provide point estimates and simultaneous 95% confidence bands for the treatment effect of municipalities being affected by a powerline project \n",
    "  allowing for clustering at the municipality level. The first row includes municipalities directly affected by a powerline project, \n",
    "  the second row municipalities within 0-15km, the third row municipalities within 15-30 km, and the last row municipalities within 30-50 km distance of a powerline project.\n",
    "  Groups are not nested, i.e., do not contain municipalities already assigned to other groups. \n",
    "  The group-time average treatment effects (ATT) are shown in the left columns. The group-average treatment effects, \n",
    "  which are given as the average effect of the treatment for a given group across all post-treatment periods, are shown in the right column. \n",
    "  The overall ATT is given as the average of all group ATTs.\n",
    "  Wald-p is the test statistic for the Wald pre-test of the parallel trends assumption.'\n",
    "  filename <- sprintf('%s_%s', n, party)\n",
    "  subpath <- 'BTW/3_no_postal' \n",
    "  figs_tex <- combine_and_save(figures, result, party, title, caption, n, filename, subpath, figs_tex)\n",
    "  n <- n + 1\n",
    "  print(party)\n",
    "}"
   ]
  },
  {
   "cell_type": "markdown",
   "metadata": {},
   "source": [
    "Robustness 2: Not-yet treated as controls"
   ]
  },
  {
   "cell_type": "code",
   "execution_count": null,
   "metadata": {
    "vscode": {
     "languageId": "r"
    }
   },
   "outputs": [],
   "source": [
    "results  <- list()\n",
    "n <- 67\n",
    "for(party in parties){\n",
    "  figures  <- list()\n",
    "  for(treatment in treatments){\n",
    "    result <- att_gt(yname = party,\n",
    "                  gname = treatment,\n",
    "                  idname = 'AGS',\n",
    "                  panel = TRUE,\n",
    "                  tname = 'year',\n",
    "                  xformla = ~ east + south + pop_density + unemployed + female + avg_age,\n",
    "                  data = btw_c,\n",
    "                  est_method = 'reg',\n",
    "                  anticipation = 0,\n",
    "                  control_group = 'notyettreated',\n",
    "                  clustervars = c('AGS'),\n",
    "                  bstrap = TRUE,\n",
    "                  cband = TRUE,\n",
    "                  allow_unbalanced_panel = TRUE,\n",
    "                  \n",
    "    )\n",
    "    results[[length(results)+1]] <- result\n",
    "    # calculate ATT\n",
    "    att <- aggte(result, type = \"group\", bstrap = TRUE, clustervars = c('AGS'))\n",
    "    # plot results\n",
    "    result_fig <- ggdid(result, \n",
    "              ylim = c(floor(min(result$att - result$se * 2.345 - 0.3)), ceiling(max(result$att + result$se * 2.345 + 0.3))),\n",
    "              ncol = 3, ax_text_size = 8, grtitle='', title_size = 10, legend=F) +\n",
    "              labs(caption = sprintf('Overall ATT (SE): %.3f (%.3f) \\n Wald-p: %.3f; Municipalities: %s \\n' ,\n",
    "              att$overall.att, att$overall.se, result$Wpval, format(result$n, big.mark=\",\"))) +\n",
    "              theme(plot.caption = element_text(hjust=0.5, size=8),\n",
    "              panel.background = element_rect(fill='transparent'),\n",
    "              plot.background = element_rect(fill='transparent', color=NA),\n",
    "              legend.background = element_rect(fill='transparent'),\n",
    "              legend.box.background = element_rect(fill='transparent'),\n",
    "              plot.margin=unit(c(0,0,0,0),\"cm\"))\n",
    "    # Get caption for ATT plot\n",
    "    cap = ''\n",
    "      for(i in 1:length(att$DIDparams$glist)) {\n",
    "        cap <- sprintf('%s ATT (SE): %.3f (%.3f)\\n%s', att$DIDparams$glist[[i]], att$att.egt[[i]], att$se.egt[[i]], cap)\n",
    "      }\n",
    "    # Plot ATT\n",
    "    att_fig <- ggdid(att, legend=F, x_lab='', ax_text_size = 8, ylab='', title='Group ATT', title_size = 10) + \n",
    "    labs(caption = cap) + \n",
    "              theme(plot.caption = element_text(hjust=0.5, size=8), \n",
    "              axis.title.x = element_blank(),\n",
    "              axis.text.y = element_text(angle=90, size=6, hjust=0.5),\n",
    "              panel.background = element_rect(fill='transparent'),\n",
    "              plot.background = element_rect(fill='transparent', color=NA),\n",
    "              legend.background = element_rect(fill='transparent'),\n",
    "              legend.box.background = element_rect(fill='transparent'),\n",
    "              plot.margin=unit(c(0,0,0,0),\"cm\"))\n",
    "    # Combine and annotate Group and ATT plot\n",
    "    # Get number of results plots\n",
    "    nr <- length(unique(result_fig$data$grtitle))\n",
    "    combined_fig <- ggarrange(result_fig, att_fig, widths = c(nr, 1)) + \n",
    "                    theme(plot.margin=unit(c(0,0,0,0),\"cm\"))\n",
    "    combined_fig_anno <- annotate_figure(combined_fig,\n",
    "                  top = text_grob(sprintf('Treatment: %s', treatments_dict[[treatment]])))\n",
    "    figures[[length(figures)+1]] <- combined_fig_anno\n",
    "  }\n",
    "  # Set-up and call combine and save\n",
    "  title <- sprintf(\"Federal elections: Effects on the %s's vote share - not-yet treated control group\", party)\n",
    "  caption <- '**Notes:** The effect of municipalities being affected by powerline projects in 2005, 2010 and 2014 estimated under the conditional parallel trends assumption. \n",
    "  All models are estimated using a regression estimator that includes the population density, share of unemployed, share of females, average age, as well as dummies for east and south Germany as control variables. \n",
    "  Not-yet treated municipalities are used as control group.\n",
    "  Red lines give point estimates and simultaneous 95% confidence bands for pre-treatment periods allowing for clustering at the municipality level. \n",
    "  Under the null hypothesis of the parallel trends assumption holding in all periods, these should be equal to 0. \n",
    "  Blue lines provide point estimates and simultaneous 95% confidence bands for the treatment effect of municipalities being affected by a powerline project \n",
    "  allowing for clustering at the municipality level. The first row includes municipalities directly affected by a powerline project, \n",
    "  the second row municipalities within 0-15km, the third row municipalities within 15-30 km, and the last row municipalities within 30-50 km distance of a powerline project.\n",
    "  Groups are not nested, i.e., do not contain municipalities already assigned to other groups. \n",
    "  The group-time average treatment effects (ATT) are shown in the left columns. The group-average treatment effects, \n",
    "  which are given as the average effect of the treatment for a given group across all post-treatment periods, are shown in the right column. \n",
    "  The overall ATT is given as the average of all group ATTs.\n",
    "  Wald-p is the test statistic for the Wald pre-test of the parallel trends assumption.'\n",
    "  filename <- sprintf('%s_%s', n, party)\n",
    "  subpath <- 'BTW/4_not_yet' \n",
    "  figs_tex <- combine_and_save(figures, result, party, title, caption, n, filename, subpath, figs_tex)\n",
    "  n <- n + 1\n",
    "  print(party)\n",
    "}"
   ]
  },
  {
   "cell_type": "markdown",
   "metadata": {},
   "source": [
    "Robustness 3: With anticipation"
   ]
  },
  {
   "cell_type": "code",
   "execution_count": null,
   "metadata": {
    "vscode": {
     "languageId": "r"
    }
   },
   "outputs": [],
   "source": [
    "n <- 73\n",
    "for(party in parties){\n",
    "  figures  <- list()\n",
    "  for(treatment in treatments){\n",
    "    result <- att_gt(yname = party,\n",
    "                  gname = treatment,\n",
    "                  idname = 'AGS',\n",
    "                  panel = TRUE,\n",
    "                  tname = 'year',\n",
    "                  xformla = ~ east + south + pop_density + unemployed + female + avg_age,\n",
    "                  data = btw_c,\n",
    "                  est_method = 'reg',\n",
    "                  anticipation = 1,\n",
    "                  control_group = 'nevertreated',\n",
    "                  clustervars = c('AGS'),\n",
    "                  bstrap = TRUE,\n",
    "                  cband = TRUE,\n",
    "                  allow_unbalanced_panel = TRUE,\n",
    "                  \n",
    "    )\n",
    "    results[[length(results)+1]] <- result\n",
    "    # calculate ATT\n",
    "    att <- aggte(result, type = \"group\", bstrap = TRUE, clustervars = c('AGS'))\n",
    "    # plot results\n",
    "    result_fig <- ggdid(result, \n",
    "              ylim = c(floor(min(result$att - result$se * 2.345 - 0.3)), ceiling(max(result$att + result$se * 2.345 + 0.3))),\n",
    "              ncol = 3, ax_text_size = 8, grtitle='', title_size = 10, legend=F) +\n",
    "              labs(caption = sprintf('Overall ATT (SE): %.3f (%.3f) \\n Wald-p: %.3f; Municipalities: %s \\n' ,\n",
    "              att$overall.att, att$overall.se, result$Wpval, format(result$n, big.mark=\",\"))) +\n",
    "              theme(plot.caption = element_text(hjust=0.5, size=8),\n",
    "              panel.background = element_rect(fill='transparent'),\n",
    "              plot.background = element_rect(fill='transparent', color=NA),\n",
    "              legend.background = element_rect(fill='transparent'),\n",
    "              legend.box.background = element_rect(fill='transparent'),\n",
    "              plot.margin=unit(c(0,0,0,0),\"cm\"))\n",
    "    # Get caption for ATT plot\n",
    "    cap = ''\n",
    "      for(i in 1:length(att$DIDparams$glist)) {\n",
    "        cap <- sprintf('%s ATT (SE): %.3f (%.3f)\\n%s', att$DIDparams$glist[[i]], att$att.egt[[i]], att$se.egt[[i]], cap)\n",
    "      }\n",
    "    # Plot ATT\n",
    "    att_fig <- ggdid(att, legend=F, x_lab='', ax_text_size = 8, ylab='', title='Group ATT', title_size = 10) + \n",
    "    labs(caption = cap) + \n",
    "              theme(plot.caption = element_text(hjust=0.5, size=8), \n",
    "              axis.title.x = element_blank(),\n",
    "              axis.text.y = element_text(angle=90, size=6, hjust=0.5),\n",
    "              panel.background = element_rect(fill='transparent'),\n",
    "              plot.background = element_rect(fill='transparent', color=NA),\n",
    "              legend.background = element_rect(fill='transparent'),\n",
    "              legend.box.background = element_rect(fill='transparent'),\n",
    "              plot.margin=unit(c(0,0,0,0),\"cm\"))\n",
    "    # Combine and annotate Group and ATT plot\n",
    "    # Get number of results plots\n",
    "    nr <- length(unique(result_fig$data$grtitle))\n",
    "    combined_fig <- ggarrange(result_fig, att_fig, widths = c(nr, 1)) + \n",
    "                    theme(plot.margin=unit(c(0,0,0,0),\"cm\"))\n",
    "    combined_fig_anno <- annotate_figure(combined_fig,\n",
    "                  top = text_grob(sprintf('Treatment: %s', treatments_dict[[treatment]])))\n",
    "    figures[[length(figures)+1]] <- combined_fig_anno\n",
    "  }\n",
    "  # Set-up and call combine and save\n",
    "  title <- sprintf(\"Federal elections: Effects on the %s's vote share - with one anticipation period\", party)\n",
    "  caption <- '**Notes:** The effect of municipalities being affected by powerline projects in 2005, 2010 and 2014 estimated under the conditional parallel trends assumption. \n",
    "  All models are estimated using a regression estimator that includes the population density, share of unemployed, share of females, average age, as well as dummies for east and south Germany as control variables. \n",
    "  Never treated municipalities are used as control group.\n",
    "  Red lines give point estimates and simultaneous 95% confidence bands for pre-treatment periods allowing for clustering at the municipality level. \n",
    "  Under the null hypothesis of the parallel trends assumption holding in all periods, these should be equal to 0. \n",
    "  Blue lines provide point estimates and simultaneous 95% confidence bands for the treatment effect of municipalities being affected by a powerline project \n",
    "  allowing for clustering at the municipality level. The first row includes municipalities directly affected by a powerline project, \n",
    "  the second row municipalities within 0-15km, the third row municipalities within 15-30 km, and the last row municipalities within 30-50 km distance of a powerline project.\n",
    "  Groups are not nested, i.e., do not contain municipalities already assigned to other groups. \n",
    "  The group-time average treatment effects (ATT) are shown in the left columns. The group-average treatment effects, \n",
    "  which are given as the average effect of the treatment for a given group across all post-treatment periods, are shown in the right column. \n",
    "  The overall ATT is given as the average of all group ATTs.\n",
    "  Wald-p is the test statistic for the Wald pre-test of the parallel trends assumption.'\n",
    "  filename <- sprintf('%s_%s', n, party)\n",
    "  subpath <- 'BTW/5_anticipation' \n",
    "  figs_tex <- combine_and_save(figures, result, party, title, caption, n, filename, subpath, figs_tex)\n",
    "  n <- n + 1\n",
    "  print(party)\n",
    "}"
   ]
  },
  {
   "cell_type": "markdown",
   "metadata": {},
   "source": [
    "Robustness 4: DiD for BTW with controls by state"
   ]
  },
  {
   "cell_type": "code",
   "execution_count": null,
   "metadata": {
    "vscode": {
     "languageId": "r"
    }
   },
   "outputs": [],
   "source": [
    "btw_c <- import(sprintf(\"%s/data/btw_control.csv\", path))"
   ]
  },
  {
   "cell_type": "code",
   "execution_count": null,
   "metadata": {
    "vscode": {
     "languageId": "r"
    }
   },
   "outputs": [],
   "source": [
    "states_dict <- hash('BB'='Brandenburg', 'BW'='Baden-Württemberg', 'BY'='Bavaria', 'HE'='Hesse', 'MV'='Mecklenburg-Vorpommern', 'NI'='Lower Saxony', \n",
    "'NW'='North-Rhine Westphalia', 'RP'='Rhineland-Palatine', 'SH'='Schleswig-Holstein', 'ST'='Saxony-Anhalt', 'TH'='Thuringia') \n",
    "# all states - those never/always treated: BE, HH, HB, SL, SN, HE\n",
    "states <- keys(states_dict)\n",
    "results <- list()\n",
    "n <- 79\n",
    "for (state in states){\n",
    "  for(party in parties){\n",
    "    print(sprintf('%s: %s', state, party))\n",
    "    reg_data <- subset(btw_c, Land == state)\n",
    "    figures  <- list()\n",
    "    for(treatment in treatments){\n",
    "      result <- att_gt(yname = party,\n",
    "                    gname = treatment,\n",
    "                    idname = 'AGS',\n",
    "                    panel = TRUE,\n",
    "                    tname = 'year',\n",
    "                    xformla = ~ pop_density + unemployed + female + avg_age,\n",
    "                    data = reg_data,\n",
    "                    est_method = 'reg',\n",
    "                    anticipation = 0,\n",
    "                    control_group = 'notyettreated',\n",
    "                    clustervars = c('AGS'),\n",
    "                    bstrap = TRUE,\n",
    "                    cband = TRUE,\n",
    "                    allow_unbalanced_panel = TRUE,\n",
    "                    \n",
    "      )\n",
    "    results[[length(results)+1]] <- result\n",
    "    # calculate ATT\n",
    "    att <- aggte(result, type = \"group\", bstrap = TRUE, clustervars = c('AGS'))\n",
    "    # plot results\n",
    "    result_fig <- ggdid(result, \n",
    "              ylim = c(floor(min(result$att - result$se * 2.345 - 0.3)), ceiling(max(result$att + result$se * 2.345 + 0.3))),\n",
    "              ncol = 3, ax_text_size = 8, grtitle='', title_size = 10, legend=F) +\n",
    "              labs(caption = sprintf('Overall ATT (SE): %.3f (%.3f) \\n Wald-p: %.3f; Municipalities: %s \\n' ,\n",
    "              att$overall.att, att$overall.se, result$Wpval, format(result$n, big.mark=\",\"))) +\n",
    "              theme(plot.caption = element_text(hjust=0.5, size=8),\n",
    "              panel.background = element_rect(fill='transparent'),\n",
    "              plot.background = element_rect(fill='transparent', color=NA),\n",
    "              legend.background = element_rect(fill='transparent'),\n",
    "              legend.box.background = element_rect(fill='transparent'),\n",
    "              plot.margin=unit(c(0,0,0,0),\"cm\"))\n",
    "    # Get caption for ATT plot\n",
    "    cap = ''\n",
    "      for(i in 1:length(att$DIDparams$glist)) {\n",
    "        cap <- sprintf('%s ATT (SE): %.3f (%.3f)\\n%s', att$DIDparams$glist[[i]], att$att.egt[[i]], att$se.egt[[i]], cap)\n",
    "      }\n",
    "    # Plot ATT\n",
    "    att_fig <- ggdid(att, legend=F, x_lab='', ax_text_size = 8, ylab='', title='Group ATT', title_size = 10) + \n",
    "              labs(caption = cap) +\n",
    "              theme(plot.caption = element_text(hjust=0.5, size=8), \n",
    "              axis.title.x = element_blank(),\n",
    "              axis.text.y = element_text(angle=90, size=6, hjust=0.5),\n",
    "              panel.background = element_rect(fill='transparent'),\n",
    "              plot.background = element_rect(fill='transparent', color=NA),\n",
    "              legend.background = element_rect(fill='transparent'),\n",
    "              legend.box.background = element_rect(fill='transparent'),\n",
    "              plot.margin=unit(c(0,0,0,0),\"cm\"))\n",
    "    # Combine and annotate Group and ATT plot\n",
    "    # Get number of results plots\n",
    "    nr <- length(unique(result_fig$data$grtitle))\n",
    "    combined_fig <- ggarrange(result_fig, att_fig, widths = c(nr, 1)) + \n",
    "                    theme(plot.margin=unit(c(0,0,0,0),\"cm\"))\n",
    "    combined_fig_anno <- annotate_figure(combined_fig,\n",
    "                  top = text_grob(sprintf('Treatment: %s', treatments_dict[[treatment]])))\n",
    "    figures[[length(figures)+1]] <- combined_fig_anno\n",
    "    }\n",
    "    # Set-up and call combine and save\n",
    "    title <- sprintf(\"Federal elections in %s: Effects on the %s's vote share\", state, party)\n",
    "    caption <- '**Notes:** The effect of municipalities being affected by powerline projects in 2005, 2010 and 2014 estimated under the conditional parallel trends assumption. \n",
    "    All models are estimated using a regression estimator that includes the population density, share of unemployed, share of females, and average age as control variables. \n",
    "    Not-yet treated municipalities are used as control group.\n",
    "    Red lines give point estimates and simultaneous 95% confidence bands for pre-treatment periods allowing for clustering at the municipality level. \n",
    "    Under the null hypothesis of the parallel trends assumption holding in all periods, these should be equal to 0. \n",
    "    Blue lines provide point estimates and simultaneous 95% confidence bands for the treatment effect of municipalities being affected by a powerline project \n",
    "    allowing for clustering at the municipality level. The first row includes municipalities directly affected by a powerline project, \n",
    "    the second row municipalities within 0-15km, the third row municipalities within 15-30 km, and the last row municipalities within 30-50 km distance of a powerline project.\n",
    "    Groups are not nested, i.e., do not contain municipalities already assigned to other groups. \n",
    "    The group-time average treatment effects (ATT) are shown in the left columns. The group-average treatment effects, \n",
    "    which are given as the average effect of the treatment for a given group across all post-treatment periods, are shown in the right column. \n",
    "    The overall ATT is given as the average of all group ATTs.\n",
    "    Wald-p is the test statistic for the Wald pre-test of the parallel trends assumption.'\n",
    "    filename <- sprintf('%s_%s_%s', n, party, state)\n",
    "    subpath <- 'BTW/6_by_state' \n",
    "    figs_tex <- combine_and_save(figures, result, party, title, caption, n, filename, subpath, figs_tex)\n",
    "    n <- n + 1\n",
    "    print(sprintf('%s: %s', state, party))\n",
    "  }\n",
    "}"
   ]
  },
  {
   "cell_type": "markdown",
   "metadata": {},
   "source": [
    "Order figs_tex"
   ]
  },
  {
   "cell_type": "code",
   "execution_count": null,
   "metadata": {
    "vscode": {
     "languageId": "r"
    }
   },
   "outputs": [],
   "source": [
    "order <- c(1:138)\n",
    "for (i in length(order)){\n",
    "    order[i] <- as.character(order[i])\n",
    "}\n",
    "figs_tex <- figs_tex[order]\n",
    "for (fig in figs_tex){\n",
    "    print(fig)\n",
    "}"
   ]
  },
  {
   "cell_type": "code",
   "execution_count": 469,
   "metadata": {
    "vscode": {
     "languageId": "r"
    }
   },
   "outputs": [
    {
     "data": {
      "text/html": [
       "<dl>\n",
       "\t<dt>$serif</dt>\n",
       "\t\t<dd><style>\n",
       ".list-inline {list-style: none; margin:0; padding: 0}\n",
       ".list-inline>li {display: inline-block}\n",
       ".list-inline>li:not(:last-child)::after {content: \"\\00b7\"; padding: 0 .5ex}\n",
       "</style>\n",
       "<ol class=list-inline><li>'Times-Roman'</li><li>'Times-Bold'</li><li>'Times-Italic'</li><li>'Times-BoldItalic'</li></ol>\n",
       "</dd>\n",
       "\t<dt>$sans</dt>\n",
       "\t\t<dd><style>\n",
       ".list-inline {list-style: none; margin:0; padding: 0}\n",
       ".list-inline>li {display: inline-block}\n",
       ".list-inline>li:not(:last-child)::after {content: \"\\00b7\"; padding: 0 .5ex}\n",
       "</style>\n",
       "<ol class=list-inline><li>'Helvetica'</li><li>'Helvetica-Bold'</li><li>'Helvetica-Oblique'</li><li>'Helvetica-BoldOblique'</li></ol>\n",
       "</dd>\n",
       "\t<dt>$mono</dt>\n",
       "\t\t<dd><style>\n",
       ".list-inline {list-style: none; margin:0; padding: 0}\n",
       ".list-inline>li {display: inline-block}\n",
       ".list-inline>li:not(:last-child)::after {content: \"\\00b7\"; padding: 0 .5ex}\n",
       "</style>\n",
       "<ol class=list-inline><li>'Courier'</li><li>'Courier-Bold'</li><li>'Courier-Oblique'</li><li>'Courier-BoldOblique'</li></ol>\n",
       "</dd>\n",
       "</dl>\n"
      ],
      "text/latex": [
       "\\begin{description}\n",
       "\\item[\\$serif] \\begin{enumerate*}\n",
       "\\item 'Times-Roman'\n",
       "\\item 'Times-Bold'\n",
       "\\item 'Times-Italic'\n",
       "\\item 'Times-BoldItalic'\n",
       "\\end{enumerate*}\n",
       "\n",
       "\\item[\\$sans] \\begin{enumerate*}\n",
       "\\item 'Helvetica'\n",
       "\\item 'Helvetica-Bold'\n",
       "\\item 'Helvetica-Oblique'\n",
       "\\item 'Helvetica-BoldOblique'\n",
       "\\end{enumerate*}\n",
       "\n",
       "\\item[\\$mono] \\begin{enumerate*}\n",
       "\\item 'Courier'\n",
       "\\item 'Courier-Bold'\n",
       "\\item 'Courier-Oblique'\n",
       "\\item 'Courier-BoldOblique'\n",
       "\\end{enumerate*}\n",
       "\n",
       "\\end{description}\n"
      ],
      "text/markdown": [
       "$serif\n",
       ":   1. 'Times-Roman'\n",
       "2. 'Times-Bold'\n",
       "3. 'Times-Italic'\n",
       "4. 'Times-BoldItalic'\n",
       "\n",
       "\n",
       "\n",
       "$sans\n",
       ":   1. 'Helvetica'\n",
       "2. 'Helvetica-Bold'\n",
       "3. 'Helvetica-Oblique'\n",
       "4. 'Helvetica-BoldOblique'\n",
       "\n",
       "\n",
       "\n",
       "$mono\n",
       ":   1. 'Courier'\n",
       "2. 'Courier-Bold'\n",
       "3. 'Courier-Oblique'\n",
       "4. 'Courier-BoldOblique'\n",
       "\n",
       "\n",
       "\n",
       "\n",
       "\n"
      ],
      "text/plain": [
       "$serif\n",
       "[1] \"Times-Roman\"      \"Times-Bold\"       \"Times-Italic\"     \"Times-BoldItalic\"\n",
       "\n",
       "$sans\n",
       "[1] \"Helvetica\"             \"Helvetica-Bold\"        \"Helvetica-Oblique\"    \n",
       "[4] \"Helvetica-BoldOblique\"\n",
       "\n",
       "$mono\n",
       "[1] \"Courier\"             \"Courier-Bold\"        \"Courier-Oblique\"    \n",
       "[4] \"Courier-BoldOblique\"\n"
      ]
     },
     "metadata": {},
     "output_type": "display_data"
    }
   ],
   "source": [
    "quartzFonts()"
   ]
  }
 ],
 "metadata": {
  "kernelspec": {
   "display_name": "R",
   "language": "R",
   "name": "ir"
  },
  "language_info": {
   "codemirror_mode": "r",
   "file_extension": ".r",
   "mimetype": "text/x-r-source",
   "name": "R",
   "pygments_lexer": "r",
   "version": "4.2.1"
  },
  "orig_nbformat": 4,
  "vscode": {
   "interpreter": {
    "hash": "656f4cd1472b14b513faaa63bd5e4a7577d125de6a277113d4e82c4085557d3e"
   }
  }
 },
 "nbformat": 4,
 "nbformat_minor": 2
}
