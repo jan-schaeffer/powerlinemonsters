{
 "cells": [
  {
   "cell_type": "markdown",
   "metadata": {},
   "source": [
    "First, import needed modules"
   ]
  },
  {
   "cell_type": "code",
   "execution_count": 45,
   "metadata": {},
   "outputs": [],
   "source": [
    "import numpy as np\n",
    "import pandas as pd\n",
    "import os\n",
    "import geopandas as gpd\n",
    "import matplotlib.pyplot as plt"
   ]
  },
  {
   "cell_type": "markdown",
   "metadata": {},
   "source": [
    "Initalize variables"
   ]
  },
  {
   "cell_type": "code",
   "execution_count": 46,
   "metadata": {},
   "outputs": [
    {
     "name": "stdout",
     "output_type": "stream",
     "text": [
      "/Users/jan/Dropbox/UP_EPQM/2222/MA/powerlinemonsters\n"
     ]
    }
   ],
   "source": [
    "path = os.getcwd()\n",
    "print(path)"
   ]
  },
  {
   "cell_type": "markdown",
   "metadata": {},
   "source": [
    "Load datasets"
   ]
  },
  {
   "cell_type": "code",
   "execution_count": 47,
   "metadata": {},
   "outputs": [],
   "source": [
    "pl_05 = gpd.read_file(f'{path}/data/geodata/powerlines_05.shp')\n",
    "pl_09 = gpd.read_file(f'{path}/data/geodata/new_powerlines_09.shp')\n",
    "pl_13 = gpd.read_file(f'{path}/data/geodata/new_powerlines_13.shp')\n",
    "all_powerlines = gpd.read_file(f'{path}/data/geodata/all_powerlines.shp')\n",
    "municipalities = gpd.read_file(f'{path}/data/geodata/municipalities.shp')\n",
    "mun_unincorporated = gpd.read_file(f'{path}/data/geodata/unincorporated.shp')\n",
    "states = gpd.read_file(f'{path}/data/geodata/VG250_LAN.shp')"
   ]
  },
  {
   "cell_type": "markdown",
   "metadata": {},
   "source": [
    "Combine municipalities and ALL new powerlines in a plot"
   ]
  },
  {
   "cell_type": "code",
   "execution_count": 48,
   "metadata": {},
   "outputs": [],
   "source": [
    "all_powerlines.set_geometry('geometry')\n",
    "fig, ax = plt.subplots(figsize=(10, 8), dpi=300)\n",
    "ax.set_aspect('equal')\n",
    "ax.set_axis_off()\n",
    "municipalities.plot(ax=ax, color='lightblue', edgecolor='blue', lw=0.01, zorder=1)\n",
    "states.boundary.plot(ax=ax, color='black', lw = 0.1, zorder=2)\n",
    "all_powerlines.plot(ax=ax, column='descriptio', cmap='viridis', legend=True, lw=2, zorder=3)\n",
    "plt.title('All powerline projects \\n (DENA, ENLAG & BBPlG)', fontsize=20)\n",
    "plt.savefig(f'{path}/figures/treatments/All_projects.png')\n",
    "plt.close()"
   ]
  },
  {
   "cell_type": "markdown",
   "metadata": {},
   "source": [
    "Municipalities affected by each treatment"
   ]
  },
  {
   "cell_type": "code",
   "execution_count": 49,
   "metadata": {},
   "outputs": [],
   "source": [
    "legend_dict = {2005: 'DENA 2005', 2009: 'EnLAG 2009', 2013: 'BBPlG 2013'}\n",
    "all_powerlines['year'] = all_powerlines['year'].astype(int)\n",
    "# initialize figure \n",
    "fig, ax = plt.subplots(nrows=1, ncols=3, figsize=(10, 10), dpi=300, constrained_layout=True)\n",
    "# title for entire figure\n",
    "fig.suptitle('Treated municipalities by year', fontsize=20)\n",
    "for i, (year, desc) in enumerate(legend_dict.items()):\n",
    "    # subset powerlines\n",
    "    plot_pl = all_powerlines[all_powerlines['year'] == year]\n",
    "    plot_pl = plot_pl.sort_values('year')\n",
    "    #plot_pl['year'] = plot_pl['year'].astype(str)        \n",
    "    # draw subfig\n",
    "    ax[i].set_aspect('equal')\n",
    "    ax[i].set_adjustable('datalim', share=True)\n",
    "    ax[i].set_axis_off()\n",
    "    ax[i].set_title(f'{desc}')\n",
    "    if year == 2005:\n",
    "        municipalities.plot(ax=ax[i], column='t2005', cmap='viridis', legend=True, edgecolor='darkblue', lw=0.01, zorder=1)\n",
    "    if year == 2009:\n",
    "        municipalities.plot(ax=ax[i], column='t2009', cmap='viridis', legend=True, edgecolor='darkblue', lw=0.01, zorder=1)\n",
    "    if year == 2013:\n",
    "        municipalities.plot(ax=ax[i], column='t2013', cmap='viridis', legend=True, edgecolor='darkblue', lw=0.01, zorder=1)\n",
    "    states.boundary.plot(ax=ax[i], color='darkblue', lw = 0.1, zorder=2)\n",
    "    plot_pl.plot(ax=ax[i], column='descriptio', cmap='winter', legend=False, lw=2, zorder=3)\n",
    "    # replace legend\n",
    "    def replace_legend_items(legend, mapping):\n",
    "        for txt in legend.texts:\n",
    "            for k,v in mapping.items():\n",
    "                if txt.get_text() == str(k):\n",
    "                    txt.set_text(v)\n",
    "    #replace_legend_items(ax[i].get_legend(), legend_dict)\n",
    "# remove individual legends and add common \n",
    "#lines_labels = [ax.get_legend_handles_labels() for ax in fig.axes]\n",
    "#lines, labels = [sum(lol, []) for lol in zip(*lines_labels)]\n",
    "#fig.legend(lines, labels)\n",
    "#[r.get_legend().remove()for r in ax]\n",
    "plt.savefig(f'{path}/figures/treatments/all_treatments.png', bbox_inches=\"tight\", pad_inches=0)\n",
    "plt.close()"
   ]
  },
  {
   "cell_type": "markdown",
   "metadata": {},
   "source": [
    "Municipalities (already) affected by each year"
   ]
  },
  {
   "cell_type": "code",
   "execution_count": 50,
   "metadata": {},
   "outputs": [],
   "source": [
    "legend_dict = {2005: 'DENA 2005', 2009: 'EnLAG 2009', 2013: 'BBPlG 2013'}\n",
    "all_powerlines['year'] = all_powerlines['year'].astype(int)\n",
    "# initialize figure \n",
    "fig, ax = plt.subplots(nrows=1, ncols=3, figsize=(10, 10), dpi=300, constrained_layout=True)\n",
    "# title for entire figure\n",
    "fig.suptitle('Treated municipalities by year', fontsize=20)\n",
    "for i, (year, desc) in enumerate(legend_dict.items()):\n",
    "    # subset powerlines\n",
    "    plot_pl = all_powerlines[all_powerlines['year'] <= year]\n",
    "    plot_pl = plot_pl.sort_values('year')\n",
    "    #plot_pl['year'] = plot_pl['year'].astype(str)        \n",
    "    # draw subfig\n",
    "    ax[i].set_aspect('equal')\n",
    "    ax[i].set_adjustable('datalim', share=True)\n",
    "    ax[i].set_axis_off()\n",
    "    ax[i].set_title(f'{year}')\n",
    "    if year == 2005:\n",
    "        municipalities.plot(ax=ax[i], column='t2005', cmap='viridis', legend=True, edgecolor='darkblue', lw=0.01, zorder=1)\n",
    "    if year == 2009:\n",
    "        municipalities.plot(ax=ax[i], column='et2010', cmap='viridis', legend=True, edgecolor='darkblue', lw=0.01, zorder=1)\n",
    "    if year == 2013:\n",
    "        municipalities.plot(ax=ax[i], column='et2014', cmap='viridis', legend=True, edgecolor='darkblue', lw=0.01, zorder=1)\n",
    "    states.boundary.plot(ax=ax[i], color='darkblue', lw = 0.1, zorder=2)\n",
    "    plot_pl.plot(ax=ax[i], column='descriptio', cmap='winter', legend=False, lw=2, zorder=3)\n",
    "    # replace legend\n",
    "    def replace_legend_items(legend, mapping):\n",
    "        for txt in legend.texts:\n",
    "            for k,v in mapping.items():\n",
    "                if txt.get_text() == str(k):\n",
    "                    txt.set_text(v)\n",
    "    #replace_legend_items(ax[i].get_legend(), legend_dict)\n",
    "# remove individual legends and add common \n",
    "#lines_labels = [ax.get_legend_handles_labels() for ax in fig.axes]\n",
    "#lines, labels = [sum(lol, []) for lol in zip(*lines_labels)]\n",
    "#fig.legend(lines, labels)\n",
    "#[r.get_legend().remove()for r in ax]\n",
    "plt.savefig(f'{path}/figures/treatments/all_treatments_sum.png', bbox_inches=\"tight\", pad_inches=0)\n",
    "plt.close()"
   ]
  },
  {
   "cell_type": "markdown",
   "metadata": {},
   "source": [
    "Plot a map of uninc. areas and powerlines"
   ]
  },
  {
   "cell_type": "code",
   "execution_count": 51,
   "metadata": {},
   "outputs": [],
   "source": [
    "fig, ax = plt.subplots(figsize=(10, 8), dpi=300)\n",
    "ax.set_aspect('equal')\n",
    "ax.set_axis_off()\n",
    "municipalities.plot(ax=ax, color='lightblue', edgecolor='blue', lw=0.01, zorder=1)\n",
    "mun_unincorporated.plot(ax=ax, color='green', edgecolor='green', lw=0.01, zorder=2)\n",
    "states.boundary.plot(ax=ax, color='black', lw = 0.1, zorder=3)\n",
    "all_powerlines.plot(ax=ax, color='red', lw=2, zorder=4)\n",
    "plt.title('Unicorporated and uninhabited areas in Germany', fontsize=20)\n",
    "plt.savefig(f'{path}/figures/treatments/unincorporated areas.png')\n",
    "plt.close()"
   ]
  }
 ],
 "metadata": {
  "kernelspec": {
   "display_name": "Python 3.10.4 ('vscode')",
   "language": "python",
   "name": "python3"
  },
  "language_info": {
   "codemirror_mode": {
    "name": "ipython",
    "version": 3
   },
   "file_extension": ".py",
   "mimetype": "text/x-python",
   "name": "python",
   "nbconvert_exporter": "python",
   "pygments_lexer": "ipython3",
   "version": "3.10.4"
  },
  "orig_nbformat": 4,
  "vscode": {
   "interpreter": {
    "hash": "656f4cd1472b14b513faaa63bd5e4a7577d125de6a277113d4e82c4085557d3e"
   }
  }
 },
 "nbformat": 4,
 "nbformat_minor": 2
}
