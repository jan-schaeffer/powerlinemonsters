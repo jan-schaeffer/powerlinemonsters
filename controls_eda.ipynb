{
 "cells": [
  {
   "cell_type": "markdown",
   "metadata": {},
   "source": [
    "First, import needed modules"
   ]
  },
  {
   "cell_type": "code",
   "execution_count": null,
   "metadata": {},
   "outputs": [],
   "source": [
    "import numpy as np\n",
    "import pandas as pd\n",
    "import matplotlib.pyplot as plt\n",
    "import os\n",
    "import geopandas as gpd"
   ]
  },
  {
   "cell_type": "markdown",
   "metadata": {},
   "source": [
    "Initalize variables"
   ]
  },
  {
   "cell_type": "code",
   "execution_count": null,
   "metadata": {},
   "outputs": [],
   "source": [
    "path = os.getcwd()\n",
    "print(path)"
   ]
  },
  {
   "cell_type": "markdown",
   "metadata": {},
   "source": [
    "Import datasets"
   ]
  },
  {
   "cell_type": "code",
   "execution_count": null,
   "metadata": {},
   "outputs": [],
   "source": [
    "controls = pd.read_csv(f'{path}/data/controls.csv', encoding = 'UTF-8-SIG', sep=',', converters={'AGS': str})\n",
    "treatment = pd.read_csv(f'{path}/data/treatment.csv', converters = {'AGS': str})"
   ]
  },
  {
   "cell_type": "markdown",
   "metadata": {},
   "source": [
    "Merge df"
   ]
  },
  {
   "cell_type": "code",
   "execution_count": null,
   "metadata": {},
   "outputs": [],
   "source": [
    "control_treat = pd.merge(controls, treatment, on='AGS', how='outer', indicator=True)\n",
    "control_treat['_merge'].value_counts()"
   ]
  },
  {
   "cell_type": "markdown",
   "metadata": {},
   "source": [
    "Drop early and late years"
   ]
  },
  {
   "cell_type": "code",
   "execution_count": null,
   "metadata": {},
   "outputs": [],
   "source": [
    "control_treat = control_treat[control_treat['year'] > 1993]\n",
    "control_treat = control_treat[control_treat['year'] < 2018]"
   ]
  },
  {
   "cell_type": "code",
   "execution_count": null,
   "metadata": {},
   "outputs": [],
   "source": [
    "avg_dfs = {2005: 'treatment_05', 2010: 'treatment_09', 2014: 'treatment_13'}\n",
    "for year, treatment in avg_dfs.items():\n",
    "    avg_dfs[year] = control_treat[['pop_density', 'unemployed', 'avg_age', 'female', treatment, 'year']].groupby([treatment, 'year'], as_index = False).agg([np.mean, np.std, 'count'])\n",
    "    avg_dfs[year] = avg_dfs[year].reset_index()\n",
    "    avg_dfs[year].rename(columns = {treatment:'treatment'}, inplace = True)\n",
    "    mean = control_treat[['pop_density', 'unemployed', 'avg_age', 'female', 'year']].groupby(['year'], as_index = False).agg([np.mean, np.std, 'count'])\n",
    "    mean = mean.reset_index()\n",
    "    mean['treatment'] = 'Mean'\n",
    "    avg_dfs[year] = pd.concat([avg_dfs[year], mean])\n",
    "avg_dfs[2005][avg_dfs[2005]['treatment'] == 'Mean'].head(40)"
   ]
  },
  {
   "cell_type": "markdown",
   "metadata": {},
   "source": [
    "Plot the averages of pop_density, unemployed, avg_age and female over years for treated and untreated municipalities"
   ]
  },
  {
   "cell_type": "code",
   "execution_count": null,
   "metadata": {},
   "outputs": [],
   "source": [
    "treatments = ['None', 'Direct Line', 'Within 15km', 'Within 30km', 'Within 50km', 'Mean']\n",
    "blacks = ['#000000', '#191919', '#323232', '#4c4c4c', '#666666', 'blue']\n",
    "markers = ['o', 's', 'v', 'D', '^', 'h']\n",
    "\n",
    "for year, df in avg_dfs.items():\n",
    "    fig, axes = plt.subplots(nrows=2, ncols=2, figsize=(10, 10), dpi=300, sharex=False)\n",
    "    # set legend font size\n",
    "    plt.rc('legend',fontsize=6)\n",
    "    # title for entire figure\n",
    "    fig.suptitle(f'Averages values of control variables \\n by treatment status in {year}', fontsize=20)\n",
    "    for i, treatment in enumerate(treatments):\n",
    "        plot_data = df[df['treatment'] == treatment]\n",
    "        # edit subplots\n",
    "        axes[0, 0].set_title('Population Density', fontsize=12)\n",
    "        axes[0, 0].set_ylabel('Population Density', fontsize=10)\n",
    "        axes[0, 0].errorbar(plot_data['year'], plot_data['pop_density', 'mean'], c=blacks[i], marker = markers[i], label=treatment, lw=0.8, ms=4, capsize=4)\n",
    "        axes[0, 0].legend(loc='upper left')\n",
    "        axes[0, 0].axvline(x=year, c='red', linestyle='--')\n",
    "        axes[0, 0].set_ylim(140, 320)\n",
    "        axes[0, 0].set_xlim(1994, 2018)\n",
    "        axes[0, 0].set_xticks([1994,1998,2002,2005,2009,2013,2017])\n",
    "        axes[0, 0].tick_params(labelsize = 8)\n",
    "\n",
    "        axes[0, 1].set_title('Share of Unemployed', fontsize=12)\n",
    "        axes[0, 1].set_ylabel('% Unemployed', fontsize=10)\n",
    "        axes[0, 1].errorbar(plot_data['year'], plot_data['unemployed', 'mean'], c=blacks[i], marker = markers[i], label=treatment, lw=0.8, ms=4, capsize=4)\n",
    "        axes[0, 1].legend(loc='upper left')\n",
    "        axes[0, 1].axvline(x=year, c='red', linestyle='--')\n",
    "        axes[0, 1].set_ylim(2, 6)\n",
    "        axes[0, 1].set_xlim(1997, 2018)\n",
    "        axes[0, 1].set_xticks([1998,2002,2005,2009,2013,2017])\n",
    "        axes[0, 1].tick_params(labelsize = 8)\n",
    "\n",
    "        axes[1, 0].set_title('Average Age', fontsize=12)\n",
    "        axes[1, 0].set_ylabel('Average Age', fontsize=10)\n",
    "        axes[1, 0].errorbar(plot_data['year'], plot_data['avg_age', 'mean'], c=blacks[i], marker = markers[i], label=treatment, lw=0.8, ms=4, capsize=4)\n",
    "        axes[1, 0].legend(loc='upper left')\n",
    "        axes[1, 0].axvline(x=year, c='red', linestyle='--')\n",
    "        axes[1, 0].set_ylim(40, 46)\n",
    "        axes[1, 0].set_xlim(2000, 2018)\n",
    "        axes[1, 0].set_xticks([2002,2005,2009,2013,2017])\n",
    "        axes[1, 0].tick_params(labelsize = 8)\n",
    "\n",
    "        axes[1, 1].set_title('Share of Females', fontsize=12)\n",
    "        axes[1, 1].set_ylabel('% Female', fontsize=10)\n",
    "        axes[1, 1].errorbar(plot_data['year'], plot_data['female', 'mean'], c=blacks[i], marker = markers[i], label=treatment, lw=0.8, ms=4, capsize=4)\n",
    "        axes[1, 1].legend(loc='upper left')\n",
    "        axes[1, 1].axvline(x=year, c='red', linestyle='--')\n",
    "        axes[1, 1].set_ylim(49.9, 51.1)\n",
    "        axes[1, 1].set_xlim(1994, 2018)\n",
    "        axes[1, 1].set_xticks([1994,1998,2002,2005,2009,2013,2017])\n",
    "        axes[1, 1].tick_params(labelsize = 8)\n",
    "\n",
    "    # Save figure\n",
    "    fig.savefig(f'{path}/figures/controls/{year}_controls.png')\n",
    "    plt.close()"
   ]
  },
  {
   "cell_type": "markdown",
   "metadata": {},
   "source": [
    "Plot graph for ever-treated status"
   ]
  },
  {
   "cell_type": "code",
   "execution_count": null,
   "metadata": {},
   "outputs": [],
   "source": [
    "avg_ever_treated = control_treat[['pop_density', 'unemployed', 'avg_age', 'female', 'ever_treated', 'year']].groupby(['ever_treated', 'year'], as_index = False).agg([np.mean, np.std, 'count'])\n",
    "avg_ever_treated = avg_ever_treated.reset_index()\n",
    "avg_ever_treated.rename(columns = {'ever_treated':'treatment'}, inplace = True)\n",
    "mean = control_treat[['pop_density', 'unemployed', 'avg_age', 'female', 'year']].groupby(['year'], as_index = False).agg([np.mean, np.std, 'count'])\n",
    "mean = mean.reset_index()\n",
    "mean['treatment'] = 'Mean'\n",
    "avg_ever_treated = pd.concat([avg_ever_treated, mean])\n",
    "avg_ever_treated[avg_ever_treated['treatment'] == 'Mean'].head()"
   ]
  },
  {
   "cell_type": "code",
   "execution_count": null,
   "metadata": {},
   "outputs": [],
   "source": [
    "treatments = ['None', 'Direct Line', 'Within 15km', 'Within 30km', 'Within 50km', 'Mean']\n",
    "blacks = ['#000000', '#191919', '#323232', '#4c4c4c', '#666666', 'blue']\n",
    "markers = ['o', 's', 'v', 'D', '^', 'h']\n",
    "\n",
    "fig, axes = plt.subplots(nrows=2, ncols=2, figsize=(10, 10), dpi=300, sharex=False)\n",
    "# set legend font size\n",
    "plt.rc('legend',fontsize=6)\n",
    "# title for entire figure\n",
    "fig.suptitle(f'Averages values of control variables \\n by ever treated status', fontsize=20)\n",
    "#for ax in axes:\n",
    "    #ax.set_xticks([1994,1998,2002,2005,2009,2013,2017])\n",
    "for i, treatment in enumerate(treatments):\n",
    "    plot_data = avg_ever_treated[avg_ever_treated['treatment'] == treatment]\n",
    "    # edit subplots\n",
    "    axes[0, 0].set_title('Population Density', fontsize=12)\n",
    "    axes[0, 0].set_ylabel('Population Density', fontsize=10)\n",
    "    axes[0, 0].errorbar(plot_data['year'], plot_data['pop_density', 'mean'], c=blacks[i], marker = markers[i], label=treatment, lw=0.8, ms=4, capsize=4)\n",
    "    axes[0, 0].legend(loc='upper left')\n",
    "    axes[0, 0].set_ylim(140, 320)\n",
    "    axes[0, 0].set_xticks([1994,1998,2002,2005,2009,2013,2017])\n",
    "    axes[0, 0].tick_params(labelsize = 8)\n",
    "\n",
    "    axes[0, 1].set_title('Share of Unemployed', fontsize=12)\n",
    "    axes[0, 1].set_ylabel('% Unemployed', fontsize=10)\n",
    "    axes[0, 1].errorbar(plot_data['year'], plot_data['unemployed', 'mean'], c=blacks[i], marker = markers[i], label=treatment, lw=0.8, ms=4, capsize=4)\n",
    "    axes[0, 1].legend(loc='upper left')\n",
    "    axes[0, 1].set_ylim(2, 6)\n",
    "    axes[0, 1].set_xlim(1997, 2018)\n",
    "    axes[0, 1].set_xticks([1998,2002,2005,2009,2013,2017])\n",
    "    axes[0, 1].tick_params(labelsize = 8)\n",
    "\n",
    "    axes[1, 0].set_title('Average Age', fontsize=12)\n",
    "    axes[1, 0].set_ylabel('Average Age', fontsize=10)\n",
    "    axes[1, 0].errorbar(plot_data['year'], plot_data['avg_age', 'mean'], c=blacks[i], marker = markers[i], label=treatment, lw=0.8, ms=4, capsize=4)\n",
    "    axes[1, 0].legend(loc='upper left')\n",
    "    axes[1, 0].set_ylim(40, 46)\n",
    "    axes[1, 0].set_xlim(2000, 2018)\n",
    "    axes[1, 0].set_xticks([2002,2005,2009,2013,2017])\n",
    "    axes[1, 0].tick_params(labelsize = 8)\n",
    "\n",
    "    axes[1, 1].set_title('Share of Females', fontsize=12)\n",
    "    axes[1, 1].set_ylabel('% Female', fontsize=10)\n",
    "    axes[1, 1].errorbar(plot_data['year'], plot_data['female', 'mean'], c=blacks[i], marker = markers[i], label=treatment, lw=0.8, ms=4, capsize=4)\n",
    "    axes[1, 1].legend(loc='upper left')\n",
    "    axes[1, 1].set_ylim(49.9, 51.1)\n",
    "    axes[1, 1].set_xlim(1994, 2018)\n",
    "    axes[1, 1].set_xticks([1994,1998,2002,2005,2009,2013,2017])\n",
    "    axes[1, 1].tick_params(labelsize = 8)\n",
    "\n",
    "# Save figure\n",
    "fig.savefig(f'{path}/figures/controls/ever_treated_controls.png')\n",
    "plt.close()"
   ]
  },
  {
   "cell_type": "markdown",
   "metadata": {},
   "source": [
    "Plot a map of municipalities with controls available"
   ]
  },
  {
   "cell_type": "code",
   "execution_count": null,
   "metadata": {},
   "outputs": [],
   "source": [
    "# Load shapefiles\n",
    "import geopandas as gpd\n",
    "municipalities = gpd.read_file(f'{path}/data/geodata/municipalities.shp')\n",
    "states = gpd.read_file(f'{path}/data/geodata/VG250_LAN.shp')\n",
    "powerlines = gpd.read_file(f'{path}/data/geodata/all_powerlines.shp')\n",
    "powerlines = powerlines.set_geometry('geometry')\n",
    "# set year to treatment year\n",
    "powerlines['year'] = np.where(powerlines['year'] == '2013', '2014', powerlines['year'])\n",
    "powerlines['year'] = np.where(powerlines['year'] == '2009', '2010', powerlines['year'])"
   ]
  },
  {
   "cell_type": "markdown",
   "metadata": {},
   "source": [
    "Subset controls to keep only the obs were all controls are available"
   ]
  },
  {
   "cell_type": "code",
   "execution_count": null,
   "metadata": {},
   "outputs": [],
   "source": [
    "controls.columns"
   ]
  },
  {
   "cell_type": "code",
   "execution_count": null,
   "metadata": {},
   "outputs": [],
   "source": [
    "controls_sub = controls.dropna(subset=['pop_density', 'unemployed', 'avg_age', 'female'])\n",
    "controls_sub = controls_sub.groupby(['AGS'], as_index=False).first()\n",
    "controls_sub.shape"
   ]
  },
  {
   "cell_type": "code",
   "execution_count": null,
   "metadata": {},
   "outputs": [],
   "source": [
    "control_sub_map = pd.merge(controls_sub, municipalities, on='AGS', how='left', indicator=True)\n",
    "control_sub_map['_merge'].value_counts()"
   ]
  },
  {
   "cell_type": "code",
   "execution_count": null,
   "metadata": {},
   "outputs": [],
   "source": [
    "legend_dict = {2005: 'DENA 2005', 2010: 'EnLAG 2009', 2014: 'BBPlG 2013'}\n",
    "control_sub_map = control_sub_map.set_geometry('geometry')\n",
    "# setup figure\n",
    "fig, ax = plt.subplots(figsize=(10, 8), dpi=300)\n",
    "ax.set_aspect('equal')\n",
    "ax.set_axis_off()\n",
    "municipalities.plot(ax=ax, color='lightblue', edgecolor='blue', lw=0.01, zorder=1)\n",
    "control_sub_map.plot(ax=ax, color='red', edgecolor='blue', lw=0.01, zorder=2)\n",
    "states.boundary.plot(ax=ax, color='darkblue', lw = 0.1, zorder=3)\n",
    "powerlines.plot(ax=ax, column='year', cmap='winter', legend=True, lw=2, zorder=4)\n",
    "plt.title(f'Municipalities with control variables available', fontsize=20)\n",
    "#ax.annotate('Source: Rajasthan Datastore, 2019',xy=(0.1, .08), xycoords='figure fraction', horizontalalignment='left', verticalalignment='top', fontsize=12, c='black')\n",
    "# change legend order\n",
    "def replace_legend_items(legend, mapping):\n",
    "    for txt in legend.texts:\n",
    "        for k,v in mapping.items():\n",
    "            if txt.get_text() == str(k):\n",
    "                txt.set_text(v)\n",
    "\n",
    "replace_legend_items(ax.get_legend(), legend_dict)\n",
    "plt.savefig(f'{path}/figures/controls/mun_with_controls.png')\n",
    "plt.close()"
   ]
  },
  {
   "cell_type": "markdown",
   "metadata": {},
   "source": [
    "Choropleth maps of controls by year"
   ]
  },
  {
   "cell_type": "code",
   "execution_count": 116,
   "metadata": {},
   "outputs": [],
   "source": [
    "municipalities = gpd.read_file(f'{path}/data/geodata/municipalities.shp')\n",
    "municipalities = municipalities.set_geometry('geometry')\n",
    "states = gpd.read_file(f'{path}/data/geodata/VG250_LAN.shp')\n",
    "powerlines = gpd.read_file(f'{path}/data/geodata/all_powerlines.shp')\n",
    "powerlines = powerlines.set_geometry('geometry')\n",
    "powerlines['year'] = powerlines['year'].astype(int)\n",
    "# set year to treatment year\n",
    "powerlines['year'] = np.where(powerlines['year'] == 2013, 2014, powerlines['year'])\n",
    "powerlines['year'] = np.where(powerlines['year'] == 2009, 2010, powerlines['year'])"
   ]
  },
  {
   "cell_type": "code",
   "execution_count": 112,
   "metadata": {},
   "outputs": [],
   "source": [
    "controls_muns = pd.merge(controls, municipalities, on='AGS')"
   ]
  },
  {
   "cell_type": "code",
   "execution_count": null,
   "metadata": {},
   "outputs": [],
   "source": [
    "controls_muns.unemployed.describe"
   ]
  },
  {
   "cell_type": "code",
   "execution_count": 120,
   "metadata": {},
   "outputs": [],
   "source": [
    "legend_dict = {2005: 'DENA 2005', 2010: 'EnLAG 2009', 2014: 'BBPlG 2013'}\n",
    "control_vars = {'pop_density': 'Population Density', 'unemployed': 'Share of unemployed', 'avg_age': 'Average Age', 'female': 'Share of Females'}\n",
    "for var, title in control_vars.items():\n",
    "    # initialize figure \n",
    "    fig, ax = plt.subplots(nrows=1, ncols=3, figsize=(10, 10), dpi=300, constrained_layout=True)\n",
    "    # title for entire figure\n",
    "    fig.suptitle(title, fontsize=20)\n",
    "    for i, (year, desc) in enumerate(legend_dict.items()):\n",
    "        # subset powerlines\n",
    "        plot_pl = powerlines[powerlines['year'] == year]\n",
    "        # subset controls plot\n",
    "        controls_plot = controls_muns[controls_muns['year'] == year]\n",
    "        controls_plot = controls_plot.set_geometry('geometry')\n",
    "        # draw subfig\n",
    "        ax[i].set_aspect('equal')\n",
    "        ax[i].set_adjustable('datalim', share=True)\n",
    "        ax[i].set_axis_off()\n",
    "        ax[i].set_title(f'{desc}')\n",
    "        controls_plot.plot(column=var, ax=ax[i], legend=True, legend_kwds={'orientation': \"horizontal\"})\n",
    "        states.boundary.plot(ax=ax[i], color='darkblue', lw = 0.1, zorder=2)\n",
    "        plot_pl.plot(ax=ax[i], color='red', lw=2, zorder=3)\n",
    "    plt.savefig(f'{path}/figures/controls/map_{var}.png', bbox_inches=\"tight\", pad_inches=0)\n",
    "    plt.close()"
   ]
  }
 ],
 "metadata": {
  "kernelspec": {
   "display_name": "Python 3.10.4 ('vscode')",
   "language": "python",
   "name": "python3"
  },
  "language_info": {
   "codemirror_mode": {
    "name": "ipython",
    "version": 3
   },
   "file_extension": ".py",
   "mimetype": "text/x-python",
   "name": "python",
   "nbconvert_exporter": "python",
   "pygments_lexer": "ipython3",
   "version": "3.10.4"
  },
  "orig_nbformat": 4,
  "vscode": {
   "interpreter": {
    "hash": "656f4cd1472b14b513faaa63bd5e4a7577d125de6a277113d4e82c4085557d3e"
   }
  }
 },
 "nbformat": 4,
 "nbformat_minor": 2
}
