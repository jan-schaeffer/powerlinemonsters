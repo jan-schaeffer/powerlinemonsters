{
 "cells": [
  {
   "cell_type": "markdown",
   "metadata": {},
   "source": [
    "First, import needed modules"
   ]
  },
  {
   "cell_type": "code",
   "execution_count": 43,
   "metadata": {},
   "outputs": [],
   "source": [
    "import numpy as np\n",
    "import pandas as pd\n",
    "import matplotlib.pyplot as plt\n",
    "from sklearn.linear_model import LinearRegression\n",
    "import statsmodels.api as sm\n",
    "import statsmodels.formula.api as smf\n",
    "from stargazer.stargazer import Stargazer\n",
    "from IPython.core.display import HTML\n",
    "import os"
   ]
  },
  {
   "cell_type": "markdown",
   "metadata": {},
   "source": [
    "Initalize variables"
   ]
  },
  {
   "cell_type": "code",
   "execution_count": 44,
   "metadata": {},
   "outputs": [
    {
     "name": "stdout",
     "output_type": "stream",
     "text": [
      "/Users/jan/Dropbox/UP_EPQM/2222/MA/powerlinemonsters\n"
     ]
    }
   ],
   "source": [
    "path = os.getcwd()\n",
    "print(path)"
   ]
  },
  {
   "cell_type": "markdown",
   "metadata": {},
   "source": [
    "Import datasets"
   ]
  },
  {
   "cell_type": "code",
   "execution_count": 45,
   "metadata": {},
   "outputs": [
    {
     "data": {
      "text/html": [
       "<div>\n",
       "<style scoped>\n",
       "    .dataframe tbody tr th:only-of-type {\n",
       "        vertical-align: middle;\n",
       "    }\n",
       "\n",
       "    .dataframe tbody tr th {\n",
       "        vertical-align: top;\n",
       "    }\n",
       "\n",
       "    .dataframe thead th {\n",
       "        text-align: right;\n",
       "    }\n",
       "</style>\n",
       "<table border=\"1\" class=\"dataframe\">\n",
       "  <thead>\n",
       "    <tr style=\"text-align: right;\">\n",
       "      <th></th>\n",
       "      <th>AGS</th>\n",
       "      <th>GEN</th>\n",
       "      <th>year</th>\n",
       "      <th>Land</th>\n",
       "      <th>post_2010</th>\n",
       "      <th>post_2014</th>\n",
       "      <th>Union</th>\n",
       "      <th>SPD</th>\n",
       "      <th>Grüne</th>\n",
       "      <th>FDP</th>\n",
       "      <th>...</th>\n",
       "      <th>avg_income</th>\n",
       "      <th>avg_age</th>\n",
       "      <th>age 0-17</th>\n",
       "      <th>age 18-24</th>\n",
       "      <th>age 25-44</th>\n",
       "      <th>age 45-64</th>\n",
       "      <th>age 65+</th>\n",
       "      <th>protestant</th>\n",
       "      <th>catholic</th>\n",
       "      <th>religion_other</th>\n",
       "    </tr>\n",
       "  </thead>\n",
       "  <tbody>\n",
       "    <tr>\n",
       "      <th>0</th>\n",
       "      <td>3101000</td>\n",
       "      <td>Braunschweig</td>\n",
       "      <td>2008.0</td>\n",
       "      <td>NI</td>\n",
       "      <td>0.0</td>\n",
       "      <td>0.0</td>\n",
       "      <td>36.861503</td>\n",
       "      <td>31.245464</td>\n",
       "      <td>11.023763</td>\n",
       "      <td>8.087549</td>\n",
       "      <td>...</td>\n",
       "      <td>31800.0</td>\n",
       "      <td>43.6</td>\n",
       "      <td>14.6</td>\n",
       "      <td>9.2</td>\n",
       "      <td>28.6</td>\n",
       "      <td>26.7</td>\n",
       "      <td>20.9</td>\n",
       "      <td>0.395453</td>\n",
       "      <td>0.140082</td>\n",
       "      <td>0.464465</td>\n",
       "    </tr>\n",
       "    <tr>\n",
       "      <th>1</th>\n",
       "      <td>3101000</td>\n",
       "      <td>Braunschweig</td>\n",
       "      <td>2013.0</td>\n",
       "      <td>NI</td>\n",
       "      <td>1.0</td>\n",
       "      <td>0.0</td>\n",
       "      <td>29.666789</td>\n",
       "      <td>33.671272</td>\n",
       "      <td>18.608499</td>\n",
       "      <td>8.250600</td>\n",
       "      <td>...</td>\n",
       "      <td>31800.0</td>\n",
       "      <td>43.6</td>\n",
       "      <td>14.6</td>\n",
       "      <td>9.2</td>\n",
       "      <td>28.6</td>\n",
       "      <td>26.7</td>\n",
       "      <td>20.9</td>\n",
       "      <td>0.395453</td>\n",
       "      <td>0.140082</td>\n",
       "      <td>0.464465</td>\n",
       "    </tr>\n",
       "    <tr>\n",
       "      <th>2</th>\n",
       "      <td>3101000</td>\n",
       "      <td>Braunschweig</td>\n",
       "      <td>2017.0</td>\n",
       "      <td>NI</td>\n",
       "      <td>1.0</td>\n",
       "      <td>1.0</td>\n",
       "      <td>26.342641</td>\n",
       "      <td>37.604703</td>\n",
       "      <td>11.862375</td>\n",
       "      <td>7.904115</td>\n",
       "      <td>...</td>\n",
       "      <td>31800.0</td>\n",
       "      <td>43.6</td>\n",
       "      <td>14.6</td>\n",
       "      <td>9.2</td>\n",
       "      <td>28.6</td>\n",
       "      <td>26.7</td>\n",
       "      <td>20.9</td>\n",
       "      <td>0.395453</td>\n",
       "      <td>0.140082</td>\n",
       "      <td>0.464465</td>\n",
       "    </tr>\n",
       "    <tr>\n",
       "      <th>3</th>\n",
       "      <td>3102000</td>\n",
       "      <td>Salzgitter</td>\n",
       "      <td>2008.0</td>\n",
       "      <td>NI</td>\n",
       "      <td>0.0</td>\n",
       "      <td>0.0</td>\n",
       "      <td>37.476063</td>\n",
       "      <td>39.268958</td>\n",
       "      <td>4.291938</td>\n",
       "      <td>5.740138</td>\n",
       "      <td>...</td>\n",
       "      <td>26200.0</td>\n",
       "      <td>45.5</td>\n",
       "      <td>16.4</td>\n",
       "      <td>7.8</td>\n",
       "      <td>21.9</td>\n",
       "      <td>30.1</td>\n",
       "      <td>23.8</td>\n",
       "      <td>0.404833</td>\n",
       "      <td>0.176531</td>\n",
       "      <td>0.418636</td>\n",
       "    </tr>\n",
       "    <tr>\n",
       "      <th>4</th>\n",
       "      <td>3102000</td>\n",
       "      <td>Salzgitter</td>\n",
       "      <td>2013.0</td>\n",
       "      <td>NI</td>\n",
       "      <td>1.0</td>\n",
       "      <td>0.0</td>\n",
       "      <td>30.880127</td>\n",
       "      <td>44.075623</td>\n",
       "      <td>9.252751</td>\n",
       "      <td>6.053921</td>\n",
       "      <td>...</td>\n",
       "      <td>26200.0</td>\n",
       "      <td>45.5</td>\n",
       "      <td>16.4</td>\n",
       "      <td>7.8</td>\n",
       "      <td>21.9</td>\n",
       "      <td>30.1</td>\n",
       "      <td>23.8</td>\n",
       "      <td>0.404833</td>\n",
       "      <td>0.176531</td>\n",
       "      <td>0.418636</td>\n",
       "    </tr>\n",
       "    <tr>\n",
       "      <th>5</th>\n",
       "      <td>3102000</td>\n",
       "      <td>Salzgitter</td>\n",
       "      <td>2017.0</td>\n",
       "      <td>NI</td>\n",
       "      <td>1.0</td>\n",
       "      <td>1.0</td>\n",
       "      <td>24.445995</td>\n",
       "      <td>45.203436</td>\n",
       "      <td>4.266019</td>\n",
       "      <td>5.319891</td>\n",
       "      <td>...</td>\n",
       "      <td>26200.0</td>\n",
       "      <td>45.5</td>\n",
       "      <td>16.4</td>\n",
       "      <td>7.8</td>\n",
       "      <td>21.9</td>\n",
       "      <td>30.1</td>\n",
       "      <td>23.8</td>\n",
       "      <td>0.404833</td>\n",
       "      <td>0.176531</td>\n",
       "      <td>0.418636</td>\n",
       "    </tr>\n",
       "    <tr>\n",
       "      <th>6</th>\n",
       "      <td>3103000</td>\n",
       "      <td>Wolfsburg</td>\n",
       "      <td>2008.0</td>\n",
       "      <td>NI</td>\n",
       "      <td>0.0</td>\n",
       "      <td>0.0</td>\n",
       "      <td>43.121141</td>\n",
       "      <td>31.515784</td>\n",
       "      <td>6.509262</td>\n",
       "      <td>6.691886</td>\n",
       "      <td>...</td>\n",
       "      <td>31000.0</td>\n",
       "      <td>44.6</td>\n",
       "      <td>15.3</td>\n",
       "      <td>8.1</td>\n",
       "      <td>26.2</td>\n",
       "      <td>27.8</td>\n",
       "      <td>22.7</td>\n",
       "      <td>0.402120</td>\n",
       "      <td>0.172331</td>\n",
       "      <td>0.425548</td>\n",
       "    </tr>\n",
       "    <tr>\n",
       "      <th>7</th>\n",
       "      <td>3103000</td>\n",
       "      <td>Wolfsburg</td>\n",
       "      <td>2013.0</td>\n",
       "      <td>NI</td>\n",
       "      <td>1.0</td>\n",
       "      <td>0.0</td>\n",
       "      <td>37.629895</td>\n",
       "      <td>35.812910</td>\n",
       "      <td>10.901908</td>\n",
       "      <td>7.342017</td>\n",
       "      <td>...</td>\n",
       "      <td>31000.0</td>\n",
       "      <td>44.6</td>\n",
       "      <td>15.3</td>\n",
       "      <td>8.1</td>\n",
       "      <td>26.2</td>\n",
       "      <td>27.8</td>\n",
       "      <td>22.7</td>\n",
       "      <td>0.402120</td>\n",
       "      <td>0.172331</td>\n",
       "      <td>0.425548</td>\n",
       "    </tr>\n",
       "    <tr>\n",
       "      <th>8</th>\n",
       "      <td>3103000</td>\n",
       "      <td>Wolfsburg</td>\n",
       "      <td>2017.0</td>\n",
       "      <td>NI</td>\n",
       "      <td>1.0</td>\n",
       "      <td>1.0</td>\n",
       "      <td>29.942107</td>\n",
       "      <td>43.211115</td>\n",
       "      <td>5.754535</td>\n",
       "      <td>6.092242</td>\n",
       "      <td>...</td>\n",
       "      <td>31000.0</td>\n",
       "      <td>44.6</td>\n",
       "      <td>15.3</td>\n",
       "      <td>8.1</td>\n",
       "      <td>26.2</td>\n",
       "      <td>27.8</td>\n",
       "      <td>22.7</td>\n",
       "      <td>0.402120</td>\n",
       "      <td>0.172331</td>\n",
       "      <td>0.425548</td>\n",
       "    </tr>\n",
       "    <tr>\n",
       "      <th>9</th>\n",
       "      <td>3151001</td>\n",
       "      <td>Adenbüttel</td>\n",
       "      <td>2008.0</td>\n",
       "      <td>NI</td>\n",
       "      <td>0.0</td>\n",
       "      <td>0.0</td>\n",
       "      <td>47.568209</td>\n",
       "      <td>30.960854</td>\n",
       "      <td>6.287070</td>\n",
       "      <td>7.117438</td>\n",
       "      <td>...</td>\n",
       "      <td>42300.0</td>\n",
       "      <td>40.7</td>\n",
       "      <td>22.2</td>\n",
       "      <td>7.4</td>\n",
       "      <td>23.2</td>\n",
       "      <td>32.2</td>\n",
       "      <td>14.9</td>\n",
       "      <td>0.587834</td>\n",
       "      <td>0.096646</td>\n",
       "      <td>0.315520</td>\n",
       "    </tr>\n",
       "  </tbody>\n",
       "</table>\n",
       "<p>10 rows × 34 columns</p>\n",
       "</div>"
      ],
      "text/plain": [
       "       AGS           GEN    year Land  post_2010  post_2014      Union  \\\n",
       "0  3101000  Braunschweig  2008.0   NI        0.0        0.0  36.861503   \n",
       "1  3101000  Braunschweig  2013.0   NI        1.0        0.0  29.666789   \n",
       "2  3101000  Braunschweig  2017.0   NI        1.0        1.0  26.342641   \n",
       "3  3102000    Salzgitter  2008.0   NI        0.0        0.0  37.476063   \n",
       "4  3102000    Salzgitter  2013.0   NI        1.0        0.0  30.880127   \n",
       "5  3102000    Salzgitter  2017.0   NI        1.0        1.0  24.445995   \n",
       "6  3103000     Wolfsburg  2008.0   NI        0.0        0.0  43.121141   \n",
       "7  3103000     Wolfsburg  2013.0   NI        1.0        0.0  37.629895   \n",
       "8  3103000     Wolfsburg  2017.0   NI        1.0        1.0  29.942107   \n",
       "9  3151001    Adenbüttel  2008.0   NI        0.0        0.0  47.568209   \n",
       "\n",
       "         SPD      Grüne       FDP  ...  avg_income  avg_age  age 0-17  \\\n",
       "0  31.245464  11.023763  8.087549  ...     31800.0     43.6      14.6   \n",
       "1  33.671272  18.608499  8.250600  ...     31800.0     43.6      14.6   \n",
       "2  37.604703  11.862375  7.904115  ...     31800.0     43.6      14.6   \n",
       "3  39.268958   4.291938  5.740138  ...     26200.0     45.5      16.4   \n",
       "4  44.075623   9.252751  6.053921  ...     26200.0     45.5      16.4   \n",
       "5  45.203436   4.266019  5.319891  ...     26200.0     45.5      16.4   \n",
       "6  31.515784   6.509262  6.691886  ...     31000.0     44.6      15.3   \n",
       "7  35.812910  10.901908  7.342017  ...     31000.0     44.6      15.3   \n",
       "8  43.211115   5.754535  6.092242  ...     31000.0     44.6      15.3   \n",
       "9  30.960854   6.287070  7.117438  ...     42300.0     40.7      22.2   \n",
       "\n",
       "   age 18-24  age 25-44  age 45-64  age 65+  protestant  catholic  \\\n",
       "0        9.2       28.6       26.7     20.9    0.395453  0.140082   \n",
       "1        9.2       28.6       26.7     20.9    0.395453  0.140082   \n",
       "2        9.2       28.6       26.7     20.9    0.395453  0.140082   \n",
       "3        7.8       21.9       30.1     23.8    0.404833  0.176531   \n",
       "4        7.8       21.9       30.1     23.8    0.404833  0.176531   \n",
       "5        7.8       21.9       30.1     23.8    0.404833  0.176531   \n",
       "6        8.1       26.2       27.8     22.7    0.402120  0.172331   \n",
       "7        8.1       26.2       27.8     22.7    0.402120  0.172331   \n",
       "8        8.1       26.2       27.8     22.7    0.402120  0.172331   \n",
       "9        7.4       23.2       32.2     14.9    0.587834  0.096646   \n",
       "\n",
       "   religion_other  \n",
       "0        0.464465  \n",
       "1        0.464465  \n",
       "2        0.464465  \n",
       "3        0.418636  \n",
       "4        0.418636  \n",
       "5        0.418636  \n",
       "6        0.425548  \n",
       "7        0.425548  \n",
       "8        0.425548  \n",
       "9        0.315520  \n",
       "\n",
       "[10 rows x 34 columns]"
      ]
     },
     "execution_count": 45,
     "metadata": {},
     "output_type": "execute_result"
    }
   ],
   "source": [
    "data = pd.read_csv(f'{path}/data/ltw.csv', encoding = 'UTF-8-SIG', sep=',')\n",
    "data.head(10)"
   ]
  },
  {
   "cell_type": "markdown",
   "metadata": {},
   "source": [
    "Statsmodels"
   ]
  },
  {
   "cell_type": "markdown",
   "metadata": {},
   "source": [
    "DiD for treatment 50 in 2014"
   ]
  },
  {
   "cell_type": "code",
   "execution_count": 46,
   "metadata": {},
   "outputs": [
    {
     "data": {
      "text/html": [
       "Effect on Primary Vote, Municipalities within 50 km of a powerline project, treatment year 2013<br><table style=\"text-align:center\"><tr><td colspan=\"7\" style=\"border-bottom: 1px solid black\"></td></tr><tr><td style=\"text-align:left\"></td><tr><td></td><td colspan=\"1\">Union</td><td colspan=\"1\">SPD</td><td colspan=\"1\">FDP</td><td colspan=\"1\">Linke</td><td colspan=\"1\">Grüne</td><td colspan=\"1\">Andere</td></tr><tr><td colspan=\"7\" style=\"border-bottom: 1px solid black\"></td></tr><tr><td style=\"text-align:left\">Intercept</td><td>48.697<sup>***</sup></td><td>14.602<sup>***</sup></td><td>4.972<sup>***</sup></td><td>2.775<sup>***</sup></td><td>8.456<sup>***</sup></td><td>20.610<sup>***</sup></td></tr><tr><td style=\"text-align:left\"></td><td>(1.794)</td><td>(0.728)</td><td>(1.394)</td><td>(0.753)</td><td>(0.751)</td><td>(0.559)</td></tr><tr><td style=\"text-align:left\">Land[T.HE]</td><td>-10.242<sup>***</sup></td><td>14.694<sup>***</sup></td><td>5.206<sup></sup></td><td>1.968<sup>***</sup></td><td>1.557<sup>*</sup></td><td>-13.296<sup>***</sup></td></tr><tr><td style=\"text-align:left\"></td><td>(1.290)</td><td>(2.260)</td><td>(3.561)</td><td>(0.697)</td><td>(0.824)</td><td>(2.049)</td></tr><tr><td style=\"text-align:left\">Land[T.HR]</td><td>-15.476<sup>***</sup></td><td>11.722<sup>***</sup></td><td>3.589<sup>***</sup></td><td>2.323<sup>***</sup></td><td>5.856<sup>***</sup></td><td>-8.129<sup>***</sup></td></tr><tr><td style=\"text-align:left\"></td><td>(1.622)</td><td>(1.826)</td><td>(0.744)</td><td>(0.221)</td><td>(1.965)</td><td>(1.389)</td></tr><tr><td style=\"text-align:left\">Land[T.NI]</td><td>-6.124<sup>**</sup></td><td>18.010<sup>***</sup></td><td>3.915<sup>**</sup></td><td>1.663<sup>***</sup></td><td>-0.120<sup></sup></td><td>-17.458<sup>***</sup></td></tr><tr><td style=\"text-align:left\"></td><td>(2.827)</td><td>(3.154)</td><td>(1.669)</td><td>(0.384)</td><td>(2.356)</td><td>(1.668)</td></tr><tr><td style=\"text-align:left\">Land[T.NR]</td><td>-9.685<sup>***</sup></td><td>17.291<sup>***</sup></td><td>2.320<sup>*</sup></td><td>2.149<sup>***</sup></td><td>2.145<sup>**</sup></td><td>-14.332<sup>***</sup></td></tr><tr><td style=\"text-align:left\"></td><td>(1.438)</td><td>(1.012)</td><td>(1.231)</td><td>(0.749)</td><td>(0.965)</td><td>(0.716)</td></tr><tr><td style=\"text-align:left\">Land[T.NW]</td><td>-12.061<sup>***</sup></td><td>20.939<sup>***</sup></td><td>6.216<sup>***</sup></td><td>0.281<sup></sup></td><td>-1.969<sup></sup></td><td>-13.520<sup>***</sup></td></tr><tr><td style=\"text-align:left\"></td><td>(4.448)</td><td>(1.394)</td><td>(2.131)</td><td>(0.831)</td><td>(2.677)</td><td>(3.642)</td></tr><tr><td style=\"text-align:left\">Land[T.TH]</td><td>-12.757<sup>***</sup></td><td>0.570<sup></sup></td><td>1.398<sup></sup></td><td>22.346<sup>***</sup></td><td>-5.519<sup>***</sup></td><td>-6.152<sup>*</sup></td></tr><tr><td style=\"text-align:left\"></td><td>(3.117)</td><td>(1.784)</td><td>(1.466)</td><td>(0.470)</td><td>(1.764)</td><td>(3.415)</td></tr><tr><td style=\"text-align:left\">post_2014</td><td>-6.265<sup>***</sup></td><td>-5.215<sup>**</sup></td><td>-1.203<sup></sup></td><td>0.109<sup></sup></td><td>2.702<sup></sup></td><td>9.873<sup>***</sup></td></tr><tr><td style=\"text-align:left\"></td><td>(1.571)</td><td>(2.056)</td><td>(1.022)</td><td>(0.800)</td><td>(1.686)</td><td>(1.807)</td></tr><tr><td style=\"text-align:left\">treated_50</td><td>1.265<sup></sup></td><td>0.307<sup></sup></td><td>-0.155<sup></sup></td><td>-0.294<sup></sup></td><td>-0.301<sup></sup></td><td>-0.820<sup>*</sup></td></tr><tr><td style=\"text-align:left\"></td><td>(1.018)</td><td>(0.710)</td><td>(0.390)</td><td>(0.278)</td><td>(0.532)</td><td>(0.473)</td></tr><tr><td style=\"text-align:left\">treated_50:post_2014</td><td>2.589<sup>*</sup></td><td>1.138<sup></sup></td><td>-0.172<sup></sup></td><td>-0.574<sup></sup></td><td>-1.122<sup></sup></td><td>-1.856<sup>**</sup></td></tr><tr><td style=\"text-align:left\"></td><td>(1.480)</td><td>(1.143)</td><td>(0.698)</td><td>(0.769)</td><td>(0.716)</td><td>(0.895)</td></tr><td colspan=\"7\" style=\"border-bottom: 1px solid black\"></td></tr><tr><td style=\"text-align: left\">Observations</td><td>13,730</td><td>13,730</td><td>13,730</td><td>13,730</td><td>13,730</td><td>13,730</td></tr><tr><td style=\"text-align: left\">R<sup>2</sup></td><td>0.338</td><td>0.627</td><td>0.319</td><td>0.865</td><td>0.272</td><td>0.696</td></tr><tr><td style=\"text-align: left\">Adjusted R<sup>2</sup></td><td>0.338</td><td>0.627</td><td>0.318</td><td>0.865</td><td>0.272</td><td>0.696</td></tr><tr><td style=\"text-align: left\">Residual Std. Error</td><td>8.953 (df=13720)</td><td>7.023 (df=13720)</td><td>3.192 (df=13720)</td><td>3.153 (df=13720)</td><td>4.253 (df=13720)</td><td>5.814 (df=13720)</td></tr><tr><td style=\"text-align: left\">F Statistic</td><td>-243.206<sup></sup> (df=9; 13720)</td><td>118.366<sup>***</sup> (df=9; 13720)</td><td>32.226<sup>***</sup> (df=9; 13720)</td><td>795.144<sup>***</sup> (df=9; 13720)</td><td>201.791<sup>***</sup> (df=9; 13720)</td><td>-20866.323<sup></sup> (df=9; 13720)</td></tr><tr><td colspan=\"7\" style=\"border-bottom: 1px solid black\"></td></tr><tr><td style=\"text-align: left\">Note:</td>\n",
       " <td colspan=\"6\" style=\"text-align: right\">\n",
       "  <sup>*</sup>p&lt;0.1;\n",
       "  <sup>**</sup>p&lt;0.05;\n",
       "  <sup>***</sup>p&lt;0.01\n",
       " </td></tr></table>"
      ],
      "text/plain": [
       "<IPython.core.display.HTML object>"
      ]
     },
     "execution_count": 46,
     "metadata": {},
     "output_type": "execute_result"
    }
   ],
   "source": [
    "parties = ['Union',\t'SPD', 'FDP', 'Linke', 'Grüne', 'Andere']\n",
    "for party in parties:\n",
    "    locals()[party] = smf.ols(formula=f'{party} ~ treated_50*post_2014 + Land', data=data).fit(cov_type='cluster', cov_kwds={'groups': np.array(data[['AGS', 'year']])}) #locals converts string to variable name\n",
    "stargazer = Stargazer([Union, SPD, FDP, Linke, Grüne, Andere])\n",
    "stargazer.title('Effect on Primary Vote, Municipalities within 50 km of a powerline project, treatment year 2013')\n",
    "stargazer.custom_columns(['Union',\t'SPD', 'FDP', 'Linke', 'Grüne', 'Andere'], [1, 1, 1, 1, 1, 1])\n",
    "stargazer.show_model_numbers(False)\n",
    "with open(f'{path}/tables/ltw/ltw_treatment50.tex', 'w') as f:\n",
    "    f.write(stargazer.render_latex())\n",
    "HTML(stargazer.render_html())"
   ]
  },
  {
   "cell_type": "markdown",
   "metadata": {},
   "source": [
    "DiD for treatment 50 in 2014 with controls"
   ]
  },
  {
   "cell_type": "code",
   "execution_count": 48,
   "metadata": {},
   "outputs": [],
   "source": [
    "# first drop na values\n",
    "ctrl_data = data.dropna(axis='rows', how='any', subset=['pop_density', 'male', 'female', 'foreign', 'employed', 'unemployed', 'avg_income', 'avg_age', 'protestant', 'catholic', 'religion_other'])"
   ]
  },
  {
   "cell_type": "code",
   "execution_count": 57,
   "metadata": {},
   "outputs": [
    {
     "data": {
      "text/html": [
       "Effect on Primary Vote, Municipalities within 50 km of a powerline project, treatment year 2013<br><table style=\"text-align:center\"><tr><td colspan=\"7\" style=\"border-bottom: 1px solid black\"></td></tr><tr><td style=\"text-align:left\"></td><tr><td></td><td colspan=\"1\">Union</td><td colspan=\"1\">SPD</td><td colspan=\"1\">FDP</td><td colspan=\"1\">Linke</td><td colspan=\"1\">Grüne</td><td colspan=\"1\">Andere</td></tr><tr><td colspan=\"7\" style=\"border-bottom: 1px solid black\"></td></tr><tr><td style=\"text-align:left\">Intercept</td><td>79.075<sup>***</sup></td><td>67.839<sup>***</sup></td><td>-51.537<sup>***</sup></td><td>13.034<sup>**</sup></td><td>-86.147<sup>***</sup></td><td>78.297<sup>***</sup></td></tr><tr><td style=\"text-align:left\"></td><td>(19.119)</td><td>(16.943)</td><td>(6.787)</td><td>(5.097)</td><td>(13.818)</td><td>(14.144)</td></tr><tr><td style=\"text-align:left\">Land[T.HE]</td><td>-1.973<sup>*</sup></td><td>8.259<sup>***</sup></td><td>5.172<sup></sup></td><td>0.342<sup></sup></td><td>-0.108<sup></sup></td><td>-11.788<sup>***</sup></td></tr><tr><td style=\"text-align:left\"></td><td>(1.129)</td><td>(2.097)</td><td>(3.695)</td><td>(0.850)</td><td>(1.008)</td><td>(2.324)</td></tr><tr><td style=\"text-align:left\">Land[T.HR]</td><td>-6.984<sup>***</sup></td><td>5.098<sup>**</sup></td><td>3.266<sup>***</sup></td><td>0.754<sup></sup></td><td>3.865<sup>*</sup></td><td>-6.097<sup>***</sup></td></tr><tr><td style=\"text-align:left\"></td><td>(0.876)</td><td>(2.329)</td><td>(0.661)</td><td>(0.582)</td><td>(2.143)</td><td>(1.067)</td></tr><tr><td style=\"text-align:left\">Land[T.NI]</td><td>2.850<sup></sup></td><td>10.557<sup>***</sup></td><td>4.399<sup>***</sup></td><td>-0.237<sup></sup></td><td>-1.015<sup></sup></td><td>-16.666<sup>***</sup></td></tr><tr><td style=\"text-align:left\"></td><td>(2.372)</td><td>(3.160)</td><td>(1.644)</td><td>(0.648)</td><td>(2.186)</td><td>(1.818)</td></tr><tr><td style=\"text-align:left\">Land[T.NR]</td><td>-3.703<sup>***</sup></td><td>13.631<sup>***</sup></td><td>2.094<sup></sup></td><td>0.935<sup></sup></td><td>0.508<sup></sup></td><td>-13.556<sup>***</sup></td></tr><tr><td style=\"text-align:left\"></td><td>(1.420)</td><td>(1.286)</td><td>(1.335)</td><td>(0.842)</td><td>(1.013)</td><td>(1.071)</td></tr><tr><td style=\"text-align:left\">Land[T.NW]</td><td>-5.932<sup></sup></td><td>17.105<sup>***</sup></td><td>5.848<sup>***</sup></td><td>-0.936<sup></sup></td><td>-3.738<sup></sup></td><td>-12.439<sup>***</sup></td></tr><tr><td style=\"text-align:left\"></td><td>(4.550)</td><td>(1.796)</td><td>(2.070)</td><td>(0.911)</td><td>(2.828)</td><td>(3.566)</td></tr><tr><td style=\"text-align:left\">Land[T.TH]</td><td>-1.777<sup></sup></td><td>-10.644<sup>***</sup></td><td>2.538<sup>*</sup></td><td>20.673<sup>***</sup></td><td>-4.503<sup>***</sup></td><td>-6.415<sup>*</sup></td></tr><tr><td style=\"text-align:left\"></td><td>(3.131)</td><td>(2.321)</td><td>(1.514)</td><td>(1.195)</td><td>(1.425)</td><td>(3.301)</td></tr><tr><td style=\"text-align:left\">avg_age</td><td>-0.415<sup>***</sup></td><td>0.449<sup>***</sup></td><td>0.134<sup>***</sup></td><td>0.124<sup>***</sup></td><td>0.028<sup></sup></td><td>-0.320<sup>***</sup></td></tr><tr><td style=\"text-align:left\"></td><td>(0.097)</td><td>(0.070)</td><td>(0.030)</td><td>(0.044)</td><td>(0.046)</td><td>(0.086)</td></tr><tr><td style=\"text-align:left\">catholic</td><td>15.395<sup>***</sup></td><td>-12.832<sup>***</sup></td><td>0.595<sup>***</sup></td><td>-2.558<sup>***</sup></td><td>-2.963<sup>***</sup></td><td>2.363<sup>**</sup></td></tr><tr><td style=\"text-align:left\"></td><td>(2.398)</td><td>(1.328)</td><td>(0.126)</td><td>(0.967)</td><td>(0.601)</td><td>(1.103)</td></tr><tr><td style=\"text-align:left\">foreign</td><td>23.138<sup>***</sup></td><td>-24.601<sup>***</sup></td><td>10.962<sup>***</sup></td><td>-2.385<sup></sup></td><td>11.561<sup>*</sup></td><td>-18.973<sup>***</sup></td></tr><tr><td style=\"text-align:left\"></td><td>(7.630)</td><td>(3.095)</td><td>(2.107)</td><td>(2.359)</td><td>(5.947)</td><td>(2.323)</td></tr><tr><td style=\"text-align:left\">male</td><td>36.691<sup>***</sup></td><td>-30.266<sup>***</sup></td><td>-0.849<sup></sup></td><td>0.773<sup></sup></td><td>-13.149<sup>**</sup></td><td>7.410<sup></sup></td></tr><tr><td style=\"text-align:left\"></td><td>(12.508)</td><td>(8.337)</td><td>(3.100)</td><td>(2.851)</td><td>(6.000)</td><td>(5.552)</td></tr><tr><td style=\"text-align:left\">np.log(avg_income)</td><td>-3.716<sup>**</sup></td><td>-4.798<sup>***</sup></td><td>4.845<sup>***</sup></td><td>-1.436<sup>***</sup></td><td>9.713<sup>***</sup></td><td>-4.672<sup>***</sup></td></tr><tr><td style=\"text-align:left\"></td><td>(1.730)</td><td>(1.196)</td><td>(0.785)</td><td>(0.551)</td><td>(1.378)</td><td>(1.133)</td></tr><tr><td style=\"text-align:left\">pop_density</td><td>-0.005<sup>***</sup></td><td>0.003<sup>***</sup></td><td>-0.000<sup></sup></td><td>0.001<sup>***</sup></td><td>0.002<sup>***</sup></td><td>-0.001<sup></sup></td></tr><tr><td style=\"text-align:left\"></td><td>(0.001)</td><td>(0.001)</td><td>(0.000)</td><td>(0.000)</td><td>(0.000)</td><td>(0.001)</td></tr><tr><td style=\"text-align:left\">post_2014</td><td>-6.361<sup>***</sup></td><td>-5.238<sup>***</sup></td><td>-0.926<sup></sup></td><td>-0.039<sup></sup></td><td>3.075<sup>*</sup></td><td>9.489<sup>***</sup></td></tr><tr><td style=\"text-align:left\"></td><td>(1.839)</td><td>(1.705)</td><td>(1.017)</td><td>(0.771)</td><td>(1.634)</td><td>(1.687)</td></tr><tr><td style=\"text-align:left\">treated_50</td><td>1.562<sup></sup></td><td>-0.301<sup></sup></td><td>-0.018<sup></sup></td><td>-0.279<sup>**</sup></td><td>-0.063<sup></sup></td><td>-0.904<sup>**</sup></td></tr><tr><td style=\"text-align:left\"></td><td>(1.163)</td><td>(0.635)</td><td>(0.379)</td><td>(0.129)</td><td>(0.577)</td><td>(0.447)</td></tr><tr><td style=\"text-align:left\">treated_50:post_2014</td><td>2.181<sup></sup></td><td>1.907<sup>**</sup></td><td>-0.154<sup></sup></td><td>-0.257<sup></sup></td><td>-1.348<sup>*</sup></td><td>-2.326<sup>***</sup></td></tr><tr><td style=\"text-align:left\"></td><td>(1.767)</td><td>(0.856)</td><td>(0.708)</td><td>(0.300)</td><td>(0.714)</td><td>(0.712)</td></tr><tr><td style=\"text-align:left\">unemployed</td><td>-127.824<sup>***</sup></td><td>58.885<sup>***</sup></td><td>-4.379<sup></sup></td><td>35.773<sup>***</sup></td><td>4.705<sup></sup></td><td>32.586<sup>***</sup></td></tr><tr><td style=\"text-align:left\"></td><td>(31.962)</td><td>(20.379)</td><td>(4.045)</td><td>(11.985)</td><td>(8.645)</td><td>(12.142)</td></tr><td colspan=\"7\" style=\"border-bottom: 1px solid black\"></td></tr><tr><td style=\"text-align: left\">Observations</td><td>12,641</td><td>12,641</td><td>12,641</td><td>12,641</td><td>12,641</td><td>12,641</td></tr><tr><td style=\"text-align: left\">R<sup>2</sup></td><td>0.545</td><td>0.732</td><td>0.387</td><td>0.899</td><td>0.414</td><td>0.742</td></tr><tr><td style=\"text-align: left\">Adjusted R<sup>2</sup></td><td>0.545</td><td>0.732</td><td>0.386</td><td>0.899</td><td>0.413</td><td>0.741</td></tr><tr><td style=\"text-align: left\">Residual Std. Error</td><td>7.280 (df=12624)</td><td>6.005 (df=12624)</td><td>3.016 (df=12624)</td><td>2.304 (df=12624)</td><td>3.800 (df=12624)</td><td>5.330 (df=12624)</td></tr><tr><td style=\"text-align: left\">F Statistic</td><td>215.010<sup>***</sup> (df=16; 12624)</td><td>-375.737<sup></sup> (df=16; 12624)</td><td>2.488<sup>***</sup> (df=16; 12624)</td><td>-3488.608<sup></sup> (df=16; 12624)</td><td>346.915<sup>***</sup> (df=16; 12624)</td><td>-25937.614<sup></sup> (df=16; 12624)</td></tr><tr><td colspan=\"7\" style=\"border-bottom: 1px solid black\"></td></tr><tr><td style=\"text-align: left\">Note:</td>\n",
       " <td colspan=\"6\" style=\"text-align: right\">\n",
       "  <sup>*</sup>p&lt;0.1;\n",
       "  <sup>**</sup>p&lt;0.05;\n",
       "  <sup>***</sup>p&lt;0.01\n",
       " </td></tr></table>"
      ],
      "text/plain": [
       "<IPython.core.display.HTML object>"
      ]
     },
     "execution_count": 57,
     "metadata": {},
     "output_type": "execute_result"
    }
   ],
   "source": [
    "controls = 'pop_density + male + foreign + unemployed + np.log(avg_income) + avg_age + catholic'\n",
    "parties = ['Union',\t'SPD', 'FDP', 'Linke', 'Grüne', 'Andere']\n",
    "for party in parties:\n",
    "    locals()[party] = smf.ols(formula=f'{party} ~ treated_50*post_2014 + Land + {controls}', data=ctrl_data).fit(cov_type='cluster', cov_kwds={'groups': np.array(ctrl_data[['AGS', 'year']])}) #locals converts string to variable name\n",
    "stargazer = Stargazer([Union, SPD, FDP, Linke, Grüne, Andere])\n",
    "stargazer.title('Effect on Primary Vote, Municipalities within 50 km of a powerline project, treatment year 2013')\n",
    "stargazer.custom_columns(['Union',\t'SPD', 'FDP', 'Linke', 'Grüne', 'Andere'], [1, 1, 1, 1, 1, 1])\n",
    "stargazer.show_model_numbers(False)\n",
    "with open(f'{path}/tables/ltw/ltw_treatment50_controls.tex', 'w') as f:\n",
    "    f.write(stargazer.render_latex())\n",
    "HTML(stargazer.render_html())"
   ]
  },
  {
   "cell_type": "markdown",
   "metadata": {},
   "source": [
    "DiD for treatment 50 in 2010"
   ]
  },
  {
   "cell_type": "code",
   "execution_count": null,
   "metadata": {},
   "outputs": [
    {
     "data": {
      "text/html": [
       "Effect on Primary Vote, Municipalities within 50 km of a powerline project, treatment year 2013<br><table style=\"text-align:center\"><tr><td colspan=\"7\" style=\"border-bottom: 1px solid black\"></td></tr><tr><td style=\"text-align:left\"></td><tr><td></td><td colspan=\"1\">Union</td><td colspan=\"1\">SPD</td><td colspan=\"1\">FDP</td><td colspan=\"1\">Linke</td><td colspan=\"1\">Grüne</td><td colspan=\"1\">Andere</td></tr><tr><td colspan=\"7\" style=\"border-bottom: 1px solid black\"></td></tr><tr><td style=\"text-align:left\">Intercept</td><td>48.065<sup>***</sup></td><td>14.066<sup>***</sup></td><td>6.764<sup>***</sup></td><td>3.769<sup>***</sup></td><td>8.403<sup>***</sup></td><td>19.048<sup>***</sup></td></tr><tr><td style=\"text-align:left\"></td><td>(1.361)</td><td>(0.810)</td><td>(0.505)</td><td>(0.171)</td><td>(0.822)</td><td>(1.732)</td></tr><tr><td style=\"text-align:left\">Land[T.Hesse]</td><td>-11.963<sup>***</sup></td><td>13.719<sup>***</sup></td><td>4.670<sup>**</sup></td><td>2.084<sup>***</sup></td><td>2.976<sup>***</sup></td><td>-11.599<sup>***</sup></td></tr><tr><td style=\"text-align:left\"></td><td>(0.978)</td><td>(1.161)</td><td>(1.987)</td><td>(0.423)</td><td>(0.453)</td><td>(1.466)</td></tr><tr><td style=\"text-align:left\">Land[T.Lower-Saxony]</td><td>-6.069<sup>*</sup></td><td>18.096<sup>***</sup></td><td>3.917<sup>**</sup></td><td>1.658<sup>***</sup></td><td>-0.139<sup></sup></td><td>-17.577<sup>***</sup></td></tr><tr><td style=\"text-align:left\"></td><td>(3.182)</td><td>(2.936)</td><td>(1.650)</td><td>(0.397)</td><td>(2.409)</td><td>(1.929)</td></tr><tr><td style=\"text-align:left\">Land[T.NRW]</td><td>-11.287<sup>***</sup></td><td>19.716<sup>***</sup></td><td>4.916<sup>**</sup></td><td>0.908<sup>*</sup></td><td>-0.590<sup></sup></td><td>-13.778<sup>***</sup></td></tr><tr><td style=\"text-align:left\"></td><td>(3.118)</td><td>(2.816)</td><td>(1.981)</td><td>(0.496)</td><td>(2.354)</td><td>(2.621)</td></tr><tr><td style=\"text-align:left\">Land[T.Thuringia]</td><td>-14.351<sup>***</sup></td><td>-0.888<sup></sup></td><td>0.918<sup></sup></td><td>22.249<sup>***</sup></td><td>-4.821<sup>***</sup></td><td>-3.221<sup></sup></td></tr><tr><td style=\"text-align:left\"></td><td>(3.863)</td><td>(2.938)</td><td>(0.941)</td><td>(0.672)</td><td>(1.756)</td><td>(4.559)</td></tr><tr><td style=\"text-align:left\">post_2010</td><td>-2.230<sup></sup></td><td>-1.823<sup></sup></td><td>-3.295<sup>***</sup></td><td>-1.426<sup>***</sup></td><td>1.453<sup></sup></td><td>7.318<sup>**</sup></td></tr><tr><td style=\"text-align:left\"></td><td>(2.809)</td><td>(2.273)</td><td>(0.797)</td><td>(0.396)</td><td>(1.531)</td><td>(3.489)</td></tr><tr><td style=\"text-align:left\">treated_50</td><td>3.294<sup>***</sup></td><td>0.194<sup></sup></td><td>-1.218<sup>***</sup></td><td>-0.392<sup></sup></td><td>-0.867<sup></sup></td><td>-1.010<sup></sup></td></tr><tr><td style=\"text-align:left\"></td><td>(0.887)</td><td>(0.680)</td><td>(0.390)</td><td>(0.489)</td><td>(0.719)</td><td>(0.660)</td></tr><tr><td style=\"text-align:left\">treated_50:post_2010</td><td>-1.603<sup></sup></td><td>0.802<sup></sup></td><td>1.522<sup>***</sup></td><td>-0.174<sup></sup></td><td>0.217<sup></sup></td><td>-0.761<sup></sup></td></tr><tr><td style=\"text-align:left\"></td><td>(1.686)</td><td>(1.140)</td><td>(0.485)</td><td>(0.624)</td><td>(0.881)</td><td>(1.371)</td></tr><td colspan=\"7\" style=\"border-bottom: 1px solid black\"></td></tr><tr><td style=\"text-align: left\">Observations</td><td>13,730</td><td>13,730</td><td>13,730</td><td>13,730</td><td>13,730</td><td>13,730</td></tr><tr><td style=\"text-align: left\">R<sup>2</sup></td><td>0.285</td><td>0.587</td><td>0.388</td><td>0.871</td><td>0.208</td><td>0.605</td></tr><tr><td style=\"text-align: left\">Adjusted R<sup>2</sup></td><td>0.285</td><td>0.587</td><td>0.387</td><td>0.871</td><td>0.208</td><td>0.604</td></tr><tr><td style=\"text-align: left\">Residual Std. Error</td><td>9.305 (df=13722)</td><td>7.386 (df=13722)</td><td>3.027 (df=13722)</td><td>3.087 (df=13722)</td><td>4.437 (df=13722)</td><td>6.636 (df=13722)</td></tr><tr><td style=\"text-align: left\">F Statistic</td><td>58.454<sup>***</sup> (df=7; 13722)</td><td>75.148<sup>***</sup> (df=7; 13722)</td><td>313.495<sup>***</sup> (df=7; 13722)</td><td>1191.145<sup>***</sup> (df=7; 13722)</td><td>107.809<sup>***</sup> (df=7; 13722)</td><td>9626.644<sup>***</sup> (df=7; 13722)</td></tr><tr><td colspan=\"7\" style=\"border-bottom: 1px solid black\"></td></tr><tr><td style=\"text-align: left\">Note:</td>\n",
       " <td colspan=\"6\" style=\"text-align: right\">\n",
       "  <sup>*</sup>p&lt;0.1;\n",
       "  <sup>**</sup>p&lt;0.05;\n",
       "  <sup>***</sup>p&lt;0.01\n",
       " </td></tr></table>"
      ],
      "text/plain": [
       "<IPython.core.display.HTML object>"
      ]
     },
     "execution_count": 29,
     "metadata": {},
     "output_type": "execute_result"
    }
   ],
   "source": [
    "parties = ['Union',\t'SPD', 'FDP', 'Linke', 'Grüne', 'Andere']\n",
    "for party in parties:\n",
    "    locals()[party] = smf.ols(formula=f'{party} ~ treated_50*post_2010 + Land', data=data).fit(cov_type='cluster', cov_kwds={'groups': np.array(data[['AGS', 'year']])}) #locals converts string to variable name\n",
    "stargazer = Stargazer([Union, SPD, FDP, Linke, Grüne, Andere])\n",
    "stargazer.title('Effect on Primary Vote, Municipalities within 50 km of a powerline project, treatment year 2013')\n",
    "stargazer.custom_columns(['Union',\t'SPD', 'FDP', 'Linke', 'Grüne', 'Andere'], [1, 1, 1, 1, 1, 1])\n",
    "stargazer.show_model_numbers(False)\n",
    "with open(f'{path}/tables/ltw/ltw_treatment50.tex', 'w') as f:\n",
    "    f.write(stargazer.render_latex())\n",
    "HTML(stargazer.render_html())"
   ]
  }
 ],
 "metadata": {
  "kernelspec": {
   "display_name": "Python 3.10.4 ('vscode')",
   "language": "python",
   "name": "python3"
  },
  "language_info": {
   "codemirror_mode": {
    "name": "ipython",
    "version": 3
   },
   "file_extension": ".py",
   "mimetype": "text/x-python",
   "name": "python",
   "nbconvert_exporter": "python",
   "pygments_lexer": "ipython3",
   "version": "3.10.4"
  },
  "orig_nbformat": 4,
  "vscode": {
   "interpreter": {
    "hash": "656f4cd1472b14b513faaa63bd5e4a7577d125de6a277113d4e82c4085557d3e"
   }
  }
 },
 "nbformat": 4,
 "nbformat_minor": 2
}
