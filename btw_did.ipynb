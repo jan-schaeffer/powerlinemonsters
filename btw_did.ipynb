{
 "cells": [
  {
   "cell_type": "markdown",
   "metadata": {},
   "source": [
    "First, import needed modules"
   ]
  },
  {
   "cell_type": "code",
   "execution_count": 2,
   "metadata": {},
   "outputs": [],
   "source": [
    "import numpy as np\n",
    "import pandas as pd\n",
    "import matplotlib.pyplot as plt\n",
    "from sklearn.linear_model import LinearRegression\n",
    "import statsmodels.api as sm\n",
    "import statsmodels.formula.api as smf\n",
    "from stargazer.stargazer import Stargazer\n",
    "from IPython.core.display import HTML\n",
    "import os"
   ]
  },
  {
   "cell_type": "markdown",
   "metadata": {},
   "source": [
    "Initalize variables"
   ]
  },
  {
   "cell_type": "code",
   "execution_count": 3,
   "metadata": {},
   "outputs": [
    {
     "name": "stdout",
     "output_type": "stream",
     "text": [
      "/Users/jan/Dropbox/UP_EPQM/2222/MA/powerlinemonsters\n"
     ]
    }
   ],
   "source": [
    "path = os.getcwd()\n",
    "print(path)"
   ]
  },
  {
   "cell_type": "markdown",
   "metadata": {},
   "source": [
    "Import datasets"
   ]
  },
  {
   "cell_type": "code",
   "execution_count": 15,
   "metadata": {},
   "outputs": [],
   "source": [
    "btw = pd.read_csv(f'{path}/data/btw.csv', encoding = 'UTF-8-SIG', sep=',')\n",
    "#data = data.set_index(['AGS', 'year'])\n",
    "btw = btw[btw[\"Vote type\"] == 'office']\n",
    "btw = btw[btw[\"year\"] >= 2013]"
   ]
  },
  {
   "cell_type": "markdown",
   "metadata": {},
   "source": [
    "Split data in Erst- and Zweitstimme"
   ]
  },
  {
   "cell_type": "code",
   "execution_count": 16,
   "metadata": {},
   "outputs": [],
   "source": [
    "erst = btw[btw['first_vote'] == 1]\n",
    "zweit = btw[btw['second_vote'] == 1]"
   ]
  },
  {
   "cell_type": "code",
   "execution_count": 9,
   "metadata": {},
   "outputs": [
    {
     "data": {
      "text/plain": [
       "Index(['AGS', 'GEN', 'year', 'Land', 'post_2005', 'post_2009', 'post_2013',\n",
       "       'post_2017', 'first_vote', 'second_vote', 'Vote type', 'Wähler',\n",
       "       'Union', 'SPD', 'FDP', 'Linke', 'Grüne', 'Andere', 'treatment',\n",
       "       'treated_0', 'treated_10', 'treated_20', 'treated_30', 'treated_50',\n",
       "       'treated_100', 'pop_density', 'male', 'female', 'foreign', 'employed',\n",
       "       'unemployed', 'avg_income', 'avg_age', 'age 0-17', 'age 18-24',\n",
       "       'age 25-44', 'age 45-64', 'age 65+', 'protestant', 'catholic',\n",
       "       'religion_other'],\n",
       "      dtype='object')"
      ]
     },
     "execution_count": 9,
     "metadata": {},
     "output_type": "execute_result"
    }
   ],
   "source": [
    "erst.columns"
   ]
  },
  {
   "cell_type": "markdown",
   "metadata": {},
   "source": [
    "Statsmodels"
   ]
  },
  {
   "cell_type": "code",
   "execution_count": 17,
   "metadata": {},
   "outputs": [],
   "source": [
    "covar_names = {'treated_0:post_2017': 'treated_0*post_2017', 'treated_10:post_2017': 'treated_10*post_2017', 'treated_20:post_2017': 'treated_20*post_2017', 'treated_30:post_2017': 'treated_30*post_2017', 'treated_50:post_2017': 'treated_50*post_2017', 'treated_100:post_2017': 'treated_100*post_2017', }\n",
    "covar_order =['post_2017', 'treated_0', 'treated_10', 'treated_20','treated_30', 'treated_50', 'treated_100', 'treated_0:post_2017', 'treated_10:post_2017', 'treated_20:post_2017', 'treated_30:post_2017', 'treated_50:post_2017', 'treated_100:post_2017']\n",
    "treatment_dummies = '(treated_0 + treated_10 + treated_20 + treated_30 + treated_50 + treated_100)'"
   ]
  },
  {
   "cell_type": "markdown",
   "metadata": {},
   "source": [
    "DiD for primary vote, treatment 50 in 2017"
   ]
  },
  {
   "cell_type": "code",
   "execution_count": 19,
   "metadata": {},
   "outputs": [
    {
     "data": {
      "text/html": [
       "Effect on Primary Vote, Municipalities within 50 km of a powerline project, treatment year 2017<br><table style=\"text-align:center\"><tr><td colspan=\"7\" style=\"border-bottom: 1px solid black\"></td></tr><tr><td style=\"text-align:left\"></td><tr><td></td><td colspan=\"1\">Union</td><td colspan=\"1\">SPD</td><td colspan=\"1\">FDP</td><td colspan=\"1\">Linke</td><td colspan=\"1\">Grüne</td><td colspan=\"1\">Andere</td></tr><tr><td colspan=\"7\" style=\"border-bottom: 1px solid black\"></td></tr><tr><td style=\"text-align:left\">post_2017</td><td>-10.606<sup>***</sup></td><td>-2.872<sup>***</sup></td><td>4.121<sup>***</sup></td><td>-1.195<sup>***</sup></td><td>0.675<sup>***</sup></td><td>9.877<sup>***</sup></td></tr><tr><td style=\"text-align:left\"></td><td>(nan)</td><td>(nan)</td><td>(nan)</td><td>(nan)</td><td>(nan)</td><td>(nan)</td></tr><tr><td style=\"text-align:left\">treated_0</td><td>-0.119<sup>***</sup></td><td>1.241<sup>***</sup></td><td>-0.236<sup>***</sup></td><td>-0.695<sup>***</sup></td><td>0.055<sup>***</sup></td><td>-0.246<sup>***</sup></td></tr><tr><td style=\"text-align:left\"></td><td>(0.004)</td><td>(0.004)</td><td>(0.001)</td><td>(0.003)</td><td>(0.001)</td><td>(0.001)</td></tr><tr><td style=\"text-align:left\">treated_10</td><td>-0.332<sup>***</sup></td><td>0.795<sup>***</sup></td><td>0.028<sup>***</sup></td><td>-0.143<sup>***</sup></td><td>-0.112<sup>***</sup></td><td>-0.237<sup>***</sup></td></tr><tr><td style=\"text-align:left\"></td><td>(0.004)</td><td>(0.004)</td><td>(0.001)</td><td>(0.003)</td><td>(0.001)</td><td>(0.001)</td></tr><tr><td style=\"text-align:left\">treated_20</td><td>0.024<sup>***</sup></td><td>-0.335<sup>***</sup></td><td>0.044<sup>***</sup></td><td>0.358<sup>***</sup></td><td>-0.195<sup>***</sup></td><td>0.103<sup>***</sup></td></tr><tr><td style=\"text-align:left\"></td><td>(0.004)</td><td>(0.004)</td><td>(0.001)</td><td>(0.003)</td><td>(0.001)</td><td>(0.001)</td></tr><tr><td style=\"text-align:left\">treated_30</td><td>-0.148<sup>***</sup></td><td>0.356<sup>***</sup></td><td>-0.162<sup>***</sup></td><td>-0.100<sup>***</sup></td><td>0.145<sup>***</sup></td><td>-0.092<sup>***</sup></td></tr><tr><td style=\"text-align:left\"></td><td>(0.004)</td><td>(0.003)</td><td>(0.001)</td><td>(0.002)</td><td>(0.001)</td><td>(0.001)</td></tr><tr><td style=\"text-align:left\">treated_50</td><td>1.068<sup>***</sup></td><td>0.737<sup>***</sup></td><td>0.199<sup>***</sup></td><td>-1.653<sup>***</sup></td><td>0.408<sup>***</sup></td><td>-0.759<sup>***</sup></td></tr><tr><td style=\"text-align:left\"></td><td>(0.003)</td><td>(0.002)</td><td>(0.000)</td><td>(0.002)</td><td>(0.001)</td><td>(0.001)</td></tr><tr><td style=\"text-align:left\">treated_100</td><td>-2.270<sup>***</sup></td><td>4.306<sup>***</sup></td><td>0.030<sup>***</sup></td><td>-0.748<sup>***</sup></td><td>-0.470<sup>***</sup></td><td>-0.847<sup>***</sup></td></tr><tr><td style=\"text-align:left\"></td><td>(0.002)</td><td>(0.002)</td><td>(0.000)</td><td>(0.001)</td><td>(0.000)</td><td>(0.001)</td></tr><tr><td style=\"text-align:left\">treated_0*post_2017</td><td>0.655<sup>***</sup></td><td>-0.022<sup>***</sup></td><td>-0.011<sup>***</sup></td><td>0.313<sup>***</sup></td><td>0.038<sup>***</sup></td><td>-0.972<sup>***</sup></td></tr><tr><td style=\"text-align:left\"></td><td>(nan)</td><td>(nan)</td><td>(nan)</td><td>(nan)</td><td>(nan)</td><td>(nan)</td></tr><tr><td style=\"text-align:left\">treated_10*post_2017</td><td>-0.261<sup>***</sup></td><td>-0.025<sup>***</sup></td><td>-0.263<sup>***</sup></td><td>0.205<sup>***</sup></td><td>-0.014<sup>***</sup></td><td>0.359<sup>***</sup></td></tr><tr><td style=\"text-align:left\"></td><td>(nan)</td><td>(nan)</td><td>(nan)</td><td>(nan)</td><td>(nan)</td><td>(nan)</td></tr><tr><td style=\"text-align:left\">treated_20*post_2017</td><td>-0.014<sup>***</sup></td><td>-0.546<sup>***</sup></td><td>0.172<sup>***</sup></td><td>-0.287<sup>***</sup></td><td>-0.010<sup>***</sup></td><td>0.686<sup>***</sup></td></tr><tr><td style=\"text-align:left\"></td><td>(nan)</td><td>(nan)</td><td>(nan)</td><td>(nan)</td><td>(nan)</td><td>(nan)</td></tr><tr><td style=\"text-align:left\">treated_30*post_2017</td><td>0.888<sup>***</sup></td><td>-0.358<sup>***</sup></td><td>-0.107<sup>***</sup></td><td>-0.128<sup>***</sup></td><td>-0.058<sup>***</sup></td><td>-0.237<sup>***</sup></td></tr><tr><td style=\"text-align:left\"></td><td>(nan)</td><td>(nan)</td><td>(nan)</td><td>(nan)</td><td>(nan)</td><td>(nan)</td></tr><tr><td style=\"text-align:left\">treated_50*post_2017</td><td>0.529<sup>***</sup></td><td>0.190<sup>***</sup></td><td>-0.209<sup>***</sup></td><td>0.614<sup>***</sup></td><td>0.112<sup>***</sup></td><td>-1.236<sup>***</sup></td></tr><tr><td style=\"text-align:left\"></td><td>(nan)</td><td>(nan)</td><td>(nan)</td><td>(nan)</td><td>(nan)</td><td>(nan)</td></tr><tr><td style=\"text-align:left\">treated_100*post_2017</td><td>1.681<sup>***</sup></td><td>-1.056<sup>***</sup></td><td>0.330<sup>***</sup></td><td>0.259<sup>***</sup></td><td>-0.053<sup>***</sup></td><td>-1.161<sup>***</sup></td></tr><tr><td style=\"text-align:left\"></td><td>(nan)</td><td>(nan)</td><td>(nan)</td><td>(nan)</td><td>(nan)</td><td>(nan)</td></tr><tr><td style=\"text-align: left\">State dummies</td><td>Yes</td><td>Yes</td><td>Yes</td><td>Yes</td><td>Yes</td><td>Yes</td></tr><td colspan=\"7\" style=\"border-bottom: 1px solid black\"></td></tr><tr><td style=\"text-align: left\">Observations</td><td>22,120</td><td>22,120</td><td>22,120</td><td>22,120</td><td>22,120</td><td>22,120</td></tr><tr><td style=\"text-align: left\">R<sup>2</sup></td><td>0.169</td><td>0.079</td><td>0.447</td><td>0.021</td><td>0.013</td><td>0.326</td></tr><tr><td style=\"text-align: left\">Adjusted R<sup>2</sup></td><td>0.169</td><td>0.078</td><td>0.447</td><td>0.021</td><td>0.013</td><td>0.326</td></tr><tr><td style=\"text-align: left\">Residual Std. Error</td><td>10.443 (df=22106)</td><td>9.885 (df=22106)</td><td>2.352 (df=22106)</td><td>6.915 (df=22106)</td><td>3.405 (df=22106)</td><td>6.638 (df=22106)</td></tr><tr><td style=\"text-align: left\">F Statistic</td><td>-410.555<sup></sup> (df=13; 22106)</td><td>34.867<sup>***</sup> (df=13; 22106)</td><td>-4100.556<sup></sup> (df=13; 22106)</td><td>31.746<sup>***</sup> (df=13; 22106)</td><td>-15.552<sup></sup> (df=13; 22106)</td><td>-1956.136<sup></sup> (df=13; 22106)</td></tr><tr><td colspan=\"7\" style=\"border-bottom: 1px solid black\"></td></tr><tr><td style=\"text-align: left\">Note:</td>\n",
       " <td colspan=\"6\" style=\"text-align: right\">\n",
       "  <sup>*</sup>p&lt;0.1;\n",
       "  <sup>**</sup>p&lt;0.05;\n",
       "  <sup>***</sup>p&lt;0.01\n",
       " </td></tr><tr><td></td><td colspan=\"6\" style=\"text-align: right\">First note</td></tr><tr><td></td><td colspan=\"6\" style=\"text-align: right\">Second note</td></tr></table>"
      ],
      "text/plain": [
       "<IPython.core.display.HTML object>"
      ]
     },
     "execution_count": 19,
     "metadata": {},
     "output_type": "execute_result"
    }
   ],
   "source": [
    "parties = ['Union',\t'SPD', 'FDP', 'Linke', 'Grüne', 'Andere']\n",
    "for party in parties:\n",
    "    locals()[party] = smf.ols(formula=f'{party} ~ {treatment_dummies}*post_2017', data=erst).fit(cov_type='cluster', cov_kwds={'groups': np.array(erst[['AGS', 'year']])}, missing='drop')\n",
    "stargazer = Stargazer([Union, SPD, FDP, Linke, Grüne, Andere])\n",
    "stargazer.title('Effect on Primary Vote, Municipalities within 50 km of a powerline project, treatment year 2017')\n",
    "stargazer.custom_columns(['Union',\t'SPD', 'FDP', 'Linke', 'Grüne', 'Andere'], [1, 1, 1, 1, 1, 1])\n",
    "stargazer.significant_digits(3)\n",
    "stargazer.covariate_order(covar_order)\n",
    "stargazer.rename_covariates(covar_names)\n",
    "stargazer.show_model_numbers(False)\n",
    "stargazer.add_custom_notes(['First note', 'Second note'])\n",
    "stargazer.add_line('State dummies', ['Yes', 'Yes', 'Yes', 'Yes', 'Yes', 'Yes', ])\n",
    "with open(f'{path}/tables/btw/erst_2017.tex', 'w') as f:\n",
    "    f.write(stargazer.render_latex())\n",
    "HTML(stargazer.render_html())"
   ]
  },
  {
   "cell_type": "code",
   "execution_count": 42,
   "metadata": {},
   "outputs": [
    {
     "name": "stdout",
     "output_type": "stream",
     "text": [
      "                            OLS Regression Results                            \n",
      "==============================================================================\n",
      "Dep. Variable:                    SPD   R-squared:                       0.439\n",
      "Model:                            OLS   Adj. R-squared:                  0.439\n",
      "Method:                 Least Squares   F-statistic:                    -3969.\n",
      "Date:                Tue, 09 Aug 2022   Prob (F-statistic):               1.00\n",
      "Time:                        16:19:23   Log-Likelihood:            -1.8857e+05\n",
      "No. Observations:               51660   AIC:                         3.772e+05\n",
      "Df Residuals:                   51630   BIC:                         3.775e+05\n",
      "Df Model:                          29                                         \n",
      "Covariance Type:              cluster                                         \n",
      "========================================================================================\n",
      "                           coef    std err          z      P>|z|      [0.025      0.975]\n",
      "----------------------------------------------------------------------------------------\n",
      "Intercept               33.6480      4.328      7.774      0.000      25.165      42.131\n",
      "Land[T.BW]              -6.8597      1.359     -5.048      0.000      -9.523      -4.196\n",
      "Land[T.BY]             -13.2200      2.822     -4.685      0.000     -18.750      -7.690\n",
      "Land[T.HB]              12.7080        nan        nan        nan         nan         nan\n",
      "Land[T.HE]               6.0062      1.768      3.398      0.001       2.541       9.471\n",
      "Land[T.MV]             -15.9717      4.171     -3.829      0.000     -24.148      -7.796\n",
      "Land[T.NI]               6.3458      1.632      3.888      0.000       3.147       9.545\n",
      "Land[T.NW]               3.0008      2.046      1.467      0.142      -1.008       7.010\n",
      "Land[T.RP]               1.3446      1.974      0.681      0.496      -2.525       5.214\n",
      "Land[T.SH]               1.4154      1.868      0.758      0.449      -2.247       5.078\n",
      "Land[T.SL]               5.0949      1.932      2.637      0.008       1.308       8.881\n",
      "Land[T.SN]             -20.4506      4.470     -4.576      0.000     -29.211     -11.690\n",
      "Land[T.ST]             -14.9590      4.278     -3.496      0.000     -23.344      -6.574\n",
      "Land[T.TH]              -8.6479      0.582    -14.859      0.000      -9.789      -7.507\n",
      "treated_50               0.9323      0.178      5.233      0.000       0.583       1.281\n",
      "post_2017              -14.2744      4.320     -3.304      0.001     -22.741      -5.807\n",
      "Land[T.BW]:post_2017     5.3928      1.316      4.099      0.000       2.814       7.971\n",
      "Land[T.BY]:post_2017     9.8108      2.802      3.501      0.000       4.319      15.303\n",
      "Land[T.HB]:post_2017     1.1823        nan        nan        nan         nan         nan\n",
      "Land[T.HE]:post_2017     5.5174      1.675      3.294      0.001       2.235       8.800\n",
      "Land[T.MV]:post_2017    12.6216      4.155      3.037      0.002       4.477      20.766\n",
      "Land[T.NI]:post_2017     5.4778      1.559      3.514      0.000       2.423       8.533\n",
      "Land[T.NW]:post_2017     6.5277      1.965      3.323      0.001       2.677      10.378\n",
      "Land[T.RP]:post_2017     8.3121      1.938      4.289      0.000       4.513      12.111\n",
      "Land[T.SH]:post_2017     4.3535      1.832      2.376      0.017       0.763       7.944\n",
      "Land[T.SL]:post_2017     7.0516      1.812      3.892      0.000       3.500      10.603\n",
      "Land[T.SN]:post_2017    11.0313      4.458      2.475      0.013       2.294      19.769\n",
      "Land[T.ST]:post_2017    12.2028      4.262      2.863      0.004       3.850      20.556\n",
      "Land[T.TH]:post_2017     1.7970      0.472      3.809      0.000       0.872       2.722\n",
      "treated_50:post_2017    -0.6637        nan        nan        nan         nan         nan\n",
      "==============================================================================\n",
      "Omnibus:                      708.224   Durbin-Watson:                   0.789\n",
      "Prob(Omnibus):                  0.000   Jarque-Bera (JB):              890.601\n",
      "Skew:                           0.211   Prob(JB):                    4.06e-194\n",
      "Kurtosis:                       3.486   Cond. No.                         215.\n",
      "==============================================================================\n",
      "\n",
      "Notes:\n",
      "[1] Standard Errors are robust to cluster correlation (cluster)\n"
     ]
    }
   ],
   "source": [
    "print(SPD.summary())"
   ]
  },
  {
   "cell_type": "markdown",
   "metadata": {},
   "source": [
    "DiD for secondary vote, treatment 50 in 2017"
   ]
  },
  {
   "cell_type": "code",
   "execution_count": 57,
   "metadata": {},
   "outputs": [
    {
     "data": {
      "text/html": [
       "Effect on Secondary Vote, Municipalities within 50 km of a powerline project, treatment year 2017<br><table style=\"text-align:center\"><tr><td colspan=\"7\" style=\"border-bottom: 1px solid black\"></td></tr><tr><td style=\"text-align:left\"></td><tr><td></td><td colspan=\"1\">Union</td><td colspan=\"1\">SPD</td><td colspan=\"1\">FDP</td><td colspan=\"1\">Linke</td><td colspan=\"1\">Grüne</td><td colspan=\"1\">Andere</td></tr><tr><td colspan=\"7\" style=\"border-bottom: 1px solid black\"></td></tr><tr><td style=\"text-align:left\">post_2017</td><td>-6.906<sup>***</sup></td><td>-6.713<sup>**</sup></td><td>0.871<sup></sup></td><td>-0.904<sup></sup></td><td>0.338<sup></sup></td><td>13.315<sup>***</sup></td></tr><tr><td style=\"text-align:left\"></td><td>(2.304)</td><td>(2.647)</td><td>(2.330)</td><td>(1.406)</td><td>(0.568)</td><td>(1.631)</td></tr><tr><td style=\"text-align:left\">treated_0</td><td>-0.080<sup></sup></td><td>0.206<sup></sup></td><td>-0.206<sup>***</sup></td><td>0.100<sup></sup></td><td>0.074<sup></sup></td><td>-0.096<sup>**</sup></td></tr><tr><td style=\"text-align:left\"></td><td>(0.452)</td><td>(0.306)</td><td>(0.054)</td><td>(0.136)</td><td>(0.119)</td><td>(0.048)</td></tr><tr><td style=\"text-align:left\">treated_10</td><td>-0.578<sup></sup></td><td>0.463<sup></sup></td><td>0.089<sup></sup></td><td>0.059<sup></sup></td><td>-0.025<sup></sup></td><td>-0.008<sup></sup></td></tr><tr><td style=\"text-align:left\"></td><td>(0.416)</td><td>(0.284)</td><td>(0.073)</td><td>(0.085)</td><td>(0.105)</td><td>(0.032)</td></tr><tr><td style=\"text-align:left\">treated_20</td><td>1.062<sup>**</sup></td><td>-0.475<sup></sup></td><td>-0.132<sup>***</sup></td><td>-0.230<sup>**</sup></td><td>-0.207<sup>*</sup></td><td>-0.017<sup></sup></td></tr><tr><td style=\"text-align:left\"></td><td>(0.440)</td><td>(0.301)</td><td>(nan)</td><td>(0.099)</td><td>(0.115)</td><td>(0.025)</td></tr><tr><td style=\"text-align:left\">treated_30</td><td>-0.747<sup>*</sup></td><td>0.739<sup>***</sup></td><td>-0.143<sup>***</sup></td><td>0.175<sup>**</sup></td><td>0.001<sup></sup></td><td>-0.025<sup></sup></td></tr><tr><td style=\"text-align:left\"></td><td>(0.383)</td><td>(0.277)</td><td>(nan)</td><td>(0.076)</td><td>(0.108)</td><td>(0.021)</td></tr><tr><td style=\"text-align:left\">treated_50</td><td>0.526<sup>*</sup></td><td>-0.319<sup></sup></td><td>0.257<sup>***</sup></td><td>-0.679<sup>***</sup></td><td>0.164<sup>**</sup></td><td>0.051<sup></sup></td></tr><tr><td style=\"text-align:left\"></td><td>(0.294)</td><td>(0.196)</td><td>(0.009)</td><td>(0.181)</td><td>(0.083)</td><td>(0.184)</td></tr><tr><td style=\"text-align:left\">treated_100</td><td>-2.035<sup>***</sup></td><td>1.891<sup>***</sup></td><td>0.079<sup></sup></td><td>0.233<sup></sup></td><td>-0.352<sup>**</sup></td><td>0.183<sup></sup></td></tr><tr><td style=\"text-align:left\"></td><td>(0.423)</td><td>(0.271)</td><td>(0.100)</td><td>(0.151)</td><td>(0.140)</td><td>(0.229)</td></tr><tr><td style=\"text-align:left\">treated_0*post_2017</td><td>0.455<sup>***</sup></td><td>-0.002<sup>***</sup></td><td>0.052<sup>***</sup></td><td>0.540<sup>***</sup></td><td>-0.180<sup>***</sup></td><td>-0.864<sup>***</sup></td></tr><tr><td style=\"text-align:left\"></td><td>(nan)</td><td>(nan)</td><td>(nan)</td><td>(nan)</td><td>(nan)</td><td>(nan)</td></tr><tr><td style=\"text-align:left\">treated_10*post_2017</td><td>0.194<sup>***</sup></td><td>-0.201<sup>***</sup></td><td>-0.100<sup>***</sup></td><td>0.009<sup>***</sup></td><td>-0.132<sup>***</sup></td><td>0.231<sup>***</sup></td></tr><tr><td style=\"text-align:left\"></td><td>(nan)</td><td>(nan)</td><td>(nan)</td><td>(nan)</td><td>(nan)</td><td>(0.039)</td></tr><tr><td style=\"text-align:left\">treated_20*post_2017</td><td>-0.256<sup>***</sup></td><td>-0.502<sup>***</sup></td><td>0.324<sup>***</sup></td><td>-0.125<sup>***</sup></td><td>0.212<sup>***</sup></td><td>0.348<sup>***</sup></td></tr><tr><td style=\"text-align:left\"></td><td>(nan)</td><td>(nan)</td><td>(nan)</td><td>(nan)</td><td>(nan)</td><td>(0.040)</td></tr><tr><td style=\"text-align:left\">treated_30*post_2017</td><td>0.556<sup>***</sup></td><td>-0.276<sup>***</sup></td><td>0.080<sup>***</sup></td><td>-0.120<sup>***</sup></td><td>0.065<sup>***</sup></td><td>-0.306<sup>***</sup></td></tr><tr><td style=\"text-align:left\"></td><td>(nan)</td><td>(nan)</td><td>(nan)</td><td>(nan)</td><td>(nan)</td><td>(0.022)</td></tr><tr><td style=\"text-align:left\">treated_50*post_2017</td><td>0.450<sup>***</sup></td><td>0.122<sup>***</sup></td><td>-0.128<sup>***</sup></td><td>0.870<sup>***</sup></td><td>0.131<sup>***</sup></td><td>-1.446<sup>***</sup></td></tr><tr><td style=\"text-align:left\"></td><td>(nan)</td><td>(nan)</td><td>(nan)</td><td>(0.155)</td><td>(nan)</td><td>(0.069)</td></tr><tr><td style=\"text-align:left\">treated_100*post_2017</td><td>2.158<sup>***</sup></td><td>-0.772<sup></sup></td><td>-0.229<sup></sup></td><td>0.218<sup></sup></td><td>-0.374<sup>***</sup></td><td>-1.000<sup>***</sup></td></tr><tr><td style=\"text-align:left\"></td><td>(0.402)</td><td>(0.499)</td><td>(0.170)</td><td>(0.240)</td><td>(0.073)</td><td>(0.201)</td></tr><td colspan=\"7\" style=\"border-bottom: 1px solid black\"></td></tr><tr><td style=\"text-align: left\">Observations</td><td>51,660</td><td>51,660</td><td>51,660</td><td>51,660</td><td>51,660</td><td>51,660</td></tr><tr><td style=\"text-align: left\">R<sup>2</sup></td><td>0.340</td><td>0.397</td><td>0.151</td><td>0.708</td><td>0.320</td><td>0.624</td></tr><tr><td style=\"text-align: left\">Adjusted R<sup>2</sup></td><td>0.339</td><td>0.397</td><td>0.151</td><td>0.708</td><td>0.320</td><td>0.624</td></tr><tr><td style=\"text-align: left\">Residual Std. Error</td><td>9.565 (df=51633)</td><td>8.592 (df=51633)</td><td>4.620 (df=51633)</td><td>3.997 (df=51633)</td><td>3.006 (df=51633)</td><td>4.680 (df=51633)</td></tr><tr><td style=\"text-align: left\">F Statistic</td><td>249.348<sup>***</sup> (df=26; 51633)</td><td>132.849<sup>***</sup> (df=26; 51633)</td><td>-2387.229<sup></sup> (df=26; 51633)</td><td>-1566.274<sup></sup> (df=26; 51633)</td><td>290.348<sup>***</sup> (df=26; 51633)</td><td>2066.852<sup>***</sup> (df=26; 51633)</td></tr><tr><td colspan=\"7\" style=\"border-bottom: 1px solid black\"></td></tr><tr><td style=\"text-align: left\">Note:</td>\n",
       " <td colspan=\"6\" style=\"text-align: right\">\n",
       "  <sup>*</sup>p&lt;0.1;\n",
       "  <sup>**</sup>p&lt;0.05;\n",
       "  <sup>***</sup>p&lt;0.01\n",
       " </td></tr></table>"
      ],
      "text/plain": [
       "<IPython.core.display.HTML object>"
      ]
     },
     "execution_count": 57,
     "metadata": {},
     "output_type": "execute_result"
    }
   ],
   "source": [
    "parties = ['Union',\t'SPD', 'FDP', 'Linke', 'Grüne', 'Andere']\n",
    "for party in parties:\n",
    "    locals()[party] = smf.ols(formula=f'{party} ~ ({treatment_dummies})*post_2017 + Land', data=zweit).fit(cov_type='cluster', cov_kwds={'groups': np.array(zweit[['AGS', 'year']])}) #np.array(zweit[['AGS', 'year']])\n",
    "stargazer = Stargazer([Union, SPD, FDP, Linke, Grüne, Andere])\n",
    "stargazer.title('Effect on Secondary Vote, Municipalities within 50 km of a powerline project, treatment year 2017')\n",
    "stargazer.custom_columns(['Union',\t'SPD', 'FDP', 'Linke', 'Grüne', 'Andere'], [1, 1, 1, 1, 1, 1])\n",
    "stargazer.significant_digits(3)\n",
    "stargazer.covariate_order(covar_order)\n",
    "stargazer.rename_covariates(covar_names)\n",
    "stargazer.show_model_numbers(False)\n",
    "stargazer.show_model_numbers(False)\n",
    "with open(f'{path}/tables/btw/zweit_2017.tex', 'w') as f:\n",
    "    f.write(stargazer.render_latex())\n",
    "HTML(stargazer.render_html())"
   ]
  },
  {
   "cell_type": "markdown",
   "metadata": {},
   "source": [
    "Placebo DiD for treatments in 2005, 2009, 2013"
   ]
  },
  {
   "cell_type": "markdown",
   "metadata": {},
   "source": [
    "Drop all observations after the treatment"
   ]
  },
  {
   "cell_type": "code",
   "execution_count": 12,
   "metadata": {},
   "outputs": [],
   "source": [
    "erst_pl = erst[erst['year'] <= 2013]\n",
    "zweit_pl = zweit[zweit['year'] <= 2013]"
   ]
  },
  {
   "cell_type": "markdown",
   "metadata": {},
   "source": [
    "Primary vote, post 2005"
   ]
  },
  {
   "cell_type": "code",
   "execution_count": 13,
   "metadata": {},
   "outputs": [],
   "source": [
    "time_dummies = '(post_2005 + post_2009 + post_2013)'"
   ]
  },
  {
   "cell_type": "code",
   "execution_count": 14,
   "metadata": {},
   "outputs": [
    {
     "data": {
      "text/html": [
       "Effect on Secondary Vote, Municipalities within 50 km of a powerline project, treatment year 2005<br><table style=\"text-align:center\"><tr><td colspan=\"7\" style=\"border-bottom: 1px solid black\"></td></tr><tr><td style=\"text-align:left\"></td><tr><td></td><td colspan=\"1\">Union</td><td colspan=\"1\">SPD</td><td colspan=\"1\">FDP</td><td colspan=\"1\">Linke</td><td colspan=\"1\">Grüne</td><td colspan=\"1\">Andere</td></tr><tr><td colspan=\"7\" style=\"border-bottom: 1px solid black\"></td></tr><tr><td style=\"text-align:left\">Intercept</td><td>50.471<sup>***</sup></td><td>35.398<sup>***</sup></td><td>5.380<sup>***</sup></td><td>2.764<sup>***</sup></td><td>4.806<sup>***</sup></td><td>1.181<sup>***</sup></td></tr><tr><td style=\"text-align:left\"></td><td>(0.272)</td><td>(0.220)</td><td>(0.050)</td><td>(0.098)</td><td>(0.043)</td><td>(0.023)</td></tr><tr><td style=\"text-align:left\">post_2005</td><td>-2.194<sup>***</sup></td><td>-2.743<sup>***</sup></td><td>-0.356<sup>***</sup></td><td>3.460<sup>***</sup></td><td>-0.055<sup>*</sup></td><td>1.889<sup>***</sup></td></tr><tr><td style=\"text-align:left\"></td><td>(0.096)</td><td>(0.083)</td><td>(0.045)</td><td>(0.070)</td><td>(0.032)</td><td>(0.042)</td></tr><tr><td style=\"text-align:left\">post_2009</td><td>-4.228<sup>***</sup></td><td>-10.146<sup>***</sup></td><td>5.269<sup>***</sup></td><td>5.061<sup>***</sup></td><td>3.136<sup>***</sup></td><td>0.909<sup>***</sup></td></tr><tr><td style=\"text-align:left\"></td><td>(0.120)</td><td>(0.112)</td><td>(0.055)</td><td>(0.090)</td><td>(0.055)</td><td>(0.038)</td></tr><tr><td style=\"text-align:left\">post_2013</td><td>8.094<sup>***</sup></td><td>0.233<sup>***</sup></td><td>-8.170<sup>***</sup></td><td>-1.942<sup>***</sup></td><td>-2.647<sup>***</sup></td><td>4.432<sup>***</sup></td></tr><tr><td style=\"text-align:left\"></td><td>(0.091)</td><td>(0.080)</td><td>(0.055)</td><td>(0.083)</td><td>(0.047)</td><td>(0.055)</td></tr><tr><td style=\"text-align:left\">treated_0</td><td>0.520<sup></sup></td><td>-0.020<sup></sup></td><td>-0.375<sup>**</sup></td><td>-0.410<sup></sup></td><td>0.193<sup></sup></td><td>0.092<sup></sup></td></tr><tr><td style=\"text-align:left\"></td><td>(0.818)</td><td>(0.739)</td><td>(0.168)</td><td>(0.315)</td><td>(0.136)</td><td>(0.060)</td></tr><tr><td style=\"text-align:left\">treated_0:post_2005</td><td>-0.691<sup>**</sup></td><td>0.730<sup>***</sup></td><td>0.132<sup></sup></td><td>-0.303<sup>**</sup></td><td>-0.121<sup></sup></td><td>0.253<sup></sup></td></tr><tr><td style=\"text-align:left\"></td><td>(0.296)</td><td>(0.262)</td><td>(0.129)</td><td>(0.152)</td><td>(0.099)</td><td>(0.213)</td></tr><tr><td style=\"text-align:left\">treated_0:post_2009</td><td>0.693<sup>**</sup></td><td>0.196<sup></sup></td><td>-0.423<sup>**</sup></td><td>-0.088<sup></sup></td><td>0.132<sup></sup></td><td>-0.510<sup>**</sup></td></tr><tr><td style=\"text-align:left\"></td><td>(0.348)</td><td>(0.248)</td><td>(0.184)</td><td>(0.207)</td><td>(0.129)</td><td>(0.206)</td></tr><tr><td style=\"text-align:left\">treated_0:post_2013</td><td>-0.642<sup>**</sup></td><td>0.335<sup></sup></td><td>0.430<sup>**</sup></td><td>0.106<sup></sup></td><td>-0.148<sup></sup></td><td>-0.081<sup></sup></td></tr><tr><td style=\"text-align:left\"></td><td>(0.293)</td><td>(0.266)</td><td>(0.172)</td><td>(0.222)</td><td>(0.130)</td><td>(0.150)</td></tr><tr><td style=\"text-align:left\">treated_10</td><td>-0.919<sup></sup></td><td>1.090<sup>*</sup></td><td>-0.090<sup></sup></td><td>0.035<sup></sup></td><td>-0.079<sup></sup></td><td>-0.036<sup></sup></td></tr><tr><td style=\"text-align:left\"></td><td>(0.723)</td><td>(0.637)</td><td>(0.163)</td><td>(0.295)</td><td>(0.123)</td><td>(0.053)</td></tr><tr><td style=\"text-align:left\">treated_100</td><td>-4.356<sup>***</sup></td><td>4.127<sup>***</sup></td><td>0.771<sup>***</sup></td><td>0.474<sup>***</sup></td><td>-0.634<sup>***</sup></td><td>-0.381<sup>***</sup></td></tr><tr><td style=\"text-align:left\"></td><td>(0.393)</td><td>(0.328)</td><td>(0.088)</td><td>(0.159)</td><td>(0.062)</td><td>(0.033)</td></tr><tr><td style=\"text-align:left\">treated_100:post_2005</td><td>1.567<sup>***</sup></td><td>-0.865<sup>***</sup></td><td>-0.767<sup>***</sup></td><td>0.068<sup></sup></td><td>-0.261<sup>***</sup></td><td>0.257<sup>***</sup></td></tr><tr><td style=\"text-align:left\"></td><td>(0.138)</td><td>(0.126)</td><td>(0.074)</td><td>(0.092)</td><td>(0.047)</td><td>(0.076)</td></tr><tr><td style=\"text-align:left\">treated_100:post_2009</td><td>1.430<sup>***</sup></td><td>0.243<sup></sup></td><td>-0.108<sup></sup></td><td>-0.768<sup>***</sup></td><td>-0.116<sup></sup></td><td>-0.682<sup>***</sup></td></tr><tr><td style=\"text-align:left\"></td><td>(0.172)</td><td>(0.150)</td><td>(0.093)</td><td>(0.128)</td><td>(0.072)</td><td>(0.060)</td></tr><tr><td style=\"text-align:left\">treated_100:post_2013</td><td>-0.912<sup>***</sup></td><td>0.802<sup>***</sup></td><td>0.133<sup></sup></td><td>-0.523<sup>***</sup></td><td>0.540<sup>***</sup></td><td>-0.041<sup></sup></td></tr><tr><td style=\"text-align:left\"></td><td>(0.146)</td><td>(0.130)</td><td>(0.088)</td><td>(0.126)</td><td>(0.066)</td><td>(0.082)</td></tr><tr><td style=\"text-align:left\">treated_10:post_2005</td><td>0.277<sup></sup></td><td>-0.390<sup></sup></td><td>-0.022<sup></sup></td><td>0.020<sup></sup></td><td>0.158<sup></sup></td><td>-0.043<sup></sup></td></tr><tr><td style=\"text-align:left\"></td><td>(0.256)</td><td>(0.256)</td><td>(0.124)</td><td>(0.150)</td><td>(0.099)</td><td>(0.163)</td></tr><tr><td style=\"text-align:left\">treated_10:post_2009</td><td>-0.100<sup></sup></td><td>-0.093<sup></sup></td><td>0.086<sup></sup></td><td>0.018<sup></sup></td><td>-0.169<sup></sup></td><td>0.259<sup>*</sup></td></tr><tr><td style=\"text-align:left\"></td><td>(0.336)</td><td>(0.237)</td><td>(0.185)</td><td>(0.211)</td><td>(0.134)</td><td>(0.144)</td></tr><tr><td style=\"text-align:left\">treated_10:post_2013</td><td>0.411<sup></sup></td><td>0.189<sup></sup></td><td>0.054<sup></sup></td><td>-0.216<sup></sup></td><td>-0.021<sup></sup></td><td>-0.417<sup>***</sup></td></tr><tr><td style=\"text-align:left\"></td><td>(0.298)</td><td>(0.262)</td><td>(0.175)</td><td>(0.223)</td><td>(0.131)</td><td>(0.150)</td></tr><tr><td style=\"text-align:left\">treated_20</td><td>0.023<sup></sup></td><td>0.014<sup></sup></td><td>-0.145<sup></sup></td><td>0.328<sup></sup></td><td>-0.185<sup></sup></td><td>-0.035<sup></sup></td></tr><tr><td style=\"text-align:left\"></td><td>(0.771)</td><td>(0.663)</td><td>(0.190)</td><td>(0.305)</td><td>(0.133)</td><td>(0.062)</td></tr><tr><td style=\"text-align:left\">treated_20:post_2005</td><td>-0.115<sup></sup></td><td>0.087<sup></sup></td><td>-0.024<sup></sup></td><td>0.032<sup></sup></td><td>-0.091<sup></sup></td><td>0.111<sup></sup></td></tr><tr><td style=\"text-align:left\"></td><td>(0.283)</td><td>(0.259)</td><td>(0.139)</td><td>(0.140)</td><td>(0.108)</td><td>(0.192)</td></tr><tr><td style=\"text-align:left\">treated_20:post_2009</td><td>0.930<sup>**</sup></td><td>-0.534<sup>**</sup></td><td>-0.118<sup></sup></td><td>-0.157<sup></sup></td><td>-0.038<sup></sup></td><td>-0.082<sup></sup></td></tr><tr><td style=\"text-align:left\"></td><td>(0.376)</td><td>(0.271)</td><td>(0.195)</td><td>(0.228)</td><td>(0.150)</td><td>(0.173)</td></tr><tr><td style=\"text-align:left\">treated_20:post_2013</td><td>-0.814<sup>**</sup></td><td>0.098<sup></sup></td><td>0.331<sup>*</sup></td><td>0.156<sup></sup></td><td>0.120<sup></sup></td><td>0.109<sup></sup></td></tr><tr><td style=\"text-align:left\"></td><td>(0.334)</td><td>(0.280)</td><td>(0.199)</td><td>(0.230)</td><td>(0.141)</td><td>(0.156)</td></tr><tr><td style=\"text-align:left\">treated_30</td><td>-0.195<sup></sup></td><td>0.547<sup></sup></td><td>-0.302<sup>*</sup></td><td>0.056<sup></sup></td><td>-0.147<sup></sup></td><td>0.041<sup></sup></td></tr><tr><td style=\"text-align:left\"></td><td>(0.692)</td><td>(0.591)</td><td>(0.183)</td><td>(0.263)</td><td>(0.121)</td><td>(0.060)</td></tr><tr><td style=\"text-align:left\">treated_30:post_2005</td><td>-0.037<sup></sup></td><td>-0.475<sup>**</sup></td><td>0.272<sup>**</sup></td><td>0.060<sup></sup></td><td>0.244<sup>**</sup></td><td>-0.064<sup></sup></td></tr><tr><td style=\"text-align:left\"></td><td>(0.251)</td><td>(0.229)</td><td>(0.137)</td><td>(0.115)</td><td>(0.099)</td><td>(0.177)</td></tr><tr><td style=\"text-align:left\">treated_30:post_2009</td><td>0.009<sup></sup></td><td>0.049<sup></sup></td><td>-0.197<sup></sup></td><td>0.077<sup></sup></td><td>0.002<sup></sup></td><td>0.061<sup></sup></td></tr><tr><td style=\"text-align:left\"></td><td>(0.336)</td><td>(0.252)</td><td>(0.176)</td><td>(0.194)</td><td>(0.135)</td><td>(0.162)</td></tr><tr><td style=\"text-align:left\">treated_30:post_2013</td><td>0.075<sup></sup></td><td>0.235<sup></sup></td><td>0.065<sup></sup></td><td>-0.293<sup></sup></td><td>0.047<sup></sup></td><td>-0.130<sup></sup></td></tr><tr><td style=\"text-align:left\"></td><td>(0.291)</td><td>(0.249)</td><td>(0.182)</td><td>(0.201)</td><td>(0.125)</td><td>(0.138)</td></tr><tr><td style=\"text-align:left\">treated_50</td><td>0.758<sup></sup></td><td>-0.232<sup></sup></td><td>0.264<sup>*</sup></td><td>-0.957<sup>***</sup></td><td>0.218<sup>***</sup></td><td>-0.051<sup></sup></td></tr><tr><td style=\"text-align:left\"></td><td>(0.493)</td><td>(0.423)</td><td>(0.135)</td><td>(0.193)</td><td>(0.083)</td><td>(0.043)</td></tr><tr><td style=\"text-align:left\">treated_50:post_2005</td><td>0.601<sup>***</sup></td><td>0.338<sup>**</sup></td><td>-0.260<sup>**</sup></td><td>-0.519<sup>***</sup></td><td>-0.114<sup>*</sup></td><td>-0.047<sup></sup></td></tr><tr><td style=\"text-align:left\"></td><td>(0.169)</td><td>(0.164)</td><td>(0.105)</td><td>(0.090)</td><td>(0.067)</td><td>(0.120)</td></tr><tr><td style=\"text-align:left\">treated_50:post_2009</td><td>0.010<sup></sup></td><td>0.537<sup>***</sup></td><td>0.120<sup></sup></td><td>-0.527<sup>***</sup></td><td>0.308<sup>***</sup></td><td>-0.448<sup>***</sup></td></tr><tr><td style=\"text-align:left\"></td><td>(0.220)</td><td>(0.174)</td><td>(0.124)</td><td>(0.140)</td><td>(0.088)</td><td>(0.103)</td></tr><tr><td style=\"text-align:left\">treated_50:post_2013</td><td>-0.301<sup></sup></td><td>0.094<sup></sup></td><td>0.075<sup></sup></td><td>0.350<sup>**</sup></td><td>-0.005<sup></sup></td><td>-0.213<sup>**</sup></td></tr><tr><td style=\"text-align:left\"></td><td>(0.196)</td><td>(0.178)</td><td>(0.121)</td><td>(0.157)</td><td>(0.085)</td><td>(0.101)</td></tr><td colspan=\"7\" style=\"border-bottom: 1px solid black\"></td></tr><tr><td style=\"text-align: left\">Observations</td><td>40,684</td><td>40,684</td><td>40,684</td><td>40,684</td><td>40,684</td><td>40,684</td></tr><tr><td style=\"text-align: left\">R<sup>2</sup></td><td>0.053</td><td>0.237</td><td>0.496</td><td>0.127</td><td>0.164</td><td>0.448</td></tr><tr><td style=\"text-align: left\">Adjusted R<sup>2</sup></td><td>0.053</td><td>0.236</td><td>0.496</td><td>0.126</td><td>0.163</td><td>0.448</td></tr><tr><td style=\"text-align: left\">Residual Std. Error</td><td>12.537 (df=40656)</td><td>10.984 (df=40656)</td><td>2.953 (df=40656)</td><td>7.714 (df=40656)</td><td>2.949 (df=40656)</td><td>2.808 (df=40656)</td></tr><tr><td style=\"text-align: left\">F Statistic</td><td>665.577<sup>***</sup> (df=27; 40656)</td><td>1574.692<sup>***</sup> (df=27; 40656)</td><td>2235.899<sup>***</sup> (df=27; 40656)</td><td>912.320<sup>***</sup> (df=27; 40656)</td><td>557.870<sup>***</sup> (df=27; 40656)</td><td>1441.406<sup>***</sup> (df=27; 40656)</td></tr><tr><td colspan=\"7\" style=\"border-bottom: 1px solid black\"></td></tr><tr><td style=\"text-align: left\">Note:</td>\n",
       " <td colspan=\"6\" style=\"text-align: right\">\n",
       "  <sup>*</sup>p&lt;0.1;\n",
       "  <sup>**</sup>p&lt;0.05;\n",
       "  <sup>***</sup>p&lt;0.01\n",
       " </td></tr></table>"
      ],
      "text/plain": [
       "<IPython.core.display.HTML object>"
      ]
     },
     "execution_count": 14,
     "metadata": {},
     "output_type": "execute_result"
    }
   ],
   "source": [
    "parties = ['Union',\t'SPD', 'FDP', 'Linke', 'Grüne', 'Andere']\n",
    "for party in parties:\n",
    "    locals()[party] = smf.ols(formula=f'{party} ~ {treatment_dummies}*{time_dummies}', data=erst_pl).fit(cov_type='cluster', cov_kwds={'groups': np.array(erst_pl[['AGS']])})\n",
    "stargazer = Stargazer([Union, SPD, FDP, Linke, Grüne, Andere])\n",
    "stargazer.title('Effect on Secondary Vote, Municipalities within 50 km of a powerline project, treatment year 2005')\n",
    "stargazer.custom_columns(['Union',\t'SPD', 'FDP', 'Linke', 'Grüne', 'Andere'], [1, 1, 1, 1, 1, 1])\n",
    "stargazer.show_model_numbers(False)\n",
    "with open(f'{path}/tables/btw/erst_2005.tex', 'w') as f:\n",
    "    f.write(stargazer.render_latex())\n",
    "HTML(stargazer.render_html())"
   ]
  },
  {
   "cell_type": "markdown",
   "metadata": {},
   "source": [
    "Secondary vote, post 2005"
   ]
  },
  {
   "cell_type": "code",
   "execution_count": 30,
   "metadata": {},
   "outputs": [
    {
     "data": {
      "text/html": [
       "Effect on Secondary Vote, Municipalities within 50 km of a powerline project, treatment year 2005<br><table style=\"text-align:center\"><tr><td colspan=\"7\" style=\"border-bottom: 1px solid black\"></td></tr><tr><td style=\"text-align:left\"></td><tr><td></td><td colspan=\"1\">Union</td><td colspan=\"1\">SPD</td><td colspan=\"1\">FDP</td><td colspan=\"1\">Linke</td><td colspan=\"1\">Grüne</td><td colspan=\"1\">Andere</td></tr><tr><td colspan=\"7\" style=\"border-bottom: 1px solid black\"></td></tr><tr><td style=\"text-align:left\">Intercept</td><td>30.615<sup>***</sup></td><td>38.971<sup>***</sup></td><td>3.737<sup>***</sup></td><td>19.146<sup>***</sup></td><td>3.325<sup>***</sup></td><td>4.205<sup>***</sup></td></tr><tr><td style=\"text-align:left\"></td><td>(2.753)</td><td>(2.401)</td><td>(1.146)</td><td>(1.364)</td><td>(0.439)</td><td>(0.093)</td></tr><tr><td style=\"text-align:left\">Land[T.BW]</td><td>16.898<sup>***</sup></td><td>-8.155<sup>***</sup></td><td>5.174<sup>***</sup></td><td>-19.405<sup>***</sup></td><td>6.181<sup>***</sup></td><td>-0.693<sup>***</sup></td></tr><tr><td style=\"text-align:left\"></td><td>(2.765)</td><td>(2.313)</td><td>(1.931)</td><td>(1.781)</td><td>(0.552)</td><td>(0.219)</td></tr><tr><td style=\"text-align:left\">Land[T.BY]</td><td>27.882<sup>***</sup></td><td>-12.733<sup>***</sup></td><td>1.679<sup></sup></td><td>-19.843<sup>***</sup></td><td>2.813<sup>***</sup></td><td>0.202<sup></sup></td></tr><tr><td style=\"text-align:left\"></td><td>(5.272)</td><td>(3.763)</td><td>(1.438)</td><td>(1.728)</td><td>(0.541)</td><td>(0.725)</td></tr><tr><td style=\"text-align:left\">Land[T.HB]</td><td>-1.818<sup></sup></td><td>8.514<sup>***</sup></td><td>0.915<sup>***</sup></td><td>-14.371<sup>***</sup></td><td>8.657<sup>***</sup></td><td>-1.897<sup>***</sup></td></tr><tr><td style=\"text-align:left\"></td><td>(1.815)</td><td>(2.142)</td><td>(nan)</td><td>(1.115)</td><td>(1.623)</td><td>(nan)</td></tr><tr><td style=\"text-align:left\">Land[T.HE]</td><td>8.775<sup>***</sup></td><td>2.489<sup></sup></td><td>4.027<sup>***</sup></td><td>-18.068<sup>***</sup></td><td>4.707<sup>***</sup></td><td>-1.930<sup>***</sup></td></tr><tr><td style=\"text-align:left\"></td><td>(2.398)</td><td>(2.420)</td><td>(1.156)</td><td>(1.448)</td><td>(0.345)</td><td>(0.399)</td></tr><tr><td style=\"text-align:left\">Land[T.MV]</td><td>18.775<sup>***</sup></td><td>-13.215<sup>***</sup></td><td>-4.540<sup>**</sup></td><td>-4.001<sup>**</sup></td><td>-0.710<sup>*</sup></td><td>3.691<sup>*</sup></td></tr><tr><td style=\"text-align:left\"></td><td>(4.087)</td><td>(3.756)</td><td>(2.117)</td><td>(1.775)</td><td>(0.363)</td><td>(1.910)</td></tr><tr><td style=\"text-align:left\">Land[T.NI]</td><td>11.710<sup>***</sup></td><td>4.331<sup>**</sup></td><td>2.331<sup>***</sup></td><td>-18.637<sup>***</sup></td><td>3.476<sup>***</sup></td><td>-3.211<sup>***</sup></td></tr><tr><td style=\"text-align:left\"></td><td>(1.733)</td><td>(1.913)</td><td>(0.790)</td><td>(1.593)</td><td>(0.624)</td><td>(0.622)</td></tr><tr><td style=\"text-align:left\">Land[T.NW]</td><td>13.371<sup>***</sup></td><td>0.647<sup></sup></td><td>4.277<sup>***</sup></td><td>-18.592<sup>***</sup></td><td>3.279<sup>***</sup></td><td>-2.982<sup>***</sup></td></tr><tr><td style=\"text-align:left\"></td><td>(2.328)</td><td>(2.790)</td><td>(0.892)</td><td>(1.636)</td><td>(0.451)</td><td>(0.528)</td></tr><tr><td style=\"text-align:left\">Land[T.RP]</td><td>12.625<sup>***</sup></td><td>-1.373<sup></sup></td><td>5.145<sup>***</sup></td><td>-17.553<sup>***</sup></td><td>2.964<sup>***</sup></td><td>-1.808<sup>***</sup></td></tr><tr><td style=\"text-align:left\"></td><td>(2.204)</td><td>(2.577)</td><td>(1.247)</td><td>(1.275)</td><td>(0.405)</td><td>(0.361)</td></tr><tr><td style=\"text-align:left\">Land[T.SH]</td><td>14.120<sup>***</sup></td><td>-1.188<sup></sup></td><td>4.291<sup>***</sup></td><td>-18.906<sup>***</sup></td><td>5.001<sup>***</sup></td><td>-3.319<sup>***</sup></td></tr><tr><td style=\"text-align:left\"></td><td>(2.970)</td><td>(2.641)</td><td>(1.243)</td><td>(1.715)</td><td>(0.790)</td><td>(0.467)</td></tr><tr><td style=\"text-align:left\">Land[T.SL]</td><td>7.121<sup>***</sup></td><td>2.262<sup></sup></td><td>1.111<sup>**</sup></td><td>-10.857<sup>***</sup></td><td>1.803<sup>***</sup></td><td>-1.440<sup>**</sup></td></tr><tr><td style=\"text-align:left\"></td><td>(2.163)</td><td>(2.317)</td><td>(0.531)</td><td>(1.700)</td><td>(0.490)</td><td>(0.631)</td></tr><tr><td style=\"text-align:left\">Land[T.SN]</td><td>16.445<sup>***</sup></td><td>-16.551<sup>***</sup></td><td>1.716<sup></sup></td><td>-3.549<sup>***</sup></td><td>-0.532<sup>***</sup></td><td>2.470<sup></sup></td></tr><tr><td style=\"text-align:left\"></td><td>(3.002)</td><td>(3.896)</td><td>(2.466)</td><td>(1.093)</td><td>(0.197)</td><td>(2.957)</td></tr><tr><td style=\"text-align:left\">Land[T.ST]</td><td>10.895<sup>***</sup></td><td>-12.212<sup>***</sup></td><td>-0.639<sup></sup></td><td>3.383<sup></sup></td><td>-0.693<sup>***</sup></td><td>-0.734<sup></sup></td></tr><tr><td style=\"text-align:left\"></td><td>(3.550)</td><td>(3.964)</td><td>(1.337)</td><td>(2.456)</td><td>(0.151)</td><td>(1.665)</td></tr><tr><td style=\"text-align:left\">Land[T.TH]</td><td>7.924<sup>***</sup></td><td>-8.280<sup>***</sup></td><td>0.852<sup>**</sup></td><td>-0.977<sup>*</sup></td><td>-0.077<sup></sup></td><td>0.558<sup></sup></td></tr><tr><td style=\"text-align:left\"></td><td>(0.967)</td><td>(0.304)</td><td>(0.384)</td><td>(0.567)</td><td>(0.155)</td><td>(0.724)</td></tr><tr><td style=\"text-align:left\">post_2005</td><td>-3.970<sup></sup></td><td>-9.720<sup>***</sup></td><td>3.050<sup></sup></td><td>5.299<sup>***</sup></td><td>0.802<sup></sup></td><td>4.539<sup>**</sup></td></tr><tr><td style=\"text-align:left\"></td><td>(2.619)</td><td>(2.777)</td><td>(2.927)</td><td>(1.083)</td><td>(0.742)</td><td>(2.047)</td></tr><tr><td style=\"text-align:left\">treated_50</td><td>-1.861<sup>***</sup></td><td>1.512<sup>***</sup></td><td>0.553<sup>***</sup></td><td>-0.213<sup>***</sup></td><td>-0.159<sup>***</sup></td><td>0.170<sup></sup></td></tr><tr><td style=\"text-align:left\"></td><td>(0.280)</td><td>(0.138)</td><td>(0.112)</td><td>(0.060)</td><td>(0.033)</td><td>(0.104)</td></tr><tr><td style=\"text-align:left\">treated_50:post_2005</td><td>1.850<sup>***</sup></td><td>-0.628<sup>***</sup></td><td>-0.562<sup>***</sup></td><td>-0.211<sup></sup></td><td>0.027<sup></sup></td><td>-0.475<sup>**</sup></td></tr><tr><td style=\"text-align:left\"></td><td>(0.260)</td><td>(nan)</td><td>(nan)</td><td>(0.156)</td><td>(0.055)</td><td>(0.187)</td></tr><td colspan=\"7\" style=\"border-bottom: 1px solid black\"></td></tr><tr><td style=\"text-align: left\">Observations</td><td>40,684</td><td>40,684</td><td>40,684</td><td>40,684</td><td>40,684</td><td>40,684</td></tr><tr><td style=\"text-align: left\">R<sup>2</sup></td><td>0.360</td><td>0.462</td><td>0.188</td><td>0.827</td><td>0.279</td><td>0.347</td></tr><tr><td style=\"text-align: left\">Adjusted R<sup>2</sup></td><td>0.360</td><td>0.462</td><td>0.188</td><td>0.827</td><td>0.279</td><td>0.347</td></tr><tr><td style=\"text-align: left\">Residual Std. Error</td><td>9.814 (df=40667)</td><td>8.216 (df=40667)</td><td>4.823 (df=40667)</td><td>3.308 (df=40667)</td><td>3.022 (df=40667)</td><td>3.498 (df=40667)</td></tr><tr><td style=\"text-align: left\">F Statistic</td><td>65.827<sup>***</sup> (df=16; 40667)</td><td>15047.053<sup>***</sup> (df=16; 40667)</td><td>3569.373<sup>***</sup> (df=16; 40667)</td><td>44190.416<sup>***</sup> (df=16; 40667)</td><td>1924.810<sup>***</sup> (df=16; 40667)</td><td>4770.088<sup>***</sup> (df=16; 40667)</td></tr><tr><td colspan=\"7\" style=\"border-bottom: 1px solid black\"></td></tr><tr><td style=\"text-align: left\">Note:</td>\n",
       " <td colspan=\"6\" style=\"text-align: right\">\n",
       "  <sup>*</sup>p&lt;0.1;\n",
       "  <sup>**</sup>p&lt;0.05;\n",
       "  <sup>***</sup>p&lt;0.01\n",
       " </td></tr></table>"
      ],
      "text/plain": [
       "<IPython.core.display.HTML object>"
      ]
     },
     "execution_count": 30,
     "metadata": {},
     "output_type": "execute_result"
    }
   ],
   "source": [
    "parties = ['Union',\t'SPD', 'FDP', 'Linke', 'Grüne', 'Andere']\n",
    "for party in parties:\n",
    "    locals()[party] = smf.ols(formula=f'{party} ~ treated_50*post_2005 + Land', data=zweit_pl).fit(cov_type='cluster', cov_kwds={'groups': np.array(zweit_pl[['AGS', 'year']])}) # zweit['AGS']\n",
    "stargazer = Stargazer([Union, SPD, FDP, Linke, Grüne, Andere])\n",
    "stargazer.title('Effect on Secondary Vote, Municipalities within 50 km of a powerline project, treatment year 2005')\n",
    "stargazer.custom_columns(['Union',\t'SPD', 'FDP', 'Linke', 'Grüne', 'Andere'], [1, 1, 1, 1, 1, 1])\n",
    "stargazer.show_model_numbers(False)\n",
    "with open(f'{path}/tables/btw/zweit_2005.tex', 'w') as f:\n",
    "    f.write(stargazer.render_latex())\n",
    "HTML(stargazer.render_html())"
   ]
  }
 ],
 "metadata": {
  "kernelspec": {
   "display_name": "Python 3.10.4 ('vscode')",
   "language": "python",
   "name": "python3"
  },
  "language_info": {
   "codemirror_mode": {
    "name": "ipython",
    "version": 3
   },
   "file_extension": ".py",
   "mimetype": "text/x-python",
   "name": "python",
   "nbconvert_exporter": "python",
   "pygments_lexer": "ipython3",
   "version": "3.10.4"
  },
  "orig_nbformat": 4,
  "vscode": {
   "interpreter": {
    "hash": "656f4cd1472b14b513faaa63bd5e4a7577d125de6a277113d4e82c4085557d3e"
   }
  }
 },
 "nbformat": 4,
 "nbformat_minor": 2
}
