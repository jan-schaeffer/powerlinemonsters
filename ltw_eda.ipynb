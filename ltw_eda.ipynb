{
 "cells": [
  {
   "cell_type": "markdown",
   "metadata": {},
   "source": [
    "First, import needed modules"
   ]
  },
  {
   "cell_type": "code",
   "execution_count": null,
   "metadata": {},
   "outputs": [],
   "source": [
    "import numpy as np\n",
    "import pandas as pd\n",
    "import matplotlib.pyplot as plt\n",
    "import os"
   ]
  },
  {
   "cell_type": "markdown",
   "metadata": {},
   "source": [
    "Initalize variables"
   ]
  },
  {
   "cell_type": "code",
   "execution_count": null,
   "metadata": {},
   "outputs": [],
   "source": [
    "path = os.getcwd()\n",
    "print(path)"
   ]
  },
  {
   "cell_type": "markdown",
   "metadata": {},
   "source": [
    "Import datasets"
   ]
  },
  {
   "cell_type": "code",
   "execution_count": null,
   "metadata": {},
   "outputs": [],
   "source": [
    "ltw = pd.read_csv(f'{path}/data/ltw_treat.csv', encoding = 'UTF-8-SIG', sep=',', converters={'AGS': str})"
   ]
  },
  {
   "cell_type": "markdown",
   "metadata": {},
   "source": [
    "View summary statistics"
   ]
  },
  {
   "cell_type": "code",
   "execution_count": null,
   "metadata": {},
   "outputs": [],
   "source": [
    "columns = ['Union', 'SPD', 'FDP', 'Linke', 'Grüne', 'Andere']\n",
    "ltw.describe().to_csv(f'{path}/tables/ltw/ltw_descriptives.csv', sep=';', encoding='utf-8-sig', decimal=',', columns=columns, float_format='%.2f')\n",
    "ltw[columns].describe()"
   ]
  },
  {
   "cell_type": "code",
   "execution_count": null,
   "metadata": {},
   "outputs": [],
   "source": [
    "ltw[['year', 'Land']].value_counts().to_csv(f'{path}/tables/ltw/ltw_obsyears.csv', sep=';', encoding='utf-8-sig', decimal=',', float_format='%.2f')"
   ]
  },
  {
   "cell_type": "markdown",
   "metadata": {},
   "source": [
    "Fig E5-E8: LTW vote shares by ever-treated status"
   ]
  },
  {
   "cell_type": "code",
   "execution_count": null,
   "metadata": {},
   "outputs": [],
   "source": [
    "avg_ever_treated = ltw[['Union', 'SPD', 'FDP', 'Linke', 'Grüne', 'Andere', 'ever_treated', 'year', 'Land']].groupby(['ever_treated', 'year', 'Land'], as_index = False).mean()\n",
    "avg_ever_treated.rename(columns = {'ever_treated':'treatment'}, inplace = True)\n",
    "mean = ltw[['Union', 'SPD', 'FDP', 'Linke', 'Grüne', 'Andere', 'year', 'Land']].groupby(['year', 'Land'], as_index = False).mean()\n",
    "mean['treatment'] = 'Mean'\n",
    "avg_ever_treated = pd.concat([avg_ever_treated, mean])\n",
    "avg_ever_treated.head()"
   ]
  },
  {
   "cell_type": "code",
   "execution_count": null,
   "metadata": {},
   "outputs": [],
   "source": [
    "states = {'BY': 'Bavaria', 'HE': 'Hesse', 'NW': 'North-Rhine Westphalia', 'NI': 'Lower Saxony'}\n",
    "treatments = ['None', 'Direct Line', 'Within 15km', 'Within 30km', 'Within 50km', 'Mean']\n",
    "blacks = ['#000000', '#191919', '#323232', '#4c4c4c', '#666666', 'blue']\n",
    "reds = ['#cc0000', '#d11919', '#d63232', '#db4c4c', '#e06666', 'blue']\n",
    "yellows = ['#ffd075', '#ffc75c', '#ffbe42', '#ffb529', '#ffac0f', 'blue']\n",
    "purples = ['#800080', '#8c198c', '#993299', '#a64ca6', '#b266b2', 'blue']\n",
    "greens = ['#008000', '#198c19', '#329932', '#4ca64c' , '#66b266', 'blue']\n",
    "greys = ['#808080', '#8c8c8c', '#999999', '#a6a6a6', '#b2b2b2', 'blue']\n",
    "markers = ['o', 's', 'v', 'D', '^', 'h']\n",
    "n = 5\n",
    "for abb, state in states.items():\n",
    "    # keep only obs. corresponding to state\n",
    "    state_data = avg_ever_treated[avg_ever_treated['Land'] == abb]\n",
    "    # get years in a list\n",
    "    years = state_data.year.unique().astype(int).tolist()\n",
    "    # initialize figure \n",
    "    fig, axes = plt.subplots(nrows=3, ncols=2, figsize=(10, 10), dpi=600)\n",
    "    # set x labels\n",
    "    plt.setp(axes, xticks=years)\n",
    "    # set legend font size\n",
    "    plt.rc('legend',fontsize=6)\n",
    "    # title for entire figure\n",
    "    fig.suptitle(f'Fig. E{n}: \\n {state} State Parliament Elections \\n Average Vote Shares by ever-treated status', fontsize=14)\n",
    "\n",
    "    for i, treatment in enumerate(treatments):\n",
    "        plot_data = state_data[state_data['treatment'] == treatment]\n",
    "        # set ls\n",
    "        if treatment == 'Mean':\n",
    "            ls = '--'\n",
    "        else:\n",
    "            ls = '-'\n",
    "        # edit subplots\n",
    "        axes[0, 0].set_title('Union', fontsize=12)\n",
    "        axes[0, 0].set_ylabel('% Votes', fontsize=10)\n",
    "        axes[0, 0].plot(plot_data['year'], plot_data['Union'], c=blacks[i], marker = markers[i], label=treatment, lw=0.8, ms=4, ls=ls)\n",
    "        axes[0, 0].legend(loc='lower left')\n",
    "\n",
    "        axes[0, 1].set_title('SPD', fontsize=12)\n",
    "        axes[0, 1].set_ylabel('% Votes', fontsize=10)\n",
    "        axes[0, 1].plot(plot_data['year'], plot_data['SPD'], c=reds[i], marker = markers[i], label=treatment, lw=0.8, ms=4, ls=ls)\n",
    "        axes[0, 1].legend(loc='lower left')\n",
    "\n",
    "        axes[1, 0].set_title('FDP', fontsize=12)\n",
    "        axes[1, 0].set_ylabel('% Votes', fontsize=10)\n",
    "        axes[1, 0].plot(plot_data['year'], plot_data['FDP'], c=yellows[i], marker = markers[i], label=treatment, lw=0.8, ms=4, ls=ls)\n",
    "        axes[1, 0].legend(loc='upper left')\n",
    "\n",
    "        axes[1, 1].set_title('Linke', fontsize=12)\n",
    "        axes[1, 1].set_ylabel('% Votes', fontsize=10)\n",
    "        axes[1, 1].plot(plot_data['year'], plot_data['Linke'], c=purples[i], marker = markers[i], label=treatment, lw=0.8, ms=4, ls=ls)\n",
    "        axes[1, 1].legend(loc='upper left')\n",
    "\n",
    "        axes[2, 0].set_title('Grüne', fontsize=12)\n",
    "        axes[2, 0].set_ylabel('% Votes', fontsize=10)\n",
    "        axes[2, 0].plot(plot_data['year'], plot_data['Grüne'], c=greens[i], marker = markers[i], label=treatment, lw=0.8, ms=4, ls=ls)\n",
    "        axes[2, 0].legend(loc='upper left')\n",
    "\n",
    "        axes[2, 1].set_title('Andere', fontsize=12)\n",
    "        axes[2, 1].set_ylabel('% Votes', fontsize=10)\n",
    "        axes[2, 1].plot(plot_data['year'], plot_data['Andere'], c=greys[i], marker = markers[i], label=treatment, lw=0.8, ms=4, ls=ls)\n",
    "        axes[2, 1].legend(loc='upper left')\n",
    "\n",
    "    # Save figure\n",
    "    fig.savefig(f'{path}/figures/ltw/{n}_ltw_{abb}_ever_vote_shares.png')\n",
    "    plt.close()\n",
    "    n = n + 1"
   ]
  },
  {
   "cell_type": "markdown",
   "metadata": {},
   "source": [
    "Fig E16-E23: LTW vote shares by treatment year"
   ]
  },
  {
   "cell_type": "code",
   "execution_count": null,
   "metadata": {},
   "outputs": [],
   "source": [
    "avg_dfs = {2014: 'treatment_13', 2010: 'treatment_09'} # does not make sense to plot for treatment in 2005 --> no data\n",
    "for year, treatment in avg_dfs.items():\n",
    "    avg_dfs[year] = ltw[['Land','Union', 'SPD', 'FDP', 'Linke', 'Grüne', 'Andere', treatment, 'year']].groupby(['Land', treatment, 'year'], as_index = False).mean()\n",
    "    avg_dfs[year].rename(columns = {f'{treatment}':'treatment'}, inplace = True)\n",
    "    mean = ltw[['Land', 'Union', 'SPD', 'FDP', 'Linke', 'Grüne', 'Andere', 'year']].groupby(['Land', 'year'], as_index = False).mean()\n",
    "    mean['treatment'] = 'Mean'\n",
    "    avg_dfs[year] = pd.concat([avg_dfs[year], mean])\n",
    "avg_dfs[2010].head(15)"
   ]
  },
  {
   "cell_type": "code",
   "execution_count": null,
   "metadata": {},
   "outputs": [],
   "source": [
    "states = {'BY': 'Bavaria', 'HE': 'Hesse', 'NW': 'North-Rhine Westphalia', 'NI': 'Lower Saxony'}\n",
    "treatments = ['None', 'Direct Line', 'Within 15km', 'Within 30km', 'Within 50km', 'Mean']\n",
    "blacks = ['#000000', '#191919', '#323232', '#4c4c4c', '#666666', 'blue']\n",
    "reds = ['#cc0000', '#d11919', '#d63232', '#db4c4c', '#e06666', 'blue']\n",
    "yellows = ['#ffd075', '#ffc75c', '#ffbe42', '#ffb529', '#ffac0f', 'blue']\n",
    "purples = ['#800080', '#8c198c', '#993299', '#a64ca6', '#b266b2', 'blue']\n",
    "greens = ['#008000', '#198c19', '#329932', '#4ca64c' , '#66b266', 'blue']\n",
    "greys = ['#808080', '#8c8c8c', '#999999', '#a6a6a6', '#b2b2b2', 'blue']\n",
    "markers = ['o', 's', 'v', 'D', '^', 'h']\n",
    "n = 16\n",
    "for year, df in avg_dfs.items():\n",
    "    for abb, state in states.items():\n",
    "        # keep only obs. corresponding to state\n",
    "        state_data = df[df['Land'] == abb]\n",
    "        # get years in a list\n",
    "        years = state_data.year.unique().astype(int).tolist()\n",
    "        # initialize figure \n",
    "        fig, axes = plt.subplots(nrows=3, ncols=2, figsize=(10, 10), dpi=600)\n",
    "        # set x labels\n",
    "        plt.setp(axes, xticks=years)\n",
    "        # set legend font size\n",
    "        plt.rc('legend',fontsize=6)\n",
    "        # title for entire figure\n",
    "        fig.suptitle(f'Fig. {n} \\n {state} State Parliament Elections \\n Average Vote Shares by treatment status in {year}', fontsize=20)\n",
    "\n",
    "        for i, treatment in enumerate(treatments):\n",
    "            plot_data = state_data[state_data['treatment'] == treatment]\n",
    "            # set ls\n",
    "            if treatment == 'Mean':\n",
    "                ls = '--'\n",
    "            else:\n",
    "                ls = '-'\n",
    "            # edit subplots\n",
    "            axes[0, 0].set_title('Union', fontsize=12)\n",
    "            axes[0, 0].set_ylabel('% Votes', fontsize=10)\n",
    "            axes[0, 0].plot(plot_data['year'], plot_data['Union'], c=blacks[i], marker = markers[i], label=treatment, lw=0.8, ms=4, ls=ls)\n",
    "            axes[0, 0].legend(loc='lower left')\n",
    "            axes[0, 0].axvline(x=year, c='red', ls='--')\n",
    "\n",
    "            axes[0, 1].set_title('SPD', fontsize=12)\n",
    "            axes[0, 1].set_ylabel('% Votes', fontsize=10)\n",
    "            axes[0, 1].plot(plot_data['year'], plot_data['SPD'], c=reds[i], marker = markers[i], label=treatment, lw=0.8, ms=4, ls=ls)\n",
    "            axes[0, 1].legend(loc='lower left')\n",
    "            axes[0, 1].axvline(x=year, c='red', ls='--')\n",
    "\n",
    "            axes[1, 0].set_title('FDP', fontsize=12)\n",
    "            axes[1, 0].set_ylabel('% Votes', fontsize=10)\n",
    "            axes[1, 0].plot(plot_data['year'], plot_data['FDP'], c=yellows[i], marker = markers[i], label=treatment, lw=0.8, ms=4, ls=ls)\n",
    "            axes[1, 0].legend(loc='upper left')\n",
    "            axes[1, 0].axvline(x=year, c='red', ls='--')\n",
    "\n",
    "            axes[1, 1].set_title('Linke', fontsize=12)\n",
    "            axes[1, 1].set_ylabel('% Votes', fontsize=10)\n",
    "            axes[1, 1].plot(plot_data['year'], plot_data['Linke'], c=purples[i], marker = markers[i], label=treatment, lw=0.8, ms=4, ls=ls)\n",
    "            axes[1, 1].legend(loc='upper left')\n",
    "            axes[1, 1].axvline(x=year, c='red', ls='--')\n",
    "\n",
    "            axes[2, 0].set_title('Grüne', fontsize=12)\n",
    "            axes[2, 0].set_ylabel('% Votes', fontsize=10)\n",
    "            axes[2, 0].plot(plot_data['year'], plot_data['Grüne'], c=greens[i], marker = markers[i], label=treatment, lw=0.8, ms=4, ls=ls)\n",
    "            axes[2, 0].legend(loc='upper left')\n",
    "            axes[2, 0].axvline(x=year, c='red', ls='--')\n",
    "\n",
    "            axes[2, 1].set_title('Andere', fontsize=12)\n",
    "            axes[2, 1].set_ylabel('% Votes', fontsize=10)\n",
    "            axes[2, 1].plot(plot_data['year'], plot_data['Andere'], c=greys[i], marker = markers[i], label=treatment, lw=0.8, ms=4, ls=ls)\n",
    "            axes[2, 1].legend(loc='upper left')\n",
    "            axes[2, 1].axvline(x=year, c='red', ls='--')\n",
    "\n",
    "        # Save figure\n",
    "        fig.savefig(f'{path}/figures/ltw/{n}_ltw_{abb}_{year}_vote_shares.png')\n",
    "        plt.close()\n",
    "        n = n + 1 "
   ]
  },
  {
   "cell_type": "markdown",
   "metadata": {},
   "source": [
    "Fig. E24-E27: Maps with the partys who won the elections and treatment status"
   ]
  },
  {
   "cell_type": "code",
   "execution_count": 226,
   "metadata": {},
   "outputs": [],
   "source": [
    "# Load shapefiles\n",
    "import geopandas as gpd\n",
    "municipalities = gpd.read_file(f'{path}/data/geodata/municipalities.shp')\n",
    "states = gpd.read_file(f'{path}/data/geodata/VG250_LAN.shp')\n",
    "powerlines = gpd.read_file(f'{path}/data/geodata/all_powerlines.shp')\n",
    "powerlines = powerlines.set_geometry('geometry')\n",
    "powerlines['year'] = powerlines['year'].astype(int)\n",
    "# set year to treatment year\n",
    "powerlines['year'] = np.where(powerlines['year'] == 2013, 2014, powerlines['year'])\n",
    "powerlines['year'] = np.where(powerlines['year'] == 2009, 2010, powerlines['year'])"
   ]
  },
  {
   "cell_type": "code",
   "execution_count": 227,
   "metadata": {},
   "outputs": [
    {
     "data": {
      "text/plain": [
       "Index(['AGS', 'GEN', 'SN_L', 't2005', 't2009', 't2013', 'et2014', 'et2010',\n",
       "       'never_trea', 'geometry'],\n",
       "      dtype='object')"
      ]
     },
     "execution_count": 227,
     "metadata": {},
     "output_type": "execute_result"
    }
   ],
   "source": [
    "municipalities.columns"
   ]
  },
  {
   "cell_type": "code",
   "execution_count": 222,
   "metadata": {},
   "outputs": [],
   "source": [
    "# Replace State IDs with Abbreviations \n",
    "abb = {'01': 'SH', '02': 'HH', '03': 'NI', '04': 'HB', '05': 'NW', '06': 'HE', '07': 'RP', '08': 'BW', \\\n",
    "         '09': 'BY', '10': 'SL', '11': 'BE', '12': 'BB', '13': 'MV', '14': 'SN', '15': 'ST', '16': 'TH'}\n",
    "for key, value in abb.items():\n",
    "    municipalities['SN_L'] = np.where(municipalities['SN_L'] == key, value, municipalities['SN_L'])\n",
    "    states['SN_L'] = np.where(states['SN_L'] == key, value, states['SN_L'])"
   ]
  },
  {
   "cell_type": "code",
   "execution_count": 228,
   "metadata": {},
   "outputs": [
    {
     "name": "stderr",
     "output_type": "stream",
     "text": [
      "/var/folders/wm/mtrphj0s0msgrmyshf3hgk740000gn/T/ipykernel_7806/2492951917.py:3: SettingWithCopyWarning: \n",
      "A value is trying to be set on a copy of a slice from a DataFrame.\n",
      "Try using .loc[row_indexer,col_indexer] = value instead\n",
      "\n",
      "See the caveats in the documentation: https://pandas.pydata.org/pandas-docs/stable/user_guide/indexing.html#returning-a-view-versus-a-copy\n",
      "  ltw_win['winner'] = ltw_win[['Union', 'SPD', 'FDP', 'Linke', 'Grüne', 'Andere']].idxmax(axis = 1)\n"
     ]
    }
   ],
   "source": [
    "# Prepare df with election winners\n",
    "ltw_win = ltw[['AGS', 'Land', 'year', 'Union', 'SPD', 'FDP', 'Linke', 'Grüne', 'Andere']]\n",
    "ltw_win['winner'] = ltw_win[['Union', 'SPD', 'FDP', 'Linke', 'Grüne', 'Andere']].idxmax(axis = 1)\n",
    "ltw_win = ltw_win[['AGS', 'Land', 'year', 'winner']]\n",
    "ltw_win['winner'].describe()\n",
    "\n",
    "# add color column to df\n",
    "colors = {'Union': '#000000', 'SPD': '#cc0000', 'FDP': '#ffff00', 'Grüne': '#008000', 'Linke': '#800080', 'Andere': '#808080'}\n",
    "ltw_win['color'] = 0\n",
    "for party, color in colors.items():\n",
    "    ltw_win['color'] = np.where(ltw_win['winner'] == party, color, ltw_win['color'])\n",
    "\n",
    "# Merge winners and municipalities\n",
    "ltw_win_plot = pd.merge(ltw_win, municipalities, on='AGS')\n",
    "ltw_win_plot = ltw_win_plot.set_geometry('geometry')"
   ]
  },
  {
   "cell_type": "code",
   "execution_count": 229,
   "metadata": {},
   "outputs": [],
   "source": [
    "# Prepare df with treatment status\n",
    "# First subset ltw and rename columns\n",
    "ltw_treat = ltw[['AGS', 'year', 'Land', 'treatment_05', 'ever_treated_2010', 'ever_treated']]\n",
    "#ltw_treat.rename(columns = {'treatment_05':'t2005', 'ever_treated_2010':'t2010', 'ever_treated':'t2014'}, inplace = True)\n",
    "# Merge win and municipalities\n",
    "ltw_treatment_plot = pd.merge(ltw_treat, municipalities, on='AGS')\n",
    "ltw_treatment_plot = ltw_treatment_plot.set_geometry('geometry')"
   ]
  },
  {
   "cell_type": "markdown",
   "metadata": {},
   "source": [
    "Plot maps"
   ]
  },
  {
   "cell_type": "code",
   "execution_count": 230,
   "metadata": {},
   "outputs": [
    {
     "name": "stderr",
     "output_type": "stream",
     "text": [
      "/opt/homebrew/Caskroom/miniconda/base/envs/vscode/lib/python3.10/site-packages/geopandas/geodataframe.py:1472: SettingWithCopyWarning: \n",
      "A value is trying to be set on a copy of a slice from a DataFrame.\n",
      "Try using .loc[row_indexer,col_indexer] = value instead\n",
      "\n",
      "See the caveats in the documentation: https://pandas.pydata.org/pandas-docs/stable/user_guide/indexing.html#returning-a-view-versus-a-copy\n",
      "  super().__setitem__(key, value)\n",
      "/opt/homebrew/Caskroom/miniconda/base/envs/vscode/lib/python3.10/site-packages/geopandas/plotting.py:693: UserWarning: The GeoDataFrame you are attempting to plot is empty. Nothing has been displayed.\n",
      "  warnings.warn(\n",
      "/opt/homebrew/Caskroom/miniconda/base/envs/vscode/lib/python3.10/site-packages/geopandas/plotting.py:693: UserWarning: The GeoDataFrame you are attempting to plot is empty. Nothing has been displayed.\n",
      "  warnings.warn(\n",
      "/opt/homebrew/Caskroom/miniconda/base/envs/vscode/lib/python3.10/site-packages/geopandas/plotting.py:693: UserWarning: The GeoDataFrame you are attempting to plot is empty. Nothing has been displayed.\n",
      "  warnings.warn(\n",
      "/opt/homebrew/Caskroom/miniconda/base/envs/vscode/lib/python3.10/site-packages/geopandas/plotting.py:693: UserWarning: The GeoDataFrame you are attempting to plot is empty. Nothing has been displayed.\n",
      "  warnings.warn(\n",
      "/opt/homebrew/Caskroom/miniconda/base/envs/vscode/lib/python3.10/site-packages/geopandas/plotting.py:693: UserWarning: The GeoDataFrame you are attempting to plot is empty. Nothing has been displayed.\n",
      "  warnings.warn(\n",
      "/opt/homebrew/Caskroom/miniconda/base/envs/vscode/lib/python3.10/site-packages/geopandas/plotting.py:693: UserWarning: The GeoDataFrame you are attempting to plot is empty. Nothing has been displayed.\n",
      "  warnings.warn(\n",
      "/opt/homebrew/Caskroom/miniconda/base/envs/vscode/lib/python3.10/site-packages/geopandas/geodataframe.py:1472: SettingWithCopyWarning: \n",
      "A value is trying to be set on a copy of a slice from a DataFrame.\n",
      "Try using .loc[row_indexer,col_indexer] = value instead\n",
      "\n",
      "See the caveats in the documentation: https://pandas.pydata.org/pandas-docs/stable/user_guide/indexing.html#returning-a-view-versus-a-copy\n",
      "  super().__setitem__(key, value)\n",
      "/opt/homebrew/Caskroom/miniconda/base/envs/vscode/lib/python3.10/site-packages/geopandas/plotting.py:693: UserWarning: The GeoDataFrame you are attempting to plot is empty. Nothing has been displayed.\n",
      "  warnings.warn(\n",
      "/opt/homebrew/Caskroom/miniconda/base/envs/vscode/lib/python3.10/site-packages/geopandas/plotting.py:693: UserWarning: The GeoDataFrame you are attempting to plot is empty. Nothing has been displayed.\n",
      "  warnings.warn(\n",
      "/opt/homebrew/Caskroom/miniconda/base/envs/vscode/lib/python3.10/site-packages/geopandas/plotting.py:693: UserWarning: The GeoDataFrame you are attempting to plot is empty. Nothing has been displayed.\n",
      "  warnings.warn(\n",
      "/opt/homebrew/Caskroom/miniconda/base/envs/vscode/lib/python3.10/site-packages/geopandas/plotting.py:693: UserWarning: The GeoDataFrame you are attempting to plot is empty. Nothing has been displayed.\n",
      "  warnings.warn(\n",
      "/opt/homebrew/Caskroom/miniconda/base/envs/vscode/lib/python3.10/site-packages/geopandas/plotting.py:693: UserWarning: The GeoDataFrame you are attempting to plot is empty. Nothing has been displayed.\n",
      "  warnings.warn(\n",
      "/opt/homebrew/Caskroom/miniconda/base/envs/vscode/lib/python3.10/site-packages/geopandas/plotting.py:693: UserWarning: The GeoDataFrame you are attempting to plot is empty. Nothing has been displayed.\n",
      "  warnings.warn(\n",
      "/opt/homebrew/Caskroom/miniconda/base/envs/vscode/lib/python3.10/site-packages/geopandas/geodataframe.py:1472: SettingWithCopyWarning: \n",
      "A value is trying to be set on a copy of a slice from a DataFrame.\n",
      "Try using .loc[row_indexer,col_indexer] = value instead\n",
      "\n",
      "See the caveats in the documentation: https://pandas.pydata.org/pandas-docs/stable/user_guide/indexing.html#returning-a-view-versus-a-copy\n",
      "  super().__setitem__(key, value)\n",
      "/opt/homebrew/Caskroom/miniconda/base/envs/vscode/lib/python3.10/site-packages/geopandas/plotting.py:693: UserWarning: The GeoDataFrame you are attempting to plot is empty. Nothing has been displayed.\n",
      "  warnings.warn(\n",
      "/opt/homebrew/Caskroom/miniconda/base/envs/vscode/lib/python3.10/site-packages/geopandas/plotting.py:693: UserWarning: The GeoDataFrame you are attempting to plot is empty. Nothing has been displayed.\n",
      "  warnings.warn(\n",
      "/opt/homebrew/Caskroom/miniconda/base/envs/vscode/lib/python3.10/site-packages/geopandas/plotting.py:693: UserWarning: The GeoDataFrame you are attempting to plot is empty. Nothing has been displayed.\n",
      "  warnings.warn(\n",
      "/opt/homebrew/Caskroom/miniconda/base/envs/vscode/lib/python3.10/site-packages/geopandas/plotting.py:693: UserWarning: The GeoDataFrame you are attempting to plot is empty. Nothing has been displayed.\n",
      "  warnings.warn(\n",
      "/opt/homebrew/Caskroom/miniconda/base/envs/vscode/lib/python3.10/site-packages/geopandas/plotting.py:693: UserWarning: The GeoDataFrame you are attempting to plot is empty. Nothing has been displayed.\n",
      "  warnings.warn(\n",
      "/opt/homebrew/Caskroom/miniconda/base/envs/vscode/lib/python3.10/site-packages/geopandas/plotting.py:693: UserWarning: The GeoDataFrame you are attempting to plot is empty. Nothing has been displayed.\n",
      "  warnings.warn(\n",
      "/opt/homebrew/Caskroom/miniconda/base/envs/vscode/lib/python3.10/site-packages/geopandas/geodataframe.py:1472: SettingWithCopyWarning: \n",
      "A value is trying to be set on a copy of a slice from a DataFrame.\n",
      "Try using .loc[row_indexer,col_indexer] = value instead\n",
      "\n",
      "See the caveats in the documentation: https://pandas.pydata.org/pandas-docs/stable/user_guide/indexing.html#returning-a-view-versus-a-copy\n",
      "  super().__setitem__(key, value)\n",
      "/opt/homebrew/Caskroom/miniconda/base/envs/vscode/lib/python3.10/site-packages/geopandas/plotting.py:693: UserWarning: The GeoDataFrame you are attempting to plot is empty. Nothing has been displayed.\n",
      "  warnings.warn(\n",
      "/opt/homebrew/Caskroom/miniconda/base/envs/vscode/lib/python3.10/site-packages/geopandas/plotting.py:693: UserWarning: The GeoDataFrame you are attempting to plot is empty. Nothing has been displayed.\n",
      "  warnings.warn(\n",
      "/opt/homebrew/Caskroom/miniconda/base/envs/vscode/lib/python3.10/site-packages/geopandas/plotting.py:693: UserWarning: The GeoDataFrame you are attempting to plot is empty. Nothing has been displayed.\n",
      "  warnings.warn(\n",
      "/opt/homebrew/Caskroom/miniconda/base/envs/vscode/lib/python3.10/site-packages/geopandas/plotting.py:693: UserWarning: The GeoDataFrame you are attempting to plot is empty. Nothing has been displayed.\n",
      "  warnings.warn(\n",
      "/opt/homebrew/Caskroom/miniconda/base/envs/vscode/lib/python3.10/site-packages/geopandas/plotting.py:693: UserWarning: The GeoDataFrame you are attempting to plot is empty. Nothing has been displayed.\n",
      "  warnings.warn(\n",
      "/opt/homebrew/Caskroom/miniconda/base/envs/vscode/lib/python3.10/site-packages/geopandas/plotting.py:693: UserWarning: The GeoDataFrame you are attempting to plot is empty. Nothing has been displayed.\n",
      "  warnings.warn(\n"
     ]
    }
   ],
   "source": [
    "from geopandas.tools import overlay\n",
    "from matplotlib.patches import Circle, Wedge, Polygon\n",
    "from matplotlib.collections import PatchCollection\n",
    "abb = {'BY': 'Bavaria', 'HE': 'Hesse', 'NW': 'North-Rhine Westphalia', 'NI': 'Lower Saxony'}\n",
    "legend_dict = {2005: 'DENA 2005', 2010: 'EnLAG 2009', 2014: 'BBPlG 2013'}\n",
    "n = 24\n",
    "for abb, state in abb.items():\n",
    "    # keep only obs. corresponding to state\n",
    "    state_winners = ltw_win_plot[ltw_win_plot['Land'] == abb]\n",
    "    state_treated = ltw_treatment_plot[ltw_treatment_plot['Land'] == abb]\n",
    "    state_treated['year'] = state_treated['year'].astype(str)\n",
    "    states_plot = states[states['SN_L'] == abb]\n",
    "    # keep only parts of powerlines that intersect state\n",
    "    powerlines_state = powerlines.overlay(states_plot, how='intersection')\n",
    "    # get years in a list\n",
    "    years = state_winners.year.unique().astype(int).tolist()\n",
    "    # initialize figure \n",
    "    fig = plt.figure(layout=\"constrained\", figsize=(10, 10), dpi=600)\n",
    "    subfigs = fig.subfigures(2, 1, height_ratios=[6., 1.])\n",
    "    axs0 = subfigs[0].subplots(3, 2)\n",
    "    axs1 = subfigs[1].subplots(1, 3)\n",
    "    for ax1 in axs1:\n",
    "        ax1.set_aspect('equal')\n",
    "        ax1.set_axis_off()\n",
    "    #fig, ax = plt.subplots(nrows=3, ncols=2, figsize=(10, 10), dpi=600, constrained_layout=True)\n",
    "    # title for entire figure\n",
    "    fig.suptitle(f'Fig. {n} \\n {state} election winners and treated municipalities', fontsize=20)\n",
    "    for i, year in enumerate(years):\n",
    "        # subset df for year\n",
    "        plot_winners = state_winners[state_winners['year'] == year]\n",
    "        # subset powerlines\n",
    "        plot_pl = powerlines_state[powerlines_state['year'] <= year]\n",
    "        # draw subfigs\n",
    "        # Treated municipalities in first column\n",
    "        axs0[i, 0].set_aspect('equal')\n",
    "        axs0[i, 0].set_adjustable('datalim', share=True)\n",
    "        axs0[i, 0].set_axis_off()\n",
    "\n",
    "        if i == 0:\n",
    "            axs0[i, 0].set_title(f'\\nTreated municipalities\\n{year}')\n",
    "        else: \n",
    "            axs0[i, 0].set_title(f'{year}')\n",
    "        if year >= 2005 and year < 2010:\n",
    "            state_treated.plot(ax=axs0[i, 0], column='t2005', cmap='viridis', edgecolor='white', lw=0.01, zorder=1)\n",
    "        if year >= 2010 and year < 2014:\n",
    "            state_treated.plot(ax=axs0[i, 0], column='et2010', cmap='viridis', edgecolor='white', lw=0.01, zorder=1)\n",
    "        if year >= 2014:\n",
    "            state_treated.plot(ax=axs0[i, 0], column='et2014', cmap='viridis', legend=True, edgecolor='white', lw=0.01, zorder=1)\n",
    "        # Powerlines \n",
    "        plot_pl.plot(ax=axs0[i, 0], color=plot_pl['color'], lw=2, zorder=2)\n",
    "        # Election winners in second column\n",
    "        axs0[i, 1].set_aspect('equal')\n",
    "        axs0[i, 1].set_adjustable('datalim', share=True)\n",
    "        axs0[i, 1].set_axis_off()\n",
    "        if i == 0:\n",
    "            axs0[i, 1].set_title(f'\\nElection winners\\n{year}')\n",
    "        else: \n",
    "            axs0[i, 1].set_title(f'{year}')\n",
    "        plot_winners.plot(ax=axs0[i, 1], color=plot_winners['color'], lw=0.01, edgecolor='white', zorder=1)\n",
    "        # Powerlines \n",
    "        plot_pl.plot(ax=axs0[i, 1], color=plot_pl['color'], lw=2, zorder=2)\n",
    "    # Add legends    \n",
    "    # add handles for the legends\n",
    "    p_handles = [\n",
    "        #'Union': '#000000', 'SPD': '#cc0000', 'FDP': '#ffff00', 'Grüne': '#008000', 'Linke': '#800080', 'Andere': '#808080'\n",
    "        Circle([0], [0], color='#000000'),\n",
    "        Circle([0], [0], color='#cc0000'),\n",
    "        Circle([0], [0], color='#ffff00'),\n",
    "        Circle([0], [0], color='#008000'),\n",
    "        Circle([0], [0], color='#800080'),\n",
    "        Circle([0], [0], color='#808080')\n",
    "    ]\n",
    "    pl_handles = [\n",
    "        Circle([0], [0], color='#FFDB00'),\n",
    "        Circle([0], [0], color='#F19A11'),\n",
    "        Circle([0], [0], color='#C42727')\n",
    "    ]\n",
    "    t_handles = [\n",
    "        #  {'None': '#74d8c9', 'Direct Line': '#A1084F', 'Within 15km': '#042A5B', 'Within 30km': '#247385', 'Within 50km': '#38C7B2'}\n",
    "        Circle([0], [0], color='#A1084F'),\n",
    "        Circle([0], [0], color='#042A5B'),\n",
    "        Circle([0], [0], color='#247385'),\n",
    "        Circle([0], [0], color='#38C7B2')\n",
    "    ]\n",
    "\n",
    "\n",
    "    # define labels for the legend\n",
    "    p_labels = ['CDU', 'SPD', 'FDP', 'Linke', 'Grüne', 'Andere']\n",
    "    pl_labels = ['DENA 2005', 'EnLAG 2009', 'BBPlG 2013']\n",
    "    t_labels = ['Direct Line', 'Within 15km', 'Within 30km', 'Within 50km']\n",
    "    # plot legends\n",
    "    axs1[0].legend(handles=t_handles, labels=t_labels, loc='upper right', title='Treatments', ncol=2)\n",
    "    axs1[1].legend(handles=pl_handles, labels=pl_labels, loc='upper center', title='Powerlines', ncol=1)\n",
    "    axs1[2].legend(handles=p_handles, labels=p_labels, loc='upper left', title='Parties', ncol=2)\n",
    "    plt.savefig(f'{path}/figures/ltw/{n}_{abb}_win_and_treat.png', bbox_inches=\"tight\", pad_inches=0)\n",
    "    plt.close()\n",
    "    n = n + 1"
   ]
  }
 ],
 "metadata": {
  "kernelspec": {
   "display_name": "Python 3.10.4 ('vscode')",
   "language": "python",
   "name": "python3"
  },
  "language_info": {
   "codemirror_mode": {
    "name": "ipython",
    "version": 3
   },
   "file_extension": ".py",
   "mimetype": "text/x-python",
   "name": "python",
   "nbconvert_exporter": "python",
   "pygments_lexer": "ipython3",
   "version": "3.10.4"
  },
  "orig_nbformat": 4,
  "vscode": {
   "interpreter": {
    "hash": "656f4cd1472b14b513faaa63bd5e4a7577d125de6a277113d4e82c4085557d3e"
   }
  }
 },
 "nbformat": 4,
 "nbformat_minor": 2
}
