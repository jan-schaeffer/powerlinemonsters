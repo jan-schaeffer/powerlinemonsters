{
 "cells": [
  {
   "cell_type": "markdown",
   "metadata": {},
   "source": [
    "First, import needed modules"
   ]
  },
  {
   "cell_type": "code",
   "execution_count": 109,
   "metadata": {},
   "outputs": [],
   "source": [
    "import numpy as np\n",
    "import pandas as pd\n",
    "import geopandas as gpd\n",
    "from geopandas.tools import geocode\n",
    "from shapely.geometry import Point\n",
    "from geopy.geocoders import Nominatim\n",
    "from shapely.geometry import LineString, Polygon\n",
    "import os"
   ]
  },
  {
   "cell_type": "markdown",
   "metadata": {},
   "source": [
    "Initalize variables"
   ]
  },
  {
   "cell_type": "code",
   "execution_count": 110,
   "metadata": {},
   "outputs": [
    {
     "name": "stdout",
     "output_type": "stream",
     "text": [
      "/Users/jan/Dropbox/UP_EPQM/2222/MA/powerlinemonsters\n"
     ]
    }
   ],
   "source": [
    "path = os.getcwd()\n",
    "print(path)"
   ]
  },
  {
   "cell_type": "markdown",
   "metadata": {},
   "source": [
    "Load Dataset which has the endpoints of power line projects"
   ]
  },
  {
   "cell_type": "code",
   "execution_count": 111,
   "metadata": {},
   "outputs": [
    {
     "data": {
      "text/html": [
       "<div>\n",
       "<style scoped>\n",
       "    .dataframe tbody tr th:only-of-type {\n",
       "        vertical-align: middle;\n",
       "    }\n",
       "\n",
       "    .dataframe tbody tr th {\n",
       "        vertical-align: top;\n",
       "    }\n",
       "\n",
       "    .dataframe thead th {\n",
       "        text-align: right;\n",
       "    }\n",
       "</style>\n",
       "<table border=\"1\" class=\"dataframe\">\n",
       "  <thead>\n",
       "    <tr style=\"text-align: right;\">\n",
       "      <th></th>\n",
       "      <th># BBPlG 2013</th>\n",
       "      <th>Start</th>\n",
       "      <th>End</th>\n",
       "      <th>New</th>\n",
       "      <th>Retro</th>\n",
       "    </tr>\n",
       "  </thead>\n",
       "  <tbody>\n",
       "    <tr>\n",
       "      <th>0</th>\n",
       "      <td>3</td>\n",
       "      <td>Brunsbüttel</td>\n",
       "      <td>Großgartach</td>\n",
       "      <td>1</td>\n",
       "      <td>NaN</td>\n",
       "    </tr>\n",
       "    <tr>\n",
       "      <th>1</th>\n",
       "      <td>4</td>\n",
       "      <td>Wilster</td>\n",
       "      <td>Grafenrheinfeld</td>\n",
       "      <td>1</td>\n",
       "      <td>NaN</td>\n",
       "    </tr>\n",
       "    <tr>\n",
       "      <th>2</th>\n",
       "      <td>5</td>\n",
       "      <td>Bad Lauchstädt</td>\n",
       "      <td>Meitingen</td>\n",
       "      <td>1</td>\n",
       "      <td>NaN</td>\n",
       "    </tr>\n",
       "    <tr>\n",
       "      <th>3</th>\n",
       "      <td>17</td>\n",
       "      <td>Mecklar</td>\n",
       "      <td>Grafenrheinfeld</td>\n",
       "      <td>1</td>\n",
       "      <td>NaN</td>\n",
       "    </tr>\n",
       "  </tbody>\n",
       "</table>\n",
       "</div>"
      ],
      "text/plain": [
       "   # BBPlG 2013           Start              End  New  Retro\n",
       "0             3     Brunsbüttel      Großgartach    1    NaN\n",
       "1             4         Wilster  Grafenrheinfeld    1    NaN\n",
       "2             5  Bad Lauchstädt        Meitingen    1    NaN\n",
       "3            17         Mecklar  Grafenrheinfeld    1    NaN"
      ]
     },
     "execution_count": 111,
     "metadata": {},
     "output_type": "execute_result"
    }
   ],
   "source": [
    "powerlines = pd.read_csv(f'{path}/data/geodata/powerlines.csv', sep=';')\n",
    "#powerlines = powerlines.set_index(\"# BBPlG 2013\", drop = False)\n",
    "powerlines.head()"
   ]
  },
  {
   "cell_type": "markdown",
   "metadata": {},
   "source": [
    "Get the geocoordinates of the 'endpoint' cities using OSM/Nominatim API"
   ]
  },
  {
   "cell_type": "code",
   "execution_count": 112,
   "metadata": {},
   "outputs": [],
   "source": [
    "start_locations = geocode(powerlines['Start'], provider='nominatim', user_agent='plm', timeout=4)\n",
    "end_locations = geocode(powerlines['End'], provider='nominatim', user_agent='plm', timeout=4)"
   ]
  },
  {
   "cell_type": "markdown",
   "metadata": {},
   "source": [
    "Merge into powerlines dataset"
   ]
  },
  {
   "cell_type": "code",
   "execution_count": 113,
   "metadata": {},
   "outputs": [
    {
     "data": {
      "text/html": [
       "<div>\n",
       "<style scoped>\n",
       "    .dataframe tbody tr th:only-of-type {\n",
       "        vertical-align: middle;\n",
       "    }\n",
       "\n",
       "    .dataframe tbody tr th {\n",
       "        vertical-align: top;\n",
       "    }\n",
       "\n",
       "    .dataframe thead th {\n",
       "        text-align: right;\n",
       "    }\n",
       "</style>\n",
       "<table border=\"1\" class=\"dataframe\">\n",
       "  <thead>\n",
       "    <tr style=\"text-align: right;\">\n",
       "      <th></th>\n",
       "      <th># BBPlG 2013</th>\n",
       "      <th>Start</th>\n",
       "      <th>Start_geometry</th>\n",
       "      <th>Start_address</th>\n",
       "      <th>End</th>\n",
       "      <th>End_geometry</th>\n",
       "      <th>End_address</th>\n",
       "      <th>direct_line</th>\n",
       "      <th>New</th>\n",
       "      <th>Retro</th>\n",
       "    </tr>\n",
       "  </thead>\n",
       "  <tbody>\n",
       "    <tr>\n",
       "      <th>0</th>\n",
       "      <td>3</td>\n",
       "      <td>Brunsbüttel</td>\n",
       "      <td>POINT (9.13954 53.89725)</td>\n",
       "      <td>Brunsbüttel, Dithmarschen, Schleswig-Holstein,...</td>\n",
       "      <td>Großgartach</td>\n",
       "      <td>POINT (9.12587 49.14254)</td>\n",
       "      <td>Großgartach, Leingarten, Landkreis Heilbronn, ...</td>\n",
       "      <td>NaN</td>\n",
       "      <td>1</td>\n",
       "      <td>NaN</td>\n",
       "    </tr>\n",
       "    <tr>\n",
       "      <th>1</th>\n",
       "      <td>4</td>\n",
       "      <td>Wilster</td>\n",
       "      <td>POINT (9.37338 53.92328)</td>\n",
       "      <td>Wilster, Kreis Steinburg, Schleswig-Holstein, ...</td>\n",
       "      <td>Grafenrheinfeld</td>\n",
       "      <td>POINT (10.19668 50.00553)</td>\n",
       "      <td>Grafenrheinfeld, Landkreis Schweinfurt, Bayern...</td>\n",
       "      <td>NaN</td>\n",
       "      <td>1</td>\n",
       "      <td>NaN</td>\n",
       "    </tr>\n",
       "    <tr>\n",
       "      <th>2</th>\n",
       "      <td>5</td>\n",
       "      <td>Bad Lauchstädt</td>\n",
       "      <td>POINT (11.86870 51.38813)</td>\n",
       "      <td>Bad Lauchstädt, Lindenstraße, Lindenstraße, Kl...</td>\n",
       "      <td>Meitingen</td>\n",
       "      <td>POINT (10.85000 48.55000)</td>\n",
       "      <td>Meitingen, Landkreis Augsburg, Bayern, 86405, ...</td>\n",
       "      <td>NaN</td>\n",
       "      <td>1</td>\n",
       "      <td>NaN</td>\n",
       "    </tr>\n",
       "    <tr>\n",
       "      <th>3</th>\n",
       "      <td>17</td>\n",
       "      <td>Mecklar</td>\n",
       "      <td>POINT (9.76125 50.91746)</td>\n",
       "      <td>Mecklar, Ludwigsau, Landkreis Hersfeld-Rotenbu...</td>\n",
       "      <td>Grafenrheinfeld</td>\n",
       "      <td>POINT (10.19668 50.00553)</td>\n",
       "      <td>Grafenrheinfeld, Landkreis Schweinfurt, Bayern...</td>\n",
       "      <td>NaN</td>\n",
       "      <td>1</td>\n",
       "      <td>NaN</td>\n",
       "    </tr>\n",
       "  </tbody>\n",
       "</table>\n",
       "</div>"
      ],
      "text/plain": [
       "   # BBPlG 2013           Start             Start_geometry  \\\n",
       "0             3     Brunsbüttel   POINT (9.13954 53.89725)   \n",
       "1             4         Wilster   POINT (9.37338 53.92328)   \n",
       "2             5  Bad Lauchstädt  POINT (11.86870 51.38813)   \n",
       "3            17         Mecklar   POINT (9.76125 50.91746)   \n",
       "\n",
       "                                       Start_address              End  \\\n",
       "0  Brunsbüttel, Dithmarschen, Schleswig-Holstein,...      Großgartach   \n",
       "1  Wilster, Kreis Steinburg, Schleswig-Holstein, ...  Grafenrheinfeld   \n",
       "2  Bad Lauchstädt, Lindenstraße, Lindenstraße, Kl...        Meitingen   \n",
       "3  Mecklar, Ludwigsau, Landkreis Hersfeld-Rotenbu...  Grafenrheinfeld   \n",
       "\n",
       "                End_geometry  \\\n",
       "0   POINT (9.12587 49.14254)   \n",
       "1  POINT (10.19668 50.00553)   \n",
       "2  POINT (10.85000 48.55000)   \n",
       "3  POINT (10.19668 50.00553)   \n",
       "\n",
       "                                         End_address  direct_line  New  Retro  \n",
       "0  Großgartach, Leingarten, Landkreis Heilbronn, ...          NaN    1    NaN  \n",
       "1  Grafenrheinfeld, Landkreis Schweinfurt, Bayern...          NaN    1    NaN  \n",
       "2  Meitingen, Landkreis Augsburg, Bayern, 86405, ...          NaN    1    NaN  \n",
       "3  Grafenrheinfeld, Landkreis Schweinfurt, Bayern...          NaN    1    NaN  "
      ]
     },
     "execution_count": 113,
     "metadata": {},
     "output_type": "execute_result"
    }
   ],
   "source": [
    "powerlines_geo_start = start_locations.join(powerlines, how = 'left')\n",
    "powerlines_geo_start.rename(columns = {'geometry':'Start_geometry', 'address':'Start_address'}, inplace = True)\n",
    "powerlines_geo = end_locations.join(powerlines_geo_start, how = 'left')\n",
    "powerlines_geo.rename(columns = {'geometry':'End_geometry', 'address':'End_address'}, inplace = True)\n",
    "powerlines_geo = powerlines_geo.reindex(columns=['# BBPlG 2013', 'Start', 'Start_geometry', 'Start_address', 'End', 'End_geometry', 'End_address', 'direct_line', 'New', 'Retro'])\n",
    "powerlines_geo.head()"
   ]
  },
  {
   "cell_type": "markdown",
   "metadata": {},
   "source": [
    "Create direct line from start and end coordinates"
   ]
  },
  {
   "cell_type": "code",
   "execution_count": 114,
   "metadata": {},
   "outputs": [
    {
     "name": "stdout",
     "output_type": "stream",
     "text": [
      "POINT (9.1395423 53.8972549) POINT (9.1258701 49.1425406)\n",
      "POINT (9.373378722135374 53.9232825) POINT (10.1966808 50.0055317)\n",
      "POINT (11.8686979 51.3881334) POINT (10.85 48.55)\n",
      "POINT (9.7612468 50.9174645) POINT (10.1966808 50.0055317)\n"
     ]
    },
    {
     "name": "stderr",
     "output_type": "stream",
     "text": [
      "/var/folders/wm/mtrphj0s0msgrmyshf3hgk740000gn/T/ipykernel_25057/2805498544.py:6: SettingWithCopyWarning: \n",
      "A value is trying to be set on a copy of a slice from a DataFrame\n",
      "\n",
      "See the caveats in the documentation: https://pandas.pydata.org/pandas-docs/stable/user_guide/indexing.html#returning-a-view-versus-a-copy\n",
      "  powerlines_geo['direct_line'].loc[powerlines_geo.index[i]] = line\n",
      "/opt/miniconda3/envs/python310/lib/python3.10/site-packages/pandas/core/internals/blocks.py:930: ShapelyDeprecationWarning: The array interface is deprecated and will no longer work in Shapely 2.0. Convert the '.coords' to a numpy array instead.\n",
      "  return self.coerce_to_target_dtype(value).setitem(indexer, value)\n",
      "/opt/miniconda3/envs/python310/lib/python3.10/site-packages/pandas/core/internals/managers.py:304: ShapelyDeprecationWarning: The array interface is deprecated and will no longer work in Shapely 2.0. Convert the '.coords' to a numpy array instead.\n",
      "  applied = getattr(b, f)(**kwargs)\n"
     ]
    },
    {
     "data": {
      "text/html": [
       "<div>\n",
       "<style scoped>\n",
       "    .dataframe tbody tr th:only-of-type {\n",
       "        vertical-align: middle;\n",
       "    }\n",
       "\n",
       "    .dataframe tbody tr th {\n",
       "        vertical-align: top;\n",
       "    }\n",
       "\n",
       "    .dataframe thead th {\n",
       "        text-align: right;\n",
       "    }\n",
       "</style>\n",
       "<table border=\"1\" class=\"dataframe\">\n",
       "  <thead>\n",
       "    <tr style=\"text-align: right;\">\n",
       "      <th></th>\n",
       "      <th># BBPlG 2013</th>\n",
       "      <th>Start</th>\n",
       "      <th>Start_geometry</th>\n",
       "      <th>Start_address</th>\n",
       "      <th>End</th>\n",
       "      <th>End_geometry</th>\n",
       "      <th>End_address</th>\n",
       "      <th>direct_line</th>\n",
       "      <th>New</th>\n",
       "      <th>Retro</th>\n",
       "    </tr>\n",
       "  </thead>\n",
       "  <tbody>\n",
       "    <tr>\n",
       "      <th>0</th>\n",
       "      <td>3</td>\n",
       "      <td>Brunsbüttel</td>\n",
       "      <td>POINT (9.13954 53.89725)</td>\n",
       "      <td>Brunsbüttel, Dithmarschen, Schleswig-Holstein,...</td>\n",
       "      <td>Großgartach</td>\n",
       "      <td>POINT (9.12587 49.14254)</td>\n",
       "      <td>Großgartach, Leingarten, Landkreis Heilbronn, ...</td>\n",
       "      <td>LINESTRING (9.1395423 53.8972549, 9.1258701 49...</td>\n",
       "      <td>1</td>\n",
       "      <td>NaN</td>\n",
       "    </tr>\n",
       "    <tr>\n",
       "      <th>1</th>\n",
       "      <td>4</td>\n",
       "      <td>Wilster</td>\n",
       "      <td>POINT (9.37338 53.92328)</td>\n",
       "      <td>Wilster, Kreis Steinburg, Schleswig-Holstein, ...</td>\n",
       "      <td>Grafenrheinfeld</td>\n",
       "      <td>POINT (10.19668 50.00553)</td>\n",
       "      <td>Grafenrheinfeld, Landkreis Schweinfurt, Bayern...</td>\n",
       "      <td>LINESTRING (9.373378722135374 53.9232825, 10.1...</td>\n",
       "      <td>1</td>\n",
       "      <td>NaN</td>\n",
       "    </tr>\n",
       "    <tr>\n",
       "      <th>2</th>\n",
       "      <td>5</td>\n",
       "      <td>Bad Lauchstädt</td>\n",
       "      <td>POINT (11.86870 51.38813)</td>\n",
       "      <td>Bad Lauchstädt, Lindenstraße, Lindenstraße, Kl...</td>\n",
       "      <td>Meitingen</td>\n",
       "      <td>POINT (10.85000 48.55000)</td>\n",
       "      <td>Meitingen, Landkreis Augsburg, Bayern, 86405, ...</td>\n",
       "      <td>LINESTRING (11.8686979 51.3881334, 10.85 48.55)</td>\n",
       "      <td>1</td>\n",
       "      <td>NaN</td>\n",
       "    </tr>\n",
       "    <tr>\n",
       "      <th>3</th>\n",
       "      <td>17</td>\n",
       "      <td>Mecklar</td>\n",
       "      <td>POINT (9.76125 50.91746)</td>\n",
       "      <td>Mecklar, Ludwigsau, Landkreis Hersfeld-Rotenbu...</td>\n",
       "      <td>Grafenrheinfeld</td>\n",
       "      <td>POINT (10.19668 50.00553)</td>\n",
       "      <td>Grafenrheinfeld, Landkreis Schweinfurt, Bayern...</td>\n",
       "      <td>LINESTRING (9.7612468 50.9174645, 10.1966808 5...</td>\n",
       "      <td>1</td>\n",
       "      <td>NaN</td>\n",
       "    </tr>\n",
       "  </tbody>\n",
       "</table>\n",
       "</div>"
      ],
      "text/plain": [
       "   # BBPlG 2013           Start             Start_geometry  \\\n",
       "0             3     Brunsbüttel   POINT (9.13954 53.89725)   \n",
       "1             4         Wilster   POINT (9.37338 53.92328)   \n",
       "2             5  Bad Lauchstädt  POINT (11.86870 51.38813)   \n",
       "3            17         Mecklar   POINT (9.76125 50.91746)   \n",
       "\n",
       "                                       Start_address              End  \\\n",
       "0  Brunsbüttel, Dithmarschen, Schleswig-Holstein,...      Großgartach   \n",
       "1  Wilster, Kreis Steinburg, Schleswig-Holstein, ...  Grafenrheinfeld   \n",
       "2  Bad Lauchstädt, Lindenstraße, Lindenstraße, Kl...        Meitingen   \n",
       "3  Mecklar, Ludwigsau, Landkreis Hersfeld-Rotenbu...  Grafenrheinfeld   \n",
       "\n",
       "                End_geometry  \\\n",
       "0   POINT (9.12587 49.14254)   \n",
       "1  POINT (10.19668 50.00553)   \n",
       "2  POINT (10.85000 48.55000)   \n",
       "3  POINT (10.19668 50.00553)   \n",
       "\n",
       "                                         End_address  \\\n",
       "0  Großgartach, Leingarten, Landkreis Heilbronn, ...   \n",
       "1  Grafenrheinfeld, Landkreis Schweinfurt, Bayern...   \n",
       "2  Meitingen, Landkreis Augsburg, Bayern, 86405, ...   \n",
       "3  Grafenrheinfeld, Landkreis Schweinfurt, Bayern...   \n",
       "\n",
       "                                         direct_line  New  Retro  \n",
       "0  LINESTRING (9.1395423 53.8972549, 9.1258701 49...    1    NaN  \n",
       "1  LINESTRING (9.373378722135374 53.9232825, 10.1...    1    NaN  \n",
       "2    LINESTRING (11.8686979 51.3881334, 10.85 48.55)    1    NaN  \n",
       "3  LINESTRING (9.7612468 50.9174645, 10.1966808 5...    1    NaN  "
      ]
     },
     "execution_count": 114,
     "metadata": {},
     "output_type": "execute_result"
    }
   ],
   "source": [
    "for i in range (0, len(powerlines_geo)):\n",
    "    start = powerlines_geo['Start_geometry'].loc[powerlines_geo.index[i]]\n",
    "    end = powerlines_geo['End_geometry'].loc[powerlines_geo.index[i]]\n",
    "    print(start, end)\n",
    "    line = LineString([start, end])\n",
    "    powerlines_geo['direct_line'].loc[powerlines_geo.index[i]] = line\n",
    "powerlines_geo.head()"
   ]
  }
 ],
 "metadata": {
  "interpreter": {
   "hash": "88be3cbefcf0764a65175a6561fd304411aaded24422f3185dd5fe11d8fe4862"
  },
  "kernelspec": {
   "display_name": "Python 3.9.12 ('vscode')",
   "language": "python",
   "name": "python3"
  },
  "language_info": {
   "codemirror_mode": {
    "name": "ipython",
    "version": 3
   },
   "file_extension": ".py",
   "mimetype": "text/x-python",
   "name": "python",
   "nbconvert_exporter": "python",
   "pygments_lexer": "ipython3",
   "version": "3.10.4"
  },
  "orig_nbformat": 4
 },
 "nbformat": 4,
 "nbformat_minor": 2
}
