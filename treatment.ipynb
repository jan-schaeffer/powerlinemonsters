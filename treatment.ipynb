{
 "cells": [
  {
   "cell_type": "markdown",
   "metadata": {},
   "source": [
    "First, import needed modules"
   ]
  },
  {
   "cell_type": "code",
   "execution_count": null,
   "metadata": {},
   "outputs": [],
   "source": [
    "import numpy as np\n",
    "import pandas as pd\n",
    "import os\n",
    "import geopandas as gpd\n",
    "import matplotlib.pyplot as plt\n",
    "import shapely.speedups\n",
    "from shapely.ops import unary_union"
   ]
  },
  {
   "cell_type": "markdown",
   "metadata": {},
   "source": [
    "Initalize variables"
   ]
  },
  {
   "cell_type": "code",
   "execution_count": null,
   "metadata": {},
   "outputs": [],
   "source": [
    "shapely.speedups.enable()\n",
    "path = os.getcwd()\n",
    "print(path)"
   ]
  },
  {
   "cell_type": "markdown",
   "metadata": {},
   "source": [
    "Load shapefile with municipality and state boundaries and plot it for inspection"
   ]
  },
  {
   "cell_type": "code",
   "execution_count": null,
   "metadata": {},
   "outputs": [],
   "source": [
    "municipalities = gpd.read_file(f'{path}/data/geodata/VG250_GEM.shp')\n",
    "municipalities.index.rename('ID', inplace=True)\n",
    "states = gpd.read_file(f'{path}/data/geodata/VG250_LAN.shp')\n",
    "municipalities.plot()"
   ]
  },
  {
   "cell_type": "markdown",
   "metadata": {},
   "source": [
    "Inspect the dataframe: GEN has the municipalities' names, geometry are the polygons.\n"
   ]
  },
  {
   "cell_type": "code",
   "execution_count": null,
   "metadata": {},
   "outputs": [],
   "source": [
    "municipalities.head()"
   ]
  },
  {
   "cell_type": "markdown",
   "metadata": {},
   "source": [
    "Check for duplicates in terms of the AGS (Amtlicher Gemeindeschlüssel) -> there are duplicates."
   ]
  },
  {
   "cell_type": "code",
   "execution_count": null,
   "metadata": {},
   "outputs": [],
   "source": [
    "municipalities['ags_dup'] = municipalities.duplicated(subset=['AGS'], keep=False)\n",
    "municipalities.head()"
   ]
  },
  {
   "cell_type": "markdown",
   "metadata": {},
   "source": [
    "Merge shapes for the duplicate municipalities"
   ]
  },
  {
   "cell_type": "code",
   "execution_count": null,
   "metadata": {},
   "outputs": [],
   "source": [
    "duplicates = municipalities[municipalities['ags_dup'] == True] # create duplicates df\n",
    "duplicates.insert(loc=len(duplicates.columns), column='union', value=0) # insert a new 'union column\n",
    "duplicates.sort_values(by=['GEN'], inplace=True) # sort by city name\n",
    "for i in range(0, len(duplicates), 2): # iterate over all duplicate cities\n",
    "    city_name = duplicates.iloc[i, 6] # get the city name\n",
    "    duplicate = duplicates[duplicates['GEN'] == city_name] # get geometries of both polygons for a given city\n",
    "    duplicates['union'].loc[duplicates.index[i]]  = duplicate.unary_union # combine the shapes\n",
    "duplicates = duplicates[duplicates['union'] != 0 ] # drop the duplicates, keep only the combined shapes\n",
    "duplicates = duplicates.drop(columns=['geometry']) # drop the geometry column\n",
    "duplicates.rename(columns = {'union':'geometry'}, inplace = True)   #rename the union column to geometry\n",
    "duplicates.head()"
   ]
  },
  {
   "cell_type": "markdown",
   "metadata": {},
   "source": [
    "Concatenate the duplicates df with the combined shapes to the municipalities df"
   ]
  },
  {
   "cell_type": "code",
   "execution_count": null,
   "metadata": {},
   "outputs": [],
   "source": [
    "municipalities = municipalities[municipalities['ags_dup'] == False]\n",
    "municipalities = gpd.GeoDataFrame(pd.concat([municipalities, duplicates], ignore_index=True), crs=[municipalities, duplicates][0].crs)\n",
    "municipalities.sort_values(by=['GEN'], inplace=True) # sort by city name\n",
    "municipalities = municipalities.drop(columns=['ags_dup'])\n",
    "municipalities.to_csv(f'{path}/data/treatment.csv', encoding = 'utf-8-sig')\n",
    "municipalities.head()"
   ]
  },
  {
   "cell_type": "markdown",
   "metadata": {},
   "source": [
    "The data use the European Terrestrial Reference System 1989 as coordinate reference system (CRS), units are metres"
   ]
  },
  {
   "cell_type": "code",
   "execution_count": null,
   "metadata": {},
   "outputs": [],
   "source": [
    "municipalities.crs"
   ]
  },
  {
   "cell_type": "markdown",
   "metadata": {},
   "source": [
    "Load shapefile with power lines and plot it for inspection, as the CRS of powerlines is EPSG 4326 (Degrees), convert to EPSG 25832 (Meters)"
   ]
  },
  {
   "cell_type": "code",
   "execution_count": null,
   "metadata": {},
   "outputs": [],
   "source": [
    "powerlines = gpd.read_file(f'{path}/data/geodata/powerlines.shp')\n",
    "powerlines = powerlines.to_crs(epsg=25832)\n",
    "powerlines.head()"
   ]
  },
  {
   "cell_type": "markdown",
   "metadata": {},
   "source": [
    "Check CRS conversion"
   ]
  },
  {
   "cell_type": "code",
   "execution_count": null,
   "metadata": {},
   "outputs": [],
   "source": [
    "powerlines.crs"
   ]
  },
  {
   "cell_type": "markdown",
   "metadata": {},
   "source": [
    "Plot for inspection"
   ]
  },
  {
   "cell_type": "code",
   "execution_count": null,
   "metadata": {},
   "outputs": [],
   "source": [
    "powerlines.plot()"
   ]
  },
  {
   "cell_type": "markdown",
   "metadata": {},
   "source": [
    "Combine municipalities and powerlines in a plot"
   ]
  },
  {
   "cell_type": "code",
   "execution_count": null,
   "metadata": {},
   "outputs": [],
   "source": [
    "powerlines.set_geometry('geometry')\n",
    "fig, ax = plt.subplots(figsize=(10, 8), dpi=300)\n",
    "ax.set_aspect('equal')\n",
    "ax.set_axis_off()\n",
    "municipalities.plot(ax=ax, color='lightblue', edgecolor='blue', lw=0.01, zorder=1)\n",
    "states.boundary.plot(ax=ax, color='black', lw = 0.1, zorder=2)\n",
    "powerlines.plot(ax=ax, color='red', lw=2, zorder=3)\n",
    "plt.suptitle('BBPlG 2013 projects', fontsize=20)\n",
    "plt.savefig(f'{path}/figures/BBPLG2013_projects.png')\n",
    "plt.close()"
   ]
  },
  {
   "cell_type": "markdown",
   "metadata": {},
   "source": [
    "Now construct the treatment indicator by checking if any of the power lines *directly* intersect with municipality polygons"
   ]
  },
  {
   "cell_type": "code",
   "execution_count": null,
   "metadata": {},
   "outputs": [],
   "source": [
    "municipalities.insert(loc=len(municipalities.columns), column='treated_0', value=0)\n",
    "for i in range(len(municipalities)):\n",
    "    municipalities['treated_0'].loc[municipalities.index[i]] = any(powerlines['geometry'].intersects(municipalities['geometry'].values[i]))"
   ]
  },
  {
   "cell_type": "markdown",
   "metadata": {},
   "source": [
    "Plot the municipalities that directly intersect with a powerline"
   ]
  },
  {
   "cell_type": "code",
   "execution_count": null,
   "metadata": {},
   "outputs": [],
   "source": [
    "powerlines.set_geometry('geometry')\n",
    "municipalities_intersected = municipalities[municipalities['treated_0'] == True] #drops all untreated munipalities\n",
    "fig, ax = plt.subplots(figsize=(10, 8), dpi=300)\n",
    "ax.set_aspect('equal')\n",
    "ax.set_axis_off()\n",
    "municipalities.plot(ax=ax, color='lightblue', edgecolor='blue', lw=0.01, zorder=1)\n",
    "states.boundary.plot(ax=ax, color='darkblue', lw = 0.1, zorder=2)\n",
    "municipalities_intersected.plot(ax=ax, color='orange', edgecolor='darkorange', lw=0.01, zorder=3)\n",
    "powerlines.plot(ax=ax, color='red', lw=2, zorder=4)\n",
    "plt.suptitle('Municipalities affected by BBPlG 2013 projects', fontsize=20)\n",
    "plt.title('direct line', fontsize=14)\n",
    "plt.savefig(f'{path}/figures/BBPLG2013_treated_0.png')\n",
    "plt.close()\n"
   ]
  },
  {
   "cell_type": "markdown",
   "metadata": {},
   "source": [
    "Create buffers around the straight lines to create treatment indicator for different corridor widths"
   ]
  },
  {
   "cell_type": "code",
   "execution_count": null,
   "metadata": {},
   "outputs": [],
   "source": [
    "for buffer in (5, 10, 15, 25, 50):\n",
    "    try:\n",
    "        powerlines.insert(loc=len(powerlines.columns), column=f'geometry_{buffer*2}', value=0) #buffer is added on both sides -> x2 to simplify\n",
    "    except Exception:\n",
    "        pass\n",
    "    powerlines[f'geometry_{buffer*2}'] = powerlines['geometry'].buffer(buffer*1000)\n",
    "powerlines.head()"
   ]
  },
  {
   "cell_type": "markdown",
   "metadata": {},
   "source": [
    "Now generate treatment indicators for all buffer sizes"
   ]
  },
  {
   "cell_type": "code",
   "execution_count": null,
   "metadata": {},
   "outputs": [],
   "source": [
    "for buffer in (5, 10, 15, 25, 50):\n",
    "    try:\n",
    "        municipalities.insert(loc=len(municipalities.columns), column=f'treated_{buffer*2}', value=0)\n",
    "    except Exception:\n",
    "        pass\n",
    "    for i in range(len(municipalities)):\n",
    "        municipalities[f'treated_{buffer*2}'].loc[municipalities.index[i]] = any(powerlines[f'geometry_{buffer*2}'].intersects(municipalities['geometry'].values[i]))\n",
    "municipalities.head()"
   ]
  },
  {
   "cell_type": "markdown",
   "metadata": {},
   "source": [
    "Plot for inspection"
   ]
  },
  {
   "cell_type": "code",
   "execution_count": null,
   "metadata": {},
   "outputs": [],
   "source": [
    "#powerlines.set_geometry('geometry_50')\n",
    "municipalities_intersected50 = municipalities[municipalities['treated_50'] == True] #drops all untreated munipalities\n",
    "fig, ax = plt.subplots(figsize=(10, 8), dpi=300)\n",
    "ax.set_aspect('equal')\n",
    "ax.set_axis_off()\n",
    "municipalities.plot(ax=ax, color='lightblue', zorder=1)\n",
    "states.boundary.plot(ax=ax, color='darkblue', lw = 0.1, zorder=2)\n",
    "municipalities_intersected50.plot(ax=ax, color='orange', edgecolor='darkorange', lw=0.01, zorder=3)\n",
    "powerlines.plot(ax=ax, color='red', lw=2, zorder=4)\n",
    "plt.suptitle('Municipalities affected by BBPlG 2013 projects', fontsize=20)\n",
    "plt.title('with a 50km buffer', fontsize=14)\n",
    "plt.savefig(f'{path}/figures/BBPLG2013_treated_50.png')\n",
    "plt.close()"
   ]
  },
  {
   "cell_type": "markdown",
   "metadata": {},
   "source": [
    "Export treatment dataset from municipalities dataframe"
   ]
  },
  {
   "cell_type": "code",
   "execution_count": null,
   "metadata": {},
   "outputs": [],
   "source": [
    "treatment = pd.DataFrame(municipalities)\n",
    "treatment = treatment.reindex(columns=['AGS', 'GEN', 'treated_0', 'treated_10', 'treated_20', 'treated_30', 'treated_50', 'treated_100'])\n",
    "treatment = treatment.set_index('AGS')\n",
    "treatment = treatment.replace({True:1, False:0})\n",
    "treatment.to_csv(f'{path}/data/treatment.csv', encoding = 'utf-8-sig')\n",
    "treatment.head()"
   ]
  }
 ],
 "metadata": {
  "interpreter": {
   "hash": "88be3cbefcf0764a65175a6561fd304411aaded24422f3185dd5fe11d8fe4862"
  },
  "kernelspec": {
   "display_name": "Python 3.9.12 ('vscode')",
   "language": "python",
   "name": "python3"
  },
  "language_info": {
   "codemirror_mode": {
    "name": "ipython",
    "version": 3
   },
   "file_extension": ".py",
   "mimetype": "text/x-python",
   "name": "python",
   "nbconvert_exporter": "python",
   "pygments_lexer": "ipython3",
   "version": "3.10.4"
  },
  "orig_nbformat": 4
 },
 "nbformat": 4,
 "nbformat_minor": 2
}
