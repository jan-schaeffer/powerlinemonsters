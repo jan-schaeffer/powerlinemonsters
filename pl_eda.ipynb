{
 "cells": [
  {
   "cell_type": "markdown",
   "metadata": {},
   "source": [
    "First, import needed modules"
   ]
  },
  {
   "cell_type": "code",
   "execution_count": 76,
   "metadata": {},
   "outputs": [],
   "source": [
    "import numpy as np\n",
    "import pandas as pd\n",
    "import os\n",
    "import geopandas as gpd\n",
    "import matplotlib.pyplot as plt"
   ]
  },
  {
   "cell_type": "markdown",
   "metadata": {},
   "source": [
    "Initalize variables"
   ]
  },
  {
   "cell_type": "code",
   "execution_count": 77,
   "metadata": {},
   "outputs": [
    {
     "name": "stdout",
     "output_type": "stream",
     "text": [
      "/Users/jan/Dropbox/UP_EPQM/2222/MA/powerlinemonsters\n"
     ]
    }
   ],
   "source": [
    "path = os.getcwd()\n",
    "print(path)"
   ]
  },
  {
   "cell_type": "markdown",
   "metadata": {},
   "source": [
    "Load datasets"
   ]
  },
  {
   "cell_type": "code",
   "execution_count": 78,
   "metadata": {},
   "outputs": [],
   "source": [
    "pl_05 = gpd.read_file(f'{path}/data/geodata/powerlines_05.shp')\n",
    "pl_09 = gpd.read_file(f'{path}/data/geodata/new_powerlines_09.shp')\n",
    "pl_13 = gpd.read_file(f'{path}/data/geodata/new_powerlines_13.shp')\n",
    "all_powerlines = gpd.read_file(f'{path}/data/geodata/all_powerlines.shp')\n",
    "municipalities = gpd.read_file(f'{path}/data/geodata/municipalities.shp')\n",
    "mun_unincorporated = gpd.read_file(f'{path}/data/geodata/unincorporated.shp')\n",
    "states = gpd.read_file(f'{path}/data/geodata/VG250_LAN.shp')"
   ]
  },
  {
   "cell_type": "markdown",
   "metadata": {},
   "source": [
    "Combine municipalities and ALL new powerlines in a plot"
   ]
  },
  {
   "cell_type": "markdown",
   "metadata": {},
   "source": [
    "Fig E1: Municipalities affected by each treatment"
   ]
  },
  {
   "cell_type": "code",
   "execution_count": 79,
   "metadata": {},
   "outputs": [],
   "source": [
    "legend_dict = {2005: 'DENA 2005', 2009: 'EnLAG 2009', 2013: 'BBPlG 2013'}\n",
    "tvars = {2005: 't2005', 2009: 't2009', 2013: 't2013'}\n",
    "all_powerlines['year'] = all_powerlines['year'].astype(int)\n",
    "# initialize figure \n",
    "fig, ax = plt.subplots(nrows=1, ncols=3, figsize=(10, 6), dpi=300, constrained_layout=True)\n",
    "# title for entire figure\n",
    "fig.suptitle('Fig. E1: \\n Municipalities affected by Powerline Projects', fontsize=14)\n",
    "for i, (year, desc) in enumerate(legend_dict.items()):\n",
    "    # subset powerlines\n",
    "    plot_pl = all_powerlines[all_powerlines['year'] == year]\n",
    "    plot_pl = plot_pl.sort_values('year')\n",
    "    # subset treated muns\n",
    "    treated_muns = municipalities[municipalities[tvars[year]] != 'None']\n",
    "    # draw subfig\n",
    "    ax[i].set_aspect('equal')\n",
    "    ax[i].set_adjustable('datalim', share=True)\n",
    "    ax[i].set_axis_off()\n",
    "    ax[i].set_title(f'\\n {desc}')\n",
    "    municipalities.plot(ax=ax[i], color='lightblue', edgecolor='darkblue', lw=0.01, zorder=1)\n",
    "    if year == 2005:\n",
    "        treated_muns.plot(ax=ax[i], column='t2005', cmap='viridis', edgecolor='darkblue', lw=0.01, zorder=2)\n",
    "    if year == 2009:\n",
    "        treated_muns.plot(ax=ax[i], column='t2009', cmap='viridis', legend=True, edgecolor='darkblue', lw=0.01, zorder=2, legend_kwds={'loc':'lower center', 'ncol':2})\n",
    "    if year == 2013:\n",
    "        treated_muns.plot(ax=ax[i], column='t2013', cmap='viridis', edgecolor='darkblue', lw=0.01, zorder=2)\n",
    "    states.boundary.plot(ax=ax[i], color='darkblue', lw = 0.1, zorder=3)\n",
    "    plot_pl.plot(ax=ax[i], color='red', lw=2, zorder=4)\n",
    "    \n",
    "plt.savefig(f'{path}/figures/treatments/1_all_treatments.png', bbox_inches=\"tight\", pad_inches=0)\n",
    "plt.close()"
   ]
  },
  {
   "cell_type": "markdown",
   "metadata": {},
   "source": [
    "Fig E2: Municipalities (already) affected by each year"
   ]
  },
  {
   "cell_type": "code",
   "execution_count": 80,
   "metadata": {},
   "outputs": [],
   "source": [
    "legend_dict = {2005: 'DENA 2005', 2009: 'EnLAG 2009', 2013: 'BBPlG 2013'}\n",
    "all_powerlines['year'] = all_powerlines['year'].astype(int)\n",
    "# initialize figure \n",
    "fig, ax = plt.subplots(nrows=1, ncols=3, figsize=(10, 6), dpi=300, constrained_layout=True)\n",
    "# title for entire figure\n",
    "fig.suptitle('Fig. E2: \\n Treated municipalities by year', fontsize=14)\n",
    "for i, (year, desc) in enumerate(legend_dict.items()):\n",
    "    # subset powerlines\n",
    "    plot_pl = all_powerlines[all_powerlines['year'] <= year]\n",
    "    plot_pl = plot_pl.sort_values('year')\n",
    "    #plot_pl['year'] = plot_pl['year'].astype(str)        \n",
    "    # draw subfig\n",
    "    ax[i].set_aspect('equal')\n",
    "    ax[i].set_adjustable('datalim', share=True)\n",
    "    ax[i].set_axis_off()\n",
    "    ax[i].set_title(f'\\n {year}')\n",
    "    municipalities.plot(ax=ax[i], color='lightblue', edgecolor='darkblue', lw=0.01, zorder=1)\n",
    "    if year == 2005:\n",
    "        # subset treated muns\n",
    "        treated_muns = municipalities[municipalities['t2005'] != 'None']\n",
    "        treated_muns.plot(ax=ax[i], column='t2005', cmap='viridis', edgecolor='darkblue', lw=0.01, zorder=1)\n",
    "    if year == 2009:\n",
    "        treated_muns = municipalities[municipalities['et2010'] != 'None']\n",
    "        treated_muns.plot(ax=ax[i], column='et2010', cmap='viridis', legend=True, edgecolor='darkblue', lw=0.01, zorder=1, legend_kwds={'loc':'lower center', 'ncol':2})\n",
    "    if year == 2013:\n",
    "        treated_muns = municipalities[municipalities['et2014'] != 'None']\n",
    "        treated_muns.plot(ax=ax[i], column='et2014', cmap='viridis', edgecolor='darkblue', lw=0.01, zorder=1)\n",
    "    states.boundary.plot(ax=ax[i], color='darkblue', lw = 0.1, zorder=2)\n",
    "    plot_pl.plot(ax=ax[i], color='red', lw=2, zorder=3)\n",
    "plt.savefig(f'{path}/figures/treatments/2_all_treatments_sum.png', bbox_inches=\"tight\", pad_inches=0)\n",
    "plt.close()"
   ]
  }
 ],
 "metadata": {
  "kernelspec": {
   "display_name": "Python 3.10.4 ('vscode')",
   "language": "python",
   "name": "python3"
  },
  "language_info": {
   "codemirror_mode": {
    "name": "ipython",
    "version": 3
   },
   "file_extension": ".py",
   "mimetype": "text/x-python",
   "name": "python",
   "nbconvert_exporter": "python",
   "pygments_lexer": "ipython3",
   "version": "3.10.4"
  },
  "orig_nbformat": 4,
  "vscode": {
   "interpreter": {
    "hash": "656f4cd1472b14b513faaa63bd5e4a7577d125de6a277113d4e82c4085557d3e"
   }
  }
 },
 "nbformat": 4,
 "nbformat_minor": 2
}
