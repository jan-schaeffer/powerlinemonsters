{
 "cells": [
  {
   "cell_type": "markdown",
   "metadata": {},
   "source": [
    "First, import needed modules"
   ]
  },
  {
   "cell_type": "code",
   "execution_count": null,
   "metadata": {},
   "outputs": [],
   "source": [
    "import numpy as np\n",
    "import pandas as pd\n",
    "import geopandas as gpd\n",
    "from geopandas.tools import geocode\n",
    "from shapely.geometry import Point, LineString, Polygon\n",
    "from geopy.geocoders import Nominatim\n",
    "import os"
   ]
  },
  {
   "cell_type": "markdown",
   "metadata": {},
   "source": [
    "Initalize variables"
   ]
  },
  {
   "cell_type": "code",
   "execution_count": null,
   "metadata": {},
   "outputs": [],
   "source": [
    "path = os.getcwd()\n",
    "path"
   ]
  },
  {
   "cell_type": "markdown",
   "metadata": {},
   "source": [
    "Load Dataset which has the endpoints of power line projects"
   ]
  },
  {
   "cell_type": "code",
   "execution_count": null,
   "metadata": {},
   "outputs": [],
   "source": [
    "powerlines = pd.read_csv(f'{path}/data/geodata/powerlines.csv', sep=';')\n",
    "#powerlines = powerlines.set_index(\"# BBPlG 2013\", drop = False)\n",
    "powerlines.head()"
   ]
  },
  {
   "cell_type": "markdown",
   "metadata": {},
   "source": [
    "Get the geocoordinates of the 'endpoint' cities using OSM/Nominatim API"
   ]
  },
  {
   "cell_type": "code",
   "execution_count": null,
   "metadata": {},
   "outputs": [],
   "source": [
    "start_locations = geocode(powerlines['Start'], provider='nominatim', user_agent='plm', timeout=4)\n",
    "start_locations"
   ]
  },
  {
   "cell_type": "code",
   "execution_count": 5,
   "metadata": {},
   "outputs": [
    {
     "ename": "KeyboardInterrupt",
     "evalue": "",
     "output_type": "error",
     "traceback": [
      "\u001b[0;31m---------------------------------------------------------------------------\u001b[0m",
      "\u001b[0;31mKeyboardInterrupt\u001b[0m                         Traceback (most recent call last)",
      "\u001b[1;32m/Users/jan/Desktop/powerlinemonsters/corridors.ipynb Cell 9'\u001b[0m in \u001b[0;36m<cell line: 1>\u001b[0;34m()\u001b[0m\n\u001b[0;32m----> <a href='vscode-notebook-cell:/Users/jan/Desktop/powerlinemonsters/corridors.ipynb#ch0000008?line=0'>1</a>\u001b[0m end_locations \u001b[39m=\u001b[39m geocode(powerlines[\u001b[39m'\u001b[39;49m\u001b[39mEnd\u001b[39;49m\u001b[39m'\u001b[39;49m], provider\u001b[39m=\u001b[39;49m\u001b[39m'\u001b[39;49m\u001b[39mnominatim\u001b[39;49m\u001b[39m'\u001b[39;49m, user_agent\u001b[39m=\u001b[39;49m\u001b[39m'\u001b[39;49m\u001b[39mplm\u001b[39;49m\u001b[39m'\u001b[39;49m, timeout\u001b[39m=\u001b[39;49m\u001b[39m4\u001b[39;49m)\n\u001b[1;32m      <a href='vscode-notebook-cell:/Users/jan/Desktop/powerlinemonsters/corridors.ipynb#ch0000008?line=1'>2</a>\u001b[0m end_locations\n",
      "File \u001b[0;32m/opt/miniconda3/envs/vscode/lib/python3.10/site-packages/geopandas/tools/geocoding.py:67\u001b[0m, in \u001b[0;36mgeocode\u001b[0;34m(strings, provider, **kwargs)\u001b[0m\n\u001b[1;32m     <a href='file:///opt/miniconda3/envs/vscode/lib/python3.10/site-packages/geopandas/tools/geocoding.py?line=63'>64</a>\u001b[0m     provider \u001b[39m=\u001b[39m \u001b[39m\"\u001b[39m\u001b[39mphoton\u001b[39m\u001b[39m\"\u001b[39m\n\u001b[1;32m     <a href='file:///opt/miniconda3/envs/vscode/lib/python3.10/site-packages/geopandas/tools/geocoding.py?line=64'>65</a>\u001b[0m throttle_time \u001b[39m=\u001b[39m _get_throttle_time(provider)\n\u001b[0;32m---> <a href='file:///opt/miniconda3/envs/vscode/lib/python3.10/site-packages/geopandas/tools/geocoding.py?line=66'>67</a>\u001b[0m \u001b[39mreturn\u001b[39;00m _query(strings, \u001b[39mTrue\u001b[39;49;00m, provider, throttle_time, \u001b[39m*\u001b[39;49m\u001b[39m*\u001b[39;49mkwargs)\n",
      "File \u001b[0;32m/opt/miniconda3/envs/vscode/lib/python3.10/site-packages/geopandas/tools/geocoding.py:141\u001b[0m, in \u001b[0;36m_query\u001b[0;34m(data, forward, provider, throttle_time, **kwargs)\u001b[0m\n\u001b[1;32m    <a href='file:///opt/miniconda3/envs/vscode/lib/python3.10/site-packages/geopandas/tools/geocoding.py?line=138'>139</a>\u001b[0m \u001b[39mtry\u001b[39;00m:\n\u001b[1;32m    <a href='file:///opt/miniconda3/envs/vscode/lib/python3.10/site-packages/geopandas/tools/geocoding.py?line=139'>140</a>\u001b[0m     \u001b[39mif\u001b[39;00m forward:\n\u001b[0;32m--> <a href='file:///opt/miniconda3/envs/vscode/lib/python3.10/site-packages/geopandas/tools/geocoding.py?line=140'>141</a>\u001b[0m         results[i] \u001b[39m=\u001b[39m coder\u001b[39m.\u001b[39;49mgeocode(s)\n\u001b[1;32m    <a href='file:///opt/miniconda3/envs/vscode/lib/python3.10/site-packages/geopandas/tools/geocoding.py?line=141'>142</a>\u001b[0m     \u001b[39melse\u001b[39;00m:\n\u001b[1;32m    <a href='file:///opt/miniconda3/envs/vscode/lib/python3.10/site-packages/geopandas/tools/geocoding.py?line=142'>143</a>\u001b[0m         results[i] \u001b[39m=\u001b[39m coder\u001b[39m.\u001b[39mreverse((s\u001b[39m.\u001b[39my, s\u001b[39m.\u001b[39mx), exactly_one\u001b[39m=\u001b[39m\u001b[39mTrue\u001b[39;00m)\n",
      "File \u001b[0;32m/opt/miniconda3/envs/vscode/lib/python3.10/site-packages/geopy/geocoders/nominatim.py:297\u001b[0m, in \u001b[0;36mNominatim.geocode\u001b[0;34m(self, query, exactly_one, timeout, limit, addressdetails, language, geometry, extratags, country_codes, viewbox, bounded, featuretype, namedetails)\u001b[0m\n\u001b[1;32m    <a href='file:///opt/miniconda3/envs/vscode/lib/python3.10/site-packages/geopy/geocoders/nominatim.py?line=294'>295</a>\u001b[0m logger\u001b[39m.\u001b[39mdebug(\u001b[39m\"\u001b[39m\u001b[39m%s\u001b[39;00m\u001b[39m.geocode: \u001b[39m\u001b[39m%s\u001b[39;00m\u001b[39m\"\u001b[39m, \u001b[39mself\u001b[39m\u001b[39m.\u001b[39m\u001b[39m__class__\u001b[39m\u001b[39m.\u001b[39m\u001b[39m__name__\u001b[39m, url)\n\u001b[1;32m    <a href='file:///opt/miniconda3/envs/vscode/lib/python3.10/site-packages/geopy/geocoders/nominatim.py?line=295'>296</a>\u001b[0m callback \u001b[39m=\u001b[39m partial(\u001b[39mself\u001b[39m\u001b[39m.\u001b[39m_parse_json, exactly_one\u001b[39m=\u001b[39mexactly_one)\n\u001b[0;32m--> <a href='file:///opt/miniconda3/envs/vscode/lib/python3.10/site-packages/geopy/geocoders/nominatim.py?line=296'>297</a>\u001b[0m \u001b[39mreturn\u001b[39;00m \u001b[39mself\u001b[39;49m\u001b[39m.\u001b[39;49m_call_geocoder(url, callback, timeout\u001b[39m=\u001b[39;49mtimeout)\n",
      "File \u001b[0;32m/opt/miniconda3/envs/vscode/lib/python3.10/site-packages/geopy/geocoders/base.py:368\u001b[0m, in \u001b[0;36mGeocoder._call_geocoder\u001b[0;34m(self, url, callback, timeout, is_json, headers)\u001b[0m\n\u001b[1;32m    <a href='file:///opt/miniconda3/envs/vscode/lib/python3.10/site-packages/geopy/geocoders/base.py?line=365'>366</a>\u001b[0m \u001b[39mtry\u001b[39;00m:\n\u001b[1;32m    <a href='file:///opt/miniconda3/envs/vscode/lib/python3.10/site-packages/geopy/geocoders/base.py?line=366'>367</a>\u001b[0m     \u001b[39mif\u001b[39;00m is_json:\n\u001b[0;32m--> <a href='file:///opt/miniconda3/envs/vscode/lib/python3.10/site-packages/geopy/geocoders/base.py?line=367'>368</a>\u001b[0m         result \u001b[39m=\u001b[39m \u001b[39mself\u001b[39;49m\u001b[39m.\u001b[39;49madapter\u001b[39m.\u001b[39;49mget_json(url, timeout\u001b[39m=\u001b[39;49mtimeout, headers\u001b[39m=\u001b[39;49mreq_headers)\n\u001b[1;32m    <a href='file:///opt/miniconda3/envs/vscode/lib/python3.10/site-packages/geopy/geocoders/base.py?line=368'>369</a>\u001b[0m     \u001b[39melse\u001b[39;00m:\n\u001b[1;32m    <a href='file:///opt/miniconda3/envs/vscode/lib/python3.10/site-packages/geopy/geocoders/base.py?line=369'>370</a>\u001b[0m         result \u001b[39m=\u001b[39m \u001b[39mself\u001b[39m\u001b[39m.\u001b[39madapter\u001b[39m.\u001b[39mget_text(url, timeout\u001b[39m=\u001b[39mtimeout, headers\u001b[39m=\u001b[39mreq_headers)\n",
      "File \u001b[0;32m/opt/miniconda3/envs/vscode/lib/python3.10/site-packages/geopy/adapters.py:438\u001b[0m, in \u001b[0;36mRequestsAdapter.get_json\u001b[0;34m(self, url, timeout, headers)\u001b[0m\n\u001b[1;32m    <a href='file:///opt/miniconda3/envs/vscode/lib/python3.10/site-packages/geopy/adapters.py?line=436'>437</a>\u001b[0m \u001b[39mdef\u001b[39;00m \u001b[39mget_json\u001b[39m(\u001b[39mself\u001b[39m, url, \u001b[39m*\u001b[39m, timeout, headers):\n\u001b[0;32m--> <a href='file:///opt/miniconda3/envs/vscode/lib/python3.10/site-packages/geopy/adapters.py?line=437'>438</a>\u001b[0m     resp \u001b[39m=\u001b[39m \u001b[39mself\u001b[39;49m\u001b[39m.\u001b[39;49m_request(url, timeout\u001b[39m=\u001b[39;49mtimeout, headers\u001b[39m=\u001b[39;49mheaders)\n\u001b[1;32m    <a href='file:///opt/miniconda3/envs/vscode/lib/python3.10/site-packages/geopy/adapters.py?line=438'>439</a>\u001b[0m     \u001b[39mtry\u001b[39;00m:\n\u001b[1;32m    <a href='file:///opt/miniconda3/envs/vscode/lib/python3.10/site-packages/geopy/adapters.py?line=439'>440</a>\u001b[0m         \u001b[39mreturn\u001b[39;00m resp\u001b[39m.\u001b[39mjson()\n",
      "File \u001b[0;32m/opt/miniconda3/envs/vscode/lib/python3.10/site-packages/geopy/adapters.py:448\u001b[0m, in \u001b[0;36mRequestsAdapter._request\u001b[0;34m(self, url, timeout, headers)\u001b[0m\n\u001b[1;32m    <a href='file:///opt/miniconda3/envs/vscode/lib/python3.10/site-packages/geopy/adapters.py?line=445'>446</a>\u001b[0m \u001b[39mdef\u001b[39;00m \u001b[39m_request\u001b[39m(\u001b[39mself\u001b[39m, url, \u001b[39m*\u001b[39m, timeout, headers):\n\u001b[1;32m    <a href='file:///opt/miniconda3/envs/vscode/lib/python3.10/site-packages/geopy/adapters.py?line=446'>447</a>\u001b[0m     \u001b[39mtry\u001b[39;00m:\n\u001b[0;32m--> <a href='file:///opt/miniconda3/envs/vscode/lib/python3.10/site-packages/geopy/adapters.py?line=447'>448</a>\u001b[0m         resp \u001b[39m=\u001b[39m \u001b[39mself\u001b[39;49m\u001b[39m.\u001b[39;49msession\u001b[39m.\u001b[39;49mget(url, timeout\u001b[39m=\u001b[39;49mtimeout, headers\u001b[39m=\u001b[39;49mheaders)\n\u001b[1;32m    <a href='file:///opt/miniconda3/envs/vscode/lib/python3.10/site-packages/geopy/adapters.py?line=448'>449</a>\u001b[0m     \u001b[39mexcept\u001b[39;00m \u001b[39mException\u001b[39;00m \u001b[39mas\u001b[39;00m error:\n\u001b[1;32m    <a href='file:///opt/miniconda3/envs/vscode/lib/python3.10/site-packages/geopy/adapters.py?line=449'>450</a>\u001b[0m         message \u001b[39m=\u001b[39m \u001b[39mstr\u001b[39m(error)\n",
      "File \u001b[0;32m/opt/miniconda3/envs/vscode/lib/python3.10/site-packages/requests/sessions.py:542\u001b[0m, in \u001b[0;36mSession.get\u001b[0;34m(self, url, **kwargs)\u001b[0m\n\u001b[1;32m    <a href='file:///opt/miniconda3/envs/vscode/lib/python3.10/site-packages/requests/sessions.py?line=533'>534</a>\u001b[0m \u001b[39mr\u001b[39m\u001b[39m\"\"\"Sends a GET request. Returns :class:`Response` object.\u001b[39;00m\n\u001b[1;32m    <a href='file:///opt/miniconda3/envs/vscode/lib/python3.10/site-packages/requests/sessions.py?line=534'>535</a>\u001b[0m \n\u001b[1;32m    <a href='file:///opt/miniconda3/envs/vscode/lib/python3.10/site-packages/requests/sessions.py?line=535'>536</a>\u001b[0m \u001b[39m:param url: URL for the new :class:`Request` object.\u001b[39;00m\n\u001b[1;32m    <a href='file:///opt/miniconda3/envs/vscode/lib/python3.10/site-packages/requests/sessions.py?line=536'>537</a>\u001b[0m \u001b[39m:param \\*\\*kwargs: Optional arguments that ``request`` takes.\u001b[39;00m\n\u001b[1;32m    <a href='file:///opt/miniconda3/envs/vscode/lib/python3.10/site-packages/requests/sessions.py?line=537'>538</a>\u001b[0m \u001b[39m:rtype: requests.Response\u001b[39;00m\n\u001b[1;32m    <a href='file:///opt/miniconda3/envs/vscode/lib/python3.10/site-packages/requests/sessions.py?line=538'>539</a>\u001b[0m \u001b[39m\"\"\"\u001b[39;00m\n\u001b[1;32m    <a href='file:///opt/miniconda3/envs/vscode/lib/python3.10/site-packages/requests/sessions.py?line=540'>541</a>\u001b[0m kwargs\u001b[39m.\u001b[39msetdefault(\u001b[39m'\u001b[39m\u001b[39mallow_redirects\u001b[39m\u001b[39m'\u001b[39m, \u001b[39mTrue\u001b[39;00m)\n\u001b[0;32m--> <a href='file:///opt/miniconda3/envs/vscode/lib/python3.10/site-packages/requests/sessions.py?line=541'>542</a>\u001b[0m \u001b[39mreturn\u001b[39;00m \u001b[39mself\u001b[39;49m\u001b[39m.\u001b[39;49mrequest(\u001b[39m'\u001b[39;49m\u001b[39mGET\u001b[39;49m\u001b[39m'\u001b[39;49m, url, \u001b[39m*\u001b[39;49m\u001b[39m*\u001b[39;49mkwargs)\n",
      "File \u001b[0;32m/opt/miniconda3/envs/vscode/lib/python3.10/site-packages/requests/sessions.py:529\u001b[0m, in \u001b[0;36mSession.request\u001b[0;34m(self, method, url, params, data, headers, cookies, files, auth, timeout, allow_redirects, proxies, hooks, stream, verify, cert, json)\u001b[0m\n\u001b[1;32m    <a href='file:///opt/miniconda3/envs/vscode/lib/python3.10/site-packages/requests/sessions.py?line=523'>524</a>\u001b[0m send_kwargs \u001b[39m=\u001b[39m {\n\u001b[1;32m    <a href='file:///opt/miniconda3/envs/vscode/lib/python3.10/site-packages/requests/sessions.py?line=524'>525</a>\u001b[0m     \u001b[39m'\u001b[39m\u001b[39mtimeout\u001b[39m\u001b[39m'\u001b[39m: timeout,\n\u001b[1;32m    <a href='file:///opt/miniconda3/envs/vscode/lib/python3.10/site-packages/requests/sessions.py?line=525'>526</a>\u001b[0m     \u001b[39m'\u001b[39m\u001b[39mallow_redirects\u001b[39m\u001b[39m'\u001b[39m: allow_redirects,\n\u001b[1;32m    <a href='file:///opt/miniconda3/envs/vscode/lib/python3.10/site-packages/requests/sessions.py?line=526'>527</a>\u001b[0m }\n\u001b[1;32m    <a href='file:///opt/miniconda3/envs/vscode/lib/python3.10/site-packages/requests/sessions.py?line=527'>528</a>\u001b[0m send_kwargs\u001b[39m.\u001b[39mupdate(settings)\n\u001b[0;32m--> <a href='file:///opt/miniconda3/envs/vscode/lib/python3.10/site-packages/requests/sessions.py?line=528'>529</a>\u001b[0m resp \u001b[39m=\u001b[39m \u001b[39mself\u001b[39;49m\u001b[39m.\u001b[39;49msend(prep, \u001b[39m*\u001b[39;49m\u001b[39m*\u001b[39;49msend_kwargs)\n\u001b[1;32m    <a href='file:///opt/miniconda3/envs/vscode/lib/python3.10/site-packages/requests/sessions.py?line=530'>531</a>\u001b[0m \u001b[39mreturn\u001b[39;00m resp\n",
      "File \u001b[0;32m/opt/miniconda3/envs/vscode/lib/python3.10/site-packages/requests/sessions.py:645\u001b[0m, in \u001b[0;36mSession.send\u001b[0;34m(self, request, **kwargs)\u001b[0m\n\u001b[1;32m    <a href='file:///opt/miniconda3/envs/vscode/lib/python3.10/site-packages/requests/sessions.py?line=641'>642</a>\u001b[0m start \u001b[39m=\u001b[39m preferred_clock()\n\u001b[1;32m    <a href='file:///opt/miniconda3/envs/vscode/lib/python3.10/site-packages/requests/sessions.py?line=643'>644</a>\u001b[0m \u001b[39m# Send the request\u001b[39;00m\n\u001b[0;32m--> <a href='file:///opt/miniconda3/envs/vscode/lib/python3.10/site-packages/requests/sessions.py?line=644'>645</a>\u001b[0m r \u001b[39m=\u001b[39m adapter\u001b[39m.\u001b[39;49msend(request, \u001b[39m*\u001b[39;49m\u001b[39m*\u001b[39;49mkwargs)\n\u001b[1;32m    <a href='file:///opt/miniconda3/envs/vscode/lib/python3.10/site-packages/requests/sessions.py?line=646'>647</a>\u001b[0m \u001b[39m# Total elapsed time of the request (approximately)\u001b[39;00m\n\u001b[1;32m    <a href='file:///opt/miniconda3/envs/vscode/lib/python3.10/site-packages/requests/sessions.py?line=647'>648</a>\u001b[0m elapsed \u001b[39m=\u001b[39m preferred_clock() \u001b[39m-\u001b[39m start\n",
      "File \u001b[0;32m/opt/miniconda3/envs/vscode/lib/python3.10/site-packages/requests/adapters.py:440\u001b[0m, in \u001b[0;36mHTTPAdapter.send\u001b[0;34m(self, request, stream, timeout, verify, cert, proxies)\u001b[0m\n\u001b[1;32m    <a href='file:///opt/miniconda3/envs/vscode/lib/python3.10/site-packages/requests/adapters.py?line=437'>438</a>\u001b[0m \u001b[39mtry\u001b[39;00m:\n\u001b[1;32m    <a href='file:///opt/miniconda3/envs/vscode/lib/python3.10/site-packages/requests/adapters.py?line=438'>439</a>\u001b[0m     \u001b[39mif\u001b[39;00m \u001b[39mnot\u001b[39;00m chunked:\n\u001b[0;32m--> <a href='file:///opt/miniconda3/envs/vscode/lib/python3.10/site-packages/requests/adapters.py?line=439'>440</a>\u001b[0m         resp \u001b[39m=\u001b[39m conn\u001b[39m.\u001b[39;49murlopen(\n\u001b[1;32m    <a href='file:///opt/miniconda3/envs/vscode/lib/python3.10/site-packages/requests/adapters.py?line=440'>441</a>\u001b[0m             method\u001b[39m=\u001b[39;49mrequest\u001b[39m.\u001b[39;49mmethod,\n\u001b[1;32m    <a href='file:///opt/miniconda3/envs/vscode/lib/python3.10/site-packages/requests/adapters.py?line=441'>442</a>\u001b[0m             url\u001b[39m=\u001b[39;49murl,\n\u001b[1;32m    <a href='file:///opt/miniconda3/envs/vscode/lib/python3.10/site-packages/requests/adapters.py?line=442'>443</a>\u001b[0m             body\u001b[39m=\u001b[39;49mrequest\u001b[39m.\u001b[39;49mbody,\n\u001b[1;32m    <a href='file:///opt/miniconda3/envs/vscode/lib/python3.10/site-packages/requests/adapters.py?line=443'>444</a>\u001b[0m             headers\u001b[39m=\u001b[39;49mrequest\u001b[39m.\u001b[39;49mheaders,\n\u001b[1;32m    <a href='file:///opt/miniconda3/envs/vscode/lib/python3.10/site-packages/requests/adapters.py?line=444'>445</a>\u001b[0m             redirect\u001b[39m=\u001b[39;49m\u001b[39mFalse\u001b[39;49;00m,\n\u001b[1;32m    <a href='file:///opt/miniconda3/envs/vscode/lib/python3.10/site-packages/requests/adapters.py?line=445'>446</a>\u001b[0m             assert_same_host\u001b[39m=\u001b[39;49m\u001b[39mFalse\u001b[39;49;00m,\n\u001b[1;32m    <a href='file:///opt/miniconda3/envs/vscode/lib/python3.10/site-packages/requests/adapters.py?line=446'>447</a>\u001b[0m             preload_content\u001b[39m=\u001b[39;49m\u001b[39mFalse\u001b[39;49;00m,\n\u001b[1;32m    <a href='file:///opt/miniconda3/envs/vscode/lib/python3.10/site-packages/requests/adapters.py?line=447'>448</a>\u001b[0m             decode_content\u001b[39m=\u001b[39;49m\u001b[39mFalse\u001b[39;49;00m,\n\u001b[1;32m    <a href='file:///opt/miniconda3/envs/vscode/lib/python3.10/site-packages/requests/adapters.py?line=448'>449</a>\u001b[0m             retries\u001b[39m=\u001b[39;49m\u001b[39mself\u001b[39;49m\u001b[39m.\u001b[39;49mmax_retries,\n\u001b[1;32m    <a href='file:///opt/miniconda3/envs/vscode/lib/python3.10/site-packages/requests/adapters.py?line=449'>450</a>\u001b[0m             timeout\u001b[39m=\u001b[39;49mtimeout\n\u001b[1;32m    <a href='file:///opt/miniconda3/envs/vscode/lib/python3.10/site-packages/requests/adapters.py?line=450'>451</a>\u001b[0m         )\n\u001b[1;32m    <a href='file:///opt/miniconda3/envs/vscode/lib/python3.10/site-packages/requests/adapters.py?line=452'>453</a>\u001b[0m     \u001b[39m# Send the request.\u001b[39;00m\n\u001b[1;32m    <a href='file:///opt/miniconda3/envs/vscode/lib/python3.10/site-packages/requests/adapters.py?line=453'>454</a>\u001b[0m     \u001b[39melse\u001b[39;00m:\n\u001b[1;32m    <a href='file:///opt/miniconda3/envs/vscode/lib/python3.10/site-packages/requests/adapters.py?line=454'>455</a>\u001b[0m         \u001b[39mif\u001b[39;00m \u001b[39mhasattr\u001b[39m(conn, \u001b[39m'\u001b[39m\u001b[39mproxy_pool\u001b[39m\u001b[39m'\u001b[39m):\n",
      "File \u001b[0;32m/opt/miniconda3/envs/vscode/lib/python3.10/site-packages/urllib3/connectionpool.py:703\u001b[0m, in \u001b[0;36mHTTPConnectionPool.urlopen\u001b[0;34m(self, method, url, body, headers, retries, redirect, assert_same_host, timeout, pool_timeout, release_conn, chunked, body_pos, **response_kw)\u001b[0m\n\u001b[1;32m    <a href='file:///opt/miniconda3/envs/vscode/lib/python3.10/site-packages/urllib3/connectionpool.py?line=699'>700</a>\u001b[0m     \u001b[39mself\u001b[39m\u001b[39m.\u001b[39m_prepare_proxy(conn)\n\u001b[1;32m    <a href='file:///opt/miniconda3/envs/vscode/lib/python3.10/site-packages/urllib3/connectionpool.py?line=701'>702</a>\u001b[0m \u001b[39m# Make the request on the httplib connection object.\u001b[39;00m\n\u001b[0;32m--> <a href='file:///opt/miniconda3/envs/vscode/lib/python3.10/site-packages/urllib3/connectionpool.py?line=702'>703</a>\u001b[0m httplib_response \u001b[39m=\u001b[39m \u001b[39mself\u001b[39;49m\u001b[39m.\u001b[39;49m_make_request(\n\u001b[1;32m    <a href='file:///opt/miniconda3/envs/vscode/lib/python3.10/site-packages/urllib3/connectionpool.py?line=703'>704</a>\u001b[0m     conn,\n\u001b[1;32m    <a href='file:///opt/miniconda3/envs/vscode/lib/python3.10/site-packages/urllib3/connectionpool.py?line=704'>705</a>\u001b[0m     method,\n\u001b[1;32m    <a href='file:///opt/miniconda3/envs/vscode/lib/python3.10/site-packages/urllib3/connectionpool.py?line=705'>706</a>\u001b[0m     url,\n\u001b[1;32m    <a href='file:///opt/miniconda3/envs/vscode/lib/python3.10/site-packages/urllib3/connectionpool.py?line=706'>707</a>\u001b[0m     timeout\u001b[39m=\u001b[39;49mtimeout_obj,\n\u001b[1;32m    <a href='file:///opt/miniconda3/envs/vscode/lib/python3.10/site-packages/urllib3/connectionpool.py?line=707'>708</a>\u001b[0m     body\u001b[39m=\u001b[39;49mbody,\n\u001b[1;32m    <a href='file:///opt/miniconda3/envs/vscode/lib/python3.10/site-packages/urllib3/connectionpool.py?line=708'>709</a>\u001b[0m     headers\u001b[39m=\u001b[39;49mheaders,\n\u001b[1;32m    <a href='file:///opt/miniconda3/envs/vscode/lib/python3.10/site-packages/urllib3/connectionpool.py?line=709'>710</a>\u001b[0m     chunked\u001b[39m=\u001b[39;49mchunked,\n\u001b[1;32m    <a href='file:///opt/miniconda3/envs/vscode/lib/python3.10/site-packages/urllib3/connectionpool.py?line=710'>711</a>\u001b[0m )\n\u001b[1;32m    <a href='file:///opt/miniconda3/envs/vscode/lib/python3.10/site-packages/urllib3/connectionpool.py?line=712'>713</a>\u001b[0m \u001b[39m# If we're going to release the connection in ``finally:``, then\u001b[39;00m\n\u001b[1;32m    <a href='file:///opt/miniconda3/envs/vscode/lib/python3.10/site-packages/urllib3/connectionpool.py?line=713'>714</a>\u001b[0m \u001b[39m# the response doesn't need to know about the connection. Otherwise\u001b[39;00m\n\u001b[1;32m    <a href='file:///opt/miniconda3/envs/vscode/lib/python3.10/site-packages/urllib3/connectionpool.py?line=714'>715</a>\u001b[0m \u001b[39m# it will also try to release it and we'll have a double-release\u001b[39;00m\n\u001b[1;32m    <a href='file:///opt/miniconda3/envs/vscode/lib/python3.10/site-packages/urllib3/connectionpool.py?line=715'>716</a>\u001b[0m \u001b[39m# mess.\u001b[39;00m\n\u001b[1;32m    <a href='file:///opt/miniconda3/envs/vscode/lib/python3.10/site-packages/urllib3/connectionpool.py?line=716'>717</a>\u001b[0m response_conn \u001b[39m=\u001b[39m conn \u001b[39mif\u001b[39;00m \u001b[39mnot\u001b[39;00m release_conn \u001b[39melse\u001b[39;00m \u001b[39mNone\u001b[39;00m\n",
      "File \u001b[0;32m/opt/miniconda3/envs/vscode/lib/python3.10/site-packages/urllib3/connectionpool.py:449\u001b[0m, in \u001b[0;36mHTTPConnectionPool._make_request\u001b[0;34m(self, conn, method, url, timeout, chunked, **httplib_request_kw)\u001b[0m\n\u001b[1;32m    <a href='file:///opt/miniconda3/envs/vscode/lib/python3.10/site-packages/urllib3/connectionpool.py?line=443'>444</a>\u001b[0m             httplib_response \u001b[39m=\u001b[39m conn\u001b[39m.\u001b[39mgetresponse()\n\u001b[1;32m    <a href='file:///opt/miniconda3/envs/vscode/lib/python3.10/site-packages/urllib3/connectionpool.py?line=444'>445</a>\u001b[0m         \u001b[39mexcept\u001b[39;00m \u001b[39mBaseException\u001b[39;00m \u001b[39mas\u001b[39;00m e:\n\u001b[1;32m    <a href='file:///opt/miniconda3/envs/vscode/lib/python3.10/site-packages/urllib3/connectionpool.py?line=445'>446</a>\u001b[0m             \u001b[39m# Remove the TypeError from the exception chain in\u001b[39;00m\n\u001b[1;32m    <a href='file:///opt/miniconda3/envs/vscode/lib/python3.10/site-packages/urllib3/connectionpool.py?line=446'>447</a>\u001b[0m             \u001b[39m# Python 3 (including for exceptions like SystemExit).\u001b[39;00m\n\u001b[1;32m    <a href='file:///opt/miniconda3/envs/vscode/lib/python3.10/site-packages/urllib3/connectionpool.py?line=447'>448</a>\u001b[0m             \u001b[39m# Otherwise it looks like a bug in the code.\u001b[39;00m\n\u001b[0;32m--> <a href='file:///opt/miniconda3/envs/vscode/lib/python3.10/site-packages/urllib3/connectionpool.py?line=448'>449</a>\u001b[0m             six\u001b[39m.\u001b[39;49mraise_from(e, \u001b[39mNone\u001b[39;49;00m)\n\u001b[1;32m    <a href='file:///opt/miniconda3/envs/vscode/lib/python3.10/site-packages/urllib3/connectionpool.py?line=449'>450</a>\u001b[0m \u001b[39mexcept\u001b[39;00m (SocketTimeout, BaseSSLError, SocketError) \u001b[39mas\u001b[39;00m e:\n\u001b[1;32m    <a href='file:///opt/miniconda3/envs/vscode/lib/python3.10/site-packages/urllib3/connectionpool.py?line=450'>451</a>\u001b[0m     \u001b[39mself\u001b[39m\u001b[39m.\u001b[39m_raise_timeout(err\u001b[39m=\u001b[39me, url\u001b[39m=\u001b[39murl, timeout_value\u001b[39m=\u001b[39mread_timeout)\n",
      "File \u001b[0;32m<string>:3\u001b[0m, in \u001b[0;36mraise_from\u001b[0;34m(value, from_value)\u001b[0m\n",
      "File \u001b[0;32m/opt/miniconda3/envs/vscode/lib/python3.10/site-packages/urllib3/connectionpool.py:444\u001b[0m, in \u001b[0;36mHTTPConnectionPool._make_request\u001b[0;34m(self, conn, method, url, timeout, chunked, **httplib_request_kw)\u001b[0m\n\u001b[1;32m    <a href='file:///opt/miniconda3/envs/vscode/lib/python3.10/site-packages/urllib3/connectionpool.py?line=440'>441</a>\u001b[0m \u001b[39mexcept\u001b[39;00m \u001b[39mTypeError\u001b[39;00m:\n\u001b[1;32m    <a href='file:///opt/miniconda3/envs/vscode/lib/python3.10/site-packages/urllib3/connectionpool.py?line=441'>442</a>\u001b[0m     \u001b[39m# Python 3\u001b[39;00m\n\u001b[1;32m    <a href='file:///opt/miniconda3/envs/vscode/lib/python3.10/site-packages/urllib3/connectionpool.py?line=442'>443</a>\u001b[0m     \u001b[39mtry\u001b[39;00m:\n\u001b[0;32m--> <a href='file:///opt/miniconda3/envs/vscode/lib/python3.10/site-packages/urllib3/connectionpool.py?line=443'>444</a>\u001b[0m         httplib_response \u001b[39m=\u001b[39m conn\u001b[39m.\u001b[39;49mgetresponse()\n\u001b[1;32m    <a href='file:///opt/miniconda3/envs/vscode/lib/python3.10/site-packages/urllib3/connectionpool.py?line=444'>445</a>\u001b[0m     \u001b[39mexcept\u001b[39;00m \u001b[39mBaseException\u001b[39;00m \u001b[39mas\u001b[39;00m e:\n\u001b[1;32m    <a href='file:///opt/miniconda3/envs/vscode/lib/python3.10/site-packages/urllib3/connectionpool.py?line=445'>446</a>\u001b[0m         \u001b[39m# Remove the TypeError from the exception chain in\u001b[39;00m\n\u001b[1;32m    <a href='file:///opt/miniconda3/envs/vscode/lib/python3.10/site-packages/urllib3/connectionpool.py?line=446'>447</a>\u001b[0m         \u001b[39m# Python 3 (including for exceptions like SystemExit).\u001b[39;00m\n\u001b[1;32m    <a href='file:///opt/miniconda3/envs/vscode/lib/python3.10/site-packages/urllib3/connectionpool.py?line=447'>448</a>\u001b[0m         \u001b[39m# Otherwise it looks like a bug in the code.\u001b[39;00m\n\u001b[1;32m    <a href='file:///opt/miniconda3/envs/vscode/lib/python3.10/site-packages/urllib3/connectionpool.py?line=448'>449</a>\u001b[0m         six\u001b[39m.\u001b[39mraise_from(e, \u001b[39mNone\u001b[39;00m)\n",
      "File \u001b[0;32m/opt/miniconda3/envs/vscode/lib/python3.10/http/client.py:1374\u001b[0m, in \u001b[0;36mHTTPConnection.getresponse\u001b[0;34m(self)\u001b[0m\n\u001b[1;32m   <a href='file:///opt/miniconda3/envs/vscode/lib/python3.10/http/client.py?line=1371'>1372</a>\u001b[0m \u001b[39mtry\u001b[39;00m:\n\u001b[1;32m   <a href='file:///opt/miniconda3/envs/vscode/lib/python3.10/http/client.py?line=1372'>1373</a>\u001b[0m     \u001b[39mtry\u001b[39;00m:\n\u001b[0;32m-> <a href='file:///opt/miniconda3/envs/vscode/lib/python3.10/http/client.py?line=1373'>1374</a>\u001b[0m         response\u001b[39m.\u001b[39;49mbegin()\n\u001b[1;32m   <a href='file:///opt/miniconda3/envs/vscode/lib/python3.10/http/client.py?line=1374'>1375</a>\u001b[0m     \u001b[39mexcept\u001b[39;00m \u001b[39mConnectionError\u001b[39;00m:\n\u001b[1;32m   <a href='file:///opt/miniconda3/envs/vscode/lib/python3.10/http/client.py?line=1375'>1376</a>\u001b[0m         \u001b[39mself\u001b[39m\u001b[39m.\u001b[39mclose()\n",
      "File \u001b[0;32m/opt/miniconda3/envs/vscode/lib/python3.10/http/client.py:318\u001b[0m, in \u001b[0;36mHTTPResponse.begin\u001b[0;34m(self)\u001b[0m\n\u001b[1;32m    <a href='file:///opt/miniconda3/envs/vscode/lib/python3.10/http/client.py?line=315'>316</a>\u001b[0m \u001b[39m# read until we get a non-100 response\u001b[39;00m\n\u001b[1;32m    <a href='file:///opt/miniconda3/envs/vscode/lib/python3.10/http/client.py?line=316'>317</a>\u001b[0m \u001b[39mwhile\u001b[39;00m \u001b[39mTrue\u001b[39;00m:\n\u001b[0;32m--> <a href='file:///opt/miniconda3/envs/vscode/lib/python3.10/http/client.py?line=317'>318</a>\u001b[0m     version, status, reason \u001b[39m=\u001b[39m \u001b[39mself\u001b[39;49m\u001b[39m.\u001b[39;49m_read_status()\n\u001b[1;32m    <a href='file:///opt/miniconda3/envs/vscode/lib/python3.10/http/client.py?line=318'>319</a>\u001b[0m     \u001b[39mif\u001b[39;00m status \u001b[39m!=\u001b[39m CONTINUE:\n\u001b[1;32m    <a href='file:///opt/miniconda3/envs/vscode/lib/python3.10/http/client.py?line=319'>320</a>\u001b[0m         \u001b[39mbreak\u001b[39;00m\n",
      "File \u001b[0;32m/opt/miniconda3/envs/vscode/lib/python3.10/http/client.py:279\u001b[0m, in \u001b[0;36mHTTPResponse._read_status\u001b[0;34m(self)\u001b[0m\n\u001b[1;32m    <a href='file:///opt/miniconda3/envs/vscode/lib/python3.10/http/client.py?line=277'>278</a>\u001b[0m \u001b[39mdef\u001b[39;00m \u001b[39m_read_status\u001b[39m(\u001b[39mself\u001b[39m):\n\u001b[0;32m--> <a href='file:///opt/miniconda3/envs/vscode/lib/python3.10/http/client.py?line=278'>279</a>\u001b[0m     line \u001b[39m=\u001b[39m \u001b[39mstr\u001b[39m(\u001b[39mself\u001b[39;49m\u001b[39m.\u001b[39;49mfp\u001b[39m.\u001b[39;49mreadline(_MAXLINE \u001b[39m+\u001b[39;49m \u001b[39m1\u001b[39;49m), \u001b[39m\"\u001b[39m\u001b[39miso-8859-1\u001b[39m\u001b[39m\"\u001b[39m)\n\u001b[1;32m    <a href='file:///opt/miniconda3/envs/vscode/lib/python3.10/http/client.py?line=279'>280</a>\u001b[0m     \u001b[39mif\u001b[39;00m \u001b[39mlen\u001b[39m(line) \u001b[39m>\u001b[39m _MAXLINE:\n\u001b[1;32m    <a href='file:///opt/miniconda3/envs/vscode/lib/python3.10/http/client.py?line=280'>281</a>\u001b[0m         \u001b[39mraise\u001b[39;00m LineTooLong(\u001b[39m\"\u001b[39m\u001b[39mstatus line\u001b[39m\u001b[39m\"\u001b[39m)\n",
      "File \u001b[0;32m/opt/miniconda3/envs/vscode/lib/python3.10/socket.py:705\u001b[0m, in \u001b[0;36mSocketIO.readinto\u001b[0;34m(self, b)\u001b[0m\n\u001b[1;32m    <a href='file:///opt/miniconda3/envs/vscode/lib/python3.10/socket.py?line=702'>703</a>\u001b[0m \u001b[39mwhile\u001b[39;00m \u001b[39mTrue\u001b[39;00m:\n\u001b[1;32m    <a href='file:///opt/miniconda3/envs/vscode/lib/python3.10/socket.py?line=703'>704</a>\u001b[0m     \u001b[39mtry\u001b[39;00m:\n\u001b[0;32m--> <a href='file:///opt/miniconda3/envs/vscode/lib/python3.10/socket.py?line=704'>705</a>\u001b[0m         \u001b[39mreturn\u001b[39;00m \u001b[39mself\u001b[39;49m\u001b[39m.\u001b[39;49m_sock\u001b[39m.\u001b[39;49mrecv_into(b)\n\u001b[1;32m    <a href='file:///opt/miniconda3/envs/vscode/lib/python3.10/socket.py?line=705'>706</a>\u001b[0m     \u001b[39mexcept\u001b[39;00m timeout:\n\u001b[1;32m    <a href='file:///opt/miniconda3/envs/vscode/lib/python3.10/socket.py?line=706'>707</a>\u001b[0m         \u001b[39mself\u001b[39m\u001b[39m.\u001b[39m_timeout_occurred \u001b[39m=\u001b[39m \u001b[39mTrue\u001b[39;00m\n",
      "File \u001b[0;32m/opt/miniconda3/envs/vscode/lib/python3.10/ssl.py:1273\u001b[0m, in \u001b[0;36mSSLSocket.recv_into\u001b[0;34m(self, buffer, nbytes, flags)\u001b[0m\n\u001b[1;32m   <a href='file:///opt/miniconda3/envs/vscode/lib/python3.10/ssl.py?line=1268'>1269</a>\u001b[0m     \u001b[39mif\u001b[39;00m flags \u001b[39m!=\u001b[39m \u001b[39m0\u001b[39m:\n\u001b[1;32m   <a href='file:///opt/miniconda3/envs/vscode/lib/python3.10/ssl.py?line=1269'>1270</a>\u001b[0m         \u001b[39mraise\u001b[39;00m \u001b[39mValueError\u001b[39;00m(\n\u001b[1;32m   <a href='file:///opt/miniconda3/envs/vscode/lib/python3.10/ssl.py?line=1270'>1271</a>\u001b[0m           \u001b[39m\"\u001b[39m\u001b[39mnon-zero flags not allowed in calls to recv_into() on \u001b[39m\u001b[39m%s\u001b[39;00m\u001b[39m\"\u001b[39m \u001b[39m%\u001b[39m\n\u001b[1;32m   <a href='file:///opt/miniconda3/envs/vscode/lib/python3.10/ssl.py?line=1271'>1272</a>\u001b[0m           \u001b[39mself\u001b[39m\u001b[39m.\u001b[39m\u001b[39m__class__\u001b[39m)\n\u001b[0;32m-> <a href='file:///opt/miniconda3/envs/vscode/lib/python3.10/ssl.py?line=1272'>1273</a>\u001b[0m     \u001b[39mreturn\u001b[39;00m \u001b[39mself\u001b[39;49m\u001b[39m.\u001b[39;49mread(nbytes, buffer)\n\u001b[1;32m   <a href='file:///opt/miniconda3/envs/vscode/lib/python3.10/ssl.py?line=1273'>1274</a>\u001b[0m \u001b[39melse\u001b[39;00m:\n\u001b[1;32m   <a href='file:///opt/miniconda3/envs/vscode/lib/python3.10/ssl.py?line=1274'>1275</a>\u001b[0m     \u001b[39mreturn\u001b[39;00m \u001b[39msuper\u001b[39m()\u001b[39m.\u001b[39mrecv_into(buffer, nbytes, flags)\n",
      "File \u001b[0;32m/opt/miniconda3/envs/vscode/lib/python3.10/ssl.py:1129\u001b[0m, in \u001b[0;36mSSLSocket.read\u001b[0;34m(self, len, buffer)\u001b[0m\n\u001b[1;32m   <a href='file:///opt/miniconda3/envs/vscode/lib/python3.10/ssl.py?line=1126'>1127</a>\u001b[0m \u001b[39mtry\u001b[39;00m:\n\u001b[1;32m   <a href='file:///opt/miniconda3/envs/vscode/lib/python3.10/ssl.py?line=1127'>1128</a>\u001b[0m     \u001b[39mif\u001b[39;00m buffer \u001b[39mis\u001b[39;00m \u001b[39mnot\u001b[39;00m \u001b[39mNone\u001b[39;00m:\n\u001b[0;32m-> <a href='file:///opt/miniconda3/envs/vscode/lib/python3.10/ssl.py?line=1128'>1129</a>\u001b[0m         \u001b[39mreturn\u001b[39;00m \u001b[39mself\u001b[39;49m\u001b[39m.\u001b[39;49m_sslobj\u001b[39m.\u001b[39;49mread(\u001b[39mlen\u001b[39;49m, buffer)\n\u001b[1;32m   <a href='file:///opt/miniconda3/envs/vscode/lib/python3.10/ssl.py?line=1129'>1130</a>\u001b[0m     \u001b[39melse\u001b[39;00m:\n\u001b[1;32m   <a href='file:///opt/miniconda3/envs/vscode/lib/python3.10/ssl.py?line=1130'>1131</a>\u001b[0m         \u001b[39mreturn\u001b[39;00m \u001b[39mself\u001b[39m\u001b[39m.\u001b[39m_sslobj\u001b[39m.\u001b[39mread(\u001b[39mlen\u001b[39m)\n",
      "\u001b[0;31mKeyboardInterrupt\u001b[0m: "
     ]
    }
   ],
   "source": [
    "end_locations = geocode(powerlines['End'], provider='nominatim', user_agent='plm', timeout=4)\n",
    "end_locations"
   ]
  },
  {
   "cell_type": "markdown",
   "metadata": {},
   "source": [
    "Merge into powerlines dataset"
   ]
  },
  {
   "cell_type": "code",
   "execution_count": null,
   "metadata": {},
   "outputs": [],
   "source": [
    "powerlines_geo_start = start_locations.join(powerlines, how = 'left')\n",
    "powerlines_geo_start.rename(columns = {'geometry':'Start_geometry', 'address':'Start_address'}, inplace = True)\n",
    "powerlines_geo = end_locations.join(powerlines_geo_start, how = 'left')\n",
    "powerlines_geo.rename(columns = {'geometry':'End_geometry', 'address':'End_address'}, inplace = True)\n",
    "powerlines_geo = powerlines_geo.reindex(columns=['# BBPlG 2013', 'Start', 'Start_address', 'Start_geometry', 'End', 'End_address', 'End_geometry', 'direct_line', 'New', 'Retro'])\n",
    "powerlines_geo"
   ]
  },
  {
   "cell_type": "markdown",
   "metadata": {},
   "source": [
    "Create direct line from start and end coordinates"
   ]
  },
  {
   "cell_type": "code",
   "execution_count": null,
   "metadata": {},
   "outputs": [],
   "source": [
    "for i in range (0, len(powerlines_geo)):\n",
    "    start = powerlines_geo['Start_geometry'].loc[powerlines_geo.index[i]]\n",
    "    end = powerlines_geo['End_geometry'].loc[powerlines_geo.index[i]]\n",
    "    powerlines_geo['direct_line'].loc[powerlines_geo.index[i]] = LineString([start, end])\n",
    "powerlines_geo.head()"
   ]
  },
  {
   "cell_type": "markdown",
   "metadata": {},
   "source": [
    "Export shapefile"
   ]
  },
  {
   "cell_type": "code",
   "execution_count": null,
   "metadata": {},
   "outputs": [],
   "source": [
    "powerlines_geo.rename(columns = {'direct_line':'geometry'}, inplace = True)\n",
    "powerlines_geo = powerlines_geo.reindex(columns=['#BBPlG2013', 'Start', 'End', 'geometry', 'New', 'Retro'])\n",
    "powerlines_geo.to_file(f'{path}/data/geodata/powerlines.shp')"
   ]
  }
 ],
 "metadata": {
  "interpreter": {
   "hash": "88be3cbefcf0764a65175a6561fd304411aaded24422f3185dd5fe11d8fe4862"
  },
  "kernelspec": {
   "display_name": "Python 3.9.12 ('vscode')",
   "language": "python",
   "name": "python3"
  },
  "language_info": {
   "codemirror_mode": {
    "name": "ipython",
    "version": 3
   },
   "file_extension": ".py",
   "mimetype": "text/x-python",
   "name": "python",
   "nbconvert_exporter": "python",
   "pygments_lexer": "ipython3",
   "version": "3.10.4"
  },
  "orig_nbformat": 4
 },
 "nbformat": 4,
 "nbformat_minor": 2
}
