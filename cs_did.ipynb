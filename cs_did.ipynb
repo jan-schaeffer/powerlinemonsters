{
 "cells": [
  {
   "cell_type": "markdown",
   "metadata": {},
   "source": [
    "Setup Environment"
   ]
  },
  {
   "cell_type": "code",
   "execution_count": 26,
   "metadata": {
    "vscode": {
     "languageId": "r"
    }
   },
   "outputs": [
    {
     "data": {
      "text/html": [
       "'/Users/jan/Dropbox/UP_EPQM/2222/MA/powerlinemonsters'"
      ],
      "text/latex": [
       "'/Users/jan/Dropbox/UP\\_EPQM/2222/MA/powerlinemonsters'"
      ],
      "text/markdown": [
       "'/Users/jan/Dropbox/UP_EPQM/2222/MA/powerlinemonsters'"
      ],
      "text/plain": [
       "[1] \"/Users/jan/Dropbox/UP_EPQM/2222/MA/powerlinemonsters\""
      ]
     },
     "metadata": {},
     "output_type": "display_data"
    }
   ],
   "source": [
    "# Clear the R environment and set working directory\n",
    "rm(list = ls())\n",
    "setwd(\"/Users/jan/Dropbox/UP_EPQM/2222/MA/powerlinemonsters\")\n",
    "path <- getwd()\n",
    "path \n",
    "options(warn=-1)"
   ]
  },
  {
   "cell_type": "markdown",
   "metadata": {},
   "source": [
    "Load packages"
   ]
  },
  {
   "cell_type": "code",
   "execution_count": 89,
   "metadata": {
    "vscode": {
     "languageId": "r"
    }
   },
   "outputs": [
    {
     "name": "stdout",
     "output_type": "stream",
     "text": [
      "\n",
      "The downloaded binary packages are in\n",
      "\t/var/folders/wm/mtrphj0s0msgrmyshf3hgk740000gn/T//RtmpCM358d/downloaded_packages\n"
     ]
    },
    {
     "data": {
      "text/html": [
       "'/Library/Frameworks/R.framework/Versions/4.2-arm64/Resources/library'"
      ],
      "text/latex": [
       "'/Library/Frameworks/R.framework/Versions/4.2-arm64/Resources/library'"
      ],
      "text/markdown": [
       "'/Library/Frameworks/R.framework/Versions/4.2-arm64/Resources/library'"
      ],
      "text/plain": [
       "[1] \"/Library/Frameworks/R.framework/Versions/4.2-arm64/Resources/library\""
      ]
     },
     "metadata": {},
     "output_type": "display_data"
    }
   ],
   "source": [
    "# Install and load additional packages needed\n",
    "#install.packages(\"stringr\")\n",
    "library(did)\n",
    "library(rio)\n",
    "library(ggplot2)\n",
    "library(ggpubr)\n",
    "library(hash)\n",
    ".libPaths()"
   ]
  },
  {
   "cell_type": "markdown",
   "metadata": {},
   "source": [
    "Setup TeX Code to integrate figures"
   ]
  },
  {
   "cell_type": "code",
   "execution_count": 113,
   "metadata": {
    "vscode": {
     "languageId": "r"
    }
   },
   "outputs": [],
   "source": [
    "fig_tex <- r\"(\\renewcommand{\\thefigure}{%s} \\begin{figure} \\centering \\includegraphics[width=1\\textwidth]{%s} \\captionlistentry{%s} \\label{fig:%s} \\end{figure})\"\n",
    "figs_tex <- list()"
   ]
  },
  {
   "cell_type": "markdown",
   "metadata": {},
   "source": [
    "DiD for BTW no controls"
   ]
  },
  {
   "cell_type": "code",
   "execution_count": 114,
   "metadata": {
    "vscode": {
     "languageId": "r"
    }
   },
   "outputs": [],
   "source": [
    "# read in the data set\n",
    "btw <- import(sprintf(\"%s/data/btw_treat.csv\", path))"
   ]
  },
  {
   "cell_type": "code",
   "execution_count": 119,
   "metadata": {
    "vscode": {
     "languageId": "r"
    }
   },
   "outputs": [
    {
     "name": "stdout",
     "output_type": "stream",
     "text": [
      "[1] \"Union\"\n",
      "[1] \"SPD\"\n",
      "[1] \"FDP\"\n",
      "[1] \"Linke\"\n",
      "[1] \"Grüne\"\n",
      "[1] \"Andere\"\n"
     ]
    }
   ],
   "source": [
    "parties <- c('Union', 'SPD', 'FDP', 'Linke', 'Grüne', 'Andere')\n",
    "treatments_dict <- hash('treatment_0'='Direct Line', 'treatment_15'='Within 0-15 km', 'treatment_30'='Within 15-30 km', 'treatment_50'='Within 30-50 km')\n",
    "treatments <- keys(treatments_dict)\n",
    "results  <- list()\n",
    "# set up Fig Number\n",
    "n <- 1\n",
    "for(party in parties){\n",
    "  figures  <- list()\n",
    "  for(treatment in treatments){\n",
    "    result <- att_gt(yname = party,\n",
    "                  gname = treatment,\n",
    "                  idname = 'AGS',\n",
    "                  panel = TRUE,\n",
    "                  tname = 'year',\n",
    "                  xformla = ~ 1,\n",
    "                  data = btw,\n",
    "                  est_method = 'reg',\n",
    "                  anticipation = 0,\n",
    "                  control_group = 'nevertreated',\n",
    "                  clustervars = c('AGS'),\n",
    "                  bstrap = TRUE,\n",
    "                  cband = TRUE,\n",
    "                  allow_unbalanced_panel = TRUE,\n",
    "                  \n",
    "    )\n",
    "    results[[length(results)+1]] <- result\n",
    "    # calculate ATT\n",
    "    att <- aggte(result, type = \"group\", bstrap = TRUE, clustervars = c('AGS'))\n",
    "    # plot results\n",
    "    result_fig <- ggdid(result, \n",
    "              ylim = c(floor(min(result$att - result$se * 2.345 - 1)), ceiling(max(result$att + result$se * 2.345 + 1))),\n",
    "              ncol = 3, ax_text_size = 8, grtitle='', title_size = 10, legend=F) +\n",
    "              labs(caption = sprintf('Overall ATT (SE): %.3f (%.3f) \\n Wald-p: %.3f; Municipalities: %s \\n' ,\n",
    "              att$overall.att, att$overall.se, result$Wpval, format(format(result$n, big.mark=\",\"), big.mark=\",\"))) +\n",
    "              theme(plot.caption = element_text(hjust=0.5, size=8),\n",
    "              panel.background = element_rect(fill='transparent'),\n",
    "              plot.background = element_rect(fill='transparent', color=NA),\n",
    "              legend.background = element_rect(fill='transparent'),\n",
    "              legend.box.background = element_rect(fill='transparent'),\n",
    "              plot.margin=unit(c(0,0,0,0),\"cm\"))\n",
    "    # Get caption for ATT plot\n",
    "    cap = ''\n",
    "      for(i in 1:length(att$DIDparams$glist)) {\n",
    "        cap <- sprintf('%s ATT (SE): %.3f (%.3f)\\n%s', att$DIDparams$glist[[i]], att$att.egt[[i]], att$se.egt[[i]], cap)\n",
    "      }\n",
    "    # Plot ATT\n",
    "    att_fig <- ggdid(att, legend=F, x_lab='', ax_text_size = 8, ylab='', title='ATT by group', title_size = 10) + \n",
    "    labs(caption = cap) + \n",
    "              theme(plot.caption = element_text(hjust=0.5, size=8), \n",
    "              axis.title.x = element_blank(),\n",
    "              axis.text.y = element_text(angle=90, size=6, hjust=0.5),\n",
    "              panel.background = element_rect(fill='transparent'),\n",
    "              plot.background = element_rect(fill='transparent', color=NA),\n",
    "              legend.background = element_rect(fill='transparent'),\n",
    "              legend.box.background = element_rect(fill='transparent'),\n",
    "              plot.margin=unit(c(0,0,0,0),\"cm\"))\n",
    "    # Combine and annotate Group and ATT plot\n",
    "    # Get number of results plots\n",
    "    nr <- length(unique(result_fig$data$grtitle))\n",
    "    combined_fig <- ggarrange(result_fig, att_fig, widths = c(nr, 1)) + \n",
    "                    theme(plot.margin=unit(c(0,0,0,0),\"cm\"))\n",
    "    combined_fig_anno <- annotate_figure(combined_fig,\n",
    "                  top = text_grob(sprintf('Treatment: %s', treatments_dict[[treatment]])))\n",
    "    figures[[length(figures)+1]] <- combined_fig_anno\n",
    "  }\n",
    "  # Combine Figures for all treatments\n",
    "  arranged_fig <- ggarrange(plotlist=figures, nrow = 4, ncol = 1, common.legend = TRUE)\n",
    "  # get legend\n",
    "  result_fig <- ggdid(result) +\n",
    "              theme(\n",
    "              legend.background = element_rect(fill='transparent', color='transparent'),\n",
    "              legend.box.background = element_rect(fill='transparent', color='transparent'),\n",
    "              plot.margin=unit(c(0,0,0,0),\"cm\"))\n",
    "  leg <- get_legend(result_fig)\n",
    "  # add legend\n",
    "  arranged_fig_leg <- ggarrange(arranged_fig, leg, nrow = 2, ncol = 1, heights = c(10, 1))\n",
    "  # Annotate final figure\n",
    "  title <- sprintf(\"BTW - Effect on %s's vote share \\n no controls\", party)\n",
    "  final_fig <- annotate_figure(arranged_fig_leg,\n",
    "                  top = text_grob(title, face = \"bold\", size = 14),\n",
    "                  bottom = text_grob('Control Group: Never Treated. Estimation Method: Regression \\n Standard Errors clustered on the municipality level.', size = 10))\n",
    "  # Add Figure number\n",
    "  number <- sprintf(\"R%s\", n)\n",
    "  final_fig <- annotate_figure(final_fig, top = text_grob(sprintf(\"Fig.: \", number), face = \"bold\", size = 10))\n",
    "  # Save\n",
    "  filename <- sprintf('%s_%s.png', n, party)\n",
    "  ggsave(filename, plot = final_fig, path = sprintf('%s/figures/R/BTW/pooled', path), units = 'cm', width = 21, height = 21, dpi=\"print\")\n",
    "  # Add Reference to figs list\n",
    "  figs_tex[[length(figs_tex)+1]] <- sprintf(fig_tex, number, filename, title, number)\n",
    "  print(party)\n",
    "  n <- n + 1\n",
    "}"
   ]
  },
  {
   "cell_type": "code",
   "execution_count": 120,
   "metadata": {
    "vscode": {
     "languageId": "r"
    }
   },
   "outputs": [
    {
     "data": {
      "text/html": [
       "<ol>\n",
       "\t<li>'\\\\renewcommand{\\\\thefigure}{R1} \\\\begin{figure} \\\\centering \\\\includegraphics[width=1\\\\textwidth]{1_Union.png} \\\\captionlistentry{Union} \\\\label{fig:R1} \\\\end{figure}'</li>\n",
       "\t<li>'\\\\renewcommand{\\\\thefigure}{R1} \\\\begin{figure} \\\\centering \\\\includegraphics[width=1\\\\textwidth]{1_Union.png} \\\\captionlistentry{Union} \\\\label{fig:R1} \\\\end{figure}'</li>\n",
       "\t<li>'\\\\renewcommand{\\\\thefigure}{R1} \\\\begin{figure} \\\\centering \\\\includegraphics[width=1\\\\textwidth]{1_Union.png} \\\\captionlistentry{Union} \\\\label{fig:R1} \\\\end{figure}'</li>\n",
       "\t<li>'\\\\renewcommand{\\\\thefigure}{R1} \\\\begin{figure} \\\\centering \\\\includegraphics[width=1\\\\textwidth]{1_Union.png} \\\\captionlistentry{Union} \\\\label{fig:R1} \\\\end{figure}'</li>\n",
       "\t<li>'\\\\renewcommand{\\\\thefigure}{R1} \\\\begin{figure} \\\\centering \\\\includegraphics[width=1\\\\textwidth]{1_Union.png} \\\\captionlistentry{Union} \\\\label{fig:R1} \\\\end{figure}'</li>\n",
       "\t<li>'\\\\renewcommand{\\\\thefigure}{R1} \\\\begin{figure} \\\\centering \\\\includegraphics[width=1\\\\textwidth]{1_Union.png} \\\\captionlistentry{Union} \\\\label{fig:R1} \\\\end{figure}'</li>\n",
       "\t<li>'\\\\renewcommand{\\\\thefigure}{Fig.: R1} \\\\begin{figure} \\\\centering \\\\includegraphics[width=1\\\\textwidth]{1_Union.png} \\\\captionlistentry{BTW - Effect on Union\\'s vote share \\n no controls} \\\\label{fig:Fig.: R1} \\\\end{figure}'</li>\n",
       "\t<li>'\\\\renewcommand{\\\\thefigure}{Fig.: R2} \\\\begin{figure} \\\\centering \\\\includegraphics[width=1\\\\textwidth]{2_SPD.png} \\\\captionlistentry{BTW - Effect on SPD\\'s vote share \\n no controls} \\\\label{fig:Fig.: R2} \\\\end{figure}'</li>\n",
       "\t<li>'\\\\renewcommand{\\\\thefigure}{Fig.: R3} \\\\begin{figure} \\\\centering \\\\includegraphics[width=1\\\\textwidth]{3_FDP.png} \\\\captionlistentry{BTW - Effect on FDP\\'s vote share \\n no controls} \\\\label{fig:Fig.: R3} \\\\end{figure}'</li>\n",
       "\t<li>'\\\\renewcommand{\\\\thefigure}{Fig.: R4} \\\\begin{figure} \\\\centering \\\\includegraphics[width=1\\\\textwidth]{4_Linke.png} \\\\captionlistentry{BTW - Effect on Linke\\'s vote share \\n no controls} \\\\label{fig:Fig.: R4} \\\\end{figure}'</li>\n",
       "\t<li>'\\\\renewcommand{\\\\thefigure}{Fig.: R5} \\\\begin{figure} \\\\centering \\\\includegraphics[width=1\\\\textwidth]{5_Grüne.png} \\\\captionlistentry{BTW - Effect on Grüne\\'s vote share \\n no controls} \\\\label{fig:Fig.: R5} \\\\end{figure}'</li>\n",
       "\t<li>'\\\\renewcommand{\\\\thefigure}{Fig.: R6} \\\\begin{figure} \\\\centering \\\\includegraphics[width=1\\\\textwidth]{6_Andere.png} \\\\captionlistentry{BTW - Effect on Andere\\'s vote share \\n no controls} \\\\label{fig:Fig.: R6} \\\\end{figure}'</li>\n",
       "</ol>\n"
      ],
      "text/latex": [
       "\\begin{enumerate}\n",
       "\\item '\\textbackslash{}\\textbackslash{}renewcommand\\{\\textbackslash{}\\textbackslash{}thefigure\\}\\{R1\\} \\textbackslash{}\\textbackslash{}begin\\{figure\\} \\textbackslash{}\\textbackslash{}centering \\textbackslash{}\\textbackslash{}includegraphics{[}width=1\\textbackslash{}\\textbackslash{}textwidth{]}\\{1\\_Union.png\\} \\textbackslash{}\\textbackslash{}captionlistentry\\{Union\\} \\textbackslash{}\\textbackslash{}label\\{fig:R1\\} \\textbackslash{}\\textbackslash{}end\\{figure\\}'\n",
       "\\item '\\textbackslash{}\\textbackslash{}renewcommand\\{\\textbackslash{}\\textbackslash{}thefigure\\}\\{R1\\} \\textbackslash{}\\textbackslash{}begin\\{figure\\} \\textbackslash{}\\textbackslash{}centering \\textbackslash{}\\textbackslash{}includegraphics{[}width=1\\textbackslash{}\\textbackslash{}textwidth{]}\\{1\\_Union.png\\} \\textbackslash{}\\textbackslash{}captionlistentry\\{Union\\} \\textbackslash{}\\textbackslash{}label\\{fig:R1\\} \\textbackslash{}\\textbackslash{}end\\{figure\\}'\n",
       "\\item '\\textbackslash{}\\textbackslash{}renewcommand\\{\\textbackslash{}\\textbackslash{}thefigure\\}\\{R1\\} \\textbackslash{}\\textbackslash{}begin\\{figure\\} \\textbackslash{}\\textbackslash{}centering \\textbackslash{}\\textbackslash{}includegraphics{[}width=1\\textbackslash{}\\textbackslash{}textwidth{]}\\{1\\_Union.png\\} \\textbackslash{}\\textbackslash{}captionlistentry\\{Union\\} \\textbackslash{}\\textbackslash{}label\\{fig:R1\\} \\textbackslash{}\\textbackslash{}end\\{figure\\}'\n",
       "\\item '\\textbackslash{}\\textbackslash{}renewcommand\\{\\textbackslash{}\\textbackslash{}thefigure\\}\\{R1\\} \\textbackslash{}\\textbackslash{}begin\\{figure\\} \\textbackslash{}\\textbackslash{}centering \\textbackslash{}\\textbackslash{}includegraphics{[}width=1\\textbackslash{}\\textbackslash{}textwidth{]}\\{1\\_Union.png\\} \\textbackslash{}\\textbackslash{}captionlistentry\\{Union\\} \\textbackslash{}\\textbackslash{}label\\{fig:R1\\} \\textbackslash{}\\textbackslash{}end\\{figure\\}'\n",
       "\\item '\\textbackslash{}\\textbackslash{}renewcommand\\{\\textbackslash{}\\textbackslash{}thefigure\\}\\{R1\\} \\textbackslash{}\\textbackslash{}begin\\{figure\\} \\textbackslash{}\\textbackslash{}centering \\textbackslash{}\\textbackslash{}includegraphics{[}width=1\\textbackslash{}\\textbackslash{}textwidth{]}\\{1\\_Union.png\\} \\textbackslash{}\\textbackslash{}captionlistentry\\{Union\\} \\textbackslash{}\\textbackslash{}label\\{fig:R1\\} \\textbackslash{}\\textbackslash{}end\\{figure\\}'\n",
       "\\item '\\textbackslash{}\\textbackslash{}renewcommand\\{\\textbackslash{}\\textbackslash{}thefigure\\}\\{R1\\} \\textbackslash{}\\textbackslash{}begin\\{figure\\} \\textbackslash{}\\textbackslash{}centering \\textbackslash{}\\textbackslash{}includegraphics{[}width=1\\textbackslash{}\\textbackslash{}textwidth{]}\\{1\\_Union.png\\} \\textbackslash{}\\textbackslash{}captionlistentry\\{Union\\} \\textbackslash{}\\textbackslash{}label\\{fig:R1\\} \\textbackslash{}\\textbackslash{}end\\{figure\\}'\n",
       "\\item '\\textbackslash{}\\textbackslash{}renewcommand\\{\\textbackslash{}\\textbackslash{}thefigure\\}\\{Fig.: R1\\} \\textbackslash{}\\textbackslash{}begin\\{figure\\} \\textbackslash{}\\textbackslash{}centering \\textbackslash{}\\textbackslash{}includegraphics{[}width=1\\textbackslash{}\\textbackslash{}textwidth{]}\\{1\\_Union.png\\} \\textbackslash{}\\textbackslash{}captionlistentry\\{BTW - Effect on Union\\textbackslash{}'s vote share \\textbackslash{}n no controls\\} \\textbackslash{}\\textbackslash{}label\\{fig:Fig.: R1\\} \\textbackslash{}\\textbackslash{}end\\{figure\\}'\n",
       "\\item '\\textbackslash{}\\textbackslash{}renewcommand\\{\\textbackslash{}\\textbackslash{}thefigure\\}\\{Fig.: R2\\} \\textbackslash{}\\textbackslash{}begin\\{figure\\} \\textbackslash{}\\textbackslash{}centering \\textbackslash{}\\textbackslash{}includegraphics{[}width=1\\textbackslash{}\\textbackslash{}textwidth{]}\\{2\\_SPD.png\\} \\textbackslash{}\\textbackslash{}captionlistentry\\{BTW - Effect on SPD\\textbackslash{}'s vote share \\textbackslash{}n no controls\\} \\textbackslash{}\\textbackslash{}label\\{fig:Fig.: R2\\} \\textbackslash{}\\textbackslash{}end\\{figure\\}'\n",
       "\\item '\\textbackslash{}\\textbackslash{}renewcommand\\{\\textbackslash{}\\textbackslash{}thefigure\\}\\{Fig.: R3\\} \\textbackslash{}\\textbackslash{}begin\\{figure\\} \\textbackslash{}\\textbackslash{}centering \\textbackslash{}\\textbackslash{}includegraphics{[}width=1\\textbackslash{}\\textbackslash{}textwidth{]}\\{3\\_FDP.png\\} \\textbackslash{}\\textbackslash{}captionlistentry\\{BTW - Effect on FDP\\textbackslash{}'s vote share \\textbackslash{}n no controls\\} \\textbackslash{}\\textbackslash{}label\\{fig:Fig.: R3\\} \\textbackslash{}\\textbackslash{}end\\{figure\\}'\n",
       "\\item '\\textbackslash{}\\textbackslash{}renewcommand\\{\\textbackslash{}\\textbackslash{}thefigure\\}\\{Fig.: R4\\} \\textbackslash{}\\textbackslash{}begin\\{figure\\} \\textbackslash{}\\textbackslash{}centering \\textbackslash{}\\textbackslash{}includegraphics{[}width=1\\textbackslash{}\\textbackslash{}textwidth{]}\\{4\\_Linke.png\\} \\textbackslash{}\\textbackslash{}captionlistentry\\{BTW - Effect on Linke\\textbackslash{}'s vote share \\textbackslash{}n no controls\\} \\textbackslash{}\\textbackslash{}label\\{fig:Fig.: R4\\} \\textbackslash{}\\textbackslash{}end\\{figure\\}'\n",
       "\\item '\\textbackslash{}\\textbackslash{}renewcommand\\{\\textbackslash{}\\textbackslash{}thefigure\\}\\{Fig.: R5\\} \\textbackslash{}\\textbackslash{}begin\\{figure\\} \\textbackslash{}\\textbackslash{}centering \\textbackslash{}\\textbackslash{}includegraphics{[}width=1\\textbackslash{}\\textbackslash{}textwidth{]}\\{5\\_Grüne.png\\} \\textbackslash{}\\textbackslash{}captionlistentry\\{BTW - Effect on Grüne\\textbackslash{}'s vote share \\textbackslash{}n no controls\\} \\textbackslash{}\\textbackslash{}label\\{fig:Fig.: R5\\} \\textbackslash{}\\textbackslash{}end\\{figure\\}'\n",
       "\\item '\\textbackslash{}\\textbackslash{}renewcommand\\{\\textbackslash{}\\textbackslash{}thefigure\\}\\{Fig.: R6\\} \\textbackslash{}\\textbackslash{}begin\\{figure\\} \\textbackslash{}\\textbackslash{}centering \\textbackslash{}\\textbackslash{}includegraphics{[}width=1\\textbackslash{}\\textbackslash{}textwidth{]}\\{6\\_Andere.png\\} \\textbackslash{}\\textbackslash{}captionlistentry\\{BTW - Effect on Andere\\textbackslash{}'s vote share \\textbackslash{}n no controls\\} \\textbackslash{}\\textbackslash{}label\\{fig:Fig.: R6\\} \\textbackslash{}\\textbackslash{}end\\{figure\\}'\n",
       "\\end{enumerate}\n"
      ],
      "text/markdown": [
       "1. '\\\\renewcommand{\\\\thefigure}{R1} \\\\begin{figure} \\\\centering \\\\includegraphics[width=1\\\\textwidth]{1_Union.png} \\\\captionlistentry{Union} \\\\label{fig:R1} \\\\end{figure}'\n",
       "2. '\\\\renewcommand{\\\\thefigure}{R1} \\\\begin{figure} \\\\centering \\\\includegraphics[width=1\\\\textwidth]{1_Union.png} \\\\captionlistentry{Union} \\\\label{fig:R1} \\\\end{figure}'\n",
       "3. '\\\\renewcommand{\\\\thefigure}{R1} \\\\begin{figure} \\\\centering \\\\includegraphics[width=1\\\\textwidth]{1_Union.png} \\\\captionlistentry{Union} \\\\label{fig:R1} \\\\end{figure}'\n",
       "4. '\\\\renewcommand{\\\\thefigure}{R1} \\\\begin{figure} \\\\centering \\\\includegraphics[width=1\\\\textwidth]{1_Union.png} \\\\captionlistentry{Union} \\\\label{fig:R1} \\\\end{figure}'\n",
       "5. '\\\\renewcommand{\\\\thefigure}{R1} \\\\begin{figure} \\\\centering \\\\includegraphics[width=1\\\\textwidth]{1_Union.png} \\\\captionlistentry{Union} \\\\label{fig:R1} \\\\end{figure}'\n",
       "6. '\\\\renewcommand{\\\\thefigure}{R1} \\\\begin{figure} \\\\centering \\\\includegraphics[width=1\\\\textwidth]{1_Union.png} \\\\captionlistentry{Union} \\\\label{fig:R1} \\\\end{figure}'\n",
       "7. '\\\\renewcommand{\\\\thefigure}{Fig.: R1} \\\\begin{figure} \\\\centering \\\\includegraphics[width=1\\\\textwidth]{1_Union.png} \\\\captionlistentry{BTW - Effect on Union\\'s vote share \\n no controls} \\\\label{fig:Fig.: R1} \\\\end{figure}'\n",
       "8. '\\\\renewcommand{\\\\thefigure}{Fig.: R2} \\\\begin{figure} \\\\centering \\\\includegraphics[width=1\\\\textwidth]{2_SPD.png} \\\\captionlistentry{BTW - Effect on SPD\\'s vote share \\n no controls} \\\\label{fig:Fig.: R2} \\\\end{figure}'\n",
       "9. '\\\\renewcommand{\\\\thefigure}{Fig.: R3} \\\\begin{figure} \\\\centering \\\\includegraphics[width=1\\\\textwidth]{3_FDP.png} \\\\captionlistentry{BTW - Effect on FDP\\'s vote share \\n no controls} \\\\label{fig:Fig.: R3} \\\\end{figure}'\n",
       "10. '\\\\renewcommand{\\\\thefigure}{Fig.: R4} \\\\begin{figure} \\\\centering \\\\includegraphics[width=1\\\\textwidth]{4_Linke.png} \\\\captionlistentry{BTW - Effect on Linke\\'s vote share \\n no controls} \\\\label{fig:Fig.: R4} \\\\end{figure}'\n",
       "11. '\\\\renewcommand{\\\\thefigure}{Fig.: R5} \\\\begin{figure} \\\\centering \\\\includegraphics[width=1\\\\textwidth]{5_Grüne.png} \\\\captionlistentry{BTW - Effect on Grüne\\'s vote share \\n no controls} \\\\label{fig:Fig.: R5} \\\\end{figure}'\n",
       "12. '\\\\renewcommand{\\\\thefigure}{Fig.: R6} \\\\begin{figure} \\\\centering \\\\includegraphics[width=1\\\\textwidth]{6_Andere.png} \\\\captionlistentry{BTW - Effect on Andere\\'s vote share \\n no controls} \\\\label{fig:Fig.: R6} \\\\end{figure}'\n",
       "\n",
       "\n"
      ],
      "text/plain": [
       "[[1]]\n",
       "[1] \"\\\\renewcommand{\\\\thefigure}{R1} \\\\begin{figure} \\\\centering \\\\includegraphics[width=1\\\\textwidth]{1_Union.png} \\\\captionlistentry{Union} \\\\label{fig:R1} \\\\end{figure}\"\n",
       "\n",
       "[[2]]\n",
       "[1] \"\\\\renewcommand{\\\\thefigure}{R1} \\\\begin{figure} \\\\centering \\\\includegraphics[width=1\\\\textwidth]{1_Union.png} \\\\captionlistentry{Union} \\\\label{fig:R1} \\\\end{figure}\"\n",
       "\n",
       "[[3]]\n",
       "[1] \"\\\\renewcommand{\\\\thefigure}{R1} \\\\begin{figure} \\\\centering \\\\includegraphics[width=1\\\\textwidth]{1_Union.png} \\\\captionlistentry{Union} \\\\label{fig:R1} \\\\end{figure}\"\n",
       "\n",
       "[[4]]\n",
       "[1] \"\\\\renewcommand{\\\\thefigure}{R1} \\\\begin{figure} \\\\centering \\\\includegraphics[width=1\\\\textwidth]{1_Union.png} \\\\captionlistentry{Union} \\\\label{fig:R1} \\\\end{figure}\"\n",
       "\n",
       "[[5]]\n",
       "[1] \"\\\\renewcommand{\\\\thefigure}{R1} \\\\begin{figure} \\\\centering \\\\includegraphics[width=1\\\\textwidth]{1_Union.png} \\\\captionlistentry{Union} \\\\label{fig:R1} \\\\end{figure}\"\n",
       "\n",
       "[[6]]\n",
       "[1] \"\\\\renewcommand{\\\\thefigure}{R1} \\\\begin{figure} \\\\centering \\\\includegraphics[width=1\\\\textwidth]{1_Union.png} \\\\captionlistentry{Union} \\\\label{fig:R1} \\\\end{figure}\"\n",
       "\n",
       "[[7]]\n",
       "[1] \"\\\\renewcommand{\\\\thefigure}{Fig.: R1} \\\\begin{figure} \\\\centering \\\\includegraphics[width=1\\\\textwidth]{1_Union.png} \\\\captionlistentry{BTW - Effect on Union's vote share \\n no controls} \\\\label{fig:Fig.: R1} \\\\end{figure}\"\n",
       "\n",
       "[[8]]\n",
       "[1] \"\\\\renewcommand{\\\\thefigure}{Fig.: R2} \\\\begin{figure} \\\\centering \\\\includegraphics[width=1\\\\textwidth]{2_SPD.png} \\\\captionlistentry{BTW - Effect on SPD's vote share \\n no controls} \\\\label{fig:Fig.: R2} \\\\end{figure}\"\n",
       "\n",
       "[[9]]\n",
       "[1] \"\\\\renewcommand{\\\\thefigure}{Fig.: R3} \\\\begin{figure} \\\\centering \\\\includegraphics[width=1\\\\textwidth]{3_FDP.png} \\\\captionlistentry{BTW - Effect on FDP's vote share \\n no controls} \\\\label{fig:Fig.: R3} \\\\end{figure}\"\n",
       "\n",
       "[[10]]\n",
       "[1] \"\\\\renewcommand{\\\\thefigure}{Fig.: R4} \\\\begin{figure} \\\\centering \\\\includegraphics[width=1\\\\textwidth]{4_Linke.png} \\\\captionlistentry{BTW - Effect on Linke's vote share \\n no controls} \\\\label{fig:Fig.: R4} \\\\end{figure}\"\n",
       "\n",
       "[[11]]\n",
       "[1] \"\\\\renewcommand{\\\\thefigure}{Fig.: R5} \\\\begin{figure} \\\\centering \\\\includegraphics[width=1\\\\textwidth]{5_Grüne.png} \\\\captionlistentry{BTW - Effect on Grüne's vote share \\n no controls} \\\\label{fig:Fig.: R5} \\\\end{figure}\"\n",
       "\n",
       "[[12]]\n",
       "[1] \"\\\\renewcommand{\\\\thefigure}{Fig.: R6} \\\\begin{figure} \\\\centering \\\\includegraphics[width=1\\\\textwidth]{6_Andere.png} \\\\captionlistentry{BTW - Effect on Andere's vote share \\n no controls} \\\\label{fig:Fig.: R6} \\\\end{figure}\"\n"
      ]
     },
     "metadata": {},
     "output_type": "display_data"
    }
   ],
   "source": [
    "figs_tex"
   ]
  },
  {
   "cell_type": "markdown",
   "metadata": {},
   "source": [
    "DiD for BTW with controls"
   ]
  },
  {
   "cell_type": "code",
   "execution_count": 30,
   "metadata": {
    "vscode": {
     "languageId": "r"
    }
   },
   "outputs": [],
   "source": [
    "btw_c <- import(sprintf(\"%s/data/btw_control.csv\", path))"
   ]
  },
  {
   "cell_type": "code",
   "execution_count": 31,
   "metadata": {
    "vscode": {
     "languageId": "r"
    }
   },
   "outputs": [
    {
     "name": "stdout",
     "output_type": "stream",
     "text": [
      "[1] \"Union\"\n",
      "[1] \"SPD\"\n",
      "[1] \"FDP\"\n",
      "[1] \"Linke\"\n",
      "[1] \"Grüne\"\n",
      "[1] \"Andere\"\n"
     ]
    }
   ],
   "source": [
    "parties <- c('Union', 'SPD', 'FDP', 'Linke', 'Grüne', 'Andere')\n",
    "treatments_dict <- hash('treatment_0'='Direct Line', 'treatment_15'='Within 0-15 km', 'treatment_30'='Within 15-30 km', 'treatment_50'='Within 30-50 km')\n",
    "treatments <- keys(treatments_dict)\n",
    "results  <- list()\n",
    "n <- 7\n",
    "for(party in parties){\n",
    "  figures  <- list()\n",
    "  for(treatment in treatments){\n",
    "    result <- att_gt(yname = party,\n",
    "                  gname = treatment,\n",
    "                  idname = 'AGS',\n",
    "                  panel = TRUE,\n",
    "                  tname = 'year',\n",
    "                  xformla = ~ east + south + pop_density + unemployed + female + avg_age,\n",
    "                  data = btw_c,\n",
    "                  est_method = 'reg',\n",
    "                  anticipation = 0,\n",
    "                  control_group = 'nevertreated',\n",
    "                  clustervars = c('AGS'),\n",
    "                  bstrap = TRUE,\n",
    "                  cband = TRUE,\n",
    "                  allow_unbalanced_panel = TRUE,\n",
    "                  \n",
    "    )\n",
    "    results[[length(results)+1]] <- result\n",
    "    # calculate ATT\n",
    "    att <- aggte(result, type = \"group\", bstrap = TRUE, clustervars = c('AGS'))\n",
    "    # plot results\n",
    "    result_fig <- ggdid(result, \n",
    "              ylim = c(floor(min(result$att - result$se * 2.345 - 1)), ceiling(max(result$att + result$se * 2.345 + 1))),\n",
    "              ncol = 3, ax_text_size = 8, grtitle='', title_size = 10, legend=F) +\n",
    "              labs(caption = sprintf('Overall ATT (SE): %.3f (%.3f) \\n Wald-p: %.3f; Municipalities: %s \\n' ,\n",
    "              att$overall.att, att$overall.se, result$Wpval, format(result$n, big.mark=\",\"))) +\n",
    "              theme(plot.caption = element_text(hjust=0.5, size=8),\n",
    "              panel.background = element_rect(fill='transparent'),\n",
    "              plot.background = element_rect(fill='transparent', color=NA),\n",
    "              legend.background = element_rect(fill='transparent'),\n",
    "              legend.box.background = element_rect(fill='transparent'),\n",
    "              plot.margin=unit(c(0,0,0,0),\"cm\"))\n",
    "    # Get caption for ATT plot\n",
    "    cap = ''\n",
    "      for(i in 1:length(att$DIDparams$glist)) {\n",
    "        cap <- sprintf('%s ATT (SE): %.3f (%.3f)\\n%s', att$DIDparams$glist[[i]], att$att.egt[[i]], att$se.egt[[i]], cap)\n",
    "      }\n",
    "    # Plot ATT\n",
    "    att_fig <- ggdid(att, legend=F, x_lab='', ax_text_size = 8, ylab='', title='ATT by group', title_size = 10) + \n",
    "    labs(caption = cap) + \n",
    "              theme(plot.caption = element_text(hjust=0.5, size=8), \n",
    "              axis.title.x = element_blank(),\n",
    "              axis.text.y = element_text(angle=90, size=6, hjust=0.5),\n",
    "              panel.background = element_rect(fill='transparent'),\n",
    "              plot.background = element_rect(fill='transparent', color=NA),\n",
    "              legend.background = element_rect(fill='transparent'),\n",
    "              legend.box.background = element_rect(fill='transparent'),\n",
    "              plot.margin=unit(c(0,0,0,0),\"cm\"))\n",
    "    # Combine and annotate Group and ATT plot\n",
    "    # Get number of results plots\n",
    "    nr <- length(unique(result_fig$data$grtitle))\n",
    "    combined_fig <- ggarrange(result_fig, att_fig, widths = c(nr, 1)) + \n",
    "                    theme(plot.margin=unit(c(0,0,0,0),\"cm\"))\n",
    "    combined_fig_anno <- annotate_figure(combined_fig,\n",
    "                  top = text_grob(sprintf('Treatment: %s', treatments_dict[[treatment]])))\n",
    "    figures[[length(figures)+1]] <- combined_fig_anno\n",
    "  }\n",
    "  # Combine Figures for all treatments\n",
    "  arranged_fig <- ggarrange(plotlist=figures, nrow = 4, ncol = 1, common.legend = TRUE)\n",
    "  # get legend\n",
    "  result_fig <- ggdid(result) +\n",
    "              theme(\n",
    "              legend.background = element_rect(fill='transparent', color='transparent'),\n",
    "              legend.box.background = element_rect(fill='transparent', color='transparent'),\n",
    "              plot.margin=unit(c(0,0,0,0),\"cm\"))\n",
    "  leg <- get_legend(result_fig)\n",
    "  # add legend\n",
    "  arranged_fig_leg <- ggarrange(arranged_fig, leg, nrow = 2, ncol = 1, heights = c(10, 1))\n",
    "  # Annotate final figure\n",
    "  final_fig <- annotate_figure(arranged_fig_leg,\n",
    "                  top = text_grob(sprintf(\"BTW - Effect on %s's vote share\", party), face = \"bold\", size = 14),\n",
    "                  bottom = text_grob('Control Group: Never Treated. Estimation Method: Regression. \\n Standard Errors clustered on the municipality level. \\n Included Controls: Population Density, Share of Unemployed, Share of Females, Average Age, \\n Dummies for East and South Germany.', size = 10))\n",
    "  # Add Figure number\n",
    "  final_fig <- annotate_figure(final_fig, top = text_grob(sprintf(\"Fig.: R%s\", n), face = \"bold\", size = 10))\n",
    "  # Save\n",
    "  ggsave(sprintf('%s_%s.png', n, party), plot = final_fig, path = sprintf('%s/figures/R/BTW/control', path), units = 'cm', width = 21, height = 21, dpi=\"print\")\n",
    "  print(party)\n",
    "  n <- n + 1\n",
    "}"
   ]
  },
  {
   "cell_type": "markdown",
   "metadata": {},
   "source": [
    "DiD for LTW no controls by state"
   ]
  },
  {
   "cell_type": "code",
   "execution_count": 32,
   "metadata": {
    "vscode": {
     "languageId": "r"
    }
   },
   "outputs": [],
   "source": [
    "# read in the data set\n",
    "ltw <- import(sprintf(\"%s/data/ltw_treat.csv\", path))"
   ]
  },
  {
   "cell_type": "code",
   "execution_count": 34,
   "metadata": {
    "vscode": {
     "languageId": "r"
    }
   },
   "outputs": [
    {
     "name": "stdout",
     "output_type": "stream",
     "text": [
      "[1] \"BY: Union\"\n",
      "[1] \"BY: SPD\"\n",
      "[1] \"BY: FDP\"\n",
      "[1] \"BY: Linke\"\n",
      "[1] \"BY: Grüne\"\n",
      "[1] \"BY: Andere\"\n",
      "[1] \"HE: Union\"\n",
      "[1] \"HE: SPD\"\n",
      "[1] \"HE: FDP\"\n",
      "[1] \"HE: Linke\"\n",
      "[1] \"HE: Grüne\"\n",
      "[1] \"HE: Andere\"\n",
      "[1] \"NI: Union\"\n",
      "[1] \"NI: SPD\"\n",
      "[1] \"NI: FDP\"\n",
      "[1] \"NI: Linke\"\n",
      "[1] \"NI: Grüne\"\n",
      "[1] \"NI: Andere\"\n",
      "[1] \"NW: Union\"\n",
      "[1] \"NW: SPD\"\n",
      "[1] \"NW: FDP\"\n",
      "[1] \"NW: Linke\"\n",
      "[1] \"NW: Grüne\"\n",
      "[1] \"NW: Andere\"\n"
     ]
    }
   ],
   "source": [
    "parties <- c('Union', 'SPD', 'FDP', 'Linke', 'Grüne', 'Andere')\n",
    "treatments_dict <- hash('treatment_0'='Direct Line', 'treatment_15'='Within 0-15 km', 'treatment_30'='Within 15-30 km', 'treatment_50'='Within 30-50 km')\n",
    "states_dict <- hash('NI'='Lower Saxony', 'NW'='North-Rhine Westphalia', 'HE'='Hesse', 'BY'='Bavaria')\n",
    "treatments <- keys(treatments_dict)\n",
    "states <- keys(states_dict)\n",
    "results  <- list()\n",
    "n <- 14\n",
    "for (state in states){\n",
    "  for(party in parties){\n",
    "    figures  <- list()\n",
    "    reg_data <- subset(ltw, Land == state)\n",
    "    for(treatment in treatments){\n",
    "      result <- att_gt(yname = party,\n",
    "                    gname = treatment,\n",
    "                    idname = 'AGS',\n",
    "                    panel = TRUE,\n",
    "                    tname = 'year',\n",
    "                    xformla = ~ 1,\n",
    "                    data = reg_data,\n",
    "                    est_method = 'reg',\n",
    "                    anticipation = 0,\n",
    "                    control_group = 'notyettreated',\n",
    "                    clustervars = c('AGS'),\n",
    "                    bstrap = TRUE,\n",
    "                    cband = TRUE,\n",
    "                    allow_unbalanced_panel = TRUE,\n",
    "                    \n",
    "      )\n",
    "    results[[length(results)+1]] <- result\n",
    "    # calculate ATT\n",
    "    att <- aggte(result, type = \"group\", bstrap = TRUE, clustervars = c('AGS'))\n",
    "    # plot results\n",
    "    result_fig <- ggdid(result, \n",
    "              ylim = c(floor(min(result$att - result$se * 2.345 - 1)), ceiling(max(result$att + result$se * 2.345 + 1))),\n",
    "              ncol = 3, ax_text_size = 8, grtitle='', title_size = 10, legend=F) +\n",
    "              labs(caption = sprintf('Overall ATT (SE): %.3f (%.3f) \\n Wald-p: %.3f; Municipalities: %s \\n' ,\n",
    "              att$overall.att, att$overall.se, result$Wpval, format(result$n, big.mark=\",\"))) +\n",
    "              theme(plot.caption = element_text(hjust=0.5, size=8),\n",
    "              panel.background = element_rect(fill='transparent'),\n",
    "              plot.background = element_rect(fill='transparent', color=NA),\n",
    "              legend.background = element_rect(fill='transparent'),\n",
    "              legend.box.background = element_rect(fill='transparent'),\n",
    "              plot.margin=unit(c(0,0,0,0),\"cm\"))\n",
    "    # Get caption for ATT plot\n",
    "    cap = ''\n",
    "      for(i in 1:length(att$DIDparams$glist)) {\n",
    "        cap <- sprintf('%s ATT (SE): %.3f (%.3f)\\n%s', att$DIDparams$glist[[i]], att$att.egt[[i]], att$se.egt[[i]], cap)\n",
    "      }\n",
    "    # Plot ATT\n",
    "    att_fig <- ggdid(att, legend=F, x_lab='', ax_text_size = 8, ylab='', title='ATT by group', title_size = 10) + \n",
    "    labs(caption = cap) + \n",
    "              theme(plot.caption = element_text(hjust=0.5, size=8), \n",
    "              axis.title.x = element_blank(),\n",
    "              axis.text.y = element_text(angle=90, size=6, hjust=0.5),\n",
    "              panel.background = element_rect(fill='transparent'),\n",
    "              plot.background = element_rect(fill='transparent', color=NA),\n",
    "              legend.background = element_rect(fill='transparent'),\n",
    "              legend.box.background = element_rect(fill='transparent'),\n",
    "              plot.margin=unit(c(0,0,0,0),\"cm\"))\n",
    "    # Combine and annotate Group and ATT plot\n",
    "    # Get number of results plots\n",
    "    nr <- length(unique(result_fig$data$grtitle))\n",
    "    combined_fig <- ggarrange(result_fig, att_fig, widths = c(nr, 1)) + \n",
    "                    theme(plot.margin=unit(c(0,0,0,0),\"cm\"))\n",
    "    combined_fig_anno <- annotate_figure(combined_fig,\n",
    "                  top = text_grob(sprintf('Treatment: %s', treatments_dict[[treatment]])))\n",
    "    figures[[length(figures)+1]] <- combined_fig_anno\n",
    "    }\n",
    "    # Combine Figures for all treatments\n",
    "    arranged_fig <- ggarrange(plotlist=figures, nrow = 4, ncol = 1, common.legend = TRUE)\n",
    "    # get legend\n",
    "    result_fig <- ggdid(result) +\n",
    "                theme(\n",
    "                legend.background = element_rect(fill='transparent', color='transparent'),\n",
    "                legend.box.background = element_rect(fill='transparent', color='transparent'),\n",
    "                plot.margin=unit(c(0,0,0,0),\"cm\"))\n",
    "    leg <- get_legend(result_fig)\n",
    "    # add legend\n",
    "    arranged_fig_leg <- ggarrange(arranged_fig, leg, nrow = 2, ncol = 1, heights = c(10, 1))\n",
    "    final_fig <- annotate_figure(arranged_fig_leg,\n",
    "                    top = text_grob(sprintf(\"LTW %s - Effect on %s's vote share\", states_dict[[state]], party), face = \"bold\", size = 14),\n",
    "                    bottom = text_grob('Control Group: Not-yet Treated. Estimation Method: Regression \\n Standard Errors clustered on the municipality level.', size = 10),)\n",
    "    # Add Figure number\n",
    "    final_fig <- annotate_figure(final_fig, top = text_grob(sprintf(\"Fig.: R%s\", n), face = \"bold\", size = 10))\n",
    "    # Save\n",
    "    ggsave(sprintf('%s_%s_%s.png', n, state, party), plot = final_fig, path = sprintf('%s/figures/R/LTW/by_state', path), units = 'cm', width = 21, height = 29.7, dpi=\"print\")\n",
    "    print(sprintf('%s: %s', state, party))\n",
    "    n <- n + 2\n",
    "  }\n",
    "}"
   ]
  },
  {
   "cell_type": "markdown",
   "metadata": {},
   "source": [
    "DiD for LTW controls by state"
   ]
  },
  {
   "cell_type": "code",
   "execution_count": 36,
   "metadata": {
    "vscode": {
     "languageId": "r"
    }
   },
   "outputs": [],
   "source": [
    "ltw_c <- import(sprintf(\"%s/data/ltw_control.csv\", path))"
   ]
  },
  {
   "cell_type": "code",
   "execution_count": 37,
   "metadata": {
    "vscode": {
     "languageId": "r"
    }
   },
   "outputs": [
    {
     "name": "stdout",
     "output_type": "stream",
     "text": [
      "[1] \"BY: Union\"\n",
      "[1] \"BY: SPD\"\n",
      "[1] \"BY: FDP\"\n",
      "[1] \"BY: Linke\"\n",
      "[1] \"BY: Grüne\"\n",
      "[1] \"BY: Andere\"\n",
      "[1] \"HE: Union\"\n",
      "[1] \"HE: SPD\"\n",
      "[1] \"HE: FDP\"\n",
      "[1] \"HE: Linke\"\n",
      "[1] \"HE: Grüne\"\n",
      "[1] \"HE: Andere\"\n",
      "[1] \"NI: Union\"\n",
      "[1] \"NI: SPD\"\n",
      "[1] \"NI: FDP\"\n",
      "[1] \"NI: Linke\"\n",
      "[1] \"NI: Grüne\"\n",
      "[1] \"NI: Andere\"\n",
      "[1] \"NW: Union\"\n",
      "[1] \"NW: SPD\"\n",
      "[1] \"NW: FDP\"\n",
      "[1] \"NW: Linke\"\n",
      "[1] \"NW: Grüne\"\n",
      "[1] \"NW: Andere\"\n"
     ]
    }
   ],
   "source": [
    "parties <- c('Union', 'SPD', 'FDP', 'Linke', 'Grüne', 'Andere')\n",
    "treatments_dict <- hash('treatment_0'='Direct Line', 'treatment_15'='Within 0-15 km', 'treatment_30'='Within 15-30 km', 'treatment_50'='Within 30-50 km')\n",
    "states_dict <- hash('NI'='Lower Saxony', 'NW'='North-Rhine Westphalia', 'HE'='Hesse', 'BY'='Bavaria')\n",
    "treatments <- keys(treatments_dict)\n",
    "states <- keys(states_dict)\n",
    "results  <- list()\n",
    "n <- 15\n",
    "for (state in states){\n",
    "  for(party in parties){\n",
    "    figures  <- list()\n",
    "    reg_data <- subset(ltw_c, Land == state)\n",
    "    for(treatment in treatments){\n",
    "      result <- att_gt(yname = party,\n",
    "                    gname = treatment,\n",
    "                    idname = 'AGS',\n",
    "                    panel = TRUE,\n",
    "                    tname = 'year',\n",
    "                    xformla = ~ pop_density + unemployed + avg_age + female,\n",
    "                    data = reg_data,\n",
    "                    est_method = 'reg',\n",
    "                    anticipation = 0,\n",
    "                    control_group = 'notyettreated',\n",
    "                    clustervars = c('AGS'),\n",
    "                    bstrap = TRUE,\n",
    "                    cband = TRUE,\n",
    "                    allow_unbalanced_panel = TRUE,\n",
    "                    \n",
    "      )\n",
    "    results[[length(results)+1]] <- result\n",
    "    # calculate ATT\n",
    "    att <- aggte(result, type = \"group\", bstrap = TRUE, clustervars = c('AGS'))\n",
    "    # plot results\n",
    "    result_fig <- ggdid(result, \n",
    "              ylim = c(floor(min(result$att - result$se * 2.345 - 1)), ceiling(max(result$att + result$se * 2.345 + 1))),\n",
    "              ncol = 3, ax_text_size = 8, grtitle='', title_size = 10, legend=F) +\n",
    "              labs(caption = sprintf('Overall ATT (SE): %.3f (%.3f) \\n Wald-p: %.3f; Municipalities: %s \\n' ,\n",
    "              att$overall.att, att$overall.se, result$Wpval, format(result$n, big.mark=\",\"))) +\n",
    "              theme(plot.caption = element_text(hjust=0.5, size=8),\n",
    "              panel.background = element_rect(fill='transparent'),\n",
    "              plot.background = element_rect(fill='transparent', color=NA),\n",
    "              legend.background = element_rect(fill='transparent'),\n",
    "              legend.box.background = element_rect(fill='transparent'),\n",
    "              plot.margin=unit(c(0,0,0,0),\"cm\"))\n",
    "    # Get caption for ATT plot\n",
    "    cap = ''\n",
    "      for(i in 1:length(att$DIDparams$glist)) {\n",
    "        cap <- sprintf('%s ATT (SE): %.3f (%.3f)\\n%s', att$DIDparams$glist[[i]], att$att.egt[[i]], att$se.egt[[i]], cap)\n",
    "      }\n",
    "    # Plot ATT\n",
    "    att_fig <- ggdid(att, legend=F, x_lab='', ax_text_size = 8, ylab='', title='ATT by group', title_size = 10) + \n",
    "    labs(caption = cap) + \n",
    "              theme(plot.caption = element_text(hjust=0.5, size=8), \n",
    "              axis.title.x = element_blank(),\n",
    "              axis.text.y = element_text(angle=90, size=6, hjust=0.5),\n",
    "              panel.background = element_rect(fill='transparent'),\n",
    "              plot.background = element_rect(fill='transparent', color=NA),\n",
    "              legend.background = element_rect(fill='transparent'),\n",
    "              legend.box.background = element_rect(fill='transparent'),\n",
    "              plot.margin=unit(c(0,0,0,0),\"cm\"))\n",
    "    # Combine and annotate Group and ATT plot\n",
    "    # Get number of results plots\n",
    "    nr <- length(unique(result_fig$data$grtitle))\n",
    "    combined_fig <- ggarrange(result_fig, att_fig, widths = c(nr, 1)) + \n",
    "                    theme(plot.margin=unit(c(0,0,0,0),\"cm\"))\n",
    "    combined_fig_anno <- annotate_figure(combined_fig,\n",
    "                  top = text_grob(sprintf('Treatment: %s', treatments_dict[[treatment]])))\n",
    "    figures[[length(figures)+1]] <- combined_fig_anno\n",
    "    }\n",
    "    # Combine Figures for all treatments\n",
    "    arranged_fig <- ggarrange(plotlist=figures, nrow = 4, ncol = 1, common.legend = TRUE)\n",
    "    # get legend\n",
    "    result_fig <- ggdid(result) +\n",
    "                theme(\n",
    "                legend.background = element_rect(fill='transparent', color='transparent'),\n",
    "                legend.box.background = element_rect(fill='transparent', color='transparent'),\n",
    "                plot.margin=unit(c(0,0,0,0),\"cm\"))\n",
    "    leg <- get_legend(result_fig)\n",
    "    # add legend\n",
    "    arranged_fig_leg <- ggarrange(arranged_fig, leg, nrow = 2, ncol = 1, heights = c(10, 1))\n",
    "    final_fig <- annotate_figure(arranged_fig_leg,\n",
    "                    top = text_grob(sprintf(\"LTW %s - Effect on %s's vote share\", states_dict[[state]], party), face = \"bold\", size = 14),\n",
    "                    bottom = text_grob('Control Group: Not-yet Treated. Estimation Method: Regression. \\n Standard Errors clustered on the municipality level. \\n Included Controls: Population Density, Share of Unemployed, Share of Females, Average Age.', size = 10))\n",
    "    # Add Figure number\n",
    "    final_fig <- annotate_figure(final_fig, top = text_grob(sprintf(\"Fig.: R%s\", n), face = \"bold\", size = 10))\n",
    "    # Save\n",
    "    ggsave(sprintf('%s_%s_%s.png', n, state, party), plot = final_fig, path = sprintf('%s/figures/R/LTW/by_state_controls', path), units = 'cm', width = 21, height = 29.7, dpi=\"print\")\n",
    "    print(sprintf('%s: %s', state, party))\n",
    "    n <- n + 2\n",
    "  }\n",
    "}"
   ]
  },
  {
   "cell_type": "markdown",
   "metadata": {},
   "source": [
    "Robustness 1: BTW control without postal votes"
   ]
  },
  {
   "cell_type": "code",
   "execution_count": 106,
   "metadata": {
    "vscode": {
     "languageId": "r"
    }
   },
   "outputs": [],
   "source": [
    "btw_np <- import(sprintf(\"%s/data/btw_control_nopostal.csv\", path))"
   ]
  },
  {
   "cell_type": "code",
   "execution_count": 109,
   "metadata": {
    "vscode": {
     "languageId": "r"
    }
   },
   "outputs": [
    {
     "name": "stdout",
     "output_type": "stream",
     "text": [
      "[1] \"Union\"\n",
      "[1] \"SPD\"\n",
      "[1] \"FDP\"\n",
      "[1] \"Linke\"\n",
      "[1] \"Grüne\"\n",
      "[1] \"Andere\"\n"
     ]
    }
   ],
   "source": [
    "parties <- c('Union', 'SPD', 'FDP', 'Linke', 'Grüne', 'Andere')\n",
    "treatments_dict <- hash('treatment_0'='Direct Line', 'treatment_15'='Within 0-15 km', 'treatment_30'='Within 15-30 km', 'treatment_50'='Within 30-50 km')\n",
    "treatments <- keys(treatments_dict)\n",
    "results  <- list()\n",
    "n <- 62\n",
    "for(party in parties){\n",
    "  figures  <- list()\n",
    "  for(treatment in treatments){\n",
    "    result <- att_gt(yname = party,\n",
    "                  gname = treatment,\n",
    "                  idname = 'AGS',\n",
    "                  panel = TRUE,\n",
    "                  tname = 'year',\n",
    "                  xformla = ~ east + south + pop_density + unemployed + female + avg_age,\n",
    "                  data = btw_c,\n",
    "                  est_method = 'reg',\n",
    "                  anticipation = 0,\n",
    "                  control_group = 'nevertreated',\n",
    "                  clustervars = c('AGS'),\n",
    "                  bstrap = TRUE,\n",
    "                  cband = TRUE,\n",
    "                  allow_unbalanced_panel = TRUE,\n",
    "                  \n",
    "    )\n",
    "    results[[length(results)+1]] <- result\n",
    "    # calculate ATT\n",
    "    att <- aggte(result, type = \"group\", bstrap = TRUE, clustervars = c('AGS'))\n",
    "    # plot results\n",
    "    result_fig <- ggdid(result, \n",
    "              #ylim = c(floor(min(result$att - result$se * 2.345 - 1)), ceiling(max(result$att + result$se * 2.345 + 1))),\n",
    "              ncol = 3, ax_text_size = 8, grtitle='', title_size = 10, legend=F) +\n",
    "              labs(caption = sprintf('Overall ATT (SE): %.3f (%.3f) \\n Wald-p: %.3f; Municipalities: %s \\n' ,\n",
    "              att$overall.att, att$overall.se, result$Wpval, format(result$n, big.mark=\",\"))) +\n",
    "              theme(plot.caption = element_text(hjust=0.5, size=8),\n",
    "              panel.background = element_rect(fill='transparent'),\n",
    "              plot.background = element_rect(fill='transparent', color=NA),\n",
    "              legend.background = element_rect(fill='transparent'),\n",
    "              legend.box.background = element_rect(fill='transparent'),\n",
    "              plot.margin=unit(c(0,0,0,0),\"cm\"))\n",
    "    # Get caption for ATT plot\n",
    "    cap = ''\n",
    "      for(i in 1:length(att$DIDparams$glist)) {\n",
    "        cap <- sprintf('%s ATT (SE): %.3f (%.3f)\\n%s', att$DIDparams$glist[[i]], att$att.egt[[i]], att$se.egt[[i]], cap)\n",
    "      }\n",
    "    # Plot ATT\n",
    "    att_fig <- ggdid(att, legend=F, x_lab='', ax_text_size = 8, ylab='', title='ATT by group', title_size = 10) + \n",
    "    labs(caption = cap) + \n",
    "              theme(plot.caption = element_text(hjust=0.5, size=8), \n",
    "              axis.title.x = element_blank(),\n",
    "              axis.text.y = element_text(angle=90, size=6, hjust=0.5),\n",
    "              panel.background = element_rect(fill='transparent'),\n",
    "              plot.background = element_rect(fill='transparent', color=NA),\n",
    "              legend.background = element_rect(fill='transparent'),\n",
    "              legend.box.background = element_rect(fill='transparent'),\n",
    "              plot.margin=unit(c(0,0,0,0),\"cm\"))\n",
    "    # Combine and annotate Group and ATT plot\n",
    "    # Get number of results plots\n",
    "    nr <- length(unique(result_fig$data$grtitle))\n",
    "    combined_fig <- ggarrange(result_fig, att_fig, widths = c(nr, 1)) + \n",
    "                    theme(plot.margin=unit(c(0,0,0,0),\"cm\"))\n",
    "    combined_fig_anno <- annotate_figure(combined_fig,\n",
    "                  top = text_grob(sprintf('Treatment: %s', treatments_dict[[treatment]])))\n",
    "    figures[[length(figures)+1]] <- combined_fig_anno\n",
    "  }\n",
    "  # Combine Figures for all treatments\n",
    "  arranged_fig <- ggarrange(plotlist=figures, nrow = 4, ncol = 1, common.legend = TRUE)\n",
    "  # get legend\n",
    "  result_fig <- ggdid(result) +\n",
    "              theme(\n",
    "              legend.background = element_rect(fill='transparent', color='transparent'),\n",
    "              legend.box.background = element_rect(fill='transparent', color='transparent'),\n",
    "              plot.margin=unit(c(0,0,0,0),\"cm\"))\n",
    "  leg <- get_legend(result_fig)\n",
    "  # add legend\n",
    "  arranged_fig_leg <- ggarrange(arranged_fig, leg, nrow = 2, ncol = 1, heights = c(10, 1))\n",
    "  # Annotate final figure\n",
    "  final_fig <- annotate_figure(arranged_fig_leg,\n",
    "                  top = text_grob(sprintf(\"BTW - Effect on %s's vote share\", party), face = \"bold\", size = 14),\n",
    "                  bottom = text_grob('Control Group: Never Treated. Estimation Method: Regression. \\n Standard Errors clustered on the municipality level. \\n Included Controls: Population Density, Share of Unemployed, Share of Females, Average Age, \\n Dummies for East and South Germany.', size = 10))\n",
    "  # Add Figure number\n",
    "  final_fig <- annotate_figure(final_fig, top = text_grob(sprintf(\"Fig.: R%s\", n), face = \"bold\", size = 10))\n",
    "  # Save\n",
    "  ggsave(sprintf('%s_%s.png', n, party), plot = final_fig, path = sprintf('%s/figures/R/BTW/no_postal', path), units = 'cm', width = 21, height = 21, dpi=\"print\")\n",
    "  print(party)\n",
    "  n <- n + 1\n",
    "}"
   ]
  },
  {
   "cell_type": "markdown",
   "metadata": {},
   "source": [
    "DiD for BTW with controls by state"
   ]
  },
  {
   "cell_type": "code",
   "execution_count": null,
   "metadata": {
    "vscode": {
     "languageId": "r"
    }
   },
   "outputs": [],
   "source": [
    "btw_c <- import(sprintf(\"%s/data/btw_control.csv\", path))"
   ]
  },
  {
   "cell_type": "code",
   "execution_count": 45,
   "metadata": {
    "vscode": {
     "languageId": "r"
    }
   },
   "outputs": [
    {
     "name": "stdout",
     "output_type": "stream",
     "text": [
      "[1] \"BB: Union\"\n",
      "[1] \"BB: SPD\"\n",
      "[1] \"BB: FDP\"\n",
      "[1] \"BB: Linke\"\n",
      "[1] \"BB: Grüne\"\n",
      "[1] \"BB: Andere\"\n",
      "[1] \"BW: Union\"\n",
      "[1] \"BW: SPD\"\n",
      "[1] \"BW: FDP\"\n",
      "[1] \"BW: Linke\"\n",
      "[1] \"BW: Grüne\"\n",
      "[1] \"BW: Andere\"\n",
      "[1] \"BY: Union\"\n",
      "[1] \"BY: SPD\"\n",
      "[1] \"BY: FDP\"\n",
      "[1] \"BY: Linke\"\n",
      "[1] \"BY: Grüne\"\n",
      "[1] \"BY: Andere\"\n",
      "[1] \"MV: Union\"\n",
      "[1] \"MV: SPD\"\n",
      "[1] \"MV: FDP\"\n",
      "[1] \"MV: Linke\"\n",
      "[1] \"MV: Grüne\"\n",
      "[1] \"MV: Andere\"\n",
      "[1] \"NI: Union\"\n",
      "[1] \"NI: SPD\"\n",
      "[1] \"NI: FDP\"\n",
      "[1] \"NI: Linke\"\n",
      "[1] \"NI: Grüne\"\n",
      "[1] \"NI: Andere\"\n",
      "[1] \"NW: Union\"\n",
      "[1] \"NW: SPD\"\n",
      "[1] \"NW: FDP\"\n",
      "[1] \"NW: Linke\"\n",
      "[1] \"NW: Grüne\"\n",
      "[1] \"NW: Andere\"\n",
      "[1] \"RP: Union\"\n",
      "[1] \"RP: SPD\"\n",
      "[1] \"RP: FDP\"\n",
      "[1] \"RP: Linke\"\n",
      "[1] \"RP: Grüne\"\n",
      "[1] \"RP: Andere\"\n",
      "[1] \"SH: Union\"\n",
      "[1] \"SH: SPD\"\n",
      "[1] \"SH: FDP\"\n",
      "[1] \"SH: Linke\"\n",
      "[1] \"SH: Grüne\"\n",
      "[1] \"SH: Andere\"\n",
      "[1] \"ST: Union\"\n",
      "[1] \"ST: SPD\"\n",
      "[1] \"ST: FDP\"\n",
      "[1] \"ST: Linke\"\n",
      "[1] \"ST: Grüne\"\n",
      "[1] \"ST: Andere\"\n",
      "[1] \"TH: Union\"\n",
      "[1] \"TH: SPD\"\n",
      "[1] \"TH: FDP\"\n",
      "[1] \"TH: Linke\"\n",
      "[1] \"TH: Grüne\"\n",
      "[1] \"TH: Andere\"\n"
     ]
    }
   ],
   "source": [
    "parties <- c('Union', 'SPD', 'FDP', 'Linke', 'Grüne', 'Andere')\n",
    "treatments_dict <- hash('treatment_0'='Direct Line', 'treatment_15'='Within 0-15 km', 'treatment_30'='Within 15-30 km', 'treatment_50'='Within 30-50 km')\n",
    "states_dict <- hash('SH'='Schleswig-Holstein', 'NI'='Lower Saxony', 'NW'='North-Rhine Westphalia', 'BW'='Baden-Württemberg', \n",
    "'BY'='Bavaria', 'BB'='Brandenburg', 'MV'='Mecklenburg-Vorpommern', 'ST'='Saxony-Anhalt', 'TH'='Thuringia', 'RP'='Rhineland-Palatine') # all states - those never treated\n",
    "treatments <- keys(treatments_dict)\n",
    "states <- keys(states_dict)\n",
    "results  <- list()\n",
    "n <- 62\n",
    "for (state in states){\n",
    "  for(party in parties){\n",
    "    print(sprintf('%s: %s', state, party))\n",
    "    reg_data <- subset(btw_np, Land == state)\n",
    "    figures  <- list()\n",
    "    for(treatment in treatments){\n",
    "      result <- att_gt(yname = party,\n",
    "                    gname = treatment,\n",
    "                    idname = 'AGS',\n",
    "                    panel = TRUE,\n",
    "                    tname = 'year',\n",
    "                    xformla = ~ pop_density + unemployed + female + avg_age,\n",
    "                    data = reg_data,\n",
    "                    est_method = 'reg',\n",
    "                    anticipation = 0,\n",
    "                    control_group = 'notyettreated',\n",
    "                    clustervars = c('AGS'),\n",
    "                    bstrap = TRUE,\n",
    "                    cband = TRUE,\n",
    "                    allow_unbalanced_panel = TRUE,\n",
    "                    \n",
    "      )\n",
    "    results[[length(results)+1]] <- result\n",
    "    # calculate ATT\n",
    "    att <- aggte(result, type = \"group\", bstrap = TRUE, clustervars = c('AGS'))\n",
    "    # plot results\n",
    "    result_fig <- ggdid(result, \n",
    "              ylim = c(floor(min(result$att - result$se * 2.345 - 1)), ceiling(max(result$att + result$se * 2.345 + 1))),\n",
    "              ncol = 3, ax_text_size = 8, grtitle='', title_size = 10, legend=F) +\n",
    "              labs(caption = sprintf('Overall ATT (SE): %.3f (%.3f) \\n Wald-p: %.3f; Municipalities: %s \\n' ,\n",
    "              att$overall.att, att$overall.se, result$Wpval, format(result$n, big.mark=\",\"))) +\n",
    "              theme(plot.caption = element_text(hjust=0.5, size=8),\n",
    "              panel.background = element_rect(fill='transparent'),\n",
    "              plot.background = element_rect(fill='transparent', color=NA),\n",
    "              legend.background = element_rect(fill='transparent'),\n",
    "              legend.box.background = element_rect(fill='transparent'),\n",
    "              plot.margin=unit(c(0,0,0,0),\"cm\"))\n",
    "    # Get caption for ATT plot\n",
    "    cap = ''\n",
    "      for(i in 1:length(att$DIDparams$glist)) {\n",
    "        cap <- sprintf('%s ATT (SE): %.3f (%.3f)\\n%s', att$DIDparams$glist[[i]], att$att.egt[[i]], att$se.egt[[i]], cap)\n",
    "      }\n",
    "    # Plot ATT\n",
    "    att_fig <- ggdid(att, legend=F, x_lab='', ax_text_size = 8, ylab='', title='ATT by group', title_size = 10) + \n",
    "              labs(caption = cap) +\n",
    "              theme(plot.caption = element_text(hjust=0.5, size=8), \n",
    "              axis.title.x = element_blank(),\n",
    "              axis.text.y = element_text(angle=90, size=6, hjust=0.5),\n",
    "              panel.background = element_rect(fill='transparent'),\n",
    "              plot.background = element_rect(fill='transparent', color=NA),\n",
    "              legend.background = element_rect(fill='transparent'),\n",
    "              legend.box.background = element_rect(fill='transparent'),\n",
    "              plot.margin=unit(c(0,0,0,0),\"cm\"))\n",
    "    # Combine and annotate Group and ATT plot\n",
    "    # Get number of results plots\n",
    "    nr <- length(unique(result_fig$data$grtitle))\n",
    "    combined_fig <- ggarrange(result_fig, att_fig, widths = c(nr, 1)) + \n",
    "                    theme(plot.margin=unit(c(0,0,0,0),\"cm\"))\n",
    "    combined_fig_anno <- annotate_figure(combined_fig,\n",
    "                  top = text_grob(sprintf('Treatment: %s', treatments_dict[[treatment]])))\n",
    "    figures[[length(figures)+1]] <- combined_fig_anno\n",
    "    }\n",
    "    # Combine Figures for all treatments\n",
    "    arranged_fig <- ggarrange(plotlist=figures, nrow = 4, ncol = 1, common.legend = TRUE)\n",
    "    # get legend\n",
    "    result_fig <- ggdid(result) +\n",
    "                theme(\n",
    "                legend.background = element_rect(fill='transparent', color='transparent'),\n",
    "                legend.box.background = element_rect(fill='transparent', color='transparent'),\n",
    "                plot.margin=unit(c(0,0,0,0),\"cm\"))\n",
    "    leg <- get_legend(result_fig)\n",
    "    # add legend\n",
    "    arranged_fig_leg <- ggarrange(arranged_fig, leg, nrow = 2, ncol = 1, heights = c(10, 1))\n",
    "    # Annotate final figure\n",
    "    final_fig <- annotate_figure(arranged_fig_leg,\n",
    "                    top = text_grob(sprintf(\"BTW in %s - Effect on %s's vote share\", states_dict[[state]], party), face = \"bold\", size = 14),\n",
    "                    bottom = text_grob('Control Group: Not-yet Treated. Estimation Method: Regression. \\n Standard Errors clustered on the municipality level. \\n Included Controls: Population Density, Share of Unemployed, Share of Females, Average Age.', size = 10))\n",
    "    # Add Figure number\n",
    "    final_fig <- annotate_figure(final_fig, top = text_grob(sprintf(\"Fig.: R%s\", n), face = \"bold\", size = 10))\n",
    "    # Save\n",
    "    ggsave(sprintf('%s_%s_%s.png', n, state, party), plot = final_fig, path = sprintf('%s/figures/R/BTW/by_state/all', path), units = 'cm', width = 21, height = 29.7, dpi=\"print\")\n",
    "    ggsave(sprintf('%s_%s_%s.png', n, state, party), plot = final_fig, path = sprintf('%s/figures/R/BTW/by_state/%s', path, party), units = 'cm', width = 21, height = 29.7, dpi=\"print\")\n",
    "    n <- n + 1\n",
    "  }\n",
    "}"
   ]
  }
 ],
 "metadata": {
  "kernelspec": {
   "display_name": "R",
   "language": "R",
   "name": "ir"
  },
  "language_info": {
   "codemirror_mode": "r",
   "file_extension": ".r",
   "mimetype": "text/x-r-source",
   "name": "R",
   "pygments_lexer": "r",
   "version": "4.2.1"
  },
  "orig_nbformat": 4,
  "vscode": {
   "interpreter": {
    "hash": "656f4cd1472b14b513faaa63bd5e4a7577d125de6a277113d4e82c4085557d3e"
   }
  }
 },
 "nbformat": 4,
 "nbformat_minor": 2
}
