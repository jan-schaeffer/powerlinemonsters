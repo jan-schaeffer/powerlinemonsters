{
 "cells": [
  {
   "cell_type": "code",
   "execution_count": 4,
   "metadata": {
    "vscode": {
     "languageId": "r"
    }
   },
   "outputs": [],
   "source": [
    "# Clear the R environment and set working directory\n",
    "rm(list = ls())\n",
    "setwd(\"/Users/jan/Dropbox/UP_EPQM/2222/MA/powerlinemonsters\")\n",
    "path <- \"/Users/jan/Dropbox/UP_EPQM/2222/MA/powerlinemonsters\""
   ]
  },
  {
   "cell_type": "code",
   "execution_count": 30,
   "metadata": {
    "vscode": {
     "languageId": "r"
    }
   },
   "outputs": [
    {
     "name": "stderr",
     "output_type": "stream",
     "text": [
      "also installing the dependencies ‘deldir’, ‘polyclip’, ‘spatstat.sparse’, ‘tensor’, ‘goftest’, ‘spatstat.data’, ‘spatstat.geom’, ‘spatstat.random’, ‘spatstat.core’, ‘spatstat.linnet’, ‘spatstat.utils’\n",
      "\n",
      "\n"
     ]
    },
    {
     "name": "stdout",
     "output_type": "stream",
     "text": [
      "\n",
      "The downloaded binary packages are in\n",
      "\t/var/folders/wm/mtrphj0s0msgrmyshf3hgk740000gn/T//RtmpBNPF2i/downloaded_packages\n"
     ]
    },
    {
     "name": "stderr",
     "output_type": "stream",
     "text": [
      "Loading required package: spatstat.data\n",
      "\n",
      "Loading required package: spatstat.geom\n",
      "\n",
      "spatstat.geom 2.4-0\n",
      "\n",
      "Loading required package: spatstat.random\n",
      "\n",
      "spatstat.random 2.2-0\n",
      "\n",
      "Loading required package: spatstat.core\n",
      "\n",
      "Loading required package: nlme\n",
      "\n",
      "Loading required package: rpart\n",
      "\n",
      "spatstat.core 2.4-4\n",
      "\n",
      "Loading required package: spatstat.linnet\n",
      "\n",
      "spatstat.linnet 2.3-2\n",
      "\n",
      "\n",
      "spatstat 2.3-4       (nickname: ‘Watch this space’) \n",
      "For an introduction to spatstat, type ‘beginner’ \n",
      "\n",
      "\n"
     ]
    }
   ],
   "source": [
    "# Install and load additional packages needed\n",
    "# install.packages(\"spatstat\")\n",
    "library(did)\n",
    "library(rio)\n",
    "library(ggplot2)\n",
    "library(spatstat)"
   ]
  },
  {
   "cell_type": "code",
   "execution_count": 38,
   "metadata": {
    "vscode": {
     "languageId": "r"
    }
   },
   "outputs": [
    {
     "data": {
      "text/plain": [
       "      AGS               GEN                 year          Land          \n",
       " Min.   : 1001000   Length:141136      Min.   :1994   Length:141136     \n",
       " 1st Qu.: 6433006   Class :character   1st Qu.:1998   Class :character  \n",
       " Median : 7338022   Mode  :character   Median :2005   Mode  :character  \n",
       " Mean   : 7890831                      Mean   :2006                     \n",
       " 3rd Qu.: 9572121                      3rd Qu.:2013                     \n",
       " Max.   :16077055                      Max.   :2017                     \n",
       "                                                                        \n",
       "    state_id          Kreis          Wahlkreis     post_1998     \n",
       " Min.   : 1.000   Min.   : 101.0   Min.   :  1   Min.   :0.0000  \n",
       " 1st Qu.: 6.000   1st Qu.: 631.0   1st Qu.: 63   1st Qu.:0.0000  \n",
       " Median : 7.000   Median : 743.0   Median :196   Median :1.0000  \n",
       " Mean   : 7.616   Mean   : 814.3   Mean   :161   Mean   :0.7326  \n",
       " 3rd Qu.: 9.000   3rd Qu.: 977.0   3rd Qu.:226   3rd Qu.:1.0000  \n",
       " Max.   :16.000   Max.   :1677.0   Max.   :307   Max.   :1.0000  \n",
       "                                                                 \n",
       "   post_2002        post_2005        post_2009        post_2013     \n",
       " Min.   :0.0000   Min.   :0.0000   Min.   :0.0000   Min.   :0.0000  \n",
       " 1st Qu.:0.0000   1st Qu.:0.0000   1st Qu.:0.0000   1st Qu.:0.0000  \n",
       " Median :1.0000   Median :0.0000   Median :0.0000   Median :0.0000  \n",
       " Mean   :0.5966   Mean   :0.4596   Mean   :0.3137   Mean   :0.1556  \n",
       " 3rd Qu.:1.0000   3rd Qu.:1.0000   3rd Qu.:1.0000   3rd Qu.:0.0000  \n",
       " Max.   :1.0000   Max.   :1.0000   Max.   :1.0000   Max.   :1.0000  \n",
       "                                                                    \n",
       "   first_vote     second_vote        Wähler           Gültig       \n",
       " Min.   :1       Min.   :1       Min.   : 23.58   Min.   :      3  \n",
       " 1st Qu.:1       1st Qu.:1       1st Qu.: 67.14   1st Qu.:    345  \n",
       " Median :1       Median :1       Median : 74.14   Median :    961  \n",
       " Mean   :1       Mean   :1       Mean   : 72.87   Mean   :   4154  \n",
       " 3rd Qu.:1       3rd Qu.:1       3rd Qu.: 79.87   3rd Qu.:   3001  \n",
       " Max.   :1       Max.   :1       Max.   :212.70   Max.   :1957959  \n",
       " NA's   :70568   NA's   :70568                                     \n",
       "     Union             SPD             FDP             Linke        \n",
       " Min.   :  0.00   Min.   : 0.00   Min.   : 0.000   Min.   : 0.0000  \n",
       " 1st Qu.: 35.70   1st Qu.:19.66   1st Qu.: 3.473   1st Qu.: 0.7592  \n",
       " Median : 43.67   Median :28.73   Median : 5.925   Median : 3.5659  \n",
       " Mean   : 44.65   Mean   :29.75   Mean   : 6.909   Mean   : 5.8999  \n",
       " 3rd Qu.: 52.72   3rd Qu.:38.64   3rd Qu.: 9.298   3rd Qu.: 7.0081  \n",
       " Max.   :100.00   Max.   :88.24   Max.   :63.133   Max.   :55.2941  \n",
       "                                                                    \n",
       "     Grüne            Andere       treatment_05       treatment_09      \n",
       " Min.   : 0.000   Min.   : 0.000   Length:141136      Length:141136     \n",
       " 1st Qu.: 3.513   1st Qu.: 2.251   Class :character   Class :character  \n",
       " Median : 5.367   Median : 4.692   Mode  :character   Mode  :character  \n",
       " Mean   : 5.950   Mean   : 6.832                                        \n",
       " 3rd Qu.: 7.749   3rd Qu.: 9.027                                        \n",
       " Max.   :54.545   Max.   :65.714                                        \n",
       "                                                                        \n",
       " treatment_13        treatment_30     treatment_60  treatment_100 \n",
       " Length:141136      Min.   :   0.0   Min.   :   0   Min.   :   0  \n",
       " Class :character   1st Qu.:   0.0   1st Qu.:   0   1st Qu.:   0  \n",
       " Mode  :character   Median :   0.0   Median :2005   Median :2005  \n",
       "                    Mean   : 769.2   Mean   :1172   Mean   :1475  \n",
       "                    3rd Qu.:2010.0   3rd Qu.:2010   3rd Qu.:2010  \n",
       "                    Max.   :2014.0   Max.   :2014   Max.   :2014  \n",
       "                                                                  "
      ]
     },
     "metadata": {},
     "output_type": "display_data"
    }
   ],
   "source": [
    "# read in the data set\n",
    "btw <-import(sprintf(\"%s/data/btw_treat.csv\", path))\n",
    "summary(btw)"
   ]
  },
  {
   "cell_type": "code",
   "execution_count": 39,
   "metadata": {
    "vscode": {
     "languageId": "r"
    }
   },
   "outputs": [],
   "source": [
    "state_dummies <- dummify(btw$Land)"
   ]
  },
  {
   "cell_type": "code",
   "execution_count": 40,
   "metadata": {
    "vscode": {
     "languageId": "r"
    }
   },
   "outputs": [],
   "source": [
    "btw <- cbind(btw, state_dummies)"
   ]
  },
  {
   "cell_type": "code",
   "execution_count": 43,
   "metadata": {
    "vscode": {
     "languageId": "r"
    }
   },
   "outputs": [
    {
     "data": {
      "text/html": [
       "<style>\n",
       ".list-inline {list-style: none; margin:0; padding: 0}\n",
       ".list-inline>li {display: inline-block}\n",
       ".list-inline>li:not(:last-child)::after {content: \"\\00b7\"; padding: 0 .5ex}\n",
       "</style>\n",
       "<ol class=list-inline><li>'AGS'</li><li>'GEN'</li><li>'year'</li><li>'Land'</li><li>'state_id'</li><li>'Kreis'</li><li>'Wahlkreis'</li><li>'post_1998'</li><li>'post_2002'</li><li>'post_2005'</li><li>'post_2009'</li><li>'post_2013'</li><li>'first_vote'</li><li>'second_vote'</li><li>'Wähler'</li><li>'Gültig'</li><li>'Union'</li><li>'SPD'</li><li>'FDP'</li><li>'Linke'</li><li>'Grüne'</li><li>'Andere'</li><li>'treatment_05'</li><li>'treatment_09'</li><li>'treatment_13'</li><li>'treatment_30'</li><li>'treatment_60'</li><li>'treatment_100'</li><li>'BB'</li><li>'BE'</li><li>'BW'</li><li>'BY'</li><li>'HB'</li><li>'HE'</li><li>'HH'</li><li>'MV'</li><li>'NI'</li><li>'NW'</li><li>'RP'</li><li>'SH'</li><li>'SL'</li><li>'SN'</li><li>'ST'</li><li>'TH'</li></ol>\n"
      ],
      "text/latex": [
       "\\begin{enumerate*}\n",
       "\\item 'AGS'\n",
       "\\item 'GEN'\n",
       "\\item 'year'\n",
       "\\item 'Land'\n",
       "\\item 'state\\_id'\n",
       "\\item 'Kreis'\n",
       "\\item 'Wahlkreis'\n",
       "\\item 'post\\_1998'\n",
       "\\item 'post\\_2002'\n",
       "\\item 'post\\_2005'\n",
       "\\item 'post\\_2009'\n",
       "\\item 'post\\_2013'\n",
       "\\item 'first\\_vote'\n",
       "\\item 'second\\_vote'\n",
       "\\item 'Wähler'\n",
       "\\item 'Gültig'\n",
       "\\item 'Union'\n",
       "\\item 'SPD'\n",
       "\\item 'FDP'\n",
       "\\item 'Linke'\n",
       "\\item 'Grüne'\n",
       "\\item 'Andere'\n",
       "\\item 'treatment\\_05'\n",
       "\\item 'treatment\\_09'\n",
       "\\item 'treatment\\_13'\n",
       "\\item 'treatment\\_30'\n",
       "\\item 'treatment\\_60'\n",
       "\\item 'treatment\\_100'\n",
       "\\item 'BB'\n",
       "\\item 'BE'\n",
       "\\item 'BW'\n",
       "\\item 'BY'\n",
       "\\item 'HB'\n",
       "\\item 'HE'\n",
       "\\item 'HH'\n",
       "\\item 'MV'\n",
       "\\item 'NI'\n",
       "\\item 'NW'\n",
       "\\item 'RP'\n",
       "\\item 'SH'\n",
       "\\item 'SL'\n",
       "\\item 'SN'\n",
       "\\item 'ST'\n",
       "\\item 'TH'\n",
       "\\end{enumerate*}\n"
      ],
      "text/markdown": [
       "1. 'AGS'\n",
       "2. 'GEN'\n",
       "3. 'year'\n",
       "4. 'Land'\n",
       "5. 'state_id'\n",
       "6. 'Kreis'\n",
       "7. 'Wahlkreis'\n",
       "8. 'post_1998'\n",
       "9. 'post_2002'\n",
       "10. 'post_2005'\n",
       "11. 'post_2009'\n",
       "12. 'post_2013'\n",
       "13. 'first_vote'\n",
       "14. 'second_vote'\n",
       "15. 'Wähler'\n",
       "16. 'Gültig'\n",
       "17. 'Union'\n",
       "18. 'SPD'\n",
       "19. 'FDP'\n",
       "20. 'Linke'\n",
       "21. 'Grüne'\n",
       "22. 'Andere'\n",
       "23. 'treatment_05'\n",
       "24. 'treatment_09'\n",
       "25. 'treatment_13'\n",
       "26. 'treatment_30'\n",
       "27. 'treatment_60'\n",
       "28. 'treatment_100'\n",
       "29. 'BB'\n",
       "30. 'BE'\n",
       "31. 'BW'\n",
       "32. 'BY'\n",
       "33. 'HB'\n",
       "34. 'HE'\n",
       "35. 'HH'\n",
       "36. 'MV'\n",
       "37. 'NI'\n",
       "38. 'NW'\n",
       "39. 'RP'\n",
       "40. 'SH'\n",
       "41. 'SL'\n",
       "42. 'SN'\n",
       "43. 'ST'\n",
       "44. 'TH'\n",
       "\n",
       "\n"
      ],
      "text/plain": [
       " [1] \"AGS\"           \"GEN\"           \"year\"          \"Land\"         \n",
       " [5] \"state_id\"      \"Kreis\"         \"Wahlkreis\"     \"post_1998\"    \n",
       " [9] \"post_2002\"     \"post_2005\"     \"post_2009\"     \"post_2013\"    \n",
       "[13] \"first_vote\"    \"second_vote\"   \"Wähler\"        \"Gültig\"       \n",
       "[17] \"Union\"         \"SPD\"           \"FDP\"           \"Linke\"        \n",
       "[21] \"Grüne\"         \"Andere\"        \"treatment_05\"  \"treatment_09\" \n",
       "[25] \"treatment_13\"  \"treatment_30\"  \"treatment_60\"  \"treatment_100\"\n",
       "[29] \"BB\"            \"BE\"            \"BW\"            \"BY\"           \n",
       "[33] \"HB\"            \"HE\"            \"HH\"            \"MV\"           \n",
       "[37] \"NI\"            \"NW\"            \"RP\"            \"SH\"           \n",
       "[41] \"SL\"            \"SN\"            \"ST\"            \"TH\"           "
      ]
     },
     "metadata": {},
     "output_type": "display_data"
    }
   ],
   "source": [
    "colnames(btw)"
   ]
  },
  {
   "cell_type": "code",
   "execution_count": 42,
   "metadata": {
    "vscode": {
     "languageId": "r"
    }
   },
   "outputs": [],
   "source": [
    "# Filter for first and second vote\n",
    "erst <- subset(btw, first_vote == 1)\n",
    "zweit <- subset(btw, second_vote == 1)"
   ]
  },
  {
   "cell_type": "code",
   "execution_count": 46,
   "metadata": {
    "vscode": {
     "languageId": "r"
    }
   },
   "outputs": [
    {
     "ename": "ERROR",
     "evalue": "Error in DRDID::drdid_rc(y = Y, post = post, D = G, covariates = covariates, : Propensity score model coefficients have NA components. \n Multicollinearity (or lack of variation) of covariates is a likely reason.\n",
     "output_type": "error",
     "traceback": [
      "Error in DRDID::drdid_rc(y = Y, post = post, D = G, covariates = covariates, : Propensity score model coefficients have NA components. \n Multicollinearity (or lack of variation) of covariates is a likely reason.\nTraceback:\n",
      "1. att_gt(yname = party, gname = treatment, idname = \"AGS\", panel = TRUE, \n .     tname = \"year\", xformla = ~+BE + BW + BY + HB + HE + HH + \n .         MV + NI + NW + RP + SH + SL + SN + ST + TH, data = erst, \n .     est_method = \"dr\", anticipation = 0, control_group = \"nevertreated\", \n .     clustervars = c(\"AGS\", \"state_id\"), allow_unbalanced_panel = TRUE, \n .     )",
      "2. compute.att_gt(dp)",
      "3. DRDID::drdid_rc(y = Y, post = post, D = G, covariates = covariates, \n .     i.weights = w, boot = FALSE, inffunc = TRUE)",
      "4. stop(\"Propensity score model coefficients have NA components. \\n Multicollinearity (or lack of variation) of covariates is a likely reason.\")"
     ]
    }
   ],
   "source": [
    "parties <- c('Union', 'SPD', 'FDP', 'Linke', 'Grüne', 'Andere')\n",
    "treatments <-  c('treatment_30', 'treatment_60', 'treatment_100')\n",
    "\n",
    "for(party in parties){\n",
    "  for(treatment in treatments){\n",
    "    out <- att_gt(yname = party,\n",
    "                  gname = treatment,\n",
    "                  idname = 'AGS',\n",
    "                  panel = TRUE,\n",
    "                  tname = 'year',\n",
    "                  xformla = ~ 1, # C(Land),\n",
    "                  data = erst,\n",
    "                  est_method = 'dr',\n",
    "                  anticipation = 0,\n",
    "                  control_group = 'nevertreated',\n",
    "                  clustervars = c('AGS', 'state_id'),\n",
    "                  #bstrap = TRUE,\n",
    "                  #cband = TRUE,\n",
    "                  allow_unbalanced_panel = TRUE,\n",
    "    )\n",
    "    # summary(out)\n",
    "    ggdid(out, ylim = c(floor(min(out$att - out$se * 2.345 - 1)), ceiling(max(out$att + out$se * 2.345 + 1))))\n",
    "    ggsave(sprintf('%s/figures/R/Group/%s_%s.png', path, party, treatment))\n",
    "    es <- aggte(out, type = 'dynamic')\n",
    "    # summary(es)\n",
    "    ggdid(es, ylim = c(floor(min(es$att.egt - es$se.egt * 2.345 - 1)), ceiling(max(es$att.egt + es$se.egt * 2.345 + 1))))\n",
    "    ggsave(sprintf('%s/figures/R/ES/ES_%s_%s.png', path, party, treatment))\n",
    "  }\n",
    "}"
   ]
  }
 ],
 "metadata": {
  "kernelspec": {
   "display_name": "R",
   "language": "R",
   "name": "ir"
  },
  "language_info": {
   "codemirror_mode": "r",
   "file_extension": ".r",
   "mimetype": "text/x-r-source",
   "name": "R",
   "pygments_lexer": "r",
   "version": "4.2.1"
  },
  "orig_nbformat": 4
 },
 "nbformat": 4,
 "nbformat_minor": 2
}
