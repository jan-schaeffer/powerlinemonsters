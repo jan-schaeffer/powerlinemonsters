{
 "cells": [
  {
   "cell_type": "markdown",
   "metadata": {},
   "source": [
    "Setup Environment"
   ]
  },
  {
   "cell_type": "code",
   "execution_count": 1,
   "metadata": {
    "vscode": {
     "languageId": "r"
    }
   },
   "outputs": [],
   "source": [
    "# Clear the R environment and set working directory\n",
    "rm(list = ls())\n",
    "setwd(\"/Users/jan/Dropbox/UP_EPQM/2222/MA/powerlinemonsters\")\n",
    "path <- \"/Users/jan/Dropbox/UP_EPQM/2222/MA/powerlinemonsters\""
   ]
  },
  {
   "cell_type": "markdown",
   "metadata": {},
   "source": [
    "Load packages"
   ]
  },
  {
   "cell_type": "code",
   "execution_count": 59,
   "metadata": {
    "vscode": {
     "languageId": "r"
    }
   },
   "outputs": [
    {
     "data": {
      "text/html": [
       "'/Library/Frameworks/R.framework/Versions/4.2-arm64/Resources/library'"
      ],
      "text/latex": [
       "'/Library/Frameworks/R.framework/Versions/4.2-arm64/Resources/library'"
      ],
      "text/markdown": [
       "'/Library/Frameworks/R.framework/Versions/4.2-arm64/Resources/library'"
      ],
      "text/plain": [
       "[1] \"/Library/Frameworks/R.framework/Versions/4.2-arm64/Resources/library\""
      ]
     },
     "metadata": {},
     "output_type": "display_data"
    }
   ],
   "source": [
    "# Install and load additional packages needed\n",
    "#install.packages(\"did\")\n",
    "library(did)\n",
    "library(rio)\n",
    "library(ggplot2)\n",
    "library(ggpubr)\n",
    "library(cowplot)\n",
    "library(hash)\n",
    ".libPaths()"
   ]
  },
  {
   "cell_type": "markdown",
   "metadata": {},
   "source": [
    "DiD for BTW no controls"
   ]
  },
  {
   "cell_type": "code",
   "execution_count": 47,
   "metadata": {
    "vscode": {
     "languageId": "r"
    }
   },
   "outputs": [],
   "source": [
    "# read in the data set\n",
    "btw <- import(sprintf(\"%s/data/btw_treat.csv\", path))\n",
    "# Filter for first and second vote\n",
    "erst <- subset(btw, first_vote == 1)\n",
    "zweit <- subset(btw, second_vote == 1)"
   ]
  },
  {
   "cell_type": "code",
   "execution_count": 18,
   "metadata": {
    "vscode": {
     "languageId": "r"
    }
   },
   "outputs": [
    {
     "data": {
      "text/html": [
       "<style>\n",
       ".list-inline {list-style: none; margin:0; padding: 0}\n",
       ".list-inline>li {display: inline-block}\n",
       ".list-inline>li:not(:last-child)::after {content: \"\\00b7\"; padding: 0 .5ex}\n",
       "</style>\n",
       "<ol class=list-inline><li>'AGS'</li><li>'GEN'</li><li>'year'</li><li>'Land'</li><li>'state_id'</li><li>'Kreis'</li><li>'Wahlkreis'</li><li>'post_1998'</li><li>'post_2002'</li><li>'post_2005'</li><li>'post_2009'</li><li>'post_2013'</li><li>'first_vote'</li><li>'second_vote'</li><li>'Wähler'</li><li>'Gültig'</li><li>'Union'</li><li>'SPD'</li><li>'FDP'</li><li>'Linke'</li><li>'Grüne'</li><li>'Andere'</li><li>'treatment_05'</li><li>'treatment_09'</li><li>'treatment_13'</li><li>'treatment_0'</li><li>'treatment_15'</li><li>'treatment_30'</li><li>'treatment_50'</li><li>'ever_treated'</li><li>'never_treated'</li></ol>\n"
      ],
      "text/latex": [
       "\\begin{enumerate*}\n",
       "\\item 'AGS'\n",
       "\\item 'GEN'\n",
       "\\item 'year'\n",
       "\\item 'Land'\n",
       "\\item 'state\\_id'\n",
       "\\item 'Kreis'\n",
       "\\item 'Wahlkreis'\n",
       "\\item 'post\\_1998'\n",
       "\\item 'post\\_2002'\n",
       "\\item 'post\\_2005'\n",
       "\\item 'post\\_2009'\n",
       "\\item 'post\\_2013'\n",
       "\\item 'first\\_vote'\n",
       "\\item 'second\\_vote'\n",
       "\\item 'Wähler'\n",
       "\\item 'Gültig'\n",
       "\\item 'Union'\n",
       "\\item 'SPD'\n",
       "\\item 'FDP'\n",
       "\\item 'Linke'\n",
       "\\item 'Grüne'\n",
       "\\item 'Andere'\n",
       "\\item 'treatment\\_05'\n",
       "\\item 'treatment\\_09'\n",
       "\\item 'treatment\\_13'\n",
       "\\item 'treatment\\_0'\n",
       "\\item 'treatment\\_15'\n",
       "\\item 'treatment\\_30'\n",
       "\\item 'treatment\\_50'\n",
       "\\item 'ever\\_treated'\n",
       "\\item 'never\\_treated'\n",
       "\\end{enumerate*}\n"
      ],
      "text/markdown": [
       "1. 'AGS'\n",
       "2. 'GEN'\n",
       "3. 'year'\n",
       "4. 'Land'\n",
       "5. 'state_id'\n",
       "6. 'Kreis'\n",
       "7. 'Wahlkreis'\n",
       "8. 'post_1998'\n",
       "9. 'post_2002'\n",
       "10. 'post_2005'\n",
       "11. 'post_2009'\n",
       "12. 'post_2013'\n",
       "13. 'first_vote'\n",
       "14. 'second_vote'\n",
       "15. 'Wähler'\n",
       "16. 'Gültig'\n",
       "17. 'Union'\n",
       "18. 'SPD'\n",
       "19. 'FDP'\n",
       "20. 'Linke'\n",
       "21. 'Grüne'\n",
       "22. 'Andere'\n",
       "23. 'treatment_05'\n",
       "24. 'treatment_09'\n",
       "25. 'treatment_13'\n",
       "26. 'treatment_0'\n",
       "27. 'treatment_15'\n",
       "28. 'treatment_30'\n",
       "29. 'treatment_50'\n",
       "30. 'ever_treated'\n",
       "31. 'never_treated'\n",
       "\n",
       "\n"
      ],
      "text/plain": [
       " [1] \"AGS\"           \"GEN\"           \"year\"          \"Land\"         \n",
       " [5] \"state_id\"      \"Kreis\"         \"Wahlkreis\"     \"post_1998\"    \n",
       " [9] \"post_2002\"     \"post_2005\"     \"post_2009\"     \"post_2013\"    \n",
       "[13] \"first_vote\"    \"second_vote\"   \"Wähler\"        \"Gültig\"       \n",
       "[17] \"Union\"         \"SPD\"           \"FDP\"           \"Linke\"        \n",
       "[21] \"Grüne\"         \"Andere\"        \"treatment_05\"  \"treatment_09\" \n",
       "[25] \"treatment_13\"  \"treatment_0\"   \"treatment_15\"  \"treatment_30\" \n",
       "[29] \"treatment_50\"  \"ever_treated\"  \"never_treated\""
      ]
     },
     "metadata": {},
     "output_type": "display_data"
    }
   ],
   "source": [
    "colnames(btw)"
   ]
  },
  {
   "cell_type": "code",
   "execution_count": 49,
   "metadata": {
    "vscode": {
     "languageId": "r"
    }
   },
   "outputs": [
    {
     "name": "stdout",
     "output_type": "stream",
     "text": [
      "[1] \"Union\"\n",
      "[1] \"SPD\"\n",
      "[1] \"FDP\"\n",
      "[1] \"Linke\"\n",
      "[1] \"Grüne\"\n",
      "[1] \"Andere\"\n"
     ]
    }
   ],
   "source": [
    "parties <- c('Union', 'SPD', 'FDP', 'Linke', 'Grüne', 'Andere')\n",
    "treatments <- hash('treatment_0'='Direct Line', 'treatment_15'='Within 15km', 'treatment_30'='Within 30km', 'treatment_50'='Within 50km')\n",
    "keys <- keys(treatments)\n",
    "results  <- list()\n",
    "for(party in parties){\n",
    "  figures  <- list()\n",
    "  for(treatment in keys){\n",
    "    result <- att_gt(yname = party,\n",
    "                  gname = treatment,\n",
    "                  idname = 'AGS',\n",
    "                  panel = TRUE,\n",
    "                  tname = 'year',\n",
    "                  xformla = ~ 1,\n",
    "                  data = erst,\n",
    "                  est_method = 'dr',\n",
    "                  anticipation = 0,\n",
    "                  control_group = 'nevertreated',\n",
    "                  clustervars = c('AGS'),\n",
    "                  bstrap = TRUE,\n",
    "                  cband = TRUE,\n",
    "                  allow_unbalanced_panel = TRUE,\n",
    "                  \n",
    "    )\n",
    "    att <- aggte(result, type = \"simple\", bstrap = TRUE, clustervars = c('AGS'))\n",
    "\n",
    "    figures[[length(figures)+1]] <- ggdid(result, \n",
    "              ylim = c(floor(min(result$att - result$se * 2.345 - 1)), ceiling(max(result$att + result$se * 2.345 + 1))),\n",
    "              title = (sprintf('%s', treatments[[treatment]])),\n",
    "              ncol = 3, lab_size = 10\n",
    "              ) +\n",
    "              labs(caption = sprintf('Overall ATT (SE): %.3f (%.3f) \\n P-value for pre-test of parallel trends assumption: %.3f \\n # Obs.: %s'\n",
    "              , att$overall.att, att$overall.se, result$Wpval, result$n)) +\n",
    "              theme(plot.caption = element_text(hjust=0.5))\n",
    "    \n",
    "    results[[length(results)+1]] <- result\n",
    "  }\n",
    "  arranged_fig <- ggarrange(plotlist=figures, nrow = 4, ncol = 1, common.legend = TRUE, legend = 'bottom')\n",
    "  final_fig <- annotate_figure(arranged_fig,\n",
    "                  top = text_grob(sprintf(\"Effect on %s's vote share\", party), face = \"bold\", size = 14),\n",
    "                  bottom = text_grob('Control Group: Never Treated. Estimation Method: Doubly Robust', size = 10),)\n",
    "  ggsave(sprintf('All_%s.png', party), plot = final_fig, path = sprintf('%s/figures/R/BTW/', path), units = 'cm', width = 21, height = 29.7, dpi=\"print\")\n",
    "  print(party)\n",
    "}"
   ]
  },
  {
   "cell_type": "code",
   "execution_count": 60,
   "metadata": {
    "vscode": {
     "languageId": "r"
    }
   },
   "outputs": [],
   "source": [
    "btw_c <- import(sprintf(\"%s/data/btw_control.csv\", path))\n",
    "erst_c <- subset(btw_c, first_vote == 1)"
   ]
  },
  {
   "cell_type": "code",
   "execution_count": 63,
   "metadata": {
    "vscode": {
     "languageId": "r"
    }
   },
   "outputs": [
    {
     "name": "stderr",
     "output_type": "stream",
     "text": [
      "Warning message in pre_process_did(yname = yname, tname = tname, idname = idname, :\n",
      "“dropped 425 rows from original data due to missing data”\n",
      "Warning message in pre_process_did(yname = yname, tname = tname, idname = idname, :\n",
      "“dropped 425 rows from original data due to missing data”\n",
      "Warning message in pre_process_did(yname = yname, tname = tname, idname = idname, :\n",
      "“dropped 425 rows from original data due to missing data”\n",
      "Warning message in pre_process_did(yname = yname, tname = tname, idname = idname, :\n",
      "“dropped 425 rows from original data due to missing data”\n",
      "Warning message in pre_process_did(yname = yname, tname = tname, idname = idname, :\n",
      "“Be aware that there are some small groups in your dataset.\n",
      "  Check groups: 2014.”\n"
     ]
    },
    {
     "name": "stdout",
     "output_type": "stream",
     "text": [
      "[1] \"BB\"\n",
      "[1] \"Union\"\n"
     ]
    },
    {
     "name": "stderr",
     "output_type": "stream",
     "text": [
      "Warning message in pre_process_did(yname = yname, tname = tname, idname = idname, :\n",
      "“dropped 425 rows from original data due to missing data”\n",
      "Warning message in pre_process_did(yname = yname, tname = tname, idname = idname, :\n",
      "“dropped 425 rows from original data due to missing data”\n",
      "Warning message in pre_process_did(yname = yname, tname = tname, idname = idname, :\n",
      "“dropped 425 rows from original data due to missing data”\n",
      "Warning message in pre_process_did(yname = yname, tname = tname, idname = idname, :\n",
      "“dropped 425 rows from original data due to missing data”\n",
      "Warning message in pre_process_did(yname = yname, tname = tname, idname = idname, :\n",
      "“Be aware that there are some small groups in your dataset.\n",
      "  Check groups: 2014.”\n"
     ]
    },
    {
     "name": "stdout",
     "output_type": "stream",
     "text": [
      "[1] \"BB\"\n",
      "[1] \"SPD\"\n"
     ]
    },
    {
     "name": "stderr",
     "output_type": "stream",
     "text": [
      "Warning message in pre_process_did(yname = yname, tname = tname, idname = idname, :\n",
      "“dropped 425 rows from original data due to missing data”\n",
      "Warning message in pre_process_did(yname = yname, tname = tname, idname = idname, :\n",
      "“dropped 425 rows from original data due to missing data”\n",
      "Warning message in pre_process_did(yname = yname, tname = tname, idname = idname, :\n",
      "“dropped 425 rows from original data due to missing data”\n",
      "Warning message in pre_process_did(yname = yname, tname = tname, idname = idname, :\n",
      "“dropped 425 rows from original data due to missing data”\n",
      "Warning message in pre_process_did(yname = yname, tname = tname, idname = idname, :\n",
      "“Be aware that there are some small groups in your dataset.\n",
      "  Check groups: 2014.”\n"
     ]
    },
    {
     "name": "stdout",
     "output_type": "stream",
     "text": [
      "[1] \"BB\"\n",
      "[1] \"FDP\"\n"
     ]
    },
    {
     "name": "stderr",
     "output_type": "stream",
     "text": [
      "Warning message in pre_process_did(yname = yname, tname = tname, idname = idname, :\n",
      "“dropped 425 rows from original data due to missing data”\n",
      "Warning message in pre_process_did(yname = yname, tname = tname, idname = idname, :\n",
      "“dropped 425 rows from original data due to missing data”\n",
      "Warning message in pre_process_did(yname = yname, tname = tname, idname = idname, :\n",
      "“dropped 425 rows from original data due to missing data”\n",
      "Warning message in pre_process_did(yname = yname, tname = tname, idname = idname, :\n",
      "“dropped 425 rows from original data due to missing data”\n",
      "Warning message in pre_process_did(yname = yname, tname = tname, idname = idname, :\n",
      "“Be aware that there are some small groups in your dataset.\n",
      "  Check groups: 2014.”\n"
     ]
    },
    {
     "name": "stdout",
     "output_type": "stream",
     "text": [
      "[1] \"BB\"\n",
      "[1] \"Linke\"\n"
     ]
    },
    {
     "name": "stderr",
     "output_type": "stream",
     "text": [
      "Warning message in pre_process_did(yname = yname, tname = tname, idname = idname, :\n",
      "“dropped 425 rows from original data due to missing data”\n",
      "Warning message in pre_process_did(yname = yname, tname = tname, idname = idname, :\n",
      "“dropped 425 rows from original data due to missing data”\n",
      "Warning message in pre_process_did(yname = yname, tname = tname, idname = idname, :\n",
      "“dropped 425 rows from original data due to missing data”\n",
      "Warning message in pre_process_did(yname = yname, tname = tname, idname = idname, :\n",
      "“dropped 425 rows from original data due to missing data”\n",
      "Warning message in pre_process_did(yname = yname, tname = tname, idname = idname, :\n",
      "“Be aware that there are some small groups in your dataset.\n",
      "  Check groups: 2014.”\n"
     ]
    },
    {
     "name": "stdout",
     "output_type": "stream",
     "text": [
      "[1] \"BB\"\n",
      "[1] \"Grüne\"\n"
     ]
    },
    {
     "name": "stderr",
     "output_type": "stream",
     "text": [
      "Warning message in pre_process_did(yname = yname, tname = tname, idname = idname, :\n",
      "“dropped 425 rows from original data due to missing data”\n",
      "Warning message in pre_process_did(yname = yname, tname = tname, idname = idname, :\n",
      "“dropped 425 rows from original data due to missing data”\n",
      "Warning message in pre_process_did(yname = yname, tname = tname, idname = idname, :\n",
      "“dropped 425 rows from original data due to missing data”\n",
      "Warning message in pre_process_did(yname = yname, tname = tname, idname = idname, :\n",
      "“dropped 425 rows from original data due to missing data”\n",
      "Warning message in pre_process_did(yname = yname, tname = tname, idname = idname, :\n",
      "“Be aware that there are some small groups in your dataset.\n",
      "  Check groups: 2014.”\n"
     ]
    },
    {
     "name": "stdout",
     "output_type": "stream",
     "text": [
      "[1] \"BB\"\n",
      "[1] \"Andere\"\n"
     ]
    },
    {
     "name": "stderr",
     "output_type": "stream",
     "text": [
      "Warning message in pre_process_did(yname = yname, tname = tname, idname = idname, :\n",
      "“dropped 1102 rows from original data due to missing data”\n",
      "Warning message in pre_process_did(yname = yname, tname = tname, idname = idname, :\n",
      "“dropped 1102 rows from original data due to missing data”\n",
      "Warning message in pre_process_did(yname = yname, tname = tname, idname = idname, :\n",
      "“dropped 1102 rows from original data due to missing data”\n",
      "Warning message in pre_process_did(yname = yname, tname = tname, idname = idname, :\n",
      "“dropped 1102 rows from original data due to missing data”\n",
      "Warning message in pre_process_did(yname = yname, tname = tname, idname = idname, :\n",
      "“Be aware that there are some small groups in your dataset.\n",
      "  Check groups: 2005.”\n"
     ]
    },
    {
     "name": "stdout",
     "output_type": "stream",
     "text": [
      "[1] \"BW\"\n",
      "[1] \"Union\"\n"
     ]
    },
    {
     "name": "stderr",
     "output_type": "stream",
     "text": [
      "Warning message in pre_process_did(yname = yname, tname = tname, idname = idname, :\n",
      "“dropped 1102 rows from original data due to missing data”\n",
      "Warning message in pre_process_did(yname = yname, tname = tname, idname = idname, :\n",
      "“dropped 1102 rows from original data due to missing data”\n",
      "Warning message in pre_process_did(yname = yname, tname = tname, idname = idname, :\n",
      "“dropped 1102 rows from original data due to missing data”\n",
      "Warning message in pre_process_did(yname = yname, tname = tname, idname = idname, :\n",
      "“dropped 1102 rows from original data due to missing data”\n",
      "Warning message in pre_process_did(yname = yname, tname = tname, idname = idname, :\n",
      "“Be aware that there are some small groups in your dataset.\n",
      "  Check groups: 2005.”\n"
     ]
    },
    {
     "name": "stdout",
     "output_type": "stream",
     "text": [
      "[1] \"BW\"\n",
      "[1] \"SPD\"\n"
     ]
    },
    {
     "name": "stderr",
     "output_type": "stream",
     "text": [
      "Warning message in pre_process_did(yname = yname, tname = tname, idname = idname, :\n",
      "“dropped 1102 rows from original data due to missing data”\n",
      "Warning message in pre_process_did(yname = yname, tname = tname, idname = idname, :\n",
      "“dropped 1102 rows from original data due to missing data”\n",
      "Warning message in pre_process_did(yname = yname, tname = tname, idname = idname, :\n",
      "“dropped 1102 rows from original data due to missing data”\n",
      "Warning message in pre_process_did(yname = yname, tname = tname, idname = idname, :\n",
      "“dropped 1102 rows from original data due to missing data”\n",
      "Warning message in pre_process_did(yname = yname, tname = tname, idname = idname, :\n",
      "“Be aware that there are some small groups in your dataset.\n",
      "  Check groups: 2005.”\n"
     ]
    },
    {
     "name": "stdout",
     "output_type": "stream",
     "text": [
      "[1] \"BW\"\n",
      "[1] \"FDP\"\n"
     ]
    },
    {
     "name": "stderr",
     "output_type": "stream",
     "text": [
      "Warning message in pre_process_did(yname = yname, tname = tname, idname = idname, :\n",
      "“dropped 1102 rows from original data due to missing data”\n",
      "Warning message in pre_process_did(yname = yname, tname = tname, idname = idname, :\n",
      "“dropped 1102 rows from original data due to missing data”\n",
      "Warning message in pre_process_did(yname = yname, tname = tname, idname = idname, :\n",
      "“dropped 1102 rows from original data due to missing data”\n",
      "Warning message in pre_process_did(yname = yname, tname = tname, idname = idname, :\n",
      "“dropped 1102 rows from original data due to missing data”\n",
      "Warning message in pre_process_did(yname = yname, tname = tname, idname = idname, :\n",
      "“Be aware that there are some small groups in your dataset.\n",
      "  Check groups: 2005.”\n"
     ]
    },
    {
     "name": "stdout",
     "output_type": "stream",
     "text": [
      "[1] \"BW\"\n",
      "[1] \"Linke\"\n"
     ]
    },
    {
     "name": "stderr",
     "output_type": "stream",
     "text": [
      "Warning message in pre_process_did(yname = yname, tname = tname, idname = idname, :\n",
      "“dropped 1102 rows from original data due to missing data”\n",
      "Warning message in pre_process_did(yname = yname, tname = tname, idname = idname, :\n",
      "“dropped 1102 rows from original data due to missing data”\n",
      "Warning message in pre_process_did(yname = yname, tname = tname, idname = idname, :\n",
      "“dropped 1102 rows from original data due to missing data”\n",
      "Warning message in pre_process_did(yname = yname, tname = tname, idname = idname, :\n",
      "“dropped 1102 rows from original data due to missing data”\n",
      "Warning message in pre_process_did(yname = yname, tname = tname, idname = idname, :\n",
      "“Be aware that there are some small groups in your dataset.\n",
      "  Check groups: 2005.”\n"
     ]
    },
    {
     "name": "stdout",
     "output_type": "stream",
     "text": [
      "[1] \"BW\"\n",
      "[1] \"Grüne\"\n"
     ]
    },
    {
     "name": "stderr",
     "output_type": "stream",
     "text": [
      "Warning message in pre_process_did(yname = yname, tname = tname, idname = idname, :\n",
      "“dropped 1102 rows from original data due to missing data”\n",
      "Warning message in pre_process_did(yname = yname, tname = tname, idname = idname, :\n",
      "“dropped 1102 rows from original data due to missing data”\n",
      "Warning message in pre_process_did(yname = yname, tname = tname, idname = idname, :\n",
      "“dropped 1102 rows from original data due to missing data”\n",
      "Warning message in pre_process_did(yname = yname, tname = tname, idname = idname, :\n",
      "“dropped 1102 rows from original data due to missing data”\n",
      "Warning message in pre_process_did(yname = yname, tname = tname, idname = idname, :\n",
      "“Be aware that there are some small groups in your dataset.\n",
      "  Check groups: 2005.”\n"
     ]
    },
    {
     "name": "stdout",
     "output_type": "stream",
     "text": [
      "[1] \"BW\"\n",
      "[1] \"Andere\"\n"
     ]
    },
    {
     "name": "stderr",
     "output_type": "stream",
     "text": [
      "Warning message in pre_process_did(yname = yname, tname = tname, idname = idname, :\n",
      "“dropped 2056 rows from original data due to missing data”\n",
      "Warning message in pre_process_did(yname = yname, tname = tname, idname = idname, :\n",
      "“Be aware that there are some small groups in your dataset.\n",
      "  Check groups: 2010.”\n",
      "Warning message in pre_process_did(yname = yname, tname = tname, idname = idname, :\n",
      "“dropped 2056 rows from original data due to missing data”\n",
      "Warning message in pre_process_did(yname = yname, tname = tname, idname = idname, :\n",
      "“dropped 2056 rows from original data due to missing data”\n",
      "Warning message in pre_process_did(yname = yname, tname = tname, idname = idname, :\n",
      "“dropped 2056 rows from original data due to missing data”\n"
     ]
    },
    {
     "name": "stdout",
     "output_type": "stream",
     "text": [
      "[1] \"BY\"\n",
      "[1] \"Union\"\n"
     ]
    },
    {
     "name": "stderr",
     "output_type": "stream",
     "text": [
      "Warning message in pre_process_did(yname = yname, tname = tname, idname = idname, :\n",
      "“dropped 2056 rows from original data due to missing data”\n",
      "Warning message in pre_process_did(yname = yname, tname = tname, idname = idname, :\n",
      "“Be aware that there are some small groups in your dataset.\n",
      "  Check groups: 2010.”\n",
      "Warning message in pre_process_did(yname = yname, tname = tname, idname = idname, :\n",
      "“dropped 2056 rows from original data due to missing data”\n",
      "Warning message in pre_process_did(yname = yname, tname = tname, idname = idname, :\n",
      "“dropped 2056 rows from original data due to missing data”\n",
      "Warning message in pre_process_did(yname = yname, tname = tname, idname = idname, :\n",
      "“dropped 2056 rows from original data due to missing data”\n"
     ]
    },
    {
     "name": "stdout",
     "output_type": "stream",
     "text": [
      "[1] \"BY\"\n",
      "[1] \"SPD\"\n"
     ]
    },
    {
     "name": "stderr",
     "output_type": "stream",
     "text": [
      "Warning message in pre_process_did(yname = yname, tname = tname, idname = idname, :\n",
      "“dropped 2056 rows from original data due to missing data”\n",
      "Warning message in pre_process_did(yname = yname, tname = tname, idname = idname, :\n",
      "“Be aware that there are some small groups in your dataset.\n",
      "  Check groups: 2010.”\n",
      "Warning message in pre_process_did(yname = yname, tname = tname, idname = idname, :\n",
      "“dropped 2056 rows from original data due to missing data”\n",
      "Warning message in pre_process_did(yname = yname, tname = tname, idname = idname, :\n",
      "“dropped 2056 rows from original data due to missing data”\n",
      "Warning message in pre_process_did(yname = yname, tname = tname, idname = idname, :\n",
      "“dropped 2056 rows from original data due to missing data”\n"
     ]
    },
    {
     "name": "stdout",
     "output_type": "stream",
     "text": [
      "[1] \"BY\"\n",
      "[1] \"FDP\"\n"
     ]
    },
    {
     "name": "stderr",
     "output_type": "stream",
     "text": [
      "Warning message in pre_process_did(yname = yname, tname = tname, idname = idname, :\n",
      "“dropped 2056 rows from original data due to missing data”\n",
      "Warning message in pre_process_did(yname = yname, tname = tname, idname = idname, :\n",
      "“Be aware that there are some small groups in your dataset.\n",
      "  Check groups: 2010.”\n",
      "Warning message in pre_process_did(yname = yname, tname = tname, idname = idname, :\n",
      "“dropped 2056 rows from original data due to missing data”\n",
      "Warning message in pre_process_did(yname = yname, tname = tname, idname = idname, :\n",
      "“dropped 2056 rows from original data due to missing data”\n",
      "Warning message in pre_process_did(yname = yname, tname = tname, idname = idname, :\n",
      "“dropped 2056 rows from original data due to missing data”\n"
     ]
    },
    {
     "name": "stdout",
     "output_type": "stream",
     "text": [
      "[1] \"BY\"\n",
      "[1] \"Linke\"\n"
     ]
    },
    {
     "name": "stderr",
     "output_type": "stream",
     "text": [
      "Warning message in pre_process_did(yname = yname, tname = tname, idname = idname, :\n",
      "“dropped 2056 rows from original data due to missing data”\n",
      "Warning message in pre_process_did(yname = yname, tname = tname, idname = idname, :\n",
      "“Be aware that there are some small groups in your dataset.\n",
      "  Check groups: 2010.”\n",
      "Warning message in pre_process_did(yname = yname, tname = tname, idname = idname, :\n",
      "“dropped 2056 rows from original data due to missing data”\n",
      "Warning message in pre_process_did(yname = yname, tname = tname, idname = idname, :\n",
      "“dropped 2056 rows from original data due to missing data”\n",
      "Warning message in pre_process_did(yname = yname, tname = tname, idname = idname, :\n",
      "“dropped 2056 rows from original data due to missing data”\n"
     ]
    },
    {
     "name": "stdout",
     "output_type": "stream",
     "text": [
      "[1] \"BY\"\n",
      "[1] \"Grüne\"\n"
     ]
    },
    {
     "name": "stderr",
     "output_type": "stream",
     "text": [
      "Warning message in pre_process_did(yname = yname, tname = tname, idname = idname, :\n",
      "“dropped 2056 rows from original data due to missing data”\n",
      "Warning message in pre_process_did(yname = yname, tname = tname, idname = idname, :\n",
      "“Be aware that there are some small groups in your dataset.\n",
      "  Check groups: 2010.”\n",
      "Warning message in pre_process_did(yname = yname, tname = tname, idname = idname, :\n",
      "“dropped 2056 rows from original data due to missing data”\n",
      "Warning message in pre_process_did(yname = yname, tname = tname, idname = idname, :\n",
      "“dropped 2056 rows from original data due to missing data”\n",
      "Warning message in pre_process_did(yname = yname, tname = tname, idname = idname, :\n",
      "“dropped 2056 rows from original data due to missing data”\n"
     ]
    },
    {
     "name": "stdout",
     "output_type": "stream",
     "text": [
      "[1] \"BY\"\n",
      "[1] \"Andere\"\n"
     ]
    },
    {
     "name": "stderr",
     "output_type": "stream",
     "text": [
      "Warning message in pre_process_did(yname = yname, tname = tname, idname = idname, :\n",
      "“dropped 426 rows from original data due to missing data”\n",
      "Warning message in pre_process_did(yname = yname, tname = tname, idname = idname, :\n",
      "“Be aware that there are some small groups in your dataset.\n",
      "  Check groups: 2010.”\n",
      "Warning message in pre_process_did(yname = yname, tname = tname, idname = idname, :\n",
      "“dropped 426 rows from original data due to missing data”\n",
      "Warning message in pre_process_did(yname = yname, tname = tname, idname = idname, :\n",
      "“dropped 426 rows from original data due to missing data”\n",
      "Warning message in pre_process_did(yname = yname, tname = tname, idname = idname, :\n",
      "“dropped 426 rows from original data due to missing data”\n"
     ]
    },
    {
     "name": "stdout",
     "output_type": "stream",
     "text": [
      "[1] \"HE\"\n",
      "[1] \"Union\"\n"
     ]
    },
    {
     "name": "stderr",
     "output_type": "stream",
     "text": [
      "Warning message in pre_process_did(yname = yname, tname = tname, idname = idname, :\n",
      "“dropped 426 rows from original data due to missing data”\n",
      "Warning message in pre_process_did(yname = yname, tname = tname, idname = idname, :\n",
      "“Be aware that there are some small groups in your dataset.\n",
      "  Check groups: 2010.”\n",
      "Warning message in pre_process_did(yname = yname, tname = tname, idname = idname, :\n",
      "“dropped 426 rows from original data due to missing data”\n",
      "Warning message in pre_process_did(yname = yname, tname = tname, idname = idname, :\n",
      "“dropped 426 rows from original data due to missing data”\n",
      "Warning message in pre_process_did(yname = yname, tname = tname, idname = idname, :\n",
      "“dropped 426 rows from original data due to missing data”\n"
     ]
    },
    {
     "name": "stdout",
     "output_type": "stream",
     "text": [
      "[1] \"HE\"\n",
      "[1] \"SPD\"\n"
     ]
    },
    {
     "name": "stderr",
     "output_type": "stream",
     "text": [
      "Warning message in pre_process_did(yname = yname, tname = tname, idname = idname, :\n",
      "“dropped 426 rows from original data due to missing data”\n",
      "Warning message in pre_process_did(yname = yname, tname = tname, idname = idname, :\n",
      "“Be aware that there are some small groups in your dataset.\n",
      "  Check groups: 2010.”\n",
      "Warning message in pre_process_did(yname = yname, tname = tname, idname = idname, :\n",
      "“dropped 426 rows from original data due to missing data”\n",
      "Warning message in pre_process_did(yname = yname, tname = tname, idname = idname, :\n",
      "“dropped 426 rows from original data due to missing data”\n",
      "Warning message in pre_process_did(yname = yname, tname = tname, idname = idname, :\n",
      "“dropped 426 rows from original data due to missing data”\n"
     ]
    },
    {
     "name": "stdout",
     "output_type": "stream",
     "text": [
      "[1] \"HE\"\n",
      "[1] \"FDP\"\n"
     ]
    },
    {
     "name": "stderr",
     "output_type": "stream",
     "text": [
      "Warning message in pre_process_did(yname = yname, tname = tname, idname = idname, :\n",
      "“dropped 426 rows from original data due to missing data”\n",
      "Warning message in pre_process_did(yname = yname, tname = tname, idname = idname, :\n",
      "“Be aware that there are some small groups in your dataset.\n",
      "  Check groups: 2010.”\n",
      "Warning message in pre_process_did(yname = yname, tname = tname, idname = idname, :\n",
      "“dropped 426 rows from original data due to missing data”\n",
      "Warning message in pre_process_did(yname = yname, tname = tname, idname = idname, :\n",
      "“dropped 426 rows from original data due to missing data”\n",
      "Warning message in pre_process_did(yname = yname, tname = tname, idname = idname, :\n",
      "“dropped 426 rows from original data due to missing data”\n"
     ]
    },
    {
     "name": "stdout",
     "output_type": "stream",
     "text": [
      "[1] \"HE\"\n",
      "[1] \"Linke\"\n"
     ]
    },
    {
     "name": "stderr",
     "output_type": "stream",
     "text": [
      "Warning message in pre_process_did(yname = yname, tname = tname, idname = idname, :\n",
      "“dropped 426 rows from original data due to missing data”\n",
      "Warning message in pre_process_did(yname = yname, tname = tname, idname = idname, :\n",
      "“Be aware that there are some small groups in your dataset.\n",
      "  Check groups: 2010.”\n",
      "Warning message in pre_process_did(yname = yname, tname = tname, idname = idname, :\n",
      "“dropped 426 rows from original data due to missing data”\n",
      "Warning message in pre_process_did(yname = yname, tname = tname, idname = idname, :\n",
      "“dropped 426 rows from original data due to missing data”\n",
      "Warning message in pre_process_did(yname = yname, tname = tname, idname = idname, :\n",
      "“dropped 426 rows from original data due to missing data”\n"
     ]
    },
    {
     "name": "stdout",
     "output_type": "stream",
     "text": [
      "[1] \"HE\"\n",
      "[1] \"Grüne\"\n"
     ]
    },
    {
     "name": "stderr",
     "output_type": "stream",
     "text": [
      "Warning message in pre_process_did(yname = yname, tname = tname, idname = idname, :\n",
      "“dropped 426 rows from original data due to missing data”\n",
      "Warning message in pre_process_did(yname = yname, tname = tname, idname = idname, :\n",
      "“Be aware that there are some small groups in your dataset.\n",
      "  Check groups: 2010.”\n",
      "Warning message in pre_process_did(yname = yname, tname = tname, idname = idname, :\n",
      "“dropped 426 rows from original data due to missing data”\n",
      "Warning message in pre_process_did(yname = yname, tname = tname, idname = idname, :\n",
      "“dropped 426 rows from original data due to missing data”\n",
      "Warning message in pre_process_did(yname = yname, tname = tname, idname = idname, :\n",
      "“dropped 426 rows from original data due to missing data”\n"
     ]
    },
    {
     "name": "stdout",
     "output_type": "stream",
     "text": [
      "[1] \"HE\"\n",
      "[1] \"Andere\"\n"
     ]
    },
    {
     "name": "stderr",
     "output_type": "stream",
     "text": [
      "Warning message in pre_process_did(yname = yname, tname = tname, idname = idname, :\n",
      "“dropped 780 rows from original data due to missing data”\n",
      "Warning message in pre_process_did(yname = yname, tname = tname, idname = idname, :\n",
      "“dropped 780 rows from original data due to missing data”\n",
      "Warning message in pre_process_did(yname = yname, tname = tname, idname = idname, :\n",
      "“Be aware that there are some small groups in your dataset.\n",
      "  Check groups: 2005.”\n",
      "Warning message in pre_process_did(yname = yname, tname = tname, idname = idname, :\n",
      "“dropped 780 rows from original data due to missing data”\n",
      "Warning message in pre_process_did(yname = yname, tname = tname, idname = idname, :\n",
      "“dropped 780 rows from original data due to missing data”\n"
     ]
    },
    {
     "name": "stdout",
     "output_type": "stream",
     "text": [
      "[1] \"MV\"\n",
      "[1] \"Union\"\n"
     ]
    },
    {
     "name": "stderr",
     "output_type": "stream",
     "text": [
      "Warning message in pre_process_did(yname = yname, tname = tname, idname = idname, :\n",
      "“dropped 780 rows from original data due to missing data”\n",
      "Warning message in pre_process_did(yname = yname, tname = tname, idname = idname, :\n",
      "“dropped 780 rows from original data due to missing data”\n",
      "Warning message in pre_process_did(yname = yname, tname = tname, idname = idname, :\n",
      "“Be aware that there are some small groups in your dataset.\n",
      "  Check groups: 2005.”\n",
      "Warning message in pre_process_did(yname = yname, tname = tname, idname = idname, :\n",
      "“dropped 780 rows from original data due to missing data”\n",
      "Warning message in pre_process_did(yname = yname, tname = tname, idname = idname, :\n",
      "“dropped 780 rows from original data due to missing data”\n"
     ]
    },
    {
     "name": "stdout",
     "output_type": "stream",
     "text": [
      "[1] \"MV\"\n",
      "[1] \"SPD\"\n"
     ]
    },
    {
     "name": "stderr",
     "output_type": "stream",
     "text": [
      "Warning message in pre_process_did(yname = yname, tname = tname, idname = idname, :\n",
      "“dropped 780 rows from original data due to missing data”\n",
      "Warning message in pre_process_did(yname = yname, tname = tname, idname = idname, :\n",
      "“dropped 780 rows from original data due to missing data”\n",
      "Warning message in pre_process_did(yname = yname, tname = tname, idname = idname, :\n",
      "“Be aware that there are some small groups in your dataset.\n",
      "  Check groups: 2005.”\n",
      "Warning message in pre_process_did(yname = yname, tname = tname, idname = idname, :\n",
      "“dropped 780 rows from original data due to missing data”\n",
      "Warning message in pre_process_did(yname = yname, tname = tname, idname = idname, :\n",
      "“dropped 780 rows from original data due to missing data”\n"
     ]
    },
    {
     "name": "stdout",
     "output_type": "stream",
     "text": [
      "[1] \"MV\"\n",
      "[1] \"FDP\"\n"
     ]
    },
    {
     "name": "stderr",
     "output_type": "stream",
     "text": [
      "Warning message in pre_process_did(yname = yname, tname = tname, idname = idname, :\n",
      "“dropped 780 rows from original data due to missing data”\n",
      "Warning message in pre_process_did(yname = yname, tname = tname, idname = idname, :\n",
      "“dropped 780 rows from original data due to missing data”\n",
      "Warning message in pre_process_did(yname = yname, tname = tname, idname = idname, :\n",
      "“Be aware that there are some small groups in your dataset.\n",
      "  Check groups: 2005.”\n",
      "Warning message in pre_process_did(yname = yname, tname = tname, idname = idname, :\n",
      "“dropped 780 rows from original data due to missing data”\n",
      "Warning message in pre_process_did(yname = yname, tname = tname, idname = idname, :\n",
      "“dropped 780 rows from original data due to missing data”\n"
     ]
    },
    {
     "name": "stdout",
     "output_type": "stream",
     "text": [
      "[1] \"MV\"\n",
      "[1] \"Linke\"\n"
     ]
    },
    {
     "name": "stderr",
     "output_type": "stream",
     "text": [
      "Warning message in pre_process_did(yname = yname, tname = tname, idname = idname, :\n",
      "“dropped 780 rows from original data due to missing data”\n",
      "Warning message in pre_process_did(yname = yname, tname = tname, idname = idname, :\n",
      "“dropped 780 rows from original data due to missing data”\n",
      "Warning message in pre_process_did(yname = yname, tname = tname, idname = idname, :\n",
      "“Be aware that there are some small groups in your dataset.\n",
      "  Check groups: 2005.”\n",
      "Warning message in pre_process_did(yname = yname, tname = tname, idname = idname, :\n",
      "“dropped 780 rows from original data due to missing data”\n",
      "Warning message in pre_process_did(yname = yname, tname = tname, idname = idname, :\n",
      "“dropped 780 rows from original data due to missing data”\n"
     ]
    },
    {
     "name": "stdout",
     "output_type": "stream",
     "text": [
      "[1] \"MV\"\n",
      "[1] \"Grüne\"\n"
     ]
    },
    {
     "name": "stderr",
     "output_type": "stream",
     "text": [
      "Warning message in pre_process_did(yname = yname, tname = tname, idname = idname, :\n",
      "“dropped 780 rows from original data due to missing data”\n",
      "Warning message in pre_process_did(yname = yname, tname = tname, idname = idname, :\n",
      "“dropped 780 rows from original data due to missing data”\n",
      "Warning message in pre_process_did(yname = yname, tname = tname, idname = idname, :\n",
      "“Be aware that there are some small groups in your dataset.\n",
      "  Check groups: 2005.”\n",
      "Warning message in pre_process_did(yname = yname, tname = tname, idname = idname, :\n",
      "“dropped 780 rows from original data due to missing data”\n",
      "Warning message in pre_process_did(yname = yname, tname = tname, idname = idname, :\n",
      "“dropped 780 rows from original data due to missing data”\n"
     ]
    },
    {
     "name": "stdout",
     "output_type": "stream",
     "text": [
      "[1] \"MV\"\n",
      "[1] \"Andere\"\n"
     ]
    },
    {
     "name": "stderr",
     "output_type": "stream",
     "text": [
      "Warning message in pre_process_did(yname = yname, tname = tname, idname = idname, :\n",
      "“dropped 1002 rows from original data due to missing data”\n",
      "Warning message in pre_process_did(yname = yname, tname = tname, idname = idname, :\n",
      "“Be aware that there are some small groups in your dataset.\n",
      "  Check groups: 2010.”\n",
      "Warning message in pre_process_did(yname = yname, tname = tname, idname = idname, :\n",
      "“dropped 1002 rows from original data due to missing data”\n",
      "Warning message in pre_process_did(yname = yname, tname = tname, idname = idname, :\n",
      "“dropped 1002 rows from original data due to missing data”\n",
      "Warning message in pre_process_did(yname = yname, tname = tname, idname = idname, :\n",
      "“dropped 1002 rows from original data due to missing data”\n"
     ]
    },
    {
     "name": "stdout",
     "output_type": "stream",
     "text": [
      "[1] \"NI\"\n",
      "[1] \"Union\"\n"
     ]
    },
    {
     "name": "stderr",
     "output_type": "stream",
     "text": [
      "Warning message in pre_process_did(yname = yname, tname = tname, idname = idname, :\n",
      "“dropped 1002 rows from original data due to missing data”\n",
      "Warning message in pre_process_did(yname = yname, tname = tname, idname = idname, :\n",
      "“Be aware that there are some small groups in your dataset.\n",
      "  Check groups: 2010.”\n",
      "Warning message in pre_process_did(yname = yname, tname = tname, idname = idname, :\n",
      "“dropped 1002 rows from original data due to missing data”\n",
      "Warning message in pre_process_did(yname = yname, tname = tname, idname = idname, :\n",
      "“dropped 1002 rows from original data due to missing data”\n",
      "Warning message in pre_process_did(yname = yname, tname = tname, idname = idname, :\n",
      "“dropped 1002 rows from original data due to missing data”\n"
     ]
    },
    {
     "name": "stdout",
     "output_type": "stream",
     "text": [
      "[1] \"NI\"\n",
      "[1] \"SPD\"\n"
     ]
    },
    {
     "name": "stderr",
     "output_type": "stream",
     "text": [
      "Warning message in pre_process_did(yname = yname, tname = tname, idname = idname, :\n",
      "“dropped 1002 rows from original data due to missing data”\n",
      "Warning message in pre_process_did(yname = yname, tname = tname, idname = idname, :\n",
      "“Be aware that there are some small groups in your dataset.\n",
      "  Check groups: 2010.”\n",
      "Warning message in pre_process_did(yname = yname, tname = tname, idname = idname, :\n",
      "“dropped 1002 rows from original data due to missing data”\n",
      "Warning message in pre_process_did(yname = yname, tname = tname, idname = idname, :\n",
      "“dropped 1002 rows from original data due to missing data”\n",
      "Warning message in pre_process_did(yname = yname, tname = tname, idname = idname, :\n",
      "“dropped 1002 rows from original data due to missing data”\n"
     ]
    },
    {
     "name": "stdout",
     "output_type": "stream",
     "text": [
      "[1] \"NI\"\n",
      "[1] \"FDP\"\n"
     ]
    },
    {
     "name": "stderr",
     "output_type": "stream",
     "text": [
      "Warning message in pre_process_did(yname = yname, tname = tname, idname = idname, :\n",
      "“dropped 1002 rows from original data due to missing data”\n",
      "Warning message in pre_process_did(yname = yname, tname = tname, idname = idname, :\n",
      "“Be aware that there are some small groups in your dataset.\n",
      "  Check groups: 2010.”\n",
      "Warning message in pre_process_did(yname = yname, tname = tname, idname = idname, :\n",
      "“dropped 1002 rows from original data due to missing data”\n",
      "Warning message in pre_process_did(yname = yname, tname = tname, idname = idname, :\n",
      "“dropped 1002 rows from original data due to missing data”\n",
      "Warning message in pre_process_did(yname = yname, tname = tname, idname = idname, :\n",
      "“dropped 1002 rows from original data due to missing data”\n"
     ]
    },
    {
     "name": "stdout",
     "output_type": "stream",
     "text": [
      "[1] \"NI\"\n",
      "[1] \"Linke\"\n"
     ]
    },
    {
     "name": "stderr",
     "output_type": "stream",
     "text": [
      "Warning message in pre_process_did(yname = yname, tname = tname, idname = idname, :\n",
      "“dropped 1002 rows from original data due to missing data”\n",
      "Warning message in pre_process_did(yname = yname, tname = tname, idname = idname, :\n",
      "“Be aware that there are some small groups in your dataset.\n",
      "  Check groups: 2010.”\n",
      "Warning message in pre_process_did(yname = yname, tname = tname, idname = idname, :\n",
      "“dropped 1002 rows from original data due to missing data”\n",
      "Warning message in pre_process_did(yname = yname, tname = tname, idname = idname, :\n",
      "“dropped 1002 rows from original data due to missing data”\n",
      "Warning message in pre_process_did(yname = yname, tname = tname, idname = idname, :\n",
      "“dropped 1002 rows from original data due to missing data”\n"
     ]
    },
    {
     "name": "stdout",
     "output_type": "stream",
     "text": [
      "[1] \"NI\"\n",
      "[1] \"Grüne\"\n"
     ]
    },
    {
     "name": "stderr",
     "output_type": "stream",
     "text": [
      "Warning message in pre_process_did(yname = yname, tname = tname, idname = idname, :\n",
      "“dropped 1002 rows from original data due to missing data”\n",
      "Warning message in pre_process_did(yname = yname, tname = tname, idname = idname, :\n",
      "“Be aware that there are some small groups in your dataset.\n",
      "  Check groups: 2010.”\n",
      "Warning message in pre_process_did(yname = yname, tname = tname, idname = idname, :\n",
      "“dropped 1002 rows from original data due to missing data”\n",
      "Warning message in pre_process_did(yname = yname, tname = tname, idname = idname, :\n",
      "“dropped 1002 rows from original data due to missing data”\n",
      "Warning message in pre_process_did(yname = yname, tname = tname, idname = idname, :\n",
      "“dropped 1002 rows from original data due to missing data”\n"
     ]
    },
    {
     "name": "stdout",
     "output_type": "stream",
     "text": [
      "[1] \"NI\"\n",
      "[1] \"Andere\"\n"
     ]
    },
    {
     "name": "stderr",
     "output_type": "stream",
     "text": [
      "Warning message in pre_process_did(yname = yname, tname = tname, idname = idname, :\n",
      "“dropped 396 rows from original data due to missing data”\n",
      "Warning message in pre_process_did(yname = yname, tname = tname, idname = idname, :\n",
      "“dropped 396 rows from original data due to missing data”\n",
      "Warning message in pre_process_did(yname = yname, tname = tname, idname = idname, :\n",
      "“dropped 396 rows from original data due to missing data”\n",
      "Warning message in pre_process_did(yname = yname, tname = tname, idname = idname, :\n",
      "“dropped 396 rows from original data due to missing data”\n",
      "Warning message in pre_process_did(yname = yname, tname = tname, idname = idname, :\n",
      "“Be aware that there are some small groups in your dataset.\n",
      "  Check groups: 2014.”\n"
     ]
    },
    {
     "name": "stdout",
     "output_type": "stream",
     "text": [
      "[1] \"NW\"\n",
      "[1] \"Union\"\n"
     ]
    },
    {
     "name": "stderr",
     "output_type": "stream",
     "text": [
      "Warning message in pre_process_did(yname = yname, tname = tname, idname = idname, :\n",
      "“dropped 396 rows from original data due to missing data”\n",
      "Warning message in pre_process_did(yname = yname, tname = tname, idname = idname, :\n",
      "“dropped 396 rows from original data due to missing data”\n",
      "Warning message in pre_process_did(yname = yname, tname = tname, idname = idname, :\n",
      "“dropped 396 rows from original data due to missing data”\n",
      "Warning message in pre_process_did(yname = yname, tname = tname, idname = idname, :\n",
      "“dropped 396 rows from original data due to missing data”\n",
      "Warning message in pre_process_did(yname = yname, tname = tname, idname = idname, :\n",
      "“Be aware that there are some small groups in your dataset.\n",
      "  Check groups: 2014.”\n"
     ]
    },
    {
     "name": "stdout",
     "output_type": "stream",
     "text": [
      "[1] \"NW\"\n",
      "[1] \"SPD\"\n"
     ]
    },
    {
     "name": "stderr",
     "output_type": "stream",
     "text": [
      "Warning message in pre_process_did(yname = yname, tname = tname, idname = idname, :\n",
      "“dropped 396 rows from original data due to missing data”\n",
      "Warning message in pre_process_did(yname = yname, tname = tname, idname = idname, :\n",
      "“dropped 396 rows from original data due to missing data”\n",
      "Warning message in pre_process_did(yname = yname, tname = tname, idname = idname, :\n",
      "“dropped 396 rows from original data due to missing data”\n",
      "Warning message in pre_process_did(yname = yname, tname = tname, idname = idname, :\n",
      "“dropped 396 rows from original data due to missing data”\n",
      "Warning message in pre_process_did(yname = yname, tname = tname, idname = idname, :\n",
      "“Be aware that there are some small groups in your dataset.\n",
      "  Check groups: 2014.”\n"
     ]
    },
    {
     "name": "stdout",
     "output_type": "stream",
     "text": [
      "[1] \"NW\"\n",
      "[1] \"FDP\"\n"
     ]
    },
    {
     "name": "stderr",
     "output_type": "stream",
     "text": [
      "Warning message in pre_process_did(yname = yname, tname = tname, idname = idname, :\n",
      "“dropped 396 rows from original data due to missing data”\n",
      "Warning message in pre_process_did(yname = yname, tname = tname, idname = idname, :\n",
      "“dropped 396 rows from original data due to missing data”\n",
      "Warning message in pre_process_did(yname = yname, tname = tname, idname = idname, :\n",
      "“dropped 396 rows from original data due to missing data”\n",
      "Warning message in pre_process_did(yname = yname, tname = tname, idname = idname, :\n",
      "“dropped 396 rows from original data due to missing data”\n",
      "Warning message in pre_process_did(yname = yname, tname = tname, idname = idname, :\n",
      "“Be aware that there are some small groups in your dataset.\n",
      "  Check groups: 2014.”\n"
     ]
    },
    {
     "name": "stdout",
     "output_type": "stream",
     "text": [
      "[1] \"NW\"\n",
      "[1] \"Linke\"\n"
     ]
    },
    {
     "name": "stderr",
     "output_type": "stream",
     "text": [
      "Warning message in pre_process_did(yname = yname, tname = tname, idname = idname, :\n",
      "“dropped 396 rows from original data due to missing data”\n",
      "Warning message in pre_process_did(yname = yname, tname = tname, idname = idname, :\n",
      "“dropped 396 rows from original data due to missing data”\n",
      "Warning message in pre_process_did(yname = yname, tname = tname, idname = idname, :\n",
      "“dropped 396 rows from original data due to missing data”\n",
      "Warning message in pre_process_did(yname = yname, tname = tname, idname = idname, :\n",
      "“dropped 396 rows from original data due to missing data”\n",
      "Warning message in pre_process_did(yname = yname, tname = tname, idname = idname, :\n",
      "“Be aware that there are some small groups in your dataset.\n",
      "  Check groups: 2014.”\n"
     ]
    },
    {
     "name": "stdout",
     "output_type": "stream",
     "text": [
      "[1] \"NW\"\n",
      "[1] \"Grüne\"\n"
     ]
    },
    {
     "name": "stderr",
     "output_type": "stream",
     "text": [
      "Warning message in pre_process_did(yname = yname, tname = tname, idname = idname, :\n",
      "“dropped 396 rows from original data due to missing data”\n",
      "Warning message in pre_process_did(yname = yname, tname = tname, idname = idname, :\n",
      "“dropped 396 rows from original data due to missing data”\n",
      "Warning message in pre_process_did(yname = yname, tname = tname, idname = idname, :\n",
      "“dropped 396 rows from original data due to missing data”\n",
      "Warning message in pre_process_did(yname = yname, tname = tname, idname = idname, :\n",
      "“dropped 396 rows from original data due to missing data”\n",
      "Warning message in pre_process_did(yname = yname, tname = tname, idname = idname, :\n",
      "“Be aware that there are some small groups in your dataset.\n",
      "  Check groups: 2014.”\n"
     ]
    },
    {
     "name": "stdout",
     "output_type": "stream",
     "text": [
      "[1] \"NW\"\n",
      "[1] \"Andere\"\n"
     ]
    },
    {
     "name": "stderr",
     "output_type": "stream",
     "text": [
      "Warning message in pre_process_did(yname = yname, tname = tname, idname = idname, :\n",
      "“dropped 3143 rows from original data due to missing data”\n",
      "Warning message in pre_process_did(yname = yname, tname = tname, idname = idname, :\n",
      "“Be aware that there are some small groups in your dataset.\n",
      "  Check groups: 2005.”\n",
      "Warning message in pre_process_did(yname = yname, tname = tname, idname = idname, :\n",
      "“dropped 3143 rows from original data due to missing data”\n",
      "Warning message in pre_process_did(yname = yname, tname = tname, idname = idname, :\n",
      "“dropped 3143 rows from original data due to missing data”\n",
      "Warning message in pre_process_did(yname = yname, tname = tname, idname = idname, :\n",
      "“dropped 3143 rows from original data due to missing data”\n"
     ]
    },
    {
     "name": "stdout",
     "output_type": "stream",
     "text": [
      "[1] \"RP\"\n",
      "[1] \"Union\"\n"
     ]
    },
    {
     "name": "stderr",
     "output_type": "stream",
     "text": [
      "Warning message in pre_process_did(yname = yname, tname = tname, idname = idname, :\n",
      "“dropped 3143 rows from original data due to missing data”\n",
      "Warning message in pre_process_did(yname = yname, tname = tname, idname = idname, :\n",
      "“Be aware that there are some small groups in your dataset.\n",
      "  Check groups: 2005.”\n",
      "Warning message in pre_process_did(yname = yname, tname = tname, idname = idname, :\n",
      "“dropped 3143 rows from original data due to missing data”\n",
      "Warning message in pre_process_did(yname = yname, tname = tname, idname = idname, :\n",
      "“dropped 3143 rows from original data due to missing data”\n",
      "Warning message in pre_process_did(yname = yname, tname = tname, idname = idname, :\n",
      "“dropped 3143 rows from original data due to missing data”\n"
     ]
    },
    {
     "name": "stdout",
     "output_type": "stream",
     "text": [
      "[1] \"RP\"\n",
      "[1] \"SPD\"\n"
     ]
    },
    {
     "name": "stderr",
     "output_type": "stream",
     "text": [
      "Warning message in pre_process_did(yname = yname, tname = tname, idname = idname, :\n",
      "“dropped 3143 rows from original data due to missing data”\n",
      "Warning message in pre_process_did(yname = yname, tname = tname, idname = idname, :\n",
      "“Be aware that there are some small groups in your dataset.\n",
      "  Check groups: 2005.”\n",
      "Warning message in pre_process_did(yname = yname, tname = tname, idname = idname, :\n",
      "“dropped 3143 rows from original data due to missing data”\n",
      "Warning message in pre_process_did(yname = yname, tname = tname, idname = idname, :\n",
      "“dropped 3143 rows from original data due to missing data”\n",
      "Warning message in pre_process_did(yname = yname, tname = tname, idname = idname, :\n",
      "“dropped 3143 rows from original data due to missing data”\n"
     ]
    },
    {
     "name": "stdout",
     "output_type": "stream",
     "text": [
      "[1] \"RP\"\n",
      "[1] \"FDP\"\n"
     ]
    },
    {
     "name": "stderr",
     "output_type": "stream",
     "text": [
      "Warning message in pre_process_did(yname = yname, tname = tname, idname = idname, :\n",
      "“dropped 3143 rows from original data due to missing data”\n",
      "Warning message in pre_process_did(yname = yname, tname = tname, idname = idname, :\n",
      "“Be aware that there are some small groups in your dataset.\n",
      "  Check groups: 2005.”\n",
      "Warning message in pre_process_did(yname = yname, tname = tname, idname = idname, :\n",
      "“dropped 3143 rows from original data due to missing data”\n",
      "Warning message in pre_process_did(yname = yname, tname = tname, idname = idname, :\n",
      "“dropped 3143 rows from original data due to missing data”\n",
      "Warning message in pre_process_did(yname = yname, tname = tname, idname = idname, :\n",
      "“dropped 3143 rows from original data due to missing data”\n"
     ]
    },
    {
     "name": "stdout",
     "output_type": "stream",
     "text": [
      "[1] \"RP\"\n",
      "[1] \"Linke\"\n"
     ]
    },
    {
     "name": "stderr",
     "output_type": "stream",
     "text": [
      "Warning message in pre_process_did(yname = yname, tname = tname, idname = idname, :\n",
      "“dropped 3143 rows from original data due to missing data”\n",
      "Warning message in pre_process_did(yname = yname, tname = tname, idname = idname, :\n",
      "“Be aware that there are some small groups in your dataset.\n",
      "  Check groups: 2005.”\n",
      "Warning message in pre_process_did(yname = yname, tname = tname, idname = idname, :\n",
      "“dropped 3143 rows from original data due to missing data”\n",
      "Warning message in pre_process_did(yname = yname, tname = tname, idname = idname, :\n",
      "“dropped 3143 rows from original data due to missing data”\n",
      "Warning message in pre_process_did(yname = yname, tname = tname, idname = idname, :\n",
      "“dropped 3143 rows from original data due to missing data”\n"
     ]
    },
    {
     "name": "stdout",
     "output_type": "stream",
     "text": [
      "[1] \"RP\"\n",
      "[1] \"Grüne\"\n"
     ]
    },
    {
     "name": "stderr",
     "output_type": "stream",
     "text": [
      "Warning message in pre_process_did(yname = yname, tname = tname, idname = idname, :\n",
      "“dropped 3143 rows from original data due to missing data”\n",
      "Warning message in pre_process_did(yname = yname, tname = tname, idname = idname, :\n",
      "“Be aware that there are some small groups in your dataset.\n",
      "  Check groups: 2005.”\n",
      "Warning message in pre_process_did(yname = yname, tname = tname, idname = idname, :\n",
      "“dropped 3143 rows from original data due to missing data”\n",
      "Warning message in pre_process_did(yname = yname, tname = tname, idname = idname, :\n",
      "“dropped 3143 rows from original data due to missing data”\n",
      "Warning message in pre_process_did(yname = yname, tname = tname, idname = idname, :\n",
      "“dropped 3143 rows from original data due to missing data”\n"
     ]
    },
    {
     "name": "stdout",
     "output_type": "stream",
     "text": [
      "[1] \"RP\"\n",
      "[1] \"Andere\"\n"
     ]
    },
    {
     "name": "stderr",
     "output_type": "stream",
     "text": [
      "Warning message in pre_process_did(yname = yname, tname = tname, idname = idname, :\n",
      "“dropped 1109 rows from original data due to missing data”\n",
      "Warning message in pre_process_did(yname = yname, tname = tname, idname = idname, :\n",
      "“Be aware that there are some small groups in your dataset.\n",
      "  Check groups: 2005.”\n",
      "Warning message in pre_process_did(yname = yname, tname = tname, idname = idname, :\n",
      "“dropped 1109 rows from original data due to missing data”\n",
      "Warning message in pre_process_did(yname = yname, tname = tname, idname = idname, :\n",
      "“dropped 1109 rows from original data due to missing data”\n",
      "Warning message in pre_process_did(yname = yname, tname = tname, idname = idname, :\n",
      "“dropped 1109 rows from original data due to missing data”\n"
     ]
    },
    {
     "name": "stdout",
     "output_type": "stream",
     "text": [
      "[1] \"SH\"\n",
      "[1] \"Union\"\n"
     ]
    },
    {
     "name": "stderr",
     "output_type": "stream",
     "text": [
      "Warning message in pre_process_did(yname = yname, tname = tname, idname = idname, :\n",
      "“dropped 1109 rows from original data due to missing data”\n",
      "Warning message in pre_process_did(yname = yname, tname = tname, idname = idname, :\n",
      "“Be aware that there are some small groups in your dataset.\n",
      "  Check groups: 2005.”\n",
      "Warning message in pre_process_did(yname = yname, tname = tname, idname = idname, :\n",
      "“dropped 1109 rows from original data due to missing data”\n",
      "Warning message in pre_process_did(yname = yname, tname = tname, idname = idname, :\n",
      "“dropped 1109 rows from original data due to missing data”\n",
      "Warning message in pre_process_did(yname = yname, tname = tname, idname = idname, :\n",
      "“dropped 1109 rows from original data due to missing data”\n"
     ]
    },
    {
     "name": "stdout",
     "output_type": "stream",
     "text": [
      "[1] \"SH\"\n",
      "[1] \"SPD\"\n"
     ]
    },
    {
     "name": "stderr",
     "output_type": "stream",
     "text": [
      "Warning message in pre_process_did(yname = yname, tname = tname, idname = idname, :\n",
      "“dropped 1109 rows from original data due to missing data”\n",
      "Warning message in pre_process_did(yname = yname, tname = tname, idname = idname, :\n",
      "“Be aware that there are some small groups in your dataset.\n",
      "  Check groups: 2005.”\n",
      "Warning message in pre_process_did(yname = yname, tname = tname, idname = idname, :\n",
      "“dropped 1109 rows from original data due to missing data”\n",
      "Warning message in pre_process_did(yname = yname, tname = tname, idname = idname, :\n",
      "“dropped 1109 rows from original data due to missing data”\n",
      "Warning message in pre_process_did(yname = yname, tname = tname, idname = idname, :\n",
      "“dropped 1109 rows from original data due to missing data”\n"
     ]
    },
    {
     "name": "stdout",
     "output_type": "stream",
     "text": [
      "[1] \"SH\"\n",
      "[1] \"FDP\"\n"
     ]
    },
    {
     "name": "stderr",
     "output_type": "stream",
     "text": [
      "Warning message in pre_process_did(yname = yname, tname = tname, idname = idname, :\n",
      "“dropped 1109 rows from original data due to missing data”\n",
      "Warning message in pre_process_did(yname = yname, tname = tname, idname = idname, :\n",
      "“Be aware that there are some small groups in your dataset.\n",
      "  Check groups: 2005.”\n",
      "Warning message in pre_process_did(yname = yname, tname = tname, idname = idname, :\n",
      "“dropped 1109 rows from original data due to missing data”\n",
      "Warning message in pre_process_did(yname = yname, tname = tname, idname = idname, :\n",
      "“dropped 1109 rows from original data due to missing data”\n",
      "Warning message in pre_process_did(yname = yname, tname = tname, idname = idname, :\n",
      "“dropped 1109 rows from original data due to missing data”\n"
     ]
    },
    {
     "name": "stdout",
     "output_type": "stream",
     "text": [
      "[1] \"SH\"\n",
      "[1] \"Linke\"\n"
     ]
    },
    {
     "name": "stderr",
     "output_type": "stream",
     "text": [
      "Warning message in pre_process_did(yname = yname, tname = tname, idname = idname, :\n",
      "“dropped 1109 rows from original data due to missing data”\n",
      "Warning message in pre_process_did(yname = yname, tname = tname, idname = idname, :\n",
      "“Be aware that there are some small groups in your dataset.\n",
      "  Check groups: 2005.”\n",
      "Warning message in pre_process_did(yname = yname, tname = tname, idname = idname, :\n",
      "“dropped 1109 rows from original data due to missing data”\n",
      "Warning message in pre_process_did(yname = yname, tname = tname, idname = idname, :\n",
      "“dropped 1109 rows from original data due to missing data”\n",
      "Warning message in pre_process_did(yname = yname, tname = tname, idname = idname, :\n",
      "“dropped 1109 rows from original data due to missing data”\n"
     ]
    },
    {
     "name": "stdout",
     "output_type": "stream",
     "text": [
      "[1] \"SH\"\n",
      "[1] \"Grüne\"\n"
     ]
    },
    {
     "name": "stderr",
     "output_type": "stream",
     "text": [
      "Warning message in pre_process_did(yname = yname, tname = tname, idname = idname, :\n",
      "“dropped 1109 rows from original data due to missing data”\n",
      "Warning message in pre_process_did(yname = yname, tname = tname, idname = idname, :\n",
      "“Be aware that there are some small groups in your dataset.\n",
      "  Check groups: 2005.”\n",
      "Warning message in pre_process_did(yname = yname, tname = tname, idname = idname, :\n",
      "“dropped 1109 rows from original data due to missing data”\n",
      "Warning message in pre_process_did(yname = yname, tname = tname, idname = idname, :\n",
      "“dropped 1109 rows from original data due to missing data”\n",
      "Warning message in pre_process_did(yname = yname, tname = tname, idname = idname, :\n",
      "“dropped 1109 rows from original data due to missing data”\n"
     ]
    },
    {
     "name": "stdout",
     "output_type": "stream",
     "text": [
      "[1] \"SH\"\n",
      "[1] \"Andere\"\n"
     ]
    },
    {
     "name": "stderr",
     "output_type": "stream",
     "text": [
      "Warning message in pre_process_did(yname = yname, tname = tname, idname = idname, :\n",
      "“dropped 222 rows from original data due to missing data”\n",
      "Warning message in pre_process_did(yname = yname, tname = tname, idname = idname, :\n",
      "“Be aware that there are some small groups in your dataset.\n",
      "  Check groups: 2005,2010,2014.”\n",
      "Warning message in pre_process_did(yname = yname, tname = tname, idname = idname, :\n",
      "“dropped 222 rows from original data due to missing data”\n",
      "Warning message in pre_process_did(yname = yname, tname = tname, idname = idname, :\n",
      "“Be aware that there are some small groups in your dataset.\n",
      "  Check groups: 2014.”\n",
      "Warning message in pre_process_did(yname = yname, tname = tname, idname = idname, :\n",
      "“dropped 222 rows from original data due to missing data”\n",
      "Warning message in pre_process_did(yname = yname, tname = tname, idname = idname, :\n",
      "“Be aware that there are some small groups in your dataset.\n",
      "  Check groups: 2010,2014.”\n",
      "Warning message in pre_process_did(yname = yname, tname = tname, idname = idname, :\n",
      "“dropped 222 rows from original data due to missing data”\n",
      "Warning message in pre_process_did(yname = yname, tname = tname, idname = idname, :\n",
      "“Be aware that there are some small groups in your dataset.\n",
      "  Check groups: 2010,2014.”\n"
     ]
    },
    {
     "name": "stdout",
     "output_type": "stream",
     "text": [
      "[1] \"ST\"\n",
      "[1] \"Union\"\n"
     ]
    },
    {
     "name": "stderr",
     "output_type": "stream",
     "text": [
      "Warning message in pre_process_did(yname = yname, tname = tname, idname = idname, :\n",
      "“dropped 222 rows from original data due to missing data”\n",
      "Warning message in pre_process_did(yname = yname, tname = tname, idname = idname, :\n",
      "“Be aware that there are some small groups in your dataset.\n",
      "  Check groups: 2005,2010,2014.”\n",
      "Warning message in pre_process_did(yname = yname, tname = tname, idname = idname, :\n",
      "“dropped 222 rows from original data due to missing data”\n",
      "Warning message in pre_process_did(yname = yname, tname = tname, idname = idname, :\n",
      "“Be aware that there are some small groups in your dataset.\n",
      "  Check groups: 2014.”\n",
      "Warning message in pre_process_did(yname = yname, tname = tname, idname = idname, :\n",
      "“dropped 222 rows from original data due to missing data”\n",
      "Warning message in pre_process_did(yname = yname, tname = tname, idname = idname, :\n",
      "“Be aware that there are some small groups in your dataset.\n",
      "  Check groups: 2010,2014.”\n",
      "Warning message in pre_process_did(yname = yname, tname = tname, idname = idname, :\n",
      "“dropped 222 rows from original data due to missing data”\n",
      "Warning message in pre_process_did(yname = yname, tname = tname, idname = idname, :\n",
      "“Be aware that there are some small groups in your dataset.\n",
      "  Check groups: 2010,2014.”\n"
     ]
    },
    {
     "name": "stdout",
     "output_type": "stream",
     "text": [
      "[1] \"ST\"\n",
      "[1] \"SPD\"\n"
     ]
    },
    {
     "name": "stderr",
     "output_type": "stream",
     "text": [
      "Warning message in pre_process_did(yname = yname, tname = tname, idname = idname, :\n",
      "“dropped 222 rows from original data due to missing data”\n",
      "Warning message in pre_process_did(yname = yname, tname = tname, idname = idname, :\n",
      "“Be aware that there are some small groups in your dataset.\n",
      "  Check groups: 2005,2010,2014.”\n",
      "Warning message in pre_process_did(yname = yname, tname = tname, idname = idname, :\n",
      "“dropped 222 rows from original data due to missing data”\n",
      "Warning message in pre_process_did(yname = yname, tname = tname, idname = idname, :\n",
      "“Be aware that there are some small groups in your dataset.\n",
      "  Check groups: 2014.”\n",
      "Warning message in pre_process_did(yname = yname, tname = tname, idname = idname, :\n",
      "“dropped 222 rows from original data due to missing data”\n",
      "Warning message in pre_process_did(yname = yname, tname = tname, idname = idname, :\n",
      "“Be aware that there are some small groups in your dataset.\n",
      "  Check groups: 2010,2014.”\n",
      "Warning message in pre_process_did(yname = yname, tname = tname, idname = idname, :\n",
      "“dropped 222 rows from original data due to missing data”\n",
      "Warning message in pre_process_did(yname = yname, tname = tname, idname = idname, :\n",
      "“Be aware that there are some small groups in your dataset.\n",
      "  Check groups: 2010,2014.”\n"
     ]
    },
    {
     "name": "stdout",
     "output_type": "stream",
     "text": [
      "[1] \"ST\"\n",
      "[1] \"FDP\"\n"
     ]
    },
    {
     "name": "stderr",
     "output_type": "stream",
     "text": [
      "Warning message in pre_process_did(yname = yname, tname = tname, idname = idname, :\n",
      "“dropped 222 rows from original data due to missing data”\n",
      "Warning message in pre_process_did(yname = yname, tname = tname, idname = idname, :\n",
      "“Be aware that there are some small groups in your dataset.\n",
      "  Check groups: 2005,2010,2014.”\n",
      "Warning message in pre_process_did(yname = yname, tname = tname, idname = idname, :\n",
      "“dropped 222 rows from original data due to missing data”\n",
      "Warning message in pre_process_did(yname = yname, tname = tname, idname = idname, :\n",
      "“Be aware that there are some small groups in your dataset.\n",
      "  Check groups: 2014.”\n",
      "Warning message in pre_process_did(yname = yname, tname = tname, idname = idname, :\n",
      "“dropped 222 rows from original data due to missing data”\n",
      "Warning message in pre_process_did(yname = yname, tname = tname, idname = idname, :\n",
      "“Be aware that there are some small groups in your dataset.\n",
      "  Check groups: 2010,2014.”\n",
      "Warning message in pre_process_did(yname = yname, tname = tname, idname = idname, :\n",
      "“dropped 222 rows from original data due to missing data”\n",
      "Warning message in pre_process_did(yname = yname, tname = tname, idname = idname, :\n",
      "“Be aware that there are some small groups in your dataset.\n",
      "  Check groups: 2010,2014.”\n"
     ]
    },
    {
     "name": "stdout",
     "output_type": "stream",
     "text": [
      "[1] \"ST\"\n",
      "[1] \"Linke\"\n"
     ]
    },
    {
     "name": "stderr",
     "output_type": "stream",
     "text": [
      "Warning message in pre_process_did(yname = yname, tname = tname, idname = idname, :\n",
      "“dropped 222 rows from original data due to missing data”\n",
      "Warning message in pre_process_did(yname = yname, tname = tname, idname = idname, :\n",
      "“Be aware that there are some small groups in your dataset.\n",
      "  Check groups: 2005,2010,2014.”\n",
      "Warning message in pre_process_did(yname = yname, tname = tname, idname = idname, :\n",
      "“dropped 222 rows from original data due to missing data”\n",
      "Warning message in pre_process_did(yname = yname, tname = tname, idname = idname, :\n",
      "“Be aware that there are some small groups in your dataset.\n",
      "  Check groups: 2014.”\n",
      "Warning message in pre_process_did(yname = yname, tname = tname, idname = idname, :\n",
      "“dropped 222 rows from original data due to missing data”\n",
      "Warning message in pre_process_did(yname = yname, tname = tname, idname = idname, :\n",
      "“Be aware that there are some small groups in your dataset.\n",
      "  Check groups: 2010,2014.”\n",
      "Warning message in pre_process_did(yname = yname, tname = tname, idname = idname, :\n",
      "“dropped 222 rows from original data due to missing data”\n",
      "Warning message in pre_process_did(yname = yname, tname = tname, idname = idname, :\n",
      "“Be aware that there are some small groups in your dataset.\n",
      "  Check groups: 2010,2014.”\n"
     ]
    },
    {
     "name": "stdout",
     "output_type": "stream",
     "text": [
      "[1] \"ST\"\n",
      "[1] \"Grüne\"\n"
     ]
    },
    {
     "name": "stderr",
     "output_type": "stream",
     "text": [
      "Warning message in pre_process_did(yname = yname, tname = tname, idname = idname, :\n",
      "“dropped 222 rows from original data due to missing data”\n",
      "Warning message in pre_process_did(yname = yname, tname = tname, idname = idname, :\n",
      "“Be aware that there are some small groups in your dataset.\n",
      "  Check groups: 2005,2010,2014.”\n",
      "Warning message in pre_process_did(yname = yname, tname = tname, idname = idname, :\n",
      "“dropped 222 rows from original data due to missing data”\n",
      "Warning message in pre_process_did(yname = yname, tname = tname, idname = idname, :\n",
      "“Be aware that there are some small groups in your dataset.\n",
      "  Check groups: 2014.”\n",
      "Warning message in pre_process_did(yname = yname, tname = tname, idname = idname, :\n",
      "“dropped 222 rows from original data due to missing data”\n",
      "Warning message in pre_process_did(yname = yname, tname = tname, idname = idname, :\n",
      "“Be aware that there are some small groups in your dataset.\n",
      "  Check groups: 2010,2014.”\n",
      "Warning message in pre_process_did(yname = yname, tname = tname, idname = idname, :\n",
      "“dropped 222 rows from original data due to missing data”\n",
      "Warning message in pre_process_did(yname = yname, tname = tname, idname = idname, :\n",
      "“Be aware that there are some small groups in your dataset.\n",
      "  Check groups: 2010,2014.”\n"
     ]
    },
    {
     "name": "stdout",
     "output_type": "stream",
     "text": [
      "[1] \"ST\"\n",
      "[1] \"Andere\"\n"
     ]
    },
    {
     "name": "stderr",
     "output_type": "stream",
     "text": [
      "Warning message in pre_process_did(yname = yname, tname = tname, idname = idname, :\n",
      "“dropped 2169 rows from original data due to missing data”\n",
      "Warning message in pre_process_did(yname = yname, tname = tname, idname = idname, :\n",
      "“dropped 2169 rows from original data due to missing data”\n",
      "Warning message in pre_process_did(yname = yname, tname = tname, idname = idname, :\n",
      "“dropped 2169 rows from original data due to missing data”\n",
      "Warning message in pre_process_did(yname = yname, tname = tname, idname = idname, :\n",
      "“dropped 2169 rows from original data due to missing data”\n",
      "Warning message in pre_process_did(yname = yname, tname = tname, idname = idname, :\n",
      "“Be aware that there are some small groups in your dataset.\n",
      "  Check groups: 2014.”\n"
     ]
    },
    {
     "name": "stdout",
     "output_type": "stream",
     "text": [
      "[1] \"TH\"\n",
      "[1] \"Union\"\n"
     ]
    },
    {
     "name": "stderr",
     "output_type": "stream",
     "text": [
      "Warning message in pre_process_did(yname = yname, tname = tname, idname = idname, :\n",
      "“dropped 2169 rows from original data due to missing data”\n",
      "Warning message in pre_process_did(yname = yname, tname = tname, idname = idname, :\n",
      "“dropped 2169 rows from original data due to missing data”\n",
      "Warning message in pre_process_did(yname = yname, tname = tname, idname = idname, :\n",
      "“dropped 2169 rows from original data due to missing data”\n",
      "Warning message in pre_process_did(yname = yname, tname = tname, idname = idname, :\n",
      "“dropped 2169 rows from original data due to missing data”\n",
      "Warning message in pre_process_did(yname = yname, tname = tname, idname = idname, :\n",
      "“Be aware that there are some small groups in your dataset.\n",
      "  Check groups: 2014.”\n"
     ]
    },
    {
     "name": "stdout",
     "output_type": "stream",
     "text": [
      "[1] \"TH\"\n",
      "[1] \"SPD\"\n"
     ]
    },
    {
     "name": "stderr",
     "output_type": "stream",
     "text": [
      "Warning message in pre_process_did(yname = yname, tname = tname, idname = idname, :\n",
      "“dropped 2169 rows from original data due to missing data”\n",
      "Warning message in pre_process_did(yname = yname, tname = tname, idname = idname, :\n",
      "“dropped 2169 rows from original data due to missing data”\n",
      "Warning message in pre_process_did(yname = yname, tname = tname, idname = idname, :\n",
      "“dropped 2169 rows from original data due to missing data”\n",
      "Warning message in pre_process_did(yname = yname, tname = tname, idname = idname, :\n",
      "“dropped 2169 rows from original data due to missing data”\n",
      "Warning message in pre_process_did(yname = yname, tname = tname, idname = idname, :\n",
      "“Be aware that there are some small groups in your dataset.\n",
      "  Check groups: 2014.”\n"
     ]
    },
    {
     "name": "stdout",
     "output_type": "stream",
     "text": [
      "[1] \"TH\"\n",
      "[1] \"FDP\"\n"
     ]
    },
    {
     "name": "stderr",
     "output_type": "stream",
     "text": [
      "Warning message in pre_process_did(yname = yname, tname = tname, idname = idname, :\n",
      "“dropped 2169 rows from original data due to missing data”\n",
      "Warning message in pre_process_did(yname = yname, tname = tname, idname = idname, :\n",
      "“dropped 2169 rows from original data due to missing data”\n",
      "Warning message in pre_process_did(yname = yname, tname = tname, idname = idname, :\n",
      "“dropped 2169 rows from original data due to missing data”\n",
      "Warning message in pre_process_did(yname = yname, tname = tname, idname = idname, :\n",
      "“dropped 2169 rows from original data due to missing data”\n",
      "Warning message in pre_process_did(yname = yname, tname = tname, idname = idname, :\n",
      "“Be aware that there are some small groups in your dataset.\n",
      "  Check groups: 2014.”\n"
     ]
    },
    {
     "name": "stdout",
     "output_type": "stream",
     "text": [
      "[1] \"TH\"\n",
      "[1] \"Linke\"\n"
     ]
    },
    {
     "name": "stderr",
     "output_type": "stream",
     "text": [
      "Warning message in pre_process_did(yname = yname, tname = tname, idname = idname, :\n",
      "“dropped 2169 rows from original data due to missing data”\n",
      "Warning message in pre_process_did(yname = yname, tname = tname, idname = idname, :\n",
      "“dropped 2169 rows from original data due to missing data”\n",
      "Warning message in pre_process_did(yname = yname, tname = tname, idname = idname, :\n",
      "“dropped 2169 rows from original data due to missing data”\n",
      "Warning message in pre_process_did(yname = yname, tname = tname, idname = idname, :\n",
      "“dropped 2169 rows from original data due to missing data”\n",
      "Warning message in pre_process_did(yname = yname, tname = tname, idname = idname, :\n",
      "“Be aware that there are some small groups in your dataset.\n",
      "  Check groups: 2014.”\n"
     ]
    },
    {
     "name": "stdout",
     "output_type": "stream",
     "text": [
      "[1] \"TH\"\n",
      "[1] \"Grüne\"\n"
     ]
    },
    {
     "name": "stderr",
     "output_type": "stream",
     "text": [
      "Warning message in pre_process_did(yname = yname, tname = tname, idname = idname, :\n",
      "“dropped 2169 rows from original data due to missing data”\n",
      "Warning message in pre_process_did(yname = yname, tname = tname, idname = idname, :\n",
      "“dropped 2169 rows from original data due to missing data”\n",
      "Warning message in pre_process_did(yname = yname, tname = tname, idname = idname, :\n",
      "“dropped 2169 rows from original data due to missing data”\n",
      "Warning message in pre_process_did(yname = yname, tname = tname, idname = idname, :\n",
      "“dropped 2169 rows from original data due to missing data”\n",
      "Warning message in pre_process_did(yname = yname, tname = tname, idname = idname, :\n",
      "“Be aware that there are some small groups in your dataset.\n",
      "  Check groups: 2014.”\n"
     ]
    },
    {
     "name": "stdout",
     "output_type": "stream",
     "text": [
      "[1] \"TH\"\n",
      "[1] \"Andere\"\n"
     ]
    }
   ],
   "source": [
    "parties <- c('Union', 'SPD', 'FDP', 'Linke', 'Grüne', 'Andere')\n",
    "treatments_dict <- hash('treatment_0'='Direct Line', 'treatment_15'='Within 15km', 'treatment_30'='Within 30km', 'treatment_50'='Within 50km')\n",
    "states_dict <- hash('SH'='Schleswig-Holstein (SH)', 'NI'='Lower Saxony (NI)', 'NW'='North-Rhine Westphalia (NRW)', 'HE'='Hesse (HE)', \n",
    "'RP'='Rhineland-Palatine (RP)', 'BW'='Baden-Württemberg (BW)', 'BY'='Bavaria (BY)', 'BB'='Brandenburg (BB)', 'MV'='Mecklenburg-Vorpommern (MV)', \n",
    "'ST'='Saxony-Anhalt (ST)', 'TH'='Thuringia (TH)') # all states - those never treated\n",
    "treatments <- keys(treatments_dict)\n",
    "states <- keys(states_dict)\n",
    "results  <- list()\n",
    "for (state in states){\n",
    "  for(party in parties){\n",
    "    reg_data <- subset(erst_c, Land == state)\n",
    "    figures  <- list()\n",
    "    for(treatment in treatments){\n",
    "      result <- att_gt(yname = party,\n",
    "                    gname = treatment,\n",
    "                    idname = 'AGS',\n",
    "                    panel = TRUE,\n",
    "                    tname = 'year',\n",
    "                    xformla = ~ pop_density + unemployed + female,\n",
    "                    data = reg_data,\n",
    "                    est_method = 'reg',\n",
    "                    anticipation = 0,\n",
    "                    control_group = 'nevertreated',\n",
    "                    clustervars = c('AGS'),\n",
    "                    bstrap = TRUE,\n",
    "                    cband = TRUE,\n",
    "                    allow_unbalanced_panel = TRUE,\n",
    "                    \n",
    "      )\n",
    "      att <- aggte(result, type = \"simple\", bstrap = TRUE, clustervars = c('AGS'))\n",
    "\n",
    "      figures[[length(figures)+1]] <- ggdid(result, \n",
    "                ylim = c(floor(min(result$att - result$se * 2.345 - 1)), ceiling(max(result$att + result$se * 2.345 + 1))),\n",
    "                title = (sprintf('%s', treatments_dict[[treatment]])),\n",
    "                ncol = 3, lab_size = 10\n",
    "                ) +\n",
    "                labs(caption = sprintf('Overall ATT (SE): %.3f (%.3f) \\n P-value for pre-test of parallel trends assumption: %.3f \\n # Obs.: %s'\n",
    "                , att$overall.att, att$overall.se, result$Wpval, result$n)) +\n",
    "                theme(plot.caption = element_text(hjust=0.5))\n",
    "      \n",
    "      results[[length(results)+1]] <- result\n",
    "    }\n",
    "    arranged_fig <- ggarrange(plotlist=figures, nrow = 4, ncol = 1, common.legend = TRUE, legend = 'bottom')\n",
    "    final_fig <- annotate_figure(arranged_fig,\n",
    "                    top = text_grob(sprintf(\"%s \\n Effect on %s's vote share\", states_dict[[state]], party), face = \"bold\", size = 14),\n",
    "                    bottom = text_grob('Control Group: Never Treated. Estimation Method: Doubly Robust', size = 10),)\n",
    "    ggsave(sprintf('%s_%s.png', state, party), plot = final_fig, path = sprintf('%s/figures/R/BTW/by_state', path), units = 'cm', width = 21, height = 29.7, dpi=\"print\")\n",
    "    print(state)\n",
    "    print(party)\n",
    "  }\n",
    "}"
   ]
  },
  {
   "cell_type": "markdown",
   "metadata": {},
   "source": [
    "DiD for BTW with controls"
   ]
  },
  {
   "cell_type": "code",
   "execution_count": 77,
   "metadata": {
    "vscode": {
     "languageId": "r"
    }
   },
   "outputs": [],
   "source": [
    "btw_c <- import(sprintf(\"%s/data/btw_control.csv\", path))\n",
    "erst_c <- subset(btw_c, first_vote == 1)"
   ]
  },
  {
   "cell_type": "code",
   "execution_count": 78,
   "metadata": {
    "vscode": {
     "languageId": "r"
    }
   },
   "outputs": [
    {
     "data": {
      "text/html": [
       "<style>\n",
       ".list-inline {list-style: none; margin:0; padding: 0}\n",
       ".list-inline>li {display: inline-block}\n",
       ".list-inline>li:not(:last-child)::after {content: \"\\00b7\"; padding: 0 .5ex}\n",
       "</style>\n",
       "<ol class=list-inline><li>'AGS'</li><li>'year'</li><li>'GEN'</li><li>'Land'</li><li>'state_id'</li><li>'Kreis'</li><li>'Wahlkreis'</li><li>'post_1998'</li><li>'post_2002'</li><li>'post_2005'</li><li>'post_2009'</li><li>'post_2013'</li><li>'first_vote'</li><li>'second_vote'</li><li>'Wähler'</li><li>'Gültig'</li><li>'Union'</li><li>'SPD'</li><li>'FDP'</li><li>'Linke'</li><li>'Grüne'</li><li>'Andere'</li><li>'treatment_05'</li><li>'treatment_09'</li><li>'treatment_13'</li><li>'treatment_0'</li><li>'treatment_15'</li><li>'treatment_30'</li><li>'treatment_50'</li><li>'ever_treated'</li><li>'never_treated'</li><li>'pop_density'</li><li>'unemployed'</li><li>'foreign'</li><li>'catholic'</li><li>'avg_age'</li><li>'female'</li><li>'income_pc'</li><li>'east'</li></ol>\n"
      ],
      "text/latex": [
       "\\begin{enumerate*}\n",
       "\\item 'AGS'\n",
       "\\item 'year'\n",
       "\\item 'GEN'\n",
       "\\item 'Land'\n",
       "\\item 'state\\_id'\n",
       "\\item 'Kreis'\n",
       "\\item 'Wahlkreis'\n",
       "\\item 'post\\_1998'\n",
       "\\item 'post\\_2002'\n",
       "\\item 'post\\_2005'\n",
       "\\item 'post\\_2009'\n",
       "\\item 'post\\_2013'\n",
       "\\item 'first\\_vote'\n",
       "\\item 'second\\_vote'\n",
       "\\item 'Wähler'\n",
       "\\item 'Gültig'\n",
       "\\item 'Union'\n",
       "\\item 'SPD'\n",
       "\\item 'FDP'\n",
       "\\item 'Linke'\n",
       "\\item 'Grüne'\n",
       "\\item 'Andere'\n",
       "\\item 'treatment\\_05'\n",
       "\\item 'treatment\\_09'\n",
       "\\item 'treatment\\_13'\n",
       "\\item 'treatment\\_0'\n",
       "\\item 'treatment\\_15'\n",
       "\\item 'treatment\\_30'\n",
       "\\item 'treatment\\_50'\n",
       "\\item 'ever\\_treated'\n",
       "\\item 'never\\_treated'\n",
       "\\item 'pop\\_density'\n",
       "\\item 'unemployed'\n",
       "\\item 'foreign'\n",
       "\\item 'catholic'\n",
       "\\item 'avg\\_age'\n",
       "\\item 'female'\n",
       "\\item 'income\\_pc'\n",
       "\\item 'east'\n",
       "\\end{enumerate*}\n"
      ],
      "text/markdown": [
       "1. 'AGS'\n",
       "2. 'year'\n",
       "3. 'GEN'\n",
       "4. 'Land'\n",
       "5. 'state_id'\n",
       "6. 'Kreis'\n",
       "7. 'Wahlkreis'\n",
       "8. 'post_1998'\n",
       "9. 'post_2002'\n",
       "10. 'post_2005'\n",
       "11. 'post_2009'\n",
       "12. 'post_2013'\n",
       "13. 'first_vote'\n",
       "14. 'second_vote'\n",
       "15. 'Wähler'\n",
       "16. 'Gültig'\n",
       "17. 'Union'\n",
       "18. 'SPD'\n",
       "19. 'FDP'\n",
       "20. 'Linke'\n",
       "21. 'Grüne'\n",
       "22. 'Andere'\n",
       "23. 'treatment_05'\n",
       "24. 'treatment_09'\n",
       "25. 'treatment_13'\n",
       "26. 'treatment_0'\n",
       "27. 'treatment_15'\n",
       "28. 'treatment_30'\n",
       "29. 'treatment_50'\n",
       "30. 'ever_treated'\n",
       "31. 'never_treated'\n",
       "32. 'pop_density'\n",
       "33. 'unemployed'\n",
       "34. 'foreign'\n",
       "35. 'catholic'\n",
       "36. 'avg_age'\n",
       "37. 'female'\n",
       "38. 'income_pc'\n",
       "39. 'east'\n",
       "\n",
       "\n"
      ],
      "text/plain": [
       " [1] \"AGS\"           \"year\"          \"GEN\"           \"Land\"         \n",
       " [5] \"state_id\"      \"Kreis\"         \"Wahlkreis\"     \"post_1998\"    \n",
       " [9] \"post_2002\"     \"post_2005\"     \"post_2009\"     \"post_2013\"    \n",
       "[13] \"first_vote\"    \"second_vote\"   \"Wähler\"        \"Gültig\"       \n",
       "[17] \"Union\"         \"SPD\"           \"FDP\"           \"Linke\"        \n",
       "[21] \"Grüne\"         \"Andere\"        \"treatment_05\"  \"treatment_09\" \n",
       "[25] \"treatment_13\"  \"treatment_0\"   \"treatment_15\"  \"treatment_30\" \n",
       "[29] \"treatment_50\"  \"ever_treated\"  \"never_treated\" \"pop_density\"  \n",
       "[33] \"unemployed\"    \"foreign\"       \"catholic\"      \"avg_age\"      \n",
       "[37] \"female\"        \"income_pc\"     \"east\"         "
      ]
     },
     "metadata": {},
     "output_type": "display_data"
    }
   ],
   "source": [
    "colnames(btw_c)"
   ]
  },
  {
   "cell_type": "code",
   "execution_count": 81,
   "metadata": {
    "vscode": {
     "languageId": "r"
    }
   },
   "outputs": [
    {
     "name": "stderr",
     "output_type": "stream",
     "text": [
      "Warning message in pre_process_did(yname = yname, tname = tname, idname = idname, :\n",
      "“dropped 2 rows from original data due to missing data”\n",
      "Warning message in pre_process_did(yname = yname, tname = tname, idname = idname, :\n",
      "“dropped 2 rows from original data due to missing data”\n",
      "Warning message in pre_process_did(yname = yname, tname = tname, idname = idname, :\n",
      "“dropped 2 rows from original data due to missing data”\n",
      "Warning message in pre_process_did(yname = yname, tname = tname, idname = idname, :\n",
      "“dropped 2 rows from original data due to missing data”\n"
     ]
    },
    {
     "name": "stdout",
     "output_type": "stream",
     "text": [
      "[1] \"Union\"\n"
     ]
    },
    {
     "name": "stderr",
     "output_type": "stream",
     "text": [
      "Warning message in pre_process_did(yname = yname, tname = tname, idname = idname, :\n",
      "“dropped 2 rows from original data due to missing data”\n",
      "Warning message in pre_process_did(yname = yname, tname = tname, idname = idname, :\n",
      "“dropped 2 rows from original data due to missing data”\n",
      "Warning message in pre_process_did(yname = yname, tname = tname, idname = idname, :\n",
      "“dropped 2 rows from original data due to missing data”\n",
      "Warning message in pre_process_did(yname = yname, tname = tname, idname = idname, :\n",
      "“dropped 2 rows from original data due to missing data”\n"
     ]
    },
    {
     "name": "stdout",
     "output_type": "stream",
     "text": [
      "[1] \"SPD\"\n"
     ]
    },
    {
     "name": "stderr",
     "output_type": "stream",
     "text": [
      "Warning message in pre_process_did(yname = yname, tname = tname, idname = idname, :\n",
      "“dropped 2 rows from original data due to missing data”\n",
      "Warning message in pre_process_did(yname = yname, tname = tname, idname = idname, :\n",
      "“dropped 2 rows from original data due to missing data”\n",
      "Warning message in pre_process_did(yname = yname, tname = tname, idname = idname, :\n",
      "“dropped 2 rows from original data due to missing data”\n",
      "Warning message in pre_process_did(yname = yname, tname = tname, idname = idname, :\n",
      "“dropped 2 rows from original data due to missing data”\n"
     ]
    },
    {
     "name": "stdout",
     "output_type": "stream",
     "text": [
      "[1] \"FDP\"\n"
     ]
    },
    {
     "name": "stderr",
     "output_type": "stream",
     "text": [
      "Warning message in pre_process_did(yname = yname, tname = tname, idname = idname, :\n",
      "“dropped 2 rows from original data due to missing data”\n",
      "Warning message in pre_process_did(yname = yname, tname = tname, idname = idname, :\n",
      "“dropped 2 rows from original data due to missing data”\n",
      "Warning message in pre_process_did(yname = yname, tname = tname, idname = idname, :\n",
      "“dropped 2 rows from original data due to missing data”\n",
      "Warning message in pre_process_did(yname = yname, tname = tname, idname = idname, :\n",
      "“dropped 2 rows from original data due to missing data”\n"
     ]
    },
    {
     "name": "stdout",
     "output_type": "stream",
     "text": [
      "[1] \"Linke\"\n"
     ]
    },
    {
     "name": "stderr",
     "output_type": "stream",
     "text": [
      "Warning message in pre_process_did(yname = yname, tname = tname, idname = idname, :\n",
      "“dropped 2 rows from original data due to missing data”\n",
      "Warning message in pre_process_did(yname = yname, tname = tname, idname = idname, :\n",
      "“dropped 2 rows from original data due to missing data”\n",
      "Warning message in pre_process_did(yname = yname, tname = tname, idname = idname, :\n",
      "“dropped 2 rows from original data due to missing data”\n",
      "Warning message in pre_process_did(yname = yname, tname = tname, idname = idname, :\n",
      "“dropped 2 rows from original data due to missing data”\n"
     ]
    },
    {
     "name": "stdout",
     "output_type": "stream",
     "text": [
      "[1] \"Grüne\"\n"
     ]
    },
    {
     "name": "stderr",
     "output_type": "stream",
     "text": [
      "Warning message in pre_process_did(yname = yname, tname = tname, idname = idname, :\n",
      "“dropped 2 rows from original data due to missing data”\n",
      "Warning message in pre_process_did(yname = yname, tname = tname, idname = idname, :\n",
      "“dropped 2 rows from original data due to missing data”\n",
      "Warning message in pre_process_did(yname = yname, tname = tname, idname = idname, :\n",
      "“dropped 2 rows from original data due to missing data”\n",
      "Warning message in pre_process_did(yname = yname, tname = tname, idname = idname, :\n",
      "“dropped 2 rows from original data due to missing data”\n"
     ]
    },
    {
     "name": "stdout",
     "output_type": "stream",
     "text": [
      "[1] \"Andere\"\n"
     ]
    }
   ],
   "source": [
    "parties <- c('Union', 'SPD', 'FDP', 'Linke', 'Grüne', 'Andere')\n",
    "treatments <- hash('treatment_0'='Direct Line', 'treatment_15'='Within 15km', 'treatment_30'='Within 30km', 'treatment_50'='Within 50km')\n",
    "keys <- keys(treatments)\n",
    "results  <- list()\n",
    "for(party in parties){\n",
    "  figures  <- list()\n",
    "  for(treatment in keys){\n",
    "    result <- att_gt(yname = party,\n",
    "                  gname = treatment,\n",
    "                  idname = 'AGS',\n",
    "                  panel = TRUE,\n",
    "                  tname = 'year',\n",
    "                  xformla = ~ east + pop_density + unemployed + female + avg_age,\n",
    "                  data = erst_c,\n",
    "                  est_method = 'dr',\n",
    "                  anticipation = 0,\n",
    "                  control_group = 'nevertreated',\n",
    "                  clustervars = c('AGS'),\n",
    "                  bstrap = TRUE,\n",
    "                  cband = TRUE,\n",
    "                  allow_unbalanced_panel = TRUE,\n",
    "                  \n",
    "    )\n",
    "    att <- aggte(result, type = \"simple\", bstrap = TRUE, clustervars = c('AGS'))\n",
    "\n",
    "    figures[[length(figures)+1]] <- ggdid(result, \n",
    "              ylim = c(floor(min(result$att - result$se * 2.345 - 1)), ceiling(max(result$att + result$se * 2.345 + 1))),\n",
    "              title = (sprintf('%s', treatments[[treatment]])),\n",
    "              ncol = 3, lab_size = 10\n",
    "              ) +\n",
    "              labs(caption = sprintf('Overall ATT (SE): %.3f (%.3f) \\n P-value for pre-test of parallel trends assumption: %.3f \\n # Obs.: %s'\n",
    "              , att$overall.att, att$overall.se, result$Wpval, result$n)) +\n",
    "              theme(plot.caption = element_text(hjust=0.5))\n",
    "    \n",
    "    results[[length(results)+1]] <- result\n",
    "  }\n",
    "  arranged_fig <- ggarrange(plotlist=figures, nrow = 4, ncol = 1, common.legend = TRUE, legend = 'bottom')\n",
    "  final_fig <- annotate_figure(arranged_fig,\n",
    "                  top = text_grob(sprintf(\"Effect on %s's vote share\", party), face = \"bold\", size = 14),\n",
    "                  bottom = text_grob('Control Group: Never Treated. Estimation Method: Doubly Robust', size = 10),)\n",
    "  ggsave(sprintf('%s.png', party), plot = final_fig, path = sprintf('%s/figures/R/BTW/control', path), units = 'cm', width = 21, height = 29.7, dpi=\"print\")\n",
    "  print(party)\n",
    "}"
   ]
  },
  {
   "cell_type": "markdown",
   "metadata": {},
   "source": [
    "DiD for LTW no controls"
   ]
  },
  {
   "cell_type": "code",
   "execution_count": 32,
   "metadata": {
    "vscode": {
     "languageId": "r"
    }
   },
   "outputs": [],
   "source": [
    "# read in the data set\n",
    "ltw <- import(sprintf(\"%s/data/ltw_treat.csv\", path))"
   ]
  },
  {
   "cell_type": "code",
   "execution_count": 33,
   "metadata": {
    "vscode": {
     "languageId": "r"
    }
   },
   "outputs": [
    {
     "data": {
      "text/html": [
       "<style>\n",
       ".list-inline {list-style: none; margin:0; padding: 0}\n",
       ".list-inline>li {display: inline-block}\n",
       ".list-inline>li:not(:last-child)::after {content: \"\\00b7\"; padding: 0 .5ex}\n",
       "</style>\n",
       "<ol class=list-inline><li>'AGS'</li><li>'GEN'</li><li>'year'</li><li>'Land'</li><li>'state_ID'</li><li>'Kreis'</li><li>'post_2010'</li><li>'post_2014'</li><li>'Union'</li><li>'SPD'</li><li>'Grüne'</li><li>'FDP'</li><li>'Linke'</li><li>'Andere'</li><li>'treatment_05'</li><li>'treatment_09'</li><li>'treatment_13'</li><li>'treatment_0'</li><li>'treatment_15'</li><li>'treatment_30'</li><li>'treatment_50'</li><li>'ever_treated'</li><li>'never_treated'</li></ol>\n"
      ],
      "text/latex": [
       "\\begin{enumerate*}\n",
       "\\item 'AGS'\n",
       "\\item 'GEN'\n",
       "\\item 'year'\n",
       "\\item 'Land'\n",
       "\\item 'state\\_ID'\n",
       "\\item 'Kreis'\n",
       "\\item 'post\\_2010'\n",
       "\\item 'post\\_2014'\n",
       "\\item 'Union'\n",
       "\\item 'SPD'\n",
       "\\item 'Grüne'\n",
       "\\item 'FDP'\n",
       "\\item 'Linke'\n",
       "\\item 'Andere'\n",
       "\\item 'treatment\\_05'\n",
       "\\item 'treatment\\_09'\n",
       "\\item 'treatment\\_13'\n",
       "\\item 'treatment\\_0'\n",
       "\\item 'treatment\\_15'\n",
       "\\item 'treatment\\_30'\n",
       "\\item 'treatment\\_50'\n",
       "\\item 'ever\\_treated'\n",
       "\\item 'never\\_treated'\n",
       "\\end{enumerate*}\n"
      ],
      "text/markdown": [
       "1. 'AGS'\n",
       "2. 'GEN'\n",
       "3. 'year'\n",
       "4. 'Land'\n",
       "5. 'state_ID'\n",
       "6. 'Kreis'\n",
       "7. 'post_2010'\n",
       "8. 'post_2014'\n",
       "9. 'Union'\n",
       "10. 'SPD'\n",
       "11. 'Grüne'\n",
       "12. 'FDP'\n",
       "13. 'Linke'\n",
       "14. 'Andere'\n",
       "15. 'treatment_05'\n",
       "16. 'treatment_09'\n",
       "17. 'treatment_13'\n",
       "18. 'treatment_0'\n",
       "19. 'treatment_15'\n",
       "20. 'treatment_30'\n",
       "21. 'treatment_50'\n",
       "22. 'ever_treated'\n",
       "23. 'never_treated'\n",
       "\n",
       "\n"
      ],
      "text/plain": [
       " [1] \"AGS\"           \"GEN\"           \"year\"          \"Land\"         \n",
       " [5] \"state_ID\"      \"Kreis\"         \"post_2010\"     \"post_2014\"    \n",
       " [9] \"Union\"         \"SPD\"           \"Grüne\"         \"FDP\"          \n",
       "[13] \"Linke\"         \"Andere\"        \"treatment_05\"  \"treatment_09\" \n",
       "[17] \"treatment_13\"  \"treatment_0\"   \"treatment_15\"  \"treatment_30\" \n",
       "[21] \"treatment_50\"  \"ever_treated\"  \"never_treated\""
      ]
     },
     "metadata": {},
     "output_type": "display_data"
    }
   ],
   "source": [
    "colnames(ltw)"
   ]
  },
  {
   "cell_type": "code",
   "execution_count": 34,
   "metadata": {
    "vscode": {
     "languageId": "r"
    }
   },
   "outputs": [
    {
     "name": "stderr",
     "output_type": "stream",
     "text": [
      "Warning message in pre_process_did(yname = yname, tname = tname, idname = idname, :\n",
      "“Dropped 227 units that were already treated in the first period.”\n",
      "Warning message in pre_process_did(yname = yname, tname = tname, idname = idname, :\n",
      "“Dropped 1057 units that were already treated in the first period.”\n",
      "Warning message in pre_process_did(yname = yname, tname = tname, idname = idname, :\n",
      "“Dropped 1838 units that were already treated in the first period.”\n",
      "Warning message in pre_process_did(yname = yname, tname = tname, idname = idname, :\n",
      "“Dropped 2585 units that were already treated in the first period.”\n"
     ]
    },
    {
     "name": "stdout",
     "output_type": "stream",
     "text": [
      "[1] \"Union\"\n"
     ]
    },
    {
     "name": "stderr",
     "output_type": "stream",
     "text": [
      "Warning message in pre_process_did(yname = yname, tname = tname, idname = idname, :\n",
      "“Dropped 227 units that were already treated in the first period.”\n",
      "Warning message in pre_process_did(yname = yname, tname = tname, idname = idname, :\n",
      "“Dropped 1057 units that were already treated in the first period.”\n",
      "Warning message in pre_process_did(yname = yname, tname = tname, idname = idname, :\n",
      "“Dropped 1838 units that were already treated in the first period.”\n",
      "Warning message in pre_process_did(yname = yname, tname = tname, idname = idname, :\n",
      "“Dropped 2585 units that were already treated in the first period.”\n"
     ]
    },
    {
     "name": "stdout",
     "output_type": "stream",
     "text": [
      "[1] \"SPD\"\n"
     ]
    },
    {
     "name": "stderr",
     "output_type": "stream",
     "text": [
      "Warning message in pre_process_did(yname = yname, tname = tname, idname = idname, :\n",
      "“Dropped 227 units that were already treated in the first period.”\n",
      "Warning message in pre_process_did(yname = yname, tname = tname, idname = idname, :\n",
      "“Dropped 1057 units that were already treated in the first period.”\n",
      "Warning message in pre_process_did(yname = yname, tname = tname, idname = idname, :\n",
      "“Dropped 1838 units that were already treated in the first period.”\n",
      "Warning message in pre_process_did(yname = yname, tname = tname, idname = idname, :\n",
      "“Dropped 2585 units that were already treated in the first period.”\n"
     ]
    },
    {
     "name": "stdout",
     "output_type": "stream",
     "text": [
      "[1] \"FDP\"\n"
     ]
    },
    {
     "name": "stderr",
     "output_type": "stream",
     "text": [
      "Warning message in pre_process_did(yname = yname, tname = tname, idname = idname, :\n",
      "“Dropped 227 units that were already treated in the first period.”\n",
      "Warning message in pre_process_did(yname = yname, tname = tname, idname = idname, :\n",
      "“Dropped 1057 units that were already treated in the first period.”\n",
      "Warning message in pre_process_did(yname = yname, tname = tname, idname = idname, :\n",
      "“Dropped 1838 units that were already treated in the first period.”\n",
      "Warning message in pre_process_did(yname = yname, tname = tname, idname = idname, :\n",
      "“Dropped 2585 units that were already treated in the first period.”\n"
     ]
    },
    {
     "name": "stdout",
     "output_type": "stream",
     "text": [
      "[1] \"Linke\"\n"
     ]
    },
    {
     "name": "stderr",
     "output_type": "stream",
     "text": [
      "Warning message in pre_process_did(yname = yname, tname = tname, idname = idname, :\n",
      "“Dropped 227 units that were already treated in the first period.”\n",
      "Warning message in pre_process_did(yname = yname, tname = tname, idname = idname, :\n",
      "“Dropped 1057 units that were already treated in the first period.”\n",
      "Warning message in pre_process_did(yname = yname, tname = tname, idname = idname, :\n",
      "“Dropped 1838 units that were already treated in the first period.”\n",
      "Warning message in pre_process_did(yname = yname, tname = tname, idname = idname, :\n",
      "“Dropped 2585 units that were already treated in the first period.”\n"
     ]
    },
    {
     "name": "stdout",
     "output_type": "stream",
     "text": [
      "[1] \"Grüne\"\n"
     ]
    },
    {
     "name": "stderr",
     "output_type": "stream",
     "text": [
      "Warning message in pre_process_did(yname = yname, tname = tname, idname = idname, :\n",
      "“Dropped 227 units that were already treated in the first period.”\n",
      "Warning message in pre_process_did(yname = yname, tname = tname, idname = idname, :\n",
      "“Dropped 1057 units that were already treated in the first period.”\n",
      "Warning message in pre_process_did(yname = yname, tname = tname, idname = idname, :\n",
      "“Dropped 1838 units that were already treated in the first period.”\n",
      "Warning message in pre_process_did(yname = yname, tname = tname, idname = idname, :\n",
      "“Dropped 2585 units that were already treated in the first period.”\n"
     ]
    },
    {
     "name": "stdout",
     "output_type": "stream",
     "text": [
      "[1] \"Andere\"\n"
     ]
    }
   ],
   "source": [
    "parties <- c('Union', 'SPD', 'FDP', 'Linke', 'Grüne', 'Andere')\n",
    "treatments <- hash('treatment_0'='Direct Line', 'treatment_15'='Within 15km', 'treatment_30'='Within 30km', 'treatment_50'='Within 50km')\n",
    "keys <- keys(treatments)\n",
    "results  <- list()\n",
    "for(party in parties){\n",
    "  figures  <- list()\n",
    "  for(treatment in keys){\n",
    "    result <- att_gt(yname = party,\n",
    "                  gname = treatment,\n",
    "                  idname = 'AGS',\n",
    "                  panel = TRUE,\n",
    "                  tname = 'year',\n",
    "                  xformla = ~ 1,\n",
    "                  data = ltw,\n",
    "                  est_method = 'dr',\n",
    "                  anticipation = 0,\n",
    "                  control_group = 'nevertreated',\n",
    "                  clustervars = c('AGS'),\n",
    "                  bstrap = TRUE,\n",
    "                  cband = TRUE,\n",
    "                  allow_unbalanced_panel = TRUE,\n",
    "                  \n",
    "    )\n",
    "    att <- aggte(result, type = \"simple\", bstrap = TRUE, clustervars = c('AGS'))\n",
    "\n",
    "    figures[[length(figures)+1]] <- ggdid(result, \n",
    "              ylim = c(floor(min(result$att - result$se * 2.345 - 1)), ceiling(max(result$att + result$se * 2.345 + 1))),\n",
    "              title = (sprintf('%s', treatments[[treatment]])),\n",
    "              ncol = 3, lab_size = 10\n",
    "              ) +\n",
    "              labs(caption = sprintf('Overall ATT (SE): %.3f (%.3f) \\n \n",
    "              P-value for pre-test of parallel trends assumption: %.3f'\n",
    "              , att$overall.att, att$overall.se, result$Wpval)) +\n",
    "              theme(plot.caption = element_text(hjust=0.5))\n",
    "    \n",
    "    results[[length(results)+1]] <- result\n",
    "  }\n",
    "  arranged_fig <- ggarrange(plotlist=figures, nrow = 4, ncol = 1, common.legend = TRUE, legend = 'bottom')\n",
    "  final_fig <- annotate_figure(arranged_fig,\n",
    "                  top = text_grob(sprintf(\"Effect on %s's vote share\", party), face = \"bold\", size = 14),\n",
    "                  bottom = text_grob('Control Group: Never Treated. Estimation Method: Doubly Robust', size = 10),)\n",
    "  ggsave(sprintf('%s_all.png', party), plot = final_fig, path = sprintf('%s/figures/R/LTW/', path), units = 'cm', width = 21, height = 29.7, dpi=\"print\")\n",
    "  print(party)\n",
    "}"
   ]
  },
  {
   "cell_type": "markdown",
   "metadata": {},
   "source": [
    "DiD for LTW no controls by state"
   ]
  },
  {
   "cell_type": "code",
   "execution_count": 36,
   "metadata": {
    "vscode": {
     "languageId": "r"
    }
   },
   "outputs": [
    {
     "name": "stderr",
     "output_type": "stream",
     "text": [
      "Warning message in pre_process_did(yname = yname, tname = tname, idname = idname, :\n",
      "“Dropped 118 units that were already treated in the first period.”\n",
      "Warning message in pre_process_did(yname = yname, tname = tname, idname = idname, :\n",
      "“Be aware that there are some small groups in your dataset.\n",
      "  Check groups: 2010.”\n",
      "Warning message in pre_process_did(yname = yname, tname = tname, idname = idname, :\n",
      "“Dropped 485 units that were already treated in the first period.”\n",
      "Warning message in pre_process_did(yname = yname, tname = tname, idname = idname, :\n",
      "“Dropped 738 units that were already treated in the first period.”\n",
      "Warning message in pre_process_did(yname = yname, tname = tname, idname = idname, :\n",
      "“Dropped 899 units that were already treated in the first period.”\n"
     ]
    },
    {
     "name": "stdout",
     "output_type": "stream",
     "text": [
      "[1] \"Union\"\n"
     ]
    },
    {
     "name": "stderr",
     "output_type": "stream",
     "text": [
      "Warning message in pre_process_did(yname = yname, tname = tname, idname = idname, :\n",
      "“Dropped 118 units that were already treated in the first period.”\n",
      "Warning message in pre_process_did(yname = yname, tname = tname, idname = idname, :\n",
      "“Be aware that there are some small groups in your dataset.\n",
      "  Check groups: 2010.”\n",
      "Warning message in pre_process_did(yname = yname, tname = tname, idname = idname, :\n",
      "“Dropped 485 units that were already treated in the first period.”\n",
      "Warning message in pre_process_did(yname = yname, tname = tname, idname = idname, :\n",
      "“Dropped 738 units that were already treated in the first period.”\n",
      "Warning message in pre_process_did(yname = yname, tname = tname, idname = idname, :\n",
      "“Dropped 899 units that were already treated in the first period.”\n"
     ]
    },
    {
     "name": "stdout",
     "output_type": "stream",
     "text": [
      "[1] \"SPD\"\n"
     ]
    },
    {
     "name": "stderr",
     "output_type": "stream",
     "text": [
      "Warning message in pre_process_did(yname = yname, tname = tname, idname = idname, :\n",
      "“Dropped 118 units that were already treated in the first period.”\n",
      "Warning message in pre_process_did(yname = yname, tname = tname, idname = idname, :\n",
      "“Be aware that there are some small groups in your dataset.\n",
      "  Check groups: 2010.”\n",
      "Warning message in pre_process_did(yname = yname, tname = tname, idname = idname, :\n",
      "“Dropped 485 units that were already treated in the first period.”\n",
      "Warning message in pre_process_did(yname = yname, tname = tname, idname = idname, :\n",
      "“Dropped 738 units that were already treated in the first period.”\n",
      "Warning message in pre_process_did(yname = yname, tname = tname, idname = idname, :\n",
      "“Dropped 899 units that were already treated in the first period.”\n"
     ]
    },
    {
     "name": "stdout",
     "output_type": "stream",
     "text": [
      "[1] \"FDP\"\n"
     ]
    },
    {
     "name": "stderr",
     "output_type": "stream",
     "text": [
      "Warning message in pre_process_did(yname = yname, tname = tname, idname = idname, :\n",
      "“Dropped 118 units that were already treated in the first period.”\n",
      "Warning message in pre_process_did(yname = yname, tname = tname, idname = idname, :\n",
      "“Be aware that there are some small groups in your dataset.\n",
      "  Check groups: 2010.”\n",
      "Warning message in pre_process_did(yname = yname, tname = tname, idname = idname, :\n",
      "“Dropped 485 units that were already treated in the first period.”\n",
      "Warning message in pre_process_did(yname = yname, tname = tname, idname = idname, :\n",
      "“Dropped 738 units that were already treated in the first period.”\n",
      "Warning message in pre_process_did(yname = yname, tname = tname, idname = idname, :\n",
      "“Dropped 899 units that were already treated in the first period.”\n"
     ]
    },
    {
     "name": "stdout",
     "output_type": "stream",
     "text": [
      "[1] \"Linke\"\n"
     ]
    },
    {
     "name": "stderr",
     "output_type": "stream",
     "text": [
      "Warning message in pre_process_did(yname = yname, tname = tname, idname = idname, :\n",
      "“Dropped 118 units that were already treated in the first period.”\n",
      "Warning message in pre_process_did(yname = yname, tname = tname, idname = idname, :\n",
      "“Be aware that there are some small groups in your dataset.\n",
      "  Check groups: 2010.”\n",
      "Warning message in pre_process_did(yname = yname, tname = tname, idname = idname, :\n",
      "“Dropped 485 units that were already treated in the first period.”\n",
      "Warning message in pre_process_did(yname = yname, tname = tname, idname = idname, :\n",
      "“Dropped 738 units that were already treated in the first period.”\n",
      "Warning message in pre_process_did(yname = yname, tname = tname, idname = idname, :\n",
      "“Dropped 899 units that were already treated in the first period.”\n"
     ]
    },
    {
     "name": "stdout",
     "output_type": "stream",
     "text": [
      "[1] \"Grüne\"\n"
     ]
    },
    {
     "name": "stderr",
     "output_type": "stream",
     "text": [
      "Warning message in pre_process_did(yname = yname, tname = tname, idname = idname, :\n",
      "“Dropped 118 units that were already treated in the first period.”\n",
      "Warning message in pre_process_did(yname = yname, tname = tname, idname = idname, :\n",
      "“Be aware that there are some small groups in your dataset.\n",
      "  Check groups: 2010.”\n",
      "Warning message in pre_process_did(yname = yname, tname = tname, idname = idname, :\n",
      "“Dropped 485 units that were already treated in the first period.”\n",
      "Warning message in pre_process_did(yname = yname, tname = tname, idname = idname, :\n",
      "“Dropped 738 units that were already treated in the first period.”\n",
      "Warning message in pre_process_did(yname = yname, tname = tname, idname = idname, :\n",
      "“Dropped 899 units that were already treated in the first period.”\n"
     ]
    },
    {
     "name": "stdout",
     "output_type": "stream",
     "text": [
      "[1] \"Andere\"\n"
     ]
    },
    {
     "name": "stderr",
     "output_type": "stream",
     "text": [
      "Warning message in pre_process_did(yname = yname, tname = tname, idname = idname, :\n",
      "“Dropped 56 units that were already treated in the first period.”\n",
      "Warning message in pre_process_did(yname = yname, tname = tname, idname = idname, :\n",
      "“Dropped 237 units that were already treated in the first period.”\n",
      "Warning message in pre_process_did(yname = yname, tname = tname, idname = idname, :\n",
      "“Dropped 335 units that were already treated in the first period.”\n",
      "Warning message in pre_process_did(yname = yname, tname = tname, idname = idname, :\n",
      "“Dropped 379 units that were already treated in the first period.”\n"
     ]
    },
    {
     "name": "stdout",
     "output_type": "stream",
     "text": [
      "[1] \"Union\"\n"
     ]
    },
    {
     "name": "stderr",
     "output_type": "stream",
     "text": [
      "Warning message in pre_process_did(yname = yname, tname = tname, idname = idname, :\n",
      "“Dropped 56 units that were already treated in the first period.”\n",
      "Warning message in pre_process_did(yname = yname, tname = tname, idname = idname, :\n",
      "“Dropped 237 units that were already treated in the first period.”\n",
      "Warning message in pre_process_did(yname = yname, tname = tname, idname = idname, :\n",
      "“Dropped 335 units that were already treated in the first period.”\n",
      "Warning message in pre_process_did(yname = yname, tname = tname, idname = idname, :\n",
      "“Dropped 379 units that were already treated in the first period.”\n"
     ]
    },
    {
     "name": "stdout",
     "output_type": "stream",
     "text": [
      "[1] \"SPD\"\n"
     ]
    },
    {
     "name": "stderr",
     "output_type": "stream",
     "text": [
      "Warning message in pre_process_did(yname = yname, tname = tname, idname = idname, :\n",
      "“Dropped 56 units that were already treated in the first period.”\n",
      "Warning message in pre_process_did(yname = yname, tname = tname, idname = idname, :\n",
      "“Dropped 237 units that were already treated in the first period.”\n",
      "Warning message in pre_process_did(yname = yname, tname = tname, idname = idname, :\n",
      "“Dropped 335 units that were already treated in the first period.”\n",
      "Warning message in pre_process_did(yname = yname, tname = tname, idname = idname, :\n",
      "“Dropped 379 units that were already treated in the first period.”\n"
     ]
    },
    {
     "name": "stdout",
     "output_type": "stream",
     "text": [
      "[1] \"FDP\"\n"
     ]
    },
    {
     "name": "stderr",
     "output_type": "stream",
     "text": [
      "Warning message in pre_process_did(yname = yname, tname = tname, idname = idname, :\n",
      "“Dropped 56 units that were already treated in the first period.”\n",
      "Warning message in pre_process_did(yname = yname, tname = tname, idname = idname, :\n",
      "“Dropped 237 units that were already treated in the first period.”\n",
      "Warning message in pre_process_did(yname = yname, tname = tname, idname = idname, :\n",
      "“Dropped 335 units that were already treated in the first period.”\n",
      "Warning message in pre_process_did(yname = yname, tname = tname, idname = idname, :\n",
      "“Dropped 379 units that were already treated in the first period.”\n"
     ]
    },
    {
     "name": "stdout",
     "output_type": "stream",
     "text": [
      "[1] \"Linke\"\n"
     ]
    },
    {
     "name": "stderr",
     "output_type": "stream",
     "text": [
      "Warning message in pre_process_did(yname = yname, tname = tname, idname = idname, :\n",
      "“Dropped 56 units that were already treated in the first period.”\n",
      "Warning message in pre_process_did(yname = yname, tname = tname, idname = idname, :\n",
      "“Dropped 237 units that were already treated in the first period.”\n",
      "Warning message in pre_process_did(yname = yname, tname = tname, idname = idname, :\n",
      "“Dropped 335 units that were already treated in the first period.”\n",
      "Warning message in pre_process_did(yname = yname, tname = tname, idname = idname, :\n",
      "“Dropped 379 units that were already treated in the first period.”\n"
     ]
    },
    {
     "name": "stdout",
     "output_type": "stream",
     "text": [
      "[1] \"Grüne\"\n"
     ]
    },
    {
     "name": "stderr",
     "output_type": "stream",
     "text": [
      "Warning message in pre_process_did(yname = yname, tname = tname, idname = idname, :\n",
      "“Dropped 56 units that were already treated in the first period.”\n",
      "Warning message in pre_process_did(yname = yname, tname = tname, idname = idname, :\n",
      "“Dropped 237 units that were already treated in the first period.”\n",
      "Warning message in pre_process_did(yname = yname, tname = tname, idname = idname, :\n",
      "“Dropped 335 units that were already treated in the first period.”\n",
      "Warning message in pre_process_did(yname = yname, tname = tname, idname = idname, :\n",
      "“Dropped 379 units that were already treated in the first period.”\n"
     ]
    },
    {
     "name": "stdout",
     "output_type": "stream",
     "text": [
      "[1] \"Andere\"\n"
     ]
    },
    {
     "name": "stderr",
     "output_type": "stream",
     "text": [
      "Warning message in pre_process_did(yname = yname, tname = tname, idname = idname, :\n",
      "“Dropped 15 units that were already treated in the first period.”\n",
      "Warning message in pre_process_did(yname = yname, tname = tname, idname = idname, :\n",
      "“Dropped 55 units that were already treated in the first period.”\n",
      "Warning message in pre_process_did(yname = yname, tname = tname, idname = idname, :\n",
      "“Dropped 106 units that were already treated in the first period.”\n",
      "Warning message in pre_process_did(yname = yname, tname = tname, idname = idname, :\n",
      "“Dropped 193 units that were already treated in the first period.”\n"
     ]
    },
    {
     "name": "stdout",
     "output_type": "stream",
     "text": [
      "[1] \"Union\"\n"
     ]
    },
    {
     "name": "stderr",
     "output_type": "stream",
     "text": [
      "Warning message in pre_process_did(yname = yname, tname = tname, idname = idname, :\n",
      "“Dropped 15 units that were already treated in the first period.”\n",
      "Warning message in pre_process_did(yname = yname, tname = tname, idname = idname, :\n",
      "“Dropped 55 units that were already treated in the first period.”\n",
      "Warning message in pre_process_did(yname = yname, tname = tname, idname = idname, :\n",
      "“Dropped 106 units that were already treated in the first period.”\n",
      "Warning message in pre_process_did(yname = yname, tname = tname, idname = idname, :\n",
      "“Dropped 193 units that were already treated in the first period.”\n"
     ]
    },
    {
     "name": "stdout",
     "output_type": "stream",
     "text": [
      "[1] \"SPD\"\n"
     ]
    },
    {
     "name": "stderr",
     "output_type": "stream",
     "text": [
      "Warning message in pre_process_did(yname = yname, tname = tname, idname = idname, :\n",
      "“Dropped 15 units that were already treated in the first period.”\n",
      "Warning message in pre_process_did(yname = yname, tname = tname, idname = idname, :\n",
      "“Dropped 55 units that were already treated in the first period.”\n",
      "Warning message in pre_process_did(yname = yname, tname = tname, idname = idname, :\n",
      "“Dropped 106 units that were already treated in the first period.”\n",
      "Warning message in pre_process_did(yname = yname, tname = tname, idname = idname, :\n",
      "“Dropped 193 units that were already treated in the first period.”\n"
     ]
    },
    {
     "name": "stdout",
     "output_type": "stream",
     "text": [
      "[1] \"FDP\"\n"
     ]
    },
    {
     "name": "stderr",
     "output_type": "stream",
     "text": [
      "Warning message in pre_process_did(yname = yname, tname = tname, idname = idname, :\n",
      "“Dropped 15 units that were already treated in the first period.”\n",
      "Warning message in pre_process_did(yname = yname, tname = tname, idname = idname, :\n",
      "“Dropped 55 units that were already treated in the first period.”\n",
      "Warning message in pre_process_did(yname = yname, tname = tname, idname = idname, :\n",
      "“Dropped 106 units that were already treated in the first period.”\n",
      "Warning message in pre_process_did(yname = yname, tname = tname, idname = idname, :\n",
      "“Dropped 193 units that were already treated in the first period.”\n"
     ]
    },
    {
     "name": "stdout",
     "output_type": "stream",
     "text": [
      "[1] \"Linke\"\n"
     ]
    },
    {
     "name": "stderr",
     "output_type": "stream",
     "text": [
      "Warning message in pre_process_did(yname = yname, tname = tname, idname = idname, :\n",
      "“Dropped 15 units that were already treated in the first period.”\n",
      "Warning message in pre_process_did(yname = yname, tname = tname, idname = idname, :\n",
      "“Dropped 55 units that were already treated in the first period.”\n",
      "Warning message in pre_process_did(yname = yname, tname = tname, idname = idname, :\n",
      "“Dropped 106 units that were already treated in the first period.”\n",
      "Warning message in pre_process_did(yname = yname, tname = tname, idname = idname, :\n",
      "“Dropped 193 units that were already treated in the first period.”\n"
     ]
    },
    {
     "name": "stdout",
     "output_type": "stream",
     "text": [
      "[1] \"Grüne\"\n"
     ]
    },
    {
     "name": "stderr",
     "output_type": "stream",
     "text": [
      "Warning message in pre_process_did(yname = yname, tname = tname, idname = idname, :\n",
      "“Dropped 15 units that were already treated in the first period.”\n",
      "Warning message in pre_process_did(yname = yname, tname = tname, idname = idname, :\n",
      "“Dropped 55 units that were already treated in the first period.”\n",
      "Warning message in pre_process_did(yname = yname, tname = tname, idname = idname, :\n",
      "“Dropped 106 units that were already treated in the first period.”\n",
      "Warning message in pre_process_did(yname = yname, tname = tname, idname = idname, :\n",
      "“Dropped 193 units that were already treated in the first period.”\n"
     ]
    },
    {
     "name": "stdout",
     "output_type": "stream",
     "text": [
      "[1] \"Andere\"\n"
     ]
    },
    {
     "name": "stderr",
     "output_type": "stream",
     "text": [
      "Warning message in pre_process_did(yname = yname, tname = tname, idname = idname, :\n",
      "“Dropped 22 units that were already treated in the first period.”\n",
      "Warning message in pre_process_did(yname = yname, tname = tname, idname = idname, :\n",
      "“Dropped 122 units that were already treated in the first period.”\n",
      "Warning message in pre_process_did(yname = yname, tname = tname, idname = idname, :\n",
      "“Dropped 251 units that were already treated in the first period.”\n",
      "Warning message in pre_process_did(yname = yname, tname = tname, idname = idname, :\n",
      "“Dropped 431 units that were already treated in the first period.”\n"
     ]
    },
    {
     "name": "stdout",
     "output_type": "stream",
     "text": [
      "[1] \"Union\"\n"
     ]
    },
    {
     "name": "stderr",
     "output_type": "stream",
     "text": [
      "Warning message in pre_process_did(yname = yname, tname = tname, idname = idname, :\n",
      "“Dropped 22 units that were already treated in the first period.”\n",
      "Warning message in pre_process_did(yname = yname, tname = tname, idname = idname, :\n",
      "“Dropped 122 units that were already treated in the first period.”\n",
      "Warning message in pre_process_did(yname = yname, tname = tname, idname = idname, :\n",
      "“Dropped 251 units that were already treated in the first period.”\n",
      "Warning message in pre_process_did(yname = yname, tname = tname, idname = idname, :\n",
      "“Dropped 431 units that were already treated in the first period.”\n"
     ]
    },
    {
     "name": "stdout",
     "output_type": "stream",
     "text": [
      "[1] \"SPD\"\n"
     ]
    },
    {
     "name": "stderr",
     "output_type": "stream",
     "text": [
      "Warning message in pre_process_did(yname = yname, tname = tname, idname = idname, :\n",
      "“Dropped 22 units that were already treated in the first period.”\n",
      "Warning message in pre_process_did(yname = yname, tname = tname, idname = idname, :\n",
      "“Dropped 122 units that were already treated in the first period.”\n",
      "Warning message in pre_process_did(yname = yname, tname = tname, idname = idname, :\n",
      "“Dropped 251 units that were already treated in the first period.”\n",
      "Warning message in pre_process_did(yname = yname, tname = tname, idname = idname, :\n",
      "“Dropped 431 units that were already treated in the first period.”\n"
     ]
    },
    {
     "name": "stdout",
     "output_type": "stream",
     "text": [
      "[1] \"FDP\"\n"
     ]
    },
    {
     "name": "stderr",
     "output_type": "stream",
     "text": [
      "Warning message in pre_process_did(yname = yname, tname = tname, idname = idname, :\n",
      "“Dropped 22 units that were already treated in the first period.”\n",
      "Warning message in pre_process_did(yname = yname, tname = tname, idname = idname, :\n",
      "“Dropped 122 units that were already treated in the first period.”\n",
      "Warning message in pre_process_did(yname = yname, tname = tname, idname = idname, :\n",
      "“Dropped 251 units that were already treated in the first period.”\n",
      "Warning message in pre_process_did(yname = yname, tname = tname, idname = idname, :\n",
      "“Dropped 431 units that were already treated in the first period.”\n"
     ]
    },
    {
     "name": "stdout",
     "output_type": "stream",
     "text": [
      "[1] \"Linke\"\n"
     ]
    },
    {
     "name": "stderr",
     "output_type": "stream",
     "text": [
      "Warning message in pre_process_did(yname = yname, tname = tname, idname = idname, :\n",
      "“Dropped 22 units that were already treated in the first period.”\n",
      "Warning message in pre_process_did(yname = yname, tname = tname, idname = idname, :\n",
      "“Dropped 122 units that were already treated in the first period.”\n",
      "Warning message in pre_process_did(yname = yname, tname = tname, idname = idname, :\n",
      "“Dropped 251 units that were already treated in the first period.”\n",
      "Warning message in pre_process_did(yname = yname, tname = tname, idname = idname, :\n",
      "“Dropped 431 units that were already treated in the first period.”\n"
     ]
    },
    {
     "name": "stdout",
     "output_type": "stream",
     "text": [
      "[1] \"Grüne\"\n"
     ]
    },
    {
     "name": "stderr",
     "output_type": "stream",
     "text": [
      "Warning message in pre_process_did(yname = yname, tname = tname, idname = idname, :\n",
      "“Dropped 22 units that were already treated in the first period.”\n",
      "Warning message in pre_process_did(yname = yname, tname = tname, idname = idname, :\n",
      "“Dropped 122 units that were already treated in the first period.”\n",
      "Warning message in pre_process_did(yname = yname, tname = tname, idname = idname, :\n",
      "“Dropped 251 units that were already treated in the first period.”\n",
      "Warning message in pre_process_did(yname = yname, tname = tname, idname = idname, :\n",
      "“Dropped 431 units that were already treated in the first period.”\n"
     ]
    },
    {
     "name": "stdout",
     "output_type": "stream",
     "text": [
      "[1] \"Andere\"\n"
     ]
    },
    {
     "name": "stderr",
     "output_type": "stream",
     "text": [
      "Warning message in pre_process_did(yname = yname, tname = tname, idname = idname, :\n",
      "“Dropped 44 units that were already treated in the first period.”\n",
      "No pre-treatment periods to test\n",
      "\n",
      "Warning message in pre_process_did(yname = yname, tname = tname, idname = idname, :\n",
      "“Dropped 278 units that were already treated in the first period.”\n",
      "No pre-treatment periods to test\n",
      "\n",
      "Warning message in pre_process_did(yname = yname, tname = tname, idname = idname, :\n",
      "“Dropped 530 units that were already treated in the first period.”\n",
      "No pre-treatment periods to test\n",
      "\n",
      "Warning message in pre_process_did(yname = yname, tname = tname, idname = idname, :\n",
      "“Dropped 754 units that were already treated in the first period.”\n",
      "No pre-treatment periods to test\n",
      "\n"
     ]
    },
    {
     "name": "stdout",
     "output_type": "stream",
     "text": [
      "[1] \"Union\"\n"
     ]
    },
    {
     "name": "stderr",
     "output_type": "stream",
     "text": [
      "Warning message in pre_process_did(yname = yname, tname = tname, idname = idname, :\n",
      "“Dropped 44 units that were already treated in the first period.”\n",
      "No pre-treatment periods to test\n",
      "\n",
      "Warning message in pre_process_did(yname = yname, tname = tname, idname = idname, :\n",
      "“Dropped 278 units that were already treated in the first period.”\n",
      "No pre-treatment periods to test\n",
      "\n",
      "Warning message in pre_process_did(yname = yname, tname = tname, idname = idname, :\n",
      "“Dropped 530 units that were already treated in the first period.”\n",
      "No pre-treatment periods to test\n",
      "\n",
      "Warning message in pre_process_did(yname = yname, tname = tname, idname = idname, :\n",
      "“Dropped 754 units that were already treated in the first period.”\n",
      "No pre-treatment periods to test\n",
      "\n"
     ]
    },
    {
     "name": "stdout",
     "output_type": "stream",
     "text": [
      "[1] \"SPD\"\n"
     ]
    },
    {
     "name": "stderr",
     "output_type": "stream",
     "text": [
      "Warning message in pre_process_did(yname = yname, tname = tname, idname = idname, :\n",
      "“Dropped 44 units that were already treated in the first period.”\n",
      "No pre-treatment periods to test\n",
      "\n",
      "Warning message in pre_process_did(yname = yname, tname = tname, idname = idname, :\n",
      "“Dropped 278 units that were already treated in the first period.”\n",
      "No pre-treatment periods to test\n",
      "\n",
      "Warning message in pre_process_did(yname = yname, tname = tname, idname = idname, :\n",
      "“Dropped 530 units that were already treated in the first period.”\n",
      "No pre-treatment periods to test\n",
      "\n",
      "Warning message in pre_process_did(yname = yname, tname = tname, idname = idname, :\n",
      "“Dropped 754 units that were already treated in the first period.”\n",
      "No pre-treatment periods to test\n",
      "\n"
     ]
    },
    {
     "name": "stdout",
     "output_type": "stream",
     "text": [
      "[1] \"FDP\"\n"
     ]
    },
    {
     "name": "stderr",
     "output_type": "stream",
     "text": [
      "Warning message in pre_process_did(yname = yname, tname = tname, idname = idname, :\n",
      "“Dropped 44 units that were already treated in the first period.”\n",
      "No pre-treatment periods to test\n",
      "\n",
      "Warning message in pre_process_did(yname = yname, tname = tname, idname = idname, :\n",
      "“Dropped 278 units that were already treated in the first period.”\n",
      "No pre-treatment periods to test\n",
      "\n",
      "Warning message in pre_process_did(yname = yname, tname = tname, idname = idname, :\n",
      "“Dropped 530 units that were already treated in the first period.”\n",
      "No pre-treatment periods to test\n",
      "\n",
      "Warning message in pre_process_did(yname = yname, tname = tname, idname = idname, :\n",
      "“Dropped 754 units that were already treated in the first period.”\n",
      "No pre-treatment periods to test\n",
      "\n"
     ]
    },
    {
     "name": "stdout",
     "output_type": "stream",
     "text": [
      "[1] \"Linke\"\n"
     ]
    },
    {
     "name": "stderr",
     "output_type": "stream",
     "text": [
      "Warning message in pre_process_did(yname = yname, tname = tname, idname = idname, :\n",
      "“Dropped 44 units that were already treated in the first period.”\n",
      "No pre-treatment periods to test\n",
      "\n",
      "Warning message in pre_process_did(yname = yname, tname = tname, idname = idname, :\n",
      "“Dropped 278 units that were already treated in the first period.”\n",
      "No pre-treatment periods to test\n",
      "\n",
      "Warning message in pre_process_did(yname = yname, tname = tname, idname = idname, :\n",
      "“Dropped 530 units that were already treated in the first period.”\n",
      "No pre-treatment periods to test\n",
      "\n",
      "Warning message in pre_process_did(yname = yname, tname = tname, idname = idname, :\n",
      "“Dropped 754 units that were already treated in the first period.”\n",
      "No pre-treatment periods to test\n",
      "\n"
     ]
    },
    {
     "name": "stdout",
     "output_type": "stream",
     "text": [
      "[1] \"Grüne\"\n"
     ]
    },
    {
     "name": "stderr",
     "output_type": "stream",
     "text": [
      "Warning message in pre_process_did(yname = yname, tname = tname, idname = idname, :\n",
      "“Dropped 44 units that were already treated in the first period.”\n",
      "No pre-treatment periods to test\n",
      "\n",
      "Warning message in pre_process_did(yname = yname, tname = tname, idname = idname, :\n",
      "“Dropped 278 units that were already treated in the first period.”\n",
      "No pre-treatment periods to test\n",
      "\n",
      "Warning message in pre_process_did(yname = yname, tname = tname, idname = idname, :\n",
      "“Dropped 530 units that were already treated in the first period.”\n",
      "No pre-treatment periods to test\n",
      "\n",
      "Warning message in pre_process_did(yname = yname, tname = tname, idname = idname, :\n",
      "“Dropped 754 units that were already treated in the first period.”\n",
      "No pre-treatment periods to test\n",
      "\n"
     ]
    },
    {
     "name": "stdout",
     "output_type": "stream",
     "text": [
      "[1] \"Andere\"\n"
     ]
    }
   ],
   "source": [
    "parties <- c('Union', 'SPD', 'FDP', 'Linke', 'Grüne', 'Andere')\n",
    "treatments <- hash('treatment_0'='Direct Line', 'treatment_15'='Within 15km', 'treatment_30'='Within 30km', 'treatment_50'='Within 50km')\n",
    "states <- c('NI', 'NW', 'HE', 'BY', 'TH')\n",
    "keys <- keys(treatments)\n",
    "results  <- list()\n",
    "for (state in states){\n",
    "  for(party in parties){\n",
    "    figures  <- list()\n",
    "    reg_data <- subset(ltw, Land == state)\n",
    "    for(treatment in keys){\n",
    "      result <- att_gt(yname = party,\n",
    "                    gname = treatment,\n",
    "                    idname = 'AGS',\n",
    "                    panel = TRUE,\n",
    "                    tname = 'year',\n",
    "                    xformla = ~ 1,\n",
    "                    data = reg_data,\n",
    "                    est_method = 'dr',\n",
    "                    anticipation = 0,\n",
    "                    control_group = 'nevertreated',\n",
    "                    clustervars = c('AGS'),\n",
    "                    bstrap = TRUE,\n",
    "                    cband = TRUE,\n",
    "                    allow_unbalanced_panel = TRUE,\n",
    "                    \n",
    "      )\n",
    "      att <- aggte(result, type = \"simple\", bstrap = TRUE, clustervars = c('AGS'))\n",
    "\n",
    "      figures[[length(figures)+1]] <- ggdid(result, \n",
    "                ylim = c(floor(min(result$att - result$se * 2.345 - 1)), ceiling(max(result$att + result$se * 2.345 + 1))),\n",
    "                title = (sprintf('%s', treatments[[treatment]])),\n",
    "                ncol = 3, lab_size = 10\n",
    "                ) +\n",
    "                labs(caption = sprintf('Overall ATT (SE): %.3f (%.3f) \\n \n",
    "                P-value for pre-test of parallel trends assumption: %.3f'\n",
    "                , att$overall.att, att$overall.se, result$Wpval)) +\n",
    "                theme(plot.caption = element_text(hjust=0.5))\n",
    "      \n",
    "      results[[length(results)+1]] <- result\n",
    "    }\n",
    "    arranged_fig <- ggarrange(plotlist=figures, nrow = 4, ncol = 1, common.legend = TRUE, legend = 'bottom')\n",
    "    final_fig <- annotate_figure(arranged_fig,\n",
    "                    top = text_grob(sprintf(\"Effect on %s's vote share\", party), face = \"bold\", size = 14),\n",
    "                    bottom = text_grob('Control Group: Never Treated. Estimation Method: Doubly Robust', size = 10),)\n",
    "    ggsave(sprintf('%s_%s.png', state, party), plot = final_fig, path = sprintf('%s/figures/R/LTW/', path), units = 'cm', width = 21, height = 29.7, dpi=\"print\")\n",
    "    print(party)\n",
    "  }\n",
    "}"
   ]
  },
  {
   "cell_type": "markdown",
   "metadata": {},
   "source": [
    "DiD for LTW controls by state"
   ]
  },
  {
   "cell_type": "code",
   "execution_count": 82,
   "metadata": {
    "vscode": {
     "languageId": "r"
    }
   },
   "outputs": [],
   "source": [
    "ltw_c <- import(sprintf(\"%s/data/ltw_control.csv\", path))"
   ]
  },
  {
   "cell_type": "code",
   "execution_count": 65,
   "metadata": {
    "vscode": {
     "languageId": "r"
    }
   },
   "outputs": [
    {
     "data": {
      "text/html": [
       "<style>\n",
       ".list-inline {list-style: none; margin:0; padding: 0}\n",
       ".list-inline>li {display: inline-block}\n",
       ".list-inline>li:not(:last-child)::after {content: \"\\00b7\"; padding: 0 .5ex}\n",
       "</style>\n",
       "<ol class=list-inline><li>'AGS'</li><li>'GEN'</li><li>'year'</li><li>'Land'</li><li>'state_ID'</li><li>'Kreis'</li><li>'post_2010'</li><li>'post_2014'</li><li>'Union'</li><li>'SPD'</li><li>'Grüne'</li><li>'FDP'</li><li>'Linke'</li><li>'Andere'</li><li>'treatment_05'</li><li>'treatment_09'</li><li>'treatment_13'</li><li>'treatment_0'</li><li>'treatment_15'</li><li>'treatment_30'</li><li>'treatment_50'</li><li>'ever_treated'</li><li>'never_treated'</li><li>'pop_density'</li><li>'unemployed'</li><li>'foreign'</li><li>'catholic'</li><li>'avg_age'</li><li>'female'</li><li>'income_pc'</li></ol>\n"
      ],
      "text/latex": [
       "\\begin{enumerate*}\n",
       "\\item 'AGS'\n",
       "\\item 'GEN'\n",
       "\\item 'year'\n",
       "\\item 'Land'\n",
       "\\item 'state\\_ID'\n",
       "\\item 'Kreis'\n",
       "\\item 'post\\_2010'\n",
       "\\item 'post\\_2014'\n",
       "\\item 'Union'\n",
       "\\item 'SPD'\n",
       "\\item 'Grüne'\n",
       "\\item 'FDP'\n",
       "\\item 'Linke'\n",
       "\\item 'Andere'\n",
       "\\item 'treatment\\_05'\n",
       "\\item 'treatment\\_09'\n",
       "\\item 'treatment\\_13'\n",
       "\\item 'treatment\\_0'\n",
       "\\item 'treatment\\_15'\n",
       "\\item 'treatment\\_30'\n",
       "\\item 'treatment\\_50'\n",
       "\\item 'ever\\_treated'\n",
       "\\item 'never\\_treated'\n",
       "\\item 'pop\\_density'\n",
       "\\item 'unemployed'\n",
       "\\item 'foreign'\n",
       "\\item 'catholic'\n",
       "\\item 'avg\\_age'\n",
       "\\item 'female'\n",
       "\\item 'income\\_pc'\n",
       "\\end{enumerate*}\n"
      ],
      "text/markdown": [
       "1. 'AGS'\n",
       "2. 'GEN'\n",
       "3. 'year'\n",
       "4. 'Land'\n",
       "5. 'state_ID'\n",
       "6. 'Kreis'\n",
       "7. 'post_2010'\n",
       "8. 'post_2014'\n",
       "9. 'Union'\n",
       "10. 'SPD'\n",
       "11. 'Grüne'\n",
       "12. 'FDP'\n",
       "13. 'Linke'\n",
       "14. 'Andere'\n",
       "15. 'treatment_05'\n",
       "16. 'treatment_09'\n",
       "17. 'treatment_13'\n",
       "18. 'treatment_0'\n",
       "19. 'treatment_15'\n",
       "20. 'treatment_30'\n",
       "21. 'treatment_50'\n",
       "22. 'ever_treated'\n",
       "23. 'never_treated'\n",
       "24. 'pop_density'\n",
       "25. 'unemployed'\n",
       "26. 'foreign'\n",
       "27. 'catholic'\n",
       "28. 'avg_age'\n",
       "29. 'female'\n",
       "30. 'income_pc'\n",
       "\n",
       "\n"
      ],
      "text/plain": [
       " [1] \"AGS\"           \"GEN\"           \"year\"          \"Land\"         \n",
       " [5] \"state_ID\"      \"Kreis\"         \"post_2010\"     \"post_2014\"    \n",
       " [9] \"Union\"         \"SPD\"           \"Grüne\"         \"FDP\"          \n",
       "[13] \"Linke\"         \"Andere\"        \"treatment_05\"  \"treatment_09\" \n",
       "[17] \"treatment_13\"  \"treatment_0\"   \"treatment_15\"  \"treatment_30\" \n",
       "[21] \"treatment_50\"  \"ever_treated\"  \"never_treated\" \"pop_density\"  \n",
       "[25] \"unemployed\"    \"foreign\"       \"catholic\"      \"avg_age\"      \n",
       "[29] \"female\"        \"income_pc\"    "
      ]
     },
     "metadata": {},
     "output_type": "display_data"
    }
   ],
   "source": [
    "colnames(ltw_c)"
   ]
  },
  {
   "cell_type": "code",
   "execution_count": 84,
   "metadata": {
    "vscode": {
     "languageId": "r"
    }
   },
   "outputs": [
    {
     "name": "stderr",
     "output_type": "stream",
     "text": [
      "Warning message in pre_process_did(yname = yname, tname = tname, idname = idname, :\n",
      "“Dropped 22 units that were already treated in the first period.”\n",
      "Warning message in pre_process_did(yname = yname, tname = tname, idname = idname, :\n",
      "“Be aware that there are some small groups in your dataset.\n",
      "  Check groups: 2010.”\n",
      "Warning message in pre_process_did(yname = yname, tname = tname, idname = idname, :\n",
      "“Dropped 122 units that were already treated in the first period.”\n",
      "Warning message in pre_process_did(yname = yname, tname = tname, idname = idname, :\n",
      "“Dropped 251 units that were already treated in the first period.”\n",
      "Warning message in pre_process_did(yname = yname, tname = tname, idname = idname, :\n",
      "“Dropped 431 units that were already treated in the first period.”\n"
     ]
    },
    {
     "name": "stdout",
     "output_type": "stream",
     "text": [
      "[1] \"Union\"\n"
     ]
    },
    {
     "name": "stderr",
     "output_type": "stream",
     "text": [
      "Warning message in pre_process_did(yname = yname, tname = tname, idname = idname, :\n",
      "“Dropped 22 units that were already treated in the first period.”\n",
      "Warning message in pre_process_did(yname = yname, tname = tname, idname = idname, :\n",
      "“Be aware that there are some small groups in your dataset.\n",
      "  Check groups: 2010.”\n",
      "Warning message in pre_process_did(yname = yname, tname = tname, idname = idname, :\n",
      "“Dropped 122 units that were already treated in the first period.”\n",
      "Warning message in pre_process_did(yname = yname, tname = tname, idname = idname, :\n",
      "“Dropped 251 units that were already treated in the first period.”\n",
      "Warning message in pre_process_did(yname = yname, tname = tname, idname = idname, :\n",
      "“Dropped 431 units that were already treated in the first period.”\n"
     ]
    },
    {
     "name": "stdout",
     "output_type": "stream",
     "text": [
      "[1] \"SPD\"\n"
     ]
    },
    {
     "name": "stderr",
     "output_type": "stream",
     "text": [
      "Warning message in pre_process_did(yname = yname, tname = tname, idname = idname, :\n",
      "“Dropped 22 units that were already treated in the first period.”\n",
      "Warning message in pre_process_did(yname = yname, tname = tname, idname = idname, :\n",
      "“Be aware that there are some small groups in your dataset.\n",
      "  Check groups: 2010.”\n",
      "Warning message in pre_process_did(yname = yname, tname = tname, idname = idname, :\n",
      "“Dropped 122 units that were already treated in the first period.”\n",
      "Warning message in pre_process_did(yname = yname, tname = tname, idname = idname, :\n",
      "“Dropped 251 units that were already treated in the first period.”\n",
      "Warning message in pre_process_did(yname = yname, tname = tname, idname = idname, :\n",
      "“Dropped 431 units that were already treated in the first period.”\n"
     ]
    },
    {
     "name": "stdout",
     "output_type": "stream",
     "text": [
      "[1] \"FDP\"\n"
     ]
    },
    {
     "name": "stderr",
     "output_type": "stream",
     "text": [
      "Warning message in pre_process_did(yname = yname, tname = tname, idname = idname, :\n",
      "“Dropped 22 units that were already treated in the first period.”\n",
      "Warning message in pre_process_did(yname = yname, tname = tname, idname = idname, :\n",
      "“Be aware that there are some small groups in your dataset.\n",
      "  Check groups: 2010.”\n",
      "Warning message in pre_process_did(yname = yname, tname = tname, idname = idname, :\n",
      "“Dropped 122 units that were already treated in the first period.”\n",
      "Warning message in pre_process_did(yname = yname, tname = tname, idname = idname, :\n",
      "“Dropped 251 units that were already treated in the first period.”\n",
      "Warning message in pre_process_did(yname = yname, tname = tname, idname = idname, :\n",
      "“Dropped 431 units that were already treated in the first period.”\n"
     ]
    },
    {
     "name": "stdout",
     "output_type": "stream",
     "text": [
      "[1] \"Linke\"\n"
     ]
    },
    {
     "name": "stderr",
     "output_type": "stream",
     "text": [
      "Warning message in pre_process_did(yname = yname, tname = tname, idname = idname, :\n",
      "“Dropped 22 units that were already treated in the first period.”\n",
      "Warning message in pre_process_did(yname = yname, tname = tname, idname = idname, :\n",
      "“Be aware that there are some small groups in your dataset.\n",
      "  Check groups: 2010.”\n",
      "Warning message in pre_process_did(yname = yname, tname = tname, idname = idname, :\n",
      "“Dropped 122 units that were already treated in the first period.”\n",
      "Warning message in pre_process_did(yname = yname, tname = tname, idname = idname, :\n",
      "“Dropped 251 units that were already treated in the first period.”\n",
      "Warning message in pre_process_did(yname = yname, tname = tname, idname = idname, :\n",
      "“Dropped 431 units that were already treated in the first period.”\n"
     ]
    },
    {
     "name": "stdout",
     "output_type": "stream",
     "text": [
      "[1] \"Grüne\"\n"
     ]
    },
    {
     "name": "stderr",
     "output_type": "stream",
     "text": [
      "Warning message in pre_process_did(yname = yname, tname = tname, idname = idname, :\n",
      "“Dropped 22 units that were already treated in the first period.”\n",
      "Warning message in pre_process_did(yname = yname, tname = tname, idname = idname, :\n",
      "“Be aware that there are some small groups in your dataset.\n",
      "  Check groups: 2010.”\n",
      "Warning message in pre_process_did(yname = yname, tname = tname, idname = idname, :\n",
      "“Dropped 122 units that were already treated in the first period.”\n",
      "Warning message in pre_process_did(yname = yname, tname = tname, idname = idname, :\n",
      "“Dropped 251 units that were already treated in the first period.”\n",
      "Warning message in pre_process_did(yname = yname, tname = tname, idname = idname, :\n",
      "“Dropped 431 units that were already treated in the first period.”\n"
     ]
    },
    {
     "name": "stdout",
     "output_type": "stream",
     "text": [
      "[1] \"Andere\"\n"
     ]
    },
    {
     "name": "stderr",
     "output_type": "stream",
     "text": [
      "Warning message in pre_process_did(yname = yname, tname = tname, idname = idname, :\n",
      "“Dropped 15 units that were already treated in the first period.”\n",
      "Warning message in pre_process_did(yname = yname, tname = tname, idname = idname, :\n",
      "“Be aware that there are some small groups in your dataset.\n",
      "  Check groups: 2010.”\n",
      "Warning message in pre_process_did(yname = yname, tname = tname, idname = idname, :\n",
      "“Dropped 55 units that were already treated in the first period.”\n",
      "Warning message in pre_process_did(yname = yname, tname = tname, idname = idname, :\n",
      "“Dropped 106 units that were already treated in the first period.”\n",
      "Warning message in pre_process_did(yname = yname, tname = tname, idname = idname, :\n",
      "“Dropped 193 units that were already treated in the first period.”\n"
     ]
    },
    {
     "name": "stdout",
     "output_type": "stream",
     "text": [
      "[1] \"Union\"\n"
     ]
    },
    {
     "name": "stderr",
     "output_type": "stream",
     "text": [
      "Warning message in pre_process_did(yname = yname, tname = tname, idname = idname, :\n",
      "“Dropped 15 units that were already treated in the first period.”\n",
      "Warning message in pre_process_did(yname = yname, tname = tname, idname = idname, :\n",
      "“Be aware that there are some small groups in your dataset.\n",
      "  Check groups: 2010.”\n",
      "Warning message in pre_process_did(yname = yname, tname = tname, idname = idname, :\n",
      "“Dropped 55 units that were already treated in the first period.”\n",
      "Warning message in pre_process_did(yname = yname, tname = tname, idname = idname, :\n",
      "“Dropped 106 units that were already treated in the first period.”\n",
      "Warning message in pre_process_did(yname = yname, tname = tname, idname = idname, :\n",
      "“Dropped 193 units that were already treated in the first period.”\n"
     ]
    },
    {
     "name": "stdout",
     "output_type": "stream",
     "text": [
      "[1] \"SPD\"\n"
     ]
    },
    {
     "name": "stderr",
     "output_type": "stream",
     "text": [
      "Warning message in pre_process_did(yname = yname, tname = tname, idname = idname, :\n",
      "“Dropped 15 units that were already treated in the first period.”\n",
      "Warning message in pre_process_did(yname = yname, tname = tname, idname = idname, :\n",
      "“Be aware that there are some small groups in your dataset.\n",
      "  Check groups: 2010.”\n",
      "Warning message in pre_process_did(yname = yname, tname = tname, idname = idname, :\n",
      "“Dropped 55 units that were already treated in the first period.”\n",
      "Warning message in pre_process_did(yname = yname, tname = tname, idname = idname, :\n",
      "“Dropped 106 units that were already treated in the first period.”\n",
      "Warning message in pre_process_did(yname = yname, tname = tname, idname = idname, :\n",
      "“Dropped 193 units that were already treated in the first period.”\n"
     ]
    },
    {
     "name": "stdout",
     "output_type": "stream",
     "text": [
      "[1] \"FDP\"\n"
     ]
    },
    {
     "name": "stderr",
     "output_type": "stream",
     "text": [
      "Warning message in pre_process_did(yname = yname, tname = tname, idname = idname, :\n",
      "“Dropped 15 units that were already treated in the first period.”\n",
      "Warning message in pre_process_did(yname = yname, tname = tname, idname = idname, :\n",
      "“Be aware that there are some small groups in your dataset.\n",
      "  Check groups: 2010.”\n",
      "Warning message in pre_process_did(yname = yname, tname = tname, idname = idname, :\n",
      "“Dropped 55 units that were already treated in the first period.”\n",
      "Warning message in pre_process_did(yname = yname, tname = tname, idname = idname, :\n",
      "“Dropped 106 units that were already treated in the first period.”\n",
      "Warning message in pre_process_did(yname = yname, tname = tname, idname = idname, :\n",
      "“Dropped 193 units that were already treated in the first period.”\n"
     ]
    },
    {
     "name": "stdout",
     "output_type": "stream",
     "text": [
      "[1] \"Linke\"\n"
     ]
    },
    {
     "name": "stderr",
     "output_type": "stream",
     "text": [
      "Warning message in pre_process_did(yname = yname, tname = tname, idname = idname, :\n",
      "“Dropped 15 units that were already treated in the first period.”\n",
      "Warning message in pre_process_did(yname = yname, tname = tname, idname = idname, :\n",
      "“Be aware that there are some small groups in your dataset.\n",
      "  Check groups: 2010.”\n",
      "Warning message in pre_process_did(yname = yname, tname = tname, idname = idname, :\n",
      "“Dropped 55 units that were already treated in the first period.”\n",
      "Warning message in pre_process_did(yname = yname, tname = tname, idname = idname, :\n",
      "“Dropped 106 units that were already treated in the first period.”\n",
      "Warning message in pre_process_did(yname = yname, tname = tname, idname = idname, :\n",
      "“Dropped 193 units that were already treated in the first period.”\n"
     ]
    },
    {
     "name": "stdout",
     "output_type": "stream",
     "text": [
      "[1] \"Grüne\"\n"
     ]
    },
    {
     "name": "stderr",
     "output_type": "stream",
     "text": [
      "Warning message in pre_process_did(yname = yname, tname = tname, idname = idname, :\n",
      "“Dropped 15 units that were already treated in the first period.”\n",
      "Warning message in pre_process_did(yname = yname, tname = tname, idname = idname, :\n",
      "“Be aware that there are some small groups in your dataset.\n",
      "  Check groups: 2010.”\n",
      "Warning message in pre_process_did(yname = yname, tname = tname, idname = idname, :\n",
      "“Dropped 55 units that were already treated in the first period.”\n",
      "Warning message in pre_process_did(yname = yname, tname = tname, idname = idname, :\n",
      "“Dropped 106 units that were already treated in the first period.”\n",
      "Warning message in pre_process_did(yname = yname, tname = tname, idname = idname, :\n",
      "“Dropped 193 units that were already treated in the first period.”\n"
     ]
    },
    {
     "name": "stdout",
     "output_type": "stream",
     "text": [
      "[1] \"Andere\"\n"
     ]
    },
    {
     "name": "stderr",
     "output_type": "stream",
     "text": [
      "Warning message in pre_process_did(yname = yname, tname = tname, idname = idname, :\n",
      "“Dropped 118 units that were already treated in the first period.”\n",
      "Warning message in pre_process_did(yname = yname, tname = tname, idname = idname, :\n",
      "“Be aware that there are some small groups in your dataset.\n",
      "  Check groups: 2010.”\n",
      "Warning message in pre_process_did(yname = yname, tname = tname, idname = idname, :\n",
      "“Dropped 485 units that were already treated in the first period.”\n",
      "Warning message in pre_process_did(yname = yname, tname = tname, idname = idname, :\n",
      "“Dropped 738 units that were already treated in the first period.”\n",
      "Warning message in pre_process_did(yname = yname, tname = tname, idname = idname, :\n",
      "“Dropped 899 units that were already treated in the first period.”\n"
     ]
    },
    {
     "name": "stdout",
     "output_type": "stream",
     "text": [
      "[1] \"Union\"\n"
     ]
    },
    {
     "name": "stderr",
     "output_type": "stream",
     "text": [
      "Warning message in pre_process_did(yname = yname, tname = tname, idname = idname, :\n",
      "“Dropped 118 units that were already treated in the first period.”\n",
      "Warning message in pre_process_did(yname = yname, tname = tname, idname = idname, :\n",
      "“Be aware that there are some small groups in your dataset.\n",
      "  Check groups: 2010.”\n",
      "Warning message in pre_process_did(yname = yname, tname = tname, idname = idname, :\n",
      "“Dropped 485 units that were already treated in the first period.”\n",
      "Warning message in pre_process_did(yname = yname, tname = tname, idname = idname, :\n",
      "“Dropped 738 units that were already treated in the first period.”\n",
      "Warning message in pre_process_did(yname = yname, tname = tname, idname = idname, :\n",
      "“Dropped 899 units that were already treated in the first period.”\n"
     ]
    },
    {
     "name": "stdout",
     "output_type": "stream",
     "text": [
      "[1] \"SPD\"\n"
     ]
    },
    {
     "name": "stderr",
     "output_type": "stream",
     "text": [
      "Warning message in pre_process_did(yname = yname, tname = tname, idname = idname, :\n",
      "“Dropped 118 units that were already treated in the first period.”\n",
      "Warning message in pre_process_did(yname = yname, tname = tname, idname = idname, :\n",
      "“Be aware that there are some small groups in your dataset.\n",
      "  Check groups: 2010.”\n",
      "Warning message in pre_process_did(yname = yname, tname = tname, idname = idname, :\n",
      "“Dropped 485 units that were already treated in the first period.”\n",
      "Warning message in pre_process_did(yname = yname, tname = tname, idname = idname, :\n",
      "“Dropped 738 units that were already treated in the first period.”\n",
      "Warning message in pre_process_did(yname = yname, tname = tname, idname = idname, :\n",
      "“Dropped 899 units that were already treated in the first period.”\n"
     ]
    },
    {
     "name": "stdout",
     "output_type": "stream",
     "text": [
      "[1] \"FDP\"\n"
     ]
    },
    {
     "name": "stderr",
     "output_type": "stream",
     "text": [
      "Warning message in pre_process_did(yname = yname, tname = tname, idname = idname, :\n",
      "“Dropped 118 units that were already treated in the first period.”\n",
      "Warning message in pre_process_did(yname = yname, tname = tname, idname = idname, :\n",
      "“Be aware that there are some small groups in your dataset.\n",
      "  Check groups: 2010.”\n",
      "Warning message in pre_process_did(yname = yname, tname = tname, idname = idname, :\n",
      "“Dropped 485 units that were already treated in the first period.”\n",
      "Warning message in pre_process_did(yname = yname, tname = tname, idname = idname, :\n",
      "“Dropped 738 units that were already treated in the first period.”\n",
      "Warning message in pre_process_did(yname = yname, tname = tname, idname = idname, :\n",
      "“Dropped 899 units that were already treated in the first period.”\n"
     ]
    },
    {
     "name": "stdout",
     "output_type": "stream",
     "text": [
      "[1] \"Linke\"\n"
     ]
    },
    {
     "name": "stderr",
     "output_type": "stream",
     "text": [
      "Warning message in pre_process_did(yname = yname, tname = tname, idname = idname, :\n",
      "“Dropped 118 units that were already treated in the first period.”\n",
      "Warning message in pre_process_did(yname = yname, tname = tname, idname = idname, :\n",
      "“Be aware that there are some small groups in your dataset.\n",
      "  Check groups: 2010.”\n",
      "Warning message in pre_process_did(yname = yname, tname = tname, idname = idname, :\n",
      "“Dropped 485 units that were already treated in the first period.”\n",
      "Warning message in pre_process_did(yname = yname, tname = tname, idname = idname, :\n",
      "“Dropped 738 units that were already treated in the first period.”\n",
      "Warning message in pre_process_did(yname = yname, tname = tname, idname = idname, :\n",
      "“Dropped 899 units that were already treated in the first period.”\n"
     ]
    },
    {
     "name": "stdout",
     "output_type": "stream",
     "text": [
      "[1] \"Grüne\"\n"
     ]
    },
    {
     "name": "stderr",
     "output_type": "stream",
     "text": [
      "Warning message in pre_process_did(yname = yname, tname = tname, idname = idname, :\n",
      "“Dropped 118 units that were already treated in the first period.”\n",
      "Warning message in pre_process_did(yname = yname, tname = tname, idname = idname, :\n",
      "“Be aware that there are some small groups in your dataset.\n",
      "  Check groups: 2010.”\n",
      "Warning message in pre_process_did(yname = yname, tname = tname, idname = idname, :\n",
      "“Dropped 485 units that were already treated in the first period.”\n",
      "Warning message in pre_process_did(yname = yname, tname = tname, idname = idname, :\n",
      "“Dropped 738 units that were already treated in the first period.”\n",
      "Warning message in pre_process_did(yname = yname, tname = tname, idname = idname, :\n",
      "“Dropped 899 units that were already treated in the first period.”\n"
     ]
    },
    {
     "name": "stdout",
     "output_type": "stream",
     "text": [
      "[1] \"Andere\"\n"
     ]
    },
    {
     "name": "stderr",
     "output_type": "stream",
     "text": [
      "Warning message in pre_process_did(yname = yname, tname = tname, idname = idname, :\n",
      "“Dropped 56 units that were already treated in the first period.”\n",
      "Warning message in pre_process_did(yname = yname, tname = tname, idname = idname, :\n",
      "“Dropped 237 units that were already treated in the first period.”\n",
      "Warning message in pre_process_did(yname = yname, tname = tname, idname = idname, :\n",
      "“Dropped 335 units that were already treated in the first period.”\n",
      "Warning message in pre_process_did(yname = yname, tname = tname, idname = idname, :\n",
      "“Dropped 379 units that were already treated in the first period.”\n",
      "Warning message in pre_process_did(yname = yname, tname = tname, idname = idname, :\n",
      "“Be aware that there are some small groups in your dataset.\n",
      "  Check groups: 2014.”\n"
     ]
    },
    {
     "name": "stdout",
     "output_type": "stream",
     "text": [
      "[1] \"Union\"\n"
     ]
    },
    {
     "name": "stderr",
     "output_type": "stream",
     "text": [
      "Warning message in pre_process_did(yname = yname, tname = tname, idname = idname, :\n",
      "“Dropped 56 units that were already treated in the first period.”\n",
      "Warning message in pre_process_did(yname = yname, tname = tname, idname = idname, :\n",
      "“Dropped 237 units that were already treated in the first period.”\n",
      "Warning message in pre_process_did(yname = yname, tname = tname, idname = idname, :\n",
      "“Dropped 335 units that were already treated in the first period.”\n",
      "Warning message in pre_process_did(yname = yname, tname = tname, idname = idname, :\n",
      "“Dropped 379 units that were already treated in the first period.”\n",
      "Warning message in pre_process_did(yname = yname, tname = tname, idname = idname, :\n",
      "“Be aware that there are some small groups in your dataset.\n",
      "  Check groups: 2014.”\n"
     ]
    },
    {
     "name": "stdout",
     "output_type": "stream",
     "text": [
      "[1] \"SPD\"\n"
     ]
    },
    {
     "name": "stderr",
     "output_type": "stream",
     "text": [
      "Warning message in pre_process_did(yname = yname, tname = tname, idname = idname, :\n",
      "“Dropped 56 units that were already treated in the first period.”\n",
      "Warning message in pre_process_did(yname = yname, tname = tname, idname = idname, :\n",
      "“Dropped 237 units that were already treated in the first period.”\n",
      "Warning message in pre_process_did(yname = yname, tname = tname, idname = idname, :\n",
      "“Dropped 335 units that were already treated in the first period.”\n",
      "Warning message in pre_process_did(yname = yname, tname = tname, idname = idname, :\n",
      "“Dropped 379 units that were already treated in the first period.”\n",
      "Warning message in pre_process_did(yname = yname, tname = tname, idname = idname, :\n",
      "“Be aware that there are some small groups in your dataset.\n",
      "  Check groups: 2014.”\n"
     ]
    },
    {
     "name": "stdout",
     "output_type": "stream",
     "text": [
      "[1] \"FDP\"\n"
     ]
    },
    {
     "name": "stderr",
     "output_type": "stream",
     "text": [
      "Warning message in pre_process_did(yname = yname, tname = tname, idname = idname, :\n",
      "“Dropped 56 units that were already treated in the first period.”\n",
      "Warning message in pre_process_did(yname = yname, tname = tname, idname = idname, :\n",
      "“Dropped 237 units that were already treated in the first period.”\n",
      "Warning message in pre_process_did(yname = yname, tname = tname, idname = idname, :\n",
      "“Dropped 335 units that were already treated in the first period.”\n",
      "Warning message in pre_process_did(yname = yname, tname = tname, idname = idname, :\n",
      "“Dropped 379 units that were already treated in the first period.”\n",
      "Warning message in pre_process_did(yname = yname, tname = tname, idname = idname, :\n",
      "“Be aware that there are some small groups in your dataset.\n",
      "  Check groups: 2014.”\n"
     ]
    },
    {
     "name": "stdout",
     "output_type": "stream",
     "text": [
      "[1] \"Linke\"\n"
     ]
    },
    {
     "name": "stderr",
     "output_type": "stream",
     "text": [
      "Warning message in pre_process_did(yname = yname, tname = tname, idname = idname, :\n",
      "“Dropped 56 units that were already treated in the first period.”\n",
      "Warning message in pre_process_did(yname = yname, tname = tname, idname = idname, :\n",
      "“Dropped 237 units that were already treated in the first period.”\n",
      "Warning message in pre_process_did(yname = yname, tname = tname, idname = idname, :\n",
      "“Dropped 335 units that were already treated in the first period.”\n",
      "Warning message in pre_process_did(yname = yname, tname = tname, idname = idname, :\n",
      "“Dropped 379 units that were already treated in the first period.”\n",
      "Warning message in pre_process_did(yname = yname, tname = tname, idname = idname, :\n",
      "“Be aware that there are some small groups in your dataset.\n",
      "  Check groups: 2014.”\n"
     ]
    },
    {
     "name": "stdout",
     "output_type": "stream",
     "text": [
      "[1] \"Grüne\"\n"
     ]
    },
    {
     "name": "stderr",
     "output_type": "stream",
     "text": [
      "Warning message in pre_process_did(yname = yname, tname = tname, idname = idname, :\n",
      "“Dropped 56 units that were already treated in the first period.”\n",
      "Warning message in pre_process_did(yname = yname, tname = tname, idname = idname, :\n",
      "“Dropped 237 units that were already treated in the first period.”\n",
      "Warning message in pre_process_did(yname = yname, tname = tname, idname = idname, :\n",
      "“Dropped 335 units that were already treated in the first period.”\n",
      "Warning message in pre_process_did(yname = yname, tname = tname, idname = idname, :\n",
      "“Dropped 379 units that were already treated in the first period.”\n",
      "Warning message in pre_process_did(yname = yname, tname = tname, idname = idname, :\n",
      "“Be aware that there are some small groups in your dataset.\n",
      "  Check groups: 2014.”\n"
     ]
    },
    {
     "name": "stdout",
     "output_type": "stream",
     "text": [
      "[1] \"Andere\"\n"
     ]
    }
   ],
   "source": [
    "parties <- c('Union', 'SPD', 'FDP', 'Linke', 'Grüne', 'Andere')\n",
    "treatments_dict <- hash('treatment_0'='Direct Line', 'treatment_15'='Within 15km', 'treatment_30'='Within 30km', 'treatment_50'='Within 50km')\n",
    "states_dict <- hash('NI'='Lower Saxony (NI)', 'NW'='North-Rhine Westphalia (NRW)', 'HE'='Hesse (HE)', 'BY'='Bavaria (BY)')\n",
    "treatments <- keys(treatments_dict)\n",
    "states <- keys(states_dict)\n",
    "results  <- list()\n",
    "for (state in states){\n",
    "  for(party in parties){\n",
    "    figures  <- list()\n",
    "    reg_data <- subset(ltw_c, Land == state)\n",
    "    for(treatment in treatments){\n",
    "      result <- att_gt(yname = party,\n",
    "                    gname = treatment,\n",
    "                    idname = 'AGS',\n",
    "                    panel = TRUE,\n",
    "                    tname = 'year',\n",
    "                    xformla = ~ pop_density + unemployed + avg_age + female,\n",
    "                    data = reg_data,\n",
    "                    est_method = 'reg',\n",
    "                    anticipation = 0,\n",
    "                    control_group = 'nevertreated',\n",
    "                    clustervars = c('AGS'),\n",
    "                    bstrap = TRUE,\n",
    "                    cband = TRUE,\n",
    "                    allow_unbalanced_panel = TRUE,\n",
    "                    \n",
    "      )\n",
    "      att <- aggte(result, type = \"simple\", bstrap = TRUE, clustervars = c('AGS'))\n",
    "\n",
    "      figures[[length(figures)+1]] <- ggdid(result, \n",
    "                ylim = c(floor(min(result$att - result$se * 2.345 - 1)), ceiling(max(result$att + result$se * 2.345 + 1))),\n",
    "                title = (sprintf('%s', treatments_dict[[treatment]])),\n",
    "                ncol = 3, lab_size = 10\n",
    "                ) +\n",
    "                labs(caption = sprintf('Overall ATT (SE): %.3f (%.3f) \\n P-value for pre-test of parallel trends assumption: %.3f \\n # Obs.: %s'\n",
    "                , att$overall.att, att$overall.se, result$Wpval, result$n)) +\n",
    "                theme(plot.caption = element_text(hjust=0.5))\n",
    "      \n",
    "      results[[length(results)+1]] <- result\n",
    "    }\n",
    "    arranged_fig <- ggarrange(plotlist=figures, nrow = 4, ncol = 1, common.legend = TRUE, legend = 'bottom')\n",
    "    final_fig <- annotate_figure(arranged_fig,\n",
    "                    top = text_grob(sprintf(\"%s \\n Effect on %s's vote share\", states_dict[[state]], party), face = \"bold\", size = 14),\n",
    "                    bottom = text_grob('Control Group: Never Treated. Estimation Method: Regression', size = 10),)\n",
    "    ggsave(sprintf('%s_%s.png', state, party), plot = final_fig, path = sprintf('%s/figures/R/LTW/by_state_controls', path), units = 'cm', width = 21, height = 29.7, dpi=\"print\")\n",
    "    print(party)\n",
    "  }\n",
    "}"
   ]
  },
  {
   "cell_type": "code",
   "execution_count": 20,
   "metadata": {
    "vscode": {
     "languageId": "r"
    }
   },
   "outputs": [
    {
     "data": {
      "text/plain": [
       "\n",
       "Call:\n",
       "aggte(MP = result, type = \"group\", bstrap = TRUE, clustervars = c(\"AGS\", \n",
       "    \"state_id\"))\n",
       "\n",
       "Reference: Callaway, Brantly and Pedro H.C. Sant'Anna.  \"Difference-in-Differences with Multiple Time Periods.\" Journal of Econometrics, Vol. 225, No. 2, pp. 200-230, 2021. <https://doi.org/10.1016/j.jeconom.2020.12.001>, <https://arxiv.org/abs/1803.09015> \n",
       "\n",
       "\n",
       "Overall summary of ATT's based on group/cohort aggregation:  \n",
       "    ATT    Std. Error     [ 95%  Conf. Int.] \n",
       " -1.583        2.0292    -5.5601      2.3941 \n",
       "\n",
       "\n",
       "Group Effects:\n",
       " Group Estimate Std. Error [95% Simult.  Conf. Band] \n",
       "  2005  -1.5059     1.7572       -5.0305      2.0188 \n",
       "  2010  -2.1039     1.6440       -5.4016      1.1937 \n",
       "  2014  -1.0626     3.3286       -7.7393      5.6140 \n",
       "---\n",
       "Signif. codes: `*' confidence band does not cover 0\n",
       "\n",
       "Control Group:  Never Treated,  Anticipation Periods:  0\n",
       "Estimation Method:  Outcome Regression"
      ]
     },
     "metadata": {},
     "output_type": "display_data"
    }
   ],
   "source": [
    "('ATT(SE): %.3f (%.3f) ATT(SE): %.3f (%.3f) ATT(SE): %.3f (%.3f) \\n +\n",
    "              P-value for pre-test of parallel trends assumption: %.3f', + \n",
    "              att$att.egt[1], att$se.egt[1], att$att.egt[2], att$att.se[2], att$att.egt[3], att$se.egt[3], result$Wpval)"
   ]
  }
 ],
 "metadata": {
  "kernelspec": {
   "display_name": "R",
   "language": "R",
   "name": "ir"
  },
  "language_info": {
   "codemirror_mode": "r",
   "file_extension": ".r",
   "mimetype": "text/x-r-source",
   "name": "R",
   "pygments_lexer": "r",
   "version": "4.2.1"
  },
  "orig_nbformat": 4
 },
 "nbformat": 4,
 "nbformat_minor": 2
}
