{
 "cells": [
  {
   "cell_type": "markdown",
   "metadata": {},
   "source": [
    "First, import needed modules"
   ]
  },
  {
   "cell_type": "code",
   "execution_count": 1,
   "metadata": {},
   "outputs": [],
   "source": [
    "import numpy as np\n",
    "import pandas as pd\n",
    "import matplotlib.pyplot as plt\n",
    "from sklearn.linear_model import LinearRegression\n",
    "import statsmodels.api as sm\n",
    "import statsmodels.formula.api as smf\n",
    "from stargazer.stargazer import Stargazer\n",
    "from IPython.core.display import HTML\n",
    "import os"
   ]
  },
  {
   "cell_type": "markdown",
   "metadata": {},
   "source": [
    "Initalize variables"
   ]
  },
  {
   "cell_type": "code",
   "execution_count": 2,
   "metadata": {},
   "outputs": [
    {
     "name": "stdout",
     "output_type": "stream",
     "text": [
      "/Users/jan/Dropbox/UP_EPQM/2222/MA/powerlinemonsters\n"
     ]
    }
   ],
   "source": [
    "path = os.getcwd()\n",
    "print(path)"
   ]
  },
  {
   "cell_type": "markdown",
   "metadata": {},
   "source": [
    "Import datasets"
   ]
  },
  {
   "cell_type": "code",
   "execution_count": 133,
   "metadata": {},
   "outputs": [],
   "source": [
    "btw = pd.read_csv(f'{path}/data/btw_treat.csv', encoding = 'UTF-8-SIG', sep=',')\n",
    "#data = data.set_index(['AGS', 'year'])\n",
    "btw = btw[btw[\"vote_type\"] == 'office']"
   ]
  },
  {
   "cell_type": "markdown",
   "metadata": {},
   "source": [
    "Split data in Erst- and Zweitstimme"
   ]
  },
  {
   "cell_type": "code",
   "execution_count": 134,
   "metadata": {},
   "outputs": [],
   "source": [
    "erst = btw[btw['first_vote'] == 1]\n",
    "zweit = btw[btw['second_vote'] == 1]"
   ]
  },
  {
   "cell_type": "code",
   "execution_count": 135,
   "metadata": {},
   "outputs": [
    {
     "data": {
      "text/plain": [
       "Index(['AGS', 'GEN', 'year', 'Land', 'state_id', 'post_2005', 'post_2009',\n",
       "       'post_2013', 'post_2017', 'first_vote', 'second_vote', 'vote_type',\n",
       "       'Wähler', 'Gültig', 'Union', 'SPD', 'FDP', 'Linke', 'Grüne', 'Andere',\n",
       "       'treatment', 'treated_0', 'treated_10', 'treated_20', 'treated_30',\n",
       "       'treated_50', 'treated_100'],\n",
       "      dtype='object')"
      ]
     },
     "execution_count": 135,
     "metadata": {},
     "output_type": "execute_result"
    }
   ],
   "source": [
    "erst.columns"
   ]
  },
  {
   "cell_type": "markdown",
   "metadata": {},
   "source": [
    "Statsmodels"
   ]
  },
  {
   "cell_type": "markdown",
   "metadata": {},
   "source": [
    "Define a function for regression models"
   ]
  },
  {
   "cell_type": "code",
   "execution_count": 144,
   "metadata": {},
   "outputs": [],
   "source": [
    "from unittest import result\n",
    "\n",
    "\n",
    "def regression(post, dataset, vote_type):\n",
    "    tables = []\n",
    "    results = {}\n",
    "    treatment_dummies = ['treated_0', 'treated_10', 'treated_20', 'treated_30', 'treated_50', 'treated_100']\n",
    "    parties = ['Union',\t'SPD', 'FDP', 'Linke', 'Grüne', 'Andere']\n",
    "    post_dummies = {'post_2005': 'between 2002 and 2005', 'post_2009': 'between 2005 and 2009', 'post_2013': 'between 2009 and 2013', 'post_2017': 'between 2013 and 2017'}\n",
    "    for treatment in treatment_dummies:\n",
    "        for party in parties:\n",
    "            results[party] = smf.ols(f'{party} ~ {treatment}*{post}', data=dataset).fit(cov_type='cluster', cov_kwds={'groups': np.array(dataset['AGS'])}, missing='drop')\n",
    "        stargazer = Stargazer([results['Union'], results['SPD'], results['FDP'], results['Linke'], results['Grüne'], results['Andere']])\n",
    "        distance = treatment.strip('treated_')\n",
    "        #stargazer.title(f'Effect on Primary Vote, Municipalities within {distance} km of a powerline project, treatment between 2013 and 2017')\n",
    "        stargazer.title(f'Effect on {vote_type} Vote, treatment {post_dummies[post]}')\n",
    "        stargazer.custom_columns(['Union',\t'SPD', 'FDP', 'Linke', 'Grüne', 'Andere'], [1, 1, 1, 1, 1, 1])\n",
    "        stargazer.significant_digits(3)\n",
    "        #stargazer.covariate_order(covar_order)\n",
    "        #stargazer.rename_covariates(covar_names)\n",
    "        stargazer.show_model_numbers(False)\n",
    "        #stargazer.add_custom_notes(['First note', 'Second note'])\n",
    "        #stargazer.add_line('State dummies', ['Yes', 'Yes', 'Yes', 'Yes', 'Yes', 'Yes', ])\n",
    "        table = stargazer.render_latex()\n",
    "        tables.append(table)\n",
    "    return tables"
   ]
  },
  {
   "cell_type": "markdown",
   "metadata": {},
   "source": [
    "Define a function to export tables in one .tex dok"
   ]
  },
  {
   "cell_type": "code",
   "execution_count": 150,
   "metadata": {},
   "outputs": [],
   "source": [
    "def tab_to_tex(name, tables):\n",
    "    table_parts = []\n",
    "    with open(f'{path}/tables/btw/{name}.tex', 'w') as f:\n",
    "        header = r'\\documentclass[12pt]{article}' + '\\n' + r'\\usepackage[a1paper]{geometry}' + '\\n' + r'\\begin{document}' + '\\n \\n'\n",
    "        f.write(header)\n",
    "        for index, table in enumerate(tables, start=1): \n",
    "            table = table.replace('t_', 't')\n",
    "            table = table.replace('d_', 'd')\n",
    "            table = table.replace('0:p', '0*p')\n",
    "            lines = r'\\hline \\\\[-1.8ex]'\n",
    "            table_parts = table.split(lines)\n",
    "            if index == 1:\n",
    "                f.write(table_parts[0] + lines +  table_parts[1] + lines + table_parts[2] + lines)\n",
    "            elif index < len(tables):\n",
    "                f.write(table_parts[2] + lines)\n",
    "            elif index == len(tables):\n",
    "                f.write(table_parts[2] + lines + table_parts[3] + lines + table_parts[4])\n",
    "        closer = '\\n' + r'\\end{document}'\n",
    "        f.write(closer)"
   ]
  },
  {
   "cell_type": "markdown",
   "metadata": {},
   "source": [
    "DiD for Treatment between 2013 and 2017"
   ]
  },
  {
   "cell_type": "code",
   "execution_count": 149,
   "metadata": {},
   "outputs": [],
   "source": [
    "post = 'post_2017'\n",
    "# primary vote\n",
    "erst17_tables = regression(post, erst, 'Primary')\n",
    "tab_to_tex('2017_erst', erst17_tables)\n",
    "# secondary vote \n",
    "zweit17_tables = regression(post, zweit, 'Secondary')\n",
    "tab_to_tex('2017_zweit', zweit17_tables)"
   ]
  },
  {
   "cell_type": "markdown",
   "metadata": {},
   "source": [
    "Placebo DiD for treatments between 2005 and 2009"
   ]
  },
  {
   "cell_type": "code",
   "execution_count": 146,
   "metadata": {},
   "outputs": [],
   "source": [
    "# Drop all observations after the treatment\n",
    "erst_pl = erst[erst['year'] <= 2013]\n",
    "zweit_pl = zweit[zweit['year'] <= 2013]"
   ]
  },
  {
   "cell_type": "code",
   "execution_count": 147,
   "metadata": {},
   "outputs": [],
   "source": [
    "post = 'post_2009'\n",
    "erst09_tables = regression(post, erst_pl, 'Primary')\n",
    "tab_to_tex('2009_erst', erst09_tables)\n",
    "zweit09_tables = regression(post, zweit_pl, 'Secondary')\n",
    "tab_to_tex('2009_zweit', zweit09_tables)"
   ]
  },
  {
   "cell_type": "code",
   "execution_count": null,
   "metadata": {},
   "outputs": [],
   "source": []
  },
  {
   "cell_type": "markdown",
   "metadata": {},
   "source": [
    "Placebo DiD for treatments between 2005 and 2009 with controls and fixed effects"
   ]
  }
 ],
 "metadata": {
  "kernelspec": {
   "display_name": "Python 3.10.4 ('vscode')",
   "language": "python",
   "name": "python3"
  },
  "language_info": {
   "codemirror_mode": {
    "name": "ipython",
    "version": 3
   },
   "file_extension": ".py",
   "mimetype": "text/x-python",
   "name": "python",
   "nbconvert_exporter": "python",
   "pygments_lexer": "ipython3",
   "version": "3.10.4"
  },
  "orig_nbformat": 4,
  "vscode": {
   "interpreter": {
    "hash": "656f4cd1472b14b513faaa63bd5e4a7577d125de6a277113d4e82c4085557d3e"
   }
  }
 },
 "nbformat": 4,
 "nbformat_minor": 2
}
