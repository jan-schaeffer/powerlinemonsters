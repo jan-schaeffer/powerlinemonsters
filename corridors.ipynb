{
 "cells": [
  {
   "cell_type": "markdown",
   "metadata": {},
   "source": [
    "First, import needed modules"
   ]
  },
  {
   "cell_type": "code",
   "execution_count": null,
   "metadata": {},
   "outputs": [],
   "source": [
    "import numpy as np\n",
    "import pandas as pd\n",
    "import geopandas as gpd\n",
    "from geopandas.tools import geocode\n",
    "from shapely.geometry import Point, LineString, Polygon\n",
    "import shapely.speedups\n",
    "from geopy.geocoders import Nominatim\n",
    "import os"
   ]
  },
  {
   "cell_type": "markdown",
   "metadata": {},
   "source": [
    "Initalize variables"
   ]
  },
  {
   "cell_type": "code",
   "execution_count": null,
   "metadata": {},
   "outputs": [],
   "source": [
    "path = os.getcwd()\n",
    "path"
   ]
  },
  {
   "cell_type": "markdown",
   "metadata": {},
   "source": [
    "Load Dataset which has the endpoints of power line projects"
   ]
  },
  {
   "cell_type": "code",
   "execution_count": null,
   "metadata": {},
   "outputs": [],
   "source": [
    "powerlines = pd.read_csv(f'{path}/data/geodata/powerlines.csv', sep=';')\n",
    "#powerlines = powerlines.set_index(\"# BBPlG 2013\", drop = False)\n",
    "powerlines.head()"
   ]
  },
  {
   "cell_type": "markdown",
   "metadata": {},
   "source": [
    "Note: Int_Start and Int_End indicate whether a point was added to keep the direct line between points in Germany's boundaries\n",
    "      Short indicates whether lines are < 20 km --> They are later dropped from the analysis"
   ]
  },
  {
   "cell_type": "markdown",
   "metadata": {},
   "source": [
    "Get the geocoordinates of the 'endpoint' cities using OSM/Nominatim API"
   ]
  },
  {
   "cell_type": "code",
   "execution_count": null,
   "metadata": {},
   "outputs": [],
   "source": [
    "start_locations = geocode(powerlines['Start'], provider='nominatim', user_agent='plm', timeout=4)\n",
    "start_locations"
   ]
  },
  {
   "cell_type": "code",
   "execution_count": null,
   "metadata": {},
   "outputs": [],
   "source": [
    "end_locations = geocode(powerlines['End'], provider='nominatim', user_agent='plm', timeout=4)\n",
    "end_locations"
   ]
  },
  {
   "cell_type": "markdown",
   "metadata": {},
   "source": [
    "Create shapefiles from the start and endpoints dfs"
   ]
  },
  {
   "cell_type": "code",
   "execution_count": null,
   "metadata": {},
   "outputs": [],
   "source": [
    "powerlines_geo_start = start_locations.join(powerlines, how = 'left')\n",
    "powerlines_geo_start = powerlines_geo_start[['#BBPlG', 'Start', 'geometry', 'New', 'Retro', 'Int_start']]\n",
    "powerlines_geo_start = powerlines_geo_start.to_crs(epsg=25832)\n",
    "powerlines_geo_start.to_file(f'{path}/data/geodata/startpoints.shp')\n",
    "powerlines_geo_start.head()"
   ]
  },
  {
   "cell_type": "code",
   "execution_count": null,
   "metadata": {},
   "outputs": [],
   "source": [
    "powerlines_geo_end = end_locations.join(powerlines, how = 'left')\n",
    "powerlines_geo_end = powerlines_geo_end[['#BBPlG', 'End', 'geometry', 'New', 'Retro', 'Int_end']]\n",
    "powerlines_geo_end = powerlines_geo_end.to_crs(epsg=25832) #convert CRS to match BKG data\n",
    "powerlines_geo_end.to_file(f'{path}/data/geodata/endpoints.shp')\n",
    "powerlines_geo_end.head()"
   ]
  },
  {
   "cell_type": "markdown",
   "metadata": {},
   "source": [
    "Create powerlines_geo dataset by merging start and endpoints with the powerlines df"
   ]
  },
  {
   "cell_type": "code",
   "execution_count": null,
   "metadata": {},
   "outputs": [],
   "source": [
    "powerlines_geo = start_locations.join(powerlines, how = 'left')\n",
    "powerlines_geo.rename(columns = {'geometry':'Start_geometry', 'address':'Start_address'}, inplace = True)\n",
    "powerlines_geo = end_locations.join(powerlines_geo, how = 'left')\n",
    "powerlines_geo.rename(columns = {'geometry':'End_geometry', 'address':'End_address'}, inplace = True)\n",
    "powerlines_geo.head()"
   ]
  },
  {
   "cell_type": "markdown",
   "metadata": {},
   "source": [
    "Create direct line from start and end coordinates"
   ]
  },
  {
   "cell_type": "code",
   "execution_count": null,
   "metadata": {},
   "outputs": [],
   "source": [
    "try:\n",
    "    powerlines_geo.insert(loc=0, column='direct_line', value=0)\n",
    "except Exception:\n",
    "    pass\n",
    "for i in range (0, len(powerlines_geo)):\n",
    "    start = powerlines_geo['Start_geometry'].loc[powerlines_geo.index[i]]\n",
    "    end = powerlines_geo['End_geometry'].loc[powerlines_geo.index[i]]\n",
    "    powerlines_geo.loc[powerlines_geo.index[i], 'direct_line'] = LineString([start, end])\n",
    "powerlines_geo.head()"
   ]
  },
  {
   "cell_type": "markdown",
   "metadata": {},
   "source": [
    "Export shapefile"
   ]
  },
  {
   "cell_type": "code",
   "execution_count": null,
   "metadata": {},
   "outputs": [],
   "source": [
    "powerlines_geo.rename(columns = {'direct_line':'geometry'}, inplace = True)\n",
    "powerlines_geo = powerlines_geo.reindex(columns=['#BBPlG', 'Start', 'End', 'geometry', 'New', 'Retro', 'Short'])\n",
    "powerlines_geo = powerlines_geo.set_crs(epsg=4326)\n",
    "powerlines_geo = powerlines_geo.to_crs(epsg=25832)\n",
    "powerlines_geo.to_file(f'{path}/data/geodata/powerlines.shp')\n",
    "powerlines_geo.head()"
   ]
  }
 ],
 "metadata": {
  "interpreter": {
   "hash": "88be3cbefcf0764a65175a6561fd304411aaded24422f3185dd5fe11d8fe4862"
  },
  "kernelspec": {
   "display_name": "Python 3.9.12 ('vscode')",
   "language": "python",
   "name": "python3"
  },
  "language_info": {
   "codemirror_mode": {
    "name": "ipython",
    "version": 3
   },
   "file_extension": ".py",
   "mimetype": "text/x-python",
   "name": "python",
   "nbconvert_exporter": "python",
   "pygments_lexer": "ipython3",
   "version": "3.10.4"
  },
  "orig_nbformat": 4
 },
 "nbformat": 4,
 "nbformat_minor": 2
}
